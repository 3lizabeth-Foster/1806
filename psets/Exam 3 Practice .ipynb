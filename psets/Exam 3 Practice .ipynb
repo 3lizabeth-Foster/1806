{
 "cells": [
  {
   "cell_type": "markdown",
   "metadata": {},
   "source": [
    "Exam 3 practice under construction.\n",
    "\n",
    "We will perform Julia computations for you.  You will not need the computer to solve any problems. "
   ]
  },
  {
   "cell_type": "markdown",
   "metadata": {},
   "source": [
    "(1) Let $E_n$ by the symmetric tridiagonal ones matrix.  For example"
   ]
  },
  {
   "cell_type": "code",
   "execution_count": 1,
   "metadata": {},
   "outputs": [
    {
     "data": {
      "text/plain": [
       "5×5 SymTridiagonal{Int64,Array{Int64,1}}:\n",
       " 1  1  ⋅  ⋅  ⋅\n",
       " 1  1  1  ⋅  ⋅\n",
       " ⋅  1  1  1  ⋅\n",
       " ⋅  ⋅  1  1  1\n",
       " ⋅  ⋅  ⋅  1  1"
      ]
     },
     "execution_count": 1,
     "metadata": {},
     "output_type": "execute_result"
    }
   ],
   "source": [
    "using LinearAlgebra\n",
    "E(n) = SymTridiagonal(ones(Int,n),ones(Int,n-1))\n",
    "\n",
    "E(5)"
   ]
  },
  {
   "cell_type": "markdown",
   "metadata": {},
   "source": [
    "(1a) When n=5, column 1 plus column 4 is the \"ones\" vector.  Find two other columns that add to the ones vector.\n",
    "What is the determinant of $E_5$? and provide one  eigenvalue and corresponding eigenvector of $E_5$."
   ]
  },
  {
   "cell_type": "markdown",
   "metadata": {},
   "source": [
    "(1b) Is $E_5$ diagonalizible?  Why or why not?"
   ]
  },
  {
   "cell_type": "markdown",
   "metadata": {},
   "source": [
    "(1c) Is the cofactor matrix of $E_n$ symmetric for all n?  Why or why not?"
   ]
  },
  {
   "cell_type": "code",
   "execution_count": 4,
   "metadata": {},
   "outputs": [
    {
     "data": {
      "text/plain": [
       "6×6 SymTridiagonal{Int64,Array{Int64,1}}:\n",
       " 1  1  ⋅  ⋅  ⋅  ⋅\n",
       " 1  1  1  ⋅  ⋅  ⋅\n",
       " ⋅  1  1  1  ⋅  ⋅\n",
       " ⋅  ⋅  1  1  1  ⋅\n",
       " ⋅  ⋅  ⋅  1  1  1\n",
       " ⋅  ⋅  ⋅  ⋅  1  1"
      ]
     },
     "execution_count": 4,
     "metadata": {},
     "output_type": "execute_result"
    }
   ],
   "source": [
    "E(6)"
   ]
  },
  {
   "cell_type": "markdown",
   "metadata": {},
   "source": [
    "(1d) What is the determinant of $E_6$? What is the volume of the image of the unit cube: <br>\n",
    "    $\\{ E_6x, x\\in R^6,  0 \\le x_i \\le 1 \\}$"
   ]
  },
  {
   "cell_type": "code",
   "execution_count": 2,
   "metadata": {},
   "outputs": [
    {
     "data": {
      "text/plain": [
       "8×8 SymTridiagonal{Int64,Array{Int64,1}}:\n",
       " 1  1  ⋅  ⋅  ⋅  ⋅  ⋅  ⋅\n",
       " 1  1  1  ⋅  ⋅  ⋅  ⋅  ⋅\n",
       " ⋅  1  1  1  ⋅  ⋅  ⋅  ⋅\n",
       " ⋅  ⋅  1  1  1  ⋅  ⋅  ⋅\n",
       " ⋅  ⋅  ⋅  1  1  1  ⋅  ⋅\n",
       " ⋅  ⋅  ⋅  ⋅  1  1  1  ⋅\n",
       " ⋅  ⋅  ⋅  ⋅  ⋅  1  1  1\n",
       " ⋅  ⋅  ⋅  ⋅  ⋅  ⋅  1  1"
      ]
     },
     "execution_count": 2,
     "metadata": {},
     "output_type": "execute_result"
    }
   ],
   "source": [
    "E(8)"
   ]
  },
  {
   "cell_type": "markdown",
   "metadata": {},
   "source": [
    "(1e) It turns out that for $n=2,5,8,11,14$ $E_n$ is singular.  Find an eigenvector of $E_n$ for all such $n$."
   ]
  },
  {
   "cell_type": "markdown",
   "metadata": {},
   "source": [
    "(1f) What is the sum of the eigenvalues of $E_n$ for all n?"
   ]
  },
  {
   "cell_type": "markdown",
   "metadata": {},
   "source": [
    "When n=7, we can compute $E_n^2$:"
   ]
  },
  {
   "cell_type": "code",
   "execution_count": 5,
   "metadata": {},
   "outputs": [
    {
     "data": {
      "text/plain": [
       "7×7 Array{Int64,2}:\n",
       " 2  2  1  0  0  0  0\n",
       " 2  3  2  1  0  0  0\n",
       " 1  2  3  2  1  0  0\n",
       " 0  1  2  3  2  1  0\n",
       " 0  0  1  2  3  2  1\n",
       " 0  0  0  1  2  3  2\n",
       " 0  0  0  0  1  2  2"
      ]
     },
     "execution_count": 5,
     "metadata": {},
     "output_type": "execute_result"
    }
   ],
   "source": [
    "E(7)^2"
   ]
  },
  {
   "cell_type": "markdown",
   "metadata": {},
   "source": [
    "(1g) What is the sum of the squares of the eigenvalues of $E_8$? Generalize for all n. Explain."
   ]
  },
  {
   "cell_type": "code",
   "execution_count": 8,
   "metadata": {},
   "outputs": [
    {
     "data": {
      "text/plain": [
       "7×7 Array{Int64,2}:\n",
       "  1   0  -1   1   0  -1   1\n",
       "  0   0   1  -1   0   1  -1\n",
       " -1   1   0   0   0   0   0\n",
       "  1  -1   0   1   0  -1   1\n",
       "  0   0   0   0   0   1  -1\n",
       " -1   1   0  -1   1   0   0\n",
       "  1  -1   0   1  -1   0   1"
      ]
     },
     "execution_count": 8,
     "metadata": {},
     "output_type": "execute_result"
    }
   ],
   "source": [
    "inv(E(7))"
   ]
  },
  {
   "cell_type": "markdown",
   "metadata": {},
   "source": [
    "(1h) Use the above computation to say what is the sum of the reciprocals of the eigenvalues of $E_7$?"
   ]
  },
  {
   "cell_type": "code",
   "execution_count": null,
   "metadata": {},
   "outputs": [],
   "source": []
  }
 ],
 "metadata": {
  "@webio": {
   "lastCommId": null,
   "lastKernelId": null
  },
  "kernelspec": {
   "display_name": "Julia 1.0.0",
   "language": "julia",
   "name": "julia-1.0"
  },
  "language_info": {
   "file_extension": ".jl",
   "mimetype": "application/julia",
   "name": "julia",
   "version": "1.0.0"
  }
 },
 "nbformat": 4,
 "nbformat_minor": 2
}
