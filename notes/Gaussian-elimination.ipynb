{
 "cells": [
  {
   "cell_type": "markdown",
   "metadata": {},
   "source": [
    "# Gaussian elimination\n",
    "\n",
    "This Julia notebook allows us to interactively visualize the process of Gaussian elimination.\n",
    "\n",
    "Recall that the process of [Gaussian elimination](https://en.wikipedia.org/wiki/Gaussian_elimination) involves subtracting rows to turn a matrix $A$ into an [upper triangular matrix](https://en.wikipedia.org/wiki/Triangular_matrix) $U$.  Often we *augment* the matrix with an additional column, representing the right-hand side $b$ of a system of equations $Ax=b$ that we want to solve: by doing the same row operations to both $A$ and $b$, we arrive at an equivalent equation $Ux=c$ that is easy to solve by *backsubstitution* (solving for one variable at a time, working from the last row to the top row).\n",
    "\n",
    "For example, suppose we are solving:\n",
    "\n",
    "$$\n",
    "Ax = \n",
    "\\begin{pmatrix}\n",
    "1 & 3 & 1  \\\\\n",
    "1 & 1 & -1  \\\\\n",
    "3 & 11 & 6 \n",
    "\\end{pmatrix} x = \n",
    "\\begin{pmatrix}\n",
    "9 \\\\\n",
    "1 \\\\\n",
    "35\n",
    "\\end{pmatrix} = b\n",
    "$$\n",
    "\n",
    "We would perform the following elimination process.\n",
    "\n",
    "$$\n",
    "\\left[\\begin{array}{rrr|r}\n",
    "\\boxed{1} & 3 & 1 & 9 \\\\\n",
    "1 & 1 & -1 & 1 \\\\\n",
    "3 & 11 & 6 & 35\n",
    "\\end{array}\\right]\\to\n",
    "\\left[\\begin{array}{rrr|r}\n",
    "\\boxed{1} & 3 & 1 & 9 \\\\\n",
    "0 & \\boxed{-2} & -2 & -8 \\\\\n",
    "0 & 2 & 3 & 8\n",
    "\\end{array}\\right]\\to\n",
    "\\left[\\begin{array}{rrr|r}\n",
    "\\boxed{1} & 3 & 1 & 9 \\\\\n",
    "0 & \\boxed{-2} & -2 & -8 \\\\\n",
    "0 & 0 & \\boxed{1} & 0\n",
    "\\end{array}\\right]\n",
    "$$\n",
    "\n",
    "The boxed values are known as the **pivots**.  Now we do **backsubstitution**, working from the bottom up.  The last row is a single equation in a single unknown:\n",
    "\n",
    "$$\n",
    "1 x_3 = 0 \\implies x_3 = 0 .\n",
    "$$\n",
    "\n",
    "Now that we know $x_3$, the second row gives:\n",
    "\n",
    "$$\n",
    "-2x_2 - 2x_3 = -8 \\implies -2x_2 - 0 = -8 \\implies x_2 = 4 .\n",
    "$$\n",
    "\n",
    "Finally, now that we know $x_2$ and $x_3$, the first row gives:\n",
    "\n",
    "$$\n",
    "1 x_1 + 3 x_2 + 1x_3 = 9 \\implies x_1 + 12 + 0 = 9 \\implies x_1 = -3.\n",
    "$$\n",
    "\n",
    "It is much more fun to let the computer do the arithmetic than to crunch through it ourselves on the blackboard, but usually the computer does things *too* quickly (and it often does some re-ordering of the rows that makes it harder to follow what is going on).  For example, in Julia, we can solve the above system of equations by simply:"
   ]
  },
  {
   "cell_type": "code",
   "execution_count": 1,
   "metadata": {},
   "outputs": [
    {
     "data": {
      "text/plain": [
       "3×3 Matrix{Int64}:\n",
       " 1   3   1\n",
       " 1   1  -1\n",
       " 3  11   6"
      ]
     },
     "execution_count": 1,
     "metadata": {},
     "output_type": "execute_result"
    }
   ],
   "source": [
    "A = [1 3  1\n",
    "     1 1 -1\n",
    "     3 11 6]"
   ]
  },
  {
   "cell_type": "code",
   "execution_count": 2,
   "metadata": {},
   "outputs": [
    {
     "data": {
      "text/plain": [
       "3-element Vector{Int64}:\n",
       "  9\n",
       "  1\n",
       " 35"
      ]
     },
     "execution_count": 2,
     "metadata": {},
     "output_type": "execute_result"
    }
   ],
   "source": [
    "b = [9, 1, 35]"
   ]
  },
  {
   "cell_type": "code",
   "execution_count": 3,
   "metadata": {},
   "outputs": [
    {
     "data": {
      "text/plain": [
       "3-element Vector{Float64}:\n",
       " -2.9999999999999964\n",
       "  3.999999999999999\n",
       "  5.921189464667499e-16"
      ]
     },
     "execution_count": 3,
     "metadata": {},
     "output_type": "execute_result"
    }
   ],
   "source": [
    "x = A \\ b # solves Ax = b by (essentially) Gaussian elimination"
   ]
  },
  {
   "cell_type": "code",
   "execution_count": 4,
   "metadata": {},
   "outputs": [
    {
     "data": {
      "text/plain": [
       "3-element Vector{Float64}:\n",
       " -3.0000000000000013\n",
       "  4.000000000000001\n",
       " -6.661338147750939e-16"
      ]
     },
     "execution_count": 4,
     "metadata": {},
     "output_type": "execute_result"
    }
   ],
   "source": [
    "A^-1 * b"
   ]
  },
  {
   "cell_type": "markdown",
   "metadata": {},
   "source": [
    "## What's next?\n",
    "\n",
    "The basic Gaussian-elimination process is essentially the same as what you learned in 8th–9th grade algebra.   Where do we go from here?   There are several directions we would like to pursue in 18.06:\n",
    "\n",
    "* Zooming out and understanding this process *algebraically*: we want to think of elimination steps in terms of matrix operations (matrix products), and this will eventually lead us to viewing elimination as a *factorization* of the matrix A: the **LU factorization**.   This factorization is key to how Gaussian elimination is *actually used* in large problems, and it helps us *understand* A by breaking it into simpler matrices.\n",
    "\n",
    "* What happens if you encounter a zero pivot?\n",
    "  - At the simplest hand-calculation level, you just swap rows *if you can*, as reviewed below.   But in practical numerical calculations something more interesting happens — it turns out that you need to swap rows even if the pivots are nonzero!  This eventually leads us to a \"PA = LU\" factorization, which is critical if you actually want to *use* Gaussian elimination in real life.\n",
    "  - If you *can't* swap rows to get rid of a zero pivot, then the matrix is *singular*.  In high school, you typically just give up if the matrix is singular, but it turns out that there are lots of things to say about this case.\n",
    "  \n",
    "* How does this process scale?   It is good to understand what happens for $n \\times n$ matrices.  Is Gaussian elimination practical on a computer for $n = 1000$?  What about $n = 10^6$?"
   ]
  },
  {
   "cell_type": "markdown",
   "metadata": {},
   "source": [
    "## Row swaps\n",
    "\n",
    "Occasionally, we may encounter a zero in the pivot position.  Sometimes this means that the equations are **singular** (may have no solutions) — we will talk more about this later.  However, as long as there is a nonzero value *below* the pivot, we can fix the problem by **swapping rows** (which just corresponds to re-ordering the equations).\n",
    "\n",
    "For example:\n",
    "\n",
    "\n",
    "$$\n",
    "\\left[\\begin{array}{rrr|r}\n",
    "\\boxed{1} & 3 & 1 & 9 \\\\\n",
    "1 & 3 & -1 & 1 \\\\\n",
    "3 & 11 & 6 & 35\n",
    "\\end{array}\\right]\\to\n",
    "\\left[\\begin{array}{rrr|r}\n",
    "\\boxed{1} & 3 & 1 & 9 \\\\\n",
    "0 & 0 & -2 & -8 \\\\\n",
    "0 & 2 & 3 & 8\n",
    "\\end{array}\\right]\\to\n",
    "\\left[\\begin{array}{rrr|r}\n",
    "\\boxed{1} & 3 & 1 & 9 \\\\\n",
    "0 & \\boxed{2} & 3 & 8 \\\\\n",
    "0 & 0 & \\boxed{-2} & -8\n",
    "\\end{array}\\right]\n",
    "$$\n",
    "\n",
    "where in the second step we swapped the second and third rows to get a nonzero pivot in the second row.\n",
    "\n",
    "At this point we can again solve bottom-up by backsubstitution:\n",
    "\n",
    "$$\n",
    "-2x_3 = 8 \\implies x_3 = 4 \\\\\n",
    "2x_2 + 3x_3 = 8 = 2x_2 + 12 \\implies x_2 = -2 \\\\\n",
    "x_1 + 3x_2 + x_3 = 9 = x_1 -6 + 4 \\implies x_3 = 11\n",
    "$$\n",
    "\n",
    "Of course, the computer can get the answer much more quickly and easily:"
   ]
  },
  {
   "cell_type": "code",
   "execution_count": 5,
   "metadata": {},
   "outputs": [
    {
     "data": {
      "text/plain": [
       "3-element Vector{Float64}:\n",
       " 11.000000000000005\n",
       " -2.0000000000000013\n",
       "  4.0"
      ]
     },
     "execution_count": 5,
     "metadata": {},
     "output_type": "execute_result"
    }
   ],
   "source": [
    "[ 1 3  1\n",
    "  1 3 -1\n",
    "  3 11 6 ] \\\n",
    "[9\n",
    " 1\n",
    " 35]"
   ]
  },
  {
   "cell_type": "markdown",
   "metadata": {},
   "source": [
    "## “Big” matrices on the computer\n",
    "\n",
    "Of course, the computer can solve *much bigger problems* easily.  It can solve 1000 equations in 1000 unknowns in a fraction of a second — nowadays, that is no longer considered a \"big\" system of equations."
   ]
  },
  {
   "cell_type": "code",
   "execution_count": 6,
   "metadata": {},
   "outputs": [
    {
     "data": {
      "text/plain": [
       "1000×1000 Matrix{Float64}:\n",
       " 0.129274   0.860549   0.730942   …  0.311056    0.348835   0.53302\n",
       " 0.25397    0.189774   0.995488      0.172922    0.518547   0.521851\n",
       " 0.258256   0.699739   0.32384       0.754525    0.739905   0.237711\n",
       " 0.673637   0.232227   0.975471      0.310149    0.0970878  0.268773\n",
       " 0.937878   0.415502   0.291494      0.924563    0.993444   0.556895\n",
       " 0.739962   0.4249     0.127774   …  0.563671    0.519224   0.766709\n",
       " 0.748616   0.525156   0.935005      0.00856586  0.962081   0.596362\n",
       " 0.135274   0.956012   0.842772      0.298718    0.73722    0.080485\n",
       " 0.404873   0.968201   0.293048      0.319421    0.735434   0.906677\n",
       " 0.297174   0.277057   0.338471      0.728302    0.0758633  0.915815\n",
       " 0.710319   0.78278    0.600705   …  0.808347    0.852246   0.796989\n",
       " 0.513599   0.369826   0.215184      0.496114    0.882651   0.92077\n",
       " 0.711463   0.485598   0.274872      0.0349038   0.264058   0.37865\n",
       " ⋮                                ⋱                         \n",
       " 0.440371   0.393157   0.0058227     0.471997    0.459137   0.773075\n",
       " 0.0479304  0.574892   0.793269      0.991885    0.566473   0.443178\n",
       " 0.735237   0.197672   0.0777477  …  0.231445    0.0216261  0.267194\n",
       " 0.989616   0.843544   0.652725      0.416635    0.0318224  0.848498\n",
       " 0.72487    0.535634   0.798247      0.0582981   0.837987   0.100166\n",
       " 0.473848   0.82491    0.888374      0.451859    0.697285   0.678619\n",
       " 0.863073   0.281657   0.218784      0.603883    0.527731   0.781025\n",
       " 0.742458   0.0533784  0.0576743  …  0.231605    0.992926   0.0148779\n",
       " 0.962298   0.406741   0.19317       0.599141    0.616324   0.290577\n",
       " 0.433055   0.310522   0.571578      0.303633    0.581201   0.291006\n",
       " 0.924883   0.48591    0.744477      0.390712    0.0705139  0.817779\n",
       " 0.921233   0.0286037  0.308789      0.753292    0.287497   0.36485"
      ]
     },
     "execution_count": 6,
     "metadata": {},
     "output_type": "execute_result"
    }
   ],
   "source": [
    "Ahuge = rand(1000,1000)"
   ]
  },
  {
   "cell_type": "code",
   "execution_count": 7,
   "metadata": {},
   "outputs": [
    {
     "data": {
      "text/plain": [
       "1000-element Vector{Float64}:\n",
       " 0.3508843165085759\n",
       " 0.35446826170487955\n",
       " 0.1350089194532429\n",
       " 0.1771138882304406\n",
       " 0.3669784254687599\n",
       " 0.06609092393602878\n",
       " 0.36735933430891365\n",
       " 0.69483339233487\n",
       " 0.08785603414299992\n",
       " 0.14751979815390037\n",
       " 0.6881529075555736\n",
       " 0.09610870809758842\n",
       " 0.47146419002063666\n",
       " ⋮\n",
       " 0.5561842968874541\n",
       " 0.45788156910775335\n",
       " 0.3963656218762618\n",
       " 0.08461157414176079\n",
       " 0.7779944563463135\n",
       " 0.7890778114520753\n",
       " 0.6686087283982495\n",
       " 0.31234574573799845\n",
       " 0.8633532109451488\n",
       " 0.308473909311041\n",
       " 0.7829468603256927\n",
       " 0.8910323613480444"
      ]
     },
     "execution_count": 7,
     "metadata": {},
     "output_type": "execute_result"
    }
   ],
   "source": [
    "bhuge = rand(1000)"
   ]
  },
  {
   "cell_type": "code",
   "execution_count": 8,
   "metadata": {},
   "outputs": [
    {
     "data": {
      "text/plain": [
       "1000-element Vector{Float64}:\n",
       " -1.8539152161164996\n",
       " -0.9055884463394615\n",
       " -1.5660332964942787\n",
       "  0.9949212769248859\n",
       " -1.0117446423851009\n",
       " -0.1726767298709349\n",
       "  0.07444417708208503\n",
       "  1.1330908158937414\n",
       "  0.7553694672605477\n",
       "  1.8981425340782274\n",
       " -0.32255531090464157\n",
       " -3.0150180849056496\n",
       "  0.15550375604759034\n",
       "  ⋮\n",
       "  0.01837180142047993\n",
       " -1.215913397541885\n",
       " -3.802608440530689\n",
       "  0.8862161892458151\n",
       " -0.11667458403407034\n",
       "  0.2836428043380033\n",
       " -2.200171050673603\n",
       "  1.2847713762337147\n",
       " -2.7551085750724624\n",
       " -1.9486524320428011\n",
       "  0.8132539324300462\n",
       " -0.9664548592183335"
      ]
     },
     "execution_count": 8,
     "metadata": {},
     "output_type": "execute_result"
    }
   ],
   "source": [
    "Ahuge \\ bhuge"
   ]
  },
  {
   "cell_type": "code",
   "execution_count": 9,
   "metadata": {},
   "outputs": [
    {
     "name": "stdout",
     "output_type": "stream",
     "text": [
      "  0.026181 seconds (4 allocations: 7.645 MiB)\n",
      "  0.025398 seconds (4 allocations: 7.645 MiB)\n",
      "  0.029774 seconds (4 allocations: 7.645 MiB)\n"
     ]
    }
   ],
   "source": [
    "@time Ahuge \\ bhuge;\n",
    "@time Ahuge \\ bhuge;\n",
    "@time Ahuge \\ bhuge;"
   ]
  },
  {
   "cell_type": "markdown",
   "metadata": {},
   "source": [
    "If we want to see the matrix $U$ from above, we use the fact (covered soon in 18.06) that Gaussian elimination is really \"LU\" factorization, performed by the function `lufact` in the built-in `LinearAlgebra` package. By default, however, \"serious\" computer implementations of this process automatically re-order the rows to reduce the effect of roundoff errors, so we need to pass an extra option that tells Julia not to do this.  (You should *not* normally do this, except for learning exercises.)"
   ]
  },
  {
   "cell_type": "code",
   "execution_count": 10,
   "metadata": {},
   "outputs": [],
   "source": [
    "using LinearAlgebra"
   ]
  },
  {
   "cell_type": "code",
   "execution_count": 11,
   "metadata": {},
   "outputs": [
    {
     "data": {
      "text/plain": [
       "3×4 Matrix{Float64}:\n",
       " 1.0   3.0   1.0   9.0\n",
       " 0.0  -2.0  -2.0  -8.0\n",
       " 0.0   0.0   1.0   0.0"
      ]
     },
     "execution_count": 11,
     "metadata": {},
     "output_type": "execute_result"
    }
   ],
   "source": [
    "# LU factorization (Gaussian elimination) of the augumented matrix [A b], \n",
    "# passing the somewhat obscure Val(false) option to prevent row re-ordering\n",
    "F = lu([A b], Val(false)) # a \"factorization\" object storing both L and U\n",
    "F.U # just show U"
   ]
  },
  {
   "cell_type": "markdown",
   "metadata": {},
   "source": [
    "However, it would be nice to show the individual steps of this process.  This requires some programming."
   ]
  },
  {
   "cell_type": "markdown",
   "metadata": {},
   "source": [
    "# Code to interactively visualize Gaussian elimination\n",
    "\n",
    "The following is some slightly tricky code that lets us visualize the process of Gaussian elimination in Julia.  It takes advantage of the [Interact](https://github.com/JuliaGizmos/Interact.jl) package in Julia, which allows us to easily create interactive displays using sliders, pushbuttons, and other widgets.\n",
    "\n",
    "Implementing this is **not really a beginner exercise** for new Julia programmers, though it is fairly straightforward for people who are used to Julia.  It involves defining our own type to control display, our own implementation of Gaussian elimination that allows us to stop partway through, and using the Interact package to create interactive widgets.\n",
    "\n",
    "You can skip this part if you aren't ready for the programming details."
   ]
  },
  {
   "cell_type": "code",
   "execution_count": 12,
   "metadata": {},
   "outputs": [
    {
     "data": {
      "text/plain": [
       "naive_gauss"
      ]
     },
     "execution_count": 12,
     "metadata": {},
     "output_type": "execute_result"
    }
   ],
   "source": [
    "\"\"\"\n",
    "    naive_gauss(A, [step])\n",
    "\n",
    "Given a matrix `A`, performs Gaussian elimination to convert\n",
    "`A` into an upper-triangular matrix `U`.\n",
    "\n",
    "This implementation is \"naive\" because it *never re-orders the rows*.\n",
    "(It will obviously fail if a zero pivot is encountered.)\n",
    "\n",
    "If the optional `step` argument is supplied, only performs `step`\n",
    "steps of Gaussian elimination.\n",
    "\n",
    "Returns `(U, row, col, factor)`, where `row` and `col` are the\n",
    "row and column of the last step performed, while `factor`\n",
    "is the last factor multiplying the pivot row.\n",
    "\"\"\"\n",
    "function naive_gauss(A, step=typemax(Int))\n",
    "    m = size(A,1) # number of rows\n",
    "    factor = A[1,1]/A[1,1]\n",
    "    step ≤ 0 && return (A, 1, 1, factor)\n",
    "    U = copyto!(similar(A, typeof(factor)), A)\n",
    "    for j = 1:m   # loop over m columns\n",
    "        for i = j+1:m   # loop over rows below the pivot row j\n",
    "            # subtract a multiple of the pivot row (j)\n",
    "            # from the current row (i) to cancel U[i,j] = Uᵢⱼ:\n",
    "            factor = -U[i,j]/U[j,j]\n",
    "            U[i,:] = U[i,:] + U[j,:] * factor\n",
    "            step -= 1\n",
    "            step ≤ 0 && return (U, i, j, factor)\n",
    "        end\n",
    "    end\n",
    "    return U, m, m, factor\n",
    "end"
   ]
  },
  {
   "cell_type": "markdown",
   "metadata": {},
   "source": [
    "For display purposes on the 18.06 github page, we can't use interactive sliders, so I just use the following code to switch to non-interactively output each of the \"steps\" of the animation.\n",
    "\n",
    "To go back to interactive sliders, change `import Interact` to `using Interact` below:"
   ]
  },
  {
   "cell_type": "code",
   "execution_count": 13,
   "metadata": {},
   "outputs": [
    {
     "data": {
      "application/vnd.webio.node+json": {
       "children": [],
       "instanceArgs": {
        "namespace": "html",
        "tag": "div"
       },
       "nodeType": "DOM",
       "props": {},
       "type": "node"
      },
      "text/html": [
       "<div style=\"padding: 1em; background-color: #f8d6da; border: 1px solid #f5c6cb; font-weight: bold;\">\n",
       "<p>The WebIO Jupyter extension was not detected. See the\n",
       "<a href=\"https://juliagizmos.github.io/WebIO.jl/latest/providers/ijulia/\" target=\"_blank\">\n",
       "    WebIO Jupyter integration documentation\n",
       "</a>\n",
       "for more information.\n",
       "</div>\n"
      ],
      "text/plain": [
       "WebIO._IJuliaInit()"
      ]
     },
     "metadata": {
      "application/vnd.webio.node+json": {
       "kernelId": "e075c803-bca2-4c5f-9e01-34fec12b6e1f"
      }
     },
     "output_type": "display_data"
    },
    {
     "data": {
      "text/plain": [
       "slider (generic function with 1 method)"
      ]
     },
     "execution_count": 13,
     "metadata": {},
     "output_type": "execute_result"
    }
   ],
   "source": [
    "import Interact  # change to \"using Interact\" to make interactive\n",
    "\n",
    "# non-interactive replacements for Interact features\n",
    "if !isdefined(Main, :slider)\n",
    "    # non-interactive replacement for Interact.@manipulate\n",
    "    macro manipulate(expr)\n",
    "        return Expr(:for, esc(expr.args[1]), :(display($(esc(expr.args[2])))))\n",
    "    end\n",
    "    slider(r; kws...) = r\n",
    "end"
   ]
  },
  {
   "cell_type": "code",
   "execution_count": 14,
   "metadata": {},
   "outputs": [
    {
     "data": {
      "text/plain": [
       "visualize_gauss (generic function with 1 method)"
      ]
     },
     "execution_count": 14,
     "metadata": {},
     "output_type": "execute_result"
    }
   ],
   "source": [
    "\n",
    "# For display, I only want to show 3 decimal places of floating-point values,\n",
    "# but I want to show integers and similar types exactly, so I define a little\n",
    "# function to do this rounding\n",
    "shorten(x::AbstractFloat) = round(x, digits=3)\n",
    "shorten(x) = x # leave non floating-point values as-is\n",
    "\n",
    "# create an interactive widget to visualize the Gaussian-elimination process for the matrix A.\n",
    "function visualize_gauss(A)\n",
    "    m = size(A, 1)\n",
    "    @manipulate for step in slider(1:(m*(m-1))÷2, value=1, label=\"gauss step\")\n",
    "        Uprev, = naive_gauss(A, step-1)\n",
    "        U, row, col, factor = naive_gauss(A, step)\n",
    "        pivot = U[col,col]\n",
    "        Interact.vbox(\n",
    "            Interact.node(:pre, \"Gaussian elimination for column $col with pivot $pivot: add $(shorten(factor)) * (row $col) to (row $row)\"),\n",
    "            Interact.hbox(shorten.(Uprev),\n",
    "                Interact.hskip(1*Interact.em), \"⟶\", Interact.hskip(1*Interact.em),\n",
    "                shorten.(U)\n",
    "            )(Interact.alignitems(:center))\n",
    "        )(Interact.alignitems(:center))\n",
    "    end\n",
    "end"
   ]
  },
  {
   "cell_type": "markdown",
   "metadata": {},
   "source": [
    "# Gaussian elimination examples\n",
    "\n",
    "Now, let's use this machinery to interact with some examples, starting with our $3 \\times 3$ matrix from above:"
   ]
  },
  {
   "cell_type": "code",
   "execution_count": 15,
   "metadata": {},
   "outputs": [
    {
     "data": {
      "application/vnd.webio.node+json": {
       "children": [
        {
         "children": [
          "Gaussian elimination for column 1 with pivot 1.0: add -1.0 * (row 1) to (row 2)"
         ],
         "instanceArgs": {
          "namespace": "html",
          "tag": "pre"
         },
         "nodeType": "DOM",
         "props": {},
         "type": "node"
        },
        {
         "children": [
          {
           "children": [],
           "instanceArgs": {
            "namespace": "html",
            "tag": "div"
           },
           "nodeType": "DOM",
           "props": {
            "setInnerHtml": "<pre>3×4 Matrix{Int64}:\n 1   3   1   9\n 1   1  -1   1\n 3  11   6  35</pre>"
           },
           "type": "node"
          },
          {
           "children": [],
           "instanceArgs": {
            "namespace": "html",
            "tag": "div"
           },
           "nodeType": "DOM",
           "props": {
            "style": {
             "height": "0.0px",
             "width": "1.0em"
            }
           },
           "type": "node"
          },
          "⟶",
          {
           "children": [],
           "instanceArgs": {
            "namespace": "html",
            "tag": "div"
           },
           "nodeType": "DOM",
           "props": {
            "style": {
             "height": "0.0px",
             "width": "1.0em"
            }
           },
           "type": "node"
          },
          {
           "children": [],
           "instanceArgs": {
            "namespace": "html",
            "tag": "div"
           },
           "nodeType": "DOM",
           "props": {
            "setInnerHtml": "<pre>3×4 Matrix{Float64}:\n 1.0   3.0   1.0   9.0\n 0.0  -2.0  -2.0  -8.0\n 3.0  11.0   6.0  35.0</pre>"
           },
           "type": "node"
          }
         ],
         "instanceArgs": {
          "namespace": "html",
          "tag": "div"
         },
         "nodeType": "DOM",
         "props": {
          "style": {
           "align-items": "center",
           "display": "flex",
           "flex-direction": "row"
          }
         },
         "type": "node"
        }
       ],
       "instanceArgs": {
        "namespace": "html",
        "tag": "div"
       },
       "nodeType": "DOM",
       "props": {
        "style": {
         "align-items": "center",
         "display": "flex",
         "flex-direction": "column"
        }
       },
       "type": "node"
      },
      "text/html": [
       "<div\n",
       "    class=\"webio-mountpoint\"\n",
       "    data-webio-mountpoint=\"14789346600203725827\"\n",
       ">\n",
       "    <script>\n",
       "    (function(){\n",
       "    // Some integrations (namely, IJulia/Jupyter) use an alternate render pathway than\n",
       "    // just putting the html on the page. If WebIO isn't defined, then it's pretty likely\n",
       "    // that we're in one of those situations and the integration just isn't installed\n",
       "    // correctly.\n",
       "    if (typeof window.WebIO === \"undefined\") {\n",
       "        document\n",
       "            .querySelector('[data-webio-mountpoint=\"14789346600203725827\"]')\n",
       "            .innerHTML = (\n",
       "                '<div style=\"padding: 1em; background-color: #f8d6da; border: 1px solid #f5c6cb; font-weight: bold;\">' +\n",
       "                '<p><strong>WebIO not detected.</strong></p>' +\n",
       "                '<p>Please read ' +\n",
       "                '<a href=\"https://juliagizmos.github.io/WebIO.jl/latest/troubleshooting/not-detected/\" target=\"_blank\">the troubleshooting guide</a> ' +\n",
       "                'for more information on how to resolve this issue.</p>' +\n",
       "                '<p><a href=\"https://juliagizmos.github.io/WebIO.jl/latest/troubleshooting/not-detected/\" target=\"_blank\">https://juliagizmos.github.io/WebIO.jl/latest/troubleshooting/not-detected/</a></p>' +\n",
       "                '</div>'\n",
       "            );\n",
       "        return;\n",
       "    }\n",
       "    WebIO.mount(\n",
       "        document.querySelector('[data-webio-mountpoint=\"14789346600203725827\"]'),\n",
       "        {\"props\":{\"style\":{\"align-items\":\"center\",\"display\":\"flex\",\"flex-direction\":\"column\"}},\"nodeType\":\"DOM\",\"type\":\"node\",\"instanceArgs\":{\"namespace\":\"html\",\"tag\":\"div\"},\"children\":[{\"props\":{},\"nodeType\":\"DOM\",\"type\":\"node\",\"instanceArgs\":{\"namespace\":\"html\",\"tag\":\"pre\"},\"children\":[\"Gaussian elimination for column 1 with pivot 1.0: add -1.0 * (row 1) to (row 2)\"]},{\"props\":{\"style\":{\"align-items\":\"center\",\"display\":\"flex\",\"flex-direction\":\"row\"}},\"nodeType\":\"DOM\",\"type\":\"node\",\"instanceArgs\":{\"namespace\":\"html\",\"tag\":\"div\"},\"children\":[{\"props\":{\"setInnerHtml\":\"<pre>3×4 Matrix{Int64}:\\n 1   3   1   9\\n 1   1  -1   1\\n 3  11   6  35<\\/pre>\"},\"nodeType\":\"DOM\",\"type\":\"node\",\"instanceArgs\":{\"namespace\":\"html\",\"tag\":\"div\"},\"children\":[]},{\"props\":{\"style\":{\"height\":\"0.0px\",\"width\":\"1.0em\"}},\"nodeType\":\"DOM\",\"type\":\"node\",\"instanceArgs\":{\"namespace\":\"html\",\"tag\":\"div\"},\"children\":[]},\"⟶\",{\"props\":{\"style\":{\"height\":\"0.0px\",\"width\":\"1.0em\"}},\"nodeType\":\"DOM\",\"type\":\"node\",\"instanceArgs\":{\"namespace\":\"html\",\"tag\":\"div\"},\"children\":[]},{\"props\":{\"setInnerHtml\":\"<pre>3×4 Matrix{Float64}:\\n 1.0   3.0   1.0   9.0\\n 0.0  -2.0  -2.0  -8.0\\n 3.0  11.0   6.0  35.0<\\/pre>\"},\"nodeType\":\"DOM\",\"type\":\"node\",\"instanceArgs\":{\"namespace\":\"html\",\"tag\":\"div\"},\"children\":[]}]}]},\n",
       "        window,\n",
       "    );\n",
       "    })()\n",
       "    </script>\n",
       "</div>\n"
      ],
      "text/plain": [
       "(div { style=Dict{Any, Any}(\"align-items\" => :center, \"display\" => \"flex\", \"flex-direction\" => \"column\") }\n",
       "  (pre\n",
       "    \"Gaussian elimination for column 1 with pivot 1.0: add -1.0 * (row 1) to (row 2)\")\n",
       "  (div { style=Dict{Any, Any}(\"align-items\" => :center, \"display\" => \"flex\", \"flex-direction\" => \"row\") }\n",
       "    [1 3 1 9; 1 1 -1 1; 3 11 6 35]\n",
       "    (div { style=Dict{String, Measures.Length{U, Float64} where U}(\"height\" => 0.0px, \"width\" => 1.0em) })\n",
       "    \"⟶\"\n",
       "    (div { style=Dict{String, Measures.Length{U, Float64} where U}(\"height\" => 0.0px, \"width\" => 1.0em) })\n",
       "    [1.0 3.0 1.0 9.0; 0.0 -2.0 -2.0 -8.0; 3.0 11.0 6.0 35.0]))"
      ]
     },
     "metadata": {
      "application/vnd.webio.node+json": {
       "kernelId": "e075c803-bca2-4c5f-9e01-34fec12b6e1f"
      }
     },
     "output_type": "display_data"
    },
    {
     "data": {
      "application/vnd.webio.node+json": {
       "children": [
        {
         "children": [
          "Gaussian elimination for column 1 with pivot 1.0: add -3.0 * (row 1) to (row 3)"
         ],
         "instanceArgs": {
          "namespace": "html",
          "tag": "pre"
         },
         "nodeType": "DOM",
         "props": {},
         "type": "node"
        },
        {
         "children": [
          {
           "children": [],
           "instanceArgs": {
            "namespace": "html",
            "tag": "div"
           },
           "nodeType": "DOM",
           "props": {
            "setInnerHtml": "<pre>3×4 Matrix{Float64}:\n 1.0   3.0   1.0   9.0\n 0.0  -2.0  -2.0  -8.0\n 3.0  11.0   6.0  35.0</pre>"
           },
           "type": "node"
          },
          {
           "children": [],
           "instanceArgs": {
            "namespace": "html",
            "tag": "div"
           },
           "nodeType": "DOM",
           "props": {
            "style": {
             "height": "0.0px",
             "width": "1.0em"
            }
           },
           "type": "node"
          },
          "⟶",
          {
           "children": [],
           "instanceArgs": {
            "namespace": "html",
            "tag": "div"
           },
           "nodeType": "DOM",
           "props": {
            "style": {
             "height": "0.0px",
             "width": "1.0em"
            }
           },
           "type": "node"
          },
          {
           "children": [],
           "instanceArgs": {
            "namespace": "html",
            "tag": "div"
           },
           "nodeType": "DOM",
           "props": {
            "setInnerHtml": "<pre>3×4 Matrix{Float64}:\n 1.0   3.0   1.0   9.0\n 0.0  -2.0  -2.0  -8.0\n 0.0   2.0   3.0   8.0</pre>"
           },
           "type": "node"
          }
         ],
         "instanceArgs": {
          "namespace": "html",
          "tag": "div"
         },
         "nodeType": "DOM",
         "props": {
          "style": {
           "align-items": "center",
           "display": "flex",
           "flex-direction": "row"
          }
         },
         "type": "node"
        }
       ],
       "instanceArgs": {
        "namespace": "html",
        "tag": "div"
       },
       "nodeType": "DOM",
       "props": {
        "style": {
         "align-items": "center",
         "display": "flex",
         "flex-direction": "column"
        }
       },
       "type": "node"
      },
      "text/html": [
       "<div\n",
       "    class=\"webio-mountpoint\"\n",
       "    data-webio-mountpoint=\"6285727955058686361\"\n",
       ">\n",
       "    <script>\n",
       "    (function(){\n",
       "    // Some integrations (namely, IJulia/Jupyter) use an alternate render pathway than\n",
       "    // just putting the html on the page. If WebIO isn't defined, then it's pretty likely\n",
       "    // that we're in one of those situations and the integration just isn't installed\n",
       "    // correctly.\n",
       "    if (typeof window.WebIO === \"undefined\") {\n",
       "        document\n",
       "            .querySelector('[data-webio-mountpoint=\"6285727955058686361\"]')\n",
       "            .innerHTML = (\n",
       "                '<div style=\"padding: 1em; background-color: #f8d6da; border: 1px solid #f5c6cb; font-weight: bold;\">' +\n",
       "                '<p><strong>WebIO not detected.</strong></p>' +\n",
       "                '<p>Please read ' +\n",
       "                '<a href=\"https://juliagizmos.github.io/WebIO.jl/latest/troubleshooting/not-detected/\" target=\"_blank\">the troubleshooting guide</a> ' +\n",
       "                'for more information on how to resolve this issue.</p>' +\n",
       "                '<p><a href=\"https://juliagizmos.github.io/WebIO.jl/latest/troubleshooting/not-detected/\" target=\"_blank\">https://juliagizmos.github.io/WebIO.jl/latest/troubleshooting/not-detected/</a></p>' +\n",
       "                '</div>'\n",
       "            );\n",
       "        return;\n",
       "    }\n",
       "    WebIO.mount(\n",
       "        document.querySelector('[data-webio-mountpoint=\"6285727955058686361\"]'),\n",
       "        {\"props\":{\"style\":{\"align-items\":\"center\",\"display\":\"flex\",\"flex-direction\":\"column\"}},\"nodeType\":\"DOM\",\"type\":\"node\",\"instanceArgs\":{\"namespace\":\"html\",\"tag\":\"div\"},\"children\":[{\"props\":{},\"nodeType\":\"DOM\",\"type\":\"node\",\"instanceArgs\":{\"namespace\":\"html\",\"tag\":\"pre\"},\"children\":[\"Gaussian elimination for column 1 with pivot 1.0: add -3.0 * (row 1) to (row 3)\"]},{\"props\":{\"style\":{\"align-items\":\"center\",\"display\":\"flex\",\"flex-direction\":\"row\"}},\"nodeType\":\"DOM\",\"type\":\"node\",\"instanceArgs\":{\"namespace\":\"html\",\"tag\":\"div\"},\"children\":[{\"props\":{\"setInnerHtml\":\"<pre>3×4 Matrix{Float64}:\\n 1.0   3.0   1.0   9.0\\n 0.0  -2.0  -2.0  -8.0\\n 3.0  11.0   6.0  35.0<\\/pre>\"},\"nodeType\":\"DOM\",\"type\":\"node\",\"instanceArgs\":{\"namespace\":\"html\",\"tag\":\"div\"},\"children\":[]},{\"props\":{\"style\":{\"height\":\"0.0px\",\"width\":\"1.0em\"}},\"nodeType\":\"DOM\",\"type\":\"node\",\"instanceArgs\":{\"namespace\":\"html\",\"tag\":\"div\"},\"children\":[]},\"⟶\",{\"props\":{\"style\":{\"height\":\"0.0px\",\"width\":\"1.0em\"}},\"nodeType\":\"DOM\",\"type\":\"node\",\"instanceArgs\":{\"namespace\":\"html\",\"tag\":\"div\"},\"children\":[]},{\"props\":{\"setInnerHtml\":\"<pre>3×4 Matrix{Float64}:\\n 1.0   3.0   1.0   9.0\\n 0.0  -2.0  -2.0  -8.0\\n 0.0   2.0   3.0   8.0<\\/pre>\"},\"nodeType\":\"DOM\",\"type\":\"node\",\"instanceArgs\":{\"namespace\":\"html\",\"tag\":\"div\"},\"children\":[]}]}]},\n",
       "        window,\n",
       "    );\n",
       "    })()\n",
       "    </script>\n",
       "</div>\n"
      ],
      "text/plain": [
       "(div { style=Dict{Any, Any}(\"align-items\" => :center, \"display\" => \"flex\", \"flex-direction\" => \"column\") }\n",
       "  (pre\n",
       "    \"Gaussian elimination for column 1 with pivot 1.0: add -3.0 * (row 1) to (row 3)\")\n",
       "  (div { style=Dict{Any, Any}(\"align-items\" => :center, \"display\" => \"flex\", \"flex-direction\" => \"row\") }\n",
       "    [1.0 3.0 1.0 9.0; 0.0 -2.0 -2.0 -8.0; 3.0 11.0 6.0 35.0]\n",
       "    (div { style=Dict{String, Measures.Length{U, Float64} where U}(\"height\" => 0.0px, \"width\" => 1.0em) })\n",
       "    \"⟶\"\n",
       "    (div { style=Dict{String, Measures.Length{U, Float64} where U}(\"height\" => 0.0px, \"width\" => 1.0em) })\n",
       "    [1.0 3.0 1.0 9.0; 0.0 -2.0 -2.0 -8.0; 0.0 2.0 3.0 8.0]))"
      ]
     },
     "metadata": {
      "application/vnd.webio.node+json": {
       "kernelId": "e075c803-bca2-4c5f-9e01-34fec12b6e1f"
      }
     },
     "output_type": "display_data"
    },
    {
     "data": {
      "application/vnd.webio.node+json": {
       "children": [
        {
         "children": [
          "Gaussian elimination for column 2 with pivot -2.0: add 1.0 * (row 2) to (row 3)"
         ],
         "instanceArgs": {
          "namespace": "html",
          "tag": "pre"
         },
         "nodeType": "DOM",
         "props": {},
         "type": "node"
        },
        {
         "children": [
          {
           "children": [],
           "instanceArgs": {
            "namespace": "html",
            "tag": "div"
           },
           "nodeType": "DOM",
           "props": {
            "setInnerHtml": "<pre>3×4 Matrix{Float64}:\n 1.0   3.0   1.0   9.0\n 0.0  -2.0  -2.0  -8.0\n 0.0   2.0   3.0   8.0</pre>"
           },
           "type": "node"
          },
          {
           "children": [],
           "instanceArgs": {
            "namespace": "html",
            "tag": "div"
           },
           "nodeType": "DOM",
           "props": {
            "style": {
             "height": "0.0px",
             "width": "1.0em"
            }
           },
           "type": "node"
          },
          "⟶",
          {
           "children": [],
           "instanceArgs": {
            "namespace": "html",
            "tag": "div"
           },
           "nodeType": "DOM",
           "props": {
            "style": {
             "height": "0.0px",
             "width": "1.0em"
            }
           },
           "type": "node"
          },
          {
           "children": [],
           "instanceArgs": {
            "namespace": "html",
            "tag": "div"
           },
           "nodeType": "DOM",
           "props": {
            "setInnerHtml": "<pre>3×4 Matrix{Float64}:\n 1.0   3.0   1.0   9.0\n 0.0  -2.0  -2.0  -8.0\n 0.0   0.0   1.0   0.0</pre>"
           },
           "type": "node"
          }
         ],
         "instanceArgs": {
          "namespace": "html",
          "tag": "div"
         },
         "nodeType": "DOM",
         "props": {
          "style": {
           "align-items": "center",
           "display": "flex",
           "flex-direction": "row"
          }
         },
         "type": "node"
        }
       ],
       "instanceArgs": {
        "namespace": "html",
        "tag": "div"
       },
       "nodeType": "DOM",
       "props": {
        "style": {
         "align-items": "center",
         "display": "flex",
         "flex-direction": "column"
        }
       },
       "type": "node"
      },
      "text/html": [
       "<div\n",
       "    class=\"webio-mountpoint\"\n",
       "    data-webio-mountpoint=\"13460694255393243684\"\n",
       ">\n",
       "    <script>\n",
       "    (function(){\n",
       "    // Some integrations (namely, IJulia/Jupyter) use an alternate render pathway than\n",
       "    // just putting the html on the page. If WebIO isn't defined, then it's pretty likely\n",
       "    // that we're in one of those situations and the integration just isn't installed\n",
       "    // correctly.\n",
       "    if (typeof window.WebIO === \"undefined\") {\n",
       "        document\n",
       "            .querySelector('[data-webio-mountpoint=\"13460694255393243684\"]')\n",
       "            .innerHTML = (\n",
       "                '<div style=\"padding: 1em; background-color: #f8d6da; border: 1px solid #f5c6cb; font-weight: bold;\">' +\n",
       "                '<p><strong>WebIO not detected.</strong></p>' +\n",
       "                '<p>Please read ' +\n",
       "                '<a href=\"https://juliagizmos.github.io/WebIO.jl/latest/troubleshooting/not-detected/\" target=\"_blank\">the troubleshooting guide</a> ' +\n",
       "                'for more information on how to resolve this issue.</p>' +\n",
       "                '<p><a href=\"https://juliagizmos.github.io/WebIO.jl/latest/troubleshooting/not-detected/\" target=\"_blank\">https://juliagizmos.github.io/WebIO.jl/latest/troubleshooting/not-detected/</a></p>' +\n",
       "                '</div>'\n",
       "            );\n",
       "        return;\n",
       "    }\n",
       "    WebIO.mount(\n",
       "        document.querySelector('[data-webio-mountpoint=\"13460694255393243684\"]'),\n",
       "        {\"props\":{\"style\":{\"align-items\":\"center\",\"display\":\"flex\",\"flex-direction\":\"column\"}},\"nodeType\":\"DOM\",\"type\":\"node\",\"instanceArgs\":{\"namespace\":\"html\",\"tag\":\"div\"},\"children\":[{\"props\":{},\"nodeType\":\"DOM\",\"type\":\"node\",\"instanceArgs\":{\"namespace\":\"html\",\"tag\":\"pre\"},\"children\":[\"Gaussian elimination for column 2 with pivot -2.0: add 1.0 * (row 2) to (row 3)\"]},{\"props\":{\"style\":{\"align-items\":\"center\",\"display\":\"flex\",\"flex-direction\":\"row\"}},\"nodeType\":\"DOM\",\"type\":\"node\",\"instanceArgs\":{\"namespace\":\"html\",\"tag\":\"div\"},\"children\":[{\"props\":{\"setInnerHtml\":\"<pre>3×4 Matrix{Float64}:\\n 1.0   3.0   1.0   9.0\\n 0.0  -2.0  -2.0  -8.0\\n 0.0   2.0   3.0   8.0<\\/pre>\"},\"nodeType\":\"DOM\",\"type\":\"node\",\"instanceArgs\":{\"namespace\":\"html\",\"tag\":\"div\"},\"children\":[]},{\"props\":{\"style\":{\"height\":\"0.0px\",\"width\":\"1.0em\"}},\"nodeType\":\"DOM\",\"type\":\"node\",\"instanceArgs\":{\"namespace\":\"html\",\"tag\":\"div\"},\"children\":[]},\"⟶\",{\"props\":{\"style\":{\"height\":\"0.0px\",\"width\":\"1.0em\"}},\"nodeType\":\"DOM\",\"type\":\"node\",\"instanceArgs\":{\"namespace\":\"html\",\"tag\":\"div\"},\"children\":[]},{\"props\":{\"setInnerHtml\":\"<pre>3×4 Matrix{Float64}:\\n 1.0   3.0   1.0   9.0\\n 0.0  -2.0  -2.0  -8.0\\n 0.0   0.0   1.0   0.0<\\/pre>\"},\"nodeType\":\"DOM\",\"type\":\"node\",\"instanceArgs\":{\"namespace\":\"html\",\"tag\":\"div\"},\"children\":[]}]}]},\n",
       "        window,\n",
       "    );\n",
       "    })()\n",
       "    </script>\n",
       "</div>\n"
      ],
      "text/plain": [
       "(div { style=Dict{Any, Any}(\"align-items\" => :center, \"display\" => \"flex\", \"flex-direction\" => \"column\") }\n",
       "  (pre\n",
       "    \"Gaussian elimination for column 2 with pivot -2.0: add 1.0 * (row 2) to (row 3)\")\n",
       "  (div { style=Dict{Any, Any}(\"align-items\" => :center, \"display\" => \"flex\", \"flex-direction\" => \"row\") }\n",
       "    [1.0 3.0 1.0 9.0; 0.0 -2.0 -2.0 -8.0; 0.0 2.0 3.0 8.0]\n",
       "    (div { style=Dict{String, Measures.Length{U, Float64} where U}(\"height\" => 0.0px, \"width\" => 1.0em) })\n",
       "    \"⟶\"\n",
       "    (div { style=Dict{String, Measures.Length{U, Float64} where U}(\"height\" => 0.0px, \"width\" => 1.0em) })\n",
       "    [1.0 3.0 1.0 9.0; 0.0 -2.0 -2.0 -8.0; 0.0 0.0 1.0 0.0]))"
      ]
     },
     "metadata": {
      "application/vnd.webio.node+json": {
       "kernelId": "e075c803-bca2-4c5f-9e01-34fec12b6e1f"
      }
     },
     "output_type": "display_data"
    }
   ],
   "source": [
    "visualize_gauss([A b])"
   ]
  },
  {
   "cell_type": "code",
   "execution_count": 16,
   "metadata": {},
   "outputs": [
    {
     "data": {
      "application/vnd.webio.node+json": {
       "children": [
        {
         "children": [
          "Gaussian elimination for column 1 with pivot 4.0: add 1.25 * (row 1) to (row 2)"
         ],
         "instanceArgs": {
          "namespace": "html",
          "tag": "pre"
         },
         "nodeType": "DOM",
         "props": {},
         "type": "node"
        },
        {
         "children": [
          {
           "children": [],
           "instanceArgs": {
            "namespace": "html",
            "tag": "div"
           },
           "nodeType": "DOM",
           "props": {
            "setInnerHtml": "<pre>5×5 Matrix{Int64}:\n  4   6  -2  -7  -4\n -5   9  -9  -9   4\n  5  -3  -7   2   3\n -1   4   1   0  -3\n  4  -8   4   5  -2</pre>"
           },
           "type": "node"
          },
          {
           "children": [],
           "instanceArgs": {
            "namespace": "html",
            "tag": "div"
           },
           "nodeType": "DOM",
           "props": {
            "style": {
             "height": "0.0px",
             "width": "1.0em"
            }
           },
           "type": "node"
          },
          "⟶",
          {
           "children": [],
           "instanceArgs": {
            "namespace": "html",
            "tag": "div"
           },
           "nodeType": "DOM",
           "props": {
            "style": {
             "height": "0.0px",
             "width": "1.0em"
            }
           },
           "type": "node"
          },
          {
           "children": [],
           "instanceArgs": {
            "namespace": "html",
            "tag": "div"
           },
           "nodeType": "DOM",
           "props": {
            "setInnerHtml": "<pre>5×5 Matrix{Float64}:\n  4.0   6.0   -2.0   -7.0   -4.0\n  0.0  16.5  -11.5  -17.75  -1.0\n  5.0  -3.0   -7.0    2.0    3.0\n -1.0   4.0    1.0    0.0   -3.0\n  4.0  -8.0    4.0    5.0   -2.0</pre>"
           },
           "type": "node"
          }
         ],
         "instanceArgs": {
          "namespace": "html",
          "tag": "div"
         },
         "nodeType": "DOM",
         "props": {
          "style": {
           "align-items": "center",
           "display": "flex",
           "flex-direction": "row"
          }
         },
         "type": "node"
        }
       ],
       "instanceArgs": {
        "namespace": "html",
        "tag": "div"
       },
       "nodeType": "DOM",
       "props": {
        "style": {
         "align-items": "center",
         "display": "flex",
         "flex-direction": "column"
        }
       },
       "type": "node"
      },
      "text/html": [
       "<div\n",
       "    class=\"webio-mountpoint\"\n",
       "    data-webio-mountpoint=\"17460248590529811444\"\n",
       ">\n",
       "    <script>\n",
       "    (function(){\n",
       "    // Some integrations (namely, IJulia/Jupyter) use an alternate render pathway than\n",
       "    // just putting the html on the page. If WebIO isn't defined, then it's pretty likely\n",
       "    // that we're in one of those situations and the integration just isn't installed\n",
       "    // correctly.\n",
       "    if (typeof window.WebIO === \"undefined\") {\n",
       "        document\n",
       "            .querySelector('[data-webio-mountpoint=\"17460248590529811444\"]')\n",
       "            .innerHTML = (\n",
       "                '<div style=\"padding: 1em; background-color: #f8d6da; border: 1px solid #f5c6cb; font-weight: bold;\">' +\n",
       "                '<p><strong>WebIO not detected.</strong></p>' +\n",
       "                '<p>Please read ' +\n",
       "                '<a href=\"https://juliagizmos.github.io/WebIO.jl/latest/troubleshooting/not-detected/\" target=\"_blank\">the troubleshooting guide</a> ' +\n",
       "                'for more information on how to resolve this issue.</p>' +\n",
       "                '<p><a href=\"https://juliagizmos.github.io/WebIO.jl/latest/troubleshooting/not-detected/\" target=\"_blank\">https://juliagizmos.github.io/WebIO.jl/latest/troubleshooting/not-detected/</a></p>' +\n",
       "                '</div>'\n",
       "            );\n",
       "        return;\n",
       "    }\n",
       "    WebIO.mount(\n",
       "        document.querySelector('[data-webio-mountpoint=\"17460248590529811444\"]'),\n",
       "        {\"props\":{\"style\":{\"align-items\":\"center\",\"display\":\"flex\",\"flex-direction\":\"column\"}},\"nodeType\":\"DOM\",\"type\":\"node\",\"instanceArgs\":{\"namespace\":\"html\",\"tag\":\"div\"},\"children\":[{\"props\":{},\"nodeType\":\"DOM\",\"type\":\"node\",\"instanceArgs\":{\"namespace\":\"html\",\"tag\":\"pre\"},\"children\":[\"Gaussian elimination for column 1 with pivot 4.0: add 1.25 * (row 1) to (row 2)\"]},{\"props\":{\"style\":{\"align-items\":\"center\",\"display\":\"flex\",\"flex-direction\":\"row\"}},\"nodeType\":\"DOM\",\"type\":\"node\",\"instanceArgs\":{\"namespace\":\"html\",\"tag\":\"div\"},\"children\":[{\"props\":{\"setInnerHtml\":\"<pre>5×5 Matrix{Int64}:\\n  4   6  -2  -7  -4\\n -5   9  -9  -9   4\\n  5  -3  -7   2   3\\n -1   4   1   0  -3\\n  4  -8   4   5  -2<\\/pre>\"},\"nodeType\":\"DOM\",\"type\":\"node\",\"instanceArgs\":{\"namespace\":\"html\",\"tag\":\"div\"},\"children\":[]},{\"props\":{\"style\":{\"height\":\"0.0px\",\"width\":\"1.0em\"}},\"nodeType\":\"DOM\",\"type\":\"node\",\"instanceArgs\":{\"namespace\":\"html\",\"tag\":\"div\"},\"children\":[]},\"⟶\",{\"props\":{\"style\":{\"height\":\"0.0px\",\"width\":\"1.0em\"}},\"nodeType\":\"DOM\",\"type\":\"node\",\"instanceArgs\":{\"namespace\":\"html\",\"tag\":\"div\"},\"children\":[]},{\"props\":{\"setInnerHtml\":\"<pre>5×5 Matrix{Float64}:\\n  4.0   6.0   -2.0   -7.0   -4.0\\n  0.0  16.5  -11.5  -17.75  -1.0\\n  5.0  -3.0   -7.0    2.0    3.0\\n -1.0   4.0    1.0    0.0   -3.0\\n  4.0  -8.0    4.0    5.0   -2.0<\\/pre>\"},\"nodeType\":\"DOM\",\"type\":\"node\",\"instanceArgs\":{\"namespace\":\"html\",\"tag\":\"div\"},\"children\":[]}]}]},\n",
       "        window,\n",
       "    );\n",
       "    })()\n",
       "    </script>\n",
       "</div>\n"
      ],
      "text/plain": [
       "(div { style=Dict{Any, Any}(\"align-items\" => :center, \"display\" => \"flex\", \"flex-direction\" => \"column\") }\n",
       "  (pre\n",
       "    \"Gaussian elimination for column 1 with pivot 4.0: add 1.25 * (row 1) to (row 2)\")\n",
       "  (div { style=Dict{Any, Any}(\"align-items\" => :center, \"display\" => \"flex\", \"flex-direction\" => \"row\") }\n",
       "    [4 6 … -7 -4; -5 9 … -9 4; … ; -1 4 … 0 -3; 4 -8 … 5 -2]\n",
       "    (div { style=Dict{String, Measures.Length{U, Float64} where U}(\"height\" => 0.0px, \"width\" => 1.0em) })\n",
       "    \"⟶\"\n",
       "    (div { style=Dict{String, Measures.Length{U, Float64} where U}(\"height\" => 0.0px, \"width\" => 1.0em) })\n",
       "    [4.0 6.0 … -7.0 -4.0; 0.0 16.5 … -17.75 -1.0; … ; -1.0 4.0 … 0.0 -3.0; 4.0 -8.0 … 5.0 -2.0]))"
      ]
     },
     "metadata": {
      "application/vnd.webio.node+json": {
       "kernelId": "e075c803-bca2-4c5f-9e01-34fec12b6e1f"
      }
     },
     "output_type": "display_data"
    },
    {
     "data": {
      "application/vnd.webio.node+json": {
       "children": [
        {
         "children": [
          "Gaussian elimination for column 1 with pivot 4.0: add -1.25 * (row 1) to (row 3)"
         ],
         "instanceArgs": {
          "namespace": "html",
          "tag": "pre"
         },
         "nodeType": "DOM",
         "props": {},
         "type": "node"
        },
        {
         "children": [
          {
           "children": [],
           "instanceArgs": {
            "namespace": "html",
            "tag": "div"
           },
           "nodeType": "DOM",
           "props": {
            "setInnerHtml": "<pre>5×5 Matrix{Float64}:\n  4.0   6.0   -2.0   -7.0   -4.0\n  0.0  16.5  -11.5  -17.75  -1.0\n  5.0  -3.0   -7.0    2.0    3.0\n -1.0   4.0    1.0    0.0   -3.0\n  4.0  -8.0    4.0    5.0   -2.0</pre>"
           },
           "type": "node"
          },
          {
           "children": [],
           "instanceArgs": {
            "namespace": "html",
            "tag": "div"
           },
           "nodeType": "DOM",
           "props": {
            "style": {
             "height": "0.0px",
             "width": "1.0em"
            }
           },
           "type": "node"
          },
          "⟶",
          {
           "children": [],
           "instanceArgs": {
            "namespace": "html",
            "tag": "div"
           },
           "nodeType": "DOM",
           "props": {
            "style": {
             "height": "0.0px",
             "width": "1.0em"
            }
           },
           "type": "node"
          },
          {
           "children": [],
           "instanceArgs": {
            "namespace": "html",
            "tag": "div"
           },
           "nodeType": "DOM",
           "props": {
            "setInnerHtml": "<pre>5×5 Matrix{Float64}:\n  4.0    6.0   -2.0   -7.0   -4.0\n  0.0   16.5  -11.5  -17.75  -1.0\n  0.0  -10.5   -4.5   10.75   8.0\n -1.0    4.0    1.0    0.0   -3.0\n  4.0   -8.0    4.0    5.0   -2.0</pre>"
           },
           "type": "node"
          }
         ],
         "instanceArgs": {
          "namespace": "html",
          "tag": "div"
         },
         "nodeType": "DOM",
         "props": {
          "style": {
           "align-items": "center",
           "display": "flex",
           "flex-direction": "row"
          }
         },
         "type": "node"
        }
       ],
       "instanceArgs": {
        "namespace": "html",
        "tag": "div"
       },
       "nodeType": "DOM",
       "props": {
        "style": {
         "align-items": "center",
         "display": "flex",
         "flex-direction": "column"
        }
       },
       "type": "node"
      },
      "text/html": [
       "<div\n",
       "    class=\"webio-mountpoint\"\n",
       "    data-webio-mountpoint=\"12555534838055582235\"\n",
       ">\n",
       "    <script>\n",
       "    (function(){\n",
       "    // Some integrations (namely, IJulia/Jupyter) use an alternate render pathway than\n",
       "    // just putting the html on the page. If WebIO isn't defined, then it's pretty likely\n",
       "    // that we're in one of those situations and the integration just isn't installed\n",
       "    // correctly.\n",
       "    if (typeof window.WebIO === \"undefined\") {\n",
       "        document\n",
       "            .querySelector('[data-webio-mountpoint=\"12555534838055582235\"]')\n",
       "            .innerHTML = (\n",
       "                '<div style=\"padding: 1em; background-color: #f8d6da; border: 1px solid #f5c6cb; font-weight: bold;\">' +\n",
       "                '<p><strong>WebIO not detected.</strong></p>' +\n",
       "                '<p>Please read ' +\n",
       "                '<a href=\"https://juliagizmos.github.io/WebIO.jl/latest/troubleshooting/not-detected/\" target=\"_blank\">the troubleshooting guide</a> ' +\n",
       "                'for more information on how to resolve this issue.</p>' +\n",
       "                '<p><a href=\"https://juliagizmos.github.io/WebIO.jl/latest/troubleshooting/not-detected/\" target=\"_blank\">https://juliagizmos.github.io/WebIO.jl/latest/troubleshooting/not-detected/</a></p>' +\n",
       "                '</div>'\n",
       "            );\n",
       "        return;\n",
       "    }\n",
       "    WebIO.mount(\n",
       "        document.querySelector('[data-webio-mountpoint=\"12555534838055582235\"]'),\n",
       "        {\"props\":{\"style\":{\"align-items\":\"center\",\"display\":\"flex\",\"flex-direction\":\"column\"}},\"nodeType\":\"DOM\",\"type\":\"node\",\"instanceArgs\":{\"namespace\":\"html\",\"tag\":\"div\"},\"children\":[{\"props\":{},\"nodeType\":\"DOM\",\"type\":\"node\",\"instanceArgs\":{\"namespace\":\"html\",\"tag\":\"pre\"},\"children\":[\"Gaussian elimination for column 1 with pivot 4.0: add -1.25 * (row 1) to (row 3)\"]},{\"props\":{\"style\":{\"align-items\":\"center\",\"display\":\"flex\",\"flex-direction\":\"row\"}},\"nodeType\":\"DOM\",\"type\":\"node\",\"instanceArgs\":{\"namespace\":\"html\",\"tag\":\"div\"},\"children\":[{\"props\":{\"setInnerHtml\":\"<pre>5×5 Matrix{Float64}:\\n  4.0   6.0   -2.0   -7.0   -4.0\\n  0.0  16.5  -11.5  -17.75  -1.0\\n  5.0  -3.0   -7.0    2.0    3.0\\n -1.0   4.0    1.0    0.0   -3.0\\n  4.0  -8.0    4.0    5.0   -2.0<\\/pre>\"},\"nodeType\":\"DOM\",\"type\":\"node\",\"instanceArgs\":{\"namespace\":\"html\",\"tag\":\"div\"},\"children\":[]},{\"props\":{\"style\":{\"height\":\"0.0px\",\"width\":\"1.0em\"}},\"nodeType\":\"DOM\",\"type\":\"node\",\"instanceArgs\":{\"namespace\":\"html\",\"tag\":\"div\"},\"children\":[]},\"⟶\",{\"props\":{\"style\":{\"height\":\"0.0px\",\"width\":\"1.0em\"}},\"nodeType\":\"DOM\",\"type\":\"node\",\"instanceArgs\":{\"namespace\":\"html\",\"tag\":\"div\"},\"children\":[]},{\"props\":{\"setInnerHtml\":\"<pre>5×5 Matrix{Float64}:\\n  4.0    6.0   -2.0   -7.0   -4.0\\n  0.0   16.5  -11.5  -17.75  -1.0\\n  0.0  -10.5   -4.5   10.75   8.0\\n -1.0    4.0    1.0    0.0   -3.0\\n  4.0   -8.0    4.0    5.0   -2.0<\\/pre>\"},\"nodeType\":\"DOM\",\"type\":\"node\",\"instanceArgs\":{\"namespace\":\"html\",\"tag\":\"div\"},\"children\":[]}]}]},\n",
       "        window,\n",
       "    );\n",
       "    })()\n",
       "    </script>\n",
       "</div>\n"
      ],
      "text/plain": [
       "(div { style=Dict{Any, Any}(\"align-items\" => :center, \"display\" => \"flex\", \"flex-direction\" => \"column\") }\n",
       "  (pre\n",
       "    \"Gaussian elimination for column 1 with pivot 4.0: add -1.25 * (row 1) to (row 3)\")\n",
       "  (div { style=Dict{Any, Any}(\"align-items\" => :center, \"display\" => \"flex\", \"flex-direction\" => \"row\") }\n",
       "    [4.0 6.0 … -7.0 -4.0; 0.0 16.5 … -17.75 -1.0; … ; -1.0 4.0 … 0.0 -3.0; 4.0 -8.0 … 5.0 -2.0]\n",
       "    (div { style=Dict{String, Measures.Length{U, Float64} where U}(\"height\" => 0.0px, \"width\" => 1.0em) })\n",
       "    \"⟶\"\n",
       "    (div { style=Dict{String, Measures.Length{U, Float64} where U}(\"height\" => 0.0px, \"width\" => 1.0em) })\n",
       "    [4.0 6.0 … -7.0 -4.0; 0.0 16.5 … -17.75 -1.0; … ; -1.0 4.0 … 0.0 -3.0; 4.0 -8.0 … 5.0 -2.0]))"
      ]
     },
     "metadata": {
      "application/vnd.webio.node+json": {
       "kernelId": "e075c803-bca2-4c5f-9e01-34fec12b6e1f"
      }
     },
     "output_type": "display_data"
    },
    {
     "data": {
      "application/vnd.webio.node+json": {
       "children": [
        {
         "children": [
          "Gaussian elimination for column 1 with pivot 4.0: add 0.25 * (row 1) to (row 4)"
         ],
         "instanceArgs": {
          "namespace": "html",
          "tag": "pre"
         },
         "nodeType": "DOM",
         "props": {},
         "type": "node"
        },
        {
         "children": [
          {
           "children": [],
           "instanceArgs": {
            "namespace": "html",
            "tag": "div"
           },
           "nodeType": "DOM",
           "props": {
            "setInnerHtml": "<pre>5×5 Matrix{Float64}:\n  4.0    6.0   -2.0   -7.0   -4.0\n  0.0   16.5  -11.5  -17.75  -1.0\n  0.0  -10.5   -4.5   10.75   8.0\n -1.0    4.0    1.0    0.0   -3.0\n  4.0   -8.0    4.0    5.0   -2.0</pre>"
           },
           "type": "node"
          },
          {
           "children": [],
           "instanceArgs": {
            "namespace": "html",
            "tag": "div"
           },
           "nodeType": "DOM",
           "props": {
            "style": {
             "height": "0.0px",
             "width": "1.0em"
            }
           },
           "type": "node"
          },
          "⟶",
          {
           "children": [],
           "instanceArgs": {
            "namespace": "html",
            "tag": "div"
           },
           "nodeType": "DOM",
           "props": {
            "style": {
             "height": "0.0px",
             "width": "1.0em"
            }
           },
           "type": "node"
          },
          {
           "children": [],
           "instanceArgs": {
            "namespace": "html",
            "tag": "div"
           },
           "nodeType": "DOM",
           "props": {
            "setInnerHtml": "<pre>5×5 Matrix{Float64}:\n 4.0    6.0   -2.0   -7.0   -4.0\n 0.0   16.5  -11.5  -17.75  -1.0\n 0.0  -10.5   -4.5   10.75   8.0\n 0.0    5.5    0.5   -1.75  -4.0\n 4.0   -8.0    4.0    5.0   -2.0</pre>"
           },
           "type": "node"
          }
         ],
         "instanceArgs": {
          "namespace": "html",
          "tag": "div"
         },
         "nodeType": "DOM",
         "props": {
          "style": {
           "align-items": "center",
           "display": "flex",
           "flex-direction": "row"
          }
         },
         "type": "node"
        }
       ],
       "instanceArgs": {
        "namespace": "html",
        "tag": "div"
       },
       "nodeType": "DOM",
       "props": {
        "style": {
         "align-items": "center",
         "display": "flex",
         "flex-direction": "column"
        }
       },
       "type": "node"
      },
      "text/html": [
       "<div\n",
       "    class=\"webio-mountpoint\"\n",
       "    data-webio-mountpoint=\"7454034494412230795\"\n",
       ">\n",
       "    <script>\n",
       "    (function(){\n",
       "    // Some integrations (namely, IJulia/Jupyter) use an alternate render pathway than\n",
       "    // just putting the html on the page. If WebIO isn't defined, then it's pretty likely\n",
       "    // that we're in one of those situations and the integration just isn't installed\n",
       "    // correctly.\n",
       "    if (typeof window.WebIO === \"undefined\") {\n",
       "        document\n",
       "            .querySelector('[data-webio-mountpoint=\"7454034494412230795\"]')\n",
       "            .innerHTML = (\n",
       "                '<div style=\"padding: 1em; background-color: #f8d6da; border: 1px solid #f5c6cb; font-weight: bold;\">' +\n",
       "                '<p><strong>WebIO not detected.</strong></p>' +\n",
       "                '<p>Please read ' +\n",
       "                '<a href=\"https://juliagizmos.github.io/WebIO.jl/latest/troubleshooting/not-detected/\" target=\"_blank\">the troubleshooting guide</a> ' +\n",
       "                'for more information on how to resolve this issue.</p>' +\n",
       "                '<p><a href=\"https://juliagizmos.github.io/WebIO.jl/latest/troubleshooting/not-detected/\" target=\"_blank\">https://juliagizmos.github.io/WebIO.jl/latest/troubleshooting/not-detected/</a></p>' +\n",
       "                '</div>'\n",
       "            );\n",
       "        return;\n",
       "    }\n",
       "    WebIO.mount(\n",
       "        document.querySelector('[data-webio-mountpoint=\"7454034494412230795\"]'),\n",
       "        {\"props\":{\"style\":{\"align-items\":\"center\",\"display\":\"flex\",\"flex-direction\":\"column\"}},\"nodeType\":\"DOM\",\"type\":\"node\",\"instanceArgs\":{\"namespace\":\"html\",\"tag\":\"div\"},\"children\":[{\"props\":{},\"nodeType\":\"DOM\",\"type\":\"node\",\"instanceArgs\":{\"namespace\":\"html\",\"tag\":\"pre\"},\"children\":[\"Gaussian elimination for column 1 with pivot 4.0: add 0.25 * (row 1) to (row 4)\"]},{\"props\":{\"style\":{\"align-items\":\"center\",\"display\":\"flex\",\"flex-direction\":\"row\"}},\"nodeType\":\"DOM\",\"type\":\"node\",\"instanceArgs\":{\"namespace\":\"html\",\"tag\":\"div\"},\"children\":[{\"props\":{\"setInnerHtml\":\"<pre>5×5 Matrix{Float64}:\\n  4.0    6.0   -2.0   -7.0   -4.0\\n  0.0   16.5  -11.5  -17.75  -1.0\\n  0.0  -10.5   -4.5   10.75   8.0\\n -1.0    4.0    1.0    0.0   -3.0\\n  4.0   -8.0    4.0    5.0   -2.0<\\/pre>\"},\"nodeType\":\"DOM\",\"type\":\"node\",\"instanceArgs\":{\"namespace\":\"html\",\"tag\":\"div\"},\"children\":[]},{\"props\":{\"style\":{\"height\":\"0.0px\",\"width\":\"1.0em\"}},\"nodeType\":\"DOM\",\"type\":\"node\",\"instanceArgs\":{\"namespace\":\"html\",\"tag\":\"div\"},\"children\":[]},\"⟶\",{\"props\":{\"style\":{\"height\":\"0.0px\",\"width\":\"1.0em\"}},\"nodeType\":\"DOM\",\"type\":\"node\",\"instanceArgs\":{\"namespace\":\"html\",\"tag\":\"div\"},\"children\":[]},{\"props\":{\"setInnerHtml\":\"<pre>5×5 Matrix{Float64}:\\n 4.0    6.0   -2.0   -7.0   -4.0\\n 0.0   16.5  -11.5  -17.75  -1.0\\n 0.0  -10.5   -4.5   10.75   8.0\\n 0.0    5.5    0.5   -1.75  -4.0\\n 4.0   -8.0    4.0    5.0   -2.0<\\/pre>\"},\"nodeType\":\"DOM\",\"type\":\"node\",\"instanceArgs\":{\"namespace\":\"html\",\"tag\":\"div\"},\"children\":[]}]}]},\n",
       "        window,\n",
       "    );\n",
       "    })()\n",
       "    </script>\n",
       "</div>\n"
      ],
      "text/plain": [
       "(div { style=Dict{Any, Any}(\"align-items\" => :center, \"display\" => \"flex\", \"flex-direction\" => \"column\") }\n",
       "  (pre\n",
       "    \"Gaussian elimination for column 1 with pivot 4.0: add 0.25 * (row 1) to (row 4)\")\n",
       "  (div { style=Dict{Any, Any}(\"align-items\" => :center, \"display\" => \"flex\", \"flex-direction\" => \"row\") }\n",
       "    [4.0 6.0 … -7.0 -4.0; 0.0 16.5 … -17.75 -1.0; … ; -1.0 4.0 … 0.0 -3.0; 4.0 -8.0 … 5.0 -2.0]\n",
       "    (div { style=Dict{String, Measures.Length{U, Float64} where U}(\"height\" => 0.0px, \"width\" => 1.0em) })\n",
       "    \"⟶\"\n",
       "    (div { style=Dict{String, Measures.Length{U, Float64} where U}(\"height\" => 0.0px, \"width\" => 1.0em) })\n",
       "    [4.0 6.0 … -7.0 -4.0; 0.0 16.5 … -17.75 -1.0; … ; 0.0 5.5 … -1.75 -4.0; 4.0 -8.0 … 5.0 -2.0]))"
      ]
     },
     "metadata": {
      "application/vnd.webio.node+json": {
       "kernelId": "e075c803-bca2-4c5f-9e01-34fec12b6e1f"
      }
     },
     "output_type": "display_data"
    },
    {
     "data": {
      "application/vnd.webio.node+json": {
       "children": [
        {
         "children": [
          "Gaussian elimination for column 1 with pivot 4.0: add -1.0 * (row 1) to (row 5)"
         ],
         "instanceArgs": {
          "namespace": "html",
          "tag": "pre"
         },
         "nodeType": "DOM",
         "props": {},
         "type": "node"
        },
        {
         "children": [
          {
           "children": [],
           "instanceArgs": {
            "namespace": "html",
            "tag": "div"
           },
           "nodeType": "DOM",
           "props": {
            "setInnerHtml": "<pre>5×5 Matrix{Float64}:\n 4.0    6.0   -2.0   -7.0   -4.0\n 0.0   16.5  -11.5  -17.75  -1.0\n 0.0  -10.5   -4.5   10.75   8.0\n 0.0    5.5    0.5   -1.75  -4.0\n 4.0   -8.0    4.0    5.0   -2.0</pre>"
           },
           "type": "node"
          },
          {
           "children": [],
           "instanceArgs": {
            "namespace": "html",
            "tag": "div"
           },
           "nodeType": "DOM",
           "props": {
            "style": {
             "height": "0.0px",
             "width": "1.0em"
            }
           },
           "type": "node"
          },
          "⟶",
          {
           "children": [],
           "instanceArgs": {
            "namespace": "html",
            "tag": "div"
           },
           "nodeType": "DOM",
           "props": {
            "style": {
             "height": "0.0px",
             "width": "1.0em"
            }
           },
           "type": "node"
          },
          {
           "children": [],
           "instanceArgs": {
            "namespace": "html",
            "tag": "div"
           },
           "nodeType": "DOM",
           "props": {
            "setInnerHtml": "<pre>5×5 Matrix{Float64}:\n 4.0    6.0   -2.0   -7.0   -4.0\n 0.0   16.5  -11.5  -17.75  -1.0\n 0.0  -10.5   -4.5   10.75   8.0\n 0.0    5.5    0.5   -1.75  -4.0\n 0.0  -14.0    6.0   12.0    2.0</pre>"
           },
           "type": "node"
          }
         ],
         "instanceArgs": {
          "namespace": "html",
          "tag": "div"
         },
         "nodeType": "DOM",
         "props": {
          "style": {
           "align-items": "center",
           "display": "flex",
           "flex-direction": "row"
          }
         },
         "type": "node"
        }
       ],
       "instanceArgs": {
        "namespace": "html",
        "tag": "div"
       },
       "nodeType": "DOM",
       "props": {
        "style": {
         "align-items": "center",
         "display": "flex",
         "flex-direction": "column"
        }
       },
       "type": "node"
      },
      "text/html": [
       "<div\n",
       "    class=\"webio-mountpoint\"\n",
       "    data-webio-mountpoint=\"13942038800398122192\"\n",
       ">\n",
       "    <script>\n",
       "    (function(){\n",
       "    // Some integrations (namely, IJulia/Jupyter) use an alternate render pathway than\n",
       "    // just putting the html on the page. If WebIO isn't defined, then it's pretty likely\n",
       "    // that we're in one of those situations and the integration just isn't installed\n",
       "    // correctly.\n",
       "    if (typeof window.WebIO === \"undefined\") {\n",
       "        document\n",
       "            .querySelector('[data-webio-mountpoint=\"13942038800398122192\"]')\n",
       "            .innerHTML = (\n",
       "                '<div style=\"padding: 1em; background-color: #f8d6da; border: 1px solid #f5c6cb; font-weight: bold;\">' +\n",
       "                '<p><strong>WebIO not detected.</strong></p>' +\n",
       "                '<p>Please read ' +\n",
       "                '<a href=\"https://juliagizmos.github.io/WebIO.jl/latest/troubleshooting/not-detected/\" target=\"_blank\">the troubleshooting guide</a> ' +\n",
       "                'for more information on how to resolve this issue.</p>' +\n",
       "                '<p><a href=\"https://juliagizmos.github.io/WebIO.jl/latest/troubleshooting/not-detected/\" target=\"_blank\">https://juliagizmos.github.io/WebIO.jl/latest/troubleshooting/not-detected/</a></p>' +\n",
       "                '</div>'\n",
       "            );\n",
       "        return;\n",
       "    }\n",
       "    WebIO.mount(\n",
       "        document.querySelector('[data-webio-mountpoint=\"13942038800398122192\"]'),\n",
       "        {\"props\":{\"style\":{\"align-items\":\"center\",\"display\":\"flex\",\"flex-direction\":\"column\"}},\"nodeType\":\"DOM\",\"type\":\"node\",\"instanceArgs\":{\"namespace\":\"html\",\"tag\":\"div\"},\"children\":[{\"props\":{},\"nodeType\":\"DOM\",\"type\":\"node\",\"instanceArgs\":{\"namespace\":\"html\",\"tag\":\"pre\"},\"children\":[\"Gaussian elimination for column 1 with pivot 4.0: add -1.0 * (row 1) to (row 5)\"]},{\"props\":{\"style\":{\"align-items\":\"center\",\"display\":\"flex\",\"flex-direction\":\"row\"}},\"nodeType\":\"DOM\",\"type\":\"node\",\"instanceArgs\":{\"namespace\":\"html\",\"tag\":\"div\"},\"children\":[{\"props\":{\"setInnerHtml\":\"<pre>5×5 Matrix{Float64}:\\n 4.0    6.0   -2.0   -7.0   -4.0\\n 0.0   16.5  -11.5  -17.75  -1.0\\n 0.0  -10.5   -4.5   10.75   8.0\\n 0.0    5.5    0.5   -1.75  -4.0\\n 4.0   -8.0    4.0    5.0   -2.0<\\/pre>\"},\"nodeType\":\"DOM\",\"type\":\"node\",\"instanceArgs\":{\"namespace\":\"html\",\"tag\":\"div\"},\"children\":[]},{\"props\":{\"style\":{\"height\":\"0.0px\",\"width\":\"1.0em\"}},\"nodeType\":\"DOM\",\"type\":\"node\",\"instanceArgs\":{\"namespace\":\"html\",\"tag\":\"div\"},\"children\":[]},\"⟶\",{\"props\":{\"style\":{\"height\":\"0.0px\",\"width\":\"1.0em\"}},\"nodeType\":\"DOM\",\"type\":\"node\",\"instanceArgs\":{\"namespace\":\"html\",\"tag\":\"div\"},\"children\":[]},{\"props\":{\"setInnerHtml\":\"<pre>5×5 Matrix{Float64}:\\n 4.0    6.0   -2.0   -7.0   -4.0\\n 0.0   16.5  -11.5  -17.75  -1.0\\n 0.0  -10.5   -4.5   10.75   8.0\\n 0.0    5.5    0.5   -1.75  -4.0\\n 0.0  -14.0    6.0   12.0    2.0<\\/pre>\"},\"nodeType\":\"DOM\",\"type\":\"node\",\"instanceArgs\":{\"namespace\":\"html\",\"tag\":\"div\"},\"children\":[]}]}]},\n",
       "        window,\n",
       "    );\n",
       "    })()\n",
       "    </script>\n",
       "</div>\n"
      ],
      "text/plain": [
       "(div { style=Dict{Any, Any}(\"align-items\" => :center, \"display\" => \"flex\", \"flex-direction\" => \"column\") }\n",
       "  (pre\n",
       "    \"Gaussian elimination for column 1 with pivot 4.0: add -1.0 * (row 1) to (row 5)\")\n",
       "  (div { style=Dict{Any, Any}(\"align-items\" => :center, \"display\" => \"flex\", \"flex-direction\" => \"row\") }\n",
       "    [4.0 6.0 … -7.0 -4.0; 0.0 16.5 … -17.75 -1.0; … ; 0.0 5.5 … -1.75 -4.0; 4.0 -8.0 … 5.0 -2.0]\n",
       "    (div { style=Dict{String, Measures.Length{U, Float64} where U}(\"height\" => 0.0px, \"width\" => 1.0em) })\n",
       "    \"⟶\"\n",
       "    (div { style=Dict{String, Measures.Length{U, Float64} where U}(\"height\" => 0.0px, \"width\" => 1.0em) })\n",
       "    [4.0 6.0 … -7.0 -4.0; 0.0 16.5 … -17.75 -1.0; … ; 0.0 5.5 … -1.75 -4.0; 0.0 -14.0 … 12.0 2.0]))"
      ]
     },
     "metadata": {
      "application/vnd.webio.node+json": {
       "kernelId": "e075c803-bca2-4c5f-9e01-34fec12b6e1f"
      }
     },
     "output_type": "display_data"
    },
    {
     "data": {
      "application/vnd.webio.node+json": {
       "children": [
        {
         "children": [
          "Gaussian elimination for column 2 with pivot 16.5: add 0.636 * (row 2) to (row 3)"
         ],
         "instanceArgs": {
          "namespace": "html",
          "tag": "pre"
         },
         "nodeType": "DOM",
         "props": {},
         "type": "node"
        },
        {
         "children": [
          {
           "children": [],
           "instanceArgs": {
            "namespace": "html",
            "tag": "div"
           },
           "nodeType": "DOM",
           "props": {
            "setInnerHtml": "<pre>5×5 Matrix{Float64}:\n 4.0    6.0   -2.0   -7.0   -4.0\n 0.0   16.5  -11.5  -17.75  -1.0\n 0.0  -10.5   -4.5   10.75   8.0\n 0.0    5.5    0.5   -1.75  -4.0\n 0.0  -14.0    6.0   12.0    2.0</pre>"
           },
           "type": "node"
          },
          {
           "children": [],
           "instanceArgs": {
            "namespace": "html",
            "tag": "div"
           },
           "nodeType": "DOM",
           "props": {
            "style": {
             "height": "0.0px",
             "width": "1.0em"
            }
           },
           "type": "node"
          },
          "⟶",
          {
           "children": [],
           "instanceArgs": {
            "namespace": "html",
            "tag": "div"
           },
           "nodeType": "DOM",
           "props": {
            "style": {
             "height": "0.0px",
             "width": "1.0em"
            }
           },
           "type": "node"
          },
          {
           "children": [],
           "instanceArgs": {
            "namespace": "html",
            "tag": "div"
           },
           "nodeType": "DOM",
           "props": {
            "setInnerHtml": "<pre>5×5 Matrix{Float64}:\n 4.0    6.0   -2.0     -7.0    -4.0\n 0.0   16.5  -11.5    -17.75   -1.0\n 0.0    0.0  -11.818   -0.545   7.364\n 0.0    5.5    0.5     -1.75   -4.0\n 0.0  -14.0    6.0     12.0     2.0</pre>"
           },
           "type": "node"
          }
         ],
         "instanceArgs": {
          "namespace": "html",
          "tag": "div"
         },
         "nodeType": "DOM",
         "props": {
          "style": {
           "align-items": "center",
           "display": "flex",
           "flex-direction": "row"
          }
         },
         "type": "node"
        }
       ],
       "instanceArgs": {
        "namespace": "html",
        "tag": "div"
       },
       "nodeType": "DOM",
       "props": {
        "style": {
         "align-items": "center",
         "display": "flex",
         "flex-direction": "column"
        }
       },
       "type": "node"
      },
      "text/html": [
       "<div\n",
       "    class=\"webio-mountpoint\"\n",
       "    data-webio-mountpoint=\"5562097576839399099\"\n",
       ">\n",
       "    <script>\n",
       "    (function(){\n",
       "    // Some integrations (namely, IJulia/Jupyter) use an alternate render pathway than\n",
       "    // just putting the html on the page. If WebIO isn't defined, then it's pretty likely\n",
       "    // that we're in one of those situations and the integration just isn't installed\n",
       "    // correctly.\n",
       "    if (typeof window.WebIO === \"undefined\") {\n",
       "        document\n",
       "            .querySelector('[data-webio-mountpoint=\"5562097576839399099\"]')\n",
       "            .innerHTML = (\n",
       "                '<div style=\"padding: 1em; background-color: #f8d6da; border: 1px solid #f5c6cb; font-weight: bold;\">' +\n",
       "                '<p><strong>WebIO not detected.</strong></p>' +\n",
       "                '<p>Please read ' +\n",
       "                '<a href=\"https://juliagizmos.github.io/WebIO.jl/latest/troubleshooting/not-detected/\" target=\"_blank\">the troubleshooting guide</a> ' +\n",
       "                'for more information on how to resolve this issue.</p>' +\n",
       "                '<p><a href=\"https://juliagizmos.github.io/WebIO.jl/latest/troubleshooting/not-detected/\" target=\"_blank\">https://juliagizmos.github.io/WebIO.jl/latest/troubleshooting/not-detected/</a></p>' +\n",
       "                '</div>'\n",
       "            );\n",
       "        return;\n",
       "    }\n",
       "    WebIO.mount(\n",
       "        document.querySelector('[data-webio-mountpoint=\"5562097576839399099\"]'),\n",
       "        {\"props\":{\"style\":{\"align-items\":\"center\",\"display\":\"flex\",\"flex-direction\":\"column\"}},\"nodeType\":\"DOM\",\"type\":\"node\",\"instanceArgs\":{\"namespace\":\"html\",\"tag\":\"div\"},\"children\":[{\"props\":{},\"nodeType\":\"DOM\",\"type\":\"node\",\"instanceArgs\":{\"namespace\":\"html\",\"tag\":\"pre\"},\"children\":[\"Gaussian elimination for column 2 with pivot 16.5: add 0.636 * (row 2) to (row 3)\"]},{\"props\":{\"style\":{\"align-items\":\"center\",\"display\":\"flex\",\"flex-direction\":\"row\"}},\"nodeType\":\"DOM\",\"type\":\"node\",\"instanceArgs\":{\"namespace\":\"html\",\"tag\":\"div\"},\"children\":[{\"props\":{\"setInnerHtml\":\"<pre>5×5 Matrix{Float64}:\\n 4.0    6.0   -2.0   -7.0   -4.0\\n 0.0   16.5  -11.5  -17.75  -1.0\\n 0.0  -10.5   -4.5   10.75   8.0\\n 0.0    5.5    0.5   -1.75  -4.0\\n 0.0  -14.0    6.0   12.0    2.0<\\/pre>\"},\"nodeType\":\"DOM\",\"type\":\"node\",\"instanceArgs\":{\"namespace\":\"html\",\"tag\":\"div\"},\"children\":[]},{\"props\":{\"style\":{\"height\":\"0.0px\",\"width\":\"1.0em\"}},\"nodeType\":\"DOM\",\"type\":\"node\",\"instanceArgs\":{\"namespace\":\"html\",\"tag\":\"div\"},\"children\":[]},\"⟶\",{\"props\":{\"style\":{\"height\":\"0.0px\",\"width\":\"1.0em\"}},\"nodeType\":\"DOM\",\"type\":\"node\",\"instanceArgs\":{\"namespace\":\"html\",\"tag\":\"div\"},\"children\":[]},{\"props\":{\"setInnerHtml\":\"<pre>5×5 Matrix{Float64}:\\n 4.0    6.0   -2.0     -7.0    -4.0\\n 0.0   16.5  -11.5    -17.75   -1.0\\n 0.0    0.0  -11.818   -0.545   7.364\\n 0.0    5.5    0.5     -1.75   -4.0\\n 0.0  -14.0    6.0     12.0     2.0<\\/pre>\"},\"nodeType\":\"DOM\",\"type\":\"node\",\"instanceArgs\":{\"namespace\":\"html\",\"tag\":\"div\"},\"children\":[]}]}]},\n",
       "        window,\n",
       "    );\n",
       "    })()\n",
       "    </script>\n",
       "</div>\n"
      ],
      "text/plain": [
       "(div { style=Dict{Any, Any}(\"align-items\" => :center, \"display\" => \"flex\", \"flex-direction\" => \"column\") }\n",
       "  (pre\n",
       "    \"Gaussian elimination for column 2 with pivot 16.5: add 0.636 * (row 2) to (row 3)\")\n",
       "  (div { style=Dict{Any, Any}(\"align-items\" => :center, \"display\" => \"flex\", \"flex-direction\" => \"row\") }\n",
       "    [4.0 6.0 … -7.0 -4.0; 0.0 16.5 … -17.75 -1.0; … ; 0.0 5.5 … -1.75 -4.0; 0.0 -14.0 … 12.0 2.0]\n",
       "    (div { style=Dict{String, Measures.Length{U, Float64} where U}(\"height\" => 0.0px, \"width\" => 1.0em) })\n",
       "    \"⟶\"\n",
       "    (div { style=Dict{String, Measures.Length{U, Float64} where U}(\"height\" => 0.0px, \"width\" => 1.0em) })\n",
       "    [4.0 6.0 … -7.0 -4.0; 0.0 16.5 … -17.75 -1.0; … ; 0.0 5.5 … -1.75 -4.0; 0.0 -14.0 … 12.0 2.0]))"
      ]
     },
     "metadata": {
      "application/vnd.webio.node+json": {
       "kernelId": "e075c803-bca2-4c5f-9e01-34fec12b6e1f"
      }
     },
     "output_type": "display_data"
    },
    {
     "data": {
      "application/vnd.webio.node+json": {
       "children": [
        {
         "children": [
          "Gaussian elimination for column 2 with pivot 16.5: add -0.333 * (row 2) to (row 4)"
         ],
         "instanceArgs": {
          "namespace": "html",
          "tag": "pre"
         },
         "nodeType": "DOM",
         "props": {},
         "type": "node"
        },
        {
         "children": [
          {
           "children": [],
           "instanceArgs": {
            "namespace": "html",
            "tag": "div"
           },
           "nodeType": "DOM",
           "props": {
            "setInnerHtml": "<pre>5×5 Matrix{Float64}:\n 4.0    6.0   -2.0     -7.0    -4.0\n 0.0   16.5  -11.5    -17.75   -1.0\n 0.0    0.0  -11.818   -0.545   7.364\n 0.0    5.5    0.5     -1.75   -4.0\n 0.0  -14.0    6.0     12.0     2.0</pre>"
           },
           "type": "node"
          },
          {
           "children": [],
           "instanceArgs": {
            "namespace": "html",
            "tag": "div"
           },
           "nodeType": "DOM",
           "props": {
            "style": {
             "height": "0.0px",
             "width": "1.0em"
            }
           },
           "type": "node"
          },
          "⟶",
          {
           "children": [],
           "instanceArgs": {
            "namespace": "html",
            "tag": "div"
           },
           "nodeType": "DOM",
           "props": {
            "style": {
             "height": "0.0px",
             "width": "1.0em"
            }
           },
           "type": "node"
          },
          {
           "children": [],
           "instanceArgs": {
            "namespace": "html",
            "tag": "div"
           },
           "nodeType": "DOM",
           "props": {
            "setInnerHtml": "<pre>5×5 Matrix{Float64}:\n 4.0    6.0   -2.0     -7.0    -4.0\n 0.0   16.5  -11.5    -17.75   -1.0\n 0.0    0.0  -11.818   -0.545   7.364\n 0.0    0.0    4.333    4.167  -3.667\n 0.0  -14.0    6.0     12.0     2.0</pre>"
           },
           "type": "node"
          }
         ],
         "instanceArgs": {
          "namespace": "html",
          "tag": "div"
         },
         "nodeType": "DOM",
         "props": {
          "style": {
           "align-items": "center",
           "display": "flex",
           "flex-direction": "row"
          }
         },
         "type": "node"
        }
       ],
       "instanceArgs": {
        "namespace": "html",
        "tag": "div"
       },
       "nodeType": "DOM",
       "props": {
        "style": {
         "align-items": "center",
         "display": "flex",
         "flex-direction": "column"
        }
       },
       "type": "node"
      },
      "text/html": [
       "<div\n",
       "    class=\"webio-mountpoint\"\n",
       "    data-webio-mountpoint=\"5805084910312540870\"\n",
       ">\n",
       "    <script>\n",
       "    (function(){\n",
       "    // Some integrations (namely, IJulia/Jupyter) use an alternate render pathway than\n",
       "    // just putting the html on the page. If WebIO isn't defined, then it's pretty likely\n",
       "    // that we're in one of those situations and the integration just isn't installed\n",
       "    // correctly.\n",
       "    if (typeof window.WebIO === \"undefined\") {\n",
       "        document\n",
       "            .querySelector('[data-webio-mountpoint=\"5805084910312540870\"]')\n",
       "            .innerHTML = (\n",
       "                '<div style=\"padding: 1em; background-color: #f8d6da; border: 1px solid #f5c6cb; font-weight: bold;\">' +\n",
       "                '<p><strong>WebIO not detected.</strong></p>' +\n",
       "                '<p>Please read ' +\n",
       "                '<a href=\"https://juliagizmos.github.io/WebIO.jl/latest/troubleshooting/not-detected/\" target=\"_blank\">the troubleshooting guide</a> ' +\n",
       "                'for more information on how to resolve this issue.</p>' +\n",
       "                '<p><a href=\"https://juliagizmos.github.io/WebIO.jl/latest/troubleshooting/not-detected/\" target=\"_blank\">https://juliagizmos.github.io/WebIO.jl/latest/troubleshooting/not-detected/</a></p>' +\n",
       "                '</div>'\n",
       "            );\n",
       "        return;\n",
       "    }\n",
       "    WebIO.mount(\n",
       "        document.querySelector('[data-webio-mountpoint=\"5805084910312540870\"]'),\n",
       "        {\"props\":{\"style\":{\"align-items\":\"center\",\"display\":\"flex\",\"flex-direction\":\"column\"}},\"nodeType\":\"DOM\",\"type\":\"node\",\"instanceArgs\":{\"namespace\":\"html\",\"tag\":\"div\"},\"children\":[{\"props\":{},\"nodeType\":\"DOM\",\"type\":\"node\",\"instanceArgs\":{\"namespace\":\"html\",\"tag\":\"pre\"},\"children\":[\"Gaussian elimination for column 2 with pivot 16.5: add -0.333 * (row 2) to (row 4)\"]},{\"props\":{\"style\":{\"align-items\":\"center\",\"display\":\"flex\",\"flex-direction\":\"row\"}},\"nodeType\":\"DOM\",\"type\":\"node\",\"instanceArgs\":{\"namespace\":\"html\",\"tag\":\"div\"},\"children\":[{\"props\":{\"setInnerHtml\":\"<pre>5×5 Matrix{Float64}:\\n 4.0    6.0   -2.0     -7.0    -4.0\\n 0.0   16.5  -11.5    -17.75   -1.0\\n 0.0    0.0  -11.818   -0.545   7.364\\n 0.0    5.5    0.5     -1.75   -4.0\\n 0.0  -14.0    6.0     12.0     2.0<\\/pre>\"},\"nodeType\":\"DOM\",\"type\":\"node\",\"instanceArgs\":{\"namespace\":\"html\",\"tag\":\"div\"},\"children\":[]},{\"props\":{\"style\":{\"height\":\"0.0px\",\"width\":\"1.0em\"}},\"nodeType\":\"DOM\",\"type\":\"node\",\"instanceArgs\":{\"namespace\":\"html\",\"tag\":\"div\"},\"children\":[]},\"⟶\",{\"props\":{\"style\":{\"height\":\"0.0px\",\"width\":\"1.0em\"}},\"nodeType\":\"DOM\",\"type\":\"node\",\"instanceArgs\":{\"namespace\":\"html\",\"tag\":\"div\"},\"children\":[]},{\"props\":{\"setInnerHtml\":\"<pre>5×5 Matrix{Float64}:\\n 4.0    6.0   -2.0     -7.0    -4.0\\n 0.0   16.5  -11.5    -17.75   -1.0\\n 0.0    0.0  -11.818   -0.545   7.364\\n 0.0    0.0    4.333    4.167  -3.667\\n 0.0  -14.0    6.0     12.0     2.0<\\/pre>\"},\"nodeType\":\"DOM\",\"type\":\"node\",\"instanceArgs\":{\"namespace\":\"html\",\"tag\":\"div\"},\"children\":[]}]}]},\n",
       "        window,\n",
       "    );\n",
       "    })()\n",
       "    </script>\n",
       "</div>\n"
      ],
      "text/plain": [
       "(div { style=Dict{Any, Any}(\"align-items\" => :center, \"display\" => \"flex\", \"flex-direction\" => \"column\") }\n",
       "  (pre\n",
       "    \"Gaussian elimination for column 2 with pivot 16.5: add -0.333 * (row 2) to (row 4)\")\n",
       "  (div { style=Dict{Any, Any}(\"align-items\" => :center, \"display\" => \"flex\", \"flex-direction\" => \"row\") }\n",
       "    [4.0 6.0 … -7.0 -4.0; 0.0 16.5 … -17.75 -1.0; … ; 0.0 5.5 … -1.75 -4.0; 0.0 -14.0 … 12.0 2.0]\n",
       "    (div { style=Dict{String, Measures.Length{U, Float64} where U}(\"height\" => 0.0px, \"width\" => 1.0em) })\n",
       "    \"⟶\"\n",
       "    (div { style=Dict{String, Measures.Length{U, Float64} where U}(\"height\" => 0.0px, \"width\" => 1.0em) })\n",
       "    [4.0 6.0 … -7.0 -4.0; 0.0 16.5 … -17.75 -1.0; … ; 0.0 0.0 … 4.167 -3.667; 0.0 -14.0 … 12.0 2.0]))"
      ]
     },
     "metadata": {
      "application/vnd.webio.node+json": {
       "kernelId": "e075c803-bca2-4c5f-9e01-34fec12b6e1f"
      }
     },
     "output_type": "display_data"
    },
    {
     "data": {
      "application/vnd.webio.node+json": {
       "children": [
        {
         "children": [
          "Gaussian elimination for column 2 with pivot 16.5: add 0.848 * (row 2) to (row 5)"
         ],
         "instanceArgs": {
          "namespace": "html",
          "tag": "pre"
         },
         "nodeType": "DOM",
         "props": {},
         "type": "node"
        },
        {
         "children": [
          {
           "children": [],
           "instanceArgs": {
            "namespace": "html",
            "tag": "div"
           },
           "nodeType": "DOM",
           "props": {
            "setInnerHtml": "<pre>5×5 Matrix{Float64}:\n 4.0    6.0   -2.0     -7.0    -4.0\n 0.0   16.5  -11.5    -17.75   -1.0\n 0.0    0.0  -11.818   -0.545   7.364\n 0.0    0.0    4.333    4.167  -3.667\n 0.0  -14.0    6.0     12.0     2.0</pre>"
           },
           "type": "node"
          },
          {
           "children": [],
           "instanceArgs": {
            "namespace": "html",
            "tag": "div"
           },
           "nodeType": "DOM",
           "props": {
            "style": {
             "height": "0.0px",
             "width": "1.0em"
            }
           },
           "type": "node"
          },
          "⟶",
          {
           "children": [],
           "instanceArgs": {
            "namespace": "html",
            "tag": "div"
           },
           "nodeType": "DOM",
           "props": {
            "style": {
             "height": "0.0px",
             "width": "1.0em"
            }
           },
           "type": "node"
          },
          {
           "children": [],
           "instanceArgs": {
            "namespace": "html",
            "tag": "div"
           },
           "nodeType": "DOM",
           "props": {
            "setInnerHtml": "<pre>5×5 Matrix{Float64}:\n 4.0   6.0   -2.0     -7.0    -4.0\n 0.0  16.5  -11.5    -17.75   -1.0\n 0.0   0.0  -11.818   -0.545   7.364\n 0.0   0.0    4.333    4.167  -3.667\n 0.0   0.0   -3.758   -3.061   1.152</pre>"
           },
           "type": "node"
          }
         ],
         "instanceArgs": {
          "namespace": "html",
          "tag": "div"
         },
         "nodeType": "DOM",
         "props": {
          "style": {
           "align-items": "center",
           "display": "flex",
           "flex-direction": "row"
          }
         },
         "type": "node"
        }
       ],
       "instanceArgs": {
        "namespace": "html",
        "tag": "div"
       },
       "nodeType": "DOM",
       "props": {
        "style": {
         "align-items": "center",
         "display": "flex",
         "flex-direction": "column"
        }
       },
       "type": "node"
      },
      "text/html": [
       "<div\n",
       "    class=\"webio-mountpoint\"\n",
       "    data-webio-mountpoint=\"7467654230707757981\"\n",
       ">\n",
       "    <script>\n",
       "    (function(){\n",
       "    // Some integrations (namely, IJulia/Jupyter) use an alternate render pathway than\n",
       "    // just putting the html on the page. If WebIO isn't defined, then it's pretty likely\n",
       "    // that we're in one of those situations and the integration just isn't installed\n",
       "    // correctly.\n",
       "    if (typeof window.WebIO === \"undefined\") {\n",
       "        document\n",
       "            .querySelector('[data-webio-mountpoint=\"7467654230707757981\"]')\n",
       "            .innerHTML = (\n",
       "                '<div style=\"padding: 1em; background-color: #f8d6da; border: 1px solid #f5c6cb; font-weight: bold;\">' +\n",
       "                '<p><strong>WebIO not detected.</strong></p>' +\n",
       "                '<p>Please read ' +\n",
       "                '<a href=\"https://juliagizmos.github.io/WebIO.jl/latest/troubleshooting/not-detected/\" target=\"_blank\">the troubleshooting guide</a> ' +\n",
       "                'for more information on how to resolve this issue.</p>' +\n",
       "                '<p><a href=\"https://juliagizmos.github.io/WebIO.jl/latest/troubleshooting/not-detected/\" target=\"_blank\">https://juliagizmos.github.io/WebIO.jl/latest/troubleshooting/not-detected/</a></p>' +\n",
       "                '</div>'\n",
       "            );\n",
       "        return;\n",
       "    }\n",
       "    WebIO.mount(\n",
       "        document.querySelector('[data-webio-mountpoint=\"7467654230707757981\"]'),\n",
       "        {\"props\":{\"style\":{\"align-items\":\"center\",\"display\":\"flex\",\"flex-direction\":\"column\"}},\"nodeType\":\"DOM\",\"type\":\"node\",\"instanceArgs\":{\"namespace\":\"html\",\"tag\":\"div\"},\"children\":[{\"props\":{},\"nodeType\":\"DOM\",\"type\":\"node\",\"instanceArgs\":{\"namespace\":\"html\",\"tag\":\"pre\"},\"children\":[\"Gaussian elimination for column 2 with pivot 16.5: add 0.848 * (row 2) to (row 5)\"]},{\"props\":{\"style\":{\"align-items\":\"center\",\"display\":\"flex\",\"flex-direction\":\"row\"}},\"nodeType\":\"DOM\",\"type\":\"node\",\"instanceArgs\":{\"namespace\":\"html\",\"tag\":\"div\"},\"children\":[{\"props\":{\"setInnerHtml\":\"<pre>5×5 Matrix{Float64}:\\n 4.0    6.0   -2.0     -7.0    -4.0\\n 0.0   16.5  -11.5    -17.75   -1.0\\n 0.0    0.0  -11.818   -0.545   7.364\\n 0.0    0.0    4.333    4.167  -3.667\\n 0.0  -14.0    6.0     12.0     2.0<\\/pre>\"},\"nodeType\":\"DOM\",\"type\":\"node\",\"instanceArgs\":{\"namespace\":\"html\",\"tag\":\"div\"},\"children\":[]},{\"props\":{\"style\":{\"height\":\"0.0px\",\"width\":\"1.0em\"}},\"nodeType\":\"DOM\",\"type\":\"node\",\"instanceArgs\":{\"namespace\":\"html\",\"tag\":\"div\"},\"children\":[]},\"⟶\",{\"props\":{\"style\":{\"height\":\"0.0px\",\"width\":\"1.0em\"}},\"nodeType\":\"DOM\",\"type\":\"node\",\"instanceArgs\":{\"namespace\":\"html\",\"tag\":\"div\"},\"children\":[]},{\"props\":{\"setInnerHtml\":\"<pre>5×5 Matrix{Float64}:\\n 4.0   6.0   -2.0     -7.0    -4.0\\n 0.0  16.5  -11.5    -17.75   -1.0\\n 0.0   0.0  -11.818   -0.545   7.364\\n 0.0   0.0    4.333    4.167  -3.667\\n 0.0   0.0   -3.758   -3.061   1.152<\\/pre>\"},\"nodeType\":\"DOM\",\"type\":\"node\",\"instanceArgs\":{\"namespace\":\"html\",\"tag\":\"div\"},\"children\":[]}]}]},\n",
       "        window,\n",
       "    );\n",
       "    })()\n",
       "    </script>\n",
       "</div>\n"
      ],
      "text/plain": [
       "(div { style=Dict{Any, Any}(\"align-items\" => :center, \"display\" => \"flex\", \"flex-direction\" => \"column\") }\n",
       "  (pre\n",
       "    \"Gaussian elimination for column 2 with pivot 16.5: add 0.848 * (row 2) to (row 5)\")\n",
       "  (div { style=Dict{Any, Any}(\"align-items\" => :center, \"display\" => \"flex\", \"flex-direction\" => \"row\") }\n",
       "    [4.0 6.0 … -7.0 -4.0; 0.0 16.5 … -17.75 -1.0; … ; 0.0 0.0 … 4.167 -3.667; 0.0 -14.0 … 12.0 2.0]\n",
       "    (div { style=Dict{String, Measures.Length{U, Float64} where U}(\"height\" => 0.0px, \"width\" => 1.0em) })\n",
       "    \"⟶\"\n",
       "    (div { style=Dict{String, Measures.Length{U, Float64} where U}(\"height\" => 0.0px, \"width\" => 1.0em) })\n",
       "    [4.0 6.0 … -7.0 -4.0; 0.0 16.5 … -17.75 -1.0; … ; 0.0 0.0 … 4.167 -3.667; 0.0 0.0 … -3.061 1.152]))"
      ]
     },
     "metadata": {
      "application/vnd.webio.node+json": {
       "kernelId": "e075c803-bca2-4c5f-9e01-34fec12b6e1f"
      }
     },
     "output_type": "display_data"
    },
    {
     "data": {
      "application/vnd.webio.node+json": {
       "children": [
        {
         "children": [
          "Gaussian elimination for column 3 with pivot -11.818181818181818: add 0.367 * (row 3) to (row 4)"
         ],
         "instanceArgs": {
          "namespace": "html",
          "tag": "pre"
         },
         "nodeType": "DOM",
         "props": {},
         "type": "node"
        },
        {
         "children": [
          {
           "children": [],
           "instanceArgs": {
            "namespace": "html",
            "tag": "div"
           },
           "nodeType": "DOM",
           "props": {
            "setInnerHtml": "<pre>5×5 Matrix{Float64}:\n 4.0   6.0   -2.0     -7.0    -4.0\n 0.0  16.5  -11.5    -17.75   -1.0\n 0.0   0.0  -11.818   -0.545   7.364\n 0.0   0.0    4.333    4.167  -3.667\n 0.0   0.0   -3.758   -3.061   1.152</pre>"
           },
           "type": "node"
          },
          {
           "children": [],
           "instanceArgs": {
            "namespace": "html",
            "tag": "div"
           },
           "nodeType": "DOM",
           "props": {
            "style": {
             "height": "0.0px",
             "width": "1.0em"
            }
           },
           "type": "node"
          },
          "⟶",
          {
           "children": [],
           "instanceArgs": {
            "namespace": "html",
            "tag": "div"
           },
           "nodeType": "DOM",
           "props": {
            "style": {
             "height": "0.0px",
             "width": "1.0em"
            }
           },
           "type": "node"
          },
          {
           "children": [],
           "instanceArgs": {
            "namespace": "html",
            "tag": "div"
           },
           "nodeType": "DOM",
           "props": {
            "setInnerHtml": "<pre>5×5 Matrix{Float64}:\n 4.0   6.0   -2.0     -7.0    -4.0\n 0.0  16.5  -11.5    -17.75   -1.0\n 0.0   0.0  -11.818   -0.545   7.364\n 0.0   0.0    0.0      3.967  -0.967\n 0.0   0.0   -3.758   -3.061   1.152</pre>"
           },
           "type": "node"
          }
         ],
         "instanceArgs": {
          "namespace": "html",
          "tag": "div"
         },
         "nodeType": "DOM",
         "props": {
          "style": {
           "align-items": "center",
           "display": "flex",
           "flex-direction": "row"
          }
         },
         "type": "node"
        }
       ],
       "instanceArgs": {
        "namespace": "html",
        "tag": "div"
       },
       "nodeType": "DOM",
       "props": {
        "style": {
         "align-items": "center",
         "display": "flex",
         "flex-direction": "column"
        }
       },
       "type": "node"
      },
      "text/html": [
       "<div\n",
       "    class=\"webio-mountpoint\"\n",
       "    data-webio-mountpoint=\"4656919709556440952\"\n",
       ">\n",
       "    <script>\n",
       "    (function(){\n",
       "    // Some integrations (namely, IJulia/Jupyter) use an alternate render pathway than\n",
       "    // just putting the html on the page. If WebIO isn't defined, then it's pretty likely\n",
       "    // that we're in one of those situations and the integration just isn't installed\n",
       "    // correctly.\n",
       "    if (typeof window.WebIO === \"undefined\") {\n",
       "        document\n",
       "            .querySelector('[data-webio-mountpoint=\"4656919709556440952\"]')\n",
       "            .innerHTML = (\n",
       "                '<div style=\"padding: 1em; background-color: #f8d6da; border: 1px solid #f5c6cb; font-weight: bold;\">' +\n",
       "                '<p><strong>WebIO not detected.</strong></p>' +\n",
       "                '<p>Please read ' +\n",
       "                '<a href=\"https://juliagizmos.github.io/WebIO.jl/latest/troubleshooting/not-detected/\" target=\"_blank\">the troubleshooting guide</a> ' +\n",
       "                'for more information on how to resolve this issue.</p>' +\n",
       "                '<p><a href=\"https://juliagizmos.github.io/WebIO.jl/latest/troubleshooting/not-detected/\" target=\"_blank\">https://juliagizmos.github.io/WebIO.jl/latest/troubleshooting/not-detected/</a></p>' +\n",
       "                '</div>'\n",
       "            );\n",
       "        return;\n",
       "    }\n",
       "    WebIO.mount(\n",
       "        document.querySelector('[data-webio-mountpoint=\"4656919709556440952\"]'),\n",
       "        {\"props\":{\"style\":{\"align-items\":\"center\",\"display\":\"flex\",\"flex-direction\":\"column\"}},\"nodeType\":\"DOM\",\"type\":\"node\",\"instanceArgs\":{\"namespace\":\"html\",\"tag\":\"div\"},\"children\":[{\"props\":{},\"nodeType\":\"DOM\",\"type\":\"node\",\"instanceArgs\":{\"namespace\":\"html\",\"tag\":\"pre\"},\"children\":[\"Gaussian elimination for column 3 with pivot -11.818181818181818: add 0.367 * (row 3) to (row 4)\"]},{\"props\":{\"style\":{\"align-items\":\"center\",\"display\":\"flex\",\"flex-direction\":\"row\"}},\"nodeType\":\"DOM\",\"type\":\"node\",\"instanceArgs\":{\"namespace\":\"html\",\"tag\":\"div\"},\"children\":[{\"props\":{\"setInnerHtml\":\"<pre>5×5 Matrix{Float64}:\\n 4.0   6.0   -2.0     -7.0    -4.0\\n 0.0  16.5  -11.5    -17.75   -1.0\\n 0.0   0.0  -11.818   -0.545   7.364\\n 0.0   0.0    4.333    4.167  -3.667\\n 0.0   0.0   -3.758   -3.061   1.152<\\/pre>\"},\"nodeType\":\"DOM\",\"type\":\"node\",\"instanceArgs\":{\"namespace\":\"html\",\"tag\":\"div\"},\"children\":[]},{\"props\":{\"style\":{\"height\":\"0.0px\",\"width\":\"1.0em\"}},\"nodeType\":\"DOM\",\"type\":\"node\",\"instanceArgs\":{\"namespace\":\"html\",\"tag\":\"div\"},\"children\":[]},\"⟶\",{\"props\":{\"style\":{\"height\":\"0.0px\",\"width\":\"1.0em\"}},\"nodeType\":\"DOM\",\"type\":\"node\",\"instanceArgs\":{\"namespace\":\"html\",\"tag\":\"div\"},\"children\":[]},{\"props\":{\"setInnerHtml\":\"<pre>5×5 Matrix{Float64}:\\n 4.0   6.0   -2.0     -7.0    -4.0\\n 0.0  16.5  -11.5    -17.75   -1.0\\n 0.0   0.0  -11.818   -0.545   7.364\\n 0.0   0.0    0.0      3.967  -0.967\\n 0.0   0.0   -3.758   -3.061   1.152<\\/pre>\"},\"nodeType\":\"DOM\",\"type\":\"node\",\"instanceArgs\":{\"namespace\":\"html\",\"tag\":\"div\"},\"children\":[]}]}]},\n",
       "        window,\n",
       "    );\n",
       "    })()\n",
       "    </script>\n",
       "</div>\n"
      ],
      "text/plain": [
       "(div { style=Dict{Any, Any}(\"align-items\" => :center, \"display\" => \"flex\", \"flex-direction\" => \"column\") }\n",
       "  (pre\n",
       "    \"Gaussian elimination for column 3 with pivot -11.818181818181818: add 0.367 * (row 3) to (row 4)\")\n",
       "  (div { style=Dict{Any, Any}(\"align-items\" => :center, \"display\" => \"flex\", \"flex-direction\" => \"row\") }\n",
       "    [4.0 6.0 … -7.0 -4.0; 0.0 16.5 … -17.75 -1.0; … ; 0.0 0.0 … 4.167 -3.667; 0.0 0.0 … -3.061 1.152]\n",
       "    (div { style=Dict{String, Measures.Length{U, Float64} where U}(\"height\" => 0.0px, \"width\" => 1.0em) })\n",
       "    \"⟶\"\n",
       "    (div { style=Dict{String, Measures.Length{U, Float64} where U}(\"height\" => 0.0px, \"width\" => 1.0em) })\n",
       "    [4.0 6.0 … -7.0 -4.0; 0.0 16.5 … -17.75 -1.0; … ; 0.0 0.0 … 3.967 -0.967; 0.0 0.0 … -3.061 1.152]))"
      ]
     },
     "metadata": {
      "application/vnd.webio.node+json": {
       "kernelId": "e075c803-bca2-4c5f-9e01-34fec12b6e1f"
      }
     },
     "output_type": "display_data"
    },
    {
     "data": {
      "application/vnd.webio.node+json": {
       "children": [
        {
         "children": [
          "Gaussian elimination for column 3 with pivot -11.818181818181818: add -0.318 * (row 3) to (row 5)"
         ],
         "instanceArgs": {
          "namespace": "html",
          "tag": "pre"
         },
         "nodeType": "DOM",
         "props": {},
         "type": "node"
        },
        {
         "children": [
          {
           "children": [],
           "instanceArgs": {
            "namespace": "html",
            "tag": "div"
           },
           "nodeType": "DOM",
           "props": {
            "setInnerHtml": "<pre>5×5 Matrix{Float64}:\n 4.0   6.0   -2.0     -7.0    -4.0\n 0.0  16.5  -11.5    -17.75   -1.0\n 0.0   0.0  -11.818   -0.545   7.364\n 0.0   0.0    0.0      3.967  -0.967\n 0.0   0.0   -3.758   -3.061   1.152</pre>"
           },
           "type": "node"
          },
          {
           "children": [],
           "instanceArgs": {
            "namespace": "html",
            "tag": "div"
           },
           "nodeType": "DOM",
           "props": {
            "style": {
             "height": "0.0px",
             "width": "1.0em"
            }
           },
           "type": "node"
          },
          "⟶",
          {
           "children": [],
           "instanceArgs": {
            "namespace": "html",
            "tag": "div"
           },
           "nodeType": "DOM",
           "props": {
            "style": {
             "height": "0.0px",
             "width": "1.0em"
            }
           },
           "type": "node"
          },
          {
           "children": [],
           "instanceArgs": {
            "namespace": "html",
            "tag": "div"
           },
           "nodeType": "DOM",
           "props": {
            "setInnerHtml": "<pre>5×5 Matrix{Float64}:\n 4.0   6.0   -2.0     -7.0    -4.0\n 0.0  16.5  -11.5    -17.75   -1.0\n 0.0   0.0  -11.818   -0.545   7.364\n 0.0   0.0    0.0      3.967  -0.967\n 0.0   0.0    0.0     -2.887  -1.19</pre>"
           },
           "type": "node"
          }
         ],
         "instanceArgs": {
          "namespace": "html",
          "tag": "div"
         },
         "nodeType": "DOM",
         "props": {
          "style": {
           "align-items": "center",
           "display": "flex",
           "flex-direction": "row"
          }
         },
         "type": "node"
        }
       ],
       "instanceArgs": {
        "namespace": "html",
        "tag": "div"
       },
       "nodeType": "DOM",
       "props": {
        "style": {
         "align-items": "center",
         "display": "flex",
         "flex-direction": "column"
        }
       },
       "type": "node"
      },
      "text/html": [
       "<div\n",
       "    class=\"webio-mountpoint\"\n",
       "    data-webio-mountpoint=\"13068339195958288581\"\n",
       ">\n",
       "    <script>\n",
       "    (function(){\n",
       "    // Some integrations (namely, IJulia/Jupyter) use an alternate render pathway than\n",
       "    // just putting the html on the page. If WebIO isn't defined, then it's pretty likely\n",
       "    // that we're in one of those situations and the integration just isn't installed\n",
       "    // correctly.\n",
       "    if (typeof window.WebIO === \"undefined\") {\n",
       "        document\n",
       "            .querySelector('[data-webio-mountpoint=\"13068339195958288581\"]')\n",
       "            .innerHTML = (\n",
       "                '<div style=\"padding: 1em; background-color: #f8d6da; border: 1px solid #f5c6cb; font-weight: bold;\">' +\n",
       "                '<p><strong>WebIO not detected.</strong></p>' +\n",
       "                '<p>Please read ' +\n",
       "                '<a href=\"https://juliagizmos.github.io/WebIO.jl/latest/troubleshooting/not-detected/\" target=\"_blank\">the troubleshooting guide</a> ' +\n",
       "                'for more information on how to resolve this issue.</p>' +\n",
       "                '<p><a href=\"https://juliagizmos.github.io/WebIO.jl/latest/troubleshooting/not-detected/\" target=\"_blank\">https://juliagizmos.github.io/WebIO.jl/latest/troubleshooting/not-detected/</a></p>' +\n",
       "                '</div>'\n",
       "            );\n",
       "        return;\n",
       "    }\n",
       "    WebIO.mount(\n",
       "        document.querySelector('[data-webio-mountpoint=\"13068339195958288581\"]'),\n",
       "        {\"props\":{\"style\":{\"align-items\":\"center\",\"display\":\"flex\",\"flex-direction\":\"column\"}},\"nodeType\":\"DOM\",\"type\":\"node\",\"instanceArgs\":{\"namespace\":\"html\",\"tag\":\"div\"},\"children\":[{\"props\":{},\"nodeType\":\"DOM\",\"type\":\"node\",\"instanceArgs\":{\"namespace\":\"html\",\"tag\":\"pre\"},\"children\":[\"Gaussian elimination for column 3 with pivot -11.818181818181818: add -0.318 * (row 3) to (row 5)\"]},{\"props\":{\"style\":{\"align-items\":\"center\",\"display\":\"flex\",\"flex-direction\":\"row\"}},\"nodeType\":\"DOM\",\"type\":\"node\",\"instanceArgs\":{\"namespace\":\"html\",\"tag\":\"div\"},\"children\":[{\"props\":{\"setInnerHtml\":\"<pre>5×5 Matrix{Float64}:\\n 4.0   6.0   -2.0     -7.0    -4.0\\n 0.0  16.5  -11.5    -17.75   -1.0\\n 0.0   0.0  -11.818   -0.545   7.364\\n 0.0   0.0    0.0      3.967  -0.967\\n 0.0   0.0   -3.758   -3.061   1.152<\\/pre>\"},\"nodeType\":\"DOM\",\"type\":\"node\",\"instanceArgs\":{\"namespace\":\"html\",\"tag\":\"div\"},\"children\":[]},{\"props\":{\"style\":{\"height\":\"0.0px\",\"width\":\"1.0em\"}},\"nodeType\":\"DOM\",\"type\":\"node\",\"instanceArgs\":{\"namespace\":\"html\",\"tag\":\"div\"},\"children\":[]},\"⟶\",{\"props\":{\"style\":{\"height\":\"0.0px\",\"width\":\"1.0em\"}},\"nodeType\":\"DOM\",\"type\":\"node\",\"instanceArgs\":{\"namespace\":\"html\",\"tag\":\"div\"},\"children\":[]},{\"props\":{\"setInnerHtml\":\"<pre>5×5 Matrix{Float64}:\\n 4.0   6.0   -2.0     -7.0    -4.0\\n 0.0  16.5  -11.5    -17.75   -1.0\\n 0.0   0.0  -11.818   -0.545   7.364\\n 0.0   0.0    0.0      3.967  -0.967\\n 0.0   0.0    0.0     -2.887  -1.19<\\/pre>\"},\"nodeType\":\"DOM\",\"type\":\"node\",\"instanceArgs\":{\"namespace\":\"html\",\"tag\":\"div\"},\"children\":[]}]}]},\n",
       "        window,\n",
       "    );\n",
       "    })()\n",
       "    </script>\n",
       "</div>\n"
      ],
      "text/plain": [
       "(div { style=Dict{Any, Any}(\"align-items\" => :center, \"display\" => \"flex\", \"flex-direction\" => \"column\") }\n",
       "  (pre\n",
       "    \"Gaussian elimination for column 3 with pivot -11.818181818181818: add -0.318 * (row 3) to (row 5)\")\n",
       "  (div { style=Dict{Any, Any}(\"align-items\" => :center, \"display\" => \"flex\", \"flex-direction\" => \"row\") }\n",
       "    [4.0 6.0 … -7.0 -4.0; 0.0 16.5 … -17.75 -1.0; … ; 0.0 0.0 … 3.967 -0.967; 0.0 0.0 … -3.061 1.152]\n",
       "    (div { style=Dict{String, Measures.Length{U, Float64} where U}(\"height\" => 0.0px, \"width\" => 1.0em) })\n",
       "    \"⟶\"\n",
       "    (div { style=Dict{String, Measures.Length{U, Float64} where U}(\"height\" => 0.0px, \"width\" => 1.0em) })\n",
       "    [4.0 6.0 … -7.0 -4.0; 0.0 16.5 … -17.75 -1.0; … ; 0.0 0.0 … 3.967 -0.967; 0.0 0.0 … -2.887 -1.19]))"
      ]
     },
     "metadata": {
      "application/vnd.webio.node+json": {
       "kernelId": "e075c803-bca2-4c5f-9e01-34fec12b6e1f"
      }
     },
     "output_type": "display_data"
    },
    {
     "data": {
      "application/vnd.webio.node+json": {
       "children": [
        {
         "children": [
          "Gaussian elimination for column 4 with pivot 3.9666666666666663: add 0.728 * (row 4) to (row 5)"
         ],
         "instanceArgs": {
          "namespace": "html",
          "tag": "pre"
         },
         "nodeType": "DOM",
         "props": {},
         "type": "node"
        },
        {
         "children": [
          {
           "children": [],
           "instanceArgs": {
            "namespace": "html",
            "tag": "div"
           },
           "nodeType": "DOM",
           "props": {
            "setInnerHtml": "<pre>5×5 Matrix{Float64}:\n 4.0   6.0   -2.0     -7.0    -4.0\n 0.0  16.5  -11.5    -17.75   -1.0\n 0.0   0.0  -11.818   -0.545   7.364\n 0.0   0.0    0.0      3.967  -0.967\n 0.0   0.0    0.0     -2.887  -1.19</pre>"
           },
           "type": "node"
          },
          {
           "children": [],
           "instanceArgs": {
            "namespace": "html",
            "tag": "div"
           },
           "nodeType": "DOM",
           "props": {
            "style": {
             "height": "0.0px",
             "width": "1.0em"
            }
           },
           "type": "node"
          },
          "⟶",
          {
           "children": [],
           "instanceArgs": {
            "namespace": "html",
            "tag": "div"
           },
           "nodeType": "DOM",
           "props": {
            "style": {
             "height": "0.0px",
             "width": "1.0em"
            }
           },
           "type": "node"
          },
          {
           "children": [],
           "instanceArgs": {
            "namespace": "html",
            "tag": "div"
           },
           "nodeType": "DOM",
           "props": {
            "setInnerHtml": "<pre>5×5 Matrix{Float64}:\n 4.0   6.0   -2.0     -7.0    -4.0\n 0.0  16.5  -11.5    -17.75   -1.0\n 0.0   0.0  -11.818   -0.545   7.364\n 0.0   0.0    0.0      3.967  -0.967\n 0.0   0.0    0.0      0.0    -1.893</pre>"
           },
           "type": "node"
          }
         ],
         "instanceArgs": {
          "namespace": "html",
          "tag": "div"
         },
         "nodeType": "DOM",
         "props": {
          "style": {
           "align-items": "center",
           "display": "flex",
           "flex-direction": "row"
          }
         },
         "type": "node"
        }
       ],
       "instanceArgs": {
        "namespace": "html",
        "tag": "div"
       },
       "nodeType": "DOM",
       "props": {
        "style": {
         "align-items": "center",
         "display": "flex",
         "flex-direction": "column"
        }
       },
       "type": "node"
      },
      "text/html": [
       "<div\n",
       "    class=\"webio-mountpoint\"\n",
       "    data-webio-mountpoint=\"2280169031126697315\"\n",
       ">\n",
       "    <script>\n",
       "    (function(){\n",
       "    // Some integrations (namely, IJulia/Jupyter) use an alternate render pathway than\n",
       "    // just putting the html on the page. If WebIO isn't defined, then it's pretty likely\n",
       "    // that we're in one of those situations and the integration just isn't installed\n",
       "    // correctly.\n",
       "    if (typeof window.WebIO === \"undefined\") {\n",
       "        document\n",
       "            .querySelector('[data-webio-mountpoint=\"2280169031126697315\"]')\n",
       "            .innerHTML = (\n",
       "                '<div style=\"padding: 1em; background-color: #f8d6da; border: 1px solid #f5c6cb; font-weight: bold;\">' +\n",
       "                '<p><strong>WebIO not detected.</strong></p>' +\n",
       "                '<p>Please read ' +\n",
       "                '<a href=\"https://juliagizmos.github.io/WebIO.jl/latest/troubleshooting/not-detected/\" target=\"_blank\">the troubleshooting guide</a> ' +\n",
       "                'for more information on how to resolve this issue.</p>' +\n",
       "                '<p><a href=\"https://juliagizmos.github.io/WebIO.jl/latest/troubleshooting/not-detected/\" target=\"_blank\">https://juliagizmos.github.io/WebIO.jl/latest/troubleshooting/not-detected/</a></p>' +\n",
       "                '</div>'\n",
       "            );\n",
       "        return;\n",
       "    }\n",
       "    WebIO.mount(\n",
       "        document.querySelector('[data-webio-mountpoint=\"2280169031126697315\"]'),\n",
       "        {\"props\":{\"style\":{\"align-items\":\"center\",\"display\":\"flex\",\"flex-direction\":\"column\"}},\"nodeType\":\"DOM\",\"type\":\"node\",\"instanceArgs\":{\"namespace\":\"html\",\"tag\":\"div\"},\"children\":[{\"props\":{},\"nodeType\":\"DOM\",\"type\":\"node\",\"instanceArgs\":{\"namespace\":\"html\",\"tag\":\"pre\"},\"children\":[\"Gaussian elimination for column 4 with pivot 3.9666666666666663: add 0.728 * (row 4) to (row 5)\"]},{\"props\":{\"style\":{\"align-items\":\"center\",\"display\":\"flex\",\"flex-direction\":\"row\"}},\"nodeType\":\"DOM\",\"type\":\"node\",\"instanceArgs\":{\"namespace\":\"html\",\"tag\":\"div\"},\"children\":[{\"props\":{\"setInnerHtml\":\"<pre>5×5 Matrix{Float64}:\\n 4.0   6.0   -2.0     -7.0    -4.0\\n 0.0  16.5  -11.5    -17.75   -1.0\\n 0.0   0.0  -11.818   -0.545   7.364\\n 0.0   0.0    0.0      3.967  -0.967\\n 0.0   0.0    0.0     -2.887  -1.19<\\/pre>\"},\"nodeType\":\"DOM\",\"type\":\"node\",\"instanceArgs\":{\"namespace\":\"html\",\"tag\":\"div\"},\"children\":[]},{\"props\":{\"style\":{\"height\":\"0.0px\",\"width\":\"1.0em\"}},\"nodeType\":\"DOM\",\"type\":\"node\",\"instanceArgs\":{\"namespace\":\"html\",\"tag\":\"div\"},\"children\":[]},\"⟶\",{\"props\":{\"style\":{\"height\":\"0.0px\",\"width\":\"1.0em\"}},\"nodeType\":\"DOM\",\"type\":\"node\",\"instanceArgs\":{\"namespace\":\"html\",\"tag\":\"div\"},\"children\":[]},{\"props\":{\"setInnerHtml\":\"<pre>5×5 Matrix{Float64}:\\n 4.0   6.0   -2.0     -7.0    -4.0\\n 0.0  16.5  -11.5    -17.75   -1.0\\n 0.0   0.0  -11.818   -0.545   7.364\\n 0.0   0.0    0.0      3.967  -0.967\\n 0.0   0.0    0.0      0.0    -1.893<\\/pre>\"},\"nodeType\":\"DOM\",\"type\":\"node\",\"instanceArgs\":{\"namespace\":\"html\",\"tag\":\"div\"},\"children\":[]}]}]},\n",
       "        window,\n",
       "    );\n",
       "    })()\n",
       "    </script>\n",
       "</div>\n"
      ],
      "text/plain": [
       "(div { style=Dict{Any, Any}(\"align-items\" => :center, \"display\" => \"flex\", \"flex-direction\" => \"column\") }\n",
       "  (pre\n",
       "    \"Gaussian elimination for column 4 with pivot 3.9666666666666663: add 0.728 * (row 4) to (row 5)\")\n",
       "  (div { style=Dict{Any, Any}(\"align-items\" => :center, \"display\" => \"flex\", \"flex-direction\" => \"row\") }\n",
       "    [4.0 6.0 … -7.0 -4.0; 0.0 16.5 … -17.75 -1.0; … ; 0.0 0.0 … 3.967 -0.967; 0.0 0.0 … -2.887 -1.19]\n",
       "    (div { style=Dict{String, Measures.Length{U, Float64} where U}(\"height\" => 0.0px, \"width\" => 1.0em) })\n",
       "    \"⟶\"\n",
       "    (div { style=Dict{String, Measures.Length{U, Float64} where U}(\"height\" => 0.0px, \"width\" => 1.0em) })\n",
       "    [4.0 6.0 … -7.0 -4.0; 0.0 16.5 … -17.75 -1.0; … ; 0.0 0.0 … 3.967 -0.967; 0.0 0.0 … 0.0 -1.893]))"
      ]
     },
     "metadata": {
      "application/vnd.webio.node+json": {
       "kernelId": "e075c803-bca2-4c5f-9e01-34fec12b6e1f"
      }
     },
     "output_type": "display_data"
    }
   ],
   "source": [
    "visualize_gauss(rand(-9:9,5,5))"
   ]
  },
  {
   "cell_type": "markdown",
   "metadata": {},
   "source": [
    "Of course, because we are not re-ordering the rows, this process can go horribly wrong, most obviously if a zero pivot is encountered:"
   ]
  },
  {
   "cell_type": "code",
   "execution_count": 17,
   "metadata": {},
   "outputs": [
    {
     "data": {
      "application/vnd.webio.node+json": {
       "children": [
        {
         "children": [
          "Gaussian elimination for column 1 with pivot -3.0: add 1.0 * (row 1) to (row 2)"
         ],
         "instanceArgs": {
          "namespace": "html",
          "tag": "pre"
         },
         "nodeType": "DOM",
         "props": {},
         "type": "node"
        },
        {
         "children": [
          {
           "children": [],
           "instanceArgs": {
            "namespace": "html",
            "tag": "div"
           },
           "nodeType": "DOM",
           "props": {
            "setInnerHtml": "<pre>5×5 Matrix{Int64}:\n -3   5   5   3  -7\n  3  -5   8  -8  -6\n  8   2   8   2  -8\n -6  -2   6   4  -8\n -8   4  -6  -1   8</pre>"
           },
           "type": "node"
          },
          {
           "children": [],
           "instanceArgs": {
            "namespace": "html",
            "tag": "div"
           },
           "nodeType": "DOM",
           "props": {
            "style": {
             "height": "0.0px",
             "width": "1.0em"
            }
           },
           "type": "node"
          },
          "⟶",
          {
           "children": [],
           "instanceArgs": {
            "namespace": "html",
            "tag": "div"
           },
           "nodeType": "DOM",
           "props": {
            "style": {
             "height": "0.0px",
             "width": "1.0em"
            }
           },
           "type": "node"
          },
          {
           "children": [],
           "instanceArgs": {
            "namespace": "html",
            "tag": "div"
           },
           "nodeType": "DOM",
           "props": {
            "setInnerHtml": "<pre>5×5 Matrix{Float64}:\n -3.0   5.0   5.0   3.0   -7.0\n  0.0   0.0  13.0  -5.0  -13.0\n  8.0   2.0   8.0   2.0   -8.0\n -6.0  -2.0   6.0   4.0   -8.0\n -8.0   4.0  -6.0  -1.0    8.0</pre>"
           },
           "type": "node"
          }
         ],
         "instanceArgs": {
          "namespace": "html",
          "tag": "div"
         },
         "nodeType": "DOM",
         "props": {
          "style": {
           "align-items": "center",
           "display": "flex",
           "flex-direction": "row"
          }
         },
         "type": "node"
        }
       ],
       "instanceArgs": {
        "namespace": "html",
        "tag": "div"
       },
       "nodeType": "DOM",
       "props": {
        "style": {
         "align-items": "center",
         "display": "flex",
         "flex-direction": "column"
        }
       },
       "type": "node"
      },
      "text/html": [
       "<div\n",
       "    class=\"webio-mountpoint\"\n",
       "    data-webio-mountpoint=\"16150682715593749815\"\n",
       ">\n",
       "    <script>\n",
       "    (function(){\n",
       "    // Some integrations (namely, IJulia/Jupyter) use an alternate render pathway than\n",
       "    // just putting the html on the page. If WebIO isn't defined, then it's pretty likely\n",
       "    // that we're in one of those situations and the integration just isn't installed\n",
       "    // correctly.\n",
       "    if (typeof window.WebIO === \"undefined\") {\n",
       "        document\n",
       "            .querySelector('[data-webio-mountpoint=\"16150682715593749815\"]')\n",
       "            .innerHTML = (\n",
       "                '<div style=\"padding: 1em; background-color: #f8d6da; border: 1px solid #f5c6cb; font-weight: bold;\">' +\n",
       "                '<p><strong>WebIO not detected.</strong></p>' +\n",
       "                '<p>Please read ' +\n",
       "                '<a href=\"https://juliagizmos.github.io/WebIO.jl/latest/troubleshooting/not-detected/\" target=\"_blank\">the troubleshooting guide</a> ' +\n",
       "                'for more information on how to resolve this issue.</p>' +\n",
       "                '<p><a href=\"https://juliagizmos.github.io/WebIO.jl/latest/troubleshooting/not-detected/\" target=\"_blank\">https://juliagizmos.github.io/WebIO.jl/latest/troubleshooting/not-detected/</a></p>' +\n",
       "                '</div>'\n",
       "            );\n",
       "        return;\n",
       "    }\n",
       "    WebIO.mount(\n",
       "        document.querySelector('[data-webio-mountpoint=\"16150682715593749815\"]'),\n",
       "        {\"props\":{\"style\":{\"align-items\":\"center\",\"display\":\"flex\",\"flex-direction\":\"column\"}},\"nodeType\":\"DOM\",\"type\":\"node\",\"instanceArgs\":{\"namespace\":\"html\",\"tag\":\"div\"},\"children\":[{\"props\":{},\"nodeType\":\"DOM\",\"type\":\"node\",\"instanceArgs\":{\"namespace\":\"html\",\"tag\":\"pre\"},\"children\":[\"Gaussian elimination for column 1 with pivot -3.0: add 1.0 * (row 1) to (row 2)\"]},{\"props\":{\"style\":{\"align-items\":\"center\",\"display\":\"flex\",\"flex-direction\":\"row\"}},\"nodeType\":\"DOM\",\"type\":\"node\",\"instanceArgs\":{\"namespace\":\"html\",\"tag\":\"div\"},\"children\":[{\"props\":{\"setInnerHtml\":\"<pre>5×5 Matrix{Int64}:\\n -3   5   5   3  -7\\n  3  -5   8  -8  -6\\n  8   2   8   2  -8\\n -6  -2   6   4  -8\\n -8   4  -6  -1   8<\\/pre>\"},\"nodeType\":\"DOM\",\"type\":\"node\",\"instanceArgs\":{\"namespace\":\"html\",\"tag\":\"div\"},\"children\":[]},{\"props\":{\"style\":{\"height\":\"0.0px\",\"width\":\"1.0em\"}},\"nodeType\":\"DOM\",\"type\":\"node\",\"instanceArgs\":{\"namespace\":\"html\",\"tag\":\"div\"},\"children\":[]},\"⟶\",{\"props\":{\"style\":{\"height\":\"0.0px\",\"width\":\"1.0em\"}},\"nodeType\":\"DOM\",\"type\":\"node\",\"instanceArgs\":{\"namespace\":\"html\",\"tag\":\"div\"},\"children\":[]},{\"props\":{\"setInnerHtml\":\"<pre>5×5 Matrix{Float64}:\\n -3.0   5.0   5.0   3.0   -7.0\\n  0.0   0.0  13.0  -5.0  -13.0\\n  8.0   2.0   8.0   2.0   -8.0\\n -6.0  -2.0   6.0   4.0   -8.0\\n -8.0   4.0  -6.0  -1.0    8.0<\\/pre>\"},\"nodeType\":\"DOM\",\"type\":\"node\",\"instanceArgs\":{\"namespace\":\"html\",\"tag\":\"div\"},\"children\":[]}]}]},\n",
       "        window,\n",
       "    );\n",
       "    })()\n",
       "    </script>\n",
       "</div>\n"
      ],
      "text/plain": [
       "(div { style=Dict{Any, Any}(\"align-items\" => :center, \"display\" => \"flex\", \"flex-direction\" => \"column\") }\n",
       "  (pre\n",
       "    \"Gaussian elimination for column 1 with pivot -3.0: add 1.0 * (row 1) to (row 2)\")\n",
       "  (div { style=Dict{Any, Any}(\"align-items\" => :center, \"display\" => \"flex\", \"flex-direction\" => \"row\") }\n",
       "    [-3 5 … 3 -7; 3 -5 … -8 -6; … ; -6 -2 … 4 -8; -8 4 … -1 8]\n",
       "    (div { style=Dict{String, Measures.Length{U, Float64} where U}(\"height\" => 0.0px, \"width\" => 1.0em) })\n",
       "    \"⟶\"\n",
       "    (div { style=Dict{String, Measures.Length{U, Float64} where U}(\"height\" => 0.0px, \"width\" => 1.0em) })\n",
       "    [-3.0 5.0 … 3.0 -7.0; 0.0 0.0 … -5.0 -13.0; … ; -6.0 -2.0 … 4.0 -8.0; -8.0 4.0 … -1.0 8.0]))"
      ]
     },
     "metadata": {
      "application/vnd.webio.node+json": {
       "kernelId": "e075c803-bca2-4c5f-9e01-34fec12b6e1f"
      }
     },
     "output_type": "display_data"
    },
    {
     "data": {
      "application/vnd.webio.node+json": {
       "children": [
        {
         "children": [
          "Gaussian elimination for column 1 with pivot -3.0: add 2.667 * (row 1) to (row 3)"
         ],
         "instanceArgs": {
          "namespace": "html",
          "tag": "pre"
         },
         "nodeType": "DOM",
         "props": {},
         "type": "node"
        },
        {
         "children": [
          {
           "children": [],
           "instanceArgs": {
            "namespace": "html",
            "tag": "div"
           },
           "nodeType": "DOM",
           "props": {
            "setInnerHtml": "<pre>5×5 Matrix{Float64}:\n -3.0   5.0   5.0   3.0   -7.0\n  0.0   0.0  13.0  -5.0  -13.0\n  8.0   2.0   8.0   2.0   -8.0\n -6.0  -2.0   6.0   4.0   -8.0\n -8.0   4.0  -6.0  -1.0    8.0</pre>"
           },
           "type": "node"
          },
          {
           "children": [],
           "instanceArgs": {
            "namespace": "html",
            "tag": "div"
           },
           "nodeType": "DOM",
           "props": {
            "style": {
             "height": "0.0px",
             "width": "1.0em"
            }
           },
           "type": "node"
          },
          "⟶",
          {
           "children": [],
           "instanceArgs": {
            "namespace": "html",
            "tag": "div"
           },
           "nodeType": "DOM",
           "props": {
            "style": {
             "height": "0.0px",
             "width": "1.0em"
            }
           },
           "type": "node"
          },
          {
           "children": [],
           "instanceArgs": {
            "namespace": "html",
            "tag": "div"
           },
           "nodeType": "DOM",
           "props": {
            "setInnerHtml": "<pre>5×5 Matrix{Float64}:\n -3.0   5.0     5.0     3.0   -7.0\n  0.0   0.0    13.0    -5.0  -13.0\n  0.0  15.333  21.333  10.0  -26.667\n -6.0  -2.0     6.0     4.0   -8.0\n -8.0   4.0    -6.0    -1.0    8.0</pre>"
           },
           "type": "node"
          }
         ],
         "instanceArgs": {
          "namespace": "html",
          "tag": "div"
         },
         "nodeType": "DOM",
         "props": {
          "style": {
           "align-items": "center",
           "display": "flex",
           "flex-direction": "row"
          }
         },
         "type": "node"
        }
       ],
       "instanceArgs": {
        "namespace": "html",
        "tag": "div"
       },
       "nodeType": "DOM",
       "props": {
        "style": {
         "align-items": "center",
         "display": "flex",
         "flex-direction": "column"
        }
       },
       "type": "node"
      },
      "text/html": [
       "<div\n",
       "    class=\"webio-mountpoint\"\n",
       "    data-webio-mountpoint=\"17701468270663886160\"\n",
       ">\n",
       "    <script>\n",
       "    (function(){\n",
       "    // Some integrations (namely, IJulia/Jupyter) use an alternate render pathway than\n",
       "    // just putting the html on the page. If WebIO isn't defined, then it's pretty likely\n",
       "    // that we're in one of those situations and the integration just isn't installed\n",
       "    // correctly.\n",
       "    if (typeof window.WebIO === \"undefined\") {\n",
       "        document\n",
       "            .querySelector('[data-webio-mountpoint=\"17701468270663886160\"]')\n",
       "            .innerHTML = (\n",
       "                '<div style=\"padding: 1em; background-color: #f8d6da; border: 1px solid #f5c6cb; font-weight: bold;\">' +\n",
       "                '<p><strong>WebIO not detected.</strong></p>' +\n",
       "                '<p>Please read ' +\n",
       "                '<a href=\"https://juliagizmos.github.io/WebIO.jl/latest/troubleshooting/not-detected/\" target=\"_blank\">the troubleshooting guide</a> ' +\n",
       "                'for more information on how to resolve this issue.</p>' +\n",
       "                '<p><a href=\"https://juliagizmos.github.io/WebIO.jl/latest/troubleshooting/not-detected/\" target=\"_blank\">https://juliagizmos.github.io/WebIO.jl/latest/troubleshooting/not-detected/</a></p>' +\n",
       "                '</div>'\n",
       "            );\n",
       "        return;\n",
       "    }\n",
       "    WebIO.mount(\n",
       "        document.querySelector('[data-webio-mountpoint=\"17701468270663886160\"]'),\n",
       "        {\"props\":{\"style\":{\"align-items\":\"center\",\"display\":\"flex\",\"flex-direction\":\"column\"}},\"nodeType\":\"DOM\",\"type\":\"node\",\"instanceArgs\":{\"namespace\":\"html\",\"tag\":\"div\"},\"children\":[{\"props\":{},\"nodeType\":\"DOM\",\"type\":\"node\",\"instanceArgs\":{\"namespace\":\"html\",\"tag\":\"pre\"},\"children\":[\"Gaussian elimination for column 1 with pivot -3.0: add 2.667 * (row 1) to (row 3)\"]},{\"props\":{\"style\":{\"align-items\":\"center\",\"display\":\"flex\",\"flex-direction\":\"row\"}},\"nodeType\":\"DOM\",\"type\":\"node\",\"instanceArgs\":{\"namespace\":\"html\",\"tag\":\"div\"},\"children\":[{\"props\":{\"setInnerHtml\":\"<pre>5×5 Matrix{Float64}:\\n -3.0   5.0   5.0   3.0   -7.0\\n  0.0   0.0  13.0  -5.0  -13.0\\n  8.0   2.0   8.0   2.0   -8.0\\n -6.0  -2.0   6.0   4.0   -8.0\\n -8.0   4.0  -6.0  -1.0    8.0<\\/pre>\"},\"nodeType\":\"DOM\",\"type\":\"node\",\"instanceArgs\":{\"namespace\":\"html\",\"tag\":\"div\"},\"children\":[]},{\"props\":{\"style\":{\"height\":\"0.0px\",\"width\":\"1.0em\"}},\"nodeType\":\"DOM\",\"type\":\"node\",\"instanceArgs\":{\"namespace\":\"html\",\"tag\":\"div\"},\"children\":[]},\"⟶\",{\"props\":{\"style\":{\"height\":\"0.0px\",\"width\":\"1.0em\"}},\"nodeType\":\"DOM\",\"type\":\"node\",\"instanceArgs\":{\"namespace\":\"html\",\"tag\":\"div\"},\"children\":[]},{\"props\":{\"setInnerHtml\":\"<pre>5×5 Matrix{Float64}:\\n -3.0   5.0     5.0     3.0   -7.0\\n  0.0   0.0    13.0    -5.0  -13.0\\n  0.0  15.333  21.333  10.0  -26.667\\n -6.0  -2.0     6.0     4.0   -8.0\\n -8.0   4.0    -6.0    -1.0    8.0<\\/pre>\"},\"nodeType\":\"DOM\",\"type\":\"node\",\"instanceArgs\":{\"namespace\":\"html\",\"tag\":\"div\"},\"children\":[]}]}]},\n",
       "        window,\n",
       "    );\n",
       "    })()\n",
       "    </script>\n",
       "</div>\n"
      ],
      "text/plain": [
       "(div { style=Dict{Any, Any}(\"align-items\" => :center, \"display\" => \"flex\", \"flex-direction\" => \"column\") }\n",
       "  (pre\n",
       "    \"Gaussian elimination for column 1 with pivot -3.0: add 2.667 * (row 1) to (row 3)\")\n",
       "  (div { style=Dict{Any, Any}(\"align-items\" => :center, \"display\" => \"flex\", \"flex-direction\" => \"row\") }\n",
       "    [-3.0 5.0 … 3.0 -7.0; 0.0 0.0 … -5.0 -13.0; … ; -6.0 -2.0 … 4.0 -8.0; -8.0 4.0 … -1.0 8.0]\n",
       "    (div { style=Dict{String, Measures.Length{U, Float64} where U}(\"height\" => 0.0px, \"width\" => 1.0em) })\n",
       "    \"⟶\"\n",
       "    (div { style=Dict{String, Measures.Length{U, Float64} where U}(\"height\" => 0.0px, \"width\" => 1.0em) })\n",
       "    [-3.0 5.0 … 3.0 -7.0; 0.0 0.0 … -5.0 -13.0; … ; -6.0 -2.0 … 4.0 -8.0; -8.0 4.0 … -1.0 8.0]))"
      ]
     },
     "metadata": {
      "application/vnd.webio.node+json": {
       "kernelId": "e075c803-bca2-4c5f-9e01-34fec12b6e1f"
      }
     },
     "output_type": "display_data"
    },
    {
     "data": {
      "application/vnd.webio.node+json": {
       "children": [
        {
         "children": [
          "Gaussian elimination for column 1 with pivot -3.0: add -2.0 * (row 1) to (row 4)"
         ],
         "instanceArgs": {
          "namespace": "html",
          "tag": "pre"
         },
         "nodeType": "DOM",
         "props": {},
         "type": "node"
        },
        {
         "children": [
          {
           "children": [],
           "instanceArgs": {
            "namespace": "html",
            "tag": "div"
           },
           "nodeType": "DOM",
           "props": {
            "setInnerHtml": "<pre>5×5 Matrix{Float64}:\n -3.0   5.0     5.0     3.0   -7.0\n  0.0   0.0    13.0    -5.0  -13.0\n  0.0  15.333  21.333  10.0  -26.667\n -6.0  -2.0     6.0     4.0   -8.0\n -8.0   4.0    -6.0    -1.0    8.0</pre>"
           },
           "type": "node"
          },
          {
           "children": [],
           "instanceArgs": {
            "namespace": "html",
            "tag": "div"
           },
           "nodeType": "DOM",
           "props": {
            "style": {
             "height": "0.0px",
             "width": "1.0em"
            }
           },
           "type": "node"
          },
          "⟶",
          {
           "children": [],
           "instanceArgs": {
            "namespace": "html",
            "tag": "div"
           },
           "nodeType": "DOM",
           "props": {
            "style": {
             "height": "0.0px",
             "width": "1.0em"
            }
           },
           "type": "node"
          },
          {
           "children": [],
           "instanceArgs": {
            "namespace": "html",
            "tag": "div"
           },
           "nodeType": "DOM",
           "props": {
            "setInnerHtml": "<pre>5×5 Matrix{Float64}:\n -3.0    5.0     5.0     3.0   -7.0\n  0.0    0.0    13.0    -5.0  -13.0\n  0.0   15.333  21.333  10.0  -26.667\n  0.0  -12.0    -4.0    -2.0    6.0\n -8.0    4.0    -6.0    -1.0    8.0</pre>"
           },
           "type": "node"
          }
         ],
         "instanceArgs": {
          "namespace": "html",
          "tag": "div"
         },
         "nodeType": "DOM",
         "props": {
          "style": {
           "align-items": "center",
           "display": "flex",
           "flex-direction": "row"
          }
         },
         "type": "node"
        }
       ],
       "instanceArgs": {
        "namespace": "html",
        "tag": "div"
       },
       "nodeType": "DOM",
       "props": {
        "style": {
         "align-items": "center",
         "display": "flex",
         "flex-direction": "column"
        }
       },
       "type": "node"
      },
      "text/html": [
       "<div\n",
       "    class=\"webio-mountpoint\"\n",
       "    data-webio-mountpoint=\"16694175523266723958\"\n",
       ">\n",
       "    <script>\n",
       "    (function(){\n",
       "    // Some integrations (namely, IJulia/Jupyter) use an alternate render pathway than\n",
       "    // just putting the html on the page. If WebIO isn't defined, then it's pretty likely\n",
       "    // that we're in one of those situations and the integration just isn't installed\n",
       "    // correctly.\n",
       "    if (typeof window.WebIO === \"undefined\") {\n",
       "        document\n",
       "            .querySelector('[data-webio-mountpoint=\"16694175523266723958\"]')\n",
       "            .innerHTML = (\n",
       "                '<div style=\"padding: 1em; background-color: #f8d6da; border: 1px solid #f5c6cb; font-weight: bold;\">' +\n",
       "                '<p><strong>WebIO not detected.</strong></p>' +\n",
       "                '<p>Please read ' +\n",
       "                '<a href=\"https://juliagizmos.github.io/WebIO.jl/latest/troubleshooting/not-detected/\" target=\"_blank\">the troubleshooting guide</a> ' +\n",
       "                'for more information on how to resolve this issue.</p>' +\n",
       "                '<p><a href=\"https://juliagizmos.github.io/WebIO.jl/latest/troubleshooting/not-detected/\" target=\"_blank\">https://juliagizmos.github.io/WebIO.jl/latest/troubleshooting/not-detected/</a></p>' +\n",
       "                '</div>'\n",
       "            );\n",
       "        return;\n",
       "    }\n",
       "    WebIO.mount(\n",
       "        document.querySelector('[data-webio-mountpoint=\"16694175523266723958\"]'),\n",
       "        {\"props\":{\"style\":{\"align-items\":\"center\",\"display\":\"flex\",\"flex-direction\":\"column\"}},\"nodeType\":\"DOM\",\"type\":\"node\",\"instanceArgs\":{\"namespace\":\"html\",\"tag\":\"div\"},\"children\":[{\"props\":{},\"nodeType\":\"DOM\",\"type\":\"node\",\"instanceArgs\":{\"namespace\":\"html\",\"tag\":\"pre\"},\"children\":[\"Gaussian elimination for column 1 with pivot -3.0: add -2.0 * (row 1) to (row 4)\"]},{\"props\":{\"style\":{\"align-items\":\"center\",\"display\":\"flex\",\"flex-direction\":\"row\"}},\"nodeType\":\"DOM\",\"type\":\"node\",\"instanceArgs\":{\"namespace\":\"html\",\"tag\":\"div\"},\"children\":[{\"props\":{\"setInnerHtml\":\"<pre>5×5 Matrix{Float64}:\\n -3.0   5.0     5.0     3.0   -7.0\\n  0.0   0.0    13.0    -5.0  -13.0\\n  0.0  15.333  21.333  10.0  -26.667\\n -6.0  -2.0     6.0     4.0   -8.0\\n -8.0   4.0    -6.0    -1.0    8.0<\\/pre>\"},\"nodeType\":\"DOM\",\"type\":\"node\",\"instanceArgs\":{\"namespace\":\"html\",\"tag\":\"div\"},\"children\":[]},{\"props\":{\"style\":{\"height\":\"0.0px\",\"width\":\"1.0em\"}},\"nodeType\":\"DOM\",\"type\":\"node\",\"instanceArgs\":{\"namespace\":\"html\",\"tag\":\"div\"},\"children\":[]},\"⟶\",{\"props\":{\"style\":{\"height\":\"0.0px\",\"width\":\"1.0em\"}},\"nodeType\":\"DOM\",\"type\":\"node\",\"instanceArgs\":{\"namespace\":\"html\",\"tag\":\"div\"},\"children\":[]},{\"props\":{\"setInnerHtml\":\"<pre>5×5 Matrix{Float64}:\\n -3.0    5.0     5.0     3.0   -7.0\\n  0.0    0.0    13.0    -5.0  -13.0\\n  0.0   15.333  21.333  10.0  -26.667\\n  0.0  -12.0    -4.0    -2.0    6.0\\n -8.0    4.0    -6.0    -1.0    8.0<\\/pre>\"},\"nodeType\":\"DOM\",\"type\":\"node\",\"instanceArgs\":{\"namespace\":\"html\",\"tag\":\"div\"},\"children\":[]}]}]},\n",
       "        window,\n",
       "    );\n",
       "    })()\n",
       "    </script>\n",
       "</div>\n"
      ],
      "text/plain": [
       "(div { style=Dict{Any, Any}(\"align-items\" => :center, \"display\" => \"flex\", \"flex-direction\" => \"column\") }\n",
       "  (pre\n",
       "    \"Gaussian elimination for column 1 with pivot -3.0: add -2.0 * (row 1) to (row 4)\")\n",
       "  (div { style=Dict{Any, Any}(\"align-items\" => :center, \"display\" => \"flex\", \"flex-direction\" => \"row\") }\n",
       "    [-3.0 5.0 … 3.0 -7.0; 0.0 0.0 … -5.0 -13.0; … ; -6.0 -2.0 … 4.0 -8.0; -8.0 4.0 … -1.0 8.0]\n",
       "    (div { style=Dict{String, Measures.Length{U, Float64} where U}(\"height\" => 0.0px, \"width\" => 1.0em) })\n",
       "    \"⟶\"\n",
       "    (div { style=Dict{String, Measures.Length{U, Float64} where U}(\"height\" => 0.0px, \"width\" => 1.0em) })\n",
       "    [-3.0 5.0 … 3.0 -7.0; 0.0 0.0 … -5.0 -13.0; … ; 0.0 -12.0 … -2.0 6.0; -8.0 4.0 … -1.0 8.0]))"
      ]
     },
     "metadata": {
      "application/vnd.webio.node+json": {
       "kernelId": "e075c803-bca2-4c5f-9e01-34fec12b6e1f"
      }
     },
     "output_type": "display_data"
    },
    {
     "data": {
      "application/vnd.webio.node+json": {
       "children": [
        {
         "children": [
          "Gaussian elimination for column 1 with pivot -3.0: add -2.667 * (row 1) to (row 5)"
         ],
         "instanceArgs": {
          "namespace": "html",
          "tag": "pre"
         },
         "nodeType": "DOM",
         "props": {},
         "type": "node"
        },
        {
         "children": [
          {
           "children": [],
           "instanceArgs": {
            "namespace": "html",
            "tag": "div"
           },
           "nodeType": "DOM",
           "props": {
            "setInnerHtml": "<pre>5×5 Matrix{Float64}:\n -3.0    5.0     5.0     3.0   -7.0\n  0.0    0.0    13.0    -5.0  -13.0\n  0.0   15.333  21.333  10.0  -26.667\n  0.0  -12.0    -4.0    -2.0    6.0\n -8.0    4.0    -6.0    -1.0    8.0</pre>"
           },
           "type": "node"
          },
          {
           "children": [],
           "instanceArgs": {
            "namespace": "html",
            "tag": "div"
           },
           "nodeType": "DOM",
           "props": {
            "style": {
             "height": "0.0px",
             "width": "1.0em"
            }
           },
           "type": "node"
          },
          "⟶",
          {
           "children": [],
           "instanceArgs": {
            "namespace": "html",
            "tag": "div"
           },
           "nodeType": "DOM",
           "props": {
            "style": {
             "height": "0.0px",
             "width": "1.0em"
            }
           },
           "type": "node"
          },
          {
           "children": [],
           "instanceArgs": {
            "namespace": "html",
            "tag": "div"
           },
           "nodeType": "DOM",
           "props": {
            "setInnerHtml": "<pre>5×5 Matrix{Float64}:\n -3.0    5.0      5.0     3.0   -7.0\n  0.0    0.0     13.0    -5.0  -13.0\n  0.0   15.333   21.333  10.0  -26.667\n  0.0  -12.0     -4.0    -2.0    6.0\n  0.0   -9.333  -19.333  -9.0   26.667</pre>"
           },
           "type": "node"
          }
         ],
         "instanceArgs": {
          "namespace": "html",
          "tag": "div"
         },
         "nodeType": "DOM",
         "props": {
          "style": {
           "align-items": "center",
           "display": "flex",
           "flex-direction": "row"
          }
         },
         "type": "node"
        }
       ],
       "instanceArgs": {
        "namespace": "html",
        "tag": "div"
       },
       "nodeType": "DOM",
       "props": {
        "style": {
         "align-items": "center",
         "display": "flex",
         "flex-direction": "column"
        }
       },
       "type": "node"
      },
      "text/html": [
       "<div\n",
       "    class=\"webio-mountpoint\"\n",
       "    data-webio-mountpoint=\"1750811659277488785\"\n",
       ">\n",
       "    <script>\n",
       "    (function(){\n",
       "    // Some integrations (namely, IJulia/Jupyter) use an alternate render pathway than\n",
       "    // just putting the html on the page. If WebIO isn't defined, then it's pretty likely\n",
       "    // that we're in one of those situations and the integration just isn't installed\n",
       "    // correctly.\n",
       "    if (typeof window.WebIO === \"undefined\") {\n",
       "        document\n",
       "            .querySelector('[data-webio-mountpoint=\"1750811659277488785\"]')\n",
       "            .innerHTML = (\n",
       "                '<div style=\"padding: 1em; background-color: #f8d6da; border: 1px solid #f5c6cb; font-weight: bold;\">' +\n",
       "                '<p><strong>WebIO not detected.</strong></p>' +\n",
       "                '<p>Please read ' +\n",
       "                '<a href=\"https://juliagizmos.github.io/WebIO.jl/latest/troubleshooting/not-detected/\" target=\"_blank\">the troubleshooting guide</a> ' +\n",
       "                'for more information on how to resolve this issue.</p>' +\n",
       "                '<p><a href=\"https://juliagizmos.github.io/WebIO.jl/latest/troubleshooting/not-detected/\" target=\"_blank\">https://juliagizmos.github.io/WebIO.jl/latest/troubleshooting/not-detected/</a></p>' +\n",
       "                '</div>'\n",
       "            );\n",
       "        return;\n",
       "    }\n",
       "    WebIO.mount(\n",
       "        document.querySelector('[data-webio-mountpoint=\"1750811659277488785\"]'),\n",
       "        {\"props\":{\"style\":{\"align-items\":\"center\",\"display\":\"flex\",\"flex-direction\":\"column\"}},\"nodeType\":\"DOM\",\"type\":\"node\",\"instanceArgs\":{\"namespace\":\"html\",\"tag\":\"div\"},\"children\":[{\"props\":{},\"nodeType\":\"DOM\",\"type\":\"node\",\"instanceArgs\":{\"namespace\":\"html\",\"tag\":\"pre\"},\"children\":[\"Gaussian elimination for column 1 with pivot -3.0: add -2.667 * (row 1) to (row 5)\"]},{\"props\":{\"style\":{\"align-items\":\"center\",\"display\":\"flex\",\"flex-direction\":\"row\"}},\"nodeType\":\"DOM\",\"type\":\"node\",\"instanceArgs\":{\"namespace\":\"html\",\"tag\":\"div\"},\"children\":[{\"props\":{\"setInnerHtml\":\"<pre>5×5 Matrix{Float64}:\\n -3.0    5.0     5.0     3.0   -7.0\\n  0.0    0.0    13.0    -5.0  -13.0\\n  0.0   15.333  21.333  10.0  -26.667\\n  0.0  -12.0    -4.0    -2.0    6.0\\n -8.0    4.0    -6.0    -1.0    8.0<\\/pre>\"},\"nodeType\":\"DOM\",\"type\":\"node\",\"instanceArgs\":{\"namespace\":\"html\",\"tag\":\"div\"},\"children\":[]},{\"props\":{\"style\":{\"height\":\"0.0px\",\"width\":\"1.0em\"}},\"nodeType\":\"DOM\",\"type\":\"node\",\"instanceArgs\":{\"namespace\":\"html\",\"tag\":\"div\"},\"children\":[]},\"⟶\",{\"props\":{\"style\":{\"height\":\"0.0px\",\"width\":\"1.0em\"}},\"nodeType\":\"DOM\",\"type\":\"node\",\"instanceArgs\":{\"namespace\":\"html\",\"tag\":\"div\"},\"children\":[]},{\"props\":{\"setInnerHtml\":\"<pre>5×5 Matrix{Float64}:\\n -3.0    5.0      5.0     3.0   -7.0\\n  0.0    0.0     13.0    -5.0  -13.0\\n  0.0   15.333   21.333  10.0  -26.667\\n  0.0  -12.0     -4.0    -2.0    6.0\\n  0.0   -9.333  -19.333  -9.0   26.667<\\/pre>\"},\"nodeType\":\"DOM\",\"type\":\"node\",\"instanceArgs\":{\"namespace\":\"html\",\"tag\":\"div\"},\"children\":[]}]}]},\n",
       "        window,\n",
       "    );\n",
       "    })()\n",
       "    </script>\n",
       "</div>\n"
      ],
      "text/plain": [
       "(div { style=Dict{Any, Any}(\"align-items\" => :center, \"display\" => \"flex\", \"flex-direction\" => \"column\") }\n",
       "  (pre\n",
       "    \"Gaussian elimination for column 1 with pivot -3.0: add -2.667 * (row 1) to (row 5)\")\n",
       "  (div { style=Dict{Any, Any}(\"align-items\" => :center, \"display\" => \"flex\", \"flex-direction\" => \"row\") }\n",
       "    [-3.0 5.0 … 3.0 -7.0; 0.0 0.0 … -5.0 -13.0; … ; 0.0 -12.0 … -2.0 6.0; -8.0 4.0 … -1.0 8.0]\n",
       "    (div { style=Dict{String, Measures.Length{U, Float64} where U}(\"height\" => 0.0px, \"width\" => 1.0em) })\n",
       "    \"⟶\"\n",
       "    (div { style=Dict{String, Measures.Length{U, Float64} where U}(\"height\" => 0.0px, \"width\" => 1.0em) })\n",
       "    [-3.0 5.0 … 3.0 -7.0; 0.0 0.0 … -5.0 -13.0; … ; 0.0 -12.0 … -2.0 6.0; 0.0 -9.333 … -9.0 26.667]))"
      ]
     },
     "metadata": {
      "application/vnd.webio.node+json": {
       "kernelId": "e075c803-bca2-4c5f-9e01-34fec12b6e1f"
      }
     },
     "output_type": "display_data"
    },
    {
     "data": {
      "application/vnd.webio.node+json": {
       "children": [
        {
         "children": [
          "Gaussian elimination for column 2 with pivot 0.0: add -Inf * (row 2) to (row 3)"
         ],
         "instanceArgs": {
          "namespace": "html",
          "tag": "pre"
         },
         "nodeType": "DOM",
         "props": {},
         "type": "node"
        },
        {
         "children": [
          {
           "children": [],
           "instanceArgs": {
            "namespace": "html",
            "tag": "div"
           },
           "nodeType": "DOM",
           "props": {
            "setInnerHtml": "<pre>5×5 Matrix{Float64}:\n -3.0    5.0      5.0     3.0   -7.0\n  0.0    0.0     13.0    -5.0  -13.0\n  0.0   15.333   21.333  10.0  -26.667\n  0.0  -12.0     -4.0    -2.0    6.0\n  0.0   -9.333  -19.333  -9.0   26.667</pre>"
           },
           "type": "node"
          },
          {
           "children": [],
           "instanceArgs": {
            "namespace": "html",
            "tag": "div"
           },
           "nodeType": "DOM",
           "props": {
            "style": {
             "height": "0.0px",
             "width": "1.0em"
            }
           },
           "type": "node"
          },
          "⟶",
          {
           "children": [],
           "instanceArgs": {
            "namespace": "html",
            "tag": "div"
           },
           "nodeType": "DOM",
           "props": {
            "style": {
             "height": "0.0px",
             "width": "1.0em"
            }
           },
           "type": "node"
          },
          {
           "children": [],
           "instanceArgs": {
            "namespace": "html",
            "tag": "div"
           },
           "nodeType": "DOM",
           "props": {
            "setInnerHtml": "<pre>5×5 Matrix{Float64}:\n  -3.0    5.0      5.0     3.0   -7.0\n   0.0    0.0     13.0    -5.0  -13.0\n NaN    NaN      -Inf     Inf    Inf\n   0.0  -12.0     -4.0    -2.0    6.0\n   0.0   -9.333  -19.333  -9.0   26.667</pre>"
           },
           "type": "node"
          }
         ],
         "instanceArgs": {
          "namespace": "html",
          "tag": "div"
         },
         "nodeType": "DOM",
         "props": {
          "style": {
           "align-items": "center",
           "display": "flex",
           "flex-direction": "row"
          }
         },
         "type": "node"
        }
       ],
       "instanceArgs": {
        "namespace": "html",
        "tag": "div"
       },
       "nodeType": "DOM",
       "props": {
        "style": {
         "align-items": "center",
         "display": "flex",
         "flex-direction": "column"
        }
       },
       "type": "node"
      },
      "text/html": [
       "<div\n",
       "    class=\"webio-mountpoint\"\n",
       "    data-webio-mountpoint=\"18354466429714700334\"\n",
       ">\n",
       "    <script>\n",
       "    (function(){\n",
       "    // Some integrations (namely, IJulia/Jupyter) use an alternate render pathway than\n",
       "    // just putting the html on the page. If WebIO isn't defined, then it's pretty likely\n",
       "    // that we're in one of those situations and the integration just isn't installed\n",
       "    // correctly.\n",
       "    if (typeof window.WebIO === \"undefined\") {\n",
       "        document\n",
       "            .querySelector('[data-webio-mountpoint=\"18354466429714700334\"]')\n",
       "            .innerHTML = (\n",
       "                '<div style=\"padding: 1em; background-color: #f8d6da; border: 1px solid #f5c6cb; font-weight: bold;\">' +\n",
       "                '<p><strong>WebIO not detected.</strong></p>' +\n",
       "                '<p>Please read ' +\n",
       "                '<a href=\"https://juliagizmos.github.io/WebIO.jl/latest/troubleshooting/not-detected/\" target=\"_blank\">the troubleshooting guide</a> ' +\n",
       "                'for more information on how to resolve this issue.</p>' +\n",
       "                '<p><a href=\"https://juliagizmos.github.io/WebIO.jl/latest/troubleshooting/not-detected/\" target=\"_blank\">https://juliagizmos.github.io/WebIO.jl/latest/troubleshooting/not-detected/</a></p>' +\n",
       "                '</div>'\n",
       "            );\n",
       "        return;\n",
       "    }\n",
       "    WebIO.mount(\n",
       "        document.querySelector('[data-webio-mountpoint=\"18354466429714700334\"]'),\n",
       "        {\"props\":{\"style\":{\"align-items\":\"center\",\"display\":\"flex\",\"flex-direction\":\"column\"}},\"nodeType\":\"DOM\",\"type\":\"node\",\"instanceArgs\":{\"namespace\":\"html\",\"tag\":\"div\"},\"children\":[{\"props\":{},\"nodeType\":\"DOM\",\"type\":\"node\",\"instanceArgs\":{\"namespace\":\"html\",\"tag\":\"pre\"},\"children\":[\"Gaussian elimination for column 2 with pivot 0.0: add -Inf * (row 2) to (row 3)\"]},{\"props\":{\"style\":{\"align-items\":\"center\",\"display\":\"flex\",\"flex-direction\":\"row\"}},\"nodeType\":\"DOM\",\"type\":\"node\",\"instanceArgs\":{\"namespace\":\"html\",\"tag\":\"div\"},\"children\":[{\"props\":{\"setInnerHtml\":\"<pre>5×5 Matrix{Float64}:\\n -3.0    5.0      5.0     3.0   -7.0\\n  0.0    0.0     13.0    -5.0  -13.0\\n  0.0   15.333   21.333  10.0  -26.667\\n  0.0  -12.0     -4.0    -2.0    6.0\\n  0.0   -9.333  -19.333  -9.0   26.667<\\/pre>\"},\"nodeType\":\"DOM\",\"type\":\"node\",\"instanceArgs\":{\"namespace\":\"html\",\"tag\":\"div\"},\"children\":[]},{\"props\":{\"style\":{\"height\":\"0.0px\",\"width\":\"1.0em\"}},\"nodeType\":\"DOM\",\"type\":\"node\",\"instanceArgs\":{\"namespace\":\"html\",\"tag\":\"div\"},\"children\":[]},\"⟶\",{\"props\":{\"style\":{\"height\":\"0.0px\",\"width\":\"1.0em\"}},\"nodeType\":\"DOM\",\"type\":\"node\",\"instanceArgs\":{\"namespace\":\"html\",\"tag\":\"div\"},\"children\":[]},{\"props\":{\"setInnerHtml\":\"<pre>5×5 Matrix{Float64}:\\n  -3.0    5.0      5.0     3.0   -7.0\\n   0.0    0.0     13.0    -5.0  -13.0\\n NaN    NaN      -Inf     Inf    Inf\\n   0.0  -12.0     -4.0    -2.0    6.0\\n   0.0   -9.333  -19.333  -9.0   26.667<\\/pre>\"},\"nodeType\":\"DOM\",\"type\":\"node\",\"instanceArgs\":{\"namespace\":\"html\",\"tag\":\"div\"},\"children\":[]}]}]},\n",
       "        window,\n",
       "    );\n",
       "    })()\n",
       "    </script>\n",
       "</div>\n"
      ],
      "text/plain": [
       "(div { style=Dict{Any, Any}(\"align-items\" => :center, \"display\" => \"flex\", \"flex-direction\" => \"column\") }\n",
       "  (pre\n",
       "    \"Gaussian elimination for column 2 with pivot 0.0: add -Inf * (row 2) to (row 3)\")\n",
       "  (div { style=Dict{Any, Any}(\"align-items\" => :center, \"display\" => \"flex\", \"flex-direction\" => \"row\") }\n",
       "    [-3.0 5.0 … 3.0 -7.0; 0.0 0.0 … -5.0 -13.0; … ; 0.0 -12.0 … -2.0 6.0; 0.0 -9.333 … -9.0 26.667]\n",
       "    (div { style=Dict{String, Measures.Length{U, Float64} where U}(\"height\" => 0.0px, \"width\" => 1.0em) })\n",
       "    \"⟶\"\n",
       "    (div { style=Dict{String, Measures.Length{U, Float64} where U}(\"height\" => 0.0px, \"width\" => 1.0em) })\n",
       "    [-3.0 5.0 … 3.0 -7.0; 0.0 0.0 … -5.0 -13.0; … ; 0.0 -12.0 … -2.0 6.0; 0.0 -9.333 … -9.0 26.667]))"
      ]
     },
     "metadata": {
      "application/vnd.webio.node+json": {
       "kernelId": "e075c803-bca2-4c5f-9e01-34fec12b6e1f"
      }
     },
     "output_type": "display_data"
    },
    {
     "data": {
      "application/vnd.webio.node+json": {
       "children": [
        {
         "children": [
          "Gaussian elimination for column 2 with pivot 0.0: add Inf * (row 2) to (row 4)"
         ],
         "instanceArgs": {
          "namespace": "html",
          "tag": "pre"
         },
         "nodeType": "DOM",
         "props": {},
         "type": "node"
        },
        {
         "children": [
          {
           "children": [],
           "instanceArgs": {
            "namespace": "html",
            "tag": "div"
           },
           "nodeType": "DOM",
           "props": {
            "setInnerHtml": "<pre>5×5 Matrix{Float64}:\n  -3.0    5.0      5.0     3.0   -7.0\n   0.0    0.0     13.0    -5.0  -13.0\n NaN    NaN      -Inf     Inf    Inf\n   0.0  -12.0     -4.0    -2.0    6.0\n   0.0   -9.333  -19.333  -9.0   26.667</pre>"
           },
           "type": "node"
          },
          {
           "children": [],
           "instanceArgs": {
            "namespace": "html",
            "tag": "div"
           },
           "nodeType": "DOM",
           "props": {
            "style": {
             "height": "0.0px",
             "width": "1.0em"
            }
           },
           "type": "node"
          },
          "⟶",
          {
           "children": [],
           "instanceArgs": {
            "namespace": "html",
            "tag": "div"
           },
           "nodeType": "DOM",
           "props": {
            "style": {
             "height": "0.0px",
             "width": "1.0em"
            }
           },
           "type": "node"
          },
          {
           "children": [],
           "instanceArgs": {
            "namespace": "html",
            "tag": "div"
           },
           "nodeType": "DOM",
           "props": {
            "setInnerHtml": "<pre>5×5 Matrix{Float64}:\n  -3.0    5.0      5.0      3.0   -7.0\n   0.0    0.0     13.0     -5.0  -13.0\n NaN    NaN      -Inf      Inf    Inf\n NaN    NaN       Inf     -Inf   -Inf\n   0.0   -9.333  -19.333   -9.0   26.667</pre>"
           },
           "type": "node"
          }
         ],
         "instanceArgs": {
          "namespace": "html",
          "tag": "div"
         },
         "nodeType": "DOM",
         "props": {
          "style": {
           "align-items": "center",
           "display": "flex",
           "flex-direction": "row"
          }
         },
         "type": "node"
        }
       ],
       "instanceArgs": {
        "namespace": "html",
        "tag": "div"
       },
       "nodeType": "DOM",
       "props": {
        "style": {
         "align-items": "center",
         "display": "flex",
         "flex-direction": "column"
        }
       },
       "type": "node"
      },
      "text/html": [
       "<div\n",
       "    class=\"webio-mountpoint\"\n",
       "    data-webio-mountpoint=\"6868386037392281951\"\n",
       ">\n",
       "    <script>\n",
       "    (function(){\n",
       "    // Some integrations (namely, IJulia/Jupyter) use an alternate render pathway than\n",
       "    // just putting the html on the page. If WebIO isn't defined, then it's pretty likely\n",
       "    // that we're in one of those situations and the integration just isn't installed\n",
       "    // correctly.\n",
       "    if (typeof window.WebIO === \"undefined\") {\n",
       "        document\n",
       "            .querySelector('[data-webio-mountpoint=\"6868386037392281951\"]')\n",
       "            .innerHTML = (\n",
       "                '<div style=\"padding: 1em; background-color: #f8d6da; border: 1px solid #f5c6cb; font-weight: bold;\">' +\n",
       "                '<p><strong>WebIO not detected.</strong></p>' +\n",
       "                '<p>Please read ' +\n",
       "                '<a href=\"https://juliagizmos.github.io/WebIO.jl/latest/troubleshooting/not-detected/\" target=\"_blank\">the troubleshooting guide</a> ' +\n",
       "                'for more information on how to resolve this issue.</p>' +\n",
       "                '<p><a href=\"https://juliagizmos.github.io/WebIO.jl/latest/troubleshooting/not-detected/\" target=\"_blank\">https://juliagizmos.github.io/WebIO.jl/latest/troubleshooting/not-detected/</a></p>' +\n",
       "                '</div>'\n",
       "            );\n",
       "        return;\n",
       "    }\n",
       "    WebIO.mount(\n",
       "        document.querySelector('[data-webio-mountpoint=\"6868386037392281951\"]'),\n",
       "        {\"props\":{\"style\":{\"align-items\":\"center\",\"display\":\"flex\",\"flex-direction\":\"column\"}},\"nodeType\":\"DOM\",\"type\":\"node\",\"instanceArgs\":{\"namespace\":\"html\",\"tag\":\"div\"},\"children\":[{\"props\":{},\"nodeType\":\"DOM\",\"type\":\"node\",\"instanceArgs\":{\"namespace\":\"html\",\"tag\":\"pre\"},\"children\":[\"Gaussian elimination for column 2 with pivot 0.0: add Inf * (row 2) to (row 4)\"]},{\"props\":{\"style\":{\"align-items\":\"center\",\"display\":\"flex\",\"flex-direction\":\"row\"}},\"nodeType\":\"DOM\",\"type\":\"node\",\"instanceArgs\":{\"namespace\":\"html\",\"tag\":\"div\"},\"children\":[{\"props\":{\"setInnerHtml\":\"<pre>5×5 Matrix{Float64}:\\n  -3.0    5.0      5.0     3.0   -7.0\\n   0.0    0.0     13.0    -5.0  -13.0\\n NaN    NaN      -Inf     Inf    Inf\\n   0.0  -12.0     -4.0    -2.0    6.0\\n   0.0   -9.333  -19.333  -9.0   26.667<\\/pre>\"},\"nodeType\":\"DOM\",\"type\":\"node\",\"instanceArgs\":{\"namespace\":\"html\",\"tag\":\"div\"},\"children\":[]},{\"props\":{\"style\":{\"height\":\"0.0px\",\"width\":\"1.0em\"}},\"nodeType\":\"DOM\",\"type\":\"node\",\"instanceArgs\":{\"namespace\":\"html\",\"tag\":\"div\"},\"children\":[]},\"⟶\",{\"props\":{\"style\":{\"height\":\"0.0px\",\"width\":\"1.0em\"}},\"nodeType\":\"DOM\",\"type\":\"node\",\"instanceArgs\":{\"namespace\":\"html\",\"tag\":\"div\"},\"children\":[]},{\"props\":{\"setInnerHtml\":\"<pre>5×5 Matrix{Float64}:\\n  -3.0    5.0      5.0      3.0   -7.0\\n   0.0    0.0     13.0     -5.0  -13.0\\n NaN    NaN      -Inf      Inf    Inf\\n NaN    NaN       Inf     -Inf   -Inf\\n   0.0   -9.333  -19.333   -9.0   26.667<\\/pre>\"},\"nodeType\":\"DOM\",\"type\":\"node\",\"instanceArgs\":{\"namespace\":\"html\",\"tag\":\"div\"},\"children\":[]}]}]},\n",
       "        window,\n",
       "    );\n",
       "    })()\n",
       "    </script>\n",
       "</div>\n"
      ],
      "text/plain": [
       "(div { style=Dict{Any, Any}(\"align-items\" => :center, \"display\" => \"flex\", \"flex-direction\" => \"column\") }\n",
       "  (pre\n",
       "    \"Gaussian elimination for column 2 with pivot 0.0: add Inf * (row 2) to (row 4)\")\n",
       "  (div { style=Dict{Any, Any}(\"align-items\" => :center, \"display\" => \"flex\", \"flex-direction\" => \"row\") }\n",
       "    [-3.0 5.0 … 3.0 -7.0; 0.0 0.0 … -5.0 -13.0; … ; 0.0 -12.0 … -2.0 6.0; 0.0 -9.333 … -9.0 26.667]\n",
       "    (div { style=Dict{String, Measures.Length{U, Float64} where U}(\"height\" => 0.0px, \"width\" => 1.0em) })\n",
       "    \"⟶\"\n",
       "    (div { style=Dict{String, Measures.Length{U, Float64} where U}(\"height\" => 0.0px, \"width\" => 1.0em) })\n",
       "    [-3.0 5.0 … 3.0 -7.0; 0.0 0.0 … -5.0 -13.0; … ; NaN NaN … -Inf -Inf; 0.0 -9.333 … -9.0 26.667]))"
      ]
     },
     "metadata": {
      "application/vnd.webio.node+json": {
       "kernelId": "e075c803-bca2-4c5f-9e01-34fec12b6e1f"
      }
     },
     "output_type": "display_data"
    },
    {
     "data": {
      "application/vnd.webio.node+json": {
       "children": [
        {
         "children": [
          "Gaussian elimination for column 2 with pivot 0.0: add Inf * (row 2) to (row 5)"
         ],
         "instanceArgs": {
          "namespace": "html",
          "tag": "pre"
         },
         "nodeType": "DOM",
         "props": {},
         "type": "node"
        },
        {
         "children": [
          {
           "children": [],
           "instanceArgs": {
            "namespace": "html",
            "tag": "div"
           },
           "nodeType": "DOM",
           "props": {
            "setInnerHtml": "<pre>5×5 Matrix{Float64}:\n  -3.0    5.0      5.0      3.0   -7.0\n   0.0    0.0     13.0     -5.0  -13.0\n NaN    NaN      -Inf      Inf    Inf\n NaN    NaN       Inf     -Inf   -Inf\n   0.0   -9.333  -19.333   -9.0   26.667</pre>"
           },
           "type": "node"
          },
          {
           "children": [],
           "instanceArgs": {
            "namespace": "html",
            "tag": "div"
           },
           "nodeType": "DOM",
           "props": {
            "style": {
             "height": "0.0px",
             "width": "1.0em"
            }
           },
           "type": "node"
          },
          "⟶",
          {
           "children": [],
           "instanceArgs": {
            "namespace": "html",
            "tag": "div"
           },
           "nodeType": "DOM",
           "props": {
            "style": {
             "height": "0.0px",
             "width": "1.0em"
            }
           },
           "type": "node"
          },
          {
           "children": [],
           "instanceArgs": {
            "namespace": "html",
            "tag": "div"
           },
           "nodeType": "DOM",
           "props": {
            "setInnerHtml": "<pre>5×5 Matrix{Float64}:\n  -3.0    5.0    5.0    3.0   -7.0\n   0.0    0.0   13.0   -5.0  -13.0\n NaN    NaN    -Inf    Inf    Inf\n NaN    NaN     Inf   -Inf   -Inf\n NaN    NaN     Inf   -Inf   -Inf</pre>"
           },
           "type": "node"
          }
         ],
         "instanceArgs": {
          "namespace": "html",
          "tag": "div"
         },
         "nodeType": "DOM",
         "props": {
          "style": {
           "align-items": "center",
           "display": "flex",
           "flex-direction": "row"
          }
         },
         "type": "node"
        }
       ],
       "instanceArgs": {
        "namespace": "html",
        "tag": "div"
       },
       "nodeType": "DOM",
       "props": {
        "style": {
         "align-items": "center",
         "display": "flex",
         "flex-direction": "column"
        }
       },
       "type": "node"
      },
      "text/html": [
       "<div\n",
       "    class=\"webio-mountpoint\"\n",
       "    data-webio-mountpoint=\"13375613883230599568\"\n",
       ">\n",
       "    <script>\n",
       "    (function(){\n",
       "    // Some integrations (namely, IJulia/Jupyter) use an alternate render pathway than\n",
       "    // just putting the html on the page. If WebIO isn't defined, then it's pretty likely\n",
       "    // that we're in one of those situations and the integration just isn't installed\n",
       "    // correctly.\n",
       "    if (typeof window.WebIO === \"undefined\") {\n",
       "        document\n",
       "            .querySelector('[data-webio-mountpoint=\"13375613883230599568\"]')\n",
       "            .innerHTML = (\n",
       "                '<div style=\"padding: 1em; background-color: #f8d6da; border: 1px solid #f5c6cb; font-weight: bold;\">' +\n",
       "                '<p><strong>WebIO not detected.</strong></p>' +\n",
       "                '<p>Please read ' +\n",
       "                '<a href=\"https://juliagizmos.github.io/WebIO.jl/latest/troubleshooting/not-detected/\" target=\"_blank\">the troubleshooting guide</a> ' +\n",
       "                'for more information on how to resolve this issue.</p>' +\n",
       "                '<p><a href=\"https://juliagizmos.github.io/WebIO.jl/latest/troubleshooting/not-detected/\" target=\"_blank\">https://juliagizmos.github.io/WebIO.jl/latest/troubleshooting/not-detected/</a></p>' +\n",
       "                '</div>'\n",
       "            );\n",
       "        return;\n",
       "    }\n",
       "    WebIO.mount(\n",
       "        document.querySelector('[data-webio-mountpoint=\"13375613883230599568\"]'),\n",
       "        {\"props\":{\"style\":{\"align-items\":\"center\",\"display\":\"flex\",\"flex-direction\":\"column\"}},\"nodeType\":\"DOM\",\"type\":\"node\",\"instanceArgs\":{\"namespace\":\"html\",\"tag\":\"div\"},\"children\":[{\"props\":{},\"nodeType\":\"DOM\",\"type\":\"node\",\"instanceArgs\":{\"namespace\":\"html\",\"tag\":\"pre\"},\"children\":[\"Gaussian elimination for column 2 with pivot 0.0: add Inf * (row 2) to (row 5)\"]},{\"props\":{\"style\":{\"align-items\":\"center\",\"display\":\"flex\",\"flex-direction\":\"row\"}},\"nodeType\":\"DOM\",\"type\":\"node\",\"instanceArgs\":{\"namespace\":\"html\",\"tag\":\"div\"},\"children\":[{\"props\":{\"setInnerHtml\":\"<pre>5×5 Matrix{Float64}:\\n  -3.0    5.0      5.0      3.0   -7.0\\n   0.0    0.0     13.0     -5.0  -13.0\\n NaN    NaN      -Inf      Inf    Inf\\n NaN    NaN       Inf     -Inf   -Inf\\n   0.0   -9.333  -19.333   -9.0   26.667<\\/pre>\"},\"nodeType\":\"DOM\",\"type\":\"node\",\"instanceArgs\":{\"namespace\":\"html\",\"tag\":\"div\"},\"children\":[]},{\"props\":{\"style\":{\"height\":\"0.0px\",\"width\":\"1.0em\"}},\"nodeType\":\"DOM\",\"type\":\"node\",\"instanceArgs\":{\"namespace\":\"html\",\"tag\":\"div\"},\"children\":[]},\"⟶\",{\"props\":{\"style\":{\"height\":\"0.0px\",\"width\":\"1.0em\"}},\"nodeType\":\"DOM\",\"type\":\"node\",\"instanceArgs\":{\"namespace\":\"html\",\"tag\":\"div\"},\"children\":[]},{\"props\":{\"setInnerHtml\":\"<pre>5×5 Matrix{Float64}:\\n  -3.0    5.0    5.0    3.0   -7.0\\n   0.0    0.0   13.0   -5.0  -13.0\\n NaN    NaN    -Inf    Inf    Inf\\n NaN    NaN     Inf   -Inf   -Inf\\n NaN    NaN     Inf   -Inf   -Inf<\\/pre>\"},\"nodeType\":\"DOM\",\"type\":\"node\",\"instanceArgs\":{\"namespace\":\"html\",\"tag\":\"div\"},\"children\":[]}]}]},\n",
       "        window,\n",
       "    );\n",
       "    })()\n",
       "    </script>\n",
       "</div>\n"
      ],
      "text/plain": [
       "(div { style=Dict{Any, Any}(\"align-items\" => :center, \"display\" => \"flex\", \"flex-direction\" => \"column\") }\n",
       "  (pre\n",
       "    \"Gaussian elimination for column 2 with pivot 0.0: add Inf * (row 2) to (row 5)\")\n",
       "  (div { style=Dict{Any, Any}(\"align-items\" => :center, \"display\" => \"flex\", \"flex-direction\" => \"row\") }\n",
       "    [-3.0 5.0 … 3.0 -7.0; 0.0 0.0 … -5.0 -13.0; … ; NaN NaN … -Inf -Inf; 0.0 -9.333 … -9.0 26.667]\n",
       "    (div { style=Dict{String, Measures.Length{U, Float64} where U}(\"height\" => 0.0px, \"width\" => 1.0em) })\n",
       "    \"⟶\"\n",
       "    (div { style=Dict{String, Measures.Length{U, Float64} where U}(\"height\" => 0.0px, \"width\" => 1.0em) })\n",
       "    [-3.0 5.0 … 3.0 -7.0; 0.0 0.0 … -5.0 -13.0; … ; NaN NaN … -Inf -Inf; NaN NaN … -Inf -Inf]))"
      ]
     },
     "metadata": {
      "application/vnd.webio.node+json": {
       "kernelId": "e075c803-bca2-4c5f-9e01-34fec12b6e1f"
      }
     },
     "output_type": "display_data"
    },
    {
     "data": {
      "application/vnd.webio.node+json": {
       "children": [
        {
         "children": [
          "Gaussian elimination for column 3 with pivot -Inf: add NaN * (row 3) to (row 4)"
         ],
         "instanceArgs": {
          "namespace": "html",
          "tag": "pre"
         },
         "nodeType": "DOM",
         "props": {},
         "type": "node"
        },
        {
         "children": [
          {
           "children": [],
           "instanceArgs": {
            "namespace": "html",
            "tag": "div"
           },
           "nodeType": "DOM",
           "props": {
            "setInnerHtml": "<pre>5×5 Matrix{Float64}:\n  -3.0    5.0    5.0    3.0   -7.0\n   0.0    0.0   13.0   -5.0  -13.0\n NaN    NaN    -Inf    Inf    Inf\n NaN    NaN     Inf   -Inf   -Inf\n NaN    NaN     Inf   -Inf   -Inf</pre>"
           },
           "type": "node"
          },
          {
           "children": [],
           "instanceArgs": {
            "namespace": "html",
            "tag": "div"
           },
           "nodeType": "DOM",
           "props": {
            "style": {
             "height": "0.0px",
             "width": "1.0em"
            }
           },
           "type": "node"
          },
          "⟶",
          {
           "children": [],
           "instanceArgs": {
            "namespace": "html",
            "tag": "div"
           },
           "nodeType": "DOM",
           "props": {
            "style": {
             "height": "0.0px",
             "width": "1.0em"
            }
           },
           "type": "node"
          },
          {
           "children": [],
           "instanceArgs": {
            "namespace": "html",
            "tag": "div"
           },
           "nodeType": "DOM",
           "props": {
            "setInnerHtml": "<pre>5×5 Matrix{Float64}:\n  -3.0    5.0    5.0    3.0   -7.0\n   0.0    0.0   13.0   -5.0  -13.0\n NaN    NaN    -Inf    Inf    Inf\n NaN    NaN    NaN    NaN    NaN\n NaN    NaN     Inf   -Inf   -Inf</pre>"
           },
           "type": "node"
          }
         ],
         "instanceArgs": {
          "namespace": "html",
          "tag": "div"
         },
         "nodeType": "DOM",
         "props": {
          "style": {
           "align-items": "center",
           "display": "flex",
           "flex-direction": "row"
          }
         },
         "type": "node"
        }
       ],
       "instanceArgs": {
        "namespace": "html",
        "tag": "div"
       },
       "nodeType": "DOM",
       "props": {
        "style": {
         "align-items": "center",
         "display": "flex",
         "flex-direction": "column"
        }
       },
       "type": "node"
      },
      "text/html": [
       "<div\n",
       "    class=\"webio-mountpoint\"\n",
       "    data-webio-mountpoint=\"7767320121516627295\"\n",
       ">\n",
       "    <script>\n",
       "    (function(){\n",
       "    // Some integrations (namely, IJulia/Jupyter) use an alternate render pathway than\n",
       "    // just putting the html on the page. If WebIO isn't defined, then it's pretty likely\n",
       "    // that we're in one of those situations and the integration just isn't installed\n",
       "    // correctly.\n",
       "    if (typeof window.WebIO === \"undefined\") {\n",
       "        document\n",
       "            .querySelector('[data-webio-mountpoint=\"7767320121516627295\"]')\n",
       "            .innerHTML = (\n",
       "                '<div style=\"padding: 1em; background-color: #f8d6da; border: 1px solid #f5c6cb; font-weight: bold;\">' +\n",
       "                '<p><strong>WebIO not detected.</strong></p>' +\n",
       "                '<p>Please read ' +\n",
       "                '<a href=\"https://juliagizmos.github.io/WebIO.jl/latest/troubleshooting/not-detected/\" target=\"_blank\">the troubleshooting guide</a> ' +\n",
       "                'for more information on how to resolve this issue.</p>' +\n",
       "                '<p><a href=\"https://juliagizmos.github.io/WebIO.jl/latest/troubleshooting/not-detected/\" target=\"_blank\">https://juliagizmos.github.io/WebIO.jl/latest/troubleshooting/not-detected/</a></p>' +\n",
       "                '</div>'\n",
       "            );\n",
       "        return;\n",
       "    }\n",
       "    WebIO.mount(\n",
       "        document.querySelector('[data-webio-mountpoint=\"7767320121516627295\"]'),\n",
       "        {\"props\":{\"style\":{\"align-items\":\"center\",\"display\":\"flex\",\"flex-direction\":\"column\"}},\"nodeType\":\"DOM\",\"type\":\"node\",\"instanceArgs\":{\"namespace\":\"html\",\"tag\":\"div\"},\"children\":[{\"props\":{},\"nodeType\":\"DOM\",\"type\":\"node\",\"instanceArgs\":{\"namespace\":\"html\",\"tag\":\"pre\"},\"children\":[\"Gaussian elimination for column 3 with pivot -Inf: add NaN * (row 3) to (row 4)\"]},{\"props\":{\"style\":{\"align-items\":\"center\",\"display\":\"flex\",\"flex-direction\":\"row\"}},\"nodeType\":\"DOM\",\"type\":\"node\",\"instanceArgs\":{\"namespace\":\"html\",\"tag\":\"div\"},\"children\":[{\"props\":{\"setInnerHtml\":\"<pre>5×5 Matrix{Float64}:\\n  -3.0    5.0    5.0    3.0   -7.0\\n   0.0    0.0   13.0   -5.0  -13.0\\n NaN    NaN    -Inf    Inf    Inf\\n NaN    NaN     Inf   -Inf   -Inf\\n NaN    NaN     Inf   -Inf   -Inf<\\/pre>\"},\"nodeType\":\"DOM\",\"type\":\"node\",\"instanceArgs\":{\"namespace\":\"html\",\"tag\":\"div\"},\"children\":[]},{\"props\":{\"style\":{\"height\":\"0.0px\",\"width\":\"1.0em\"}},\"nodeType\":\"DOM\",\"type\":\"node\",\"instanceArgs\":{\"namespace\":\"html\",\"tag\":\"div\"},\"children\":[]},\"⟶\",{\"props\":{\"style\":{\"height\":\"0.0px\",\"width\":\"1.0em\"}},\"nodeType\":\"DOM\",\"type\":\"node\",\"instanceArgs\":{\"namespace\":\"html\",\"tag\":\"div\"},\"children\":[]},{\"props\":{\"setInnerHtml\":\"<pre>5×5 Matrix{Float64}:\\n  -3.0    5.0    5.0    3.0   -7.0\\n   0.0    0.0   13.0   -5.0  -13.0\\n NaN    NaN    -Inf    Inf    Inf\\n NaN    NaN    NaN    NaN    NaN\\n NaN    NaN     Inf   -Inf   -Inf<\\/pre>\"},\"nodeType\":\"DOM\",\"type\":\"node\",\"instanceArgs\":{\"namespace\":\"html\",\"tag\":\"div\"},\"children\":[]}]}]},\n",
       "        window,\n",
       "    );\n",
       "    })()\n",
       "    </script>\n",
       "</div>\n"
      ],
      "text/plain": [
       "(div { style=Dict{Any, Any}(\"align-items\" => :center, \"display\" => \"flex\", \"flex-direction\" => \"column\") }\n",
       "  (pre\n",
       "    \"Gaussian elimination for column 3 with pivot -Inf: add NaN * (row 3) to (row 4)\")\n",
       "  (div { style=Dict{Any, Any}(\"align-items\" => :center, \"display\" => \"flex\", \"flex-direction\" => \"row\") }\n",
       "    [-3.0 5.0 … 3.0 -7.0; 0.0 0.0 … -5.0 -13.0; … ; NaN NaN … -Inf -Inf; NaN NaN … -Inf -Inf]\n",
       "    (div { style=Dict{String, Measures.Length{U, Float64} where U}(\"height\" => 0.0px, \"width\" => 1.0em) })\n",
       "    \"⟶\"\n",
       "    (div { style=Dict{String, Measures.Length{U, Float64} where U}(\"height\" => 0.0px, \"width\" => 1.0em) })\n",
       "    [-3.0 5.0 … 3.0 -7.0; 0.0 0.0 … -5.0 -13.0; … ; NaN NaN … NaN NaN; NaN NaN … -Inf -Inf]))"
      ]
     },
     "metadata": {
      "application/vnd.webio.node+json": {
       "kernelId": "e075c803-bca2-4c5f-9e01-34fec12b6e1f"
      }
     },
     "output_type": "display_data"
    },
    {
     "data": {
      "application/vnd.webio.node+json": {
       "children": [
        {
         "children": [
          "Gaussian elimination for column 3 with pivot -Inf: add NaN * (row 3) to (row 5)"
         ],
         "instanceArgs": {
          "namespace": "html",
          "tag": "pre"
         },
         "nodeType": "DOM",
         "props": {},
         "type": "node"
        },
        {
         "children": [
          {
           "children": [],
           "instanceArgs": {
            "namespace": "html",
            "tag": "div"
           },
           "nodeType": "DOM",
           "props": {
            "setInnerHtml": "<pre>5×5 Matrix{Float64}:\n  -3.0    5.0    5.0    3.0   -7.0\n   0.0    0.0   13.0   -5.0  -13.0\n NaN    NaN    -Inf    Inf    Inf\n NaN    NaN    NaN    NaN    NaN\n NaN    NaN     Inf   -Inf   -Inf</pre>"
           },
           "type": "node"
          },
          {
           "children": [],
           "instanceArgs": {
            "namespace": "html",
            "tag": "div"
           },
           "nodeType": "DOM",
           "props": {
            "style": {
             "height": "0.0px",
             "width": "1.0em"
            }
           },
           "type": "node"
          },
          "⟶",
          {
           "children": [],
           "instanceArgs": {
            "namespace": "html",
            "tag": "div"
           },
           "nodeType": "DOM",
           "props": {
            "style": {
             "height": "0.0px",
             "width": "1.0em"
            }
           },
           "type": "node"
          },
          {
           "children": [],
           "instanceArgs": {
            "namespace": "html",
            "tag": "div"
           },
           "nodeType": "DOM",
           "props": {
            "setInnerHtml": "<pre>5×5 Matrix{Float64}:\n  -3.0    5.0    5.0    3.0   -7.0\n   0.0    0.0   13.0   -5.0  -13.0\n NaN    NaN    -Inf    Inf    Inf\n NaN    NaN    NaN    NaN    NaN\n NaN    NaN    NaN    NaN    NaN</pre>"
           },
           "type": "node"
          }
         ],
         "instanceArgs": {
          "namespace": "html",
          "tag": "div"
         },
         "nodeType": "DOM",
         "props": {
          "style": {
           "align-items": "center",
           "display": "flex",
           "flex-direction": "row"
          }
         },
         "type": "node"
        }
       ],
       "instanceArgs": {
        "namespace": "html",
        "tag": "div"
       },
       "nodeType": "DOM",
       "props": {
        "style": {
         "align-items": "center",
         "display": "flex",
         "flex-direction": "column"
        }
       },
       "type": "node"
      },
      "text/html": [
       "<div\n",
       "    class=\"webio-mountpoint\"\n",
       "    data-webio-mountpoint=\"1732799400573533036\"\n",
       ">\n",
       "    <script>\n",
       "    (function(){\n",
       "    // Some integrations (namely, IJulia/Jupyter) use an alternate render pathway than\n",
       "    // just putting the html on the page. If WebIO isn't defined, then it's pretty likely\n",
       "    // that we're in one of those situations and the integration just isn't installed\n",
       "    // correctly.\n",
       "    if (typeof window.WebIO === \"undefined\") {\n",
       "        document\n",
       "            .querySelector('[data-webio-mountpoint=\"1732799400573533036\"]')\n",
       "            .innerHTML = (\n",
       "                '<div style=\"padding: 1em; background-color: #f8d6da; border: 1px solid #f5c6cb; font-weight: bold;\">' +\n",
       "                '<p><strong>WebIO not detected.</strong></p>' +\n",
       "                '<p>Please read ' +\n",
       "                '<a href=\"https://juliagizmos.github.io/WebIO.jl/latest/troubleshooting/not-detected/\" target=\"_blank\">the troubleshooting guide</a> ' +\n",
       "                'for more information on how to resolve this issue.</p>' +\n",
       "                '<p><a href=\"https://juliagizmos.github.io/WebIO.jl/latest/troubleshooting/not-detected/\" target=\"_blank\">https://juliagizmos.github.io/WebIO.jl/latest/troubleshooting/not-detected/</a></p>' +\n",
       "                '</div>'\n",
       "            );\n",
       "        return;\n",
       "    }\n",
       "    WebIO.mount(\n",
       "        document.querySelector('[data-webio-mountpoint=\"1732799400573533036\"]'),\n",
       "        {\"props\":{\"style\":{\"align-items\":\"center\",\"display\":\"flex\",\"flex-direction\":\"column\"}},\"nodeType\":\"DOM\",\"type\":\"node\",\"instanceArgs\":{\"namespace\":\"html\",\"tag\":\"div\"},\"children\":[{\"props\":{},\"nodeType\":\"DOM\",\"type\":\"node\",\"instanceArgs\":{\"namespace\":\"html\",\"tag\":\"pre\"},\"children\":[\"Gaussian elimination for column 3 with pivot -Inf: add NaN * (row 3) to (row 5)\"]},{\"props\":{\"style\":{\"align-items\":\"center\",\"display\":\"flex\",\"flex-direction\":\"row\"}},\"nodeType\":\"DOM\",\"type\":\"node\",\"instanceArgs\":{\"namespace\":\"html\",\"tag\":\"div\"},\"children\":[{\"props\":{\"setInnerHtml\":\"<pre>5×5 Matrix{Float64}:\\n  -3.0    5.0    5.0    3.0   -7.0\\n   0.0    0.0   13.0   -5.0  -13.0\\n NaN    NaN    -Inf    Inf    Inf\\n NaN    NaN    NaN    NaN    NaN\\n NaN    NaN     Inf   -Inf   -Inf<\\/pre>\"},\"nodeType\":\"DOM\",\"type\":\"node\",\"instanceArgs\":{\"namespace\":\"html\",\"tag\":\"div\"},\"children\":[]},{\"props\":{\"style\":{\"height\":\"0.0px\",\"width\":\"1.0em\"}},\"nodeType\":\"DOM\",\"type\":\"node\",\"instanceArgs\":{\"namespace\":\"html\",\"tag\":\"div\"},\"children\":[]},\"⟶\",{\"props\":{\"style\":{\"height\":\"0.0px\",\"width\":\"1.0em\"}},\"nodeType\":\"DOM\",\"type\":\"node\",\"instanceArgs\":{\"namespace\":\"html\",\"tag\":\"div\"},\"children\":[]},{\"props\":{\"setInnerHtml\":\"<pre>5×5 Matrix{Float64}:\\n  -3.0    5.0    5.0    3.0   -7.0\\n   0.0    0.0   13.0   -5.0  -13.0\\n NaN    NaN    -Inf    Inf    Inf\\n NaN    NaN    NaN    NaN    NaN\\n NaN    NaN    NaN    NaN    NaN<\\/pre>\"},\"nodeType\":\"DOM\",\"type\":\"node\",\"instanceArgs\":{\"namespace\":\"html\",\"tag\":\"div\"},\"children\":[]}]}]},\n",
       "        window,\n",
       "    );\n",
       "    })()\n",
       "    </script>\n",
       "</div>\n"
      ],
      "text/plain": [
       "(div { style=Dict{Any, Any}(\"align-items\" => :center, \"display\" => \"flex\", \"flex-direction\" => \"column\") }\n",
       "  (pre\n",
       "    \"Gaussian elimination for column 3 with pivot -Inf: add NaN * (row 3) to (row 5)\")\n",
       "  (div { style=Dict{Any, Any}(\"align-items\" => :center, \"display\" => \"flex\", \"flex-direction\" => \"row\") }\n",
       "    [-3.0 5.0 … 3.0 -7.0; 0.0 0.0 … -5.0 -13.0; … ; NaN NaN … NaN NaN; NaN NaN … -Inf -Inf]\n",
       "    (div { style=Dict{String, Measures.Length{U, Float64} where U}(\"height\" => 0.0px, \"width\" => 1.0em) })\n",
       "    \"⟶\"\n",
       "    (div { style=Dict{String, Measures.Length{U, Float64} where U}(\"height\" => 0.0px, \"width\" => 1.0em) })\n",
       "    [-3.0 5.0 … 3.0 -7.0; 0.0 0.0 … -5.0 -13.0; … ; NaN NaN … NaN NaN; NaN NaN … NaN NaN]))"
      ]
     },
     "metadata": {
      "application/vnd.webio.node+json": {
       "kernelId": "e075c803-bca2-4c5f-9e01-34fec12b6e1f"
      }
     },
     "output_type": "display_data"
    },
    {
     "data": {
      "application/vnd.webio.node+json": {
       "children": [
        {
         "children": [
          "Gaussian elimination for column 4 with pivot NaN: add NaN * (row 4) to (row 5)"
         ],
         "instanceArgs": {
          "namespace": "html",
          "tag": "pre"
         },
         "nodeType": "DOM",
         "props": {},
         "type": "node"
        },
        {
         "children": [
          {
           "children": [],
           "instanceArgs": {
            "namespace": "html",
            "tag": "div"
           },
           "nodeType": "DOM",
           "props": {
            "setInnerHtml": "<pre>5×5 Matrix{Float64}:\n  -3.0    5.0    5.0    3.0   -7.0\n   0.0    0.0   13.0   -5.0  -13.0\n NaN    NaN    -Inf    Inf    Inf\n NaN    NaN    NaN    NaN    NaN\n NaN    NaN    NaN    NaN    NaN</pre>"
           },
           "type": "node"
          },
          {
           "children": [],
           "instanceArgs": {
            "namespace": "html",
            "tag": "div"
           },
           "nodeType": "DOM",
           "props": {
            "style": {
             "height": "0.0px",
             "width": "1.0em"
            }
           },
           "type": "node"
          },
          "⟶",
          {
           "children": [],
           "instanceArgs": {
            "namespace": "html",
            "tag": "div"
           },
           "nodeType": "DOM",
           "props": {
            "style": {
             "height": "0.0px",
             "width": "1.0em"
            }
           },
           "type": "node"
          },
          {
           "children": [],
           "instanceArgs": {
            "namespace": "html",
            "tag": "div"
           },
           "nodeType": "DOM",
           "props": {
            "setInnerHtml": "<pre>5×5 Matrix{Float64}:\n  -3.0    5.0    5.0    3.0   -7.0\n   0.0    0.0   13.0   -5.0  -13.0\n NaN    NaN    -Inf    Inf    Inf\n NaN    NaN    NaN    NaN    NaN\n NaN    NaN    NaN    NaN    NaN</pre>"
           },
           "type": "node"
          }
         ],
         "instanceArgs": {
          "namespace": "html",
          "tag": "div"
         },
         "nodeType": "DOM",
         "props": {
          "style": {
           "align-items": "center",
           "display": "flex",
           "flex-direction": "row"
          }
         },
         "type": "node"
        }
       ],
       "instanceArgs": {
        "namespace": "html",
        "tag": "div"
       },
       "nodeType": "DOM",
       "props": {
        "style": {
         "align-items": "center",
         "display": "flex",
         "flex-direction": "column"
        }
       },
       "type": "node"
      },
      "text/html": [
       "<div\n",
       "    class=\"webio-mountpoint\"\n",
       "    data-webio-mountpoint=\"16442097640131095734\"\n",
       ">\n",
       "    <script>\n",
       "    (function(){\n",
       "    // Some integrations (namely, IJulia/Jupyter) use an alternate render pathway than\n",
       "    // just putting the html on the page. If WebIO isn't defined, then it's pretty likely\n",
       "    // that we're in one of those situations and the integration just isn't installed\n",
       "    // correctly.\n",
       "    if (typeof window.WebIO === \"undefined\") {\n",
       "        document\n",
       "            .querySelector('[data-webio-mountpoint=\"16442097640131095734\"]')\n",
       "            .innerHTML = (\n",
       "                '<div style=\"padding: 1em; background-color: #f8d6da; border: 1px solid #f5c6cb; font-weight: bold;\">' +\n",
       "                '<p><strong>WebIO not detected.</strong></p>' +\n",
       "                '<p>Please read ' +\n",
       "                '<a href=\"https://juliagizmos.github.io/WebIO.jl/latest/troubleshooting/not-detected/\" target=\"_blank\">the troubleshooting guide</a> ' +\n",
       "                'for more information on how to resolve this issue.</p>' +\n",
       "                '<p><a href=\"https://juliagizmos.github.io/WebIO.jl/latest/troubleshooting/not-detected/\" target=\"_blank\">https://juliagizmos.github.io/WebIO.jl/latest/troubleshooting/not-detected/</a></p>' +\n",
       "                '</div>'\n",
       "            );\n",
       "        return;\n",
       "    }\n",
       "    WebIO.mount(\n",
       "        document.querySelector('[data-webio-mountpoint=\"16442097640131095734\"]'),\n",
       "        {\"props\":{\"style\":{\"align-items\":\"center\",\"display\":\"flex\",\"flex-direction\":\"column\"}},\"nodeType\":\"DOM\",\"type\":\"node\",\"instanceArgs\":{\"namespace\":\"html\",\"tag\":\"div\"},\"children\":[{\"props\":{},\"nodeType\":\"DOM\",\"type\":\"node\",\"instanceArgs\":{\"namespace\":\"html\",\"tag\":\"pre\"},\"children\":[\"Gaussian elimination for column 4 with pivot NaN: add NaN * (row 4) to (row 5)\"]},{\"props\":{\"style\":{\"align-items\":\"center\",\"display\":\"flex\",\"flex-direction\":\"row\"}},\"nodeType\":\"DOM\",\"type\":\"node\",\"instanceArgs\":{\"namespace\":\"html\",\"tag\":\"div\"},\"children\":[{\"props\":{\"setInnerHtml\":\"<pre>5×5 Matrix{Float64}:\\n  -3.0    5.0    5.0    3.0   -7.0\\n   0.0    0.0   13.0   -5.0  -13.0\\n NaN    NaN    -Inf    Inf    Inf\\n NaN    NaN    NaN    NaN    NaN\\n NaN    NaN    NaN    NaN    NaN<\\/pre>\"},\"nodeType\":\"DOM\",\"type\":\"node\",\"instanceArgs\":{\"namespace\":\"html\",\"tag\":\"div\"},\"children\":[]},{\"props\":{\"style\":{\"height\":\"0.0px\",\"width\":\"1.0em\"}},\"nodeType\":\"DOM\",\"type\":\"node\",\"instanceArgs\":{\"namespace\":\"html\",\"tag\":\"div\"},\"children\":[]},\"⟶\",{\"props\":{\"style\":{\"height\":\"0.0px\",\"width\":\"1.0em\"}},\"nodeType\":\"DOM\",\"type\":\"node\",\"instanceArgs\":{\"namespace\":\"html\",\"tag\":\"div\"},\"children\":[]},{\"props\":{\"setInnerHtml\":\"<pre>5×5 Matrix{Float64}:\\n  -3.0    5.0    5.0    3.0   -7.0\\n   0.0    0.0   13.0   -5.0  -13.0\\n NaN    NaN    -Inf    Inf    Inf\\n NaN    NaN    NaN    NaN    NaN\\n NaN    NaN    NaN    NaN    NaN<\\/pre>\"},\"nodeType\":\"DOM\",\"type\":\"node\",\"instanceArgs\":{\"namespace\":\"html\",\"tag\":\"div\"},\"children\":[]}]}]},\n",
       "        window,\n",
       "    );\n",
       "    })()\n",
       "    </script>\n",
       "</div>\n"
      ],
      "text/plain": [
       "(div { style=Dict{Any, Any}(\"align-items\" => :center, \"display\" => \"flex\", \"flex-direction\" => \"column\") }\n",
       "  (pre\n",
       "    \"Gaussian elimination for column 4 with pivot NaN: add NaN * (row 4) to (row 5)\")\n",
       "  (div { style=Dict{Any, Any}(\"align-items\" => :center, \"display\" => \"flex\", \"flex-direction\" => \"row\") }\n",
       "    [-3.0 5.0 … 3.0 -7.0; 0.0 0.0 … -5.0 -13.0; … ; NaN NaN … NaN NaN; NaN NaN … NaN NaN]\n",
       "    (div { style=Dict{String, Measures.Length{U, Float64} where U}(\"height\" => 0.0px, \"width\" => 1.0em) })\n",
       "    \"⟶\"\n",
       "    (div { style=Dict{String, Measures.Length{U, Float64} where U}(\"height\" => 0.0px, \"width\" => 1.0em) })\n",
       "    [-3.0 5.0 … 3.0 -7.0; 0.0 0.0 … -5.0 -13.0; … ; NaN NaN … NaN NaN; NaN NaN … NaN NaN]))"
      ]
     },
     "metadata": {
      "application/vnd.webio.node+json": {
       "kernelId": "e075c803-bca2-4c5f-9e01-34fec12b6e1f"
      }
     },
     "output_type": "display_data"
    }
   ],
   "source": [
    "Abad = [-3   5   5   3  -7\n",
    "         3  -5   8  -8  -6\n",
    "         8   2   8   2  -8\n",
    "        -6  -2   6   4  -8\n",
    "        -8   4  -6  -1   8]\n",
    "visualize_gauss(Abad)"
   ]
  },
  {
   "cell_type": "markdown",
   "metadata": {},
   "source": [
    "But this matrix is not actually singular:"
   ]
  },
  {
   "cell_type": "code",
   "execution_count": 18,
   "metadata": {},
   "outputs": [
    {
     "data": {
      "text/plain": [
       "19211.999999999993"
      ]
     },
     "execution_count": 18,
     "metadata": {},
     "output_type": "execute_result"
    }
   ],
   "source": [
    "det(Abad)"
   ]
  },
  {
   "cell_type": "markdown",
   "metadata": {},
   "source": [
    "So we can fix the problem just by re-ordering the rows, e.g. swapping the first and last rows:"
   ]
  },
  {
   "cell_type": "code",
   "execution_count": 19,
   "metadata": {},
   "outputs": [
    {
     "data": {
      "application/vnd.webio.node+json": {
       "children": [
        {
         "children": [
          "Gaussian elimination for column 1 with pivot -8.0: add 0.375 * (row 1) to (row 2)"
         ],
         "instanceArgs": {
          "namespace": "html",
          "tag": "pre"
         },
         "nodeType": "DOM",
         "props": {},
         "type": "node"
        },
        {
         "children": [
          {
           "children": [],
           "instanceArgs": {
            "namespace": "html",
            "tag": "div"
           },
           "nodeType": "DOM",
           "props": {
            "setInnerHtml": "<pre>5×5 Matrix{Int64}:\n -8   4  -6  -1   8\n  3  -5   8  -8  -6\n  8   2   8   2  -8\n -6  -2   6   4  -8\n -3   5   5   3  -7</pre>"
           },
           "type": "node"
          },
          {
           "children": [],
           "instanceArgs": {
            "namespace": "html",
            "tag": "div"
           },
           "nodeType": "DOM",
           "props": {
            "style": {
             "height": "0.0px",
             "width": "1.0em"
            }
           },
           "type": "node"
          },
          "⟶",
          {
           "children": [],
           "instanceArgs": {
            "namespace": "html",
            "tag": "div"
           },
           "nodeType": "DOM",
           "props": {
            "style": {
             "height": "0.0px",
             "width": "1.0em"
            }
           },
           "type": "node"
          },
          {
           "children": [],
           "instanceArgs": {
            "namespace": "html",
            "tag": "div"
           },
           "nodeType": "DOM",
           "props": {
            "setInnerHtml": "<pre>5×5 Matrix{Float64}:\n -8.0   4.0  -6.0   -1.0     8.0\n  0.0  -3.5   5.75  -8.375  -3.0\n  8.0   2.0   8.0    2.0    -8.0\n -6.0  -2.0   6.0    4.0    -8.0\n -3.0   5.0   5.0    3.0    -7.0</pre>"
           },
           "type": "node"
          }
         ],
         "instanceArgs": {
          "namespace": "html",
          "tag": "div"
         },
         "nodeType": "DOM",
         "props": {
          "style": {
           "align-items": "center",
           "display": "flex",
           "flex-direction": "row"
          }
         },
         "type": "node"
        }
       ],
       "instanceArgs": {
        "namespace": "html",
        "tag": "div"
       },
       "nodeType": "DOM",
       "props": {
        "style": {
         "align-items": "center",
         "display": "flex",
         "flex-direction": "column"
        }
       },
       "type": "node"
      },
      "text/html": [
       "<div\n",
       "    class=\"webio-mountpoint\"\n",
       "    data-webio-mountpoint=\"8556134568627775129\"\n",
       ">\n",
       "    <script>\n",
       "    (function(){\n",
       "    // Some integrations (namely, IJulia/Jupyter) use an alternate render pathway than\n",
       "    // just putting the html on the page. If WebIO isn't defined, then it's pretty likely\n",
       "    // that we're in one of those situations and the integration just isn't installed\n",
       "    // correctly.\n",
       "    if (typeof window.WebIO === \"undefined\") {\n",
       "        document\n",
       "            .querySelector('[data-webio-mountpoint=\"8556134568627775129\"]')\n",
       "            .innerHTML = (\n",
       "                '<div style=\"padding: 1em; background-color: #f8d6da; border: 1px solid #f5c6cb; font-weight: bold;\">' +\n",
       "                '<p><strong>WebIO not detected.</strong></p>' +\n",
       "                '<p>Please read ' +\n",
       "                '<a href=\"https://juliagizmos.github.io/WebIO.jl/latest/troubleshooting/not-detected/\" target=\"_blank\">the troubleshooting guide</a> ' +\n",
       "                'for more information on how to resolve this issue.</p>' +\n",
       "                '<p><a href=\"https://juliagizmos.github.io/WebIO.jl/latest/troubleshooting/not-detected/\" target=\"_blank\">https://juliagizmos.github.io/WebIO.jl/latest/troubleshooting/not-detected/</a></p>' +\n",
       "                '</div>'\n",
       "            );\n",
       "        return;\n",
       "    }\n",
       "    WebIO.mount(\n",
       "        document.querySelector('[data-webio-mountpoint=\"8556134568627775129\"]'),\n",
       "        {\"props\":{\"style\":{\"align-items\":\"center\",\"display\":\"flex\",\"flex-direction\":\"column\"}},\"nodeType\":\"DOM\",\"type\":\"node\",\"instanceArgs\":{\"namespace\":\"html\",\"tag\":\"div\"},\"children\":[{\"props\":{},\"nodeType\":\"DOM\",\"type\":\"node\",\"instanceArgs\":{\"namespace\":\"html\",\"tag\":\"pre\"},\"children\":[\"Gaussian elimination for column 1 with pivot -8.0: add 0.375 * (row 1) to (row 2)\"]},{\"props\":{\"style\":{\"align-items\":\"center\",\"display\":\"flex\",\"flex-direction\":\"row\"}},\"nodeType\":\"DOM\",\"type\":\"node\",\"instanceArgs\":{\"namespace\":\"html\",\"tag\":\"div\"},\"children\":[{\"props\":{\"setInnerHtml\":\"<pre>5×5 Matrix{Int64}:\\n -8   4  -6  -1   8\\n  3  -5   8  -8  -6\\n  8   2   8   2  -8\\n -6  -2   6   4  -8\\n -3   5   5   3  -7<\\/pre>\"},\"nodeType\":\"DOM\",\"type\":\"node\",\"instanceArgs\":{\"namespace\":\"html\",\"tag\":\"div\"},\"children\":[]},{\"props\":{\"style\":{\"height\":\"0.0px\",\"width\":\"1.0em\"}},\"nodeType\":\"DOM\",\"type\":\"node\",\"instanceArgs\":{\"namespace\":\"html\",\"tag\":\"div\"},\"children\":[]},\"⟶\",{\"props\":{\"style\":{\"height\":\"0.0px\",\"width\":\"1.0em\"}},\"nodeType\":\"DOM\",\"type\":\"node\",\"instanceArgs\":{\"namespace\":\"html\",\"tag\":\"div\"},\"children\":[]},{\"props\":{\"setInnerHtml\":\"<pre>5×5 Matrix{Float64}:\\n -8.0   4.0  -6.0   -1.0     8.0\\n  0.0  -3.5   5.75  -8.375  -3.0\\n  8.0   2.0   8.0    2.0    -8.0\\n -6.0  -2.0   6.0    4.0    -8.0\\n -3.0   5.0   5.0    3.0    -7.0<\\/pre>\"},\"nodeType\":\"DOM\",\"type\":\"node\",\"instanceArgs\":{\"namespace\":\"html\",\"tag\":\"div\"},\"children\":[]}]}]},\n",
       "        window,\n",
       "    );\n",
       "    })()\n",
       "    </script>\n",
       "</div>\n"
      ],
      "text/plain": [
       "(div { style=Dict{Any, Any}(\"align-items\" => :center, \"display\" => \"flex\", \"flex-direction\" => \"column\") }\n",
       "  (pre\n",
       "    \"Gaussian elimination for column 1 with pivot -8.0: add 0.375 * (row 1) to (row 2)\")\n",
       "  (div { style=Dict{Any, Any}(\"align-items\" => :center, \"display\" => \"flex\", \"flex-direction\" => \"row\") }\n",
       "    [-8 4 … -1 8; 3 -5 … -8 -6; … ; -6 -2 … 4 -8; -3 5 … 3 -7]\n",
       "    (div { style=Dict{String, Measures.Length{U, Float64} where U}(\"height\" => 0.0px, \"width\" => 1.0em) })\n",
       "    \"⟶\"\n",
       "    (div { style=Dict{String, Measures.Length{U, Float64} where U}(\"height\" => 0.0px, \"width\" => 1.0em) })\n",
       "    [-8.0 4.0 … -1.0 8.0; 0.0 -3.5 … -8.375 -3.0; … ; -6.0 -2.0 … 4.0 -8.0; -3.0 5.0 … 3.0 -7.0]))"
      ]
     },
     "metadata": {
      "application/vnd.webio.node+json": {
       "kernelId": "e075c803-bca2-4c5f-9e01-34fec12b6e1f"
      }
     },
     "output_type": "display_data"
    },
    {
     "data": {
      "application/vnd.webio.node+json": {
       "children": [
        {
         "children": [
          "Gaussian elimination for column 1 with pivot -8.0: add 1.0 * (row 1) to (row 3)"
         ],
         "instanceArgs": {
          "namespace": "html",
          "tag": "pre"
         },
         "nodeType": "DOM",
         "props": {},
         "type": "node"
        },
        {
         "children": [
          {
           "children": [],
           "instanceArgs": {
            "namespace": "html",
            "tag": "div"
           },
           "nodeType": "DOM",
           "props": {
            "setInnerHtml": "<pre>5×5 Matrix{Float64}:\n -8.0   4.0  -6.0   -1.0     8.0\n  0.0  -3.5   5.75  -8.375  -3.0\n  8.0   2.0   8.0    2.0    -8.0\n -6.0  -2.0   6.0    4.0    -8.0\n -3.0   5.0   5.0    3.0    -7.0</pre>"
           },
           "type": "node"
          },
          {
           "children": [],
           "instanceArgs": {
            "namespace": "html",
            "tag": "div"
           },
           "nodeType": "DOM",
           "props": {
            "style": {
             "height": "0.0px",
             "width": "1.0em"
            }
           },
           "type": "node"
          },
          "⟶",
          {
           "children": [],
           "instanceArgs": {
            "namespace": "html",
            "tag": "div"
           },
           "nodeType": "DOM",
           "props": {
            "style": {
             "height": "0.0px",
             "width": "1.0em"
            }
           },
           "type": "node"
          },
          {
           "children": [],
           "instanceArgs": {
            "namespace": "html",
            "tag": "div"
           },
           "nodeType": "DOM",
           "props": {
            "setInnerHtml": "<pre>5×5 Matrix{Float64}:\n -8.0   4.0  -6.0   -1.0     8.0\n  0.0  -3.5   5.75  -8.375  -3.0\n  0.0   6.0   2.0    1.0     0.0\n -6.0  -2.0   6.0    4.0    -8.0\n -3.0   5.0   5.0    3.0    -7.0</pre>"
           },
           "type": "node"
          }
         ],
         "instanceArgs": {
          "namespace": "html",
          "tag": "div"
         },
         "nodeType": "DOM",
         "props": {
          "style": {
           "align-items": "center",
           "display": "flex",
           "flex-direction": "row"
          }
         },
         "type": "node"
        }
       ],
       "instanceArgs": {
        "namespace": "html",
        "tag": "div"
       },
       "nodeType": "DOM",
       "props": {
        "style": {
         "align-items": "center",
         "display": "flex",
         "flex-direction": "column"
        }
       },
       "type": "node"
      },
      "text/html": [
       "<div\n",
       "    class=\"webio-mountpoint\"\n",
       "    data-webio-mountpoint=\"13977781283865014619\"\n",
       ">\n",
       "    <script>\n",
       "    (function(){\n",
       "    // Some integrations (namely, IJulia/Jupyter) use an alternate render pathway than\n",
       "    // just putting the html on the page. If WebIO isn't defined, then it's pretty likely\n",
       "    // that we're in one of those situations and the integration just isn't installed\n",
       "    // correctly.\n",
       "    if (typeof window.WebIO === \"undefined\") {\n",
       "        document\n",
       "            .querySelector('[data-webio-mountpoint=\"13977781283865014619\"]')\n",
       "            .innerHTML = (\n",
       "                '<div style=\"padding: 1em; background-color: #f8d6da; border: 1px solid #f5c6cb; font-weight: bold;\">' +\n",
       "                '<p><strong>WebIO not detected.</strong></p>' +\n",
       "                '<p>Please read ' +\n",
       "                '<a href=\"https://juliagizmos.github.io/WebIO.jl/latest/troubleshooting/not-detected/\" target=\"_blank\">the troubleshooting guide</a> ' +\n",
       "                'for more information on how to resolve this issue.</p>' +\n",
       "                '<p><a href=\"https://juliagizmos.github.io/WebIO.jl/latest/troubleshooting/not-detected/\" target=\"_blank\">https://juliagizmos.github.io/WebIO.jl/latest/troubleshooting/not-detected/</a></p>' +\n",
       "                '</div>'\n",
       "            );\n",
       "        return;\n",
       "    }\n",
       "    WebIO.mount(\n",
       "        document.querySelector('[data-webio-mountpoint=\"13977781283865014619\"]'),\n",
       "        {\"props\":{\"style\":{\"align-items\":\"center\",\"display\":\"flex\",\"flex-direction\":\"column\"}},\"nodeType\":\"DOM\",\"type\":\"node\",\"instanceArgs\":{\"namespace\":\"html\",\"tag\":\"div\"},\"children\":[{\"props\":{},\"nodeType\":\"DOM\",\"type\":\"node\",\"instanceArgs\":{\"namespace\":\"html\",\"tag\":\"pre\"},\"children\":[\"Gaussian elimination for column 1 with pivot -8.0: add 1.0 * (row 1) to (row 3)\"]},{\"props\":{\"style\":{\"align-items\":\"center\",\"display\":\"flex\",\"flex-direction\":\"row\"}},\"nodeType\":\"DOM\",\"type\":\"node\",\"instanceArgs\":{\"namespace\":\"html\",\"tag\":\"div\"},\"children\":[{\"props\":{\"setInnerHtml\":\"<pre>5×5 Matrix{Float64}:\\n -8.0   4.0  -6.0   -1.0     8.0\\n  0.0  -3.5   5.75  -8.375  -3.0\\n  8.0   2.0   8.0    2.0    -8.0\\n -6.0  -2.0   6.0    4.0    -8.0\\n -3.0   5.0   5.0    3.0    -7.0<\\/pre>\"},\"nodeType\":\"DOM\",\"type\":\"node\",\"instanceArgs\":{\"namespace\":\"html\",\"tag\":\"div\"},\"children\":[]},{\"props\":{\"style\":{\"height\":\"0.0px\",\"width\":\"1.0em\"}},\"nodeType\":\"DOM\",\"type\":\"node\",\"instanceArgs\":{\"namespace\":\"html\",\"tag\":\"div\"},\"children\":[]},\"⟶\",{\"props\":{\"style\":{\"height\":\"0.0px\",\"width\":\"1.0em\"}},\"nodeType\":\"DOM\",\"type\":\"node\",\"instanceArgs\":{\"namespace\":\"html\",\"tag\":\"div\"},\"children\":[]},{\"props\":{\"setInnerHtml\":\"<pre>5×5 Matrix{Float64}:\\n -8.0   4.0  -6.0   -1.0     8.0\\n  0.0  -3.5   5.75  -8.375  -3.0\\n  0.0   6.0   2.0    1.0     0.0\\n -6.0  -2.0   6.0    4.0    -8.0\\n -3.0   5.0   5.0    3.0    -7.0<\\/pre>\"},\"nodeType\":\"DOM\",\"type\":\"node\",\"instanceArgs\":{\"namespace\":\"html\",\"tag\":\"div\"},\"children\":[]}]}]},\n",
       "        window,\n",
       "    );\n",
       "    })()\n",
       "    </script>\n",
       "</div>\n"
      ],
      "text/plain": [
       "(div { style=Dict{Any, Any}(\"align-items\" => :center, \"display\" => \"flex\", \"flex-direction\" => \"column\") }\n",
       "  (pre\n",
       "    \"Gaussian elimination for column 1 with pivot -8.0: add 1.0 * (row 1) to (row 3)\")\n",
       "  (div { style=Dict{Any, Any}(\"align-items\" => :center, \"display\" => \"flex\", \"flex-direction\" => \"row\") }\n",
       "    [-8.0 4.0 … -1.0 8.0; 0.0 -3.5 … -8.375 -3.0; … ; -6.0 -2.0 … 4.0 -8.0; -3.0 5.0 … 3.0 -7.0]\n",
       "    (div { style=Dict{String, Measures.Length{U, Float64} where U}(\"height\" => 0.0px, \"width\" => 1.0em) })\n",
       "    \"⟶\"\n",
       "    (div { style=Dict{String, Measures.Length{U, Float64} where U}(\"height\" => 0.0px, \"width\" => 1.0em) })\n",
       "    [-8.0 4.0 … -1.0 8.0; 0.0 -3.5 … -8.375 -3.0; … ; -6.0 -2.0 … 4.0 -8.0; -3.0 5.0 … 3.0 -7.0]))"
      ]
     },
     "metadata": {
      "application/vnd.webio.node+json": {
       "kernelId": "e075c803-bca2-4c5f-9e01-34fec12b6e1f"
      }
     },
     "output_type": "display_data"
    },
    {
     "data": {
      "application/vnd.webio.node+json": {
       "children": [
        {
         "children": [
          "Gaussian elimination for column 1 with pivot -8.0: add -0.75 * (row 1) to (row 4)"
         ],
         "instanceArgs": {
          "namespace": "html",
          "tag": "pre"
         },
         "nodeType": "DOM",
         "props": {},
         "type": "node"
        },
        {
         "children": [
          {
           "children": [],
           "instanceArgs": {
            "namespace": "html",
            "tag": "div"
           },
           "nodeType": "DOM",
           "props": {
            "setInnerHtml": "<pre>5×5 Matrix{Float64}:\n -8.0   4.0  -6.0   -1.0     8.0\n  0.0  -3.5   5.75  -8.375  -3.0\n  0.0   6.0   2.0    1.0     0.0\n -6.0  -2.0   6.0    4.0    -8.0\n -3.0   5.0   5.0    3.0    -7.0</pre>"
           },
           "type": "node"
          },
          {
           "children": [],
           "instanceArgs": {
            "namespace": "html",
            "tag": "div"
           },
           "nodeType": "DOM",
           "props": {
            "style": {
             "height": "0.0px",
             "width": "1.0em"
            }
           },
           "type": "node"
          },
          "⟶",
          {
           "children": [],
           "instanceArgs": {
            "namespace": "html",
            "tag": "div"
           },
           "nodeType": "DOM",
           "props": {
            "style": {
             "height": "0.0px",
             "width": "1.0em"
            }
           },
           "type": "node"
          },
          {
           "children": [],
           "instanceArgs": {
            "namespace": "html",
            "tag": "div"
           },
           "nodeType": "DOM",
           "props": {
            "setInnerHtml": "<pre>5×5 Matrix{Float64}:\n -8.0   4.0  -6.0   -1.0      8.0\n  0.0  -3.5   5.75  -8.375   -3.0\n  0.0   6.0   2.0    1.0      0.0\n  0.0  -5.0  10.5    4.75   -14.0\n -3.0   5.0   5.0    3.0     -7.0</pre>"
           },
           "type": "node"
          }
         ],
         "instanceArgs": {
          "namespace": "html",
          "tag": "div"
         },
         "nodeType": "DOM",
         "props": {
          "style": {
           "align-items": "center",
           "display": "flex",
           "flex-direction": "row"
          }
         },
         "type": "node"
        }
       ],
       "instanceArgs": {
        "namespace": "html",
        "tag": "div"
       },
       "nodeType": "DOM",
       "props": {
        "style": {
         "align-items": "center",
         "display": "flex",
         "flex-direction": "column"
        }
       },
       "type": "node"
      },
      "text/html": [
       "<div\n",
       "    class=\"webio-mountpoint\"\n",
       "    data-webio-mountpoint=\"16975484845544651773\"\n",
       ">\n",
       "    <script>\n",
       "    (function(){\n",
       "    // Some integrations (namely, IJulia/Jupyter) use an alternate render pathway than\n",
       "    // just putting the html on the page. If WebIO isn't defined, then it's pretty likely\n",
       "    // that we're in one of those situations and the integration just isn't installed\n",
       "    // correctly.\n",
       "    if (typeof window.WebIO === \"undefined\") {\n",
       "        document\n",
       "            .querySelector('[data-webio-mountpoint=\"16975484845544651773\"]')\n",
       "            .innerHTML = (\n",
       "                '<div style=\"padding: 1em; background-color: #f8d6da; border: 1px solid #f5c6cb; font-weight: bold;\">' +\n",
       "                '<p><strong>WebIO not detected.</strong></p>' +\n",
       "                '<p>Please read ' +\n",
       "                '<a href=\"https://juliagizmos.github.io/WebIO.jl/latest/troubleshooting/not-detected/\" target=\"_blank\">the troubleshooting guide</a> ' +\n",
       "                'for more information on how to resolve this issue.</p>' +\n",
       "                '<p><a href=\"https://juliagizmos.github.io/WebIO.jl/latest/troubleshooting/not-detected/\" target=\"_blank\">https://juliagizmos.github.io/WebIO.jl/latest/troubleshooting/not-detected/</a></p>' +\n",
       "                '</div>'\n",
       "            );\n",
       "        return;\n",
       "    }\n",
       "    WebIO.mount(\n",
       "        document.querySelector('[data-webio-mountpoint=\"16975484845544651773\"]'),\n",
       "        {\"props\":{\"style\":{\"align-items\":\"center\",\"display\":\"flex\",\"flex-direction\":\"column\"}},\"nodeType\":\"DOM\",\"type\":\"node\",\"instanceArgs\":{\"namespace\":\"html\",\"tag\":\"div\"},\"children\":[{\"props\":{},\"nodeType\":\"DOM\",\"type\":\"node\",\"instanceArgs\":{\"namespace\":\"html\",\"tag\":\"pre\"},\"children\":[\"Gaussian elimination for column 1 with pivot -8.0: add -0.75 * (row 1) to (row 4)\"]},{\"props\":{\"style\":{\"align-items\":\"center\",\"display\":\"flex\",\"flex-direction\":\"row\"}},\"nodeType\":\"DOM\",\"type\":\"node\",\"instanceArgs\":{\"namespace\":\"html\",\"tag\":\"div\"},\"children\":[{\"props\":{\"setInnerHtml\":\"<pre>5×5 Matrix{Float64}:\\n -8.0   4.0  -6.0   -1.0     8.0\\n  0.0  -3.5   5.75  -8.375  -3.0\\n  0.0   6.0   2.0    1.0     0.0\\n -6.0  -2.0   6.0    4.0    -8.0\\n -3.0   5.0   5.0    3.0    -7.0<\\/pre>\"},\"nodeType\":\"DOM\",\"type\":\"node\",\"instanceArgs\":{\"namespace\":\"html\",\"tag\":\"div\"},\"children\":[]},{\"props\":{\"style\":{\"height\":\"0.0px\",\"width\":\"1.0em\"}},\"nodeType\":\"DOM\",\"type\":\"node\",\"instanceArgs\":{\"namespace\":\"html\",\"tag\":\"div\"},\"children\":[]},\"⟶\",{\"props\":{\"style\":{\"height\":\"0.0px\",\"width\":\"1.0em\"}},\"nodeType\":\"DOM\",\"type\":\"node\",\"instanceArgs\":{\"namespace\":\"html\",\"tag\":\"div\"},\"children\":[]},{\"props\":{\"setInnerHtml\":\"<pre>5×5 Matrix{Float64}:\\n -8.0   4.0  -6.0   -1.0      8.0\\n  0.0  -3.5   5.75  -8.375   -3.0\\n  0.0   6.0   2.0    1.0      0.0\\n  0.0  -5.0  10.5    4.75   -14.0\\n -3.0   5.0   5.0    3.0     -7.0<\\/pre>\"},\"nodeType\":\"DOM\",\"type\":\"node\",\"instanceArgs\":{\"namespace\":\"html\",\"tag\":\"div\"},\"children\":[]}]}]},\n",
       "        window,\n",
       "    );\n",
       "    })()\n",
       "    </script>\n",
       "</div>\n"
      ],
      "text/plain": [
       "(div { style=Dict{Any, Any}(\"align-items\" => :center, \"display\" => \"flex\", \"flex-direction\" => \"column\") }\n",
       "  (pre\n",
       "    \"Gaussian elimination for column 1 with pivot -8.0: add -0.75 * (row 1) to (row 4)\")\n",
       "  (div { style=Dict{Any, Any}(\"align-items\" => :center, \"display\" => \"flex\", \"flex-direction\" => \"row\") }\n",
       "    [-8.0 4.0 … -1.0 8.0; 0.0 -3.5 … -8.375 -3.0; … ; -6.0 -2.0 … 4.0 -8.0; -3.0 5.0 … 3.0 -7.0]\n",
       "    (div { style=Dict{String, Measures.Length{U, Float64} where U}(\"height\" => 0.0px, \"width\" => 1.0em) })\n",
       "    \"⟶\"\n",
       "    (div { style=Dict{String, Measures.Length{U, Float64} where U}(\"height\" => 0.0px, \"width\" => 1.0em) })\n",
       "    [-8.0 4.0 … -1.0 8.0; 0.0 -3.5 … -8.375 -3.0; … ; 0.0 -5.0 … 4.75 -14.0; -3.0 5.0 … 3.0 -7.0]))"
      ]
     },
     "metadata": {
      "application/vnd.webio.node+json": {
       "kernelId": "e075c803-bca2-4c5f-9e01-34fec12b6e1f"
      }
     },
     "output_type": "display_data"
    },
    {
     "data": {
      "application/vnd.webio.node+json": {
       "children": [
        {
         "children": [
          "Gaussian elimination for column 1 with pivot -8.0: add -0.375 * (row 1) to (row 5)"
         ],
         "instanceArgs": {
          "namespace": "html",
          "tag": "pre"
         },
         "nodeType": "DOM",
         "props": {},
         "type": "node"
        },
        {
         "children": [
          {
           "children": [],
           "instanceArgs": {
            "namespace": "html",
            "tag": "div"
           },
           "nodeType": "DOM",
           "props": {
            "setInnerHtml": "<pre>5×5 Matrix{Float64}:\n -8.0   4.0  -6.0   -1.0      8.0\n  0.0  -3.5   5.75  -8.375   -3.0\n  0.0   6.0   2.0    1.0      0.0\n  0.0  -5.0  10.5    4.75   -14.0\n -3.0   5.0   5.0    3.0     -7.0</pre>"
           },
           "type": "node"
          },
          {
           "children": [],
           "instanceArgs": {
            "namespace": "html",
            "tag": "div"
           },
           "nodeType": "DOM",
           "props": {
            "style": {
             "height": "0.0px",
             "width": "1.0em"
            }
           },
           "type": "node"
          },
          "⟶",
          {
           "children": [],
           "instanceArgs": {
            "namespace": "html",
            "tag": "div"
           },
           "nodeType": "DOM",
           "props": {
            "style": {
             "height": "0.0px",
             "width": "1.0em"
            }
           },
           "type": "node"
          },
          {
           "children": [],
           "instanceArgs": {
            "namespace": "html",
            "tag": "div"
           },
           "nodeType": "DOM",
           "props": {
            "setInnerHtml": "<pre>5×5 Matrix{Float64}:\n -8.0   4.0  -6.0   -1.0      8.0\n  0.0  -3.5   5.75  -8.375   -3.0\n  0.0   6.0   2.0    1.0      0.0\n  0.0  -5.0  10.5    4.75   -14.0\n  0.0   3.5   7.25   3.375  -10.0</pre>"
           },
           "type": "node"
          }
         ],
         "instanceArgs": {
          "namespace": "html",
          "tag": "div"
         },
         "nodeType": "DOM",
         "props": {
          "style": {
           "align-items": "center",
           "display": "flex",
           "flex-direction": "row"
          }
         },
         "type": "node"
        }
       ],
       "instanceArgs": {
        "namespace": "html",
        "tag": "div"
       },
       "nodeType": "DOM",
       "props": {
        "style": {
         "align-items": "center",
         "display": "flex",
         "flex-direction": "column"
        }
       },
       "type": "node"
      },
      "text/html": [
       "<div\n",
       "    class=\"webio-mountpoint\"\n",
       "    data-webio-mountpoint=\"14863844035445779009\"\n",
       ">\n",
       "    <script>\n",
       "    (function(){\n",
       "    // Some integrations (namely, IJulia/Jupyter) use an alternate render pathway than\n",
       "    // just putting the html on the page. If WebIO isn't defined, then it's pretty likely\n",
       "    // that we're in one of those situations and the integration just isn't installed\n",
       "    // correctly.\n",
       "    if (typeof window.WebIO === \"undefined\") {\n",
       "        document\n",
       "            .querySelector('[data-webio-mountpoint=\"14863844035445779009\"]')\n",
       "            .innerHTML = (\n",
       "                '<div style=\"padding: 1em; background-color: #f8d6da; border: 1px solid #f5c6cb; font-weight: bold;\">' +\n",
       "                '<p><strong>WebIO not detected.</strong></p>' +\n",
       "                '<p>Please read ' +\n",
       "                '<a href=\"https://juliagizmos.github.io/WebIO.jl/latest/troubleshooting/not-detected/\" target=\"_blank\">the troubleshooting guide</a> ' +\n",
       "                'for more information on how to resolve this issue.</p>' +\n",
       "                '<p><a href=\"https://juliagizmos.github.io/WebIO.jl/latest/troubleshooting/not-detected/\" target=\"_blank\">https://juliagizmos.github.io/WebIO.jl/latest/troubleshooting/not-detected/</a></p>' +\n",
       "                '</div>'\n",
       "            );\n",
       "        return;\n",
       "    }\n",
       "    WebIO.mount(\n",
       "        document.querySelector('[data-webio-mountpoint=\"14863844035445779009\"]'),\n",
       "        {\"props\":{\"style\":{\"align-items\":\"center\",\"display\":\"flex\",\"flex-direction\":\"column\"}},\"nodeType\":\"DOM\",\"type\":\"node\",\"instanceArgs\":{\"namespace\":\"html\",\"tag\":\"div\"},\"children\":[{\"props\":{},\"nodeType\":\"DOM\",\"type\":\"node\",\"instanceArgs\":{\"namespace\":\"html\",\"tag\":\"pre\"},\"children\":[\"Gaussian elimination for column 1 with pivot -8.0: add -0.375 * (row 1) to (row 5)\"]},{\"props\":{\"style\":{\"align-items\":\"center\",\"display\":\"flex\",\"flex-direction\":\"row\"}},\"nodeType\":\"DOM\",\"type\":\"node\",\"instanceArgs\":{\"namespace\":\"html\",\"tag\":\"div\"},\"children\":[{\"props\":{\"setInnerHtml\":\"<pre>5×5 Matrix{Float64}:\\n -8.0   4.0  -6.0   -1.0      8.0\\n  0.0  -3.5   5.75  -8.375   -3.0\\n  0.0   6.0   2.0    1.0      0.0\\n  0.0  -5.0  10.5    4.75   -14.0\\n -3.0   5.0   5.0    3.0     -7.0<\\/pre>\"},\"nodeType\":\"DOM\",\"type\":\"node\",\"instanceArgs\":{\"namespace\":\"html\",\"tag\":\"div\"},\"children\":[]},{\"props\":{\"style\":{\"height\":\"0.0px\",\"width\":\"1.0em\"}},\"nodeType\":\"DOM\",\"type\":\"node\",\"instanceArgs\":{\"namespace\":\"html\",\"tag\":\"div\"},\"children\":[]},\"⟶\",{\"props\":{\"style\":{\"height\":\"0.0px\",\"width\":\"1.0em\"}},\"nodeType\":\"DOM\",\"type\":\"node\",\"instanceArgs\":{\"namespace\":\"html\",\"tag\":\"div\"},\"children\":[]},{\"props\":{\"setInnerHtml\":\"<pre>5×5 Matrix{Float64}:\\n -8.0   4.0  -6.0   -1.0      8.0\\n  0.0  -3.5   5.75  -8.375   -3.0\\n  0.0   6.0   2.0    1.0      0.0\\n  0.0  -5.0  10.5    4.75   -14.0\\n  0.0   3.5   7.25   3.375  -10.0<\\/pre>\"},\"nodeType\":\"DOM\",\"type\":\"node\",\"instanceArgs\":{\"namespace\":\"html\",\"tag\":\"div\"},\"children\":[]}]}]},\n",
       "        window,\n",
       "    );\n",
       "    })()\n",
       "    </script>\n",
       "</div>\n"
      ],
      "text/plain": [
       "(div { style=Dict{Any, Any}(\"align-items\" => :center, \"display\" => \"flex\", \"flex-direction\" => \"column\") }\n",
       "  (pre\n",
       "    \"Gaussian elimination for column 1 with pivot -8.0: add -0.375 * (row 1) to (row 5)\")\n",
       "  (div { style=Dict{Any, Any}(\"align-items\" => :center, \"display\" => \"flex\", \"flex-direction\" => \"row\") }\n",
       "    [-8.0 4.0 … -1.0 8.0; 0.0 -3.5 … -8.375 -3.0; … ; 0.0 -5.0 … 4.75 -14.0; -3.0 5.0 … 3.0 -7.0]\n",
       "    (div { style=Dict{String, Measures.Length{U, Float64} where U}(\"height\" => 0.0px, \"width\" => 1.0em) })\n",
       "    \"⟶\"\n",
       "    (div { style=Dict{String, Measures.Length{U, Float64} where U}(\"height\" => 0.0px, \"width\" => 1.0em) })\n",
       "    [-8.0 4.0 … -1.0 8.0; 0.0 -3.5 … -8.375 -3.0; … ; 0.0 -5.0 … 4.75 -14.0; 0.0 3.5 … 3.375 -10.0]))"
      ]
     },
     "metadata": {
      "application/vnd.webio.node+json": {
       "kernelId": "e075c803-bca2-4c5f-9e01-34fec12b6e1f"
      }
     },
     "output_type": "display_data"
    },
    {
     "data": {
      "application/vnd.webio.node+json": {
       "children": [
        {
         "children": [
          "Gaussian elimination for column 2 with pivot -3.5: add 1.714 * (row 2) to (row 3)"
         ],
         "instanceArgs": {
          "namespace": "html",
          "tag": "pre"
         },
         "nodeType": "DOM",
         "props": {},
         "type": "node"
        },
        {
         "children": [
          {
           "children": [],
           "instanceArgs": {
            "namespace": "html",
            "tag": "div"
           },
           "nodeType": "DOM",
           "props": {
            "setInnerHtml": "<pre>5×5 Matrix{Float64}:\n -8.0   4.0  -6.0   -1.0      8.0\n  0.0  -3.5   5.75  -8.375   -3.0\n  0.0   6.0   2.0    1.0      0.0\n  0.0  -5.0  10.5    4.75   -14.0\n  0.0   3.5   7.25   3.375  -10.0</pre>"
           },
           "type": "node"
          },
          {
           "children": [],
           "instanceArgs": {
            "namespace": "html",
            "tag": "div"
           },
           "nodeType": "DOM",
           "props": {
            "style": {
             "height": "0.0px",
             "width": "1.0em"
            }
           },
           "type": "node"
          },
          "⟶",
          {
           "children": [],
           "instanceArgs": {
            "namespace": "html",
            "tag": "div"
           },
           "nodeType": "DOM",
           "props": {
            "style": {
             "height": "0.0px",
             "width": "1.0em"
            }
           },
           "type": "node"
          },
          {
           "children": [],
           "instanceArgs": {
            "namespace": "html",
            "tag": "div"
           },
           "nodeType": "DOM",
           "props": {
            "setInnerHtml": "<pre>5×5 Matrix{Float64}:\n -8.0   4.0  -6.0     -1.0      8.0\n  0.0  -3.5   5.75    -8.375   -3.0\n  0.0   0.0  11.857  -13.357   -5.143\n  0.0  -5.0  10.5      4.75   -14.0\n  0.0   3.5   7.25     3.375  -10.0</pre>"
           },
           "type": "node"
          }
         ],
         "instanceArgs": {
          "namespace": "html",
          "tag": "div"
         },
         "nodeType": "DOM",
         "props": {
          "style": {
           "align-items": "center",
           "display": "flex",
           "flex-direction": "row"
          }
         },
         "type": "node"
        }
       ],
       "instanceArgs": {
        "namespace": "html",
        "tag": "div"
       },
       "nodeType": "DOM",
       "props": {
        "style": {
         "align-items": "center",
         "display": "flex",
         "flex-direction": "column"
        }
       },
       "type": "node"
      },
      "text/html": [
       "<div\n",
       "    class=\"webio-mountpoint\"\n",
       "    data-webio-mountpoint=\"9332697221418383141\"\n",
       ">\n",
       "    <script>\n",
       "    (function(){\n",
       "    // Some integrations (namely, IJulia/Jupyter) use an alternate render pathway than\n",
       "    // just putting the html on the page. If WebIO isn't defined, then it's pretty likely\n",
       "    // that we're in one of those situations and the integration just isn't installed\n",
       "    // correctly.\n",
       "    if (typeof window.WebIO === \"undefined\") {\n",
       "        document\n",
       "            .querySelector('[data-webio-mountpoint=\"9332697221418383141\"]')\n",
       "            .innerHTML = (\n",
       "                '<div style=\"padding: 1em; background-color: #f8d6da; border: 1px solid #f5c6cb; font-weight: bold;\">' +\n",
       "                '<p><strong>WebIO not detected.</strong></p>' +\n",
       "                '<p>Please read ' +\n",
       "                '<a href=\"https://juliagizmos.github.io/WebIO.jl/latest/troubleshooting/not-detected/\" target=\"_blank\">the troubleshooting guide</a> ' +\n",
       "                'for more information on how to resolve this issue.</p>' +\n",
       "                '<p><a href=\"https://juliagizmos.github.io/WebIO.jl/latest/troubleshooting/not-detected/\" target=\"_blank\">https://juliagizmos.github.io/WebIO.jl/latest/troubleshooting/not-detected/</a></p>' +\n",
       "                '</div>'\n",
       "            );\n",
       "        return;\n",
       "    }\n",
       "    WebIO.mount(\n",
       "        document.querySelector('[data-webio-mountpoint=\"9332697221418383141\"]'),\n",
       "        {\"props\":{\"style\":{\"align-items\":\"center\",\"display\":\"flex\",\"flex-direction\":\"column\"}},\"nodeType\":\"DOM\",\"type\":\"node\",\"instanceArgs\":{\"namespace\":\"html\",\"tag\":\"div\"},\"children\":[{\"props\":{},\"nodeType\":\"DOM\",\"type\":\"node\",\"instanceArgs\":{\"namespace\":\"html\",\"tag\":\"pre\"},\"children\":[\"Gaussian elimination for column 2 with pivot -3.5: add 1.714 * (row 2) to (row 3)\"]},{\"props\":{\"style\":{\"align-items\":\"center\",\"display\":\"flex\",\"flex-direction\":\"row\"}},\"nodeType\":\"DOM\",\"type\":\"node\",\"instanceArgs\":{\"namespace\":\"html\",\"tag\":\"div\"},\"children\":[{\"props\":{\"setInnerHtml\":\"<pre>5×5 Matrix{Float64}:\\n -8.0   4.0  -6.0   -1.0      8.0\\n  0.0  -3.5   5.75  -8.375   -3.0\\n  0.0   6.0   2.0    1.0      0.0\\n  0.0  -5.0  10.5    4.75   -14.0\\n  0.0   3.5   7.25   3.375  -10.0<\\/pre>\"},\"nodeType\":\"DOM\",\"type\":\"node\",\"instanceArgs\":{\"namespace\":\"html\",\"tag\":\"div\"},\"children\":[]},{\"props\":{\"style\":{\"height\":\"0.0px\",\"width\":\"1.0em\"}},\"nodeType\":\"DOM\",\"type\":\"node\",\"instanceArgs\":{\"namespace\":\"html\",\"tag\":\"div\"},\"children\":[]},\"⟶\",{\"props\":{\"style\":{\"height\":\"0.0px\",\"width\":\"1.0em\"}},\"nodeType\":\"DOM\",\"type\":\"node\",\"instanceArgs\":{\"namespace\":\"html\",\"tag\":\"div\"},\"children\":[]},{\"props\":{\"setInnerHtml\":\"<pre>5×5 Matrix{Float64}:\\n -8.0   4.0  -6.0     -1.0      8.0\\n  0.0  -3.5   5.75    -8.375   -3.0\\n  0.0   0.0  11.857  -13.357   -5.143\\n  0.0  -5.0  10.5      4.75   -14.0\\n  0.0   3.5   7.25     3.375  -10.0<\\/pre>\"},\"nodeType\":\"DOM\",\"type\":\"node\",\"instanceArgs\":{\"namespace\":\"html\",\"tag\":\"div\"},\"children\":[]}]}]},\n",
       "        window,\n",
       "    );\n",
       "    })()\n",
       "    </script>\n",
       "</div>\n"
      ],
      "text/plain": [
       "(div { style=Dict{Any, Any}(\"align-items\" => :center, \"display\" => \"flex\", \"flex-direction\" => \"column\") }\n",
       "  (pre\n",
       "    \"Gaussian elimination for column 2 with pivot -3.5: add 1.714 * (row 2) to (row 3)\")\n",
       "  (div { style=Dict{Any, Any}(\"align-items\" => :center, \"display\" => \"flex\", \"flex-direction\" => \"row\") }\n",
       "    [-8.0 4.0 … -1.0 8.0; 0.0 -3.5 … -8.375 -3.0; … ; 0.0 -5.0 … 4.75 -14.0; 0.0 3.5 … 3.375 -10.0]\n",
       "    (div { style=Dict{String, Measures.Length{U, Float64} where U}(\"height\" => 0.0px, \"width\" => 1.0em) })\n",
       "    \"⟶\"\n",
       "    (div { style=Dict{String, Measures.Length{U, Float64} where U}(\"height\" => 0.0px, \"width\" => 1.0em) })\n",
       "    [-8.0 4.0 … -1.0 8.0; 0.0 -3.5 … -8.375 -3.0; … ; 0.0 -5.0 … 4.75 -14.0; 0.0 3.5 … 3.375 -10.0]))"
      ]
     },
     "metadata": {
      "application/vnd.webio.node+json": {
       "kernelId": "e075c803-bca2-4c5f-9e01-34fec12b6e1f"
      }
     },
     "output_type": "display_data"
    },
    {
     "data": {
      "application/vnd.webio.node+json": {
       "children": [
        {
         "children": [
          "Gaussian elimination for column 2 with pivot -3.5: add -1.429 * (row 2) to (row 4)"
         ],
         "instanceArgs": {
          "namespace": "html",
          "tag": "pre"
         },
         "nodeType": "DOM",
         "props": {},
         "type": "node"
        },
        {
         "children": [
          {
           "children": [],
           "instanceArgs": {
            "namespace": "html",
            "tag": "div"
           },
           "nodeType": "DOM",
           "props": {
            "setInnerHtml": "<pre>5×5 Matrix{Float64}:\n -8.0   4.0  -6.0     -1.0      8.0\n  0.0  -3.5   5.75    -8.375   -3.0\n  0.0   0.0  11.857  -13.357   -5.143\n  0.0  -5.0  10.5      4.75   -14.0\n  0.0   3.5   7.25     3.375  -10.0</pre>"
           },
           "type": "node"
          },
          {
           "children": [],
           "instanceArgs": {
            "namespace": "html",
            "tag": "div"
           },
           "nodeType": "DOM",
           "props": {
            "style": {
             "height": "0.0px",
             "width": "1.0em"
            }
           },
           "type": "node"
          },
          "⟶",
          {
           "children": [],
           "instanceArgs": {
            "namespace": "html",
            "tag": "div"
           },
           "nodeType": "DOM",
           "props": {
            "style": {
             "height": "0.0px",
             "width": "1.0em"
            }
           },
           "type": "node"
          },
          {
           "children": [],
           "instanceArgs": {
            "namespace": "html",
            "tag": "div"
           },
           "nodeType": "DOM",
           "props": {
            "setInnerHtml": "<pre>5×5 Matrix{Float64}:\n -8.0   4.0  -6.0     -1.0      8.0\n  0.0  -3.5   5.75    -8.375   -3.0\n  0.0   0.0  11.857  -13.357   -5.143\n  0.0   0.0   2.286   16.714   -9.714\n  0.0   3.5   7.25     3.375  -10.0</pre>"
           },
           "type": "node"
          }
         ],
         "instanceArgs": {
          "namespace": "html",
          "tag": "div"
         },
         "nodeType": "DOM",
         "props": {
          "style": {
           "align-items": "center",
           "display": "flex",
           "flex-direction": "row"
          }
         },
         "type": "node"
        }
       ],
       "instanceArgs": {
        "namespace": "html",
        "tag": "div"
       },
       "nodeType": "DOM",
       "props": {
        "style": {
         "align-items": "center",
         "display": "flex",
         "flex-direction": "column"
        }
       },
       "type": "node"
      },
      "text/html": [
       "<div\n",
       "    class=\"webio-mountpoint\"\n",
       "    data-webio-mountpoint=\"3604123343591667864\"\n",
       ">\n",
       "    <script>\n",
       "    (function(){\n",
       "    // Some integrations (namely, IJulia/Jupyter) use an alternate render pathway than\n",
       "    // just putting the html on the page. If WebIO isn't defined, then it's pretty likely\n",
       "    // that we're in one of those situations and the integration just isn't installed\n",
       "    // correctly.\n",
       "    if (typeof window.WebIO === \"undefined\") {\n",
       "        document\n",
       "            .querySelector('[data-webio-mountpoint=\"3604123343591667864\"]')\n",
       "            .innerHTML = (\n",
       "                '<div style=\"padding: 1em; background-color: #f8d6da; border: 1px solid #f5c6cb; font-weight: bold;\">' +\n",
       "                '<p><strong>WebIO not detected.</strong></p>' +\n",
       "                '<p>Please read ' +\n",
       "                '<a href=\"https://juliagizmos.github.io/WebIO.jl/latest/troubleshooting/not-detected/\" target=\"_blank\">the troubleshooting guide</a> ' +\n",
       "                'for more information on how to resolve this issue.</p>' +\n",
       "                '<p><a href=\"https://juliagizmos.github.io/WebIO.jl/latest/troubleshooting/not-detected/\" target=\"_blank\">https://juliagizmos.github.io/WebIO.jl/latest/troubleshooting/not-detected/</a></p>' +\n",
       "                '</div>'\n",
       "            );\n",
       "        return;\n",
       "    }\n",
       "    WebIO.mount(\n",
       "        document.querySelector('[data-webio-mountpoint=\"3604123343591667864\"]'),\n",
       "        {\"props\":{\"style\":{\"align-items\":\"center\",\"display\":\"flex\",\"flex-direction\":\"column\"}},\"nodeType\":\"DOM\",\"type\":\"node\",\"instanceArgs\":{\"namespace\":\"html\",\"tag\":\"div\"},\"children\":[{\"props\":{},\"nodeType\":\"DOM\",\"type\":\"node\",\"instanceArgs\":{\"namespace\":\"html\",\"tag\":\"pre\"},\"children\":[\"Gaussian elimination for column 2 with pivot -3.5: add -1.429 * (row 2) to (row 4)\"]},{\"props\":{\"style\":{\"align-items\":\"center\",\"display\":\"flex\",\"flex-direction\":\"row\"}},\"nodeType\":\"DOM\",\"type\":\"node\",\"instanceArgs\":{\"namespace\":\"html\",\"tag\":\"div\"},\"children\":[{\"props\":{\"setInnerHtml\":\"<pre>5×5 Matrix{Float64}:\\n -8.0   4.0  -6.0     -1.0      8.0\\n  0.0  -3.5   5.75    -8.375   -3.0\\n  0.0   0.0  11.857  -13.357   -5.143\\n  0.0  -5.0  10.5      4.75   -14.0\\n  0.0   3.5   7.25     3.375  -10.0<\\/pre>\"},\"nodeType\":\"DOM\",\"type\":\"node\",\"instanceArgs\":{\"namespace\":\"html\",\"tag\":\"div\"},\"children\":[]},{\"props\":{\"style\":{\"height\":\"0.0px\",\"width\":\"1.0em\"}},\"nodeType\":\"DOM\",\"type\":\"node\",\"instanceArgs\":{\"namespace\":\"html\",\"tag\":\"div\"},\"children\":[]},\"⟶\",{\"props\":{\"style\":{\"height\":\"0.0px\",\"width\":\"1.0em\"}},\"nodeType\":\"DOM\",\"type\":\"node\",\"instanceArgs\":{\"namespace\":\"html\",\"tag\":\"div\"},\"children\":[]},{\"props\":{\"setInnerHtml\":\"<pre>5×5 Matrix{Float64}:\\n -8.0   4.0  -6.0     -1.0      8.0\\n  0.0  -3.5   5.75    -8.375   -3.0\\n  0.0   0.0  11.857  -13.357   -5.143\\n  0.0   0.0   2.286   16.714   -9.714\\n  0.0   3.5   7.25     3.375  -10.0<\\/pre>\"},\"nodeType\":\"DOM\",\"type\":\"node\",\"instanceArgs\":{\"namespace\":\"html\",\"tag\":\"div\"},\"children\":[]}]}]},\n",
       "        window,\n",
       "    );\n",
       "    })()\n",
       "    </script>\n",
       "</div>\n"
      ],
      "text/plain": [
       "(div { style=Dict{Any, Any}(\"align-items\" => :center, \"display\" => \"flex\", \"flex-direction\" => \"column\") }\n",
       "  (pre\n",
       "    \"Gaussian elimination for column 2 with pivot -3.5: add -1.429 * (row 2) to (row 4)\")\n",
       "  (div { style=Dict{Any, Any}(\"align-items\" => :center, \"display\" => \"flex\", \"flex-direction\" => \"row\") }\n",
       "    [-8.0 4.0 … -1.0 8.0; 0.0 -3.5 … -8.375 -3.0; … ; 0.0 -5.0 … 4.75 -14.0; 0.0 3.5 … 3.375 -10.0]\n",
       "    (div { style=Dict{String, Measures.Length{U, Float64} where U}(\"height\" => 0.0px, \"width\" => 1.0em) })\n",
       "    \"⟶\"\n",
       "    (div { style=Dict{String, Measures.Length{U, Float64} where U}(\"height\" => 0.0px, \"width\" => 1.0em) })\n",
       "    [-8.0 4.0 … -1.0 8.0; 0.0 -3.5 … -8.375 -3.0; … ; 0.0 0.0 … 16.714 -9.714; 0.0 3.5 … 3.375 -10.0]))"
      ]
     },
     "metadata": {
      "application/vnd.webio.node+json": {
       "kernelId": "e075c803-bca2-4c5f-9e01-34fec12b6e1f"
      }
     },
     "output_type": "display_data"
    },
    {
     "data": {
      "application/vnd.webio.node+json": {
       "children": [
        {
         "children": [
          "Gaussian elimination for column 2 with pivot -3.5: add 1.0 * (row 2) to (row 5)"
         ],
         "instanceArgs": {
          "namespace": "html",
          "tag": "pre"
         },
         "nodeType": "DOM",
         "props": {},
         "type": "node"
        },
        {
         "children": [
          {
           "children": [],
           "instanceArgs": {
            "namespace": "html",
            "tag": "div"
           },
           "nodeType": "DOM",
           "props": {
            "setInnerHtml": "<pre>5×5 Matrix{Float64}:\n -8.0   4.0  -6.0     -1.0      8.0\n  0.0  -3.5   5.75    -8.375   -3.0\n  0.0   0.0  11.857  -13.357   -5.143\n  0.0   0.0   2.286   16.714   -9.714\n  0.0   3.5   7.25     3.375  -10.0</pre>"
           },
           "type": "node"
          },
          {
           "children": [],
           "instanceArgs": {
            "namespace": "html",
            "tag": "div"
           },
           "nodeType": "DOM",
           "props": {
            "style": {
             "height": "0.0px",
             "width": "1.0em"
            }
           },
           "type": "node"
          },
          "⟶",
          {
           "children": [],
           "instanceArgs": {
            "namespace": "html",
            "tag": "div"
           },
           "nodeType": "DOM",
           "props": {
            "style": {
             "height": "0.0px",
             "width": "1.0em"
            }
           },
           "type": "node"
          },
          {
           "children": [],
           "instanceArgs": {
            "namespace": "html",
            "tag": "div"
           },
           "nodeType": "DOM",
           "props": {
            "setInnerHtml": "<pre>5×5 Matrix{Float64}:\n -8.0   4.0  -6.0     -1.0      8.0\n  0.0  -3.5   5.75    -8.375   -3.0\n  0.0   0.0  11.857  -13.357   -5.143\n  0.0   0.0   2.286   16.714   -9.714\n  0.0   0.0  13.0     -5.0    -13.0</pre>"
           },
           "type": "node"
          }
         ],
         "instanceArgs": {
          "namespace": "html",
          "tag": "div"
         },
         "nodeType": "DOM",
         "props": {
          "style": {
           "align-items": "center",
           "display": "flex",
           "flex-direction": "row"
          }
         },
         "type": "node"
        }
       ],
       "instanceArgs": {
        "namespace": "html",
        "tag": "div"
       },
       "nodeType": "DOM",
       "props": {
        "style": {
         "align-items": "center",
         "display": "flex",
         "flex-direction": "column"
        }
       },
       "type": "node"
      },
      "text/html": [
       "<div\n",
       "    class=\"webio-mountpoint\"\n",
       "    data-webio-mountpoint=\"8765978139578522709\"\n",
       ">\n",
       "    <script>\n",
       "    (function(){\n",
       "    // Some integrations (namely, IJulia/Jupyter) use an alternate render pathway than\n",
       "    // just putting the html on the page. If WebIO isn't defined, then it's pretty likely\n",
       "    // that we're in one of those situations and the integration just isn't installed\n",
       "    // correctly.\n",
       "    if (typeof window.WebIO === \"undefined\") {\n",
       "        document\n",
       "            .querySelector('[data-webio-mountpoint=\"8765978139578522709\"]')\n",
       "            .innerHTML = (\n",
       "                '<div style=\"padding: 1em; background-color: #f8d6da; border: 1px solid #f5c6cb; font-weight: bold;\">' +\n",
       "                '<p><strong>WebIO not detected.</strong></p>' +\n",
       "                '<p>Please read ' +\n",
       "                '<a href=\"https://juliagizmos.github.io/WebIO.jl/latest/troubleshooting/not-detected/\" target=\"_blank\">the troubleshooting guide</a> ' +\n",
       "                'for more information on how to resolve this issue.</p>' +\n",
       "                '<p><a href=\"https://juliagizmos.github.io/WebIO.jl/latest/troubleshooting/not-detected/\" target=\"_blank\">https://juliagizmos.github.io/WebIO.jl/latest/troubleshooting/not-detected/</a></p>' +\n",
       "                '</div>'\n",
       "            );\n",
       "        return;\n",
       "    }\n",
       "    WebIO.mount(\n",
       "        document.querySelector('[data-webio-mountpoint=\"8765978139578522709\"]'),\n",
       "        {\"props\":{\"style\":{\"align-items\":\"center\",\"display\":\"flex\",\"flex-direction\":\"column\"}},\"nodeType\":\"DOM\",\"type\":\"node\",\"instanceArgs\":{\"namespace\":\"html\",\"tag\":\"div\"},\"children\":[{\"props\":{},\"nodeType\":\"DOM\",\"type\":\"node\",\"instanceArgs\":{\"namespace\":\"html\",\"tag\":\"pre\"},\"children\":[\"Gaussian elimination for column 2 with pivot -3.5: add 1.0 * (row 2) to (row 5)\"]},{\"props\":{\"style\":{\"align-items\":\"center\",\"display\":\"flex\",\"flex-direction\":\"row\"}},\"nodeType\":\"DOM\",\"type\":\"node\",\"instanceArgs\":{\"namespace\":\"html\",\"tag\":\"div\"},\"children\":[{\"props\":{\"setInnerHtml\":\"<pre>5×5 Matrix{Float64}:\\n -8.0   4.0  -6.0     -1.0      8.0\\n  0.0  -3.5   5.75    -8.375   -3.0\\n  0.0   0.0  11.857  -13.357   -5.143\\n  0.0   0.0   2.286   16.714   -9.714\\n  0.0   3.5   7.25     3.375  -10.0<\\/pre>\"},\"nodeType\":\"DOM\",\"type\":\"node\",\"instanceArgs\":{\"namespace\":\"html\",\"tag\":\"div\"},\"children\":[]},{\"props\":{\"style\":{\"height\":\"0.0px\",\"width\":\"1.0em\"}},\"nodeType\":\"DOM\",\"type\":\"node\",\"instanceArgs\":{\"namespace\":\"html\",\"tag\":\"div\"},\"children\":[]},\"⟶\",{\"props\":{\"style\":{\"height\":\"0.0px\",\"width\":\"1.0em\"}},\"nodeType\":\"DOM\",\"type\":\"node\",\"instanceArgs\":{\"namespace\":\"html\",\"tag\":\"div\"},\"children\":[]},{\"props\":{\"setInnerHtml\":\"<pre>5×5 Matrix{Float64}:\\n -8.0   4.0  -6.0     -1.0      8.0\\n  0.0  -3.5   5.75    -8.375   -3.0\\n  0.0   0.0  11.857  -13.357   -5.143\\n  0.0   0.0   2.286   16.714   -9.714\\n  0.0   0.0  13.0     -5.0    -13.0<\\/pre>\"},\"nodeType\":\"DOM\",\"type\":\"node\",\"instanceArgs\":{\"namespace\":\"html\",\"tag\":\"div\"},\"children\":[]}]}]},\n",
       "        window,\n",
       "    );\n",
       "    })()\n",
       "    </script>\n",
       "</div>\n"
      ],
      "text/plain": [
       "(div { style=Dict{Any, Any}(\"align-items\" => :center, \"display\" => \"flex\", \"flex-direction\" => \"column\") }\n",
       "  (pre\n",
       "    \"Gaussian elimination for column 2 with pivot -3.5: add 1.0 * (row 2) to (row 5)\")\n",
       "  (div { style=Dict{Any, Any}(\"align-items\" => :center, \"display\" => \"flex\", \"flex-direction\" => \"row\") }\n",
       "    [-8.0 4.0 … -1.0 8.0; 0.0 -3.5 … -8.375 -3.0; … ; 0.0 0.0 … 16.714 -9.714; 0.0 3.5 … 3.375 -10.0]\n",
       "    (div { style=Dict{String, Measures.Length{U, Float64} where U}(\"height\" => 0.0px, \"width\" => 1.0em) })\n",
       "    \"⟶\"\n",
       "    (div { style=Dict{String, Measures.Length{U, Float64} where U}(\"height\" => 0.0px, \"width\" => 1.0em) })\n",
       "    [-8.0 4.0 … -1.0 8.0; 0.0 -3.5 … -8.375 -3.0; … ; 0.0 0.0 … 16.714 -9.714; 0.0 0.0 … -5.0 -13.0]))"
      ]
     },
     "metadata": {
      "application/vnd.webio.node+json": {
       "kernelId": "e075c803-bca2-4c5f-9e01-34fec12b6e1f"
      }
     },
     "output_type": "display_data"
    },
    {
     "data": {
      "application/vnd.webio.node+json": {
       "children": [
        {
         "children": [
          "Gaussian elimination for column 3 with pivot 11.857142857142856: add -0.193 * (row 3) to (row 4)"
         ],
         "instanceArgs": {
          "namespace": "html",
          "tag": "pre"
         },
         "nodeType": "DOM",
         "props": {},
         "type": "node"
        },
        {
         "children": [
          {
           "children": [],
           "instanceArgs": {
            "namespace": "html",
            "tag": "div"
           },
           "nodeType": "DOM",
           "props": {
            "setInnerHtml": "<pre>5×5 Matrix{Float64}:\n -8.0   4.0  -6.0     -1.0      8.0\n  0.0  -3.5   5.75    -8.375   -3.0\n  0.0   0.0  11.857  -13.357   -5.143\n  0.0   0.0   2.286   16.714   -9.714\n  0.0   0.0  13.0     -5.0    -13.0</pre>"
           },
           "type": "node"
          },
          {
           "children": [],
           "instanceArgs": {
            "namespace": "html",
            "tag": "div"
           },
           "nodeType": "DOM",
           "props": {
            "style": {
             "height": "0.0px",
             "width": "1.0em"
            }
           },
           "type": "node"
          },
          "⟶",
          {
           "children": [],
           "instanceArgs": {
            "namespace": "html",
            "tag": "div"
           },
           "nodeType": "DOM",
           "props": {
            "style": {
             "height": "0.0px",
             "width": "1.0em"
            }
           },
           "type": "node"
          },
          {
           "children": [],
           "instanceArgs": {
            "namespace": "html",
            "tag": "div"
           },
           "nodeType": "DOM",
           "props": {
            "setInnerHtml": "<pre>5×5 Matrix{Float64}:\n -8.0   4.0  -6.0     -1.0      8.0\n  0.0  -3.5   5.75    -8.375   -3.0\n  0.0   0.0  11.857  -13.357   -5.143\n  0.0   0.0   0.0     19.289   -8.723\n  0.0   0.0  13.0     -5.0    -13.0</pre>"
           },
           "type": "node"
          }
         ],
         "instanceArgs": {
          "namespace": "html",
          "tag": "div"
         },
         "nodeType": "DOM",
         "props": {
          "style": {
           "align-items": "center",
           "display": "flex",
           "flex-direction": "row"
          }
         },
         "type": "node"
        }
       ],
       "instanceArgs": {
        "namespace": "html",
        "tag": "div"
       },
       "nodeType": "DOM",
       "props": {
        "style": {
         "align-items": "center",
         "display": "flex",
         "flex-direction": "column"
        }
       },
       "type": "node"
      },
      "text/html": [
       "<div\n",
       "    class=\"webio-mountpoint\"\n",
       "    data-webio-mountpoint=\"3371937399589192715\"\n",
       ">\n",
       "    <script>\n",
       "    (function(){\n",
       "    // Some integrations (namely, IJulia/Jupyter) use an alternate render pathway than\n",
       "    // just putting the html on the page. If WebIO isn't defined, then it's pretty likely\n",
       "    // that we're in one of those situations and the integration just isn't installed\n",
       "    // correctly.\n",
       "    if (typeof window.WebIO === \"undefined\") {\n",
       "        document\n",
       "            .querySelector('[data-webio-mountpoint=\"3371937399589192715\"]')\n",
       "            .innerHTML = (\n",
       "                '<div style=\"padding: 1em; background-color: #f8d6da; border: 1px solid #f5c6cb; font-weight: bold;\">' +\n",
       "                '<p><strong>WebIO not detected.</strong></p>' +\n",
       "                '<p>Please read ' +\n",
       "                '<a href=\"https://juliagizmos.github.io/WebIO.jl/latest/troubleshooting/not-detected/\" target=\"_blank\">the troubleshooting guide</a> ' +\n",
       "                'for more information on how to resolve this issue.</p>' +\n",
       "                '<p><a href=\"https://juliagizmos.github.io/WebIO.jl/latest/troubleshooting/not-detected/\" target=\"_blank\">https://juliagizmos.github.io/WebIO.jl/latest/troubleshooting/not-detected/</a></p>' +\n",
       "                '</div>'\n",
       "            );\n",
       "        return;\n",
       "    }\n",
       "    WebIO.mount(\n",
       "        document.querySelector('[data-webio-mountpoint=\"3371937399589192715\"]'),\n",
       "        {\"props\":{\"style\":{\"align-items\":\"center\",\"display\":\"flex\",\"flex-direction\":\"column\"}},\"nodeType\":\"DOM\",\"type\":\"node\",\"instanceArgs\":{\"namespace\":\"html\",\"tag\":\"div\"},\"children\":[{\"props\":{},\"nodeType\":\"DOM\",\"type\":\"node\",\"instanceArgs\":{\"namespace\":\"html\",\"tag\":\"pre\"},\"children\":[\"Gaussian elimination for column 3 with pivot 11.857142857142856: add -0.193 * (row 3) to (row 4)\"]},{\"props\":{\"style\":{\"align-items\":\"center\",\"display\":\"flex\",\"flex-direction\":\"row\"}},\"nodeType\":\"DOM\",\"type\":\"node\",\"instanceArgs\":{\"namespace\":\"html\",\"tag\":\"div\"},\"children\":[{\"props\":{\"setInnerHtml\":\"<pre>5×5 Matrix{Float64}:\\n -8.0   4.0  -6.0     -1.0      8.0\\n  0.0  -3.5   5.75    -8.375   -3.0\\n  0.0   0.0  11.857  -13.357   -5.143\\n  0.0   0.0   2.286   16.714   -9.714\\n  0.0   0.0  13.0     -5.0    -13.0<\\/pre>\"},\"nodeType\":\"DOM\",\"type\":\"node\",\"instanceArgs\":{\"namespace\":\"html\",\"tag\":\"div\"},\"children\":[]},{\"props\":{\"style\":{\"height\":\"0.0px\",\"width\":\"1.0em\"}},\"nodeType\":\"DOM\",\"type\":\"node\",\"instanceArgs\":{\"namespace\":\"html\",\"tag\":\"div\"},\"children\":[]},\"⟶\",{\"props\":{\"style\":{\"height\":\"0.0px\",\"width\":\"1.0em\"}},\"nodeType\":\"DOM\",\"type\":\"node\",\"instanceArgs\":{\"namespace\":\"html\",\"tag\":\"div\"},\"children\":[]},{\"props\":{\"setInnerHtml\":\"<pre>5×5 Matrix{Float64}:\\n -8.0   4.0  -6.0     -1.0      8.0\\n  0.0  -3.5   5.75    -8.375   -3.0\\n  0.0   0.0  11.857  -13.357   -5.143\\n  0.0   0.0   0.0     19.289   -8.723\\n  0.0   0.0  13.0     -5.0    -13.0<\\/pre>\"},\"nodeType\":\"DOM\",\"type\":\"node\",\"instanceArgs\":{\"namespace\":\"html\",\"tag\":\"div\"},\"children\":[]}]}]},\n",
       "        window,\n",
       "    );\n",
       "    })()\n",
       "    </script>\n",
       "</div>\n"
      ],
      "text/plain": [
       "(div { style=Dict{Any, Any}(\"align-items\" => :center, \"display\" => \"flex\", \"flex-direction\" => \"column\") }\n",
       "  (pre\n",
       "    \"Gaussian elimination for column 3 with pivot 11.857142857142856: add -0.193 * (row 3) to (row 4)\")\n",
       "  (div { style=Dict{Any, Any}(\"align-items\" => :center, \"display\" => \"flex\", \"flex-direction\" => \"row\") }\n",
       "    [-8.0 4.0 … -1.0 8.0; 0.0 -3.5 … -8.375 -3.0; … ; 0.0 0.0 … 16.714 -9.714; 0.0 0.0 … -5.0 -13.0]\n",
       "    (div { style=Dict{String, Measures.Length{U, Float64} where U}(\"height\" => 0.0px, \"width\" => 1.0em) })\n",
       "    \"⟶\"\n",
       "    (div { style=Dict{String, Measures.Length{U, Float64} where U}(\"height\" => 0.0px, \"width\" => 1.0em) })\n",
       "    [-8.0 4.0 … -1.0 8.0; 0.0 -3.5 … -8.375 -3.0; … ; 0.0 0.0 … 19.289 -8.723; 0.0 0.0 … -5.0 -13.0]))"
      ]
     },
     "metadata": {
      "application/vnd.webio.node+json": {
       "kernelId": "e075c803-bca2-4c5f-9e01-34fec12b6e1f"
      }
     },
     "output_type": "display_data"
    },
    {
     "data": {
      "application/vnd.webio.node+json": {
       "children": [
        {
         "children": [
          "Gaussian elimination for column 3 with pivot 11.857142857142856: add -1.096 * (row 3) to (row 5)"
         ],
         "instanceArgs": {
          "namespace": "html",
          "tag": "pre"
         },
         "nodeType": "DOM",
         "props": {},
         "type": "node"
        },
        {
         "children": [
          {
           "children": [],
           "instanceArgs": {
            "namespace": "html",
            "tag": "div"
           },
           "nodeType": "DOM",
           "props": {
            "setInnerHtml": "<pre>5×5 Matrix{Float64}:\n -8.0   4.0  -6.0     -1.0      8.0\n  0.0  -3.5   5.75    -8.375   -3.0\n  0.0   0.0  11.857  -13.357   -5.143\n  0.0   0.0   0.0     19.289   -8.723\n  0.0   0.0  13.0     -5.0    -13.0</pre>"
           },
           "type": "node"
          },
          {
           "children": [],
           "instanceArgs": {
            "namespace": "html",
            "tag": "div"
           },
           "nodeType": "DOM",
           "props": {
            "style": {
             "height": "0.0px",
             "width": "1.0em"
            }
           },
           "type": "node"
          },
          "⟶",
          {
           "children": [],
           "instanceArgs": {
            "namespace": "html",
            "tag": "div"
           },
           "nodeType": "DOM",
           "props": {
            "style": {
             "height": "0.0px",
             "width": "1.0em"
            }
           },
           "type": "node"
          },
          {
           "children": [],
           "instanceArgs": {
            "namespace": "html",
            "tag": "div"
           },
           "nodeType": "DOM",
           "props": {
            "setInnerHtml": "<pre>5×5 Matrix{Float64}:\n -8.0   4.0  -6.0     -1.0     8.0\n  0.0  -3.5   5.75    -8.375  -3.0\n  0.0   0.0  11.857  -13.357  -5.143\n  0.0   0.0   0.0     19.289  -8.723\n  0.0   0.0   0.0      9.645  -7.361</pre>"
           },
           "type": "node"
          }
         ],
         "instanceArgs": {
          "namespace": "html",
          "tag": "div"
         },
         "nodeType": "DOM",
         "props": {
          "style": {
           "align-items": "center",
           "display": "flex",
           "flex-direction": "row"
          }
         },
         "type": "node"
        }
       ],
       "instanceArgs": {
        "namespace": "html",
        "tag": "div"
       },
       "nodeType": "DOM",
       "props": {
        "style": {
         "align-items": "center",
         "display": "flex",
         "flex-direction": "column"
        }
       },
       "type": "node"
      },
      "text/html": [
       "<div\n",
       "    class=\"webio-mountpoint\"\n",
       "    data-webio-mountpoint=\"162238371745163819\"\n",
       ">\n",
       "    <script>\n",
       "    (function(){\n",
       "    // Some integrations (namely, IJulia/Jupyter) use an alternate render pathway than\n",
       "    // just putting the html on the page. If WebIO isn't defined, then it's pretty likely\n",
       "    // that we're in one of those situations and the integration just isn't installed\n",
       "    // correctly.\n",
       "    if (typeof window.WebIO === \"undefined\") {\n",
       "        document\n",
       "            .querySelector('[data-webio-mountpoint=\"162238371745163819\"]')\n",
       "            .innerHTML = (\n",
       "                '<div style=\"padding: 1em; background-color: #f8d6da; border: 1px solid #f5c6cb; font-weight: bold;\">' +\n",
       "                '<p><strong>WebIO not detected.</strong></p>' +\n",
       "                '<p>Please read ' +\n",
       "                '<a href=\"https://juliagizmos.github.io/WebIO.jl/latest/troubleshooting/not-detected/\" target=\"_blank\">the troubleshooting guide</a> ' +\n",
       "                'for more information on how to resolve this issue.</p>' +\n",
       "                '<p><a href=\"https://juliagizmos.github.io/WebIO.jl/latest/troubleshooting/not-detected/\" target=\"_blank\">https://juliagizmos.github.io/WebIO.jl/latest/troubleshooting/not-detected/</a></p>' +\n",
       "                '</div>'\n",
       "            );\n",
       "        return;\n",
       "    }\n",
       "    WebIO.mount(\n",
       "        document.querySelector('[data-webio-mountpoint=\"162238371745163819\"]'),\n",
       "        {\"props\":{\"style\":{\"align-items\":\"center\",\"display\":\"flex\",\"flex-direction\":\"column\"}},\"nodeType\":\"DOM\",\"type\":\"node\",\"instanceArgs\":{\"namespace\":\"html\",\"tag\":\"div\"},\"children\":[{\"props\":{},\"nodeType\":\"DOM\",\"type\":\"node\",\"instanceArgs\":{\"namespace\":\"html\",\"tag\":\"pre\"},\"children\":[\"Gaussian elimination for column 3 with pivot 11.857142857142856: add -1.096 * (row 3) to (row 5)\"]},{\"props\":{\"style\":{\"align-items\":\"center\",\"display\":\"flex\",\"flex-direction\":\"row\"}},\"nodeType\":\"DOM\",\"type\":\"node\",\"instanceArgs\":{\"namespace\":\"html\",\"tag\":\"div\"},\"children\":[{\"props\":{\"setInnerHtml\":\"<pre>5×5 Matrix{Float64}:\\n -8.0   4.0  -6.0     -1.0      8.0\\n  0.0  -3.5   5.75    -8.375   -3.0\\n  0.0   0.0  11.857  -13.357   -5.143\\n  0.0   0.0   0.0     19.289   -8.723\\n  0.0   0.0  13.0     -5.0    -13.0<\\/pre>\"},\"nodeType\":\"DOM\",\"type\":\"node\",\"instanceArgs\":{\"namespace\":\"html\",\"tag\":\"div\"},\"children\":[]},{\"props\":{\"style\":{\"height\":\"0.0px\",\"width\":\"1.0em\"}},\"nodeType\":\"DOM\",\"type\":\"node\",\"instanceArgs\":{\"namespace\":\"html\",\"tag\":\"div\"},\"children\":[]},\"⟶\",{\"props\":{\"style\":{\"height\":\"0.0px\",\"width\":\"1.0em\"}},\"nodeType\":\"DOM\",\"type\":\"node\",\"instanceArgs\":{\"namespace\":\"html\",\"tag\":\"div\"},\"children\":[]},{\"props\":{\"setInnerHtml\":\"<pre>5×5 Matrix{Float64}:\\n -8.0   4.0  -6.0     -1.0     8.0\\n  0.0  -3.5   5.75    -8.375  -3.0\\n  0.0   0.0  11.857  -13.357  -5.143\\n  0.0   0.0   0.0     19.289  -8.723\\n  0.0   0.0   0.0      9.645  -7.361<\\/pre>\"},\"nodeType\":\"DOM\",\"type\":\"node\",\"instanceArgs\":{\"namespace\":\"html\",\"tag\":\"div\"},\"children\":[]}]}]},\n",
       "        window,\n",
       "    );\n",
       "    })()\n",
       "    </script>\n",
       "</div>\n"
      ],
      "text/plain": [
       "(div { style=Dict{Any, Any}(\"align-items\" => :center, \"display\" => \"flex\", \"flex-direction\" => \"column\") }\n",
       "  (pre\n",
       "    \"Gaussian elimination for column 3 with pivot 11.857142857142856: add -1.096 * (row 3) to (row 5)\")\n",
       "  (div { style=Dict{Any, Any}(\"align-items\" => :center, \"display\" => \"flex\", \"flex-direction\" => \"row\") }\n",
       "    [-8.0 4.0 … -1.0 8.0; 0.0 -3.5 … -8.375 -3.0; … ; 0.0 0.0 … 19.289 -8.723; 0.0 0.0 … -5.0 -13.0]\n",
       "    (div { style=Dict{String, Measures.Length{U, Float64} where U}(\"height\" => 0.0px, \"width\" => 1.0em) })\n",
       "    \"⟶\"\n",
       "    (div { style=Dict{String, Measures.Length{U, Float64} where U}(\"height\" => 0.0px, \"width\" => 1.0em) })\n",
       "    [-8.0 4.0 … -1.0 8.0; 0.0 -3.5 … -8.375 -3.0; … ; 0.0 0.0 … 19.289 -8.723; 0.0 0.0 … 9.645 -7.361]))"
      ]
     },
     "metadata": {
      "application/vnd.webio.node+json": {
       "kernelId": "e075c803-bca2-4c5f-9e01-34fec12b6e1f"
      }
     },
     "output_type": "display_data"
    },
    {
     "data": {
      "application/vnd.webio.node+json": {
       "children": [
        {
         "children": [
          "Gaussian elimination for column 4 with pivot 19.289156626506024: add -0.5 * (row 4) to (row 5)"
         ],
         "instanceArgs": {
          "namespace": "html",
          "tag": "pre"
         },
         "nodeType": "DOM",
         "props": {},
         "type": "node"
        },
        {
         "children": [
          {
           "children": [],
           "instanceArgs": {
            "namespace": "html",
            "tag": "div"
           },
           "nodeType": "DOM",
           "props": {
            "setInnerHtml": "<pre>5×5 Matrix{Float64}:\n -8.0   4.0  -6.0     -1.0     8.0\n  0.0  -3.5   5.75    -8.375  -3.0\n  0.0   0.0  11.857  -13.357  -5.143\n  0.0   0.0   0.0     19.289  -8.723\n  0.0   0.0   0.0      9.645  -7.361</pre>"
           },
           "type": "node"
          },
          {
           "children": [],
           "instanceArgs": {
            "namespace": "html",
            "tag": "div"
           },
           "nodeType": "DOM",
           "props": {
            "style": {
             "height": "0.0px",
             "width": "1.0em"
            }
           },
           "type": "node"
          },
          "⟶",
          {
           "children": [],
           "instanceArgs": {
            "namespace": "html",
            "tag": "div"
           },
           "nodeType": "DOM",
           "props": {
            "style": {
             "height": "0.0px",
             "width": "1.0em"
            }
           },
           "type": "node"
          },
          {
           "children": [],
           "instanceArgs": {
            "namespace": "html",
            "tag": "div"
           },
           "nodeType": "DOM",
           "props": {
            "setInnerHtml": "<pre>5×5 Matrix{Float64}:\n -8.0   4.0  -6.0     -1.0     8.0\n  0.0  -3.5   5.75    -8.375  -3.0\n  0.0   0.0  11.857  -13.357  -5.143\n  0.0   0.0   0.0     19.289  -8.723\n  0.0   0.0   0.0      0.0    -3.0</pre>"
           },
           "type": "node"
          }
         ],
         "instanceArgs": {
          "namespace": "html",
          "tag": "div"
         },
         "nodeType": "DOM",
         "props": {
          "style": {
           "align-items": "center",
           "display": "flex",
           "flex-direction": "row"
          }
         },
         "type": "node"
        }
       ],
       "instanceArgs": {
        "namespace": "html",
        "tag": "div"
       },
       "nodeType": "DOM",
       "props": {
        "style": {
         "align-items": "center",
         "display": "flex",
         "flex-direction": "column"
        }
       },
       "type": "node"
      },
      "text/html": [
       "<div\n",
       "    class=\"webio-mountpoint\"\n",
       "    data-webio-mountpoint=\"6647823303898517311\"\n",
       ">\n",
       "    <script>\n",
       "    (function(){\n",
       "    // Some integrations (namely, IJulia/Jupyter) use an alternate render pathway than\n",
       "    // just putting the html on the page. If WebIO isn't defined, then it's pretty likely\n",
       "    // that we're in one of those situations and the integration just isn't installed\n",
       "    // correctly.\n",
       "    if (typeof window.WebIO === \"undefined\") {\n",
       "        document\n",
       "            .querySelector('[data-webio-mountpoint=\"6647823303898517311\"]')\n",
       "            .innerHTML = (\n",
       "                '<div style=\"padding: 1em; background-color: #f8d6da; border: 1px solid #f5c6cb; font-weight: bold;\">' +\n",
       "                '<p><strong>WebIO not detected.</strong></p>' +\n",
       "                '<p>Please read ' +\n",
       "                '<a href=\"https://juliagizmos.github.io/WebIO.jl/latest/troubleshooting/not-detected/\" target=\"_blank\">the troubleshooting guide</a> ' +\n",
       "                'for more information on how to resolve this issue.</p>' +\n",
       "                '<p><a href=\"https://juliagizmos.github.io/WebIO.jl/latest/troubleshooting/not-detected/\" target=\"_blank\">https://juliagizmos.github.io/WebIO.jl/latest/troubleshooting/not-detected/</a></p>' +\n",
       "                '</div>'\n",
       "            );\n",
       "        return;\n",
       "    }\n",
       "    WebIO.mount(\n",
       "        document.querySelector('[data-webio-mountpoint=\"6647823303898517311\"]'),\n",
       "        {\"props\":{\"style\":{\"align-items\":\"center\",\"display\":\"flex\",\"flex-direction\":\"column\"}},\"nodeType\":\"DOM\",\"type\":\"node\",\"instanceArgs\":{\"namespace\":\"html\",\"tag\":\"div\"},\"children\":[{\"props\":{},\"nodeType\":\"DOM\",\"type\":\"node\",\"instanceArgs\":{\"namespace\":\"html\",\"tag\":\"pre\"},\"children\":[\"Gaussian elimination for column 4 with pivot 19.289156626506024: add -0.5 * (row 4) to (row 5)\"]},{\"props\":{\"style\":{\"align-items\":\"center\",\"display\":\"flex\",\"flex-direction\":\"row\"}},\"nodeType\":\"DOM\",\"type\":\"node\",\"instanceArgs\":{\"namespace\":\"html\",\"tag\":\"div\"},\"children\":[{\"props\":{\"setInnerHtml\":\"<pre>5×5 Matrix{Float64}:\\n -8.0   4.0  -6.0     -1.0     8.0\\n  0.0  -3.5   5.75    -8.375  -3.0\\n  0.0   0.0  11.857  -13.357  -5.143\\n  0.0   0.0   0.0     19.289  -8.723\\n  0.0   0.0   0.0      9.645  -7.361<\\/pre>\"},\"nodeType\":\"DOM\",\"type\":\"node\",\"instanceArgs\":{\"namespace\":\"html\",\"tag\":\"div\"},\"children\":[]},{\"props\":{\"style\":{\"height\":\"0.0px\",\"width\":\"1.0em\"}},\"nodeType\":\"DOM\",\"type\":\"node\",\"instanceArgs\":{\"namespace\":\"html\",\"tag\":\"div\"},\"children\":[]},\"⟶\",{\"props\":{\"style\":{\"height\":\"0.0px\",\"width\":\"1.0em\"}},\"nodeType\":\"DOM\",\"type\":\"node\",\"instanceArgs\":{\"namespace\":\"html\",\"tag\":\"div\"},\"children\":[]},{\"props\":{\"setInnerHtml\":\"<pre>5×5 Matrix{Float64}:\\n -8.0   4.0  -6.0     -1.0     8.0\\n  0.0  -3.5   5.75    -8.375  -3.0\\n  0.0   0.0  11.857  -13.357  -5.143\\n  0.0   0.0   0.0     19.289  -8.723\\n  0.0   0.0   0.0      0.0    -3.0<\\/pre>\"},\"nodeType\":\"DOM\",\"type\":\"node\",\"instanceArgs\":{\"namespace\":\"html\",\"tag\":\"div\"},\"children\":[]}]}]},\n",
       "        window,\n",
       "    );\n",
       "    })()\n",
       "    </script>\n",
       "</div>\n"
      ],
      "text/plain": [
       "(div { style=Dict{Any, Any}(\"align-items\" => :center, \"display\" => \"flex\", \"flex-direction\" => \"column\") }\n",
       "  (pre\n",
       "    \"Gaussian elimination for column 4 with pivot 19.289156626506024: add -0.5 * (row 4) to (row 5)\")\n",
       "  (div { style=Dict{Any, Any}(\"align-items\" => :center, \"display\" => \"flex\", \"flex-direction\" => \"row\") }\n",
       "    [-8.0 4.0 … -1.0 8.0; 0.0 -3.5 … -8.375 -3.0; … ; 0.0 0.0 … 19.289 -8.723; 0.0 0.0 … 9.645 -7.361]\n",
       "    (div { style=Dict{String, Measures.Length{U, Float64} where U}(\"height\" => 0.0px, \"width\" => 1.0em) })\n",
       "    \"⟶\"\n",
       "    (div { style=Dict{String, Measures.Length{U, Float64} where U}(\"height\" => 0.0px, \"width\" => 1.0em) })\n",
       "    [-8.0 4.0 … -1.0 8.0; 0.0 -3.5 … -8.375 -3.0; … ; 0.0 0.0 … 19.289 -8.723; 0.0 0.0 … 0.0 -3.0]))"
      ]
     },
     "metadata": {
      "application/vnd.webio.node+json": {
       "kernelId": "e075c803-bca2-4c5f-9e01-34fec12b6e1f"
      }
     },
     "output_type": "display_data"
    }
   ],
   "source": [
    "Aok = [-8   4  -6  -1   8\n",
    "        3  -5   8  -8  -6\n",
    "        8   2   8   2  -8\n",
    "       -6  -2   6   4  -8\n",
    "       -3   5   5   3  -7]\n",
    "visualize_gauss(Aok)"
   ]
  },
  {
   "cell_type": "markdown",
   "metadata": {},
   "source": [
    "## A bigger example\n",
    "\n",
    "We quickly run out of space for displaying matrices as text, but we can visualize the process for larger matrices by using images, with the PyPlot package (a wrapper around the Python Matplotlib library):"
   ]
  },
  {
   "cell_type": "code",
   "execution_count": 20,
   "metadata": {},
   "outputs": [],
   "source": [
    "using PyPlot"
   ]
  },
  {
   "cell_type": "code",
   "execution_count": 28,
   "metadata": {},
   "outputs": [
    {
     "data": {
      "image/png": "[encoded data removed]",
      "text/plain": [
       "Figure(PyObject <Figure size 640x480 with 2 Axes>)"
      ]
     },
     "metadata": {},
     "output_type": "display_data"
    },
    {
     "data": {
      "image/png": "[encoded data removed]",
      "text/plain": [
       "Figure(PyObject <Figure size 640x480 with 2 Axes>)"
      ]
     },
     "metadata": {},
     "output_type": "display_data"
    },
    {
     "data": {
      "image/png": "[encoded data removed]",
      "text/plain": [
       "Figure(PyObject <Figure size 640x480 with 2 Axes>)"
      ]
     },
     "metadata": {},
     "output_type": "display_data"
    },
    {
     "data": {
      "image/png": "[encoded data removed]",
      "text/plain": [
       "Figure(PyObject <Figure size 640x480 with 2 Axes>)"
      ]
     },
     "metadata": {},
     "output_type": "display_data"
    },
    {
     "data": {
      "image/png": "[encoded data removed]",
      "text/plain": [
       "Figure(PyObject <Figure size 640x480 with 2 Axes>)"
      ]
     },
     "metadata": {},
     "output_type": "display_data"
    },
    {
     "data": {
      "image/png": "[encoded data removed]",
      "text/plain": [
       "Figure(PyObject <Figure size 640x480 with 2 Axes>)"
      ]
     },
     "metadata": {},
     "output_type": "display_data"
    },
    {
     "data": {
      "image/png": "[encoded data removed]",
      "text/plain": [
       "Figure(PyObject <Figure size 640x480 with 2 Axes>)"
      ]
     },
     "metadata": {},
     "output_type": "display_data"
    },
    {
     "data": {
      "image/png": "[encoded data removed]",
      "text/plain": [
       "Figure(PyObject <Figure size 640x480 with 2 Axes>)"
      ]
     },
     "metadata": {},
     "output_type": "display_data"
    },
    {
     "data": {
      "image/png": "[encoded data removed]",
      "text/plain": [
       "Figure(PyObject <Figure size 640x480 with 2 Axes>)"
      ]
     },
     "metadata": {},
     "output_type": "display_data"
    },
    {
     "data": {
      "image/png": "[encoded data removed]",
      "text/plain": [
       "Figure(PyObject <Figure size 640x480 with 2 Axes>)"
      ]
     },
     "metadata": {},
     "output_type": "display_data"
    }
   ],
   "source": [
    "m = 100\n",
    "Abig = randn(m,m)\n",
    "fig = figure()\n",
    "nsteps = (m*(m-1))÷2\n",
    "@manipulate for step in slider(0:550:nsteps, value=2, label=\"gauss step\")\n",
    "    withfig(fig) do\n",
    "        U, row, col = naive_gauss(Abig, step)\n",
    "        # I had to experiment a little to find a nice way to plot this\n",
    "        V = log10.(abs.(U) .+ 500)\n",
    "        V[abs.(U) .< 0.001] .= 0 # color small entries black\n",
    "        imshow(V, cmap=\"hot\", vmin=0, vmax=3)\n",
    "        title(\"step $step: column $col, row $row\")\n",
    "        colorbar(label=L\"\\log_{10}(|U_{i,j}| + 500)\")\n",
    "    end\n",
    "end"
   ]
  },
  {
   "cell_type": "markdown",
   "metadata": {},
   "source": [
    "Note that it takes a *lot* more steps of Gaussian elimination for a $100 \\times 100$ matrix (4950 steps) than for a $5 \\times 5$ matrix (10 steps).  Later on in 18.06, we will analyze the computational cost of Gaussian elimination and how it scales with the size of the matrix (in computer science, this is known as the [complexity](https://en.wikipedia.org/wiki/Computational_complexity_theory) of the algorithm)."
   ]
  },
  {
   "cell_type": "markdown",
   "metadata": {},
   "source": [
    "Another interesting example can be found in the [Machine Learning with Gaussian Elimination notebook](https://github.com/mitmath/1806/blob/master/notes/Machine-Learning-with-Gaussian-elimination.ipynb)."
   ]
  }
 ],
 "metadata": {
  "@webio": {
   "lastCommId": "d2a009f707a64b39863adbaca18b9819",
   "lastKernelId": "e075c803-bca2-4c5f-9e01-34fec12b6e1f"
  },
  "anaconda-cloud": {},
  "kernelspec": {
   "display_name": "Julia 1.7.1",
   "language": "julia",
   "name": "julia-1.7"
  },
  "language_info": {
   "file_extension": ".jl",
   "mimetype": "application/julia",
   "name": "julia",
   "version": "1.7.1"
  },
  "widgets": {
   "state": {
    "294167a6-1234-43dc-aef6-951949f1fac6": {
     "views": [
      {
       "cell_index": 26
      }
     ]
    },
    "41f7367b-0ad3-43e3-bd43-c6e4a1618e8d": {
     "views": [
      {
       "cell_index": 19
      }
     ]
    },
    "6e3620ec-4915-4734-8d3a-3332fdc63970": {
     "views": [
      {
       "cell_index": 16
      }
     ]
    },
    "ce72699c-d8cc-4a03-902b-a490178223e5": {
     "views": [
      {
       "cell_index": 17
      }
     ]
    },
    "db2d9825-08d3-4028-8072-1e865d1a0c4f": {
     "views": [
      {
       "cell_index": 23
      }
     ]
    }
   },
   "version": "1.2.0"
  }
 },
 "nbformat": 4,
 "nbformat_minor": 4
}
