{
 "cells": [
  {
   "cell_type": "markdown",
   "metadata": {},
   "source": [
    "## Eliminate from (general) A to (upper triangular) U"
   ]
  },
  {
   "cell_type": "markdown",
   "metadata": {},
   "source": [
    "Demonstrate Gaussian Elimination (page 51 of GS)\n",
    "\n",
    "(Reminder: Julia programming syntax will not be tested in this class, but that doesn't mean you can't learn from\n",
    "watching the code being executed)"
   ]
  },
  {
   "cell_type": "code",
   "execution_count": 22,
   "metadata": {},
   "outputs": [],
   "source": [
    "using Plots"
   ]
  },
  {
   "cell_type": "code",
   "execution_count": 24,
   "metadata": {},
   "outputs": [
    {
     "data": {
      "text/plain": [
       "lookat (generic function with 1 method)"
      ]
     },
     "execution_count": 24,
     "metadata": {},
     "output_type": "execute_result"
    }
   ],
   "source": [
    "# nice viz for matrices\n",
    "function lookat(A; redrow=0, rounding=2, showtext=true)\n",
    "  n = size(A,1)\n",
    "  plot(legend=false, axis=false)\n",
    "  rowcolor = redrow > 0 ? :red : :black  \n",
    "  for i=1:n, j=1:n  \n",
    "      scatter!( [j],[i], ann=  showtext ? (j,i,round(A[i,j],digits=rounding), :white ) : (j,i,\"\") ,\n",
    "                color=abs(A[i,j]) > .0001 ? (i==redrow ? rowcolor : :black) : :white, \n",
    "                marker=:square, markersize=30, aspectratio=1, yflip=true, yaxis=[.5,n+.5],xaxis=[.5,n+.5])\n",
    "  end\n",
    "  plot!()\n",
    "end"
   ]
  },
  {
   "cell_type": "code",
   "execution_count": null,
   "metadata": {},
   "outputs": [],
   "source": [
    "A = rand(1.0:9,4,4)"
   ]
  },
  {
   "cell_type": "code",
   "execution_count": null,
   "metadata": {},
   "outputs": [],
   "source": [
    "L = fill(0.0,4,4)"
   ]
  },
  {
   "cell_type": "code",
   "execution_count": null,
   "metadata": {},
   "outputs": [],
   "source": [
    "lookat(A)"
   ]
  },
  {
   "cell_type": "markdown",
   "metadata": {},
   "source": [
    "## What multiple of row 1 must we subtract from row 2 to zero out the (2,1) entry?"
   ]
  },
  {
   "cell_type": "code",
   "execution_count": null,
   "metadata": {},
   "outputs": [],
   "source": [
    "L[2,1] = A[2,1] / A[1,1]"
   ]
  },
  {
   "cell_type": "code",
   "execution_count": null,
   "metadata": {},
   "outputs": [],
   "source": [
    "# A[2,:] = A[2,:] - L[2,1] * A[1,:]\n",
    "A[2,:] -= L[2,1] * A[1,:] # subtract that multiple of the first row from the second\n",
    "lookat(A, redrow=2)"
   ]
  },
  {
   "cell_type": "markdown",
   "metadata": {},
   "source": [
    "## What multiple of row 1 must we subtract from row 3 to zero out the (3,1) entry?"
   ]
  },
  {
   "cell_type": "code",
   "execution_count": null,
   "metadata": {},
   "outputs": [],
   "source": [
    "L[3,1] = A[3,1] / A[1,1]"
   ]
  },
  {
   "cell_type": "code",
   "execution_count": null,
   "metadata": {},
   "outputs": [],
   "source": [
    "A[3,:] -= L[3,1] * A[1,:]\n",
    "lookat(A, redrow=3)"
   ]
  },
  {
   "cell_type": "code",
   "execution_count": null,
   "metadata": {},
   "outputs": [],
   "source": [
    "L[4,1] = A[4,1] / A[1,1]\n",
    "A[4,:] -= L[4,1] * A[1,:]\n",
    "lookat(A, redrow=4)"
   ]
  },
  {
   "cell_type": "code",
   "execution_count": null,
   "metadata": {},
   "outputs": [],
   "source": [
    "L[3,2] = A[3,2] / A[2,2]"
   ]
  },
  {
   "cell_type": "code",
   "execution_count": null,
   "metadata": {},
   "outputs": [],
   "source": [
    "A[3,:] -= L[3,2] * A[2,:]; lookat(A, redrow=3)"
   ]
  },
  {
   "cell_type": "code",
   "execution_count": null,
   "metadata": {},
   "outputs": [],
   "source": [
    "L[4,2] = A[4,2] / A[2,2]; A[4,:] -= L[4,2] * A[2,:]; lookat(A, redrow=4)"
   ]
  },
  {
   "cell_type": "code",
   "execution_count": null,
   "metadata": {},
   "outputs": [],
   "source": [
    "n = 5\n",
    "A = randn(n,n)\n",
    "L = fill(0.0,n,n)\n",
    "display(lookat(A))\n",
    "for j=1:n, i=(j+1):n\n",
    "        L[i,j] = A[i,j]/A[j,j]\n",
    "        A[i,:] -= L[i,j] * A[j,:]\n",
    "        display(lookat(A,redrow=i))\n",
    "end"
   ]
  },
  {
   "cell_type": "code",
   "execution_count": 32,
   "metadata": {},
   "outputs": [
    {
     "data": {
      "image/svg+xml": [
       "<?xml version=\"1.0\" encoding=\"utf-8\"?>\n",
       "<svg xmlns=\"http://www.w3.org/2000/svg\" xmlns:xlink=\"http://www.w3.org/1999/xlink\" width=\"600\" height=\"400\" viewBox=\"0 0 2400 1600\">\n",
       "<defs>\n",
       "  <clipPath id=\"clip1300\">\n",
       "    <rect x=\"0\" y=\"0\" width=\"2400\" height=\"1600\"/>\n",
       "  </clipPath>\n",
       "</defs>\n",
       "<path clip-path=\"url(#clip1300)\" d=\"\n",
       "M0 1600 L2400 1600 L2400 0 L0 0  Z\n",
       "  \" fill=\"#ffffff\" fill-rule=\"evenodd\" fill-opacity=\"1\"/>\n",
       "<defs>\n",
       "  <clipPath id=\"clip1301\">\n",
       "    <rect x=\"480\" y=\"0\" width=\"1681\" height=\"1600\"/>\n",
       "  </clipPath>\n",
       "</defs>\n",
       "<path clip-path=\"url(#clip1300)\" d=\"\n",
       "M513.14 1487.47 L1953.37 1487.47 L1953.37 47.2441 L513.14 47.2441  Z\n",
       "  \" fill=\"#ffffff\" fill-rule=\"evenodd\" fill-opacity=\"1\"/>\n",
       "<defs>\n",
       "  <clipPath id=\"clip1302\">\n",
       "    <rect x=\"513\" y=\"47\" width=\"1441\" height=\"1441\"/>\n",
       "  </clipPath>\n",
       "</defs>\n",
       "<polyline clip-path=\"url(#clip1302)\" style=\"stroke:#000000; stroke-width:2; stroke-opacity:0.1; fill:none\" points=\"\n",
       "  689.772,47.2441 689.772,1487.47 \n",
       "  \"/>\n",
       "<polyline clip-path=\"url(#clip1302)\" style=\"stroke:#000000; stroke-width:2; stroke-opacity:0.1; fill:none\" points=\"\n",
       "  961.514,47.2441 961.514,1487.47 \n",
       "  \"/>\n",
       "<polyline clip-path=\"url(#clip1302)\" style=\"stroke:#000000; stroke-width:2; stroke-opacity:0.1; fill:none\" points=\"\n",
       "  1233.26,47.2441 1233.26,1487.47 \n",
       "  \"/>\n",
       "<polyline clip-path=\"url(#clip1302)\" style=\"stroke:#000000; stroke-width:2; stroke-opacity:0.1; fill:none\" points=\"\n",
       "  1505,47.2441 1505,1487.47 \n",
       "  \"/>\n",
       "<polyline clip-path=\"url(#clip1302)\" style=\"stroke:#000000; stroke-width:2; stroke-opacity:0.1; fill:none\" points=\"\n",
       "  1776.74,47.2441 1776.74,1487.47 \n",
       "  \"/>\n",
       "<polyline clip-path=\"url(#clip1302)\" style=\"stroke:#000000; stroke-width:2; stroke-opacity:0.1; fill:none\" points=\"\n",
       "  513.14,223.876 1953.37,223.876 \n",
       "  \"/>\n",
       "<polyline clip-path=\"url(#clip1302)\" style=\"stroke:#000000; stroke-width:2; stroke-opacity:0.1; fill:none\" points=\"\n",
       "  513.14,495.618 1953.37,495.618 \n",
       "  \"/>\n",
       "<polyline clip-path=\"url(#clip1302)\" style=\"stroke:#000000; stroke-width:2; stroke-opacity:0.1; fill:none\" points=\"\n",
       "  513.14,767.359 1953.37,767.359 \n",
       "  \"/>\n",
       "<polyline clip-path=\"url(#clip1302)\" style=\"stroke:#000000; stroke-width:2; stroke-opacity:0.1; fill:none\" points=\"\n",
       "  513.14,1039.1 1953.37,1039.1 \n",
       "  \"/>\n",
       "<polyline clip-path=\"url(#clip1302)\" style=\"stroke:#000000; stroke-width:2; stroke-opacity:0.1; fill:none\" points=\"\n",
       "  513.14,1310.84 1953.37,1310.84 \n",
       "  \"/>\n",
       "<polygon clip-path=\"url(#clip1302)\" style=\"fill:#000000; fill-opacity:1\" points=\"\n",
       "  565.772,99.8762 565.772,347.876 813.772,347.876 813.772,99.8762 565.772,99.8762 \n",
       "  \"/>\n",
       "<polygon clip-path=\"url(#clip1302)\" style=\"fill:#000000; fill-opacity:1\" points=\"\n",
       "  569.772,103.876 569.772,343.876 809.772,343.876 809.772,103.876 569.772,103.876 \n",
       "  \"/>\n",
       "<polygon clip-path=\"url(#clip1302)\" style=\"fill:#000000; fill-opacity:1\" points=\"\n",
       "  837.514,99.8762 837.514,347.876 1085.51,347.876 1085.51,99.8762 837.514,99.8762 \n",
       "  \"/>\n",
       "<polygon clip-path=\"url(#clip1302)\" style=\"fill:#000000; fill-opacity:1\" points=\"\n",
       "  841.514,103.876 841.514,343.876 1081.51,343.876 1081.51,103.876 841.514,103.876 \n",
       "  \"/>\n",
       "<polygon clip-path=\"url(#clip1302)\" style=\"fill:#000000; fill-opacity:1\" points=\"\n",
       "  1109.26,99.8762 1109.26,347.876 1357.26,347.876 1357.26,99.8762 1109.26,99.8762 \n",
       "  \"/>\n",
       "<polygon clip-path=\"url(#clip1302)\" style=\"fill:#000000; fill-opacity:1\" points=\"\n",
       "  1113.26,103.876 1113.26,343.876 1353.26,343.876 1353.26,103.876 1113.26,103.876 \n",
       "  \"/>\n",
       "<polygon clip-path=\"url(#clip1302)\" style=\"fill:#000000; fill-opacity:1\" points=\"\n",
       "  1381,99.8762 1381,347.876 1629,347.876 1629,99.8762 1381,99.8762 \n",
       "  \"/>\n",
       "<polygon clip-path=\"url(#clip1302)\" style=\"fill:#000000; fill-opacity:1\" points=\"\n",
       "  1385,103.876 1385,343.876 1625,343.876 1625,103.876 1385,103.876 \n",
       "  \"/>\n",
       "<polygon clip-path=\"url(#clip1302)\" style=\"fill:#000000; fill-opacity:1\" points=\"\n",
       "  1652.74,99.8762 1652.74,347.876 1900.74,347.876 1900.74,99.8762 1652.74,99.8762 \n",
       "  \"/>\n",
       "<polygon clip-path=\"url(#clip1302)\" style=\"fill:#000000; fill-opacity:1\" points=\"\n",
       "  1656.74,103.876 1656.74,343.876 1896.74,343.876 1896.74,103.876 1656.74,103.876 \n",
       "  \"/>\n",
       "<polygon clip-path=\"url(#clip1302)\" style=\"fill:#000000; fill-opacity:1\" points=\"\n",
       "  565.772,371.618 565.772,619.618 813.772,619.618 813.772,371.618 565.772,371.618 \n",
       "  \"/>\n",
       "<polygon clip-path=\"url(#clip1302)\" style=\"fill:#000000; fill-opacity:1\" points=\"\n",
       "  569.772,375.618 569.772,615.618 809.772,615.618 809.772,375.618 569.772,375.618 \n",
       "  \"/>\n",
       "<polygon clip-path=\"url(#clip1302)\" style=\"fill:#000000; fill-opacity:1\" points=\"\n",
       "  837.514,371.618 837.514,619.618 1085.51,619.618 1085.51,371.618 837.514,371.618 \n",
       "  \"/>\n",
       "<polygon clip-path=\"url(#clip1302)\" style=\"fill:#000000; fill-opacity:1\" points=\"\n",
       "  841.514,375.618 841.514,615.618 1081.51,615.618 1081.51,375.618 841.514,375.618 \n",
       "  \"/>\n",
       "<polygon clip-path=\"url(#clip1302)\" style=\"fill:#000000; fill-opacity:1\" points=\"\n",
       "  1109.26,371.618 1109.26,619.618 1357.26,619.618 1357.26,371.618 1109.26,371.618 \n",
       "  \"/>\n",
       "<polygon clip-path=\"url(#clip1302)\" style=\"fill:#000000; fill-opacity:1\" points=\"\n",
       "  1113.26,375.618 1113.26,615.618 1353.26,615.618 1353.26,375.618 1113.26,375.618 \n",
       "  \"/>\n",
       "<polygon clip-path=\"url(#clip1302)\" style=\"fill:#000000; fill-opacity:1\" points=\"\n",
       "  1381,371.618 1381,619.618 1629,619.618 1629,371.618 1381,371.618 \n",
       "  \"/>\n",
       "<polygon clip-path=\"url(#clip1302)\" style=\"fill:#000000; fill-opacity:1\" points=\"\n",
       "  1385,375.618 1385,615.618 1625,615.618 1625,375.618 1385,375.618 \n",
       "  \"/>\n",
       "<polygon clip-path=\"url(#clip1302)\" style=\"fill:#000000; fill-opacity:1\" points=\"\n",
       "  1652.74,371.618 1652.74,619.618 1900.74,619.618 1900.74,371.618 1652.74,371.618 \n",
       "  \"/>\n",
       "<polygon clip-path=\"url(#clip1302)\" style=\"fill:#000000; fill-opacity:1\" points=\"\n",
       "  1656.74,375.618 1656.74,615.618 1896.74,615.618 1896.74,375.618 1656.74,375.618 \n",
       "  \"/>\n",
       "<polygon clip-path=\"url(#clip1302)\" style=\"fill:#000000; fill-opacity:1\" points=\"\n",
       "  565.772,643.359 565.772,891.359 813.772,891.359 813.772,643.359 565.772,643.359 \n",
       "  \"/>\n",
       "<polygon clip-path=\"url(#clip1302)\" style=\"fill:#000000; fill-opacity:1\" points=\"\n",
       "  569.772,647.359 569.772,887.359 809.772,887.359 809.772,647.359 569.772,647.359 \n",
       "  \"/>\n",
       "<polygon clip-path=\"url(#clip1302)\" style=\"fill:#000000; fill-opacity:1\" points=\"\n",
       "  837.514,643.359 837.514,891.359 1085.51,891.359 1085.51,643.359 837.514,643.359 \n",
       "  \"/>\n",
       "<polygon clip-path=\"url(#clip1302)\" style=\"fill:#000000; fill-opacity:1\" points=\"\n",
       "  841.514,647.359 841.514,887.359 1081.51,887.359 1081.51,647.359 841.514,647.359 \n",
       "  \"/>\n",
       "<polygon clip-path=\"url(#clip1302)\" style=\"fill:#000000; fill-opacity:1\" points=\"\n",
       "  1109.26,643.359 1109.26,891.359 1357.26,891.359 1357.26,643.359 1109.26,643.359 \n",
       "  \"/>\n",
       "<polygon clip-path=\"url(#clip1302)\" style=\"fill:#000000; fill-opacity:1\" points=\"\n",
       "  1113.26,647.359 1113.26,887.359 1353.26,887.359 1353.26,647.359 1113.26,647.359 \n",
       "  \"/>\n",
       "<polygon clip-path=\"url(#clip1302)\" style=\"fill:#000000; fill-opacity:1\" points=\"\n",
       "  1381,643.359 1381,891.359 1629,891.359 1629,643.359 1381,643.359 \n",
       "  \"/>\n",
       "<polygon clip-path=\"url(#clip1302)\" style=\"fill:#000000; fill-opacity:1\" points=\"\n",
       "  1385,647.359 1385,887.359 1625,887.359 1625,647.359 1385,647.359 \n",
       "  \"/>\n",
       "<polygon clip-path=\"url(#clip1302)\" style=\"fill:#000000; fill-opacity:1\" points=\"\n",
       "  1652.74,643.359 1652.74,891.359 1900.74,891.359 1900.74,643.359 1652.74,643.359 \n",
       "  \"/>\n",
       "<polygon clip-path=\"url(#clip1302)\" style=\"fill:#000000; fill-opacity:1\" points=\"\n",
       "  1656.74,647.359 1656.74,887.359 1896.74,887.359 1896.74,647.359 1656.74,647.359 \n",
       "  \"/>\n",
       "<polygon clip-path=\"url(#clip1302)\" style=\"fill:#000000; fill-opacity:1\" points=\"\n",
       "  565.772,915.101 565.772,1163.1 813.772,1163.1 813.772,915.101 565.772,915.101 \n",
       "  \"/>\n",
       "<polygon clip-path=\"url(#clip1302)\" style=\"fill:#000000; fill-opacity:1\" points=\"\n",
       "  569.772,919.101 569.772,1159.1 809.772,1159.1 809.772,919.101 569.772,919.101 \n",
       "  \"/>\n",
       "<polygon clip-path=\"url(#clip1302)\" style=\"fill:#000000; fill-opacity:1\" points=\"\n",
       "  837.514,915.101 837.514,1163.1 1085.51,1163.1 1085.51,915.101 837.514,915.101 \n",
       "  \"/>\n",
       "<polygon clip-path=\"url(#clip1302)\" style=\"fill:#000000; fill-opacity:1\" points=\"\n",
       "  841.514,919.101 841.514,1159.1 1081.51,1159.1 1081.51,919.101 841.514,919.101 \n",
       "  \"/>\n",
       "<polygon clip-path=\"url(#clip1302)\" style=\"fill:#000000; fill-opacity:1\" points=\"\n",
       "  1109.26,915.101 1109.26,1163.1 1357.26,1163.1 1357.26,915.101 1109.26,915.101 \n",
       "  \"/>\n",
       "<polygon clip-path=\"url(#clip1302)\" style=\"fill:#000000; fill-opacity:1\" points=\"\n",
       "  1113.26,919.101 1113.26,1159.1 1353.26,1159.1 1353.26,919.101 1113.26,919.101 \n",
       "  \"/>\n",
       "<polygon clip-path=\"url(#clip1302)\" style=\"fill:#000000; fill-opacity:1\" points=\"\n",
       "  1381,915.101 1381,1163.1 1629,1163.1 1629,915.101 1381,915.101 \n",
       "  \"/>\n",
       "<polygon clip-path=\"url(#clip1302)\" style=\"fill:#000000; fill-opacity:1\" points=\"\n",
       "  1385,919.101 1385,1159.1 1625,1159.1 1625,919.101 1385,919.101 \n",
       "  \"/>\n",
       "<polygon clip-path=\"url(#clip1302)\" style=\"fill:#000000; fill-opacity:1\" points=\"\n",
       "  1652.74,915.101 1652.74,1163.1 1900.74,1163.1 1900.74,915.101 1652.74,915.101 \n",
       "  \"/>\n",
       "<polygon clip-path=\"url(#clip1302)\" style=\"fill:#000000; fill-opacity:1\" points=\"\n",
       "  1656.74,919.101 1656.74,1159.1 1896.74,1159.1 1896.74,919.101 1656.74,919.101 \n",
       "  \"/>\n",
       "<polygon clip-path=\"url(#clip1302)\" style=\"fill:#000000; fill-opacity:1\" points=\"\n",
       "  565.772,1186.84 565.772,1434.84 813.772,1434.84 813.772,1186.84 565.772,1186.84 \n",
       "  \"/>\n",
       "<polygon clip-path=\"url(#clip1302)\" style=\"fill:#000000; fill-opacity:1\" points=\"\n",
       "  569.772,1190.84 569.772,1430.84 809.772,1430.84 809.772,1190.84 569.772,1190.84 \n",
       "  \"/>\n",
       "<polygon clip-path=\"url(#clip1302)\" style=\"fill:#000000; fill-opacity:1\" points=\"\n",
       "  837.514,1186.84 837.514,1434.84 1085.51,1434.84 1085.51,1186.84 837.514,1186.84 \n",
       "  \"/>\n",
       "<polygon clip-path=\"url(#clip1302)\" style=\"fill:#000000; fill-opacity:1\" points=\"\n",
       "  841.514,1190.84 841.514,1430.84 1081.51,1430.84 1081.51,1190.84 841.514,1190.84 \n",
       "  \"/>\n",
       "<polygon clip-path=\"url(#clip1302)\" style=\"fill:#000000; fill-opacity:1\" points=\"\n",
       "  1109.26,1186.84 1109.26,1434.84 1357.26,1434.84 1357.26,1186.84 1109.26,1186.84 \n",
       "  \"/>\n",
       "<polygon clip-path=\"url(#clip1302)\" style=\"fill:#000000; fill-opacity:1\" points=\"\n",
       "  1113.26,1190.84 1113.26,1430.84 1353.26,1430.84 1353.26,1190.84 1113.26,1190.84 \n",
       "  \"/>\n",
       "<polygon clip-path=\"url(#clip1302)\" style=\"fill:#000000; fill-opacity:1\" points=\"\n",
       "  1381,1186.84 1381,1434.84 1629,1434.84 1629,1186.84 1381,1186.84 \n",
       "  \"/>\n",
       "<polygon clip-path=\"url(#clip1302)\" style=\"fill:#000000; fill-opacity:1\" points=\"\n",
       "  1385,1190.84 1385,1430.84 1625,1430.84 1625,1190.84 1385,1190.84 \n",
       "  \"/>\n",
       "<polygon clip-path=\"url(#clip1302)\" style=\"fill:#000000; fill-opacity:1\" points=\"\n",
       "  1652.74,1186.84 1652.74,1434.84 1900.74,1434.84 1900.74,1186.84 1652.74,1186.84 \n",
       "  \"/>\n",
       "<polygon clip-path=\"url(#clip1302)\" style=\"fill:#000000; fill-opacity:1\" points=\"\n",
       "  1656.74,1190.84 1656.74,1430.84 1896.74,1430.84 1896.74,1190.84 1656.74,1190.84 \n",
       "  \"/>\n",
       "<g clip-path=\"url(#clip1300)\">\n",
       "<text style=\"fill:#ffffff; fill-opacity:1; font-family:Arial,Helvetica Neue,Helvetica,sans-serif; font-size:84px; text-anchor:middle;\" transform=\"rotate(0, 689.772, 254.376)\" x=\"689.772\" y=\"254.376\">-1.33</text>\n",
       "</g>\n",
       "<g clip-path=\"url(#clip1300)\">\n",
       "<text style=\"fill:#ffffff; fill-opacity:1; font-family:Arial,Helvetica Neue,Helvetica,sans-serif; font-size:84px; text-anchor:middle;\" transform=\"rotate(0, 961.514, 254.376)\" x=\"961.514\" y=\"254.376\">-0.92</text>\n",
       "</g>\n",
       "<g clip-path=\"url(#clip1300)\">\n",
       "<text style=\"fill:#ffffff; fill-opacity:1; font-family:Arial,Helvetica Neue,Helvetica,sans-serif; font-size:84px; text-anchor:middle;\" transform=\"rotate(0, 1233.26, 254.376)\" x=\"1233.26\" y=\"254.376\">0.82</text>\n",
       "</g>\n",
       "<g clip-path=\"url(#clip1300)\">\n",
       "<text style=\"fill:#ffffff; fill-opacity:1; font-family:Arial,Helvetica Neue,Helvetica,sans-serif; font-size:84px; text-anchor:middle;\" transform=\"rotate(0, 1505, 254.376)\" x=\"1505\" y=\"254.376\">0.29</text>\n",
       "</g>\n",
       "<g clip-path=\"url(#clip1300)\">\n",
       "<text style=\"fill:#ffffff; fill-opacity:1; font-family:Arial,Helvetica Neue,Helvetica,sans-serif; font-size:84px; text-anchor:middle;\" transform=\"rotate(0, 1776.74, 254.376)\" x=\"1776.74\" y=\"254.376\">-0.98</text>\n",
       "</g>\n",
       "<g clip-path=\"url(#clip1300)\">\n",
       "<text style=\"fill:#ffffff; fill-opacity:1; font-family:Arial,Helvetica Neue,Helvetica,sans-serif; font-size:84px; text-anchor:middle;\" transform=\"rotate(0, 689.772, 526.118)\" x=\"689.772\" y=\"526.118\">0.36</text>\n",
       "</g>\n",
       "<g clip-path=\"url(#clip1300)\">\n",
       "<text style=\"fill:#ffffff; fill-opacity:1; font-family:Arial,Helvetica Neue,Helvetica,sans-serif; font-size:84px; text-anchor:middle;\" transform=\"rotate(0, 961.514, 526.118)\" x=\"961.514\" y=\"526.118\">0.54</text>\n",
       "</g>\n",
       "<g clip-path=\"url(#clip1300)\">\n",
       "<text style=\"fill:#ffffff; fill-opacity:1; font-family:Arial,Helvetica Neue,Helvetica,sans-serif; font-size:84px; text-anchor:middle;\" transform=\"rotate(0, 1233.26, 526.118)\" x=\"1233.26\" y=\"526.118\">-0.49</text>\n",
       "</g>\n",
       "<g clip-path=\"url(#clip1300)\">\n",
       "<text style=\"fill:#ffffff; fill-opacity:1; font-family:Arial,Helvetica Neue,Helvetica,sans-serif; font-size:84px; text-anchor:middle;\" transform=\"rotate(0, 1505, 526.118)\" x=\"1505\" y=\"526.118\">-0.59</text>\n",
       "</g>\n",
       "<g clip-path=\"url(#clip1300)\">\n",
       "<text style=\"fill:#ffffff; fill-opacity:1; font-family:Arial,Helvetica Neue,Helvetica,sans-serif; font-size:84px; text-anchor:middle;\" transform=\"rotate(0, 1776.74, 526.118)\" x=\"1776.74\" y=\"526.118\">-0.12</text>\n",
       "</g>\n",
       "<g clip-path=\"url(#clip1300)\">\n",
       "<text style=\"fill:#ffffff; fill-opacity:1; font-family:Arial,Helvetica Neue,Helvetica,sans-serif; font-size:84px; text-anchor:middle;\" transform=\"rotate(0, 689.772, 797.859)\" x=\"689.772\" y=\"797.859\">0.05</text>\n",
       "</g>\n",
       "<g clip-path=\"url(#clip1300)\">\n",
       "<text style=\"fill:#ffffff; fill-opacity:1; font-family:Arial,Helvetica Neue,Helvetica,sans-serif; font-size:84px; text-anchor:middle;\" transform=\"rotate(0, 961.514, 797.859)\" x=\"961.514\" y=\"797.859\">1.41</text>\n",
       "</g>\n",
       "<g clip-path=\"url(#clip1300)\">\n",
       "<text style=\"fill:#ffffff; fill-opacity:1; font-family:Arial,Helvetica Neue,Helvetica,sans-serif; font-size:84px; text-anchor:middle;\" transform=\"rotate(0, 1233.26, 797.859)\" x=\"1233.26\" y=\"797.859\">-1.27</text>\n",
       "</g>\n",
       "<g clip-path=\"url(#clip1300)\">\n",
       "<text style=\"fill:#ffffff; fill-opacity:1; font-family:Arial,Helvetica Neue,Helvetica,sans-serif; font-size:84px; text-anchor:middle;\" transform=\"rotate(0, 1505, 797.859)\" x=\"1505\" y=\"797.859\">0.52</text>\n",
       "</g>\n",
       "<g clip-path=\"url(#clip1300)\">\n",
       "<text style=\"fill:#ffffff; fill-opacity:1; font-family:Arial,Helvetica Neue,Helvetica,sans-serif; font-size:84px; text-anchor:middle;\" transform=\"rotate(0, 1776.74, 797.859)\" x=\"1776.74\" y=\"797.859\">0.84</text>\n",
       "</g>\n",
       "<g clip-path=\"url(#clip1300)\">\n",
       "<text style=\"fill:#ffffff; fill-opacity:1; font-family:Arial,Helvetica Neue,Helvetica,sans-serif; font-size:84px; text-anchor:middle;\" transform=\"rotate(0, 689.772, 1069.6)\" x=\"689.772\" y=\"1069.6\">-1.92</text>\n",
       "</g>\n",
       "<g clip-path=\"url(#clip1300)\">\n",
       "<text style=\"fill:#ffffff; fill-opacity:1; font-family:Arial,Helvetica Neue,Helvetica,sans-serif; font-size:84px; text-anchor:middle;\" transform=\"rotate(0, 961.514, 1069.6)\" x=\"961.514\" y=\"1069.6\">-1.36</text>\n",
       "</g>\n",
       "<g clip-path=\"url(#clip1300)\">\n",
       "<text style=\"fill:#ffffff; fill-opacity:1; font-family:Arial,Helvetica Neue,Helvetica,sans-serif; font-size:84px; text-anchor:middle;\" transform=\"rotate(0, 1233.26, 1069.6)\" x=\"1233.26\" y=\"1069.6\">-0.04</text>\n",
       "</g>\n",
       "<g clip-path=\"url(#clip1300)\">\n",
       "<text style=\"fill:#ffffff; fill-opacity:1; font-family:Arial,Helvetica Neue,Helvetica,sans-serif; font-size:84px; text-anchor:middle;\" transform=\"rotate(0, 1505, 1069.6)\" x=\"1505\" y=\"1069.6\">1.78</text>\n",
       "</g>\n",
       "<g clip-path=\"url(#clip1300)\">\n",
       "<text style=\"fill:#ffffff; fill-opacity:1; font-family:Arial,Helvetica Neue,Helvetica,sans-serif; font-size:84px; text-anchor:middle;\" transform=\"rotate(0, 1776.74, 1069.6)\" x=\"1776.74\" y=\"1069.6\">-1.13</text>\n",
       "</g>\n",
       "<g clip-path=\"url(#clip1300)\">\n",
       "<text style=\"fill:#ffffff; fill-opacity:1; font-family:Arial,Helvetica Neue,Helvetica,sans-serif; font-size:84px; text-anchor:middle;\" transform=\"rotate(0, 689.772, 1341.34)\" x=\"689.772\" y=\"1341.34\">0.11</text>\n",
       "</g>\n",
       "<g clip-path=\"url(#clip1300)\">\n",
       "<text style=\"fill:#ffffff; fill-opacity:1; font-family:Arial,Helvetica Neue,Helvetica,sans-serif; font-size:84px; text-anchor:middle;\" transform=\"rotate(0, 961.514, 1341.34)\" x=\"961.514\" y=\"1341.34\">-0.58</text>\n",
       "</g>\n",
       "<g clip-path=\"url(#clip1300)\">\n",
       "<text style=\"fill:#ffffff; fill-opacity:1; font-family:Arial,Helvetica Neue,Helvetica,sans-serif; font-size:84px; text-anchor:middle;\" transform=\"rotate(0, 1233.26, 1341.34)\" x=\"1233.26\" y=\"1341.34\">1.52</text>\n",
       "</g>\n",
       "<g clip-path=\"url(#clip1300)\">\n",
       "<text style=\"fill:#ffffff; fill-opacity:1; font-family:Arial,Helvetica Neue,Helvetica,sans-serif; font-size:84px; text-anchor:middle;\" transform=\"rotate(0, 1505, 1341.34)\" x=\"1505\" y=\"1341.34\">-1.07</text>\n",
       "</g>\n",
       "<g clip-path=\"url(#clip1300)\">\n",
       "<text style=\"fill:#ffffff; fill-opacity:1; font-family:Arial,Helvetica Neue,Helvetica,sans-serif; font-size:84px; text-anchor:middle;\" transform=\"rotate(0, 1776.74, 1341.34)\" x=\"1776.74\" y=\"1341.34\">-0.45</text>\n",
       "</g>\n",
       "</svg>\n"
      ]
     },
     "metadata": {},
     "output_type": "display_data"
    }
   ],
   "source": [
    "n = 5\n",
    "A = randn(n,n)\n",
    "L = fill(0.0,n,n)\n",
    "Akeep = [copy(A)]\n",
    "row = [0]\n",
    "display(lookat(A))\n",
    "for j=1:n, i=(j+1):n\n",
    "        L[i,j] = A[i,j]/A[j,j]\n",
    "        A[i,:] -= L[i,j] * A[j,:]\n",
    "        push!(Akeep,copy(A))\n",
    "        push!(row,i)\n",
    "end"
   ]
  },
  {
   "cell_type": "code",
   "execution_count": 28,
   "metadata": {},
   "outputs": [],
   "source": [
    "using Interact"
   ]
  },
  {
   "cell_type": "code",
   "execution_count": 34,
   "metadata": {},
   "outputs": [
    {
     "data": {
      "application/vnd.webio.node+json": {
       "children": [
        {
         "children": [
          {
           "children": [
            {
             "children": [
              {
               "children": [
                {
                 "children": [
                  ""
                 ],
                 "instanceArgs": {
                  "namespace": "html",
                  "tag": "label"
                 },
                 "nodeType": "DOM",
                 "props": {
                  "className": "interact ",
                  "style": {
                   "padding": "5px 10px 0px 10px"
                  }
                 },
                 "type": "node"
                }
               ],
               "instanceArgs": {
                "namespace": "html",
                "tag": "div"
               },
               "nodeType": "DOM",
               "props": {
                "className": "interact-flex-row-left"
               },
               "type": "node"
              },
              {
               "children": [
                {
                 "children": [],
                 "instanceArgs": {
                  "namespace": "html",
                  "tag": "input"
                 },
                 "nodeType": "DOM",
                 "props": {
                  "attributes": {
                   "data-bind": "numericValue: index, valueUpdate: 'input', event: {change: function (){this.changes(this.changes()+1)}}",
                   "orient": "horizontal",
                   "type": "range"
                  },
                  "className": "slider slider is-fullwidth",
                  "max": 22,
                  "min": 1,
                  "step": 1,
                  "style": {}
                 },
                 "type": "node"
                }
               ],
               "instanceArgs": {
                "namespace": "html",
                "tag": "div"
               },
               "nodeType": "DOM",
               "props": {
                "className": "interact-flex-row-center"
               },
               "type": "node"
              },
              {
               "children": [
                {
                 "children": [],
                 "instanceArgs": {
                  "namespace": "html",
                  "tag": "p"
                 },
                 "nodeType": "DOM",
                 "props": {
                  "attributes": {
                   "data-bind": "text: formatted_val"
                  }
                 },
                 "type": "node"
                }
               ],
               "instanceArgs": {
                "namespace": "html",
                "tag": "div"
               },
               "nodeType": "DOM",
               "props": {
                "className": "interact-flex-row-right"
               },
               "type": "node"
              }
             ],
             "instanceArgs": {
              "namespace": "html",
              "tag": "div"
             },
             "nodeType": "DOM",
             "props": {
              "className": "interact-flex-row interact-widget"
             },
             "type": "node"
            }
           ],
           "instanceArgs": {
            "handlers": {
             "changes": [
              "(function (val){return (val!=this.model[\"changes\"]()) ? (this.valueFromJulia[\"changes\"]=true, this.model[\"changes\"](val)) : undefined})"
             ],
             "index": [
              "(function (val){return (val!=this.model[\"index\"]()) ? (this.valueFromJulia[\"index\"]=true, this.model[\"index\"](val)) : undefined})"
             ]
            },
            "id": "12195490656847676096",
            "imports": {
             "data": [
              {
               "name": "knockout",
               "type": "js",
               "url": "/assetserver/b327bb35fde3fdc34a3743cc513d8641da41be57-knockout.js"
              },
              {
               "name": "knockout_punches",
               "type": "js",
               "url": "/assetserver/fafd688372851144045ba947dbd84da3abb05ea8-knockout_punches.js"
              },
              {
               "name": null,
               "type": "js",
               "url": "/assetserver/0951cc8e3859f1a4385b65048fc97362f372e1c3-all.js"
              },
              {
               "name": null,
               "type": "css",
               "url": "/assetserver/0254bcb16087eaf6e9df2fd5de5adc1df098653e-style.css"
              },
              {
               "name": null,
               "type": "css",
               "url": "/assetserver/f84b8fbf74436201659eff389766269ff931e73a-bulma_confined.min.css"
              }
             ],
             "type": "async_block"
            },
            "mount_callbacks": [
             "function () {\n    var handler = (function (ko, koPunches) {\n    ko.punches.enableAll();\n    ko.bindingHandlers.numericValue = {\n        init: function(element, valueAccessor, allBindings, data, context) {\n            var stringified = ko.observable(ko.unwrap(valueAccessor()));\n            stringified.subscribe(function(value) {\n                var val = parseFloat(value);\n                if (!isNaN(val)) {\n                    valueAccessor()(val);\n                }\n            });\n            valueAccessor().subscribe(function(value) {\n                var str = JSON.stringify(value);\n                if ((str == \"0\") && ([\"-0\", \"-0.\"].indexOf(stringified()) >= 0))\n                     return;\n                 if ([\"null\", \"\"].indexOf(str) >= 0)\n                     return;\n                stringified(str);\n            });\n            ko.applyBindingsToNode(\n                element,\n                {\n                    value: stringified,\n                    valueUpdate: allBindings.get('valueUpdate'),\n                },\n                context,\n            );\n        }\n    };\n    var json_data = {\"formatted_vals\":[\"1\",\"2\",\"3\",\"4\",\"5\",\"6\",\"7\",\"8\",\"9\",\"10\",\"11\",\"12\",\"13\",\"14\",\"15\",\"16\",\"17\",\"18\",\"19\",\"20\",\"21\",\"22\"],\"changes\":WebIO.getval({\"name\":\"changes\",\"scope\":\"12195490656847676096\",\"id\":\"ob_60\",\"type\":\"observable\"}),\"index\":WebIO.getval({\"name\":\"index\",\"scope\":\"12195490656847676096\",\"id\":\"ob_59\",\"type\":\"observable\"})};\n    var self = this;\n    function AppViewModel() {\n        for (var key in json_data) {\n            var el = json_data[key];\n            this[key] = Array.isArray(el) ? ko.observableArray(el) : ko.observable(el);\n        }\n        \n        [this[\"formatted_val\"]=ko.computed(    function(){\n        return this.formatted_vals()[parseInt(this.index())-(1)];\n    }\n,this)]\n        [this[\"changes\"].subscribe((function (val){!(this.valueFromJulia[\"changes\"]) ? (WebIO.setval({\"name\":\"changes\",\"scope\":\"12195490656847676096\",\"id\":\"ob_60\",\"type\":\"observable\"},val)) : undefined; return this.valueFromJulia[\"changes\"]=false}),self),this[\"index\"].subscribe((function (val){!(this.valueFromJulia[\"index\"]) ? (WebIO.setval({\"name\":\"index\",\"scope\":\"12195490656847676096\",\"id\":\"ob_59\",\"type\":\"observable\"},val)) : undefined; return this.valueFromJulia[\"index\"]=false}),self)]\n        \n    }\n    self.model = new AppViewModel();\n    self.valueFromJulia = {};\n    for (var key in json_data) {\n        self.valueFromJulia[key] = false;\n    }\n    ko.applyBindings(self.model, self.dom);\n}\n);\n    (WebIO.importBlock({\"data\":[{\"name\":\"knockout\",\"type\":\"js\",\"url\":\"/assetserver/b327bb35fde3fdc34a3743cc513d8641da41be57-knockout.js\"},{\"name\":\"knockout_punches\",\"type\":\"js\",\"url\":\"/assetserver/fafd688372851144045ba947dbd84da3abb05ea8-knockout_punches.js\"}],\"type\":\"async_block\"})).then((imports) => handler.apply(this, imports));\n}\n"
            ],
            "observables": {
             "changes": {
              "id": "ob_60",
              "sync": false,
              "value": 0
             },
             "index": {
              "id": "ob_59",
              "sync": true,
              "value": 1
             }
            },
            "systemjs_options": null
           },
           "nodeType": "Scope",
           "props": {},
           "type": "node"
          }
         ],
         "instanceArgs": {
          "namespace": "html",
          "tag": "div"
         },
         "nodeType": "DOM",
         "props": {
          "className": "field interact-widget"
         },
         "type": "node"
        },
        {
         "children": [
          {
           "children": [],
           "instanceArgs": {
            "id": "ob_66",
            "name": "obs-node"
           },
           "nodeType": "ObservableNode",
           "props": {},
           "type": "node"
          }
         ],
         "instanceArgs": {
          "handlers": {},
          "id": "1372970795928606028",
          "imports": {
           "data": [],
           "type": "async_block"
          },
          "mount_callbacks": [],
          "observables": {
           "obs-node": {
            "id": "ob_66",
            "sync": false,
            "value": {
             "children": [
              {
               "children": [],
               "instanceArgs": {
                "namespace": "html",
                "tag": "div"
               },
               "nodeType": "DOM",
               "props": {
                "setInnerHtml": "<?xml version=\"1.0\" encoding=\"utf-8\"?>\n<svg xmlns=\"http://www.w3.org/2000/svg\" xmlns:xlink=\"http://www.w3.org/1999/xlink\" width=\"600\" height=\"400\" viewBox=\"0 0 2400 1600\">\n<defs>\n  <clipPath id=\"clip4900\">\n    <rect x=\"0\" y=\"0\" width=\"2400\" height=\"1600\"/>\n  </clipPath>\n</defs>\n<path clip-path=\"url(#clip4900)\" d=\"\nM0 1600 L2400 1600 L2400 0 L0 0  Z\n  \" fill=\"#ffffff\" fill-rule=\"evenodd\" fill-opacity=\"1\"/>\n<defs>\n  <clipPath id=\"clip4901\">\n    <rect x=\"480\" y=\"0\" width=\"1681\" height=\"1600\"/>\n  </clipPath>\n</defs>\n<path clip-path=\"url(#clip4900)\" d=\"\nM513.14 1487.47 L1953.37 1487.47 L1953.37 47.2441 L513.14 47.2441  Z\n  \" fill=\"#ffffff\" fill-rule=\"evenodd\" fill-opacity=\"1\"/>\n<defs>\n  <clipPath id=\"clip4902\">\n    <rect x=\"513\" y=\"47\" width=\"1441\" height=\"1441\"/>\n  </clipPath>\n</defs>\n<polyline clip-path=\"url(#clip4902)\" style=\"stroke:#000000; stroke-width:2; stroke-opacity:0.1; fill:none\" points=\"\n  689.772,47.2441 689.772,1487.47 \n  \"/>\n<polyline clip-path=\"url(#clip4902)\" style=\"stroke:#000000; stroke-width:2; stroke-opacity:0.1; fill:none\" points=\"\n  961.514,47.2441 961.514,1487.47 \n  \"/>\n<polyline clip-path=\"url(#clip4902)\" style=\"stroke:#000000; stroke-width:2; stroke-opacity:0.1; fill:none\" points=\"\n  1233.26,47.2441 1233.26,1487.47 \n  \"/>\n<polyline clip-path=\"url(#clip4902)\" style=\"stroke:#000000; stroke-width:2; stroke-opacity:0.1; fill:none\" points=\"\n  1505,47.2441 1505,1487.47 \n  \"/>\n<polyline clip-path=\"url(#clip4902)\" style=\"stroke:#000000; stroke-width:2; stroke-opacity:0.1; fill:none\" points=\"\n  1776.74,47.2441 1776.74,1487.47 \n  \"/>\n<polyline clip-path=\"url(#clip4902)\" style=\"stroke:#000000; stroke-width:2; stroke-opacity:0.1; fill:none\" points=\"\n  513.14,223.876 1953.37,223.876 \n  \"/>\n<polyline clip-path=\"url(#clip4902)\" style=\"stroke:#000000; stroke-width:2; stroke-opacity:0.1; fill:none\" points=\"\n  513.14,495.618 1953.37,495.618 \n  \"/>\n<polyline clip-path=\"url(#clip4902)\" style=\"stroke:#000000; stroke-width:2; stroke-opacity:0.1; fill:none\" points=\"\n  513.14,767.359 1953.37,767.359 \n  \"/>\n<polyline clip-path=\"url(#clip4902)\" style=\"stroke:#000000; stroke-width:2; stroke-opacity:0.1; fill:none\" points=\"\n  513.14,1039.1 1953.37,1039.1 \n  \"/>\n<polyline clip-path=\"url(#clip4902)\" style=\"stroke:#000000; stroke-width:2; stroke-opacity:0.1; fill:none\" points=\"\n  513.14,1310.84 1953.37,1310.84 \n  \"/>\n<polygon clip-path=\"url(#clip4902)\" style=\"fill:#000000; fill-opacity:1\" points=\"\n  565.772,99.8762 565.772,347.876 813.772,347.876 813.772,99.8762 565.772,99.8762 \n  \"/>\n<polygon clip-path=\"url(#clip4902)\" style=\"fill:#000000; fill-opacity:1\" points=\"\n  569.772,103.876 569.772,343.876 809.772,343.876 809.772,103.876 569.772,103.876 \n  \"/>\n<polygon clip-path=\"url(#clip4902)\" style=\"fill:#000000; fill-opacity:1\" points=\"\n  837.514,99.8762 837.514,347.876 1085.51,347.876 1085.51,99.8762 837.514,99.8762 \n  \"/>\n<polygon clip-path=\"url(#clip4902)\" style=\"fill:#000000; fill-opacity:1\" points=\"\n  841.514,103.876 841.514,343.876 1081.51,343.876 1081.51,103.876 841.514,103.876 \n  \"/>\n<polygon clip-path=\"url(#clip4902)\" style=\"fill:#000000; fill-opacity:1\" points=\"\n  1109.26,99.8762 1109.26,347.876 1357.26,347.876 1357.26,99.8762 1109.26,99.8762 \n  \"/>\n<polygon clip-path=\"url(#clip4902)\" style=\"fill:#000000; fill-opacity:1\" points=\"\n  1113.26,103.876 1113.26,343.876 1353.26,343.876 1353.26,103.876 1113.26,103.876 \n  \"/>\n<polygon clip-path=\"url(#clip4902)\" style=\"fill:#000000; fill-opacity:1\" points=\"\n  1381,99.8762 1381,347.876 1629,347.876 1629,99.8762 1381,99.8762 \n  \"/>\n<polygon clip-path=\"url(#clip4902)\" style=\"fill:#000000; fill-opacity:1\" points=\"\n  1385,103.876 1385,343.876 1625,343.876 1625,103.876 1385,103.876 \n  \"/>\n<polygon clip-path=\"url(#clip4902)\" style=\"fill:#000000; fill-opacity:1\" points=\"\n  1652.74,99.8762 1652.74,347.876 1900.74,347.876 1900.74,99.8762 1652.74,99.8762 \n  \"/>\n<polygon clip-path=\"url(#clip4902)\" style=\"fill:#000000; fill-opacity:1\" points=\"\n  1656.74,103.876 1656.74,343.876 1896.74,343.876 1896.74,103.876 1656.74,103.876 \n  \"/>\n<polygon clip-path=\"url(#clip4902)\" style=\"fill:#000000; fill-opacity:1\" points=\"\n  565.772,371.618 565.772,619.618 813.772,619.618 813.772,371.618 565.772,371.618 \n  \"/>\n<polygon clip-path=\"url(#clip4902)\" style=\"fill:#000000; fill-opacity:1\" points=\"\n  569.772,375.618 569.772,615.618 809.772,615.618 809.772,375.618 569.772,375.618 \n  \"/>\n<polygon clip-path=\"url(#clip4902)\" style=\"fill:#000000; fill-opacity:1\" points=\"\n  837.514,371.618 837.514,619.618 1085.51,619.618 1085.51,371.618 837.514,371.618 \n  \"/>\n<polygon clip-path=\"url(#clip4902)\" style=\"fill:#000000; fill-opacity:1\" points=\"\n  841.514,375.618 841.514,615.618 1081.51,615.618 1081.51,375.618 841.514,375.618 \n  \"/>\n<polygon clip-path=\"url(#clip4902)\" style=\"fill:#000000; fill-opacity:1\" points=\"\n  1109.26,371.618 1109.26,619.618 1357.26,619.618 1357.26,371.618 1109.26,371.618 \n  \"/>\n<polygon clip-path=\"url(#clip4902)\" style=\"fill:#000000; fill-opacity:1\" points=\"\n  1113.26,375.618 1113.26,615.618 1353.26,615.618 1353.26,375.618 1113.26,375.618 \n  \"/>\n<polygon clip-path=\"url(#clip4902)\" style=\"fill:#000000; fill-opacity:1\" points=\"\n  1381,371.618 1381,619.618 1629,619.618 1629,371.618 1381,371.618 \n  \"/>\n<polygon clip-path=\"url(#clip4902)\" style=\"fill:#000000; fill-opacity:1\" points=\"\n  1385,375.618 1385,615.618 1625,615.618 1625,375.618 1385,375.618 \n  \"/>\n<polygon clip-path=\"url(#clip4902)\" style=\"fill:#000000; fill-opacity:1\" points=\"\n  1652.74,371.618 1652.74,619.618 1900.74,619.618 1900.74,371.618 1652.74,371.618 \n  \"/>\n<polygon clip-path=\"url(#clip4902)\" style=\"fill:#000000; fill-opacity:1\" points=\"\n  1656.74,375.618 1656.74,615.618 1896.74,615.618 1896.74,375.618 1656.74,375.618 \n  \"/>\n<polygon clip-path=\"url(#clip4902)\" style=\"fill:#000000; fill-opacity:1\" points=\"\n  565.772,643.359 565.772,891.359 813.772,891.359 813.772,643.359 565.772,643.359 \n  \"/>\n<polygon clip-path=\"url(#clip4902)\" style=\"fill:#000000; fill-opacity:1\" points=\"\n  569.772,647.359 569.772,887.359 809.772,887.359 809.772,647.359 569.772,647.359 \n  \"/>\n<polygon clip-path=\"url(#clip4902)\" style=\"fill:#000000; fill-opacity:1\" points=\"\n  837.514,643.359 837.514,891.359 1085.51,891.359 1085.51,643.359 837.514,643.359 \n  \"/>\n<polygon clip-path=\"url(#clip4902)\" style=\"fill:#000000; fill-opacity:1\" points=\"\n  841.514,647.359 841.514,887.359 1081.51,887.359 1081.51,647.359 841.514,647.359 \n  \"/>\n<polygon clip-path=\"url(#clip4902)\" style=\"fill:#000000; fill-opacity:1\" points=\"\n  1109.26,643.359 1109.26,891.359 1357.26,891.359 1357.26,643.359 1109.26,643.359 \n  \"/>\n<polygon clip-path=\"url(#clip4902)\" style=\"fill:#000000; fill-opacity:1\" points=\"\n  1113.26,647.359 1113.26,887.359 1353.26,887.359 1353.26,647.359 1113.26,647.359 \n  \"/>\n<polygon clip-path=\"url(#clip4902)\" style=\"fill:#000000; fill-opacity:1\" points=\"\n  1381,643.359 1381,891.359 1629,891.359 1629,643.359 1381,643.359 \n  \"/>\n<polygon clip-path=\"url(#clip4902)\" style=\"fill:#000000; fill-opacity:1\" points=\"\n  1385,647.359 1385,887.359 1625,887.359 1625,647.359 1385,647.359 \n  \"/>\n<polygon clip-path=\"url(#clip4902)\" style=\"fill:#000000; fill-opacity:1\" points=\"\n  1652.74,643.359 1652.74,891.359 1900.74,891.359 1900.74,643.359 1652.74,643.359 \n  \"/>\n<polygon clip-path=\"url(#clip4902)\" style=\"fill:#000000; fill-opacity:1\" points=\"\n  1656.74,647.359 1656.74,887.359 1896.74,887.359 1896.74,647.359 1656.74,647.359 \n  \"/>\n<polygon clip-path=\"url(#clip4902)\" style=\"fill:#000000; fill-opacity:1\" points=\"\n  565.772,915.101 565.772,1163.1 813.772,1163.1 813.772,915.101 565.772,915.101 \n  \"/>\n<polygon clip-path=\"url(#clip4902)\" style=\"fill:#000000; fill-opacity:1\" points=\"\n  569.772,919.101 569.772,1159.1 809.772,1159.1 809.772,919.101 569.772,919.101 \n  \"/>\n<polygon clip-path=\"url(#clip4902)\" style=\"fill:#000000; fill-opacity:1\" points=\"\n  837.514,915.101 837.514,1163.1 1085.51,1163.1 1085.51,915.101 837.514,915.101 \n  \"/>\n<polygon clip-path=\"url(#clip4902)\" style=\"fill:#000000; fill-opacity:1\" points=\"\n  841.514,919.101 841.514,1159.1 1081.51,1159.1 1081.51,919.101 841.514,919.101 \n  \"/>\n<polygon clip-path=\"url(#clip4902)\" style=\"fill:#000000; fill-opacity:1\" points=\"\n  1109.26,915.101 1109.26,1163.1 1357.26,1163.1 1357.26,915.101 1109.26,915.101 \n  \"/>\n<polygon clip-path=\"url(#clip4902)\" style=\"fill:#000000; fill-opacity:1\" points=\"\n  1113.26,919.101 1113.26,1159.1 1353.26,1159.1 1353.26,919.101 1113.26,919.101 \n  \"/>\n<polygon clip-path=\"url(#clip4902)\" style=\"fill:#000000; fill-opacity:1\" points=\"\n  1381,915.101 1381,1163.1 1629,1163.1 1629,915.101 1381,915.101 \n  \"/>\n<polygon clip-path=\"url(#clip4902)\" style=\"fill:#000000; fill-opacity:1\" points=\"\n  1385,919.101 1385,1159.1 1625,1159.1 1625,919.101 1385,919.101 \n  \"/>\n<polygon clip-path=\"url(#clip4902)\" style=\"fill:#000000; fill-opacity:1\" points=\"\n  1652.74,915.101 1652.74,1163.1 1900.74,1163.1 1900.74,915.101 1652.74,915.101 \n  \"/>\n<polygon clip-path=\"url(#clip4902)\" style=\"fill:#000000; fill-opacity:1\" points=\"\n  1656.74,919.101 1656.74,1159.1 1896.74,1159.1 1896.74,919.101 1656.74,919.101 \n  \"/>\n<polygon clip-path=\"url(#clip4902)\" style=\"fill:#000000; fill-opacity:1\" points=\"\n  565.772,1186.84 565.772,1434.84 813.772,1434.84 813.772,1186.84 565.772,1186.84 \n  \"/>\n<polygon clip-path=\"url(#clip4902)\" style=\"fill:#000000; fill-opacity:1\" points=\"\n  569.772,1190.84 569.772,1430.84 809.772,1430.84 809.772,1190.84 569.772,1190.84 \n  \"/>\n<polygon clip-path=\"url(#clip4902)\" style=\"fill:#000000; fill-opacity:1\" points=\"\n  837.514,1186.84 837.514,1434.84 1085.51,1434.84 1085.51,1186.84 837.514,1186.84 \n  \"/>\n<polygon clip-path=\"url(#clip4902)\" style=\"fill:#000000; fill-opacity:1\" points=\"\n  841.514,1190.84 841.514,1430.84 1081.51,1430.84 1081.51,1190.84 841.514,1190.84 \n  \"/>\n<polygon clip-path=\"url(#clip4902)\" style=\"fill:#000000; fill-opacity:1\" points=\"\n  1109.26,1186.84 1109.26,1434.84 1357.26,1434.84 1357.26,1186.84 1109.26,1186.84 \n  \"/>\n<polygon clip-path=\"url(#clip4902)\" style=\"fill:#000000; fill-opacity:1\" points=\"\n  1113.26,1190.84 1113.26,1430.84 1353.26,1430.84 1353.26,1190.84 1113.26,1190.84 \n  \"/>\n<polygon clip-path=\"url(#clip4902)\" style=\"fill:#000000; fill-opacity:1\" points=\"\n  1381,1186.84 1381,1434.84 1629,1434.84 1629,1186.84 1381,1186.84 \n  \"/>\n<polygon clip-path=\"url(#clip4902)\" style=\"fill:#000000; fill-opacity:1\" points=\"\n  1385,1190.84 1385,1430.84 1625,1430.84 1625,1190.84 1385,1190.84 \n  \"/>\n<polygon clip-path=\"url(#clip4902)\" style=\"fill:#000000; fill-opacity:1\" points=\"\n  1652.74,1186.84 1652.74,1434.84 1900.74,1434.84 1900.74,1186.84 1652.74,1186.84 \n  \"/>\n<polygon clip-path=\"url(#clip4902)\" style=\"fill:#000000; fill-opacity:1\" points=\"\n  1656.74,1190.84 1656.74,1430.84 1896.74,1430.84 1896.74,1190.84 1656.74,1190.84 \n  \"/>\n</svg>\n"
               },
               "type": "node"
              }
             ],
             "instanceArgs": {
              "namespace": "html",
              "tag": "div"
             },
             "nodeType": "DOM",
             "props": {
              "className": "interact-flex-row interact-widget"
             },
             "type": "node"
            }
           }
          },
          "systemjs_options": null
         },
         "nodeType": "Scope",
         "props": {},
         "type": "node"
        }
       ],
       "instanceArgs": {
        "namespace": "html",
        "tag": "div"
       },
       "nodeType": "DOM",
       "props": {},
       "type": "node"
      },
      "text/html": [
       "<div\n",
       "    class=\"webio-mountpoint\"\n",
       "    data-webio-mountpoint=\"11300787651409895992\"\n",
       ">\n",
       "    <script>\n",
       "    if (window.require && require.defined && require.defined(\"nbextensions/webio-jupyter-notebook\")) {\n",
       "        console.log(\"Jupyter WebIO extension detected, not mounting.\");\n",
       "    } else if (window.WebIO) {\n",
       "        WebIO.mount(\n",
       "            document.querySelector('[data-webio-mountpoint=\"11300787651409895992\"]'),\n",
       "            {\"props\":{},\"nodeType\":\"DOM\",\"type\":\"node\",\"instanceArgs\":{\"namespace\":\"html\",\"tag\":\"div\"},\"children\":[{\"props\":{\"className\":\"field interact-widget\"},\"nodeType\":\"DOM\",\"type\":\"node\",\"instanceArgs\":{\"namespace\":\"html\",\"tag\":\"div\"},\"children\":[{\"props\":{},\"nodeType\":\"Scope\",\"type\":\"node\",\"instanceArgs\":{\"imports\":{\"data\":[{\"name\":\"knockout\",\"type\":\"js\",\"url\":\"\\/assetserver\\/b327bb35fde3fdc34a3743cc513d8641da41be57-knockout.js\"},{\"name\":\"knockout_punches\",\"type\":\"js\",\"url\":\"\\/assetserver\\/fafd688372851144045ba947dbd84da3abb05ea8-knockout_punches.js\"},{\"name\":null,\"type\":\"js\",\"url\":\"\\/assetserver\\/0951cc8e3859f1a4385b65048fc97362f372e1c3-all.js\"},{\"name\":null,\"type\":\"css\",\"url\":\"\\/assetserver\\/0254bcb16087eaf6e9df2fd5de5adc1df098653e-style.css\"},{\"name\":null,\"type\":\"css\",\"url\":\"\\/assetserver\\/f84b8fbf74436201659eff389766269ff931e73a-bulma_confined.min.css\"}],\"type\":\"async_block\"},\"id\":\"12195490656847676096\",\"handlers\":{\"changes\":[\"(function (val){return (val!=this.model[\\\"changes\\\"]()) ? (this.valueFromJulia[\\\"changes\\\"]=true, this.model[\\\"changes\\\"](val)) : undefined})\"],\"index\":[\"(function (val){return (val!=this.model[\\\"index\\\"]()) ? (this.valueFromJulia[\\\"index\\\"]=true, this.model[\\\"index\\\"](val)) : undefined})\"]},\"systemjs_options\":null,\"mount_callbacks\":[\"function () {\\n    var handler = (function (ko, koPunches) {\\n    ko.punches.enableAll();\\n    ko.bindingHandlers.numericValue = {\\n        init: function(element, valueAccessor, allBindings, data, context) {\\n            var stringified = ko.observable(ko.unwrap(valueAccessor()));\\n            stringified.subscribe(function(value) {\\n                var val = parseFloat(value);\\n                if (!isNaN(val)) {\\n                    valueAccessor()(val);\\n                }\\n            });\\n            valueAccessor().subscribe(function(value) {\\n                var str = JSON.stringify(value);\\n                if ((str == \\\"0\\\") && ([\\\"-0\\\", \\\"-0.\\\"].indexOf(stringified()) >= 0))\\n                     return;\\n                 if ([\\\"null\\\", \\\"\\\"].indexOf(str) >= 0)\\n                     return;\\n                stringified(str);\\n            });\\n            ko.applyBindingsToNode(\\n                element,\\n                {\\n                    value: stringified,\\n                    valueUpdate: allBindings.get('valueUpdate'),\\n                },\\n                context,\\n            );\\n        }\\n    };\\n    var json_data = {\\\"formatted_vals\\\":[\\\"1\\\",\\\"2\\\",\\\"3\\\",\\\"4\\\",\\\"5\\\",\\\"6\\\",\\\"7\\\",\\\"8\\\",\\\"9\\\",\\\"10\\\",\\\"11\\\",\\\"12\\\",\\\"13\\\",\\\"14\\\",\\\"15\\\",\\\"16\\\",\\\"17\\\",\\\"18\\\",\\\"19\\\",\\\"20\\\",\\\"21\\\",\\\"22\\\"],\\\"changes\\\":WebIO.getval({\\\"name\\\":\\\"changes\\\",\\\"scope\\\":\\\"12195490656847676096\\\",\\\"id\\\":\\\"ob_60\\\",\\\"type\\\":\\\"observable\\\"}),\\\"index\\\":WebIO.getval({\\\"name\\\":\\\"index\\\",\\\"scope\\\":\\\"12195490656847676096\\\",\\\"id\\\":\\\"ob_59\\\",\\\"type\\\":\\\"observable\\\"})};\\n    var self = this;\\n    function AppViewModel() {\\n        for (var key in json_data) {\\n            var el = json_data[key];\\n            this[key] = Array.isArray(el) ? ko.observableArray(el) : ko.observable(el);\\n        }\\n        \\n        [this[\\\"formatted_val\\\"]=ko.computed(    function(){\\n        return this.formatted_vals()[parseInt(this.index())-(1)];\\n    }\\n,this)]\\n        [this[\\\"changes\\\"].subscribe((function (val){!(this.valueFromJulia[\\\"changes\\\"]) ? (WebIO.setval({\\\"name\\\":\\\"changes\\\",\\\"scope\\\":\\\"12195490656847676096\\\",\\\"id\\\":\\\"ob_60\\\",\\\"type\\\":\\\"observable\\\"},val)) : undefined; return this.valueFromJulia[\\\"changes\\\"]=false}),self),this[\\\"index\\\"].subscribe((function (val){!(this.valueFromJulia[\\\"index\\\"]) ? (WebIO.setval({\\\"name\\\":\\\"index\\\",\\\"scope\\\":\\\"12195490656847676096\\\",\\\"id\\\":\\\"ob_59\\\",\\\"type\\\":\\\"observable\\\"},val)) : undefined; return this.valueFromJulia[\\\"index\\\"]=false}),self)]\\n        \\n    }\\n    self.model = new AppViewModel();\\n    self.valueFromJulia = {};\\n    for (var key in json_data) {\\n        self.valueFromJulia[key] = false;\\n    }\\n    ko.applyBindings(self.model, self.dom);\\n}\\n);\\n    (WebIO.importBlock({\\\"data\\\":[{\\\"name\\\":\\\"knockout\\\",\\\"type\\\":\\\"js\\\",\\\"url\\\":\\\"\\/assetserver\\/b327bb35fde3fdc34a3743cc513d8641da41be57-knockout.js\\\"},{\\\"name\\\":\\\"knockout_punches\\\",\\\"type\\\":\\\"js\\\",\\\"url\\\":\\\"\\/assetserver\\/fafd688372851144045ba947dbd84da3abb05ea8-knockout_punches.js\\\"}],\\\"type\\\":\\\"async_block\\\"})).then((imports) => handler.apply(this, imports));\\n}\\n\"],\"observables\":{\"changes\":{\"sync\":false,\"id\":\"ob_60\",\"value\":0},\"index\":{\"sync\":true,\"id\":\"ob_59\",\"value\":1}}},\"children\":[{\"props\":{\"className\":\"interact-flex-row interact-widget\"},\"nodeType\":\"DOM\",\"type\":\"node\",\"instanceArgs\":{\"namespace\":\"html\",\"tag\":\"div\"},\"children\":[{\"props\":{\"className\":\"interact-flex-row-left\"},\"nodeType\":\"DOM\",\"type\":\"node\",\"instanceArgs\":{\"namespace\":\"html\",\"tag\":\"div\"},\"children\":[{\"props\":{\"className\":\"interact \",\"style\":{\"padding\":\"5px 10px 0px 10px\"}},\"nodeType\":\"DOM\",\"type\":\"node\",\"instanceArgs\":{\"namespace\":\"html\",\"tag\":\"label\"},\"children\":[\"\"]}]},{\"props\":{\"className\":\"interact-flex-row-center\"},\"nodeType\":\"DOM\",\"type\":\"node\",\"instanceArgs\":{\"namespace\":\"html\",\"tag\":\"div\"},\"children\":[{\"props\":{\"max\":22,\"min\":1,\"attributes\":{\"type\":\"range\",\"data-bind\":\"numericValue: index, valueUpdate: 'input', event: {change: function (){this.changes(this.changes()+1)}}\",\"orient\":\"horizontal\"},\"step\":1,\"className\":\"slider slider is-fullwidth\",\"style\":{}},\"nodeType\":\"DOM\",\"type\":\"node\",\"instanceArgs\":{\"namespace\":\"html\",\"tag\":\"input\"},\"children\":[]}]},{\"props\":{\"className\":\"interact-flex-row-right\"},\"nodeType\":\"DOM\",\"type\":\"node\",\"instanceArgs\":{\"namespace\":\"html\",\"tag\":\"div\"},\"children\":[{\"props\":{\"attributes\":{\"data-bind\":\"text: formatted_val\"}},\"nodeType\":\"DOM\",\"type\":\"node\",\"instanceArgs\":{\"namespace\":\"html\",\"tag\":\"p\"},\"children\":[]}]}]}]}]},{\"props\":{},\"nodeType\":\"Scope\",\"type\":\"node\",\"instanceArgs\":{\"imports\":{\"data\":[],\"type\":\"async_block\"},\"id\":\"1665637718815605892\",\"handlers\":{},\"systemjs_options\":null,\"mount_callbacks\":[],\"observables\":{\"obs-node\":{\"sync\":false,\"id\":\"ob_64\",\"value\":{\"props\":{\"className\":\"interact-flex-row interact-widget\"},\"nodeType\":\"DOM\",\"type\":\"node\",\"instanceArgs\":{\"namespace\":\"html\",\"tag\":\"div\"},\"children\":[{\"props\":{\"setInnerHtml\":\"<?xml version=\\\"1.0\\\" encoding=\\\"utf-8\\\"?>\\n<svg xmlns=\\\"http:\\/\\/www.w3.org\\/2000\\/svg\\\" xmlns:xlink=\\\"http:\\/\\/www.w3.org\\/1999\\/xlink\\\" width=\\\"600\\\" height=\\\"400\\\" viewBox=\\\"0 0 2400 1600\\\">\\n<defs>\\n  <clipPath id=\\\"clip4500\\\">\\n    <rect x=\\\"0\\\" y=\\\"0\\\" width=\\\"2400\\\" height=\\\"1600\\\"\\/>\\n  <\\/clipPath>\\n<\\/defs>\\n<path clip-path=\\\"url(#clip4500)\\\" d=\\\"\\nM0 1600 L2400 1600 L2400 0 L0 0  Z\\n  \\\" fill=\\\"#ffffff\\\" fill-rule=\\\"evenodd\\\" fill-opacity=\\\"1\\\"\\/>\\n<defs>\\n  <clipPath id=\\\"clip4501\\\">\\n    <rect x=\\\"480\\\" y=\\\"0\\\" width=\\\"1681\\\" height=\\\"1600\\\"\\/>\\n  <\\/clipPath>\\n<\\/defs>\\n<path clip-path=\\\"url(#clip4500)\\\" d=\\\"\\nM513.14 1487.47 L1953.37 1487.47 L1953.37 47.2441 L513.14 47.2441  Z\\n  \\\" fill=\\\"#ffffff\\\" fill-rule=\\\"evenodd\\\" fill-opacity=\\\"1\\\"\\/>\\n<defs>\\n  <clipPath id=\\\"clip4502\\\">\\n    <rect x=\\\"513\\\" y=\\\"47\\\" width=\\\"1441\\\" height=\\\"1441\\\"\\/>\\n  <\\/clipPath>\\n<\\/defs>\\n<polyline clip-path=\\\"url(#clip4502)\\\" style=\\\"stroke:#000000; stroke-width:2; stroke-opacity:0.1; fill:none\\\" points=\\\"\\n  689.772,47.2441 689.772,1487.47 \\n  \\\"\\/>\\n<polyline clip-path=\\\"url(#clip4502)\\\" style=\\\"stroke:#000000; stroke-width:2; stroke-opacity:0.1; fill:none\\\" points=\\\"\\n  961.514,47.2441 961.514,1487.47 \\n  \\\"\\/>\\n<polyline clip-path=\\\"url(#clip4502)\\\" style=\\\"stroke:#000000; stroke-width:2; stroke-opacity:0.1; fill:none\\\" points=\\\"\\n  1233.26,47.2441 1233.26,1487.47 \\n  \\\"\\/>\\n<polyline clip-path=\\\"url(#clip4502)\\\" style=\\\"stroke:#000000; stroke-width:2; stroke-opacity:0.1; fill:none\\\" points=\\\"\\n  1505,47.2441 1505,1487.47 \\n  \\\"\\/>\\n<polyline clip-path=\\\"url(#clip4502)\\\" style=\\\"stroke:#000000; stroke-width:2; stroke-opacity:0.1; fill:none\\\" points=\\\"\\n  1776.74,47.2441 1776.74,1487.47 \\n  \\\"\\/>\\n<polyline clip-path=\\\"url(#clip4502)\\\" style=\\\"stroke:#000000; stroke-width:2; stroke-opacity:0.1; fill:none\\\" points=\\\"\\n  513.14,223.876 1953.37,223.876 \\n  \\\"\\/>\\n<polyline clip-path=\\\"url(#clip4502)\\\" style=\\\"stroke:#000000; stroke-width:2; stroke-opacity:0.1; fill:none\\\" points=\\\"\\n  513.14,495.618 1953.37,495.618 \\n  \\\"\\/>\\n<polyline clip-path=\\\"url(#clip4502)\\\" style=\\\"stroke:#000000; stroke-width:2; stroke-opacity:0.1; fill:none\\\" points=\\\"\\n  513.14,767.359 1953.37,767.359 \\n  \\\"\\/>\\n<polyline clip-path=\\\"url(#clip4502)\\\" style=\\\"stroke:#000000; stroke-width:2; stroke-opacity:0.1; fill:none\\\" points=\\\"\\n  513.14,1039.1 1953.37,1039.1 \\n  \\\"\\/>\\n<polyline clip-path=\\\"url(#clip4502)\\\" style=\\\"stroke:#000000; stroke-width:2; stroke-opacity:0.1; fill:none\\\" points=\\\"\\n  513.14,1310.84 1953.37,1310.84 \\n  \\\"\\/>\\n<polygon clip-path=\\\"url(#clip4502)\\\" style=\\\"fill:#000000; fill-opacity:1\\\" points=\\\"\\n  565.772,99.8762 565.772,347.876 813.772,347.876 813.772,99.8762 565.772,99.8762 \\n  \\\"\\/>\\n<polygon clip-path=\\\"url(#clip4502)\\\" style=\\\"fill:#000000; fill-opacity:1\\\" points=\\\"\\n  569.772,103.876 569.772,343.876 809.772,343.876 809.772,103.876 569.772,103.876 \\n  \\\"\\/>\\n<polygon clip-path=\\\"url(#clip4502)\\\" style=\\\"fill:#000000; fill-opacity:1\\\" points=\\\"\\n  837.514,99.8762 837.514,347.876 1085.51,347.876 1085.51,99.8762 837.514,99.8762 \\n  \\\"\\/>\\n<polygon clip-path=\\\"url(#clip4502)\\\" style=\\\"fill:#000000; fill-opacity:1\\\" points=\\\"\\n  841.514,103.876 841.514,343.876 1081.51,343.876 1081.51,103.876 841.514,103.876 \\n  \\\"\\/>\\n<polygon clip-path=\\\"url(#clip4502)\\\" style=\\\"fill:#000000; fill-opacity:1\\\" points=\\\"\\n  1109.26,99.8762 1109.26,347.876 1357.26,347.876 1357.26,99.8762 1109.26,99.8762 \\n  \\\"\\/>\\n<polygon clip-path=\\\"url(#clip4502)\\\" style=\\\"fill:#000000; fill-opacity:1\\\" points=\\\"\\n  1113.26,103.876 1113.26,343.876 1353.26,343.876 1353.26,103.876 1113.26,103.876 \\n  \\\"\\/>\\n<polygon clip-path=\\\"url(#clip4502)\\\" style=\\\"fill:#000000; fill-opacity:1\\\" points=\\\"\\n  1381,99.8762 1381,347.876 1629,347.876 1629,99.8762 1381,99.8762 \\n  \\\"\\/>\\n<polygon clip-path=\\\"url(#clip4502)\\\" style=\\\"fill:#000000; fill-opacity:1\\\" points=\\\"\\n  1385,103.876 1385,343.876 1625,343.876 1625,103.876 1385,103.876 \\n  \\\"\\/>\\n<polygon clip-path=\\\"url(#clip4502)\\\" style=\\\"fill:#000000; fill-opacity:1\\\" points=\\\"\\n  1652.74,99.8762 1652.74,347.876 1900.74,347.876 1900.74,99.8762 1652.74,99.8762 \\n  \\\"\\/>\\n<polygon clip-path=\\\"url(#clip4502)\\\" style=\\\"fill:#000000; fill-opacity:1\\\" points=\\\"\\n  1656.74,103.876 1656.74,343.876 1896.74,343.876 1896.74,103.876 1656.74,103.876 \\n  \\\"\\/>\\n<polygon clip-path=\\\"url(#clip4502)\\\" style=\\\"fill:#000000; fill-opacity:1\\\" points=\\\"\\n  565.772,371.618 565.772,619.618 813.772,619.618 813.772,371.618 565.772,371.618 \\n  \\\"\\/>\\n<polygon clip-path=\\\"url(#clip4502)\\\" style=\\\"fill:#000000; fill-opacity:1\\\" points=\\\"\\n  569.772,375.618 569.772,615.618 809.772,615.618 809.772,375.618 569.772,375.618 \\n  \\\"\\/>\\n<polygon clip-path=\\\"url(#clip4502)\\\" style=\\\"fill:#000000; fill-opacity:1\\\" points=\\\"\\n  837.514,371.618 837.514,619.618 1085.51,619.618 1085.51,371.618 837.514,371.618 \\n  \\\"\\/>\\n<polygon clip-path=\\\"url(#clip4502)\\\" style=\\\"fill:#000000; fill-opacity:1\\\" points=\\\"\\n  841.514,375.618 841.514,615.618 1081.51,615.618 1081.51,375.618 841.514,375.618 \\n  \\\"\\/>\\n<polygon clip-path=\\\"url(#clip4502)\\\" style=\\\"fill:#000000; fill-opacity:1\\\" points=\\\"\\n  1109.26,371.618 1109.26,619.618 1357.26,619.618 1357.26,371.618 1109.26,371.618 \\n  \\\"\\/>\\n<polygon clip-path=\\\"url(#clip4502)\\\" style=\\\"fill:#000000; fill-opacity:1\\\" points=\\\"\\n  1113.26,375.618 1113.26,615.618 1353.26,615.618 1353.26,375.618 1113.26,375.618 \\n  \\\"\\/>\\n<polygon clip-path=\\\"url(#clip4502)\\\" style=\\\"fill:#000000; fill-opacity:1\\\" points=\\\"\\n  1381,371.618 1381,619.618 1629,619.618 1629,371.618 1381,371.618 \\n  \\\"\\/>\\n<polygon clip-path=\\\"url(#clip4502)\\\" style=\\\"fill:#000000; fill-opacity:1\\\" points=\\\"\\n  1385,375.618 1385,615.618 1625,615.618 1625,375.618 1385,375.618 \\n  \\\"\\/>\\n<polygon clip-path=\\\"url(#clip4502)\\\" style=\\\"fill:#000000; fill-opacity:1\\\" points=\\\"\\n  1652.74,371.618 1652.74,619.618 1900.74,619.618 1900.74,371.618 1652.74,371.618 \\n  \\\"\\/>\\n<polygon clip-path=\\\"url(#clip4502)\\\" style=\\\"fill:#000000; fill-opacity:1\\\" points=\\\"\\n  1656.74,375.618 1656.74,615.618 1896.74,615.618 1896.74,375.618 1656.74,375.618 \\n  \\\"\\/>\\n<polygon clip-path=\\\"url(#clip4502)\\\" style=\\\"fill:#000000; fill-opacity:1\\\" points=\\\"\\n  565.772,643.359 565.772,891.359 813.772,891.359 813.772,643.359 565.772,643.359 \\n  \\\"\\/>\\n<polygon clip-path=\\\"url(#clip4502)\\\" style=\\\"fill:#000000; fill-opacity:1\\\" points=\\\"\\n  569.772,647.359 569.772,887.359 809.772,887.359 809.772,647.359 569.772,647.359 \\n  \\\"\\/>\\n<polygon clip-path=\\\"url(#clip4502)\\\" style=\\\"fill:#000000; fill-opacity:1\\\" points=\\\"\\n  837.514,643.359 837.514,891.359 1085.51,891.359 1085.51,643.359 837.514,643.359 \\n  \\\"\\/>\\n<polygon clip-path=\\\"url(#clip4502)\\\" style=\\\"fill:#000000; fill-opacity:1\\\" points=\\\"\\n  841.514,647.359 841.514,887.359 1081.51,887.359 1081.51,647.359 841.514,647.359 \\n  \\\"\\/>\\n<polygon clip-path=\\\"url(#clip4502)\\\" style=\\\"fill:#000000; fill-opacity:1\\\" points=\\\"\\n  1109.26,643.359 1109.26,891.359 1357.26,891.359 1357.26,643.359 1109.26,643.359 \\n  \\\"\\/>\\n<polygon clip-path=\\\"url(#clip4502)\\\" style=\\\"fill:#000000; fill-opacity:1\\\" points=\\\"\\n  1113.26,647.359 1113.26,887.359 1353.26,887.359 1353.26,647.359 1113.26,647.359 \\n  \\\"\\/>\\n<polygon clip-path=\\\"url(#clip4502)\\\" style=\\\"fill:#000000; fill-opacity:1\\\" points=\\\"\\n  1381,643.359 1381,891.359 1629,891.359 1629,643.359 1381,643.359 \\n  \\\"\\/>\\n<polygon clip-path=\\\"url(#clip4502)\\\" style=\\\"fill:#000000; fill-opacity:1\\\" points=\\\"\\n  1385,647.359 1385,887.359 1625,887.359 1625,647.359 1385,647.359 \\n  \\\"\\/>\\n<polygon clip-path=\\\"url(#clip4502)\\\" style=\\\"fill:#000000; fill-opacity:1\\\" points=\\\"\\n  1652.74,643.359 1652.74,891.359 1900.74,891.359 1900.74,643.359 1652.74,643.359 \\n  \\\"\\/>\\n<polygon clip-path=\\\"url(#clip4502)\\\" style=\\\"fill:#000000; fill-opacity:1\\\" points=\\\"\\n  1656.74,647.359 1656.74,887.359 1896.74,887.359 1896.74,647.359 1656.74,647.359 \\n  \\\"\\/>\\n<polygon clip-path=\\\"url(#clip4502)\\\" style=\\\"fill:#000000; fill-opacity:1\\\" points=\\\"\\n  565.772,915.101 565.772,1163.1 813.772,1163.1 813.772,915.101 565.772,915.101 \\n  \\\"\\/>\\n<polygon clip-path=\\\"url(#clip4502)\\\" style=\\\"fill:#000000; fill-opacity:1\\\" points=\\\"\\n  569.772,919.101 569.772,1159.1 809.772,1159.1 809.772,919.101 569.772,919.101 \\n  \\\"\\/>\\n<polygon clip-path=\\\"url(#clip4502)\\\" style=\\\"fill:#000000; fill-opacity:1\\\" points=\\\"\\n  837.514,915.101 837.514,1163.1 1085.51,1163.1 1085.51,915.101 837.514,915.101 \\n  \\\"\\/>\\n<polygon clip-path=\\\"url(#clip4502)\\\" style=\\\"fill:#000000; fill-opacity:1\\\" points=\\\"\\n  841.514,919.101 841.514,1159.1 1081.51,1159.1 1081.51,919.101 841.514,919.101 \\n  \\\"\\/>\\n<polygon clip-path=\\\"url(#clip4502)\\\" style=\\\"fill:#000000; fill-opacity:1\\\" points=\\\"\\n  1109.26,915.101 1109.26,1163.1 1357.26,1163.1 1357.26,915.101 1109.26,915.101 \\n  \\\"\\/>\\n<polygon clip-path=\\\"url(#clip4502)\\\" style=\\\"fill:#000000; fill-opacity:1\\\" points=\\\"\\n  1113.26,919.101 1113.26,1159.1 1353.26,1159.1 1353.26,919.101 1113.26,919.101 \\n  \\\"\\/>\\n<polygon clip-path=\\\"url(#clip4502)\\\" style=\\\"fill:#000000; fill-opacity:1\\\" points=\\\"\\n  1381,915.101 1381,1163.1 1629,1163.1 1629,915.101 1381,915.101 \\n  \\\"\\/>\\n<polygon clip-path=\\\"url(#clip4502)\\\" style=\\\"fill:#000000; fill-opacity:1\\\" points=\\\"\\n  1385,919.101 1385,1159.1 1625,1159.1 1625,919.101 1385,919.101 \\n  \\\"\\/>\\n<polygon clip-path=\\\"url(#clip4502)\\\" style=\\\"fill:#000000; fill-opacity:1\\\" points=\\\"\\n  1652.74,915.101 1652.74,1163.1 1900.74,1163.1 1900.74,915.101 1652.74,915.101 \\n  \\\"\\/>\\n<polygon clip-path=\\\"url(#clip4502)\\\" style=\\\"fill:#000000; fill-opacity:1\\\" points=\\\"\\n  1656.74,919.101 1656.74,1159.1 1896.74,1159.1 1896.74,919.101 1656.74,919.101 \\n  \\\"\\/>\\n<polygon clip-path=\\\"url(#clip4502)\\\" style=\\\"fill:#000000; fill-opacity:1\\\" points=\\\"\\n  565.772,1186.84 565.772,1434.84 813.772,1434.84 813.772,1186.84 565.772,1186.84 \\n  \\\"\\/>\\n<polygon clip-path=\\\"url(#clip4502)\\\" style=\\\"fill:#000000; fill-opacity:1\\\" points=\\\"\\n  569.772,1190.84 569.772,1430.84 809.772,1430.84 809.772,1190.84 569.772,1190.84 \\n  \\\"\\/>\\n<polygon clip-path=\\\"url(#clip4502)\\\" style=\\\"fill:#000000; fill-opacity:1\\\" points=\\\"\\n  837.514,1186.84 837.514,1434.84 1085.51,1434.84 1085.51,1186.84 837.514,1186.84 \\n  \\\"\\/>\\n<polygon clip-path=\\\"url(#clip4502)\\\" style=\\\"fill:#000000; fill-opacity:1\\\" points=\\\"\\n  841.514,1190.84 841.514,1430.84 1081.51,1430.84 1081.51,1190.84 841.514,1190.84 \\n  \\\"\\/>\\n<polygon clip-path=\\\"url(#clip4502)\\\" style=\\\"fill:#000000; fill-opacity:1\\\" points=\\\"\\n  1109.26,1186.84 1109.26,1434.84 1357.26,1434.84 1357.26,1186.84 1109.26,1186.84 \\n  \\\"\\/>\\n<polygon clip-path=\\\"url(#clip4502)\\\" style=\\\"fill:#000000; fill-opacity:1\\\" points=\\\"\\n  1113.26,1190.84 1113.26,1430.84 1353.26,1430.84 1353.26,1190.84 1113.26,1190.84 \\n  \\\"\\/>\\n<polygon clip-path=\\\"url(#clip4502)\\\" style=\\\"fill:#000000; fill-opacity:1\\\" points=\\\"\\n  1381,1186.84 1381,1434.84 1629,1434.84 1629,1186.84 1381,1186.84 \\n  \\\"\\/>\\n<polygon clip-path=\\\"url(#clip4502)\\\" style=\\\"fill:#000000; fill-opacity:1\\\" points=\\\"\\n  1385,1190.84 1385,1430.84 1625,1430.84 1625,1190.84 1385,1190.84 \\n  \\\"\\/>\\n<polygon clip-path=\\\"url(#clip4502)\\\" style=\\\"fill:#000000; fill-opacity:1\\\" points=\\\"\\n  1652.74,1186.84 1652.74,1434.84 1900.74,1434.84 1900.74,1186.84 1652.74,1186.84 \\n  \\\"\\/>\\n<polygon clip-path=\\\"url(#clip4502)\\\" style=\\\"fill:#000000; fill-opacity:1\\\" points=\\\"\\n  1656.74,1190.84 1656.74,1430.84 1896.74,1430.84 1896.74,1190.84 1656.74,1190.84 \\n  \\\"\\/>\\n<\\/svg>\\n\"},\"nodeType\":\"DOM\",\"type\":\"node\",\"instanceArgs\":{\"namespace\":\"html\",\"tag\":\"div\"},\"children\":[]}]}}}},\"children\":[{\"props\":{},\"nodeType\":\"ObservableNode\",\"type\":\"node\",\"instanceArgs\":{\"id\":\"ob_64\",\"name\":\"obs-node\"},\"children\":[]}]}]},\n",
       "            window,\n",
       "        );\n",
       "    } else {\n",
       "        document\n",
       "            .querySelector('[data-webio-mountpoint=\"11300787651409895992\"]')\n",
       "            .innerHTML = (\n",
       "                '<div style=\"padding: 1em; background-color: #f8d6da; border: 1px solid #f5c6cb\">' +\n",
       "                '<p><strong>WebIO not detected.</strong></p>' +\n",
       "                '<p>Please read ' +\n",
       "                '<a href=\"https://juliagizmos.github.io/WebIO.jl/latest/troubleshooting/not-detected/\" target=\"_blank\">the troubleshooting guide</a> ' +\n",
       "                'for more information on how to resolve this issue.</p>' +\n",
       "                '<p><a href=\"https://juliagizmos.github.io/WebIO.jl/latest/troubleshooting/not-detected/\" target=\"_blank\">https://juliagizmos.github.io/WebIO.jl/latest/troubleshooting/not-detected/</a></p>' +\n",
       "                '</div>'\n",
       "            );\n",
       "    }\n",
       "    </script>\n",
       "</div>\n"
      ],
      "text/plain": [
       "Node{WebIO.DOM}(WebIO.DOM(:html, :div), Any[Node{WebIO.DOM}(WebIO.DOM(:html, :div), Any[Scope(Node{WebIO.DOM}(WebIO.DOM(:html, :div), Any[Node{WebIO.DOM}(WebIO.DOM(:html, :div), Any[Node{WebIO.DOM}(WebIO.DOM(:html, :label), Any[nothing], Dict{Symbol,Any}(:className => \"interact \",:style => Dict{Any,Any}(:padding => \"5px 10px 0px 10px\")))], Dict{Symbol,Any}(:className => \"interact-flex-row-left\")), Node{WebIO.DOM}(WebIO.DOM(:html, :div), Any[Node{WebIO.DOM}(WebIO.DOM(:html, :input), Any[], Dict{Symbol,Any}(:max => 22,:min => 1,:attributes => Dict{Any,Any}(:type => \"range\",Symbol(\"data-bind\") => \"numericValue: index, valueUpdate: 'input', event: {change: function (){this.changes(this.changes()+1)}}\",\"orient\" => \"horizontal\"),:step => 1,:className => \"slider slider is-fullwidth\",:style => Dict{Any,Any}()))], Dict{Symbol,Any}(:className => \"interact-flex-row-center\")), Node{WebIO.DOM}(WebIO.DOM(:html, :div), Any[Node{WebIO.DOM}(WebIO.DOM(:html, :p), Any[], Dict{Symbol,Any}(:attributes => Dict(\"data-bind\" => \"text: formatted_val\")))], Dict{Symbol,Any}(:className => \"interact-flex-row-right\"))], Dict{Symbol,Any}(:className => \"interact-flex-row interact-widget\")), Dict{String,Tuple{Observables.AbstractObservable,Union{Nothing, Bool}}}(\"changes\" => (Observable{Int64} with 1 listeners. Value:\n",
       "0, nothing),\"index\" => (Observable{Int64} with 2 listeners. Value:\n",
       "1, nothing)), Set(String[]), nothing, Asset[Asset(\"js\", \"knockout\", \"/Users/edelman/.julia/packages/Knockout/1sDlc/src/../assets/knockout.js\"), Asset(\"js\", \"knockout_punches\", \"/Users/edelman/.julia/packages/Knockout/1sDlc/src/../assets/knockout_punches.js\"), Asset(\"js\", nothing, \"/Users/edelman/.julia/packages/InteractBase/9mFwe/src/../assets/all.js\"), Asset(\"css\", nothing, \"/Users/edelman/.julia/packages/InteractBase/9mFwe/src/../assets/style.css\"), Asset(\"css\", nothing, \"/Users/edelman/.julia/packages/Interact/SbgIk/src/../assets/bulma_confined.min.css\")], Dict{Any,Any}(\"changes\" => Any[WebIO.JSString(\"(function (val){return (val!=this.model[\\\"changes\\\"]()) ? (this.valueFromJulia[\\\"changes\\\"]=true, this.model[\\\"changes\\\"](val)) : undefined})\")],\"index\" => Any[WebIO.JSString(\"(function (val){return (val!=this.model[\\\"index\\\"]()) ? (this.valueFromJulia[\\\"index\\\"]=true, this.model[\\\"index\\\"](val)) : undefined})\")]), WebIO.ConnectionPool(Channel{Any}(sz_max:32,sz_curr:0), Set(AbstractConnection[]), Base.GenericCondition{Base.AlwaysLockedST}(Base.InvasiveLinkedList{Task}(Task (runnable) @0x000000011aac4910, Task (runnable) @0x000000011aac4910), Base.AlwaysLockedST(1))), WebIO.JSString[WebIO.JSString(\"function () {\\n    var handler = (function (ko, koPunches) {\\n    ko.punches.enableAll();\\n    ko.bindingHandlers.numericValue = {\\n        init: function(element, valueAccessor, allBindings, data, context) {\\n            var stringified = ko.observable(ko.unwrap(valueAccessor()));\\n            stringified.subscribe(function(value) {\\n                var val = parseFloat(value);\\n                if (!isNaN(val)) {\\n                    valueAccessor()(val);\\n                }\\n            });\\n            valueAccessor().subscribe(function(value) {\\n                var str = JSON.stringify(value);\\n                if ((str == \\\"0\\\") && ([\\\"-0\\\", \\\"-0.\\\"].indexOf(stringified()) >= 0))\\n                     return;\\n                 if ([\\\"null\\\", \\\"\\\"].indexOf(str) >= 0)\\n                     return;\\n                stringified(str);\\n            });\\n            ko.applyBindingsToNode(\\n                element,\\n                {\\n                    value: stringified,\\n                    valueUpdate: allBindings.get('valueUpdate'),\\n                },\\n                context,\\n            );\\n        }\\n    };\\n    var json_data = {\\\"formatted_vals\\\":[\\\"1\\\",\\\"2\\\",\\\"3\\\",\\\"4\\\",\\\"5\\\",\\\"6\\\",\\\"7\\\",\\\"8\\\",\\\"9\\\",\\\"10\\\",\\\"11\\\",\\\"12\\\",\\\"13\\\",\\\"14\\\",\\\"15\\\",\\\"16\\\",\\\"17\\\",\\\"18\\\",\\\"19\\\",\\\"20\\\",\\\"21\\\",\\\"22\\\"],\\\"changes\\\":WebIO.getval({\\\"name\\\":\\\"changes\\\",\\\"scope\\\":\\\"12195490656847676096\\\",\\\"id\\\":\\\"ob_60\\\",\\\"type\\\":\\\"observable\\\"}),\\\"index\\\":WebIO.getval({\\\"name\\\":\\\"index\\\",\\\"scope\\\":\\\"12195490656847676096\\\",\\\"id\\\":\\\"ob_59\\\",\\\"type\\\":\\\"observable\\\"})};\\n    var self = this;\\n    function AppViewModel() {\\n        for (var key in json_data) {\\n            var el = json_data[key];\\n            this[key] = Array.isArray(el) ? ko.observableArray(el) : ko.observable(el);\\n        }\\n        \\n        [this[\\\"formatted_val\\\"]=ko.computed(    function(){\\n        return this.formatted_vals()[parseInt(this.index())-(1)];\\n    }\\n,this)]\\n        [this[\\\"changes\\\"].subscribe((function (val){!(this.valueFromJulia[\\\"changes\\\"]) ? (WebIO.setval({\\\"name\\\":\\\"changes\\\",\\\"scope\\\":\\\"12195490656847676096\\\",\\\"id\\\":\\\"ob_60\\\",\\\"type\\\":\\\"observable\\\"},val)) : undefined; return this.valueFromJulia[\\\"changes\\\"]=false}),self),this[\\\"index\\\"].subscribe((function (val){!(this.valueFromJulia[\\\"index\\\"]) ? (WebIO.setval({\\\"name\\\":\\\"index\\\",\\\"scope\\\":\\\"12195490656847676096\\\",\\\"id\\\":\\\"ob_59\\\",\\\"type\\\":\\\"observable\\\"},val)) : undefined; return this.valueFromJulia[\\\"index\\\"]=false}),self)]\\n        \\n    }\\n    self.model = new AppViewModel();\\n    self.valueFromJulia = {};\\n    for (var key in json_data) {\\n        self.valueFromJulia[key] = false;\\n    }\\n    ko.applyBindings(self.model, self.dom);\\n}\\n);\\n    (WebIO.importBlock({\\\"data\\\":[{\\\"name\\\":\\\"knockout\\\",\\\"type\\\":\\\"js\\\",\\\"url\\\":\\\"/assetserver/b327bb35fde3fdc34a3743cc513d8641da41be57-knockout.js\\\"},{\\\"name\\\":\\\"knockout_punches\\\",\\\"type\\\":\\\"js\\\",\\\"url\\\":\\\"/assetserver/fafd688372851144045ba947dbd84da3abb05ea8-knockout_punches.js\\\"}],\\\"type\\\":\\\"async_block\\\"})).then((imports) => handler.apply(this, imports));\\n}\\n\")])], Dict{Symbol,Any}(:className => \"field interact-widget\")), Observable{Any} with 0 listeners. Value:\n",
       "Node{WebIO.DOM}(WebIO.DOM(:html, :div), Any[Plot{Plots.GRBackend() n=25}], Dict{Symbol,Any}(:className => \"interact-flex-row interact-widget\"))], Dict{Symbol,Any}())"
      ]
     },
     "execution_count": 34,
     "metadata": {
      "application/vnd.webio.node+json": {
       "kernelId": "a730407c-9a25-4713-9c06-1a7cc0638e37"
      }
     },
     "output_type": "execute_result"
    }
   ],
   "source": [
    "@manipulate for i=slider(1:length(v),value=1)\n",
    "      lookat(Akeep[i],redrow=row[i],showtext=false)\n",
    "end"
   ]
  },
  {
   "cell_type": "code",
   "execution_count": 18,
   "metadata": {},
   "outputs": [
    {
     "data": {
      "text/plain": [
       "2"
      ]
     },
     "execution_count": 18,
     "metadata": {},
     "output_type": "execute_result"
    }
   ],
   "source": [
    "1+1"
   ]
  },
  {
   "cell_type": "code",
   "execution_count": null,
   "metadata": {},
   "outputs": [],
   "source": []
  }
 ],
 "metadata": {
  "@webio": {
   "lastCommId": "537ab39c8c9d4cc28cd32c61c7ee5efd",
   "lastKernelId": "a730407c-9a25-4713-9c06-1a7cc0638e37"
  },
  "kernelspec": {
   "display_name": "Julia 1.3.0",
   "language": "julia",
   "name": "julia-1.3"
  },
  "language_info": {
   "file_extension": ".jl",
   "mimetype": "application/julia",
   "name": "julia",
   "version": "1.3.0"
  }
 },
 "nbformat": 4,
 "nbformat_minor": 2
}
