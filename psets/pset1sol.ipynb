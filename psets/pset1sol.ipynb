{
 "cells": [
  {
   "cell_type": "markdown",
   "id": "da8cd9a0-b916-4a38-8a27-cd0457777e6a",
   "metadata": {},
   "source": [
    "# 18.06 Pset 1 Solutions\n"
   ]
  },
  {
   "cell_type": "code",
   "execution_count": 1,
   "id": "297d5587",
   "metadata": {},
   "outputs": [],
   "source": [
    "using LinearAlgebra # useful to include this for any linear-algebra calculations"
   ]
  },
  {
   "cell_type": "markdown",
   "id": "1f995da7-27a7-4719-b75d-8467babca68a",
   "metadata": {
    "tags": []
   },
   "source": [
    "## Problem 1 (10 points)\n",
    "\n",
    "Suppose the matrix $A$ is a product of 3 matrices (as usual, blanks denote zeros):\n",
    "$$\n",
    "A = BCD = \n",
    "\\underbrace{\\begin{pmatrix}\n",
    "1 & 3 &  & 1 \\\\\n",
    " & 1 &  & 2 \\\\\n",
    " &  & 1 & 1 \\\\\n",
    " &  &  & 1\n",
    "\\end{pmatrix}}_B\n",
    "\\underbrace{\\begin{pmatrix}\n",
    "-1 &  &  &   \\\\\n",
    " & 2 &  &   \\\\\n",
    " &  & -3 &  \\\\\n",
    " &  &  & -2\n",
    "\\end{pmatrix}}_C\n",
    "\\underbrace{\n",
    "\\begin{pmatrix}\n",
    " &  &  & 1 \\\\\n",
    " &  & 1 & -1 \\\\\n",
    " & 1 &  & 3 \\\\\n",
    "1 & 1 &  & 1\n",
    "\\end{pmatrix}}_D\n",
    "$$\n",
    "\n",
    "**(a)**\n",
    "\n",
    "Solve\n",
    "$$\n",
    "Ax = \\begin{pmatrix}\n",
    "12 \\\\\n",
    "6 \\\\\n",
    "32 \\\\\n",
    "2\n",
    "\\end{pmatrix}\n",
    "$$\n",
    "for $x$ *without* using Gaussian elimination.\n",
    "\n",
    "(Hint: think about how we use LU factorization to solve equations.)\n",
    "    \n",
    "## Solution     \n",
    "To simplify the notation let $b =(12,6,32,2)$ so our goal is to solve $BCDx=b$ without using Gaussian elimination. The hint tells us to think of how we use LU factorization to solve $Ax=b$ so let us recall that. The idea was to write $Ax=LUx=b$ and denote $y=Ux$ and then solve $Ly=b$ for $y$. \n",
    "This was easy because $L$ is lower-triangular. Once we have $y$ we now solve $Ux=y$ for $x$, which is also easy because $U$ is upper-triangular.\n",
    "\n",
    "Going back to our setting, each of the matrices $B,C,D$ is simple so we should take advantage of that.\n",
    "\n",
    "1. Start by setting $y=CDx$ and solve\n",
    "$By=b$ for $y$ by back-substitution.\n",
    "2. Once $y=CDx$ is given let $z=Dx$ and solve $Cz=y$ for $z$: easy since $C$ is diagonal\n",
    "3. Once $z$ is given solve $Dx=z$ for $x$ by forward-substitution.\n",
    "\n",
    "Equivalently,\n",
    "$$x = A^{-1}b = \\boxed{D^{-1} \\underbrace{C^{-1} \\underbrace{B^{-1} b}_y}_z} \\, ,$$\n",
    "but as we've emphasized repeatedly in class, you don't *implement* this by explicitly inverting any matrices.   Instead you read \"$C^{-1} B^{-1} b$\" as a **sequence of 3 solves** from right to left, where for each solve you can **exploit the special matrix structure** do the solve by backsubstitution, diagonal division, and forward-substitution, respectively.\n",
    "\n",
    "* In contrast, a **terrible** way to solve this problem would be to multiply $BCD$ to get $A$ (a lot of work), then do Gaussian elimination on $A$ (a *lot* more work), then do forward/backsubstitution on $b$.   The whole point of Gaussian elimination is to factorize $A$ into \"nice\" matrices, but the matrix in this problem is *already factorized* into nice matrices.  Why throw away that structure and painfully re-create it?\n",
    "\n",
    "Implementing this idea we start with $By=b$ to get\n",
    "$$\n",
    "\\begin{align*}\n",
    "y_1+3y_2+y_4=12 \\\\\n",
    "y_2+2y_4=6  \\\\\n",
    "y_3+y_4=32 \\\\\n",
    "y_4=2\n",
    "\\end{align*}\n",
    "$$\n",
    "so the last equation gives $y_4=2$ Plugging $y_4=2$ into the third equation gives $y_3=30$ and plugging $y_4=2$ into the second equation gives $y_2=2$. The first equation then reads $12=y_1+(3\\times 2)+2=y_1+8$ so $y_1=4$. Hence, $y=(4, 2, 30, 2)$. Next we solve $Cz=y$ which reads\n",
    "$$\n",
    "\\begin{align*}\n",
    "-z_1=4 \\\\\n",
    "2z_2=2  \\\\\n",
    "-3z_3=30 \\\\\n",
    "-2z_4=2\n",
    "\\end{align*}\n",
    "$$\n",
    "so we immediately get $z=(-4, 1,-10,-1)$. It remains to solve $Dx=z$ which reads \n",
    "$$\n",
    "\\begin{align*}\n",
    "x_4=-4\\\\\n",
    "x_3-x_4=1\\\\\n",
    "x_2+3x_4=-10\n",
    "x_1+x_2+x_4=-1\n",
    "\\end{align*}\n",
    "$$\n",
    "so plugging in $x_4=-4$ into the second equation gives $x_3=-3$, and plugging in $x_4=-4$ into the third equation gives $x_2=2$. Finally, the last equation reads $x_1+2-4=-1$ so $x_1=1$. We conclude\n",
    "$$\n",
    "x = \\begin{pmatrix}\n",
    "1\\\\\n",
    "2 \\\\\n",
    "-3 \\\\\n",
    "-4\n",
    "\\end{pmatrix}.\n",
    "$$                                     \n",
    "\n",
    "**(b)**\n",
    "\n",
    "Check your answer in Julia.   The matrices `B`, `C`, and `D`, along with the right-hand-side `b`, are entered below for your convenience."
   ]
  },
  {
   "cell_type": "code",
   "execution_count": 2,
   "id": "de3ebfef",
   "metadata": {},
   "outputs": [
    {
     "data": {
      "text/plain": [
       "true"
      ]
     },
     "execution_count": 2,
     "metadata": {},
     "output_type": "execute_result"
    }
   ],
   "source": [
    "B = [1 3 0 1; 0 1 0 2; 0 0 1 1; 0 0 0 1]\n",
    "C = [-1 0 0 0; 0 2 0 0; 0 0 -3 0; 0 0 0 -2]\n",
    "D = [0 0 0 1; 0 0 1 -1; 0 1 0 3; 1 1 0 1]\n",
    "b = [12, 6, 32, 2]\n",
    "x=[1,2,-3,-4]\n",
    "\n",
    "B*C*D*x == b"
   ]
  },
  {
   "cell_type": "markdown",
   "id": "612f5935",
   "metadata": {},
   "source": [
    "or equivalently:"
   ]
  },
  {
   "cell_type": "code",
   "execution_count": 3,
   "id": "7ae82909",
   "metadata": {},
   "outputs": [
    {
     "data": {
      "text/plain": [
       "true"
      ]
     },
     "execution_count": 3,
     "metadata": {},
     "output_type": "execute_result"
    }
   ],
   "source": [
    "(B*C*D) \\ b ≈ x"
   ]
  },
  {
   "cell_type": "markdown",
   "id": "5fccdd16",
   "metadata": {
    "tags": []
   },
   "source": [
    "## Problem 2 (7+3+5 points)\n",
    "\n",
    "Consider the $5 \\times 5$ matrix:\n",
    "$$\n",
    "A = \\begin{pmatrix}\n",
    "1 & -1 &  &  &  \\\\\n",
    "2 & -1 & 1 &  &  \\\\\n",
    " & 3 & 4 & -2 &  \\\\\n",
    " &  & -2 & 5 & -2 \\\\\n",
    " &  &  & -1 & 3\n",
    "\\end{pmatrix}\n",
    "$$\n",
    "\n",
    "**(a)**\n",
    "\n",
    "Compute (by hand) its LU factorization $A = LU$ via Gaussian elimination (i.e. give both $L$ and $U$).\n",
    "\n",
    "Notice any special pattern to the nonzero entries?\n",
    "\n",
    "## Solution (a)\n",
    "We perform the Gaussian elimination as usual, but you should quickly notice that it is a *lot* easier than usual because so many of the entries are already zero.  This is quantified in part (c).\n",
    "\n",
    "We start by multiplying row 1 by 2 and subtracting it from row 2, denoted \"$r_2 - 2r_1$\", and proceed from there (putting boxes around the pivots and marking the multipliers in red):\n",
    "$$\n",
    "A\n",
    "\\stackrel{r_2 - \\color{red}{2}r_1}{\\longrightarrow}\n",
    "\\begin{pmatrix}\n",
    "\\boxed{1} & -1 &  &  &  \\\\\n",
    " & \\boxed{1} & 1 &  &  \\\\\n",
    " & 3 & 4 & -2 &  \\\\\n",
    " &  & -2 & 5 & -2 \\\\\n",
    " &  &  & -1 & 3\n",
    "\\end{pmatrix}\n",
    "\\stackrel{r_3 - \\color{red}{3}r_2}{\\longrightarrow}\n",
    "\\begin{pmatrix}\n",
    "\\boxed{1} & -1 &  &  &  \\\\\n",
    " & \\boxed{1} & 1 &  &  \\\\\n",
    " &  & \\boxed{1} & -2 &  \\\\\n",
    " &  & -2 & 5 & -2 \\\\\n",
    " &  &  & -1 & 3.\n",
    " \\end{pmatrix}\n",
    "\\stackrel{r_4 - \\color{red}{(-2)}r_3}{\\longrightarrow}\n",
    " \\begin{pmatrix}\n",
    "\\boxed{1} & -1 &  &  &  \\\\\n",
    " & \\boxed{1} & 1 &  &  \\\\\n",
    " &  & \\boxed{1} & -2 &  \\\\\n",
    " &  &  & \\boxed{1} & -2 \\\\\n",
    " &  &  & -1 & 3\n",
    "\\end{pmatrix}\n",
    "\\stackrel{r_5 - \\color{red}{(-1)}r_4}{\\longrightarrow}\n",
    "\\boxed{\n",
    "\\underbrace{\\begin{pmatrix}\n",
    "\\boxed{1} & -1 &  &  &  \\\\\n",
    " & \\boxed{1} & 1 &  &  \\\\\n",
    " &  & \\boxed{1} & -2 &  \\\\\n",
    " &  &  & \\boxed{1} & -2 \\\\\n",
    " &  &  &  & \\boxed{1}\n",
    "\\end{pmatrix}}_U} \\, .\n",
    "$$\n",
    "(The fact that the pivots all $=1$ is *very unusual* and doesn't happen for most matrices!)\n",
    "\n",
    "We also need $L$, but as emphasized in class, this requires no computation.\n",
    "In particular, $L$ has all 1s on its diagonal while the terms below the diagonal are the multipliers coming from the Gaussian elimination process (flipping subtraction to addition). This gives\n",
    "$$\n",
    "\\boxed{\n",
    "L=\n",
    "\\begin{pmatrix}\n",
    "1 &  &  &  &  \\\\\n",
    "\\color{red}{2} & 1 &  &  &  \\\\\n",
    " &  \\color{red}{3}& 1 &  &  \\\\\n",
    " &  &  \\color{red}{-2}& 1 & \\\\\n",
    " &  &  &  \\color{red}{-1}& 1\n",
    " \\end{pmatrix} } \\, .\n",
    "$$\n",
    "\n",
    "The pattern of nonzeros entries in this matrix $A$ is called [tridiagonal](https://en.wikipedia.org/wiki/Tridiagonal_matrix), and such matrices are important in many practical settings.   Moreover, we see that the $L$ and $U$ resulting from Gaussian elimination are [bidiagonal matrices](https://en.wikipedia.org/wiki/Bidiagonal_matrix), which have even fewere nonzero entries.    (These are all examples of structured [sparse matrices](https://en.wikipedia.org/wiki/Sparse_matrix), which are mostly zero in a regular pattern, and you can often do linear algebra *much* more quickly with such matrices than you could with an arbitrary matrix.)\n",
    "\n",
    "**(b)**\n",
    "\n",
    "The pattern of nonzeros entries in this matrix $A$ is called [tridiagonal](https://en.wikipedia.org/wiki/Tridiagonal_matrix), and you should have noticed that Gaussian elimination is a *lot* easier for a tridiagonal matrix than it would be on an arbitrary $5 \\times 5$ matrix.\n",
    "\n",
    "Julia has a special [`Tridiagonal`](https://docs.julialang.org/en/v1/stdlib/LinearAlgebra/#LinearAlgebra.Tridiagonal) matrix type in its LinearAlgebra library to exploit this structure.  You enter it something like this:"
   ]
  },
  {
   "cell_type": "code",
   "execution_count": 4,
   "id": "b6519598",
   "metadata": {},
   "outputs": [
    {
     "data": {
      "text/plain": [
       "5×5 Tridiagonal{Int64, Vector{Int64}}:\n",
       " 0  -1   ⋅   ⋅   ⋅\n",
       " 2   0   1   ⋅   ⋅\n",
       " ⋅   3   0  -2   ⋅\n",
       " ⋅   ⋅  -2   0  -2\n",
       " ⋅   ⋅   ⋅  -1   0"
      ]
     },
     "execution_count": 4,
     "metadata": {},
     "output_type": "execute_result"
    }
   ],
   "source": [
    "using LinearAlgebra # load the LinearAlgebra package\n",
    "\n",
    "# almost right:\n",
    "A = Tridiagonal([2, 3, -2, -1], [0,0,0,0,0], [-1, 1, -2, -2])"
   ]
  },
  {
   "cell_type": "markdown",
   "id": "d6907c08",
   "metadata": {},
   "source": [
    "The above code is not quite right for the matrix $A$ in this problem.  Fix it.  (Check the [`Tridiagonal` documentation](https://docs.julialang.org/en/v1/stdlib/LinearAlgebra/#LinearAlgebra.Tridiagonal) if it isn't obvious when you run the code.)\n",
    "\n",
    "Once it's fixed, check your $L$ and $U$ factors from **(a)** using the Julia `lu` function on `A`:"
   ]
  },
  {
   "cell_type": "markdown",
   "id": "40c893b9-8c2c-4d2b-a1b6-e082f07fe8df",
   "metadata": {},
   "source": [
    "## Solution (b)\n",
    "\n",
    "By inspection, the problem with `A` as entered above is that the diagonal entries are wrong.  Either by experimentation or by \"reading the fine manual\" you can quickly discover that the second argument to `Tridiagonal` (`[0,0,0,0,0]`, above) is an array of the diagonal entries.  (The first and third arguments are the \"subdiagonal\" and \"superdiagonal\" entries.)\n",
    "\n",
    "So, we can just change it to the correct diagonal entries `[1,-1,4,5,3]`:"
   ]
  },
  {
   "cell_type": "code",
   "execution_count": 6,
   "id": "2cab4ae7-e315-4759-8361-b6a946247bed",
   "metadata": {},
   "outputs": [
    {
     "data": {
      "text/plain": [
       "5×5 Tridiagonal{Int64, Vector{Int64}}:\n",
       " 1  -1   ⋅   ⋅   ⋅\n",
       " 2  -1   1   ⋅   ⋅\n",
       " ⋅   3   4  -2   ⋅\n",
       " ⋅   ⋅  -2   5  -2\n",
       " ⋅   ⋅   ⋅  -1   3"
      ]
     },
     "execution_count": 6,
     "metadata": {},
     "output_type": "execute_result"
    }
   ],
   "source": [
    "A = Tridiagonal([2, 3, -2, -1], [1,-1,4,5,3], [-1, 1, -2, -2])"
   ]
  },
  {
   "cell_type": "markdown",
   "id": "82ba5da7-d668-4904-aa40-e9bbd2590d03",
   "metadata": {},
   "source": [
    "Now that the matrix $A$ is correct we can check if our $LU$ decomposition was correct by:"
   ]
  },
  {
   "cell_type": "code",
   "execution_count": 7,
   "id": "f49db85d-2289-4e98-91dc-98298ba6a59f",
   "metadata": {},
   "outputs": [
    {
     "data": {
      "text/plain": [
       "LU{Float64, Tridiagonal{Float64, Vector{Float64}}}\n",
       "L factor:\n",
       "5×5 Matrix{Float64}:\n",
       " 1.0  0.0   0.0   0.0  0.0\n",
       " 2.0  1.0   0.0   0.0  0.0\n",
       " 0.0  3.0   1.0   0.0  0.0\n",
       " 0.0  0.0  -2.0   1.0  0.0\n",
       " 0.0  0.0   0.0  -1.0  1.0\n",
       "U factor:\n",
       "5×5 Matrix{Float64}:\n",
       " 1.0  -1.0  0.0   0.0   0.0\n",
       " 0.0   1.0  1.0   0.0   0.0\n",
       " 0.0   0.0  1.0  -2.0   0.0\n",
       " 0.0   0.0  0.0   1.0  -2.0\n",
       " 0.0   0.0  0.0   0.0   1.0"
      ]
     },
     "execution_count": 7,
     "metadata": {},
     "output_type": "execute_result"
    }
   ],
   "source": [
    "lu(A, NoPivot())"
   ]
  },
  {
   "cell_type": "markdown",
   "id": "4da809bb",
   "metadata": {},
   "source": [
    "**(c)**\n",
    "\n",
    "Suppose you carried out arithmetic at the *same rate*, but $A$ was **10 times** larger: a $50\\times 50$ tridiagonal matrix.\n",
    "\n",
    "About how much longer would part (a) have taken?  10 times, 100 times, 1000 times?\n",
    "\n",
    "## Solution (c)\n",
    "\n",
    "When we performed Gaussian elimination we note that the number of row operations we needed was essentially the number of rows of the matrix $A$, because we **only need to eliminate one entry under each pivot**.   Moreover, the **row subtractions only involve 1–2 elements per row** because the rows are **mostly zero**. \n",
    "\n",
    "So, since we only performed a fixed number of arithmetic operations per row, the computational cost **scales roughly linearly** (i.e. proportionately) with the number of rows.\n",
    "Hence, if $A$ is 10× larger the number of operations in the Gaussian elimination would be **about 10× larger**. \n",
    "\n",
    "This gives us the matrix $U$. The matrix $L$ requires no arithmetic at all since, as we saw in class, its entries are simply a record of the multipliers in the Gaussian elimination process.  \n",
    "\n",
    "(In contrast, we will see in lecture 6 that for a *general* matrix, the cost of Gaussian elimination scales roughly with the *cube* of the number of rows, so a 10× larger matrix takes about *1000×* longer.   It's really worthwhile to exploit special structure if your matrix has it!)"
   ]
  },
  {
   "cell_type": "markdown",
   "id": "4eb1ab8d",
   "metadata": {
    "tags": []
   },
   "source": [
    "## Problem 3 (7+3 points)\n",
    "\n",
    "Consider the following matrices:\n",
    "\n",
    "$$\n",
    "U = \\begin{pmatrix} 1 & 1 & -1 \\\\ 0 & 1 & 2 \\\\ 0 & 0 & 1 \\end{pmatrix}, \\;\n",
    "L = \\begin{pmatrix} 1 & 0 & 0 \\\\ -1 & 1 & 0 \\\\ -2 & 1 & 1 \\end{pmatrix}, \\;\n",
    "B = \\begin{pmatrix} 1 & 2 & 3 \\\\ 3 & 2 & 1 \\\\ 1 & 0 & 1 \\end{pmatrix}\n",
    "$$\n",
    "\n",
    "Let $A = U B^{-1} L$.\n",
    "\n",
    "**(a)** Compute the *second column* of $A^{-1}$.  (If you think about it, you can do it *without inverting any matrices*.)\n",
    "\n",
    "## Solution (a)\n",
    "\n",
    "Why should we expect to not invert any matrices?    From class, the second column of *any* matrix can be obtained by multiplying it by $e_2$, the second column of $I$.  That is, if $b$ denotes the second column of $A^{-1}$, we have $A^{-1}e_2=b$ where $e_2=[0,1,0]$.\n",
    "\n",
    "So, to get a *single column* of a matrix inverse, we *never* need to compute the whole inverse; we just need to solve a single linear system.  But it's even better in this case, because we have:\n",
    "$$\n",
    "b = A^{-1} e_2 = (U B^{-1} L)^{-1}  e_2 = \\underbrace{L^{-1} \\underbrace{B \\underbrace{U^{-1} e_2}_y}_z}_b\n",
    "$$\n",
    "Just as in problem 1, we evaluate this expression from *right to left*, and **multiplying a vector by a matrix inverse = a solve**, not an explicit matrix inversion.  (Notice, by the way, that the inverse of $B$ has disappeared!)\n",
    "\n",
    "In particular, the steps are:\n",
    "\n",
    "1. Compute $y = U^{-1} e_2$ by solving $Uy = e_2$ for $y$ using backsubstitution (since $U$ is upper triangular).\n",
    "2. Compute $z = By$.  Easy, just a matrix–vector multiply.\n",
    "3. Compute $b = L^{-1} z$ by solving $Lb = z$ for $b$ by forward-substitution (since $L$ is lower triangular).\n",
    "\n",
    "First, back-substitution for $Ub = e_2$ corresponds to:\n",
    "$$\n",
    "\\begin{align*}\n",
    "y_1+y_2-y_3=0\\\\\n",
    "y_2+2y_3=1\\\\\n",
    "y_3=0\n",
    "\\end{align*}.\n",
    "$$\n",
    "The last equation gives $y_3=0$ and plugging it into the second equation gives $y_2=1$. Using the first equation we get $y_1+1+0=0$ and hence $y_1=-1$. To conclude, $y=[-1,1,0]$.\n",
    "\n",
    "Second $z = By$ is easy because $B$ is provided, and gives $z=[1,-1,-1]$.\n",
    "\n",
    "Third, forward-substitution for $Lb=z$ is:\n",
    "$$\n",
    "\\begin{align*}\n",
    "b_1=1\\\\\n",
    "-b_1+b_2=-1\\\\\n",
    "-2b_1+b_2+b_3=-1\n",
    "\\end{align*}.\n",
    "$$\n",
    "The first equation gives $b_1=1$ and plugging it into the second equation gives $b_2=0$. The third equation then yields $-2+0+b_3=-1$ so that $b_3=1$. We conclude $\\boxed{b=[1,0,1]}$.\n",
    "\n",
    "**(b)** Check your answer by explicitly computing $A^{-1}$ in Julia.\n",
    "\n",
    "\n",
    "## Solution (b)"
   ]
  },
  {
   "cell_type": "code",
   "execution_count": 8,
   "id": "eb3f80c4",
   "metadata": {},
   "outputs": [
    {
     "data": {
      "text/plain": [
       "3×3 Matrix{Float64}:\n",
       "  1.0   1.0  2.0\n",
       "  4.0  -0.0  8.0\n",
       " -1.0   1.0  0.0"
      ]
     },
     "execution_count": 8,
     "metadata": {},
     "output_type": "execute_result"
    }
   ],
   "source": [
    "# fill these in:\n",
    "U = [1 1 -1; 0 1 2; 0 0 1]\n",
    "L = [1 0 0;-1 1 0;-2 1 1]\n",
    "B = [1 2 3; 3 2 1; 1 0 1]\n",
    "\n",
    "A = U * (B \\ L)  # computes UB⁻¹L\n",
    "A^-1 # computes A⁻¹"
   ]
  },
  {
   "cell_type": "markdown",
   "id": "412a3dd4",
   "metadata": {},
   "source": [
    "Yup, the second column of $A^{-1}$ is indeed `[1, 0, 1]`.\n",
    "\n",
    "(The `-0.0` is an interesting quirk of floating-point arithmetic: a [signed zero](https://en.wikipedia.org/wiki/Signed_zero).   Don't worry about it here: `-0.0 == 0.0` as you might expect.)"
   ]
  },
  {
   "cell_type": "markdown",
   "id": "0d8f4144",
   "metadata": {
    "jp-MarkdownHeadingCollapsed": true,
    "tags": []
   },
   "source": [
    "## Problem 4 (3+4+3 points)\n",
    "\n",
    "From Strang, section 2.6.  Consider $$L = \\begin{pmatrix} 1 & 0 & 0 \\\\ a & 1 & 0 \\\\ b & c & 1 \\end{pmatrix}$$ for some numbers $a,b,c$.\n",
    "\n",
    "**(a)** When you perform the usual Gaussian elimination steps to $L$, what matrix will you obtain?\n",
    "\n",
    "**(b)** If you apply the *same* row operations to $I$, what matrix will you get?\n",
    "\n",
    "**(c)** If you apply the *same* row operations to $LB$ for some $3\\times n$ matrix $B$, what will you get?\n",
    "\n",
    "\n",
    "## Solution\n",
    "\n",
    "**(a)** The usual Gaussian elimination method would suggest we firstly subtract $a$ times row 1 from row 2, and then subtract $b$ times row 1 from row 3 to give:\n",
    "$$\\begin{pmatrix} 1 & 0 & 0 \\\\ 0 & 1 & 0\\\\ 0 & c & 1\\end{pmatrix}$$\n",
    "We can then subtract $c$ times row 2 from row 3 to get \n",
    "$$\\begin{pmatrix} 1 & 0 & 0 \\\\ 0 & 1 & 0\\\\ 0 & 0 & 1\\end{pmatrix}$$\n",
    "So Gaussian elimination on $L$ yields the **identity matrix**.\n",
    "\n",
    "In fact, it is easy to see that Gaussian elimination applied to *any* lower-triangular matrix will just yield a diagonal matrix with the original diagonal entries (1s, in this case).\n",
    "\n",
    "**(b)** Applying the same sequence of row operations to the identity matrix yields\n",
    "\\begin{align}\n",
    "\\begin{pmatrix} 1 & 0 & 0 \\\\ 0 & 1 & 0\\\\ 0 & 0 & 1\\end{pmatrix} \\rightarrow \n",
    "\\begin{pmatrix} 1 & 0 & 0 \\\\ -a & 1 & 0\\\\ -b & 0 & 1\\end{pmatrix} \\rightarrow \n",
    "\\boxed{\\begin{pmatrix} 1 & 0 & 0 \\\\ -a & 1 & 0\\\\ ac-b & -c & 1\\end{pmatrix}}\n",
    "\\end{align}\n",
    "\n",
    "**(c)**\n",
    "\n",
    "Remember that if you do row operations to $L$ that give $I$, then those row operations are exactly equivalent to multiplying by $L^{-1}$ on the left.  So when you do these row operations to $I$ you will get $\\boxed{L^{-1}}$, i.e. $L^{-1} = \\begin{pmatrix} 1 & 0 & 0 \\\\ -a & 1 & 0\\\\ ac-b & -c & 1\\end{pmatrix}$\n",
    "\n",
    "Moreover, applying the same row operations to $LB$ is equivalent to multiplying on the left by the matrix $L^{-1}$, i.e. $L^{-1}(LB)$. But we can use the associativity of matrix multiplication: $L^{-1}(LB) = (L^{-1}L)B$. But $L^{-1}L=I$, and so applying these row operations to the product $LB$ will just yield the matrix $\\boxed{B}$. \n"
   ]
  },
  {
   "attachments": {
    "image-3.png": {
     "image/png": "[encoded data removed]"
    }
   },
   "cell_type": "markdown",
   "id": "63633602",
   "metadata": {},
   "source": [
    "## Problem 5 (7+3 points)\n",
    "\n",
    "Suppose that $A$ and $B$ are a $100 \\times 100$ matrices, and we break each of them into 4 equal blocks (\"sub-matrices\"):\n",
    "$$\n",
    "A = \\begin{pmatrix} A_1 & A_2 \\\\ A_3 & A_4 \\end{pmatrix}, \\qquad\n",
    "B = \\begin{pmatrix} B_1 & B_2 \\\\ B_3 & B_4 \\end{pmatrix}\n",
    "$$\n",
    "where each of the blocks $A_k$ and $B_k$ is a $50 \\times 50$ matrix.\n",
    "\n",
    "Let's write the product $C = AB$, another $100 \\times 100$ matrix, as another collection of 4 $50 \\times 50$ sub-matrices:\n",
    "$$\n",
    "C = AB = \\begin{pmatrix} C_1 & C_2 \\\\ C_3 & C_4 \\end{pmatrix}\n",
    "$$\n",
    "\n",
    "**(a)**\n",
    "\n",
    "Write a formula for $C_1$ (the upper-left $50 \\times 50$ block of $C$) in terms of matrix additions and multiplications of the blocks $A_1,\\ldots,A_4$ and $B_1,\\ldots,B_4$.\n",
    "\n",
    "(For example \"$C_1 = A_1 B_4 - A_4 B_1 + A_3 B_2$\" is the wrong answer, but is the type of thing I'm looking for.)\n",
    "\n",
    "(If you get confused, maybe draw a picture of how just one element of $C_1$ is computed from a row of $A$ times a column of $B$, and then think about how that dot product relates to sub-matrix products like $A_1 B_1$.  Alternatively, try it with a 4×4 matrix and 2×2 blocks.)\n",
    "\n",
    "## Solution (a)\n",
    "\n",
    "$\\boxed{C_1 = A_1 B_1+A_2 B_3}$.  You can see this in several ways, e.g. by writing out explicit summation formulas for the matrix product, but it is perhaps easiest to draw a diagram.\n",
    "\n",
    "![image-3.png](attachment:image-3.png)\n",
    "\n",
    "Consider $c_{ij}$, the $(i,j)$th entry of $C$, which is also the $(i,j)$th entry of $C_1$.\n",
    "This is the dot product of the i-th row of $A$ with the j-th column of $B$, as shown above.\n",
    "Immediately, we see that this only involves $A_1$, $A_2$, $B_1$, and $B_3$.\n",
    "\n",
    "Moreover, when you take this dot product, you can see from the diagram that it is equal to the **dot product of row i of A₁ with column j of B₁** *plus* the **dot product of row i of A₂ with column j of B₃**.   But this is exactly the **sum of the (i,j)th entries of A₁B₁ and A₂B₃**, or equivalently the **(i,j)th entry of A₁B₁+A₂B₃**!\n",
    "\n",
    "Since this is true for *all* the entries of $C_1$, we see that $C_1 = A_1 B_1+A_2 B_3$.\n",
    "\n",
    "Note that this problem is just one example of a general principle: we can multiply [\"blocked\" matrices](https://en.wikipedia.org/wiki/Block_matrix) like this just by the same \"rows times columns\" rule we would use if the blocks $A_j$ and $B_k$ were numbers (except that the multiplications are non-commutative, i.e. the $A$ blocks always need to multiply the $B$ blocks from the left). Even more generally, we can think of \"matrices\" *made out* of linear operators, i.e. linear operators on bigger vector spaces made out of smaller ones.  "
   ]
  },
  {
   "cell_type": "markdown",
   "id": "40eb54be",
   "metadata": {},
   "source": [
    "**(b)**\n",
    "\n",
    "Check your answer with a random matrix in Julia:\n",
    "\n",
    "## Solution (b)"
   ]
  },
  {
   "cell_type": "code",
   "execution_count": 9,
   "id": "3b6ddcf5",
   "metadata": {},
   "outputs": [
    {
     "data": {
      "text/plain": [
       "true"
      ]
     },
     "execution_count": 9,
     "metadata": {},
     "output_type": "execute_result"
    }
   ],
   "source": [
    "# 4 random blocks of A\n",
    "A1, A2, A3, A4 = rand(50,50), rand(50,50), rand(50,50), rand(50,50)\n",
    "\n",
    "# 4 randdom blocks of B\n",
    "B1, B2, B3, B4 = rand(50,50), rand(50,50), rand(50,50), rand(50,50)\n",
    "\n",
    "# make A and B out of these blocks:\n",
    "A = [A1 A2\n",
    "     A3 A4]\n",
    "B = [B1 B2\n",
    "     B3 B4]\n",
    "\n",
    "# make C = AB\n",
    "C = A*B\n",
    "\n",
    "# extract C₁ from the upper-left 50×50 block of C:\n",
    "C1 = C[1:50, 1:50]\n",
    "\n",
    "# finally, check that C1 equals (up to roundoff error) your formula from (a):\n",
    "\n",
    "your_C1 =(A1*B1)+(A2*B3)      # ← YOUR (a) HERE ...some formula in terms of A1,A2,A3,A4,B1,B2,B3,B4\n",
    "\n",
    "C1 ≈ your_C1    # should print \"true\""
   ]
  },
  {
   "cell_type": "markdown",
   "id": "2baaf799",
   "metadata": {
    "tags": []
   },
   "source": [
    "## Problem 6 (3+3+3+3 points)\n",
    "\n",
    "Suppose that we did something similar to Gaussian elimination on a matrix $A$, but with column operations rather than row operations, to turn it into the following matrix $B$:\n",
    "\n",
    "$$\n",
    "\\underbrace{\n",
    "\\begin{pmatrix}\n",
    "2 & 4 & 6 \\\\\n",
    "3 & 1 & 10 \\\\\n",
    " & -1 & 3\n",
    "\\end{pmatrix}}_A \\longrightarrow\n",
    "\\underbrace{\\begin{pmatrix}\n",
    "2 &  &  \\\\\n",
    "3 & -5 & 1 \\\\\n",
    " & -1 & 3\n",
    "\\end{pmatrix}}_B\n",
    "$$\n",
    "\n",
    "For example, we subtracted twice the first column of $A$ from the second column\n",
    "of $A$ to get the second column of $B$.\n",
    "\n",
    "**(a)**\n",
    "\n",
    "How did we get the third column of $B$ from columns of $A$?\n",
    "\n",
    "## Solution (a)\n",
    "\n",
    "We multiplied the first column of $A$ by 3 and subtracted it from the last column of $A$. \n",
    "\n",
    "**(b)**\n",
    "\n",
    "You can represent these column operations as a matrix multiplying $A$ on the _________ (**left** or **right**).\n",
    "\n",
    "## Solution (b)\n",
    "\n",
    "**Right.** Row operations can be represented as a matrix multiplying on the left while column operations can be represented as a matrix multiplying on the right.\n",
    "\n",
    "**(c)**\n",
    "\n",
    "Following your answer from (a), write $B$ as a matrix product of $A$ with some other matrix $E$.\n",
    "\n",
    "## Solution (c)\n",
    "\n",
    "By part (b) we know that $E$ will multiply $A$ on the right. The first column of $B$ is the same as $A$ which means that the first column on $E$ will be $(1,0,0)$. The second column of $B$ was obtained by subtracting twice of the first column of $A$ from the second column of $A$ which means that the second column of $E$ will be $(-2,1,0)$. In part (a) we showed that the third column of $B$ was obtained by multiplying the first column of $A$ by 3 and substracting it from the last column of $A$ which means that the third column of $E$ will be $(-3,0,1)$. We get\n",
    "$$\n",
    "\\boxed{E=\n",
    "\\begin{pmatrix}\n",
    "1 & -2 & -3\\\\\n",
    "0 & 1 & 0\\\\\n",
    "0 & 0& 1\n",
    "\\end{pmatrix}} \\, .\n",
    "$$\n",
    "\n",
    "**(d)**\n",
    "\n",
    "Enter your `E` in Julia and check that `B` is indeed given by the product in your previous part.\n",
    "\n",
    "## Solution (d)"
   ]
  },
  {
   "cell_type": "code",
   "execution_count": 10,
   "id": "232b4951",
   "metadata": {},
   "outputs": [
    {
     "data": {
      "text/plain": [
       "3×3 Matrix{Int64}:\n",
       " 1  -2  -3\n",
       " 0   1   0\n",
       " 0   0   1"
      ]
     },
     "execution_count": 10,
     "metadata": {},
     "output_type": "execute_result"
    }
   ],
   "source": [
    "A = [2 4 6; 3 1 10; 0 -1 3]\n",
    "B = [2 0 0; 3 -5 1; 0 -1 3]\n",
    "\n",
    "E = [1 -2 -3\n",
    "     0  1  0\n",
    "     0  0  1]"
   ]
  },
  {
   "cell_type": "code",
   "execution_count": 11,
   "id": "10d8376f",
   "metadata": {},
   "outputs": [
    {
     "data": {
      "text/plain": [
       "true"
      ]
     },
     "execution_count": 11,
     "metadata": {},
     "output_type": "execute_result"
    }
   ],
   "source": [
    "# check:\n",
    "B == A*E"
   ]
  }
 ],
 "metadata": {
  "@webio": {
   "lastCommId": null,
   "lastKernelId": null
  },
  "kernelspec": {
   "display_name": "Julia 1.7.1",
   "language": "julia",
   "name": "julia-1.7"
  },
  "language_info": {
   "file_extension": ".jl",
   "mimetype": "application/julia",
   "name": "julia",
   "version": "1.7.1"
  }
 },
 "nbformat": 4,
 "nbformat_minor": 5
}
