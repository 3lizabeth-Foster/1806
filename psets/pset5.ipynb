{
 "cells": [
  {
   "cell_type": "markdown",
   "metadata": {},
   "source": [
    "##### 18.06 Spring2019  pset 5 (under construction)\n",
    "## due  Wednesday  3/13 at 10:55am"
   ]
  },
  {
   "cell_type": "markdown",
   "metadata": {},
   "source": [
    "(1) (Exact Copy of Strang p.178 problem 29) What subspace of 3x3 matrices is spanned (take all combinations) by <br>\n",
    "(A) The invertible matrices? <br>\n",
    "(B) The rank one matrices? <br>\n",
    "(C) The identity matrix?"
   ]
  },
  {
   "cell_type": "markdown",
   "metadata": {},
   "source": [
    "(2) (A) Are the six three by three permutation matrices linearly dependent or linearly independent?  \n",
    "(B) Do they span the nine dimensional space of 3x3 matrices or a subspace (if so, what dimension?)\n",
    "You can do this with pencil and paper or optionally if you like code you can use the Julia code to help you:\n",
    "(explanations of all the syntax are provided) (C) Describe the subspace of 3x3 matrices spanned by the permutation matrices.\n",
    "\n",
    "Note: learning Julia is not required for this course.  You can optionally ignore the Julia for this problem,\n",
    "execute the Julia without understanding it, or try to understand the syntax.  Your choice depending on your interests and background.  The minimial time solution may be the second choice for many of you (look at the output without trying to fully\n",
    "understand the syntax.)"
   ]
  },
  {
   "cell_type": "code",
   "execution_count": 26,
   "metadata": {},
   "outputs": [
    {
     "data": {
      "text/plain": [
       "3×3 Array{Int64,2}:\n",
       " 1  0  0\n",
       " 0  1  0\n",
       " 0  0  1"
      ]
     },
     "metadata": {},
     "output_type": "display_data"
    },
    {
     "data": {
      "text/plain": [
       "3×3 Array{Int64,2}:\n",
       " 1  0  0\n",
       " 0  0  1\n",
       " 0  1  0"
      ]
     },
     "metadata": {},
     "output_type": "display_data"
    },
    {
     "data": {
      "text/plain": [
       "3×3 Array{Int64,2}:\n",
       " 0  1  0\n",
       " 1  0  0\n",
       " 0  0  1"
      ]
     },
     "metadata": {},
     "output_type": "display_data"
    },
    {
     "data": {
      "text/plain": [
       "3×3 Array{Int64,2}:\n",
       " 0  1  0\n",
       " 0  0  1\n",
       " 1  0  0"
      ]
     },
     "metadata": {},
     "output_type": "display_data"
    },
    {
     "data": {
      "text/plain": [
       "3×3 Array{Int64,2}:\n",
       " 0  0  1\n",
       " 1  0  0\n",
       " 0  1  0"
      ]
     },
     "metadata": {},
     "output_type": "display_data"
    },
    {
     "data": {
      "text/plain": [
       "3×3 Array{Int64,2}:\n",
       " 0  0  1\n",
       " 0  1  0\n",
       " 1  0  0"
      ]
     },
     "metadata": {},
     "output_type": "display_data"
    }
   ],
   "source": [
    "# The following code displays the permutation matrices for your convenience\n",
    "Permutations = [[1,2,3],[1,3,2],[2,1,3],[2,3,1],[3,1,2],[3,2,1]] # all permutations of 1:3 in 6 vector of 3 vectors\n",
    "Identity = [1 0 0;0 1 0;0 0 1] # 3x3 identity matrix\n",
    "PermutationMatrices = [Identity[p,:] for p in Permutations] # 6 vector of PermutationMatrices\n",
    "display.(PermutationMatrices); # Apply the display function elementwise just to see the Permutation Matrices"
   ]
  },
  {
   "cell_type": "code",
   "execution_count": 28,
   "metadata": {},
   "outputs": [
    {
     "data": {
      "text/plain": [
       "9×6 Array{Int64,2}:\n",
       " 1  1  0  0  0  0\n",
       " 0  0  1  0  1  0\n",
       " 0  0  0  1  0  1\n",
       " 0  0  1  1  0  0\n",
       " 1  0  0  0  0  1\n",
       " 0  1  0  0  1  0\n",
       " 0  0  0  0  1  1\n",
       " 0  1  0  1  0  0\n",
       " 1  0  1  0  0  0"
      ]
     },
     "execution_count": 28,
     "metadata": {},
     "output_type": "execute_result"
    }
   ],
   "source": [
    "# Compute a 9x6 matrix of squashed permutation matrices\n",
    "#vec flattens a 3x3 matrix to a 9 vector and hcat stores this in a matrix. The three dots are called splat, and collect the arguments.\n",
    "A = hcat(vec.(PermutationMatrices)...)"
   ]
  },
  {
   "cell_type": "code",
   "execution_count": 29,
   "metadata": {},
   "outputs": [
    {
     "data": {
      "text/plain": [
       "5"
      ]
     },
     "execution_count": 29,
     "metadata": {},
     "output_type": "execute_result"
    }
   ],
   "source": [
    "# Compute the rank of the above 9x6 matrix\n",
    "using LinearAlgebra\n",
    "rank(A)"
   ]
  },
  {
   "cell_type": "code",
   "execution_count": 30,
   "metadata": {},
   "outputs": [
    {
     "data": {
      "text/plain": [
       "6×6 Adjoint{Float64,Array{Float64,2}}:\n",
       " -0.408248   5.42288e-17   0.816497     -0.0         0.0        -0.408248\n",
       " -0.408248   0.70636      -3.20494e-17   0.0638053   0.404538    0.408248\n",
       " -0.408248  -0.270989      1.60247e-16   0.62547    -0.449465    0.408248\n",
       " -0.408248  -0.345017     -0.408248      0.254573    0.562278   -0.408248\n",
       " -0.408248   0.345017     -0.408248     -0.254573   -0.562278   -0.408248\n",
       " -0.408248  -0.435371      1.60247e-16  -0.689276    0.0449263   0.408248"
      ]
     },
     "execution_count": 30,
     "metadata": {},
     "output_type": "execute_result"
    }
   ],
   "source": [
    "# Compute the full SVD, to identify the nullspace vector\n",
    "U,s,V = svd(A,full=true)\n",
    "V"
   ]
  },
  {
   "cell_type": "markdown",
   "metadata": {},
   "source": [
    "(3) Suppose y₁(x),y₂(x),y₃(x),y₄(x) are four non-zero polynomials of degree at most 2.  (This means\n",
    "the functions have the form ax²+bx+c, where at least one of the coefficients is nonzero.) \n",
    "What possibilities are there in the dimension of the vector space spanned by y₁(x),y₂(x),y₃(x),y₄(x)?\n",
    "Give examples for each possibility and explain briefly why no other dimension can happen."
   ]
  },
  {
   "cell_type": "code",
   "execution_count": null,
   "metadata": {},
   "outputs": [],
   "source": []
  }
 ],
 "metadata": {
  "kernelspec": {
   "display_name": "Julia 1.0.0",
   "language": "julia",
   "name": "julia-1.0"
  },
  "language_info": {
   "file_extension": ".jl",
   "mimetype": "application/julia",
   "name": "julia",
   "version": "1.0.0"
  }
 },
 "nbformat": 4,
 "nbformat_minor": 2
}
