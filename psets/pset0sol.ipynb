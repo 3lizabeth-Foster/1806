{
 "cells": [
  {
   "cell_type": "markdown",
   "id": "9eacdd72-a371-42c5-94c6-01c143b7b5ef",
   "metadata": {},
   "source": [
    "# 18.06 pset 0 solutions"
   ]
  },
  {
   "cell_type": "markdown",
   "id": "333b0c98-cecb-4f7e-9ce3-5641d2e22e67",
   "metadata": {},
   "source": [
    "## Problem 1 (13 points)\n",
    "\n",
    "Suppose $A$ is a $3 \\times 3$ matrix, $B$ is a $3 \\times 2$ matrix, $x$ is a 3-component column vector, and $y$ is a $2$-component column vector.\n",
    "\n",
    "What is the **shape** of the output (e.g. scalar, $4\\times 3$ matrix, 5-component column vector, etcetera) of the following operations, or say **nonsense** if the operation doesn't make sense.\n",
    "\n",
    "1. $A B$\n",
    "2. $B A$\n",
    "3. $A B y$\n",
    "4. $A x B$\n",
    "5. $x^T A y$\n",
    "6. $x^T B y$\n",
    "7. $x^T y$\n",
    "8. $y x^T$\n",
    "9. $x^2$\n",
    "10. $A^2 = AA$\n",
    "11. $B^2 = BB$\n",
    "12. $\\frac{x}{A}$\n",
    "13. $\\frac{x}{x}$\n",
    "\n",
    "\n",
    "## Solution 1\n",
    "\n",
    "1. $3\\times 2$ matrix: 2 components in (to $B$) are then fed into $A$, which spits 3 components out, so this process is $\\mathrm(3 outputs) \\times (2 inputs)$ and hence a $3 \\times 2$ matrix\n",
    "2. nonsense: $BA$ feeds the outputs of $A$ (3 components) into the input of $B$ (which expects 2 components)\n",
    "3. $3$-component column vector: $y$ feeds into $B$, which spits out 3 components, which are fed into $A$, which spits out 3 components\n",
    "4. nonsense: $Ax$ is a 3-component vector, but you can't multiply a column vector by a matrix $B$ on the right.   (You *could* do $(Ax)^T B$, which would yield a 2-component row vector.)\n",
    "5. nonsense: $Ay$ doesn't make sense, since $y$ has 2 components and $A$ expects 2 inputs.\n",
    "6. scalar: this is the dot product of $x$ with the 3-component vector $By$.\n",
    "7. nonsense: you can't take the dot product of a 3-component vector witha  2-component vector.\n",
    "8. $2 \\times 3$ matrix.  You can think of this as the linear operator that first takes a dot product with $x$, and then scales $y$ by this factor.  You also get the same $2 \\times 3$ matrix if you apply the \"rows-times-columns\" matrix-multiplication rule, treating $y$ as a \"1-column matrix\" and $x^T$ as a \"1-row matrix\".  (In applied linear algebra, we often gloss over the distinction between a column/row vectors and 1-column/1-row matrices.  Here is a [video on this glossing-over](https://www.youtube.com/watch?v=C2RO34b_oPM) with more detail than you probably want.)\n",
    "9. nonsense. Multiplication of a column vector by a column vector is not a standard operation in linear algebra.   (One can *define* some rule here, but then you need a more explicit notation to denote *which* kind of product you want.  For example, it's quite common to want an *elementwise* or \"Hadamard\" product of two column vectors, but this normally uses a special multiplication symbol, e.g. $x \\odot x$, or `x .* x` in Julia.)\n",
    "10. $3\\times 3$ matrix: $A^2$ is just the linear operator that applies $A$ twice, which is perfectly sensible since the inputs and outputs of $A$ are both 3-component vectors.\n",
    "11. nonsense: $B^2$ would apply $B$ twice, but the outputs of $B$ are 3-component vectors while its inputs are 2-component vectors, so there's no way to feed the outputs of $B$ back into another application of $B$.\n",
    "12. nonsense.   Later in the course, we will see that $A^{-1} x$ *is* meaningful (also denoted `A \\ x` in Julia or Matlab), but you can only multiply a column vector by a matrix inverse on the *left*, while the notation $\\frac{x}{A}$ is ambiguous about whether we are \"dividing\" on the left or right.  We have to keep left vs. right crystal clear when working with non-commutative things like matrices, unlike real numbers!\n",
    "13. nonsense.  Just like $x^2$ above, we can't divide vectors by vectors.  (Sometimes…not really in 18.06…you may want *elementwise* division of column vectors, but you need a special symbol for this like `x ./ y` in Julia.)"
   ]
  },
  {
   "cell_type": "markdown",
   "id": "40a2077a-b800-4788-8d99-15290f666277",
   "metadata": {
    "tags": []
   },
   "source": [
    "## Problem 2 (10 points)\n",
    "\n",
    "(From Strang, section 2.2, problem 11.)\n",
    "\n",
    "A system of linear equations Ax=b cannot have exactly two solutions. An easy way to see why: if two vectors x and y≠x are two solutions (i.e. Ax=b and Ay=b), what is another solution? (Hint: x+y is almost right.)\n",
    "    \n",
    "## Solution 2\n",
    "    \n",
    "For example, $\\boxed{\\frac{x+y}{2}}$. \n",
    "\n",
    "To see this, we could start with hint: let's consider $x+y$, which would us $A(x+y)=Ax+Ay=b+b=2b$. This is *almost* what we want but not quite a solution, since we get $2b$ rather than $b$. We fix it by dividing by $2$ to get $A\\left(\\frac{x+y}{2}\\right)=A\\left(\\frac{x}{2}\\right)+A\\left(\\frac{y}{2}\\right)=\\frac{1}{2}Ax+\\frac{1}{2}Ay=\\frac{b}{2}+\\frac{b}{2}=b$. \n",
    "\n",
    "The key factor here is the **linearity** of $A$, which allows us to distribute $A$ through vector-addition and scalar-multiplication operations.\n",
    "\n",
    "* More generally, we could see that $\\boxed{\\alpha x + (1-\\alpha)y}$ is a solution for *any* real number $\\alpha$, since $A[\\alpha x + (1-\\alpha)y] = \\alpha Ax + (1-\\alpha) Ay = \\alpha b + (1-\\alpha) b = b$ by linearity.  That means, as soon as a linear equation has two distinct solutions, it must have *infinitely many solutions*.  (We will spend a lot of time on this later in 18.06, because it's quite important in practice.)\n",
    "    "
   ]
  },
  {
   "cell_type": "markdown",
   "id": "1730bdff-403f-49a3-ac52-9c2c8477cc4a",
   "metadata": {},
   "source": [
    "## Problem 3 (2+4+2+2 points)\n",
    "\n",
    "Either(ideally) download and install Julia and IJulia/Jupyter by following [these instructions](https://github.com/mitmath/julia-mit#installing-julia-and-ijulia-on-your-own-computer), or (slower, less convenient) run Julia in the cloud using [these instructions](https://github.com/mitmath/julia-mit#running-julia-in-the-cloud).\n",
    "\n",
    "1. Create a new Julia notebook.  Title it \"[your last name] pset 0\".\n",
    "2. Define a matrix `A` that takes in any 3-component vector $x$ and outputs ($Ax$) the components in *reverse order*.  For example:"
   ]
  },
  {
   "cell_type": "code",
   "execution_count": null,
   "id": "23ef6747",
   "metadata": {},
   "outputs": [],
   "source": [
    "A = [ 1 2 3 4\n",
    "      5 6 7 8 ] # this is a 2×4 matrix … not the right answer"
   ]
  },
  {
   "cell_type": "markdown",
   "id": "835e2879-3163-4fd7-a0d8-6231dc370cd7",
   "metadata": {},
   "source": [
    "**3.** Multiply `A` by the vector `x = [1,2,3]` to check that it is doing what you want.\n",
    "\n",
    "**4.** Try computing `A*A`.  The result should be a very simple linear operation: what?\n",
    "\n",
    "Be sure to include a PDF printout of your notebook with your submitted solutions."
   ]
  },
  {
   "cell_type": "markdown",
   "id": "3a114dec-2fd3-4763-a506-a7e35764c899",
   "metadata": {},
   "source": [
    "## Solution 3\n",
    "\n",
    "**2.** First, let's set up the matrix.  One way to think of it is by row, since each row of the matrix determines the corresponding row of the output vector. That is, the first row has to pluck the third element from the vector so it should be `0 0 1`, the second row has to pluck the second element so it is `0 1 0`, and the third row has to pluck the first element so it should be `1 0 0`."
   ]
  },
  {
   "cell_type": "code",
   "execution_count": null,
   "id": "35cbead4",
   "metadata": {},
   "outputs": [],
   "source": [
    "A=[0 0 1\n",
    "   0 1 0\n",
    "   1 0 0]"
   ]
  },
  {
   "cell_type": "markdown",
   "id": "83971fc9-b888-4d3d-af19-1191d3c85734",
   "metadata": {},
   "source": [
    "(There are other ways to get the same matrix, of course.  This is an example of a [permutation matrix](https://en.wikipedia.org/wiki/Permutation_matrix), and a simple way to get it is to start with the identity matrix $I$ and apply our re-ordering to the rows.  We'll think about this more later in 18.06.)"
   ]
  },
  {
   "cell_type": "markdown",
   "id": "db8f4060-3ddc-4101-93e7-9238212cd536",
   "metadata": {},
   "source": [
    "**3.** Let's try out our `A`:"
   ]
  },
  {
   "cell_type": "code",
   "execution_count": null,
   "id": "20da13c4-6441-42c9-bef6-fa0a4a332f1d",
   "metadata": {},
   "outputs": [],
   "source": [
    "x=[1,2,3]"
   ]
  },
  {
   "cell_type": "code",
   "execution_count": null,
   "id": "ac53c713-f6c6-42a0-9468-da3399b2d5ca",
   "metadata": {},
   "outputs": [],
   "source": [
    "A*x"
   ]
  },
  {
   "cell_type": "markdown",
   "id": "2eb3b499-6405-4496-9176-968c0ed7b732",
   "metadata": {},
   "source": [
    "Hooray, it reversed the elements in the output as desired!"
   ]
  },
  {
   "cell_type": "markdown",
   "id": "11982b9e-cc2c-446f-887c-675fe533d5dc",
   "metadata": {},
   "source": [
    "**4.** \n",
    "\n",
    "Think about what $A$ does: it reverses the order of the components of any vector $x$.    The matrix $A^2$ reverses the order **twice**, which means that it results in the **original** vector, since the second reversal undoes the first.  In other words, $A^2$ must be the identity matrix.\n",
    "\n",
    "Let's try it and see:"
   ]
  },
  {
   "cell_type": "code",
   "execution_count": null,
   "id": "636d4655-5568-4ac4-86e5-343a5eced214",
   "metadata": {},
   "outputs": [],
   "source": [
    "A*A"
   ]
  },
  {
   "cell_type": "markdown",
   "id": "0d495e48-b3bd-469f-a4f9-93320ae45c31",
   "metadata": {},
   "source": [
    "(Later in the course, we will say that the matrix $A$ is its own inverse: $A^{-1} = A$.  This is *very* special, and is not true of most matrices!)"
   ]
  }
 ],
 "metadata": {
  "kernelspec": {
   "display_name": "Julia 1.7.1",
   "language": "julia",
   "name": "julia-1.7"
  },
  "language_info": {
   "file_extension": ".jl",
   "mimetype": "application/julia",
   "name": "julia",
   "version": "1.7.1"
  }
 },
 "nbformat": 4,
 "nbformat_minor": 5
}
