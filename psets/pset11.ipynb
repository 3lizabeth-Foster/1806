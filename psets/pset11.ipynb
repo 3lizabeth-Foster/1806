{
 "cells": [
  {
   "cell_type": "markdown",
   "id": "3933cd50",
   "metadata": {},
   "source": [
    "# 18.06 pset 11\n",
    "\n",
    "Due Friday, April 29."
   ]
  },
  {
   "cell_type": "markdown",
   "id": "e684fc38",
   "metadata": {},
   "source": [
    "## Problem 1 (5+5)\n",
    "\n",
    "**(a)** Suppose that $A$ is an $m \\times m$ matrix, and $A + A^H$ is *positive-definite*.   It follows that any eigenvalue $\\lambda$ of $A$ must have a positive *real part* — why?   (Hint: suppose $Ax=\\lambda x$ and plug the eigenvector $x$ into $x^H (A + A^H) x$, which must be \\_\\_\\_\\_\\_.)\n",
    "\n",
    "**(b)** Consider $A = \\begin{pmatrix}\n",
    "-1 & -3 & -3 & -7\\\\\n",
    "3 & -2 & -2 & -2\\\\\n",
    "3 & 2 & -3 & 1\\\\\n",
    "7 & 2 & -1 & -4\\\\\n",
    "\\end{pmatrix}$.  Suppose that we multiply an arbitrary vector $y$ by $e^A$ over and over.  With the help of your answer from (a), using *no numerical calculation*, explain why you would expect the resulting vector to grow, decay to zero, oscillate forever, or approach a nonzero steady state (pick one)? "
   ]
  },
  {
   "cell_type": "markdown",
   "id": "3ab35a3c",
   "metadata": {},
   "source": [
    "## Problem 2 (5+5)\n",
    "\n",
    "**(a)** Suppose $A=X^H X$ and $B = Y^H Y$ are two positive-definite $n \\times n$ matrices, for some $X$ and $Y$ matrices.  $A + B = Z^H Z$ where $Z = \\_\\_\\_$ (give an explicit formula in terms of $X$ and $Y$, no calculation required).  What *must* be true of the dimensions of the matrices $X$, $Y$, and $Z$?\n",
    "\n",
    "**(b)** Suppose $A = X^H C X$ where $C$ is positive-definite and $X$ has full column rank.   Why must $A$ be positive-definite?"
   ]
  },
  {
   "cell_type": "markdown",
   "id": "44448071",
   "metadata": {},
   "source": [
    "## Problem 3 (5+5+5+5+5)\n",
    "\n",
    "You are given the matrix\n",
    "$$\n",
    "A = \\begin{pmatrix} 7 & 4 & -5 \\\\ 4 & -2 & 4 \\\\ -5 & 4 & 7 \\end{pmatrix}\n",
    "$$\n",
    "\n",
    "**(a)** Two of the eigenvalues of $A$ are 6 and –6.  Find the third eigenvalue.  The eigenvalues must be real because $A$ is \\_\\_\\_\\_\\_\\_\\_\\_\\_\\_\\_\\_.   Check your answer in Julia using `eigvals(A)` (don't forget to do `using LinearAlgebra` first).\n",
    "\n",
    "**(b)** Two eigenvectors of $A$ are the column vectors (1,1,1) and (1,-2,1).  Find the third eigenvector.  The eigenvectors must be \\_\\_\\_\\_\\_\\_\\_\\_\\_\\_\\_\\_ to one another because $A$ is \\_\\_\\_\\_\\_\\_\\_\\_\\_\\_\\_\\_\n",
    "\n",
    "**(c)** Suppose that $x(t)$ is the solution to $\\frac{dx}{dt} = Ax - 12x$ with $x(0) = (1,0,0)$.   After a long time $x(t)$ is approximately parallel to what vector?   Check your answer by computing $x(t) = e^{(A-12I)t} x(0)$ in Julia for a large $t$ using `exp((A-12I)*t)`.\n",
    "\n",
    "**(d)** Give an exact expression for $x(t)$ from (c).   You should be able to write your answer easily, without doing Gaussian elimination or anything fancy — only a few dot products need to be computed, because the eigenvectors are \\_\\_\\_\\_\\_\\_\\_\\_\\_\\_\\_\\_.   Check your answer in Julia using `exp((A-12I)*t)`.\n",
    "\n",
    "**(e)** As $t \\to \\infty$, the matrix $e^{(A-12I)t}$ approaches what projection matrix $P$?"
   ]
  },
  {
   "cell_type": "markdown",
   "id": "de50a889",
   "metadata": {},
   "source": [
    "## Problem 4 (5+5+5+5)\n",
    "\n",
    "Suppose that $A$ is a Hermitian positive-definite matrix, and we find a sequence of vectors $x^{(1)}, x^{(2)}, x^{(3)}, \\ldots$ by repeatedly solving the recurrence equation:\n",
    "$$\n",
    "x^{(n+1)} - x^{(n)} = -A\\frac{x^{(n+1)} + x^{(n)} }{2}\n",
    "$$\n",
    "starting from a vector $x^{(0)}$.\n",
    "\n",
    "**(a)** Derive a formula $x^{(n+1)} = \\mbox{(some matrix)} x^{(n)}$ in terms of \"some matrix\" that does not depend on $n$.\n",
    "\n",
    "**(b)** Your formula from (a) involves the inverse of a matrix.  Why must that matrix always be invertible?\n",
    "\n",
    "**(c)** If $17$ is an eigenvalue of $A$, what is an eigenvalue of your \"some matrix\" from (a)?\n",
    "\n",
    "**(d)** Would you expect the sequence of vectors $x^{(n)}$ to grow, decay, or oscillate as $n$ becomes large?"
   ]
  }
 ],
 "metadata": {
  "kernelspec": {
   "display_name": "Julia 1.7.1",
   "language": "julia",
   "name": "julia-1.7"
  },
  "language_info": {
   "file_extension": ".jl",
   "mimetype": "application/julia",
   "name": "julia",
   "version": "1.7.1"
  }
 },
 "nbformat": 4,
 "nbformat_minor": 5
}
