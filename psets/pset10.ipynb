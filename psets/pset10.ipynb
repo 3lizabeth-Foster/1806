{
 "cells": [
  {
   "cell_type": "markdown",
   "id": "75fafff4",
   "metadata": {},
   "source": [
    "# 18.06 Problem Set 10\n",
    "\n",
    "Due Friday, April 22."
   ]
  },
  {
   "cell_type": "markdown",
   "id": "33675fdf",
   "metadata": {},
   "source": [
    "## Problem 1 (5+5+5+5)\n",
    "\n",
    "In the [18.06 ODE lecture](https://nbviewer.org/github/mitmath/1806/blob/master/notes/ODEs.ipynb), we found that the position ($x$) and velocity ($v) of a mass bouncing on a spring without friction are described by the equations:\n",
    "\n",
    "$$\n",
    "\\frac{d}{dt} \\underbrace{\\begin{pmatrix} x \\\\ v \\end{pmatrix}}_\\vec{x} =\n",
    "\\underbrace{\\begin{pmatrix} 0 & 1 \\\\ -k/m & 0 \\end{pmatrix}}_A \\vec{x}\n",
    "$$\n",
    "\n",
    "for (real) spring constant $k > 0$ and mass $m > 0$.\n",
    "\n",
    "**(a)** Show that by simply *rescaling* the variables $\\vec{x} = (x,v)$ to new variables $\\vec{y} = (a,b) = D \\vec{x}$ for some *diagonal* matrix $D$, then you can get equations:\n",
    "$$\n",
    "\\frac{d\\vec{y}}{dt} = B \\vec{y}\n",
    "$$\n",
    "where $B$ is (real) *anti-Hermitian* (also called *skew-Hermitian*): $B^H = -B$.  (What is the formula relating $B$ and $A$ via $D$?  $B$ and $A$ are \\_\\_\\_\\_\\_\\_ to one another.)\n",
    "\n",
    "**(b)** For *any* anti-Hermitian $B = -B^H$, the matrix $iB$ is a \\_\\_\\_\\_\\_\\_\\_\\_ matrix because $(iB)^H = \\_\\_\\_$.   It follows that the eigenvalues of $B$ are purely \\_\\_\\_\\_\\_\\_\\_\\_ and hence the solutions $\\vec{y}(t)$ of $d\\vec{y}/dt = B \\vec{y}$ are \\_\\_\\_\\_\\_\\_\\_\\_ (oscillating/growing/decaying).\n",
    "\n",
    "**(c)** For *any* anti-Hermitian $B = -B^H$, the matrix $Q = e^{Bt}$ is *unitary* (for any real $t$) because \\_\\_\\_\\_\\_\\_\\_\\_.  (Note: from the series definition of $e^A$, you can immediately see that $(e^A)^H = e^{A^H}$.)\n",
    "\n",
    "**(d)** Recall from class that $\\Vert Q \\vec{y} \\Vert = \\Vert \\vec{y} \\Vert$ for any unitary $Q$ (or more generally any $Q$ with orthonormal columns).   From this, derive that the solution $$\\vec{y}(t) = e^{Bt} \\vec{y}(0)$$ for your $B$ from part (a) *conserves energy*: $\\frac{1}{2} mv^2 + \\frac{1}{2} kx^2$ (kinetic + potential energy) is a *constant* as a function of time $t$."
   ]
  },
  {
   "cell_type": "markdown",
   "id": "ae091599",
   "metadata": {},
   "source": [
    "## Problem 2 (5+10)\n",
    "\n",
    "(Based on Strang, section 6.3, problem 18.)\n",
    "\n",
    "**(a)** Write five terms of the infinite series for $e^{At}$.  Take the derivative $d/dt$, and show that you have four terms of $Ae^{At}$.  \n",
    "\n",
    "Conclusion:  $\\frac{d}{dt} e^{At} = Ae^{At}$ as claimed in class, and $x(t) = e^{At}x(0)$ solves $dx/dt = Ax$.\n",
    "\n",
    "**(b)** Using the same five terms of the infinite series for $f(A) = e^A$ (no $t$), write down four terms of $f(A+dA) - f(A)$ as a *linear operator* $f'(A)[dA]$ acting on $dA$ as in Lecture 10 (i.e. drop all terms higher than first order in the \"infinitesimal\" change $dA$).\n",
    "\n",
    "$f'(A)[dA]$ is *not* simply $e^A dA$ (as it would be for scalars in 18.01) except for very special perturbations $dA$ that \\_\\_\\_\\_\\_\\_\\_\\_\\_\\_\\_\\_\\_\\_."
   ]
  },
  {
   "cell_type": "markdown",
   "id": "0c4c58f8",
   "metadata": {},
   "source": [
    "## Problem 3 (5+5+5+5+5)\n",
    "\n",
    "**(a)** Write down two familiar functions that solve the equation $d^2 y /dt^2 = -9y$.  What is a solution $y(t)$ that starts with $y(0)=3$ and $y'(0)=0$?\n",
    "\n",
    "**(b)** Find (by hand) the eigenvalues $\\lambda_1$ and $\\lambda_2$ and corresponding eigenvectors $x_1$ and $x_2$ of $$A = \\begin{pmatrix}\n",
    "1 & -5\\\\\n",
    "10 & -14\\\\\n",
    "\\end{pmatrix} .$$\n",
    "\n",
    "**(c)** Consider the system of ODEs $\\frac{d^2x}{dt^2} = Ax$ (note 2nd derivative!) with the $A$ from part (b).  If $x(t) = c_1(t) x_1 + c_2(t) x_2$, what equations do $c_1(t)$ and $c_2(t)$ satisfy, and hence what solutions $c_1(t)$ and $c_2(t)$ are possible?   (See part (a).)\n",
    "\n",
    "**(d)** For the ODE of part (c), solve for $x(t)$ given the initial conditions $x(0) = (2,3)$ and $x'(0) = (1,4)$.\n",
    "\n",
    "**(e)** Alternatively, if we let $y$ be the 4-component vector $y = (x, dx/dt)$, then $dy/dt = By$ for $B = \\_\\_\\_\\_$.  Since this must ultimately give the same solutions $x(t)$ as part (c), what must be the eigenvalues of $B$?"
   ]
  },
  {
   "cell_type": "markdown",
   "id": "d920ed64",
   "metadata": {},
   "source": [
    "## Problem 4 (8+8)\n",
    "\n",
    "In chemistry, the [stoichiometry matrix](https://en.wikipedia.org/wiki/Stoichiometry#Stoichiometry_matrix) is often used to describe a set of $m$ reactions among $n$ different chemical \"species\" (e.g. H₂O, C₈H₁₀N₄O₂, and so on).\n",
    "\n",
    "For example, consider the following 3 (fictitious) chemical reactions among 4 species, labeled $x_1, x_2, x_3, x_4$:\n",
    "\n",
    "$$\n",
    "x_1 + 2x_2 \\longleftrightarrow 3 x_2 + 2x_4, \\;\\;\\\\\n",
    "2x_2 + 4x_3 \\longleftrightarrow x_1 + x_4, \\;\\;\\\\\n",
    "x_1 + 4x_3 \\longleftrightarrow 5x_4\n",
    "$$\n",
    "\n",
    "which would be represented by the stoichiometry matrix\n",
    "\n",
    "$$\n",
    "S = \\begin{pmatrix} -1 & 3-2 & 0 & 2 \\\\\n",
    "1 & -2 & -4 & 1 \\\\\n",
    "-1 & 0 & -4 & 5 \\end{pmatrix}\n",
    "$$\n",
    "\n",
    "whose rows are the reactions and whose columns are the species.  (Some authors use the transpose of this matrix instead.)\n",
    "\n",
    "If we use a vector $\\vec{x} \\in \\mathbb{R}^4$ to represent the *concentrations* of each of these four species, and a vector $\\vec{r} \\in \\mathbb{R}^3$ to represent the *rates* of each reaction, then the rate of change of the concentrations is given by the system of ordinary differential equations (ODEs):\n",
    "\n",
    "$$\n",
    "\\frac{d\\vec{x}}{dt} = S^T \\vec{r}\n",
    "$$\n",
    "\n",
    "(where the rates $\\vec{r}$ are *not* generally constant: they may depend on the concentrations $\\vec{x}$ in a complicated way … so you *can't* solve this just by multiplying the right-hand side by $t$).\n",
    "\n",
    "**(a)** Describe (find a basis for) *all* possible reaction rates $\\vec{r}$ for which $\\frac{d\\vec{x}}{dt} = 0$ (the system is in *steady state*).\n",
    "\n",
    "**(b)** Certain linear combinations of the concentrations are *conserved*: there are some (time-independent) vectors $\\vec{v} \\in \\mathbb{R}^4$ for which $\\frac{d(\\vec{v}^T \\vec{x})}{dt} = 0$ for *all* possible rate vectors $\\vec{r}$.   If $\\vec{v}$ doesn't depend on $t$, then $\\frac{d(\\vec{v}^T \\vec{x})}{dt}$ is \\_\\_\\_\\_\\_\\_\\_\\_ times $\\frac{d\\vec{x}}{dt}$. These vectors $\\vec{v}$ all lie within the \\_\\_\\_-dimensional \\_\\_\\_\\_\\_\\_\\_\\_ space of $S$.  Why?"
   ]
  }
 ],
 "metadata": {
  "kernelspec": {
   "display_name": "Julia 1.7.1",
   "language": "julia",
   "name": "julia-1.7"
  },
  "language_info": {
   "file_extension": ".jl",
   "mimetype": "application/julia",
   "name": "julia",
   "version": "1.7.1"
  }
 },
 "nbformat": 4,
 "nbformat_minor": 5
}
