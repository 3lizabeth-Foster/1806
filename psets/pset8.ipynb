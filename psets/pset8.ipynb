{
 "cells": [
  {
   "cell_type": "markdown",
   "id": "51ad6535",
   "metadata": {},
   "source": [
    "# 18.06 Problem Set 8\n",
    "\n",
    "Due Friday, April 8."
   ]
  },
  {
   "cell_type": "markdown",
   "id": "90468379",
   "metadata": {},
   "source": [
    "## Problem 1 (5+5+5 points)\n",
    "\n",
    "Recall that a (real) unitary matrix $Q$ is a square matrix such that $Q^T = Q^{-1}$, or equivalently $\\Vert Qx \\Vert = \\Vert x \\Vert$ for any $x$.\n",
    "\n",
    "We give a function `randQ(n)` below to generate a random $n\\times n$ real unitary matrix $Q$ for testing purposes.\n",
    "\n",
    "**(a)** From the properties of $Q$ above, what can you say about $\\det Q$?   Check your deduction with a few random $Q$ matrices, calling `det(randQ(5))` or similar.\n",
    "\n",
    "**(b)** From the properties of $Q$ above, what can you say about an eigenvalue $\\lambda$ of $Q$, *if*  the eigenvalue is *real*?\n",
    "\n",
    "**(c)** Compute the eigenvalues of a few random $3\\times 3$ real unitary matrices, with `λ = eigvals(randQ(3))`.  What do you notice (no proofs required)?  Try plotting the imaginary parts of the eigenvalues versus the real parts, given by `imag.(λ)` and `real.(λ)` respectively, for a bunch of random Q's), using the code outline below."
   ]
  },
  {
   "cell_type": "code",
   "execution_count": null,
   "id": "c35ecb05",
   "metadata": {},
   "outputs": [],
   "source": [
    "using LinearAlgebra\n",
    "\n",
    "# generate a random (Haar-uniform) n x n real unitary matrix\n",
    "# using the algorithm from https://arxiv.org/abs/math-ph/0609050\n",
    "function randQ(n)\n",
    "    QR = qr(randn(n,n))\n",
    "    return QR.Q * Diagonal(sign.(diag(QR.R)))\n",
    "end"
   ]
  },
  {
   "cell_type": "code",
   "execution_count": null,
   "id": "475f4bb2",
   "metadata": {},
   "outputs": [],
   "source": [
    "# code outline for 1c:\n",
    "\n",
    "using PyPlot\n",
    "for i = 1:20\n",
    "    # do some plotting of eigenvalues\n",
    "end\n",
    "axis(\"equal\") # scale the x and y axes equally\n",
    "title(\"problem 1c\")\n",
    "xlabel(\"real part\")\n",
    "ylabel(\"imaginary part\")"
   ]
  },
  {
   "cell_type": "markdown",
   "id": "d4654c51",
   "metadata": {},
   "source": [
    "## Problem 2 (5+5+5+5 points)\n",
    "\n",
    "**(a)** If $P$ is a $3 \\times 3$ projection matrix onto a 2d subspace of $\\mathbb{R}^3$, then what is its determinant?\n",
    "\n",
    "**(b)** If $A$ is an $11 \\times 11$ matrix satisfying $A^T = -A$ (*anti*-symmetric), use the properties of determinants to say what $\\det A$ must be.\n",
    "\n",
    "**(c)** What are the determinants of $\\begin{pmatrix} 1 \\\\ 2 \\\\ 3 \\end{pmatrix} \\begin{pmatrix} 1 & -4 & 5 \\end{pmatrix}$ and $\\begin{pmatrix} 1 & -4 & 5 \\end{pmatrix} \\begin{pmatrix} 1 \\\\ 2 \\\\ 3 \\end{pmatrix}$?\n",
    "\n",
    "**(d)** If $U = \\begin{pmatrix} 1 & 4 & 6 \\\\ & 2 & 5 \\\\ & & 3 \\end{pmatrix}$, what is the determinant of $U^{-3}$?"
   ]
  },
  {
   "cell_type": "markdown",
   "id": "8ab57e94",
   "metadata": {},
   "source": [
    "## Problem 3 (5+5+5+5 points)\n",
    "\n",
    "$A = \\begin{pmatrix}\n",
    "1 & -1 & -1 \\\\\n",
    "-1 & 1 & 0 \\\\\n",
    "-1 & -1 & 0 \n",
    "\\end{pmatrix}$ has eigenvalues $\\lambda_1 = -1$, $\\lambda_2 = 1$, and $\\lambda_3 = 2$ and corresponding eigenvectors are $x_1 = \\begin{pmatrix} 2 \\\\ 1 \\\\ 3 \\end{pmatrix}$, $x_2 = \\begin{pmatrix} 0 \\\\ 1 \\\\ -1 \\end{pmatrix}$, and $x_3 = \\begin{pmatrix} -1 \\\\ 1 \\\\ 0 \\end{pmatrix}$.\n",
    "\n",
    "Find the eigenvectors and eigenvalues of the following matrices.  (If you find yourself trying to solve a cubic equation, stop!  **Very little calculation** should be required.)\n",
    "\n",
    "**(a)** $2A$\n",
    "\n",
    "**(b)** $A^3$\n",
    "\n",
    "**(c)** $2I + 3A + 4A^2$\n",
    "\n",
    "**(d)** $P A P$ where $P = \\begin{pmatrix} & 1 & \\\\ 1 & & \\\\ & & 1 \\end{pmatrix}$.  (Hint:  What does $P$ do to a vector? What is $P^{-1}$?  Hence $PAP$ and $A$ are \\_\\_\\_\\_\\_\\_\\_\\_\\_\\_.)"
   ]
  },
  {
   "cell_type": "markdown",
   "id": "9f8b272d",
   "metadata": {},
   "source": [
    "## Problem 4 (10+5 points)\n",
    "\n",
    "For the matrix $A$ of problem 3:\n",
    "\n",
    "**(a)** Compute $A^{50} x$ where $x = \\begin{pmatrix} 3 \\\\ -1 \\\\ 4 \\end{pmatrix}$.\n",
    "\n",
    "**(b)** Check your answer in Julia."
   ]
  },
  {
   "cell_type": "markdown",
   "id": "842cb1c6",
   "metadata": {},
   "source": [
    "## Problem 5 (10 points)\n",
    "\n",
    "(From Strang section 5.1, problem 18.)\n",
    "\n",
    "Use row operations to show that this $3 \\times 3$ \"Vandermonde determinant\" is:\n",
    "$$\n",
    "\\det \\begin{pmatrix}1 & a & a^2 \\\\ 1 & b & b^2 \\\\ 1 & c & c^2 \\end{pmatrix} =\n",
    "(b-a) (c-a) (c-b) \\, .\n",
    "$$"
   ]
  }
 ],
 "metadata": {
  "kernelspec": {
   "display_name": "Julia 1.7.1",
   "language": "julia",
   "name": "julia-1.7"
  },
  "language_info": {
   "file_extension": ".jl",
   "mimetype": "application/julia",
   "name": "julia",
   "version": "1.7.1"
  }
 },
 "nbformat": 4,
 "nbformat_minor": 5
}
