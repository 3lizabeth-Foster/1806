{
 "cells": [
  {
   "cell_type": "markdown",
   "id": "32684c59",
   "metadata": {},
   "source": [
    "# 18.06 Problem Set 7\n",
    "\n",
    "Due 11am **Wednesday** March 30.  This will be the last problem set covered on **exam 2**."
   ]
  },
  {
   "cell_type": "markdown",
   "id": "f886147f",
   "metadata": {},
   "source": [
    "## Problem 1 (2+5+5+5+5+5)\n",
    "\n",
    "Suppose that $A$ is an $m \\times n$ \"tall\" matrix ($m > n$) with full column rank (rank $n$).   Consider the \"wide\" (underdetermined, i.e. fewer equations than unknowns) system of equations:\n",
    "\n",
    "$$\n",
    "A^T x = b\n",
    "$$\n",
    "\n",
    "You are also given the QR factorization $A = QR$ of $A$, where $Q$ is an $m \\times n$ matrix with orthonormal columns and $R$ is an $n \\times n$ invertible upper-triangular matrix.  (For example, maybe you got this by Gram-Schmidt on $A$.)   This corresponds to a factorization $A^T = R^T Q^T$ called an \"LQ\" factorization of $A^T$ (because $L = R^T$ is lower-triangular), which is used in practice to find **minimum-norm solutions** to *under*determined systems of equations (as opposed to least-square solutions of *over*determined systems), as you will explore in this problem.\n",
    "\n",
    "**(a)** $A^T x = b$ has a solution for *any* $b \\in \\mathbb{R}^n$ because \\_\\_\\_\\_\\_\\_\\_\\_\\_\\_\\_\\_ but the solution $x$ is *not unique* because \\_\\_\\_\\_\\_\\_\\_\\_\\_\\_.\n",
    "\n",
    "**(b)** We can find a *unique* solution $x_0 \\in C(A)$ of $A^T x_0 = b$, given by the formula \\_\\_\\_\\_\\_\\_\\_\\_\\_\\_\\_\\_ in terms of $A,b$.\n",
    "\n",
    "**(c)** Alternatively, any $x \\in C(A)$ can be written $x = Qy$ for some $y\\in \\mathbb{R}^n$ because \\_\\_\\_\\_\\_\\_\\_\\_\\_\\_\\_\\_.   We can find the same solution $x_0 = Qy$ of $A^T x_0 = b$ as in (b), with $y$ given by the formula \\_\\_\\_\\_\\_\\_\\_\\_\\_\\_\\_\\_ in terms of $Q,R,b$ (plug in $A=QR$ and simplify!). \n",
    "\n",
    "**(d)** Is the solution $x_0$ in (b) or (c) generally the same as the \"particular\" solution we would have gotten from the exam-1 approach of setting the free variables equal to zero?  Why or why not?  (Maybe try with $A^T = [1\\;1]$ and $b=[1]$.)\n",
    "\n",
    "**(e)** In terms of $x_0$ from (b) or (c), *any* solution $x$ of $A^T x = b$ (the \"complete\" solution) can be written as $x = x_0 + x_1$ where $x_1$ is any vector in the subspace \\_\\_\\_\\_\\_\\_\\_\\_\\_\\_\\_\\_.   The solution $\\hat{x}$ with the **minimum norm** $\\Vert x \\Vert$ is therefore $\\hat{x} = \\_\\_\\_\\_\\_\\_$.  (Hint: write $\\Vert x \\Vert^2 = x^Tx$ in terms of $x_0$ and $x_1$, remembering orthogonality of subspaces.)\n",
    "\n",
    "**(f)** In Julia, `x̂ = W \\ b` for any \"wide\" full-row-rank matrix `W` computes the minimum-norm solution $\\hat{x}$ to $Wx = b$.  Check that this matches your answer from parts (c) and (d) for a random $A$ using the code below:"
   ]
  },
  {
   "cell_type": "code",
   "execution_count": null,
   "id": "44e13270",
   "metadata": {},
   "outputs": [],
   "source": [
    "using LinearAlgebra\n",
    "\n",
    "A = randn(10, 3) # a random full-rank \"tall\" matrix\n",
    "QR = qr(A) # its QR factorization\n",
    "Q = Matrix(QR.Q) # the 10x3 \"thin\" Q factor\n",
    "R = QR.R         # and the 3x3 R factor\n",
    "\n",
    "b = randn(3) # a random right-hand side\n",
    "x̂ = A' \\ b   # the minimum-norm solution to Aᵀx = b using the built-in \\"
   ]
  },
  {
   "cell_type": "code",
   "execution_count": null,
   "id": "c6f6cb97",
   "metadata": {},
   "outputs": [],
   "source": [
    "y = ??????   # your solution from (c), a formula in terms of Q, R, and/or b\n",
    "x₀ = Q * y\n",
    "x̂ₑ = ????    # your solution from (e)"
   ]
  },
  {
   "cell_type": "code",
   "execution_count": null,
   "id": "6a429e46",
   "metadata": {},
   "outputs": [],
   "source": [
    "x̂ₑ ≈ x̂ # should print \"true\""
   ]
  },
  {
   "cell_type": "markdown",
   "id": "8ed7afd9",
   "metadata": {},
   "source": [
    "## Problem 2 (9+6 points)\n",
    "\n",
    "**(a)** Apply Gram-Schmidt to the polynomials ${1, x, x^2}$ to find an orthonormal basis ${q_1,q_2,q_3}$ of polynomials under the inner (\"dot\") product (*different* from the one used in class):\n",
    "$$\n",
    "f \\cdot g = \\int_0^\\infty f(x) g(x) e^{-x} dx\n",
    "$$\n",
    "(Unlike the Legendre polynomials in class, normalize your polynomials $q_k$ to have $\\Vert q_k \\Vert = \\sqrt {q_k \\cdot q_k} = 1$ under this inner product, i.e. to be really ortho*normal*.)\n",
    "\n",
    "* The [following integral](https://en.wikipedia.org/wiki/Gamma_function) will be useful: $\\int_0^\\infty x^n e^{-x} dx = n!$ ($n$ [factorial](https://en.wikipedia.org/wiki/Factorial)) for any integer $n \\ge 0$.\n",
    "\n",
    "**(b)** Consider the function $f(x) = \\begin{cases} x & x < 1 \\\\ 0 & x \\ge 1 \\end{cases}$.  Find the *degree-1 polynomial p(x)=αx+β* that is the \"best fit\" to $f(x)$ in the sense of minimizing\n",
    "$$\n",
    "\\Vert f - \\alpha x \\Vert^2 = \\int_0^\\infty \\left[ f(x) - p(x) \\right]^2 e^{-x} dx\n",
    "$$\n",
    "In particular, find $p(x)$ by performing the orthogonal projection (with this dot product) of $f(x)$ onto .........?"
   ]
  },
  {
   "cell_type": "markdown",
   "id": "2525e567",
   "metadata": {},
   "source": [
    "## Problem 3 (10+10+5 points)\n",
    "\n",
    "In a common variant of least-squares fitting called \"ridge\" or \"Tikhonov\" regression to get more robust solutions to noisy fitting problems, one minimizes:\n",
    "$$\n",
    "f(x) = \\Vert b - Ax \\Vert^2 + \\lambda \\Vert x \\Vert^2\n",
    "$$\n",
    "instead of just $\\Vert b - Ax \\Vert^2$, for some \"penalty\" parameter $\\lambda \\ge 0$.  As $\n",
    "\\lambda$ gets bigger and bigger, this favors *smaller* solutions $x$.   Here, $A$ is $m \\times n$.\n",
    "\n",
    "**(a)** Write this *same* $f(x)$ as $f(x) = \\Vert c - Bx \\Vert^2$ for some matrix $B$ and some vector $c$ defined in terms of $A,\\lambda,b$.   Hint: $\\Vert x \\Vert^2 + \\Vert y \\Vert^2$ equals the length of a single vector \\_\\_\\_\\_\\_\\_ made by stacking $x$ and $y$.\n",
    "\n",
    "**(b)** Since part (a) rewrote $f(x)$ as an ordinary-looking least-squares problem, use the normal equations for $B$ and $c$ to write down an equation $(n\\times n \\mbox{ matrix})\\hat{x} = (\\mbox{right-hand side})$ for the minimizer $\\hat{x}$ in terms of $A,\\lambda,b$.\n",
    "\n",
    "**(c)** For $\\lambda > 0$, show that (b) has a *unique* solution even if $A$ is *not* full column rank (i.e. $A^TA$ is singular).   In particular, why does your matrix on the left-hand-side have a nullspace of {0}?\n",
    "\n",
    "A really common strategy in mathematics is to try to rewrite new problems so that they look like old problems, letting us re-use the old solutions!"
   ]
  },
  {
   "cell_type": "code",
   "execution_count": null,
   "id": "6428ec35",
   "metadata": {},
   "outputs": [],
   "source": []
  }
 ],
 "metadata": {
  "kernelspec": {
   "display_name": "Julia 1.7.1",
   "language": "julia",
   "name": "julia-1.7"
  },
  "language_info": {
   "file_extension": ".jl",
   "mimetype": "application/julia",
   "name": "julia",
   "version": "1.7.1"
  }
 },
 "nbformat": 4,
 "nbformat_minor": 5
}
