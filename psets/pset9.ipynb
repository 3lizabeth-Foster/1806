{
 "cells": [
  {
   "cell_type": "markdown",
   "metadata": {},
   "source": [
    "#### 18.06 Spring2019 pset 9  (under construction)\n",
    "## due Friday 4/26 at 11:59pm\n",
    "\n",
    "Moving to Friday night seems to be very popular so this and pset 10 will be Friday night sets,\n",
    "but please do not wait until Friday to start. "
   ]
  },
  {
   "cell_type": "markdown",
   "metadata": {},
   "source": [
    "(1a)  $A$ is diagonalizable if it can be written $X\\Lambda X^{-1}$ for some invertible matrix $X$. The eigenvalues go on the diagonal of $\\Lambda$ (in any order) and the corresponding eigenvectors are the columns of $X$.\n",
    "\n",
    "(GS p314 6.2 p1)\n",
    "Factor the following matrices into $A = X\\Lambda X^{-1}$:\n",
    "\n",
    "$A = \\begin{bmatrix} 1 & 2 \\\\ 0 & 3 \\end{bmatrix}$ and\n",
    "$A = \\begin{bmatrix} 1 & 1 \\\\ 3 & 3 \\end{bmatrix}$."
   ]
  },
  {
   "cell_type": "markdown",
   "metadata": {},
   "source": [
    "(1b) If $A=X \\Lambda X^{-1}$ then $A^3=( \\ )( \\ )( \\ )$ and $A^{-1}=( \\ )( \\ )( \\ )$."
   ]
  },
  {
   "cell_type": "markdown",
   "metadata": {},
   "source": [
    "(Optional) Check your work: "
   ]
  },
  {
   "cell_type": "code",
   "execution_count": null,
   "metadata": {},
   "outputs": [],
   "source": [
    "using LinearAlgebra\n",
    "A = [1 2; 0 3]\n",
    "Λ,X = eigen(A)\n",
    "display(Λ)  # Eigenvalues in machine picked order\n",
    "display(X) # Eigenvectors normalized to unit vectors"
   ]
  },
  {
   "cell_type": "code",
   "execution_count": null,
   "metadata": {},
   "outputs": [],
   "source": [
    "Λ,X = eigen(A^3)\n",
    "display(Λ)  \n",
    "display(X) "
   ]
  },
  {
   "cell_type": "code",
   "execution_count": null,
   "metadata": {},
   "outputs": [],
   "source": [
    "Λ,X = eigen(inv(A))\n",
    "display(Λ)  \n",
    "display(X) "
   ]
  },
  {
   "cell_type": "markdown",
   "metadata": {},
   "source": [
    "(2). Find the pattern. (We are not asking for an explanation. We want you to experiment and observe.) <br>\n",
    "(2a) When n=3, if you generate random real matrices which of the following seem to be possible: <br>\n",
    "$[ \\  ]$ All complex eigenvalues, $[ \\  ]$ All real eigenvalues, $ [ \\ ]$ 2 Real, One Complex,  $ [ \\ ]$ 2 Complex, One Real"
   ]
  },
  {
   "cell_type": "code",
   "execution_count": null,
   "metadata": {},
   "outputs": [],
   "source": [
    "howmany = 10  # if you like change 10 to anything\n",
    "n = 3 \n",
    "for i = 1:howmany\n",
    "    display(eigvals(randn(n,n))) # random n x n\n",
    "end"
   ]
  },
  {
   "cell_type": "markdown",
   "metadata": {},
   "source": [
    "(2b) When n=4, if you generate random real matrices what possibilities emerge for how many real and complex eigenvalues:\n",
    "(Note four real eigenvalues can happen, but it seems a bit rarer.)"
   ]
  },
  {
   "cell_type": "code",
   "execution_count": null,
   "metadata": {},
   "outputs": [],
   "source": [
    "howmany = 20  \n",
    "n = 4 \n",
    "for i = 1:howmany\n",
    "    display(eigvals(randn(n,n))) \n",
    "end"
   ]
  },
  {
   "cell_type": "markdown",
   "metadata": {},
   "source": [
    "(2c) What do you observe if the matrix is symmetric or antisymmetric?  Try n=3,4,5. (You may interpret as 0\n",
    "        floating point numbers with an e-16 (meaning $10^{-16}$, E for exponent) or less.)"
   ]
  },
  {
   "cell_type": "code",
   "execution_count": null,
   "metadata": {},
   "outputs": [],
   "source": [
    "howmany = 5  \n",
    "n = 4 \n",
    "for i = 1:howmany\n",
    "    A = randn(n,n)\n",
    "    A += A'  # This means add A' (same as Aᵀ) to A making A symmetric\n",
    "    display(eigvals(A)) \n",
    "end"
   ]
  },
  {
   "cell_type": "markdown",
   "metadata": {},
   "source": [
    "(3a) (GS p.314 p4) True or false: If the columns of X (eigenvectors of A) are linearly independent then <br>\n",
    "(a) A is invertible? <br>\n",
    "(b) A is diagonalizable <br>\n",
    "(c) X is invertible? <br>\n",
    "(d) X is diagonalizable\n",
    "\n",
    "(3b) (GS p. 315 p11) True or false: If the eigenvalues of $A$ are $2,2,5$ then the matrix is certainly <br>\n",
    "(a) invertible <br>\n",
    "(b) diagonalizable <br>\n",
    "(c) not diagonalizable.\n",
    "\n",
    "(3c) (GS p. 315 p. 12) True or false: If the only eigenvectors of $A$ are multiples of (1,4) then A has <br>\n",
    "(a) no inverse <br>\n",
    "(b) a repeated eigenvalue <br>\n",
    "(c) no diagonalization $X \\Lambda X^{-1}$."
   ]
  },
  {
   "cell_type": "code",
   "execution_count": null,
   "metadata": {},
   "outputs": [],
   "source": [
    "(4) "
   ]
  }
 ],
 "metadata": {
  "kernelspec": {
   "display_name": "Julia 1.1.0",
   "language": "julia",
   "name": "julia-1.1"
  },
  "language_info": {
   "file_extension": ".jl",
   "mimetype": "application/julia",
   "name": "julia",
   "version": "1.1.0"
  }
 },
 "nbformat": 4,
 "nbformat_minor": 2
}
