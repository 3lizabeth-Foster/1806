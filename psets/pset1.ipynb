{
 "cells": [
  {
   "cell_type": "markdown",
   "id": "19c52d5d",
   "metadata": {},
   "source": [
    "# 18.06 Pset 1\n",
    "\n",
    "Due Friday Sep 16 at 11am on Gradescope.  Submit in PDF format: a decent-quality **scan/image** of any handwritten solutions (e.g. get a scanner app on your phone or use a tablet), and a PDF printout of your Jupyter notebook showing your code and (clearly labeled) results."
   ]
  },
  {
   "cell_type": "markdown",
   "id": "81863afa",
   "metadata": {},
   "source": [
    "## Problem 1 (15 points)\n",
    "\n",
    "Suppose $A$ is a $3 \\times 3$ matrix, $B$ is a $2 \\times 3$ matrix, $x$ is a 3-component column vector, and $y$ is a $2$-component column vector.\n",
    "\n",
    "What is the **shape** of the output (e.g. scalar, $4\\times 3$ matrix, 5-component column vector, etcetera) of the following operations, or say **nonsense** if the operation doesn't make sense.\n",
    "\n",
    "1. $A B$\n",
    "2. $B A$\n",
    "3. $A B y$\n",
    "4. $B A x$\n",
    "5. $y^T A x$\n",
    "6. $y^T B x$\n",
    "7. $x^T y$\n",
    "8. $y x^T$\n",
    "9. $yx$\n",
    "10. $A^2 = AA$\n",
    "11. $B^2 = BB$\n",
    "12. $\\frac{x}{A}$\n",
    "13. $\\frac{x}{x}$\n",
    "14. $\\frac{x}{3}$\n",
    "15. $\\frac{B}{3}$"
   ]
  },
  {
   "cell_type": "markdown",
   "id": "3de57862-acf5-4181-87b3-f298ce7f8433",
   "metadata": {},
   "source": [
    "## Problem 2 (3+3+3+3+3 points)\n",
    "\n",
    "Given a function $f(x)$, we can *sample* it at $n$ equally spaced points $x_1 = a, x_2 = a+\\Delta x, x_3 = a+2\\Delta x, \\ldots, x_n = a+(n-1)\\Delta x = b$ from $a$ to $b$ to obtain a column vector\n",
    "$$\n",
    "\\vec{f} = \\begin{pmatrix} f(x_1) \\\\ f(x_2) \\\\ \\vdots \\\\ f(x_n) \\end{pmatrix} = \\begin{pmatrix} f_1 \\\\ f_2 \\\\ \\vdots \\\\ f_n \\end{pmatrix} \\, ,\n",
    "$$\n",
    "where $f_k = f(x_k) = f(a + (k-1)\\Delta x)$."
   ]
  },
  {
   "cell_type": "markdown",
   "id": "9776ce59-ae8a-470c-99ec-5a6a9c86a55e",
   "metadata": {},
   "source": [
    "**(a)** An *approximate derivative* of $f(x)$ (called a [finite-difference approximation](https://en.wikipedia.org/wiki/Finite_difference)) is given by the *difference* operation:\n",
    "$$\n",
    "D\\vec{f} = \\frac{1}{\\Delta x} \\begin{pmatrix} f_2 - f_1 \\\\ f_3 - f_2 \\\\ \\vdots f_n - f_{n-1} \\end{pmatrix}\n",
    "$$\n",
    "Write down this linear operator $D$ as a matrix (what size?) for $n=5$."
   ]
  },
  {
   "cell_type": "markdown",
   "id": "589463eb-4c7f-4ea6-8c6d-1cdc12c0e4a1",
   "metadata": {},
   "source": [
    "**(b)** Construct the *same* $D$ matrix in Julia, for $\\Delta x = 1$, using the [`diagm` function](https://docs.julialang.org/en/v1/stdlib/LinearAlgebra/#LinearAlgebra.diagm) to build matrices out of diagonal entries, and the [`fill` function](https://docs.julialang.org/en/v1/base/arrays/#Base.fill) to make vectors filled with constants.  For example, this is a $6 \\times 8$ matrix with 1's, 4's, and 7's on three diagonals:"
   ]
  },
  {
   "cell_type": "code",
   "execution_count": null,
   "id": "2eaf6a0d-ca00-4e4a-91e4-15f097c7c876",
   "metadata": {},
   "outputs": [],
   "source": [
    "using LinearAlgebra\n",
    "diagm(6,8, 0 => fill(1,6), 1 => fill(4,6), -2 => fill(7,4))"
   ]
  },
  {
   "cell_type": "code",
   "execution_count": null,
   "id": "5628adac-a924-453b-95fc-9f0755ff0b2b",
   "metadata": {},
   "outputs": [],
   "source": [
    "D = ??? # FILL IN YOUR CODE HERE"
   ]
  },
  {
   "cell_type": "markdown",
   "id": "6ba32de3-1c86-4eef-9fc0-9c657f831c23",
   "metadata": {},
   "source": [
    "**(c)** Use your same code to construct a $D$ matrix for $n=100$ and apply it to approximately differentate $f(x) = \\sin(x)$ for $a,b = 0,5$, and plot your result using the code below.  It should look like a cosine!"
   ]
  },
  {
   "cell_type": "code",
   "execution_count": null,
   "id": "dbf8fbff-29fc-43d3-a2d2-229d98571a53",
   "metadata": {},
   "outputs": [],
   "source": [
    "a, b = 0, 5\n",
    "n = 100\n",
    "Δx = (b - a) / (n - 1) # spacing for n points from a to b\n",
    "\n",
    "x = range(a, b, length=n) # array of n points from a to b\n",
    "f = sin.(x) # apply sin(x) elementwise to the vector x\n",
    "\n",
    "D = ??? # FILL IN YOUR CODE HERE\n",
    "\n",
    "# plot f and D*f\n",
    "using PyPlot\n",
    "plot(x, f, \"r-\")\n",
    "plot(x[1:end-1] .+ Δx/2, D*f, \"b-\")\n",
    "\n",
    "title(L\"$f(x) = \\sin(x)$ and approximate derivative\")\n",
    "xlabel(L\"x\")\n",
    "legend([L\"f(x)\", L\"df/dx\"])"
   ]
  },
  {
   "cell_type": "markdown",
   "id": "1c432357-3853-4928-84eb-ce7ccd28b758",
   "metadata": {},
   "source": [
    "**(d)** An *approximate integral* of a function $g(x)$ sampled at $m$ points with spacing $\\Delta x$ is given by a *sum*:\n",
    "$$\n",
    "S \\vec{g} = S \\underbrace{\\begin{pmatrix} g_1 \\\\ g_2 \\\\ \\vdots \\\\ g_m \\end{pmatrix}}_\\vec{g} = (g_1 + g_2 + \\cdots g_m) \\Delta x \\, ,\n",
    "$$\n",
    "where $g_k = g(x_k)$ similar to $\\vec{f}$.  Write the linear operator $S$ as a matrix for $m=6$."
   ]
  },
  {
   "cell_type": "markdown",
   "id": "e4b4ee1e-2970-49fc-b272-ccba02d7f453",
   "metadata": {},
   "source": [
    "**(e)** What is the product $S D$ for $n=6$ and $m = \\_\\_\\_\\_$ (for the same $\\Delta x$)?  (That is, the approximate \"integral of the derivative\" is what linear operator?)"
   ]
  },
  {
   "cell_type": "markdown",
   "id": "e0fe45e2",
   "metadata": {},
   "source": [
    "## Problem 3 (5+5 points)\n",
    "\n",
    "$B$ is a given $n \\times n$ matrix, $y$ is a given $n$-component vector, and $x$ is an unknown $n$-component vector satisfying the equations:\n",
    "$$\n",
    "B(x - y) = \\frac{x+y}{2}\n",
    "$$\n",
    "\n",
    "**(a)** Give a matrix $A$ (in terms of $B$ and/or the $n\\times n$ identity matrix $I$) and a vector $b$ (in terms of $y$ and/or $B$) such that $x$ is a solution to $Ax = b$.   (That is, we want to rewrite our equations in \"standard\" form so that we can exploit existing algorithms.  Re-arrange the equation above so that all the terms involving $x$ are on one side and all of the known vectors are on the other side.)\n",
    "\n",
    "**(b)** In Julia, $Ax = b$ can be solved with `x = A \\ b`.  Check that your $A$ and $b$ from part (a) are correct (satisfy the original equation) on a random $5\\times 5$ problem.  (Note: Julia has a built-in constant [`I`](https://docs.julialang.org/en/v1/stdlib/LinearAlgebra/#LinearAlgebra.I) that denotes a context-dependent identity matrix, e.g. `A + 2I` in Julia computes $A + 2I$.)"
   ]
  },
  {
   "cell_type": "code",
   "execution_count": null,
   "id": "bdecbb36",
   "metadata": {},
   "outputs": [],
   "source": [
    "B = randn(5,5) # a random 5×5 matrix\n",
    "y = randn(5)   # a random 5-component vector\n",
    "\n",
    "A = ???? # FILL IN YOUR CODE HERE from your answer in (a)\n",
    "b = ???? # FILL IN YOUR CODE HERE from your answer in (a)\n",
    "\n",
    "x = A \\ b # solve Ax=b\n",
    "\n",
    "# check: does B(x - y) equal (x+y)/2 , up to roundoff errors?\n",
    "\n",
    "B*(x - y) ≈ (x + y)/2 # ≈ is equality up to roundoff … should return \"true\""
   ]
  },
  {
   "cell_type": "markdown",
   "id": "3ea94b4e",
   "metadata": {},
   "source": [
    "## Problem 4 (5+5 points)\n",
    "\n",
    "(From Strang, section 2.2, problem 14.) Consider Gaussian elimination on the following system of equations:\n",
    "\n",
    "\\begin{align}\n",
    "2x + 5y + z &= 0 \\\\\n",
    "4x + dy + z &= 2 \\\\\n",
    "y - z &= 3\n",
    "\\end{align}\n",
    "\n",
    "(Write your solution in matrix form.)\n",
    "\n",
    "* What number $d$ forces you to do a row exchange during elimination, and what (non-singular) triangular system do you obtain for that $d$?\n",
    "* What value of $d$ would make this system singular (no third pivot, i.e. no way to get a triangular system with 3 nonzero values on the diagonal)?"
   ]
  },
  {
   "cell_type": "markdown",
   "id": "eaffe714",
   "metadata": {},
   "source": [
    "## Problem 5 (10 points)\n",
    "\n",
    "(From Strang, section 2.2, problem 11.)\n",
    "\n",
    "A system of linear equations Ax=b cannot have *exactly two* solutions. An easy way to see why: if two vectors x and y≠x are two solutions (i.e. Ax=b and Ay=b), what is another solution? (Hint: x+y is almost right.)"
   ]
  },
  {
   "cell_type": "markdown",
   "id": "71e69514",
   "metadata": {},
   "source": [
    "## Problem 6 (5+5+5 points)\n",
    "\n",
    "Suppose we want to solve $Ax=b$ for **more than one right-hand side** $b$.  For example, suppose\n",
    "$$\n",
    "A = \\begin{pmatrix} 1 & 6 & -3 \\\\ -2 & 3 & 4 \\\\ 1 & 0 & -2 \\end{pmatrix}\n",
    "$$\n",
    "and want to solve *both* $Ax_1 = b_1$ and $Ax_2 = b_2$ for the right-hand sides:\n",
    "$$\n",
    "b_1 = \\begin{pmatrix} 7 \\\\ 3 \\\\ 0 \\end{pmatrix} \\; b_2 = \\begin{pmatrix} 0 \\\\ -2 \\\\ 1 \\end{pmatrix}\n",
    "$$\n",
    "\n",
    "**(a)**\n",
    "\n",
    "Explain why solving *both* $Ax_1 = b_1$ and $Ax_2 = b_2$ is equivalent to solving $AX = B$ where $X$ is an unknown *matrix* (of what shape?) and B is a given matrix on the right-hand-side.   Give $B$ explicitly, and relate $X$ to your desired solutions $x_1$ and $x_2$.\n",
    "\n",
    "(Hint: how does matrix multiplication $AX$ relate to multiplying $A$ by each column of $X$?)\n",
    "\n",
    "**(b)**\n",
    "\n",
    "Solve your $AX=B$ equation by forming the augmented matrix $\\begin{pmatrix} A & B\\end{pmatrix}$, reducing it to upper-triangular form (once), and doing backsubstitution (twice) to obtain $X$ and hence $x_1$ and $x_2$.\n",
    "\n",
    "**(c)**\n",
    "\n",
    "You can solve $AX = B$ in Julia by the code `X = A \\ B`.  The matrix $A$ is given below in Julia.   Enter the matrix $B$, compute `X = A \\ B`, and verify that it matches the answer you computed by hand in (b)."
   ]
  },
  {
   "cell_type": "code",
   "execution_count": null,
   "id": "c25b98fb",
   "metadata": {},
   "outputs": [],
   "source": [
    "A = [ 1  6 -3\n",
    "     -2  3  4\n",
    "      1  0 -2 ]"
   ]
  },
  {
   "cell_type": "code",
   "execution_count": null,
   "id": "19b76c92",
   "metadata": {},
   "outputs": [],
   "source": [
    "B = [ ???\n",
    "      ???\n",
    "      ??? ]"
   ]
  },
  {
   "cell_type": "code",
   "execution_count": null,
   "id": "2c0dbd9c",
   "metadata": {},
   "outputs": [],
   "source": [
    "X = A \\ B   # solve AX = B for X"
   ]
  }
 ],
 "metadata": {
  "kernelspec": {
   "display_name": "Julia 1.8.0",
   "language": "julia",
   "name": "julia-1.8"
  },
  "language_info": {
   "file_extension": ".jl",
   "mimetype": "application/julia",
   "name": "julia",
   "version": "1.8.0"
  }
 },
 "nbformat": 4,
 "nbformat_minor": 5
}
