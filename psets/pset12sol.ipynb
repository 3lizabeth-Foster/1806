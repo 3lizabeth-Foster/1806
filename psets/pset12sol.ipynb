{
 "cells": [
  {
   "cell_type": "markdown",
   "id": "47f1f240",
   "metadata": {},
   "source": [
    "# 18.06 Problem Set 12 Solutions"
   ]
  },
  {
   "cell_type": "markdown",
   "id": "d533e909",
   "metadata": {},
   "source": [
    "## Problem 1 (8+8+5 points)\n",
    "\n",
    "Suppose we have a $5\\times 5$ **diagonalizable** matrix $A$ with diagonalization:\n",
    "$$\n",
    "A = X \\underbrace{\\begin{pmatrix} 1 & & & & \\\\ & 2 & & & \\\\ & & 2 & & \\\\ & & & 3 & \\\\ & & & & 4 \\end{pmatrix}}_\\Lambda X^{-1} \\,\n",
    "$$\n",
    "and another **non-diagonalizable** matrix $B$ with the Jordan form:\n",
    "$$\n",
    "B = Y \\underbrace{\\begin{pmatrix} 1 & & & & \\\\ & 2 & 1 & & \\\\ & & 2 & & \\\\ & & & 3 & \\\\ & & & & 4 \\end{pmatrix}}_J Y^{-1}\n",
    "$$\n",
    "You are given a function\n",
    "$$\n",
    "f(\\mu, y) = \\Vert (M - \\mu I)^{-1} y \\Vert \n",
    "$$\n",
    "where $M$ is either $A$ or $B$, but *you aren't told which one*.\n",
    "\n",
    "Now, you pick a $y$ at random and evaluate $$\\alpha = \\frac{f(2.00001, y)}{f(2.0001, y)} \\, $$\n",
    "\n",
    "**(a)** What would you expect $\\alpha$ to be, approximately, if $M = A$?   (Imagine expanding $y$ in the basis of the …)\n",
    "\n",
    "**(b)** What would you expect $\\alpha$ to be, approximately, if $M = B$?   (Imagine expanding $y$ in the basis of the …)\n",
    "\n",
    "**(c)** Check your predictions from (a) and (b) in Julia for a random `X = randn(5,5)`, a random `Y = randn(5,5)`, and a random `y = randn(5)`.  For convenience, the matrices `Λ` and `J` are entered in Julia below."
   ]
  },
  {
   "cell_type": "markdown",
   "id": "d32e7e7f",
   "metadata": {},
   "source": [
    "### Solution\n",
    "\n",
    "**(a)** We are given a **diagonalization** of the matrix $A$, so we can think in terms of eigenvectors and eigenvalues.  In matrix form, $(M-\\mu I)^{-1}=(X\\Lambda X^{-1}-\\mu I)^{-1}=\\bigl(X(\\Lambda-\\mu I)X^{-1}\\bigr)^{-1}=X(\\Lambda - \\mu I)^{-1} X^{-1}$. Equivalently, if we write $y$ in the basis of eigenvectors of $A$ (i.e., the columns of $X$): $y=c_1x_1+\\cdots+c_5x_5$, we have $p(A)y=c_1p(\\lambda_1)x_1+\\cdots+c_5p(\\lambda_5)x_5$. Here $p(\\lambda)=(\\lambda-\\mu)^{-1}$, so when $\\mu$ approches $2$, $p(A)y$ is dominated by the terms invoving $p(2)$, i.e., $c_2x_2$ and $c_3x_3$. Thus $f(\\mu,y)\\approx \\lVert (2-\\mu)^{-1}(c_2x_2+c_3x_3)\\rVert$. In conclusion, $\\alpha\\approx \\dfrac{\\lvert(2-2.00001)^{-1}\\rvert}{\\lvert(2-2.0001)^{-1}\\rvert}=\\boxed{10}$. \n",
    "\n",
    "**(b)** We can still write $y$ in the columns of $Y$: $y=c_1x_1+\\cdots+c_5x_5$. But in this case, the Jordan form is *not* diagonal — the $1$ above the diagonal tells us that $B$ is **defective** with a repeated eigenvalue $\\lambda=2$ that has only one independent eigenvector.  $x_2$ is the eigenvector and $x_3$ is the generalized eigenvector corresponding to eigenvalue $2$. Thus $p(B)x_3=p(2)x_3+p'(2)x_2$. Since $p'(2)=-(2-\\mu)^{-2}$, $p(B)y$ is dominated by the terms invoving $p'(2)$, i.e., $c_3x_2$. Thus $f(\\mu,y)\\approx \\lVert -(2-\\mu)^{-2}c_3x_2\\rVert$. In conclusion, $\\alpha\\approx \\dfrac{\\lvert-(2-2.00001)^{-2}\\rvert}{\\lvert-(2-2.0001)^{-2}\\rvert}=\\boxed{100}$. \n",
    "\n",
    "**(c)**"
   ]
  },
  {
   "cell_type": "code",
   "execution_count": 1,
   "id": "952ec963",
   "metadata": {},
   "outputs": [
    {
     "data": {
      "text/plain": [
       "5×5 Diagonal{Int64, Vector{Int64}}:\n",
       " 1  ⋅  ⋅  ⋅  ⋅\n",
       " ⋅  2  ⋅  ⋅  ⋅\n",
       " ⋅  ⋅  2  ⋅  ⋅\n",
       " ⋅  ⋅  ⋅  3  ⋅\n",
       " ⋅  ⋅  ⋅  ⋅  4"
      ]
     },
     "execution_count": 1,
     "metadata": {},
     "output_type": "execute_result"
    }
   ],
   "source": [
    "using LinearAlgebra\n",
    "Λ = Diagonal([1,2,2,3,4])"
   ]
  },
  {
   "cell_type": "code",
   "execution_count": 2,
   "id": "5a43bd12",
   "metadata": {},
   "outputs": [
    {
     "data": {
      "text/plain": [
       "5×5 Bidiagonal{Int64, Vector{Int64}}:\n",
       " 1  0  ⋅  ⋅  ⋅\n",
       " ⋅  2  1  ⋅  ⋅\n",
       " ⋅  ⋅  2  0  ⋅\n",
       " ⋅  ⋅  ⋅  3  0\n",
       " ⋅  ⋅  ⋅  ⋅  4"
      ]
     },
     "execution_count": 2,
     "metadata": {},
     "output_type": "execute_result"
    }
   ],
   "source": [
    "J = Bidiagonal([1,2,2,3,4],[0,1,0,0],:U)"
   ]
  },
  {
   "cell_type": "markdown",
   "id": "d9fabbfd",
   "metadata": {},
   "source": [
    "Now, let's make a random $A$ from a random $X$ as suggested, and compute the ratio $f(2.00001,y)/f(2.0001,y)$:"
   ]
  },
  {
   "cell_type": "code",
   "execution_count": 3,
   "id": "59f33459",
   "metadata": {},
   "outputs": [
    {
     "data": {
      "text/plain": [
       "10.000277195061413"
      ]
     },
     "execution_count": 3,
     "metadata": {},
     "output_type": "execute_result"
    }
   ],
   "source": [
    "X = randn(5,5)\n",
    "A = X*Λ/X\n",
    "f(μ,y) = norm((A-μ*I)\\y)\n",
    "y = randn(5)\n",
    "f(2.00001,y)/f(2.0001,y)"
   ]
  },
  {
   "cell_type": "markdown",
   "id": "0457c357",
   "metadata": {},
   "source": [
    "Indeed, it is **very close to 10** as predicted.\n",
    "\n",
    "If we do the same thing for $B$, let's call the function $g(\\mu,y)$ so that Julia doesn't get confused:"
   ]
  },
  {
   "cell_type": "code",
   "execution_count": 4,
   "id": "c0ab551e",
   "metadata": {},
   "outputs": [
    {
     "data": {
      "text/plain": [
       "100.01268608114778"
      ]
     },
     "execution_count": 4,
     "metadata": {},
     "output_type": "execute_result"
    }
   ],
   "source": [
    "Y = randn(5,5)\n",
    "B = Y * J / Y\n",
    "g(μ,y) = norm((B-μ*I)\\y)\n",
    "g(2.00001,y)/g(2.0001,y)"
   ]
  },
  {
   "cell_type": "markdown",
   "id": "5d458553",
   "metadata": {},
   "source": [
    "Now it is **very close to 100** as predicted above."
   ]
  },
  {
   "cell_type": "markdown",
   "id": "5fef2b7a",
   "metadata": {},
   "source": [
    "## Problem 2 (10 points)\n",
    "\n",
    "Suppose $A$ is a positive Markov matrix, so that there is a steady-state eigenvalue $\\lambda=1$ with algebraic and geometric multiplicity 1 and all other eigenvalues have $|\\lambda|<1$, as stated in class.\n",
    "\n",
    "Suppose that $A$ is **defective**, however.  Does $A^n x$ still converge as $n \\to \\infty$ to a steady-state eigenvector for an arbitrary initial $x$?  Why or why not?  (If we expand $x$ in a basis of eigenvectors + generalized eigenvectors, how does each term behave when you multiply by $A^n$?)"
   ]
  },
  {
   "cell_type": "markdown",
   "id": "82549ece",
   "metadata": {},
   "source": [
    "### Solution\n",
    "\n",
    "If the matrix is defective, then it may have **repeated eigenvalues** with too few eigenvectors — we have to use \"Jordan vectors\" (\"generalized eigenvectors\") to complete our basis and understand what $A^n$ does to an arbitrary $x$.  The key point is that, for a **positive** Markov matrix, these repeated eigenvalues **must have |λ|<1**.\n",
    "\n",
    "Το understand what $A^n$ does to an arbitrary vector, it suffices to ask what it does to the eigenvectors and Jordan vectors in our basis.  We already know from class what it does to the eigenvectors (the steady state eigenvector stays constant, and the other eigenvectors decay away).  But what does it do to the Jordan vectors?  We need the **Jordan vector terms to decay away too** in order to be left with our steady state eigenvector.  Do they?\n",
    "\n",
    "**Yes.** Consider, as in class, an eigenvalue $\\lambda_k$ with multiplicity 2 that has one eigenvector $x_k$ and one Jordan vector $j_k$.  From class, we have:\n",
    "$$\n",
    "A^n j_k = \\lambda_k^n j_k + n \\lambda_k^{n-1} x_k \\, .\n",
    "$$\n",
    "**Both of these terms decay** for $|\\lambda_k| < 1$: the first term is obvious, and the second term because the *exponential* decay of $\\lambda_k^{n-1}$ beats the *linear* growth of $n$.\n",
    "\n",
    "For completeness, we should also consider eigenvalues with multiplicity 3 or higher (\"Jordan blocks\" of $3\\times 3$ or more).  I only briefly mentioned those in class, but the key point is that they give terms that look like **(higher) derivatives** of $\\lambda^n$, which are always **polynomials in n** times powers of $\\lambda$.  So, if $|\\lambda| < 1$, they still decay: exponential decay always beats polynomial growth."
   ]
  },
  {
   "cell_type": "markdown",
   "id": "aef3d5d1",
   "metadata": {},
   "source": [
    "## Problem 3 (5+5+5+2 points)\n",
    "\n",
    "$A$ is a **Hermitian positive-definite matrix** with eigenvalues (sorted in descending order) $\\lambda_1 > \\lambda_2 > \\lambda_3 > \\cdots > 0$.\n",
    "\n",
    "We carry out 1000 steps of the **power method** (repeatedly computing $q \\leftarrow \\mathrm{normalize}(Aq)$ from a random starting vector, where we define $\\mathrm{normalize}(x) = x / \\Vert x \\Vert$) and we get a pretty good estimate of an eigenvector $q_1$ of the biggest eigenvalue $\\lambda_1$.\n",
    "\n",
    "**(a)** If we pick another random starting vector $x$, compute $y = x - q_1 q_1^H x$, and apply 1000 steps of the power method, what would you expect to get if $q_1$ were *exactly* an eigenvector of $\\lambda_1$ and the arithmetic is carried out *exactly* (no tiny roundoff errors in the 15th significant digit)?   An eigenvector for which eigenvalue?\n",
    "\n",
    "**(b)** If you carry out the steps of (a) but $q_1$ is only a (very good) approximation of an eigenvector (such as you might get from the power method) and/or you make tiny roundoff errors in each arithmetic step, what would you expect to get after 1000 iterations of the power method?  An eigenvector for which eigenvalue?\n",
    "\n",
    "**(c)** In practice, the power method after the first eigenvector $q_1$ is found (approximately) is better carried out by repeatedly computing  $q \\leftarrow \\mathrm{normalize}((I-q_1q_1^T)Aq)$, a process called \"deflation\".   This should converge to an eigenvector for which eigenvalue?\n",
    "\n",
    "**(d)** Check your predictions in parts (b) and (c) numerically below for a random $A$ by filling in the `????` lines."
   ]
  },
  {
   "cell_type": "markdown",
   "id": "a0907858",
   "metadata": {},
   "source": [
    "### Solution\n",
    "\n",
    "As usual, it is helpful to imagine expanding $x$ in the basis of eigenvectors, and ask what *each step* of the algorithm does to *each* term.  To distinguish them from the eigenvector estimates produced by the power method (which may be approximate), let's denote the eigenvectors corresponding to $\\lambda_i$ by $v_i$ (chosen *orthonormal* since $A$ is Hermitian) and suppose that we write $x$ in this basis:\n",
    "$$x=c_1v_1+c_2v_2+c_3v_3+\\cdots \\, . $$\n",
    "\n",
    "**(a)** If $q_1=v_1$ (an exact eigenvector for $\\lambda_1$) and we write $y=x-q_1q_1^Hx=c_2v_2+c_3v_3+\\cdots$: you have **projected y to be orthogonal to v₁**, so you **cancelled the v₁ component**.   If we then multiply (*exactly*) by $A$ over and over as in the power method, there is no $v_1$ term to amplify, so what you would get is (approximately) proportional to the eigenvector $v_2$ of the **second-biggest |λ|**.\n",
    "\n",
    "More precisely, applying 1000 steps of the power method is mathematically equivalent (in exact arithmetic) to $\\text{normalize}(A^{1000} y)=\\text{normalize}(c_2\\lambda_2^{1000}v_2+c_3\\lambda_3^{1000}v_3+\\cdots)$. Then we expect the result is approximately $\\text{normalize}(c_2\\lambda_2^{1000}v_2)=\\pm v_2$, an eigenvector corresponding to the second largest-magnitude eigenvalue. \n",
    "\n",
    "(The reason I keep saying \"in exact arithmetic\" is that this calculation is **impossible on a real computer**.  For one thing, computing eigenvalues and eigenvectors exactly is impossible even in principle for matrices bigger than $4\\times 4$ because [solving a quintic equation exactly is impossible](https://en.wikipedia.org/wiki/Abel%E2%80%93Ruffini_theorem).  Moreover, real computers can only store a [finite number of digits](https://en.wikipedia.org/wiki/Floating-point_arithmetic) when carrying out calculations, so there will typically be at least some tiny roundoff error in every arithmetic operation.)\n",
    "\n",
    "**(b)** If $q_1$ is only an approximation of $v_1$, then the projection $y=x-q_1q_1^Hx$ may not *exactly* cancel the $c_1 v_1$ term.  There will be some tiny leftover term proportional to $v_1$, but then when you multiply by $A^{1000}$ (in 1000 power iterations) this tiny leftover will be exponentially amplified until it eventually again dominates the result.   So, we would expect to get a result (approximately) **proportional v₁** (i.e. **proportional to q₁≈v₁**).\n",
    "\n",
    "(In fact, even if our starting vector $y$ were *exactly* orthogonal to $v_1$, arithmetic roundoff errors in the steps of the power method will generally give a tiny $v_1$ component again, which will then be exponentially amplified.)\n",
    "\n",
    "**(c)** Here, we are approximately projecting orthogonal to $v_1$ **on every iteration of the power method**.  This forces the $v_1$ component to stay small (if it starts to grow, we immediately project it back to a small quantity), so the result is dominated by the $v_2$ term.  So, just as in part (a), what you would get is (approximately) proportional to the eigenvector $v_2$ of the **second-biggest |λ|**.\n",
    "\n",
    "Unlike the method in part (a), the method in part (c) actually works in real calculations, as you will verify in the next part.\n",
    "\n",
    "(A detailed analysis of how errors propagate through these algorithms is a topic for [numerical analysis](https://en.wikipedia.org/wiki/Numerical_analysis) and is outside the scope of 18.06.)\n",
    "\n",
    "**(d)** We should check our predictions of parts (b) and (c) by verifying that those algorithms yield approximate eigenvectors of $\\lambda_1$ and $\\lambda_1$, respectively.  So, we should check that `A*q⁽ᵇ⁾ - λ[1]*q⁽ᵇ⁾` is small and check that `A*q⁽ᶜ⁾ - λ[2]*q⁽ᶜ⁾` is small (i.e. the `????` should be replaced with `1` and `2` in the two parts) below:"
   ]
  },
  {
   "cell_type": "code",
   "execution_count": 5,
   "id": "338acad9",
   "metadata": {},
   "outputs": [
    {
     "data": {
      "text/plain": [
       "5-element Vector{Float64}:\n",
       "  0.0\n",
       "  8.881784197001252e-16\n",
       " -4.440892098500626e-16\n",
       "  0.0\n",
       "  0.0"
      ]
     },
     "execution_count": 5,
     "metadata": {},
     "output_type": "execute_result"
    }
   ],
   "source": [
    "using LinearAlgebra\n",
    "\n",
    "B = randn(5,5)\n",
    "A = B'B # a random positive-definite Hermitian matrix\n",
    "\n",
    "λ = reverse(eigvals(A)) # eigenvalues in descending order\n",
    "\n",
    "# the power iteration to find q₁\n",
    "q₁ = normalize(rand(5))\n",
    "for i = 1:1000\n",
    "    q₁ = normalize(A*q₁)\n",
    "end\n",
    "\n",
    "# check that this is approximately an eigenvector of λ₁\n",
    "# — the following difference should be almost zero:\n",
    "A*q₁ - λ[1]*q₁ "
   ]
  },
  {
   "cell_type": "code",
   "execution_count": 6,
   "id": "5106dcab",
   "metadata": {},
   "outputs": [
    {
     "data": {
      "text/plain": [
       "5-element Vector{Float64}:\n",
       " 0.0\n",
       " 8.881784197001252e-16\n",
       " 0.0\n",
       " 1.1102230246251565e-16\n",
       " 0.0"
      ]
     },
     "execution_count": 6,
     "metadata": {},
     "output_type": "execute_result"
    }
   ],
   "source": [
    "# the power iteration in part (b)\n",
    "q⁽ᵇ⁾ = normalize((I - q₁*q₁')*rand(5))\n",
    "for i = 1:1000\n",
    "    q⁽ᵇ⁾ = normalize(A*q⁽ᵇ⁾)\n",
    "end\n",
    "\n",
    "# check that this is approximately an eigenvector of which λ? ANSWER: λ[1]\n",
    "A*q⁽ᵇ⁾ - λ[1]*q⁽ᵇ⁾ "
   ]
  },
  {
   "cell_type": "markdown",
   "id": "cbb04998",
   "metadata": {},
   "source": [
    "Hooray, it **matches our answer in part (b)**.  Now to check part (c):"
   ]
  },
  {
   "cell_type": "code",
   "execution_count": 7,
   "id": "2e181440",
   "metadata": {},
   "outputs": [
    {
     "data": {
      "text/plain": [
       "5-element Vector{Float64}:\n",
       " -3.552713678800501e-15\n",
       " -4.440892098500626e-16\n",
       " -1.7763568394002505e-15\n",
       " -1.1102230246251565e-15\n",
       "  3.552713678800501e-15"
      ]
     },
     "execution_count": 7,
     "metadata": {},
     "output_type": "execute_result"
    }
   ],
   "source": [
    "# the power iteration in part (c)\n",
    "q⁽ᶜ⁾ = normalize(rand(5))\n",
    "for i = 1:1000\n",
    "    q⁽ᶜ⁾ = normalize((I - q₁*q₁')*A*q⁽ᶜ⁾)\n",
    "end\n",
    "\n",
    "# check that this is approximately an eigenvector of which λ? ANSWER: λ[2]\n",
    "A*q⁽ᶜ⁾ - λ[2]*q⁽ᶜ⁾ "
   ]
  },
  {
   "cell_type": "markdown",
   "id": "b212b97d",
   "metadata": {},
   "source": [
    "Again, it **matches our answer in part (c)**."
   ]
  }
 ],
 "metadata": {
  "@webio": {
   "lastCommId": null,
   "lastKernelId": null
  },
  "kernelspec": {
   "display_name": "Julia 1.7.1",
   "language": "julia",
   "name": "julia-1.7"
  },
  "language_info": {
   "file_extension": ".jl",
   "mimetype": "application/julia",
   "name": "julia",
   "version": "1.7.1"
  }
 },
 "nbformat": 4,
 "nbformat_minor": 5
}
