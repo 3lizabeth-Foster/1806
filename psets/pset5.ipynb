{
 "cells": [
  {
   "cell_type": "markdown",
   "metadata": {},
   "source": [
    "##### 18.06 Spring2019  pset 5 (under construction)\n",
    "## due  Wednesday  3/13 at 10:55am"
   ]
  },
  {
   "cell_type": "markdown",
   "metadata": {},
   "source": [
    "(1) Suppose y₁(x),y₂(x),y₃(x),y₄(x) are four non-zero polynomials of degree at most 2.  (This means\n",
    "the functions have the form ax²+bx+c, where at least one of the coefficients is nonzero.) \n",
    "What possibilities are there in the dimension of the vector space spanned by y₁(x),y₂(x),y₃(x),y₄(x)?\n",
    "Give examples for each possibility and explain briefly why no other dimension can happen."
   ]
  },
  {
   "cell_type": "code",
   "execution_count": null,
   "metadata": {},
   "outputs": [],
   "source": []
  }
 ],
 "metadata": {
  "kernelspec": {
   "display_name": "Julia 1.0.0",
   "language": "julia",
   "name": "julia-1.0"
  },
  "language_info": {
   "file_extension": ".jl",
   "mimetype": "application/julia",
   "name": "julia",
   "version": "1.0.0"
  }
 },
 "nbformat": 4,
 "nbformat_minor": 2
}
