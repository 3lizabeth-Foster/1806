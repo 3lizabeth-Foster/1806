{
 "cells": [
  {
   "cell_type": "code",
   "execution_count": 1,
   "metadata": {},
   "outputs": [],
   "source": [
    "using LinearAlgebra"
   ]
  },
  {
   "cell_type": "markdown",
   "metadata": {},
   "source": [
    "# Markov matrices\n",
    "\n",
    "A matrix $A$ is a **Markov matrix** if\n",
    "\n",
    "* Its entries are all $\\ge 0$\n",
    "* Each **column**'s entries **sum to 1**\n",
    "\n",
    "Typicaly, a Markov matrix's entries represent **transition probabilities** from one state to another.\n",
    "\n",
    "For example, consider the $2 \\times 2$ Markov matrix:"
   ]
  },
  {
   "cell_type": "code",
   "execution_count": 2,
   "metadata": {},
   "outputs": [
    {
     "data": {
      "text/plain": [
       "2×2 Matrix{Float64}:\n",
       " 0.9  0.2\n",
       " 0.1  0.8"
      ]
     },
     "execution_count": 2,
     "metadata": {},
     "output_type": "execute_result"
    }
   ],
   "source": [
    "A = [0.9 0.2\n",
    "     0.1 0.8]"
   ]
  },
  {
   "cell_type": "markdown",
   "metadata": {},
   "source": [
    "Let us suppose that this represents the fraction of people switching majors each year between math and English literature.\n",
    "\n",
    "Let\n",
    "$$\n",
    "x = \\begin{pmatrix} m \\\\ e \\end{pmatrix}\n",
    "$$\n",
    "\n",
    "represent the number of math majors $m$ and English majors $e$.  Suppose that each year, 10% of math majors and 20% of English majors switch majors.  After one year, the new number of math and English majors is:\n",
    "\n",
    "$$\n",
    "m' = 0.9 m + 0.2 e \\\\\n",
    "e' = 0.1 m + 0.8 e\n",
    "$$\n",
    "\n",
    "But this is equivalent to a matrix multiplication!  i.e. the numbers $x'$ of majors after one year is\n",
    "\n",
    "$$\n",
    "x' = A x \\,\n",
    "$$\n",
    "\n",
    "Note that the two Markov properties are critical: we never have negative numbers of majors (or negative probabilities), and the probabilities must sum to 1 (the net number of majors is not changing: we're not including new students or people that graduate in this silly model)."
   ]
  },
  {
   "cell_type": "markdown",
   "metadata": {},
   "source": [
    "## Eigenvalues of Markov matrices\n",
    "\n",
    "There are two key questions about Markov matrices that can be answered by analysis of their eigenvalues:\n",
    "\n",
    "* Is there a **steady state**?\n",
    "  - i.e. is there an $x_0 \\ne 0$ such that $A x_0 = x_0$?\n",
    "  - i.e. is there $\\lambda_0 = 1$ eigenvector $x_0$?\n",
    "\n",
    "* Does the system **tend toward a steady state?**\n",
    "  - i.e. does $A^n x \\to \\mbox{multiple of } x_0$ as $n \\to \\infty$?\n",
    "  - i.e. is $\\lambda = 1$ the **largest** $|\\lambda|$?\n",
    "  \n",
    "The answers are **YES** for **any Markov** matrix $A$, and **YES** for any *positive* Markov matrix (Markov matrices with entries $> 0$, not just $\\ge 0$).  For *any* Markov matrix, all of the λ satisfy $|\\lambda| \\le 1$, but if there are zero entries in the matrix we *may* have multiple $|\\lambda|=1$ eigenvalues (though this doesn't happen often in practical Markov problems)."
   ]
  },
  {
   "cell_type": "code",
   "execution_count": 3,
   "metadata": {},
   "outputs": [
    {
     "data": {
      "text/plain": [
       "2-element Vector{Float64}:\n",
       " 0.7\n",
       " 1.0"
      ]
     },
     "execution_count": 3,
     "metadata": {},
     "output_type": "execute_result"
    }
   ],
   "source": [
    "eigvals(A)"
   ]
  },
  {
   "cell_type": "markdown",
   "metadata": {},
   "source": [
    "Let's try just multipling it many times by a \"random\" vector and see whether it is converging to a steady state:"
   ]
  },
  {
   "cell_type": "code",
   "execution_count": 4,
   "metadata": {},
   "outputs": [
    {
     "data": {
      "text/plain": [
       "2-element Vector{Float64}:\n",
       " 14.000000000000089\n",
       "  7.000000000000044"
      ]
     },
     "execution_count": 4,
     "metadata": {},
     "output_type": "execute_result"
    }
   ],
   "source": [
    "A^100 * [17, 4]"
   ]
  },
  {
   "cell_type": "markdown",
   "metadata": {},
   "source": [
    "Yes, it seems to be giving a vector that is not changing, which shoud be a multiple $c x_0$ of a steady-state eigenvector:"
   ]
  },
  {
   "cell_type": "code",
   "execution_count": 5,
   "metadata": {},
   "outputs": [
    {
     "data": {
      "text/plain": [
       "2-element Vector{Float64}:\n",
       " 14.000000000000874\n",
       "  7.000000000000437"
      ]
     },
     "execution_count": 5,
     "metadata": {},
     "output_type": "execute_result"
    }
   ],
   "source": [
    "cx₀ = A^1000 * [17, 4]"
   ]
  },
  {
   "cell_type": "markdown",
   "metadata": {},
   "source": [
    "Let's check that this is an eigenvector of $A$ with eigenvalue $\\lambda=1$:"
   ]
  },
  {
   "cell_type": "code",
   "execution_count": 6,
   "metadata": {},
   "outputs": [
    {
     "data": {
      "text/plain": [
       "2-element Vector{Float64}:\n",
       " 14.000000000000874\n",
       "  7.000000000000437"
      ]
     },
     "execution_count": 6,
     "metadata": {},
     "output_type": "execute_result"
    }
   ],
   "source": [
    "A * cx₀"
   ]
  },
  {
   "cell_type": "markdown",
   "metadata": {},
   "source": [
    "To see why, the key idea is to write the columns-sum-to-one property of Markov matrices in linear-algebra terms.  It is equivalent to the statement:\n",
    "\n",
    "$$\n",
    "\\underbrace{\\begin{pmatrix} 1 & 1 & \\cdots & 1 & 1 \\end{pmatrix}}_{o^T} A = o^T\n",
    "$$\n",
    "\n",
    "since this is just the operation that sums all of the rows of $A$.  Equivalently, if we transpose both sides:\n",
    "\n",
    "$$\n",
    "A^T o = o\n",
    "$$\n",
    "\n",
    "i.e. $o$ is an eigenvector of $A^T$ (called a **left eigenvector of A**) with eigenvalue $\\lambda = 1$.\n",
    "\n",
    "But since $A$ and $A^T$ have the **same eigenvalues** (they have the same characteristic polynomial $\\det (A - \\lambda I) = \\det (A^T - \\lambda I)$ because transposed don't change determinants), this means that $A$ **also has an eigenvalue 1** but with a **different eigenvector**."
   ]
  },
  {
   "cell_type": "code",
   "execution_count": 7,
   "metadata": {},
   "outputs": [
    {
     "data": {
      "text/plain": [
       "1×2 adjoint(::Vector{Float64}) with eltype Float64:\n",
       " 1.0  1.0"
      ]
     },
     "execution_count": 7,
     "metadata": {},
     "output_type": "execute_result"
    }
   ],
   "source": [
    "o = [1,1]\n",
    "o'A"
   ]
  },
  {
   "cell_type": "code",
   "execution_count": 8,
   "metadata": {},
   "outputs": [
    {
     "data": {
      "text/plain": [
       "2-element Vector{Float64}:\n",
       " 1.0\n",
       " 1.0"
      ]
     },
     "execution_count": 8,
     "metadata": {},
     "output_type": "execute_result"
    }
   ],
   "source": [
    "A' * o"
   ]
  },
  {
   "cell_type": "markdown",
   "metadata": {},
   "source": [
    "An eigenvector of $A$ with eigenvalue $1$ must be a basis for $N(A - I)$:"
   ]
  },
  {
   "cell_type": "code",
   "execution_count": 9,
   "metadata": {},
   "outputs": [
    {
     "data": {
      "text/plain": [
       "2×2 Matrix{Float64}:\n",
       " -0.1   0.2\n",
       "  0.1  -0.2"
      ]
     },
     "execution_count": 9,
     "metadata": {},
     "output_type": "execute_result"
    }
   ],
   "source": [
    "A - 1*I"
   ]
  },
  {
   "cell_type": "markdown",
   "metadata": {},
   "source": [
    "By inspection, $A - I$ is singular here: the second column is -2 times the first.  So, $x_0 = (2,1)$ is a basis for its nullspace, and is a steady state:"
   ]
  },
  {
   "cell_type": "code",
   "execution_count": 10,
   "metadata": {},
   "outputs": [
    {
     "data": {
      "text/plain": [
       "2-element Vector{Float64}:\n",
       " 5.551115123125783e-17\n",
       " 5.551115123125783e-17"
      ]
     },
     "execution_count": 10,
     "metadata": {},
     "output_type": "execute_result"
    }
   ],
   "source": [
    "(A - I) * [2,1]"
   ]
  },
  {
   "cell_type": "markdown",
   "metadata": {},
   "source": [
    "Let's check if some arbitrary starting vector $(3,0)$ tends towards this steady state:"
   ]
  },
  {
   "cell_type": "code",
   "execution_count": 11,
   "metadata": {},
   "outputs": [
    {
     "data": {
      "text/latex": [
       "$\n",
       "\\begin{pmatrix} 3.0\\\\0.0\\end{pmatrix} \\longrightarrow \\begin{pmatrix} 2.7\\\\0.3\\end{pmatrix} \\longrightarrow \\begin{pmatrix} 2.49\\\\0.51\\end{pmatrix} \\longrightarrow \\begin{pmatrix} 2.343\\\\0.657\\end{pmatrix} \\longrightarrow \\begin{pmatrix} 2.24\\\\0.76\\end{pmatrix} \\longrightarrow \\\\\n",
       "\\begin{pmatrix} 2.24\\\\0.76\\end{pmatrix} \\longrightarrow \\begin{pmatrix} 2.168\\\\0.832\\end{pmatrix} \\longrightarrow \\begin{pmatrix} 2.118\\\\0.882\\end{pmatrix} \\longrightarrow \\begin{pmatrix} 2.082\\\\0.918\\end{pmatrix} \\longrightarrow \\begin{pmatrix} 2.058\\\\0.942\\end{pmatrix} \\longrightarrow \\\\\n",
       "\\begin{pmatrix} 2.058\\\\0.942\\end{pmatrix} \\longrightarrow \\begin{pmatrix} 2.04\\\\0.96\\end{pmatrix} \\longrightarrow \\begin{pmatrix} 2.028\\\\0.972\\end{pmatrix} \\longrightarrow \\begin{pmatrix} 2.02\\\\0.98\\end{pmatrix} \\longrightarrow \\begin{pmatrix} 2.014\\\\0.986\\end{pmatrix} \\longrightarrow \\\\\n",
       "\\begin{pmatrix} 2.014\\\\0.986\\end{pmatrix} \\longrightarrow \\begin{pmatrix} 2.01\\\\0.99\\end{pmatrix} \\longrightarrow \\begin{pmatrix} 2.007\\\\0.993\\end{pmatrix} \\longrightarrow \\begin{pmatrix} 2.005\\\\0.995\\end{pmatrix} \\longrightarrow \\begin{pmatrix} 2.003\\\\0.997\\end{pmatrix} \\longrightarrow \\\\\n",
       "\\begin{pmatrix} 2.003\\\\0.997\\end{pmatrix} \\longrightarrow \\begin{pmatrix} 2.002\\\\0.998\\end{pmatrix} \\longrightarrow \\begin{pmatrix} 2.002\\\\0.998\\end{pmatrix} \\longrightarrow \\begin{pmatrix} 2.001\\\\0.999\\end{pmatrix} \\longrightarrow \\begin{pmatrix} 2.001\\\\0.999\\end{pmatrix} \\longrightarrow \\\\\n",
       "\\begin{pmatrix} 2.001\\\\0.999\\end{pmatrix} \\longrightarrow \\begin{pmatrix} 2.001\\\\0.999\\end{pmatrix} \\longrightarrow \\begin{pmatrix} 2.0\\\\1.0\\end{pmatrix} \\longrightarrow \\begin{pmatrix} 2.0\\\\1.0\\end{pmatrix} \\longrightarrow \\begin{pmatrix} 2.0\\\\1.0\\end{pmatrix} \\longrightarrow \\\\\n",
       "$\n"
      ]
     },
     "metadata": {},
     "output_type": "display_data"
    }
   ],
   "source": [
    "# The following code prints a sequence of Aⁿx values\n",
    "# for n=0,1,2,… nicely formatted with LaTeX.\n",
    "\n",
    "x = [3, 0]\n",
    "pmatrix(x) = string(\"\\\\begin{pmatrix} \", round(x[1],digits=3), \"\\\\\\\\\", round(x[2],digits=3), \"\\\\end{pmatrix}\")\n",
    "buf = IOBuffer()\n",
    "println(buf, \"\\$\")\n",
    "for k = 1:6\n",
    "    print(buf, pmatrix(x), \" \\\\longrightarrow \")\n",
    "    for i = 1:4\n",
    "        x = A*x\n",
    "        print(buf, pmatrix(x), \" \\\\longrightarrow \")\n",
    "    end\n",
    "    println(buf, \"\\\\\\\\\")\n",
    "end\n",
    "println(buf, \"\\$\")\n",
    "display(\"text/latex\", String(take!(buf)))"
   ]
  },
  {
   "cell_type": "markdown",
   "metadata": {},
   "source": [
    "Yes!  In fact, it tends to exactly $(2,1)$, because the other eigenvalue is $< 1$ (and hence that eigenvector component decays exponentially fast).\n",
    "\n",
    "An interesting property is that the **sum of the vector components is conserved** when we multiply by a Markov matrix.  Given a vector $x$, $o^T x$ is the sum of its components.  But $o^T A = o^T$, so:\n",
    "\n",
    "$$\n",
    "o^T A x = o^T x = o^T A^n x\n",
    "$$\n",
    "\n",
    "for any $n$!  This is why $(3,0)$ must tend to $(2,1)$, and not to any other multiple of $(2,1)$, because both of them sum to 3.  (The \"number of majors\" is conserved in this problem.)"
   ]
  },
  {
   "cell_type": "markdown",
   "metadata": {},
   "source": [
    "## Why no eigenvalues > 1?\n",
    "\n",
    "Why are all $|\\lambda| \\le 1$ for a Markov matrix?\n",
    "\n",
    "The key fact is that the **product AB of two Markov matrices A and B is also Markov**.  Reasons:\n",
    "\n",
    "* If $A$ and $B$ have nonnegative entries, $AB$ does as well: matrix multiplication uses only $\\times$ and $+$, and can't introduce a minus sign.\n",
    "\n",
    "* If $o^T A = o^T$ and $o^T B = o^T$ (both have columns summing to 1), then $o^T AB = o^T B = o^T$: the columns of $AB$ sum to 1.\n",
    "\n",
    "For example, $A^n$ is a Markov matrix for any $n$ if $A$ is Markov.\n",
    "\n",
    "Now, if there were an eigenvalue $|\\lambda| > 1$, the matrix $A^n$ would have to *blow up exponentially* as $n\\to \\infty$ (since the matrix times that eigenvector, or any vector with a nonzero component of that eigenvector, would blow up).  But since $A^n$ is Markov, all of its entries must be between 0 and 1.  It can't blow up!  So we must have all $|\\lambda| \\le 1$."
   ]
  },
  {
   "cell_type": "code",
   "execution_count": 12,
   "metadata": {},
   "outputs": [
    {
     "data": {
      "text/plain": [
       "2×2 Matrix{Float64}:\n",
       " 0.666667  0.666667\n",
       " 0.333333  0.333333"
      ]
     },
     "execution_count": 12,
     "metadata": {},
     "output_type": "execute_result"
    }
   ],
   "source": [
    "A^100"
   ]
  },
  {
   "cell_type": "markdown",
   "metadata": {},
   "source": [
    "(In fact, $A^n$ is pretty boring for large $n$: it just takes in any vector and redistributes it to the steady state.)\n",
    "\n",
    "Another way of thinking about $A^{100}$ is\n",
    "$$\n",
    "A^{100} = A^{100} \\begin{pmatrix} 1 & 0 \\\\ 0 & 1 \\end{pmatrix} =\n",
    "\\begin{pmatrix}\n",
    "   A^{100} \\begin{pmatrix} 1 \\\\ 0 \\end{pmatrix} &\n",
    "   A^{100} \\begin{pmatrix} 0 \\\\ 1 \\end{pmatrix}\n",
    "\\end{pmatrix}\n",
    "$$\n",
    "i.e. it multiplies $A^{100}$ by each column of the identity matrix (= different possible \"starting populations\").   Because of this, each column of $A^{100}$ tends towards an eigenvector with the biggest $|\\lambda|$."
   ]
  },
  {
   "cell_type": "markdown",
   "metadata": {},
   "source": [
    "## Can there be more than one steady state?\n",
    "\n",
    "We have just showed that we have *at least one* eigenvalue $\\lambda = 1$, and that *all* eigenvalues satisfy $|\\lambda| \\le 1$.  But can there be *more than one* independent eigenvector with $\\lambda = 1$?\n",
    "\n",
    "**Yes!** For example, the **identity matrix** $I$ is a Markov matrix, and *all* of its eigenvectors have eigenvalue $1$.  Since $Ix = x$ for *any* $x$, *every vector is a steady state* for $I$!\n",
    "\n",
    "But this does not usually happen for *interesting* Markov matrices coming from real problems.  In fact, there is a theorem:\n",
    "\n",
    "* If all the entries of a Markov matrix are $> 0$ (not just $\\ge 0$), then *exactly one* of its eigenvalues $\\lambda = 1$ (that eigenvalue has \"multiplicity 1\": $N(A-I)$ is one-dimensional), and **all other eigenvalues have** $|\\lambda| < 1$.  There is a *unique steady state* (up to an overall scale factor).\n",
    "\n",
    "I'm not going to prove this in 18.06, however."
   ]
  },
  {
   "cell_type": "markdown",
   "metadata": {},
   "source": [
    "## Can the solutions oscillate?\n",
    "\n",
    "If you have a Markov matrix with zero entries, then there might be more than one eigenvalue with $|\\lambda| = 1$, but these additional solutions might be *oscillating* solutions rather than steady states.\n",
    "\n",
    "For example, consider the permutation matrix\n",
    "$$\n",
    "P = \\begin{pmatrix} 0 & 1 \\\\ 1 & 0 \\end{pmatrix}\n",
    "$$\n",
    "that simply swaps the first and second entries of any 2-component vector.\n",
    "\n",
    "If $x = (1,0)$, then $P^n x$ will oscillate forever, never reaching a steady state!  It simply oscillates between $(1,0)$ (for even $n$) and $(0,1)$ (for odd $n$):"
   ]
  },
  {
   "cell_type": "code",
   "execution_count": 13,
   "metadata": {},
   "outputs": [
    {
     "data": {
      "text/plain": [
       "2×2 Matrix{Int64}:\n",
       " 0  1\n",
       " 1  0"
      ]
     },
     "execution_count": 13,
     "metadata": {},
     "output_type": "execute_result"
    }
   ],
   "source": [
    "P = [0 1\n",
    "     1 0]"
   ]
  },
  {
   "cell_type": "code",
   "execution_count": 14,
   "metadata": {},
   "outputs": [
    {
     "data": {
      "text/plain": [
       "6-element Vector{Vector{Int64}}:\n",
       " [1, 0]\n",
       " [0, 1]\n",
       " [1, 0]\n",
       " [0, 1]\n",
       " [1, 0]\n",
       " [0, 1]"
      ]
     },
     "execution_count": 14,
     "metadata": {},
     "output_type": "execute_result"
    }
   ],
   "source": [
    "[P^n * [1,0] for n = 0:5]"
   ]
  },
  {
   "cell_type": "markdown",
   "metadata": {},
   "source": [
    "But this is a Markov matrix, so all $|\\lambda|$ are $\\le 1$:"
   ]
  },
  {
   "cell_type": "code",
   "execution_count": 15,
   "metadata": {},
   "outputs": [
    {
     "data": {
      "text/plain": [
       "2-element Vector{Float64}:\n",
       " -1.0\n",
       "  1.0"
      ]
     },
     "execution_count": 15,
     "metadata": {},
     "output_type": "execute_result"
    }
   ],
   "source": [
    "eigvals(P)"
   ]
  },
  {
   "cell_type": "markdown",
   "metadata": {},
   "source": [
    "The problem is that the $\\lambda = -1$ eigenvalue corresponds to an oscillating solution:\n",
    "\n",
    "$$\n",
    "P^n \\begin{pmatrix} 1 \\\\ -1 \\end{pmatrix} = (-1)^n \\begin{pmatrix} 1 \\\\ -1 \\end{pmatrix}\n",
    "$$\n",
    "\n",
    "for the eigenvector $(1,-1)$.\n",
    "\n",
    "The steady state still exists, corresponding to the eigenvector $(1,1)$:\n",
    "\n",
    "$$\n",
    "P^n \\begin{pmatrix} 1 \\\\ 1 \\end{pmatrix} =  \\begin{pmatrix} 1 \\\\ 1 \\end{pmatrix}\n",
    "$$"
   ]
  },
  {
   "cell_type": "code",
   "execution_count": 16,
   "metadata": {},
   "outputs": [
    {
     "data": {
      "text/plain": [
       "2×2 Matrix{Float64}:\n",
       " -0.707107  0.707107\n",
       "  0.707107  0.707107"
      ]
     },
     "execution_count": 16,
     "metadata": {},
     "output_type": "execute_result"
    }
   ],
   "source": [
    "X = eigvecs(P) # the eigenvectors"
   ]
  },
  {
   "cell_type": "code",
   "execution_count": 17,
   "metadata": {},
   "outputs": [
    {
     "data": {
      "text/plain": [
       "2×2 Matrix{Float64}:\n",
       "  1.0  1.0\n",
       " -1.0  1.0"
      ]
     },
     "execution_count": 17,
     "metadata": {},
     "output_type": "execute_result"
    }
   ],
   "source": [
    "X ./ X[1,:]' # normalize the first row to be 1, to resemble our hand solutions"
   ]
  },
  {
   "cell_type": "markdown",
   "metadata": {},
   "source": [
    "Since $(1,0) = [(1,1) + (1,-1)]/2$, we have:\n",
    "\n",
    "$$\n",
    "P^n \\begin{pmatrix} 1 \\\\ 0 \\end{pmatrix} = \\frac{1}{2} \\left[ \\begin{pmatrix} 1 \\\\ 1 \\end{pmatrix} + \n",
    "(-1)^n \\begin{pmatrix} 1 \\\\ -1 \\end{pmatrix} \\right]\n",
    "$$\n",
    "\n",
    "which alternates between $(1,0)$ and $(0,1)$."
   ]
  },
  {
   "cell_type": "markdown",
   "metadata": {},
   "source": [
    "## Another example\n",
    "\n",
    "Let's generate a random 5x5 Markov matrix:"
   ]
  },
  {
   "cell_type": "code",
   "execution_count": 18,
   "metadata": {},
   "outputs": [
    {
     "data": {
      "text/plain": [
       "5×5 Matrix{Float64}:\n",
       " 0.937428  0.129281  0.598324  0.143832  0.838137\n",
       " 0.504814  0.627537  0.859719  0.903954  0.0134377\n",
       " 0.832016  0.314723  0.369059  0.188422  0.408866\n",
       " 0.418716  0.375116  0.438767  0.160177  0.453641\n",
       " 0.702413  0.496352  0.762137  0.28815   0.370364"
      ]
     },
     "execution_count": 18,
     "metadata": {},
     "output_type": "execute_result"
    }
   ],
   "source": [
    "M = rand(5,5) # random entries in [0,1]"
   ]
  },
  {
   "cell_type": "code",
   "execution_count": 19,
   "metadata": {},
   "outputs": [
    {
     "data": {
      "text/plain": [
       "1×5 Matrix{Float64}:\n",
       " 3.39539  1.94301  3.02801  1.68453  2.08445"
      ]
     },
     "execution_count": 19,
     "metadata": {},
     "output_type": "execute_result"
    }
   ],
   "source": [
    "sum(M,dims=1) # not Markov yet"
   ]
  },
  {
   "cell_type": "code",
   "execution_count": 20,
   "metadata": {},
   "outputs": [
    {
     "data": {
      "text/plain": [
       "5×5 Matrix{Float64}:\n",
       " 0.276089  0.0665363  0.197597  0.0853838  0.402091\n",
       " 0.148676  0.322972   0.283922  0.536619   0.00644667\n",
       " 0.245043  0.161977   0.121882  0.111854   0.196151\n",
       " 0.123319  0.193059   0.144903  0.0950868  0.217631\n",
       " 0.206873  0.255455   0.251696  0.171056   0.17768"
      ]
     },
     "execution_count": 20,
     "metadata": {},
     "output_type": "execute_result"
    }
   ],
   "source": [
    "M = M ./ sum(M,dims=1)"
   ]
  },
  {
   "cell_type": "code",
   "execution_count": 21,
   "metadata": {},
   "outputs": [
    {
     "data": {
      "text/plain": [
       "1×5 Matrix{Float64}:\n",
       " 1.0  1.0  1.0  1.0  1.0"
      ]
     },
     "execution_count": 21,
     "metadata": {},
     "output_type": "execute_result"
    }
   ],
   "source": [
    "sum(M,dims=1)"
   ]
  },
  {
   "cell_type": "code",
   "execution_count": 22,
   "metadata": {},
   "outputs": [
    {
     "data": {
      "text/plain": [
       "5-element Vector{ComplexF64}:\n",
       " -0.10304941789994124 + 0.0im\n",
       " -0.06251806787202684 - 0.09873847976483663im\n",
       " -0.06251806787202684 + 0.09873847976483663im\n",
       "   0.2217948757453141 + 0.0im\n",
       "   0.9999999999999989 + 0.0im"
      ]
     },
     "execution_count": 22,
     "metadata": {},
     "output_type": "execute_result"
    }
   ],
   "source": [
    "eigvals(M)"
   ]
  },
  {
   "cell_type": "code",
   "execution_count": 23,
   "metadata": {},
   "outputs": [
    {
     "data": {
      "text/plain": [
       "5-element Vector{Float64}:\n",
       " 0.10304941789994124\n",
       " 0.11686657433467623\n",
       " 0.11686657433467623\n",
       " 0.2217948757453141\n",
       " 0.9999999999999989"
      ]
     },
     "execution_count": 23,
     "metadata": {},
     "output_type": "execute_result"
    }
   ],
   "source": [
    "abs.(eigvals(M))"
   ]
  },
  {
   "cell_type": "code",
   "execution_count": 24,
   "metadata": {},
   "outputs": [
    {
     "data": {
      "text/plain": [
       "5-element Vector{Float64}:\n",
       " 0.2901981487444405\n",
       " 0.3771536933064646\n",
       " 0.03759424807388416\n",
       " 0.004314256196109632\n",
       " 0.29073965367910093"
      ]
     },
     "execution_count": 24,
     "metadata": {},
     "output_type": "execute_result"
    }
   ],
   "source": [
    "x = rand(5)\n",
    "x = x / sum(x) # normalize x to have sum = 1"
   ]
  },
  {
   "cell_type": "code",
   "execution_count": 25,
   "metadata": {},
   "outputs": [
    {
     "data": {
      "text/plain": [
       "5-element Vector{Float64}:\n",
       " 0.20752568949365735\n",
       " 0.2463570107538307\n",
       " 0.17164911259401402\n",
       " 0.15992407014304658\n",
       " 0.21454411701545306"
      ]
     },
     "execution_count": 25,
     "metadata": {},
     "output_type": "execute_result"
    }
   ],
   "source": [
    "M^100 * x"
   ]
  },
  {
   "cell_type": "code",
   "execution_count": 26,
   "metadata": {},
   "outputs": [
    {
     "data": {
      "text/plain": [
       "(0.9999999999999997, 1.0000000000000018)"
      ]
     },
     "execution_count": 26,
     "metadata": {},
     "output_type": "execute_result"
    }
   ],
   "source": [
    "sum(x), sum(M^100 * x) # still = 1"
   ]
  },
  {
   "cell_type": "code",
   "execution_count": 27,
   "metadata": {},
   "outputs": [
    {
     "data": {
      "text/plain": [
       "5-element Vector{ComplexF64}:\n",
       " 0.20752568949365682 + 0.0im\n",
       " 0.24635701075383035 + 0.0im\n",
       " 0.17164911259401378 + 0.0im\n",
       " 0.15992407014304622 + 0.0im\n",
       "  0.2145441170154527 + 0.0im"
      ]
     },
     "execution_count": 27,
     "metadata": {},
     "output_type": "execute_result"
    }
   ],
   "source": [
    "λ, X = eigen(M)\n",
    "X[:,end] / sum(X[:,end]) # eigenvector for λ=1, normalized to sum=1"
   ]
  },
  {
   "cell_type": "markdown",
   "metadata": {},
   "source": [
    "Again, $M^n x$ is approaching a steady-state ($\\lambda = 1$) eigenvector of $M$ as $n$ grows large."
   ]
  }
 ],
 "metadata": {
  "@webio": {
   "lastCommId": null,
   "lastKernelId": null
  },
  "kernelspec": {
   "display_name": "Julia 1.7.1",
   "language": "julia",
   "name": "julia-1.7"
  },
  "language_info": {
   "file_extension": ".jl",
   "mimetype": "application/julia",
   "name": "julia",
   "version": "1.7.1"
  },
  "widgets": {
   "state": {
    "e53e5f7b-c65e-4676-a564-3f8ee40c11c0": {
     "views": [
      {
       "cell_index": 13
      }
     ]
    }
   },
   "version": "1.2.0"
  }
 },
 "nbformat": 4,
 "nbformat_minor": 1
}
