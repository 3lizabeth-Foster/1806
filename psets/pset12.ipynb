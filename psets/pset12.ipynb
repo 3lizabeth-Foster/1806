{
 "cells": [
  {
   "cell_type": "markdown",
   "id": "47f1f240",
   "metadata": {},
   "source": [
    "# 18.06 Problem Set 12\n",
    "\n",
    "Due Wednesday [May 4](https://en.wikipedia.org/wiki/Star_Wars_Day), 2022."
   ]
  },
  {
   "cell_type": "markdown",
   "id": "d533e909",
   "metadata": {},
   "source": [
    "## Problem 1 (8+8+5 points)\n",
    "\n",
    "Suppose we have a $5\\times 5$ **diagonalizable** matrix $A$ with diagonalization:\n",
    "$$\n",
    "A = X \\underbrace{\\begin{pmatrix} 1 & & & & \\\\ & 2 & & & \\\\ & & 2 & & \\\\ & & & 3 & \\\\ & & & & 4 \\end{pmatrix}}_\\Lambda X^{-1} \\,\n",
    "$$\n",
    "and another **non-diagonalizable** matrix $B$ with the Jordan form:\n",
    "$$\n",
    "B = Y \\underbrace{\\begin{pmatrix} 1 & & & & \\\\ & 2 & 1 & & \\\\ & & 2 & & \\\\ & & & 3 & \\\\ & & & & 4 \\end{pmatrix}}_J Y^{-1}\n",
    "$$\n",
    "You are given a function\n",
    "$$\n",
    "f(\\mu, y) = \\Vert (M - \\mu I)^{-1} y \\Vert \n",
    "$$\n",
    "where $M$ is either $A$ or $B$, but *you aren't told which one*.\n",
    "\n",
    "Now, you pick a $y$ at random and evaluate $$\\alpha = \\frac{f(2.00001, y)}{f(2.0001, y)} \\, $$\n",
    "\n",
    "**(a)** What would you expect $\\alpha$ to be, approximately, if $M = A$?   (Imagine expanding $y$ in the basis of the …)\n",
    "\n",
    "**(b)** What would you expect $\\alpha$ to be, approximately, if $M = B$?   (Imagine expanding $y$ in the basis of the …)\n",
    "\n",
    "**(c)** Check your predictions from (a) and (b) in Julia for a random `X = randn(5,5)`, a random `Y = randn(5,5)`, and a random `y = randn(5)`.  For convenience, the matrices `Λ` and `J` are entered in Julia below."
   ]
  },
  {
   "cell_type": "code",
   "execution_count": null,
   "id": "952ec963",
   "metadata": {},
   "outputs": [],
   "source": [
    "using LinearAlgebra\n",
    "Λ = Diagonal([1,2,2,3,4])"
   ]
  },
  {
   "cell_type": "code",
   "execution_count": null,
   "id": "5a43bd12",
   "metadata": {},
   "outputs": [],
   "source": [
    "J = Bidiagonal([1,2,2,3,4],[0,1,0,0],:U)"
   ]
  },
  {
   "cell_type": "markdown",
   "id": "5fef2b7a",
   "metadata": {},
   "source": [
    "## Problem 2 (10 points)\n",
    "\n",
    "Suppose $A$ is a positive Markov matrix, so that there is a steady-state eigenvalue $\\lambda=1$ with algebraic and geometric multiplicity 1 and all other eigenvalues have $|\\lambda|<1$, as stated in class.\n",
    "\n",
    "Suppose that $A$ is **defective**, however.  Does $A^n x$ still converge as $n \\to \\infty$ to a steady-state eigenvector for an arbitrary initial $x$?  Why or why not?  (If we expand $x$ in a basis of eigenvectors + generalized eigenvectors, how does each term behave when you multiply by $A^n$?)"
   ]
  },
  {
   "cell_type": "markdown",
   "id": "aef3d5d1",
   "metadata": {},
   "source": [
    "## Problem 3 (5+5+5+2 points)\n",
    "\n",
    "$A$ is a **Hermitian positive-definite matrix** with eigenvalues (sorted in descending order) $\\lambda_1 > \\lambda_2 > \\lambda_3 > \\cdots > 0$.\n",
    "\n",
    "We carry out 1000 steps of the **power method** (repeatedly computing $q \\leftarrow \\mathrm{normalize}(Aq)$ from a random starting vector, where we define $\\mathrm{normalize}(x) = x / \\Vert x \\Vert$) and we get a pretty good estimate of an eigenvector $q_1$ of the biggest eigenvalue $\\lambda_1$.\n",
    "\n",
    "**(a)** If we pick another random starting vector $x$, compute $y = x - q_1 q_1^H x$, and apply 1000 steps of the power method, what would you expect to get if $q_1$ were *exactly* an eigenvector of $\\lambda_1$ and the arithmetic is carried out *exactly* (no tiny roundoff errors in the 15th significant digit)?   An eigenvector for which eigenvalue?\n",
    "\n",
    "**(b)** If you carry out the steps of (a) but $q_1$ is only a (very good) approximation of an eigenvector (such as you might get from the power method) and/or you make tiny roundoff errors in each arithmetic step, what would you expect to get after 1000 iterations of the power method?  An eigenvector for which eigenvalue?\n",
    "\n",
    "**(c)** In practice, the power method after the first eigenvector $q_1$ is found (approximately) is better carried out by repeatedly computing  $q \\leftarrow \\mathrm{normalize}((I-q_1q_1^T)Aq)$, a process called \"deflation\".   This should converge to an eigenvector for which eigenvalue?\n",
    "\n",
    "**(d)** Check your predictions in parts (b) and (c) numerically below for a random $A$ by filling in the `????` lines."
   ]
  },
  {
   "cell_type": "code",
   "execution_count": null,
   "id": "338acad9",
   "metadata": {},
   "outputs": [],
   "source": [
    "using LinearAlgebra\n",
    "\n",
    "B = randn(5,5)\n",
    "A = B'B # a random positive-definite Hermitian matrix\n",
    "\n",
    "λ = reverse(eigvals(A)) # eigenvalues in descending order\n",
    "\n",
    "# the power iteration to find q₁\n",
    "q₁ = normalize(rand(5))\n",
    "for i = 1:1000\n",
    "    q₁ = normalize(A*q₁)\n",
    "end\n",
    "\n",
    "# check that this is approximately an eigenvector of λ₁\n",
    "# — the following difference should be almost zero:\n",
    "A*q₁ - λ[1]*q₁ "
   ]
  },
  {
   "cell_type": "code",
   "execution_count": null,
   "id": "5106dcab",
   "metadata": {},
   "outputs": [],
   "source": [
    "# the power iteration in part (b)\n",
    "q⁽ᵇ⁾ = normalize((I - q₁*q₁')*rand(5))\n",
    "for i = 1:1000\n",
    "    q⁽ᵇ⁾ = normalize(A*q⁽ᵇ⁾)\n",
    "end\n",
    "\n",
    "# check that this is approximately an eigenvector of which λ?\n",
    "A*q⁽ᵇ⁾ - λ[????]*q⁽ᵇ⁾ "
   ]
  },
  {
   "cell_type": "code",
   "execution_count": null,
   "id": "2e181440",
   "metadata": {},
   "outputs": [],
   "source": [
    "# the power iteration in part (c)\n",
    "q⁽ᶜ⁾ = normalize(rand(5))\n",
    "for i = 1:1000\n",
    "    q⁽ᶜ⁾ = normalize((I - q₁*q₁')*A*q⁽ᶜ⁾)\n",
    "end\n",
    "\n",
    "# check that this is approximately an eigenvector of which λ?\n",
    "A*q⁽ᶜ⁾ - λ[????]*q⁽ᶜ⁾ "
   ]
  }
 ],
 "metadata": {
  "kernelspec": {
   "display_name": "Julia 1.7.1",
   "language": "julia",
   "name": "julia-1.7"
  },
  "language_info": {
   "file_extension": ".jl",
   "mimetype": "application/julia",
   "name": "julia",
   "version": "1.7.1"
  }
 },
 "nbformat": 4,
 "nbformat_minor": 5
}
