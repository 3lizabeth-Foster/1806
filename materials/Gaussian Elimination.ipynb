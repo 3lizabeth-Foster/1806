{
 "cells": [
  {
   "cell_type": "markdown",
   "metadata": {},
   "source": [
    "## Eliminate from (general) A to (upper triangular) U"
   ]
  },
  {
   "cell_type": "markdown",
   "metadata": {},
   "source": [
    "Demonstrate Gaussian Elimination (page 51 of GS)\n",
    "\n",
    "(Reminder: Julia programming syntax will not be tested in this class, but that doesn't mean you can't learn from\n",
    "watching the code being executed)\n",
    "\n",
    "(If you are familiar with Jupyter notebooks and wish to execute yourself, you can download this notebook \n",
    "using the download button in the upper right, but WARNING: right click to \"download as\", or OPTION-click (MAC) or ALT-Click (Linux and Windows I think) on the download icon, or you won't get an ipynb file.) You can then drag into Jupyter."
   ]
  },
  {
   "cell_type": "code",
   "execution_count": 22,
   "metadata": {},
   "outputs": [],
   "source": [
    "using Plots"
   ]
  },
  {
   "cell_type": "code",
   "execution_count": 24,
   "metadata": {},
   "outputs": [
    {
     "data": {
      "text/plain": [
       "lookat (generic function with 1 method)"
      ]
     },
     "execution_count": 24,
     "metadata": {},
     "output_type": "execute_result"
    }
   ],
   "source": [
    "# nice viz for matrices\n",
    "function lookat(A; redrow=0, rounding=2, showtext=true)\n",
    "  n = size(A,1)\n",
    "  plot(legend=false, axis=false)\n",
    "  rowcolor = redrow > 0 ? :red : :black  \n",
    "  for i=1:n, j=1:n  \n",
    "      scatter!( [j],[i], ann=  showtext ? (j,i,round(A[i,j],digits=rounding), :white ) : (j,i,\"\") ,\n",
    "                color=abs(A[i,j]) > .0001 ? (i==redrow ? rowcolor : :black) : :white, \n",
    "                marker=:square, markersize=30, aspectratio=1, yflip=true, yaxis=[.5,n+.5],xaxis=[.5,n+.5])\n",
    "  end\n",
    "  plot!()\n",
    "end"
   ]
  },
  {
   "cell_type": "code",
   "execution_count": null,
   "metadata": {},
   "outputs": [],
   "source": [
    "A = rand(1.0:9,4,4)"
   ]
  },
  {
   "cell_type": "code",
   "execution_count": null,
   "metadata": {},
   "outputs": [],
   "source": [
    "L = fill(0.0,4,4)"
   ]
  },
  {
   "cell_type": "code",
   "execution_count": null,
   "metadata": {},
   "outputs": [],
   "source": [
    "lookat(A)"
   ]
  },
  {
   "cell_type": "markdown",
   "metadata": {},
   "source": [
    "## What multiple of row 1 must we subtract from row 2 to zero out the (2,1) entry?"
   ]
  },
  {
   "cell_type": "code",
   "execution_count": null,
   "metadata": {},
   "outputs": [],
   "source": [
    "L[2,1] = A[2,1] / A[1,1]"
   ]
  },
  {
   "cell_type": "code",
   "execution_count": null,
   "metadata": {},
   "outputs": [],
   "source": [
    "# A[2,:] = A[2,:] - L[2,1] * A[1,:]\n",
    "A[2,:] -= L[2,1] * A[1,:] # subtract that multiple of the first row from the second\n",
    "lookat(A, redrow=2)"
   ]
  },
  {
   "cell_type": "markdown",
   "metadata": {},
   "source": [
    "## What multiple of row 1 must we subtract from row 3 to zero out the (3,1) entry?"
   ]
  },
  {
   "cell_type": "code",
   "execution_count": null,
   "metadata": {},
   "outputs": [],
   "source": [
    "L[3,1] = A[3,1] / A[1,1]"
   ]
  },
  {
   "cell_type": "code",
   "execution_count": null,
   "metadata": {},
   "outputs": [],
   "source": [
    "A[3,:] -= L[3,1] * A[1,:]\n",
    "lookat(A, redrow=3)"
   ]
  },
  {
   "cell_type": "code",
   "execution_count": null,
   "metadata": {},
   "outputs": [],
   "source": [
    "L[4,1] = A[4,1] / A[1,1]\n",
    "A[4,:] -= L[4,1] * A[1,:]\n",
    "lookat(A, redrow=4)"
   ]
  },
  {
   "cell_type": "code",
   "execution_count": null,
   "metadata": {},
   "outputs": [],
   "source": [
    "L[3,2] = A[3,2] / A[2,2]"
   ]
  },
  {
   "cell_type": "code",
   "execution_count": null,
   "metadata": {},
   "outputs": [],
   "source": [
    "A[3,:] -= L[3,2] * A[2,:]; lookat(A, redrow=3)"
   ]
  },
  {
   "cell_type": "code",
   "execution_count": null,
   "metadata": {},
   "outputs": [],
   "source": [
    "L[4,2] = A[4,2] / A[2,2]; A[4,:] -= L[4,2] * A[2,:]; lookat(A, redrow=4)"
   ]
  },
  {
   "cell_type": "code",
   "execution_count": null,
   "metadata": {},
   "outputs": [],
   "source": [
    "n = 5\n",
    "A = randn(n,n)\n",
    "L = fill(0.0,n,n)\n",
    "display(lookat(A))\n",
    "for j=1:n, i=(j+1):n\n",
    "        L[i,j] = A[i,j]/A[j,j]\n",
    "        A[i,:] -= L[i,j] * A[j,:]\n",
    "        display(lookat(A,redrow=i))\n",
    "end"
   ]
  },
  {
   "cell_type": "code",
   "execution_count": 32,
   "metadata": {},
   "outputs": [
    {
     "data": {
      "image/svg+xml": [
       "<?xml version=\"1.0\" encoding=\"utf-8\"?>\n",
       "<svg xmlns=\"http://www.w3.org/2000/svg\" xmlns:xlink=\"http://www.w3.org/1999/xlink\" width=\"600\" height=\"400\" viewBox=\"0 0 2400 1600\">\n",
       "<defs>\n",
       "  <clipPath id=\"clip1300\">\n",
       "    <rect x=\"0\" y=\"0\" width=\"2400\" height=\"1600\"/>\n",
       "  </clipPath>\n",
       "</defs>\n",
       "<path clip-path=\"url(#clip1300)\" d=\"\n",
       "M0 1600 L2400 1600 L2400 0 L0 0  Z\n",
       "  \" fill=\"#ffffff\" fill-rule=\"evenodd\" fill-opacity=\"1\"/>\n",
       "<defs>\n",
       "  <clipPath id=\"clip1301\">\n",
       "    <rect x=\"480\" y=\"0\" width=\"1681\" height=\"1600\"/>\n",
       "  </clipPath>\n",
       "</defs>\n",
       "<path clip-path=\"url(#clip1300)\" d=\"\n",
       "M513.14 1487.47 L1953.37 1487.47 L1953.37 47.2441 L513.14 47.2441  Z\n",
       "  \" fill=\"#ffffff\" fill-rule=\"evenodd\" fill-opacity=\"1\"/>\n",
       "<defs>\n",
       "  <clipPath id=\"clip1302\">\n",
       "    <rect x=\"513\" y=\"47\" width=\"1441\" height=\"1441\"/>\n",
       "  </clipPath>\n",
       "</defs>\n",
       "<polyline clip-path=\"url(#clip1302)\" style=\"stroke:#000000; stroke-width:2; stroke-opacity:0.1; fill:none\" points=\"\n",
       "  689.772,47.2441 689.772,1487.47 \n",
       "  \"/>\n",
       "<polyline clip-path=\"url(#clip1302)\" style=\"stroke:#000000; stroke-width:2; stroke-opacity:0.1; fill:none\" points=\"\n",
       "  961.514,47.2441 961.514,1487.47 \n",
       "  \"/>\n",
       "<polyline clip-path=\"url(#clip1302)\" style=\"stroke:#000000; stroke-width:2; stroke-opacity:0.1; fill:none\" points=\"\n",
       "  1233.26,47.2441 1233.26,1487.47 \n",
       "  \"/>\n",
       "<polyline clip-path=\"url(#clip1302)\" style=\"stroke:#000000; stroke-width:2; stroke-opacity:0.1; fill:none\" points=\"\n",
       "  1505,47.2441 1505,1487.47 \n",
       "  \"/>\n",
       "<polyline clip-path=\"url(#clip1302)\" style=\"stroke:#000000; stroke-width:2; stroke-opacity:0.1; fill:none\" points=\"\n",
       "  1776.74,47.2441 1776.74,1487.47 \n",
       "  \"/>\n",
       "<polyline clip-path=\"url(#clip1302)\" style=\"stroke:#000000; stroke-width:2; stroke-opacity:0.1; fill:none\" points=\"\n",
       "  513.14,223.876 1953.37,223.876 \n",
       "  \"/>\n",
       "<polyline clip-path=\"url(#clip1302)\" style=\"stroke:#000000; stroke-width:2; stroke-opacity:0.1; fill:none\" points=\"\n",
       "  513.14,495.618 1953.37,495.618 \n",
       "  \"/>\n",
       "<polyline clip-path=\"url(#clip1302)\" style=\"stroke:#000000; stroke-width:2; stroke-opacity:0.1; fill:none\" points=\"\n",
       "  513.14,767.359 1953.37,767.359 \n",
       "  \"/>\n",
       "<polyline clip-path=\"url(#clip1302)\" style=\"stroke:#000000; stroke-width:2; stroke-opacity:0.1; fill:none\" points=\"\n",
       "  513.14,1039.1 1953.37,1039.1 \n",
       "  \"/>\n",
       "<polyline clip-path=\"url(#clip1302)\" style=\"stroke:#000000; stroke-width:2; stroke-opacity:0.1; fill:none\" points=\"\n",
       "  513.14,1310.84 1953.37,1310.84 \n",
       "  \"/>\n",
       "<polygon clip-path=\"url(#clip1302)\" style=\"fill:#000000; fill-opacity:1\" points=\"\n",
       "  565.772,99.8762 565.772,347.876 813.772,347.876 813.772,99.8762 565.772,99.8762 \n",
       "  \"/>\n",
       "<polygon clip-path=\"url(#clip1302)\" style=\"fill:#000000; fill-opacity:1\" points=\"\n",
       "  569.772,103.876 569.772,343.876 809.772,343.876 809.772,103.876 569.772,103.876 \n",
       "  \"/>\n",
       "<polygon clip-path=\"url(#clip1302)\" style=\"fill:#000000; fill-opacity:1\" points=\"\n",
       "  837.514,99.8762 837.514,347.876 1085.51,347.876 1085.51,99.8762 837.514,99.8762 \n",
       "  \"/>\n",
       "<polygon clip-path=\"url(#clip1302)\" style=\"fill:#000000; fill-opacity:1\" points=\"\n",
       "  841.514,103.876 841.514,343.876 1081.51,343.876 1081.51,103.876 841.514,103.876 \n",
       "  \"/>\n",
       "<polygon clip-path=\"url(#clip1302)\" style=\"fill:#000000; fill-opacity:1\" points=\"\n",
       "  1109.26,99.8762 1109.26,347.876 1357.26,347.876 1357.26,99.8762 1109.26,99.8762 \n",
       "  \"/>\n",
       "<polygon clip-path=\"url(#clip1302)\" style=\"fill:#000000; fill-opacity:1\" points=\"\n",
       "  1113.26,103.876 1113.26,343.876 1353.26,343.876 1353.26,103.876 1113.26,103.876 \n",
       "  \"/>\n",
       "<polygon clip-path=\"url(#clip1302)\" style=\"fill:#000000; fill-opacity:1\" points=\"\n",
       "  1381,99.8762 1381,347.876 1629,347.876 1629,99.8762 1381,99.8762 \n",
       "  \"/>\n",
       "<polygon clip-path=\"url(#clip1302)\" style=\"fill:#000000; fill-opacity:1\" points=\"\n",
       "  1385,103.876 1385,343.876 1625,343.876 1625,103.876 1385,103.876 \n",
       "  \"/>\n",
       "<polygon clip-path=\"url(#clip1302)\" style=\"fill:#000000; fill-opacity:1\" points=\"\n",
       "  1652.74,99.8762 1652.74,347.876 1900.74,347.876 1900.74,99.8762 1652.74,99.8762 \n",
       "  \"/>\n",
       "<polygon clip-path=\"url(#clip1302)\" style=\"fill:#000000; fill-opacity:1\" points=\"\n",
       "  1656.74,103.876 1656.74,343.876 1896.74,343.876 1896.74,103.876 1656.74,103.876 \n",
       "  \"/>\n",
       "<polygon clip-path=\"url(#clip1302)\" style=\"fill:#000000; fill-opacity:1\" points=\"\n",
       "  565.772,371.618 565.772,619.618 813.772,619.618 813.772,371.618 565.772,371.618 \n",
       "  \"/>\n",
       "<polygon clip-path=\"url(#clip1302)\" style=\"fill:#000000; fill-opacity:1\" points=\"\n",
       "  569.772,375.618 569.772,615.618 809.772,615.618 809.772,375.618 569.772,375.618 \n",
       "  \"/>\n",
       "<polygon clip-path=\"url(#clip1302)\" style=\"fill:#000000; fill-opacity:1\" points=\"\n",
       "  837.514,371.618 837.514,619.618 1085.51,619.618 1085.51,371.618 837.514,371.618 \n",
       "  \"/>\n",
       "<polygon clip-path=\"url(#clip1302)\" style=\"fill:#000000; fill-opacity:1\" points=\"\n",
       "  841.514,375.618 841.514,615.618 1081.51,615.618 1081.51,375.618 841.514,375.618 \n",
       "  \"/>\n",
       "<polygon clip-path=\"url(#clip1302)\" style=\"fill:#000000; fill-opacity:1\" points=\"\n",
       "  1109.26,371.618 1109.26,619.618 1357.26,619.618 1357.26,371.618 1109.26,371.618 \n",
       "  \"/>\n",
       "<polygon clip-path=\"url(#clip1302)\" style=\"fill:#000000; fill-opacity:1\" points=\"\n",
       "  1113.26,375.618 1113.26,615.618 1353.26,615.618 1353.26,375.618 1113.26,375.618 \n",
       "  \"/>\n",
       "<polygon clip-path=\"url(#clip1302)\" style=\"fill:#000000; fill-opacity:1\" points=\"\n",
       "  1381,371.618 1381,619.618 1629,619.618 1629,371.618 1381,371.618 \n",
       "  \"/>\n",
       "<polygon clip-path=\"url(#clip1302)\" style=\"fill:#000000; fill-opacity:1\" points=\"\n",
       "  1385,375.618 1385,615.618 1625,615.618 1625,375.618 1385,375.618 \n",
       "  \"/>\n",
       "<polygon clip-path=\"url(#clip1302)\" style=\"fill:#000000; fill-opacity:1\" points=\"\n",
       "  1652.74,371.618 1652.74,619.618 1900.74,619.618 1900.74,371.618 1652.74,371.618 \n",
       "  \"/>\n",
       "<polygon clip-path=\"url(#clip1302)\" style=\"fill:#000000; fill-opacity:1\" points=\"\n",
       "  1656.74,375.618 1656.74,615.618 1896.74,615.618 1896.74,375.618 1656.74,375.618 \n",
       "  \"/>\n",
       "<polygon clip-path=\"url(#clip1302)\" style=\"fill:#000000; fill-opacity:1\" points=\"\n",
       "  565.772,643.359 565.772,891.359 813.772,891.359 813.772,643.359 565.772,643.359 \n",
       "  \"/>\n",
       "<polygon clip-path=\"url(#clip1302)\" style=\"fill:#000000; fill-opacity:1\" points=\"\n",
       "  569.772,647.359 569.772,887.359 809.772,887.359 809.772,647.359 569.772,647.359 \n",
       "  \"/>\n",
       "<polygon clip-path=\"url(#clip1302)\" style=\"fill:#000000; fill-opacity:1\" points=\"\n",
       "  837.514,643.359 837.514,891.359 1085.51,891.359 1085.51,643.359 837.514,643.359 \n",
       "  \"/>\n",
       "<polygon clip-path=\"url(#clip1302)\" style=\"fill:#000000; fill-opacity:1\" points=\"\n",
       "  841.514,647.359 841.514,887.359 1081.51,887.359 1081.51,647.359 841.514,647.359 \n",
       "  \"/>\n",
       "<polygon clip-path=\"url(#clip1302)\" style=\"fill:#000000; fill-opacity:1\" points=\"\n",
       "  1109.26,643.359 1109.26,891.359 1357.26,891.359 1357.26,643.359 1109.26,643.359 \n",
       "  \"/>\n",
       "<polygon clip-path=\"url(#clip1302)\" style=\"fill:#000000; fill-opacity:1\" points=\"\n",
       "  1113.26,647.359 1113.26,887.359 1353.26,887.359 1353.26,647.359 1113.26,647.359 \n",
       "  \"/>\n",
       "<polygon clip-path=\"url(#clip1302)\" style=\"fill:#000000; fill-opacity:1\" points=\"\n",
       "  1381,643.359 1381,891.359 1629,891.359 1629,643.359 1381,643.359 \n",
       "  \"/>\n",
       "<polygon clip-path=\"url(#clip1302)\" style=\"fill:#000000; fill-opacity:1\" points=\"\n",
       "  1385,647.359 1385,887.359 1625,887.359 1625,647.359 1385,647.359 \n",
       "  \"/>\n",
       "<polygon clip-path=\"url(#clip1302)\" style=\"fill:#000000; fill-opacity:1\" points=\"\n",
       "  1652.74,643.359 1652.74,891.359 1900.74,891.359 1900.74,643.359 1652.74,643.359 \n",
       "  \"/>\n",
       "<polygon clip-path=\"url(#clip1302)\" style=\"fill:#000000; fill-opacity:1\" points=\"\n",
       "  1656.74,647.359 1656.74,887.359 1896.74,887.359 1896.74,647.359 1656.74,647.359 \n",
       "  \"/>\n",
       "<polygon clip-path=\"url(#clip1302)\" style=\"fill:#000000; fill-opacity:1\" points=\"\n",
       "  565.772,915.101 565.772,1163.1 813.772,1163.1 813.772,915.101 565.772,915.101 \n",
       "  \"/>\n",
       "<polygon clip-path=\"url(#clip1302)\" style=\"fill:#000000; fill-opacity:1\" points=\"\n",
       "  569.772,919.101 569.772,1159.1 809.772,1159.1 809.772,919.101 569.772,919.101 \n",
       "  \"/>\n",
       "<polygon clip-path=\"url(#clip1302)\" style=\"fill:#000000; fill-opacity:1\" points=\"\n",
       "  837.514,915.101 837.514,1163.1 1085.51,1163.1 1085.51,915.101 837.514,915.101 \n",
       "  \"/>\n",
       "<polygon clip-path=\"url(#clip1302)\" style=\"fill:#000000; fill-opacity:1\" points=\"\n",
       "  841.514,919.101 841.514,1159.1 1081.51,1159.1 1081.51,919.101 841.514,919.101 \n",
       "  \"/>\n",
       "<polygon clip-path=\"url(#clip1302)\" style=\"fill:#000000; fill-opacity:1\" points=\"\n",
       "  1109.26,915.101 1109.26,1163.1 1357.26,1163.1 1357.26,915.101 1109.26,915.101 \n",
       "  \"/>\n",
       "<polygon clip-path=\"url(#clip1302)\" style=\"fill:#000000; fill-opacity:1\" points=\"\n",
       "  1113.26,919.101 1113.26,1159.1 1353.26,1159.1 1353.26,919.101 1113.26,919.101 \n",
       "  \"/>\n",
       "<polygon clip-path=\"url(#clip1302)\" style=\"fill:#000000; fill-opacity:1\" points=\"\n",
       "  1381,915.101 1381,1163.1 1629,1163.1 1629,915.101 1381,915.101 \n",
       "  \"/>\n",
       "<polygon clip-path=\"url(#clip1302)\" style=\"fill:#000000; fill-opacity:1\" points=\"\n",
       "  1385,919.101 1385,1159.1 1625,1159.1 1625,919.101 1385,919.101 \n",
       "  \"/>\n",
       "<polygon clip-path=\"url(#clip1302)\" style=\"fill:#000000; fill-opacity:1\" points=\"\n",
       "  1652.74,915.101 1652.74,1163.1 1900.74,1163.1 1900.74,915.101 1652.74,915.101 \n",
       "  \"/>\n",
       "<polygon clip-path=\"url(#clip1302)\" style=\"fill:#000000; fill-opacity:1\" points=\"\n",
       "  1656.74,919.101 1656.74,1159.1 1896.74,1159.1 1896.74,919.101 1656.74,919.101 \n",
       "  \"/>\n",
       "<polygon clip-path=\"url(#clip1302)\" style=\"fill:#000000; fill-opacity:1\" points=\"\n",
       "  565.772,1186.84 565.772,1434.84 813.772,1434.84 813.772,1186.84 565.772,1186.84 \n",
       "  \"/>\n",
       "<polygon clip-path=\"url(#clip1302)\" style=\"fill:#000000; fill-opacity:1\" points=\"\n",
       "  569.772,1190.84 569.772,1430.84 809.772,1430.84 809.772,1190.84 569.772,1190.84 \n",
       "  \"/>\n",
       "<polygon clip-path=\"url(#clip1302)\" style=\"fill:#000000; fill-opacity:1\" points=\"\n",
       "  837.514,1186.84 837.514,1434.84 1085.51,1434.84 1085.51,1186.84 837.514,1186.84 \n",
       "  \"/>\n",
       "<polygon clip-path=\"url(#clip1302)\" style=\"fill:#000000; fill-opacity:1\" points=\"\n",
       "  841.514,1190.84 841.514,1430.84 1081.51,1430.84 1081.51,1190.84 841.514,1190.84 \n",
       "  \"/>\n",
       "<polygon clip-path=\"url(#clip1302)\" style=\"fill:#000000; fill-opacity:1\" points=\"\n",
       "  1109.26,1186.84 1109.26,1434.84 1357.26,1434.84 1357.26,1186.84 1109.26,1186.84 \n",
       "  \"/>\n",
       "<polygon clip-path=\"url(#clip1302)\" style=\"fill:#000000; fill-opacity:1\" points=\"\n",
       "  1113.26,1190.84 1113.26,1430.84 1353.26,1430.84 1353.26,1190.84 1113.26,1190.84 \n",
       "  \"/>\n",
       "<polygon clip-path=\"url(#clip1302)\" style=\"fill:#000000; fill-opacity:1\" points=\"\n",
       "  1381,1186.84 1381,1434.84 1629,1434.84 1629,1186.84 1381,1186.84 \n",
       "  \"/>\n",
       "<polygon clip-path=\"url(#clip1302)\" style=\"fill:#000000; fill-opacity:1\" points=\"\n",
       "  1385,1190.84 1385,1430.84 1625,1430.84 1625,1190.84 1385,1190.84 \n",
       "  \"/>\n",
       "<polygon clip-path=\"url(#clip1302)\" style=\"fill:#000000; fill-opacity:1\" points=\"\n",
       "  1652.74,1186.84 1652.74,1434.84 1900.74,1434.84 1900.74,1186.84 1652.74,1186.84 \n",
       "  \"/>\n",
       "<polygon clip-path=\"url(#clip1302)\" style=\"fill:#000000; fill-opacity:1\" points=\"\n",
       "  1656.74,1190.84 1656.74,1430.84 1896.74,1430.84 1896.74,1190.84 1656.74,1190.84 \n",
       "  \"/>\n",
       "<g clip-path=\"url(#clip1300)\">\n",
       "<text style=\"fill:#ffffff; fill-opacity:1; font-family:Arial,Helvetica Neue,Helvetica,sans-serif; font-size:84px; text-anchor:middle;\" transform=\"rotate(0, 689.772, 254.376)\" x=\"689.772\" y=\"254.376\">-1.33</text>\n",
       "</g>\n",
       "<g clip-path=\"url(#clip1300)\">\n",
       "<text style=\"fill:#ffffff; fill-opacity:1; font-family:Arial,Helvetica Neue,Helvetica,sans-serif; font-size:84px; text-anchor:middle;\" transform=\"rotate(0, 961.514, 254.376)\" x=\"961.514\" y=\"254.376\">-0.92</text>\n",
       "</g>\n",
       "<g clip-path=\"url(#clip1300)\">\n",
       "<text style=\"fill:#ffffff; fill-opacity:1; font-family:Arial,Helvetica Neue,Helvetica,sans-serif; font-size:84px; text-anchor:middle;\" transform=\"rotate(0, 1233.26, 254.376)\" x=\"1233.26\" y=\"254.376\">0.82</text>\n",
       "</g>\n",
       "<g clip-path=\"url(#clip1300)\">\n",
       "<text style=\"fill:#ffffff; fill-opacity:1; font-family:Arial,Helvetica Neue,Helvetica,sans-serif; font-size:84px; text-anchor:middle;\" transform=\"rotate(0, 1505, 254.376)\" x=\"1505\" y=\"254.376\">0.29</text>\n",
       "</g>\n",
       "<g clip-path=\"url(#clip1300)\">\n",
       "<text style=\"fill:#ffffff; fill-opacity:1; font-family:Arial,Helvetica Neue,Helvetica,sans-serif; font-size:84px; text-anchor:middle;\" transform=\"rotate(0, 1776.74, 254.376)\" x=\"1776.74\" y=\"254.376\">-0.98</text>\n",
       "</g>\n",
       "<g clip-path=\"url(#clip1300)\">\n",
       "<text style=\"fill:#ffffff; fill-opacity:1; font-family:Arial,Helvetica Neue,Helvetica,sans-serif; font-size:84px; text-anchor:middle;\" transform=\"rotate(0, 689.772, 526.118)\" x=\"689.772\" y=\"526.118\">0.36</text>\n",
       "</g>\n",
       "<g clip-path=\"url(#clip1300)\">\n",
       "<text style=\"fill:#ffffff; fill-opacity:1; font-family:Arial,Helvetica Neue,Helvetica,sans-serif; font-size:84px; text-anchor:middle;\" transform=\"rotate(0, 961.514, 526.118)\" x=\"961.514\" y=\"526.118\">0.54</text>\n",
       "</g>\n",
       "<g clip-path=\"url(#clip1300)\">\n",
       "<text style=\"fill:#ffffff; fill-opacity:1; font-family:Arial,Helvetica Neue,Helvetica,sans-serif; font-size:84px; text-anchor:middle;\" transform=\"rotate(0, 1233.26, 526.118)\" x=\"1233.26\" y=\"526.118\">-0.49</text>\n",
       "</g>\n",
       "<g clip-path=\"url(#clip1300)\">\n",
       "<text style=\"fill:#ffffff; fill-opacity:1; font-family:Arial,Helvetica Neue,Helvetica,sans-serif; font-size:84px; text-anchor:middle;\" transform=\"rotate(0, 1505, 526.118)\" x=\"1505\" y=\"526.118\">-0.59</text>\n",
       "</g>\n",
       "<g clip-path=\"url(#clip1300)\">\n",
       "<text style=\"fill:#ffffff; fill-opacity:1; font-family:Arial,Helvetica Neue,Helvetica,sans-serif; font-size:84px; text-anchor:middle;\" transform=\"rotate(0, 1776.74, 526.118)\" x=\"1776.74\" y=\"526.118\">-0.12</text>\n",
       "</g>\n",
       "<g clip-path=\"url(#clip1300)\">\n",
       "<text style=\"fill:#ffffff; fill-opacity:1; font-family:Arial,Helvetica Neue,Helvetica,sans-serif; font-size:84px; text-anchor:middle;\" transform=\"rotate(0, 689.772, 797.859)\" x=\"689.772\" y=\"797.859\">0.05</text>\n",
       "</g>\n",
       "<g clip-path=\"url(#clip1300)\">\n",
       "<text style=\"fill:#ffffff; fill-opacity:1; font-family:Arial,Helvetica Neue,Helvetica,sans-serif; font-size:84px; text-anchor:middle;\" transform=\"rotate(0, 961.514, 797.859)\" x=\"961.514\" y=\"797.859\">1.41</text>\n",
       "</g>\n",
       "<g clip-path=\"url(#clip1300)\">\n",
       "<text style=\"fill:#ffffff; fill-opacity:1; font-family:Arial,Helvetica Neue,Helvetica,sans-serif; font-size:84px; text-anchor:middle;\" transform=\"rotate(0, 1233.26, 797.859)\" x=\"1233.26\" y=\"797.859\">-1.27</text>\n",
       "</g>\n",
       "<g clip-path=\"url(#clip1300)\">\n",
       "<text style=\"fill:#ffffff; fill-opacity:1; font-family:Arial,Helvetica Neue,Helvetica,sans-serif; font-size:84px; text-anchor:middle;\" transform=\"rotate(0, 1505, 797.859)\" x=\"1505\" y=\"797.859\">0.52</text>\n",
       "</g>\n",
       "<g clip-path=\"url(#clip1300)\">\n",
       "<text style=\"fill:#ffffff; fill-opacity:1; font-family:Arial,Helvetica Neue,Helvetica,sans-serif; font-size:84px; text-anchor:middle;\" transform=\"rotate(0, 1776.74, 797.859)\" x=\"1776.74\" y=\"797.859\">0.84</text>\n",
       "</g>\n",
       "<g clip-path=\"url(#clip1300)\">\n",
       "<text style=\"fill:#ffffff; fill-opacity:1; font-family:Arial,Helvetica Neue,Helvetica,sans-serif; font-size:84px; text-anchor:middle;\" transform=\"rotate(0, 689.772, 1069.6)\" x=\"689.772\" y=\"1069.6\">-1.92</text>\n",
       "</g>\n",
       "<g clip-path=\"url(#clip1300)\">\n",
       "<text style=\"fill:#ffffff; fill-opacity:1; font-family:Arial,Helvetica Neue,Helvetica,sans-serif; font-size:84px; text-anchor:middle;\" transform=\"rotate(0, 961.514, 1069.6)\" x=\"961.514\" y=\"1069.6\">-1.36</text>\n",
       "</g>\n",
       "<g clip-path=\"url(#clip1300)\">\n",
       "<text style=\"fill:#ffffff; fill-opacity:1; font-family:Arial,Helvetica Neue,Helvetica,sans-serif; font-size:84px; text-anchor:middle;\" transform=\"rotate(0, 1233.26, 1069.6)\" x=\"1233.26\" y=\"1069.6\">-0.04</text>\n",
       "</g>\n",
       "<g clip-path=\"url(#clip1300)\">\n",
       "<text style=\"fill:#ffffff; fill-opacity:1; font-family:Arial,Helvetica Neue,Helvetica,sans-serif; font-size:84px; text-anchor:middle;\" transform=\"rotate(0, 1505, 1069.6)\" x=\"1505\" y=\"1069.6\">1.78</text>\n",
       "</g>\n",
       "<g clip-path=\"url(#clip1300)\">\n",
       "<text style=\"fill:#ffffff; fill-opacity:1; font-family:Arial,Helvetica Neue,Helvetica,sans-serif; font-size:84px; text-anchor:middle;\" transform=\"rotate(0, 1776.74, 1069.6)\" x=\"1776.74\" y=\"1069.6\">-1.13</text>\n",
       "</g>\n",
       "<g clip-path=\"url(#clip1300)\">\n",
       "<text style=\"fill:#ffffff; fill-opacity:1; font-family:Arial,Helvetica Neue,Helvetica,sans-serif; font-size:84px; text-anchor:middle;\" transform=\"rotate(0, 689.772, 1341.34)\" x=\"689.772\" y=\"1341.34\">0.11</text>\n",
       "</g>\n",
       "<g clip-path=\"url(#clip1300)\">\n",
       "<text style=\"fill:#ffffff; fill-opacity:1; font-family:Arial,Helvetica Neue,Helvetica,sans-serif; font-size:84px; text-anchor:middle;\" transform=\"rotate(0, 961.514, 1341.34)\" x=\"961.514\" y=\"1341.34\">-0.58</text>\n",
       "</g>\n",
       "<g clip-path=\"url(#clip1300)\">\n",
       "<text style=\"fill:#ffffff; fill-opacity:1; font-family:Arial,Helvetica Neue,Helvetica,sans-serif; font-size:84px; text-anchor:middle;\" transform=\"rotate(0, 1233.26, 1341.34)\" x=\"1233.26\" y=\"1341.34\">1.52</text>\n",
       "</g>\n",
       "<g clip-path=\"url(#clip1300)\">\n",
       "<text style=\"fill:#ffffff; fill-opacity:1; font-family:Arial,Helvetica Neue,Helvetica,sans-serif; font-size:84px; text-anchor:middle;\" transform=\"rotate(0, 1505, 1341.34)\" x=\"1505\" y=\"1341.34\">-1.07</text>\n",
       "</g>\n",
       "<g clip-path=\"url(#clip1300)\">\n",
       "<text style=\"fill:#ffffff; fill-opacity:1; font-family:Arial,Helvetica Neue,Helvetica,sans-serif; font-size:84px; text-anchor:middle;\" transform=\"rotate(0, 1776.74, 1341.34)\" x=\"1776.74\" y=\"1341.34\">-0.45</text>\n",
       "</g>\n",
       "</svg>\n"
      ]
     },
     "metadata": {},
     "output_type": "display_data"
    }
   ],
   "source": [
    "n = 5\n",
    "A = randn(n,n)\n",
    "L = fill(0.0,n,n)\n",
    "Akeep = [copy(A)]\n",
    "row = [0]\n",
    "display(lookat(A))\n",
    "for j=1:n, i=(j+1):n\n",
    "        L[i,j] = A[i,j]/A[j,j]\n",
    "        A[i,:] -= L[i,j] * A[j,:]\n",
    "        push!(Akeep,copy(A))\n",
    "        push!(row,i)\n",
    "end"
   ]
  },
  {
   "cell_type": "code",
   "execution_count": 28,
   "metadata": {},
   "outputs": [],
   "source": [
    "using Interact"
   ]
  },
  {
   "cell_type": "code",
   "execution_count": null,
   "metadata": {},
   "outputs": [],
   "source": [
    "@manipulate for i=slider(1:length(v),value=1)\n",
    "      lookat(Akeep[i],redrow=row[i],showtext=false)\n",
    "end"
   ]
  }
 ],
 "metadata": {
  "@webio": {
   "lastCommId": "537ab39c8c9d4cc28cd32c61c7ee5efd",
   "lastKernelId": "a730407c-9a25-4713-9c06-1a7cc0638e37"
  },
  "kernelspec": {
   "display_name": "Julia 1.3.0",
   "language": "julia",
   "name": "julia-1.3"
  },
  "language_info": {
   "file_extension": ".jl",
   "mimetype": "application/julia",
   "name": "julia",
   "version": "1.3.0"
  }
 },
 "nbformat": 4,
 "nbformat_minor": 2
}
