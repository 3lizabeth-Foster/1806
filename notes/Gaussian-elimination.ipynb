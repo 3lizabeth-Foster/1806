{
 "cells": [
  {
   "cell_type": "markdown",
   "metadata": {},
   "source": [
    "# Gaussian elimination\n",
    "\n",
    "This Julia notebook allows us to interactively visualize the process of Gaussian elimination.\n",
    "\n",
    "Recall that the process of [Gaussian elimination](https://en.wikipedia.org/wiki/Gaussian_elimination) involves subtracting rows to turn a matrix $A$ into an [upper triangular matrix](https://en.wikipedia.org/wiki/Triangular_matrix) $U$.  Often we *augment* the matrix with an additional column, representing the right-hand side $b$ of a system of equations $Ax=b$ that we want to solve: by doing the same row operations to both $A$ and $b$, we arrive at an equivalent equation $Ux=c$ that is easy to solve by *backsubstitution* (solving for one variable at a time, working from the last row to the top row).\n",
    "\n",
    "For example, suppose we are solving:\n",
    "\n",
    "$$\n",
    "Ax = \n",
    "\\begin{pmatrix}\n",
    "1 & 3 & 1  \\\\\n",
    "1 & 1 & -1  \\\\\n",
    "3 & 11 & 6 \n",
    "\\end{pmatrix} x = \n",
    "\\begin{pmatrix}\n",
    "9 \\\\\n",
    "1 \\\\\n",
    "35\n",
    "\\end{pmatrix} = b\n",
    "$$\n",
    "\n",
    "We would perform the following elimination process.\n",
    "\n",
    "$$\n",
    "\\left[\\begin{array}{rrr|r}\n",
    "\\boxed{1} & 3 & 1 & 9 \\\\\n",
    "1 & 1 & -1 & 1 \\\\\n",
    "3 & 11 & 6 & 35\n",
    "\\end{array}\\right]\\to\n",
    "\\left[\\begin{array}{rrr|r}\n",
    "\\boxed{1} & 3 & 1 & 9 \\\\\n",
    "0 & \\boxed{-2} & -2 & -8 \\\\\n",
    "0 & 2 & 3 & 8\n",
    "\\end{array}\\right]\\to\n",
    "\\left[\\begin{array}{rrr|r}\n",
    "\\boxed{1} & 3 & 1 & 9 \\\\\n",
    "0 & \\boxed{-2} & -2 & -8 \\\\\n",
    "0 & 0 & \\boxed{1} & 0\n",
    "\\end{array}\\right]\n",
    "$$\n",
    "\n",
    "The boxed values are known as the **pivots**.  Now we do **backsubstitution**, working from the bottom up.  The last row is a single equation in a single unknown:\n",
    "\n",
    "$$\n",
    "1 x_3 = 0 \\implies x_3 = 0 .\n",
    "$$\n",
    "\n",
    "Now that we know $x_3$, the second row gives:\n",
    "\n",
    "$$\n",
    "-2x_2 - 2x_3 = -8 \\implies -2x_2 - 0 = -8 \\implies x_2 = 4 .\n",
    "$$\n",
    "\n",
    "Finally, now that we know $x_2$ and $x_3$, the first row gives:\n",
    "\n",
    "$$\n",
    "1 x_1 + 3 x_2 + 1x_3 = 9 \\implies x_1 + 12 + 0 = 9 \\implies x_1 = -3.\n",
    "$$\n",
    "\n",
    "It is much more fun to let the computer do the arithmetic than to crunch through it ourselves on the blackboard, but usually the computer does things *too* quickly (and it often does some re-ordering of the rows that makes it harder to follow what is going on).  For example, in Julia, we can solve the above system of equations by simply:"
   ]
  },
  {
   "cell_type": "code",
   "execution_count": 1,
   "metadata": {},
   "outputs": [
    {
     "data": {
      "text/plain": [
       "3×3 Matrix{Int64}:\n",
       " 1   3   1\n",
       " 1   1  -1\n",
       " 3  11   6"
      ]
     },
     "execution_count": 1,
     "metadata": {},
     "output_type": "execute_result"
    }
   ],
   "source": [
    "A = [1 3  1\n",
    "     1 1 -1\n",
    "     3 11 6]"
   ]
  },
  {
   "cell_type": "code",
   "execution_count": 2,
   "metadata": {},
   "outputs": [
    {
     "data": {
      "text/plain": [
       "3-element Vector{Int64}:\n",
       "  9\n",
       "  1\n",
       " 35"
      ]
     },
     "execution_count": 2,
     "metadata": {},
     "output_type": "execute_result"
    }
   ],
   "source": [
    "b = [9, 1, 35]"
   ]
  },
  {
   "cell_type": "code",
   "execution_count": 3,
   "metadata": {},
   "outputs": [
    {
     "data": {
      "text/plain": [
       "3-element Vector{Float64}:\n",
       " -3.0\n",
       "  4.0\n",
       " -0.0"
      ]
     },
     "execution_count": 3,
     "metadata": {},
     "output_type": "execute_result"
    }
   ],
   "source": [
    "x = A \\ b # solves Ax = b by (essentially) Gaussian elimination"
   ]
  },
  {
   "cell_type": "code",
   "execution_count": 4,
   "metadata": {},
   "outputs": [
    {
     "data": {
      "text/plain": [
       "3-element Vector{Float64}:\n",
       " -3.0\n",
       "  4.0\n",
       "  0.0"
      ]
     },
     "execution_count": 4,
     "metadata": {},
     "output_type": "execute_result"
    }
   ],
   "source": [
    "inv(A) * b"
   ]
  },
  {
   "cell_type": "markdown",
   "metadata": {},
   "source": [
    "## Row swaps\n",
    "\n",
    "Occasionally, we may encounter a zero in the pivot position.  Sometimes this means that the equations are **singular** (may have no solutions) — we will talk more about this later.  However, as long as there is a nonzero value *below* the pivot, we can fix the problem by **swapping rows** (which just corresponds to re-ordering the equations).\n",
    "\n",
    "For example:\n",
    "\n",
    "\n",
    "$$\n",
    "\\left[\\begin{array}{rrr|r}\n",
    "\\boxed{1} & 3 & 1 & 9 \\\\\n",
    "1 & 3 & -1 & 1 \\\\\n",
    "3 & 11 & 6 & 35\n",
    "\\end{array}\\right]\\to\n",
    "\\left[\\begin{array}{rrr|r}\n",
    "\\boxed{1} & 3 & 1 & 9 \\\\\n",
    "0 & 0 & -2 & -8 \\\\\n",
    "0 & 2 & 3 & 8\n",
    "\\end{array}\\right]\\to\n",
    "\\left[\\begin{array}{rrr|r}\n",
    "\\boxed{1} & 3 & 1 & 9 \\\\\n",
    "0 & \\boxed{2} & 3 & 8 \\\\\n",
    "0 & 0 & \\boxed{-2} & -8\n",
    "\\end{array}\\right]\n",
    "$$\n",
    "\n",
    "where in the second step we swapped the second and third rows to get a nonzero pivot in the second row.\n",
    "\n",
    "At this point we can again solve bottom-up by backsubstitution:\n",
    "\n",
    "$$\n",
    "-2x_3 = 8 \\implies x_3 = 4 \\\\\n",
    "2x_2 + 3x_3 = 8 = 2x_2 + 12 \\implies x_2 = -2 \\\\\n",
    "x_1 + 3x_2 + x_3 = 9 = x_1 -6 + 4 \\implies x_3 = 11\n",
    "$$\n",
    "\n",
    "Of course, the computer can get the answer much more quickly and easily:"
   ]
  },
  {
   "cell_type": "code",
   "execution_count": 5,
   "metadata": {},
   "outputs": [
    {
     "data": {
      "text/plain": [
       "3-element Vector{Float64}:\n",
       " 11.000000000000005\n",
       " -2.0000000000000013\n",
       "  4.0"
      ]
     },
     "execution_count": 5,
     "metadata": {},
     "output_type": "execute_result"
    }
   ],
   "source": [
    "[ 1 3  1\n",
    "  1 3 -1\n",
    "  3 11 6 ] \\\n",
    "[9\n",
    " 1\n",
    " 35]"
   ]
  },
  {
   "cell_type": "markdown",
   "metadata": {},
   "source": [
    "## “Big” matrices on the computer\n",
    "\n",
    "Of course, the computer can solve *much bigger problems* easily.  It can solve 1000 equations in 1000 unknowns in a fraction of a second — nowadays, that is no longer considered a \"big\" system of equations."
   ]
  },
  {
   "cell_type": "code",
   "execution_count": 6,
   "metadata": {},
   "outputs": [
    {
     "data": {
      "text/plain": [
       "1000×1000 Matrix{Float64}:\n",
       " 0.190382   0.143707   0.308085   …  0.747875  0.418489   0.149632\n",
       " 0.878735   0.224007   0.315863      0.30484   0.402037   0.897979\n",
       " 0.0445828  0.101571   0.26722       0.592954  0.311074   0.836348\n",
       " 0.419198   0.307406   0.17398       0.368327  0.538557   0.696191\n",
       " 0.671763   0.910891   0.849899      0.356293  0.140855   0.813942\n",
       " 0.899937   0.751785   0.739469   …  0.512194  0.102239   0.419332\n",
       " 0.95338    0.335331   0.631814      0.769082  0.189383   0.123631\n",
       " 0.02145    0.183199   0.16087       0.185993  0.150629   0.570211\n",
       " 0.0685273  0.877787   0.680691      0.995901  0.359215   0.575727\n",
       " 0.582494   0.0519821  0.0576001     0.558685  0.59545    0.278228\n",
       " 0.368608   0.197219   0.186511   …  0.275839  0.194325   0.932673\n",
       " 0.244011   0.49007    0.629159      0.371908  0.568013   0.0826273\n",
       " 0.492357   0.228224   0.0627205     0.770021  0.706285   0.86037\n",
       " ⋮                                ⋱                       \n",
       " 0.668468   0.535898   0.662484      0.49239   0.789655   0.520541\n",
       " 0.647471   0.742315   0.630073      0.387526  0.499756   0.162121\n",
       " 0.934122   0.651572   0.0758102  …  0.846191  0.260472   0.024916\n",
       " 0.230185   0.838164   0.327968      0.470685  0.069339   0.799671\n",
       " 0.32842    0.737573   0.719741      0.630882  0.764782   0.904054\n",
       " 0.520603   0.0583035  0.362241      0.465066  0.795539   0.595867\n",
       " 0.0811129  0.137628   0.482117      0.231153  0.90246    0.00201162\n",
       " 0.0207045  0.641022   0.826387   …  0.854146  0.538688   0.488584\n",
       " 0.789216   0.59915    0.689103      0.792757  0.530393   0.86215\n",
       " 0.0258518  0.14742    0.526345      0.256005  0.0291799  0.730808\n",
       " 0.723449   0.936145   0.765435      0.979634  0.621976   0.348819\n",
       " 0.0668477  0.459903   0.14098       0.676489  0.788277   0.130773"
      ]
     },
     "execution_count": 6,
     "metadata": {},
     "output_type": "execute_result"
    }
   ],
   "source": [
    "Ahuge = rand(1000,1000)"
   ]
  },
  {
   "cell_type": "code",
   "execution_count": 7,
   "metadata": {},
   "outputs": [
    {
     "data": {
      "text/plain": [
       "1000-element Vector{Float64}:\n",
       " 0.13808196744124357\n",
       " 0.30790388810305314\n",
       " 0.9843722796747438\n",
       " 0.8984808075780172\n",
       " 0.6926058331711066\n",
       " 0.28977486504595085\n",
       " 0.6751915158195466\n",
       " 0.7791858004830561\n",
       " 0.2490146196571229\n",
       " 0.01769261854295212\n",
       " 0.5468137893019194\n",
       " 0.9541032645385921\n",
       " 0.9142667324761953\n",
       " ⋮\n",
       " 0.6567038472322951\n",
       " 0.4198049916531378\n",
       " 0.47633220924363295\n",
       " 0.4764833214382018\n",
       " 0.7917535439920983\n",
       " 0.5526675375461927\n",
       " 0.9359335369369893\n",
       " 0.2263896870233485\n",
       " 0.406860030359222\n",
       " 0.38798024824542265\n",
       " 0.38727688105530167\n",
       " 0.6477783780273488"
      ]
     },
     "execution_count": 7,
     "metadata": {},
     "output_type": "execute_result"
    }
   ],
   "source": [
    "bhuge = rand(1000)"
   ]
  },
  {
   "cell_type": "code",
   "execution_count": 8,
   "metadata": {},
   "outputs": [
    {
     "data": {
      "text/plain": [
       "1000-element Vector{Float64}:\n",
       " -2.8836226355232766\n",
       "  1.6235849615019033\n",
       " -0.48670980610272496\n",
       "  1.701060599241639\n",
       " -1.7101601480364592\n",
       " -1.1221345817638164\n",
       "  0.941254794301253\n",
       " -2.07354660241423\n",
       " -1.4965070849422029\n",
       " -4.468456338087966\n",
       "  3.724764283565761\n",
       " -5.177426705906044\n",
       " -2.666727969159799\n",
       "  ⋮\n",
       "  2.322093108387676\n",
       "  1.121101727625988\n",
       "  1.6161323849704738\n",
       " -2.23972880877638\n",
       " -1.4155042104880367\n",
       "  3.0796992077953895\n",
       "  0.40610800904298927\n",
       "  0.07020253855705844\n",
       " -3.2825753319848467\n",
       "  6.074305554130607\n",
       "  1.42916533386771\n",
       " -0.005088917548277062"
      ]
     },
     "execution_count": 8,
     "metadata": {},
     "output_type": "execute_result"
    }
   ],
   "source": [
    "Ahuge \\ bhuge"
   ]
  },
  {
   "cell_type": "code",
   "execution_count": 9,
   "metadata": {},
   "outputs": [
    {
     "name": "stdout",
     "output_type": "stream",
     "text": [
      "  0.012994 seconds (4 allocations: 7.645 MiB)\n",
      "  0.015204 seconds (4 allocations: 7.645 MiB)\n",
      "  0.013404 seconds (4 allocations: 7.645 MiB)\n"
     ]
    }
   ],
   "source": [
    "@time Ahuge \\ bhuge;\n",
    "@time Ahuge \\ bhuge;\n",
    "@time Ahuge \\ bhuge;"
   ]
  },
  {
   "cell_type": "markdown",
   "metadata": {},
   "source": [
    "If we want to see the matrix $U$ from above, we use the fact (covered soon in 18.06) that Gaussian elimination is really \"LU\" factorization, performed by the function `lufact` in the built-in `LinearAlgebra` package. By default, however, \"serious\" computer implementations of this process automatically re-order the rows to reduce the effect of roundoff errors, so we need to pass an extra option that tells Julia not to do this.  (You should *not* normally do this, except for learning exercises.)"
   ]
  },
  {
   "cell_type": "code",
   "execution_count": 10,
   "metadata": {},
   "outputs": [],
   "source": [
    "using LinearAlgebra"
   ]
  },
  {
   "cell_type": "code",
   "execution_count": 11,
   "metadata": {},
   "outputs": [
    {
     "data": {
      "text/plain": [
       "3×4 Matrix{Float64}:\n",
       " 1.0   3.0   1.0   9.0\n",
       " 0.0  -2.0  -2.0  -8.0\n",
       " 0.0   0.0   1.0   0.0"
      ]
     },
     "execution_count": 11,
     "metadata": {},
     "output_type": "execute_result"
    }
   ],
   "source": [
    "# LU factorization (Gaussian elimination) of the augumented matrix [A b], \n",
    "# passing the somewhat obscure Val(false) option to prevent row re-ordering\n",
    "F = lu([A b], Val(false)) # a \"factorization\" object storing both L and U\n",
    "F.U # just show U"
   ]
  },
  {
   "cell_type": "markdown",
   "metadata": {},
   "source": [
    "However, it would be nice to show the individual steps of this process.  This requires some programming."
   ]
  },
  {
   "cell_type": "markdown",
   "metadata": {},
   "source": [
    "# Code to interactively visualize Gaussian elimination\n",
    "\n",
    "The following is some slightly tricky code that lets us visualize the process of Gaussian elimination in Julia.  It takes advantage of the [Interact](https://github.com/JuliaGizmos/Interact.jl) package in Julia, which allows us to easily create interactive displays using sliders, pushbuttons, and other widgets.\n",
    "\n",
    "Implementing this is **not really a beginner exercise** for new Julia programmers, though it is fairly straightforward for people who are used to Julia.  It involves defining our own type to control display, our own implementation of Gaussian elimination that allows us to stop partway through, and using the Interact package to create interactive widgets.\n",
    "\n",
    "You can skip this part if you aren't ready for the programming details."
   ]
  },
  {
   "cell_type": "code",
   "execution_count": 12,
   "metadata": {},
   "outputs": [
    {
     "data": {
      "text/plain": [
       "naive_gauss"
      ]
     },
     "execution_count": 12,
     "metadata": {},
     "output_type": "execute_result"
    }
   ],
   "source": [
    "\"\"\"\n",
    "    naive_gauss(A, [step])\n",
    "\n",
    "Given a matrix `A`, performs Gaussian elimination to convert\n",
    "`A` into an upper-triangular matrix `U`.\n",
    "\n",
    "This implementation is \"naive\" because it *never re-orders the rows*.\n",
    "(It will obviously fail if a zero pivot is encountered.)\n",
    "\n",
    "If the optional `step` argument is supplied, only performs `step`\n",
    "steps of Gaussian elimination.\n",
    "\n",
    "Returns `(U, row, col, factor)`, where `row` and `col` are the\n",
    "row and column of the last step performed, while `factor`\n",
    "is the last factor multiplying the pivot row.\n",
    "\"\"\"\n",
    "function naive_gauss(A, step=typemax(Int))\n",
    "    m = size(A,1) # number of rows\n",
    "    factor = A[1,1]/A[1,1]\n",
    "    step ≤ 0 && return (A, 1, 1, factor)\n",
    "    U = copyto!(similar(A, typeof(factor)), A)\n",
    "    for j = 1:m   # loop over m columns\n",
    "        for i = j+1:m   # loop over rows below the pivot row j\n",
    "            # subtract a multiple of the pivot row (j)\n",
    "            # from the current row (i) to cancel U[i,j] = Uᵢⱼ:\n",
    "            factor = -U[i,j]/U[j,j]\n",
    "            U[i,:] = U[i,:] + U[j,:] * factor\n",
    "            step -= 1\n",
    "            step ≤ 0 && return (U, i, j, factor)\n",
    "        end\n",
    "    end\n",
    "    return U, m, m, factor\n",
    "end"
   ]
  },
  {
   "cell_type": "code",
   "execution_count": 13,
   "metadata": {},
   "outputs": [
    {
     "data": {
      "application/vnd.webio.node+json": {
       "children": [],
       "instanceArgs": {
        "namespace": "html",
        "tag": "div"
       },
       "nodeType": "DOM",
       "props": {},
       "type": "node"
      },
      "text/html": [
       "<div style=\"padding: 1em; background-color: #f8d6da; border: 1px solid #f5c6cb; font-weight: bold;\">\n",
       "<p>The WebIO Jupyter extension was not detected. See the\n",
       "<a href=\"https://juliagizmos.github.io/WebIO.jl/latest/providers/ijulia/\" target=\"_blank\">\n",
       "    WebIO Jupyter integration documentation\n",
       "</a>\n",
       "for more information.\n",
       "</div>\n"
      ],
      "text/plain": [
       "WebIO._IJuliaInit()"
      ]
     },
     "metadata": {
      "application/vnd.webio.node+json": {
       "kernelId": "9b2c9a66-30c0-402b-982a-eb5446d43477"
      }
     },
     "output_type": "display_data"
    },
    {
     "data": {
      "text/plain": [
       "visualize_gauss (generic function with 1 method)"
      ]
     },
     "execution_count": 13,
     "metadata": {},
     "output_type": "execute_result"
    }
   ],
   "source": [
    "using Interact\n",
    "\n",
    "# For display, I only want to show 3 decimal places of floating-point values,\n",
    "# but I want to show integers and similar types exactly, so I define a little\n",
    "# function to do this rounding\n",
    "shorten(x::AbstractFloat) = round(x, digits=3)\n",
    "shorten(x) = x # leave non floating-point values as-is\n",
    "\n",
    "# create an interactive widget to visualize the Gaussian-elimination process for the matrix A.\n",
    "function visualize_gauss(A)\n",
    "    m = size(A, 1)\n",
    "    @manipulate for step in slider(1:(m*(m-1))÷2, value=1, label=\"gauss step\")\n",
    "        Uprev, = naive_gauss(A, step-1)\n",
    "        U, row, col, factor = naive_gauss(A, step)\n",
    "        pivot = U[col,col]\n",
    "        vbox(\n",
    "            node(:pre, \"Gaussian elimination for column $col with pivot $pivot: add $(shorten(factor)) * (row $col) to (row $row)\"),\n",
    "            hbox(shorten.(Uprev),\n",
    "                hskip(1em), \"⟶\", hskip(1em),\n",
    "                shorten.(U)\n",
    "            )(alignitems(:center))\n",
    "        )(alignitems(:center))\n",
    "    end\n",
    "end"
   ]
  },
  {
   "cell_type": "markdown",
   "metadata": {},
   "source": [
    "# Gaussian elimination examples\n",
    "\n",
    "Now, let's use this machinery to interact with some examples, starting with our $3 \\times 3$ matrix from above:"
   ]
  },
  {
   "cell_type": "code",
   "execution_count": 14,
   "metadata": {},
   "outputs": [
    {
     "data": {
      "application/vnd.webio.node+json": {
       "children": [
        {
         "children": [
          {
           "children": [
            {
             "children": [
              {
               "children": [
                {
                 "children": [
                  "gauss step"
                 ],
                 "instanceArgs": {
                  "namespace": "html",
                  "tag": "label"
                 },
                 "nodeType": "DOM",
                 "props": {
                  "className": "interact ",
                  "style": {
                   "padding": "5px 10px 0px 10px"
                  }
                 },
                 "type": "node"
                }
               ],
               "instanceArgs": {
                "namespace": "html",
                "tag": "div"
               },
               "nodeType": "DOM",
               "props": {
                "className": "interact-flex-row-left"
               },
               "type": "node"
              },
              {
               "children": [
                {
                 "children": [],
                 "instanceArgs": {
                  "namespace": "html",
                  "tag": "input"
                 },
                 "nodeType": "DOM",
                 "props": {
                  "attributes": {
                   "data-bind": "numericValue: index, valueUpdate: 'input', event: {change: function (){this.changes(this.changes()+1)}}",
                   "orient": "horizontal",
                   "type": "range"
                  },
                  "className": "slider slider is-fullwidth",
                  "max": 3,
                  "min": 1,
                  "step": 1,
                  "style": {}
                 },
                 "type": "node"
                }
               ],
               "instanceArgs": {
                "namespace": "html",
                "tag": "div"
               },
               "nodeType": "DOM",
               "props": {
                "className": "interact-flex-row-center"
               },
               "type": "node"
              },
              {
               "children": [
                {
                 "children": [],
                 "instanceArgs": {
                  "namespace": "html",
                  "tag": "p"
                 },
                 "nodeType": "DOM",
                 "props": {
                  "attributes": {
                   "data-bind": "text: formatted_val"
                  }
                 },
                 "type": "node"
                }
               ],
               "instanceArgs": {
                "namespace": "html",
                "tag": "div"
               },
               "nodeType": "DOM",
               "props": {
                "className": "interact-flex-row-right"
               },
               "type": "node"
              }
             ],
             "instanceArgs": {
              "namespace": "html",
              "tag": "div"
             },
             "nodeType": "DOM",
             "props": {
              "className": "interact-flex-row interact-widget"
             },
             "type": "node"
            }
           ],
           "instanceArgs": {
            "handlers": {
             "changes": [
              "(function (val){return (val!=this.model[\"changes\"]()) ? (this.valueFromJulia[\"changes\"]=true, this.model[\"changes\"](val)) : undefined})"
             ],
             "index": [
              "(function (val){return (val!=this.model[\"index\"]()) ? (this.valueFromJulia[\"index\"]=true, this.model[\"index\"](val)) : undefined})"
             ]
            },
            "id": "5887682631730510644",
            "imports": {
             "data": [
              {
               "name": "knockout",
               "type": "js",
               "url": "/assetserver/fd07f05e6f0e773c7ed9fa68e01084e25cfd3f7d-knockout.js"
              },
              {
               "name": "knockout_punches",
               "type": "js",
               "url": "/assetserver/fdfc8cc31c1ce53af7d64368e908ef5535b56da7-knockout_punches.js"
              },
              {
               "name": null,
               "type": "js",
               "url": "/assetserver/61f613675da75f539731913573998184b30434d8-all.js"
              },
              {
               "name": null,
               "type": "css",
               "url": "/assetserver/58abda19fb319e300ad7b22e44bebba074b4bb4d-style.css"
              },
              {
               "name": null,
               "type": "css",
               "url": "/assetserver/624890bd43acdf6da9d12dfb47a1c50d9dc9f836-bulma_confined.min.css"
              }
             ],
             "type": "async_block"
            },
            "mount_callbacks": [
             "function () {\n    var handler = (function (ko, koPunches) {\n    ko.punches.enableAll();\n    ko.bindingHandlers.numericValue = {\n        init: function(element, valueAccessor, allBindings, data, context) {\n            var stringified = ko.observable(ko.unwrap(valueAccessor()));\n            stringified.subscribe(function(value) {\n                var val = parseFloat(value);\n                if (!isNaN(val)) {\n                    valueAccessor()(val);\n                }\n            });\n            valueAccessor().subscribe(function(value) {\n                var str = JSON.stringify(value);\n                if ((str == \"0\") && ([\"-0\", \"-0.\"].indexOf(stringified()) >= 0))\n                     return;\n                 if ([\"null\", \"\"].indexOf(str) >= 0)\n                     return;\n                stringified(str);\n            });\n            ko.applyBindingsToNode(\n                element,\n                {\n                    value: stringified,\n                    valueUpdate: allBindings.get('valueUpdate'),\n                },\n                context,\n            );\n        }\n    };\n    var json_data = {\"formatted_vals\":[\"1\",\"2\",\"3\"],\"changes\":WebIO.getval({\"name\":\"changes\",\"scope\":\"5887682631730510644\",\"id\":\"6754209498517984116\",\"type\":\"observable\"}),\"index\":WebIO.getval({\"name\":\"index\",\"scope\":\"5887682631730510644\",\"id\":\"510009092327873970\",\"type\":\"observable\"})};\n    var self = this;\n    function AppViewModel() {\n        for (var key in json_data) {\n            var el = json_data[key];\n            this[key] = Array.isArray(el) ? ko.observableArray(el) : ko.observable(el);\n        }\n        \n        [this[\"formatted_val\"]=ko.computed(    function(){\n        return this.formatted_vals()[parseInt(this.index())-(1)];\n    }\n,this)]\n        [this[\"changes\"].subscribe((function (val){!(this.valueFromJulia[\"changes\"]) ? (WebIO.setval({\"name\":\"changes\",\"scope\":\"5887682631730510644\",\"id\":\"6754209498517984116\",\"type\":\"observable\"},val)) : undefined; return this.valueFromJulia[\"changes\"]=false}),self),this[\"index\"].subscribe((function (val){!(this.valueFromJulia[\"index\"]) ? (WebIO.setval({\"name\":\"index\",\"scope\":\"5887682631730510644\",\"id\":\"510009092327873970\",\"type\":\"observable\"},val)) : undefined; return this.valueFromJulia[\"index\"]=false}),self)]\n        \n    }\n    self.model = new AppViewModel();\n    self.valueFromJulia = {};\n    for (var key in json_data) {\n        self.valueFromJulia[key] = false;\n    }\n    ko.applyBindings(self.model, self.dom);\n}\n);\n    (WebIO.importBlock({\"data\":[{\"name\":\"knockout\",\"type\":\"js\",\"url\":\"/assetserver/fd07f05e6f0e773c7ed9fa68e01084e25cfd3f7d-knockout.js\"},{\"name\":\"knockout_punches\",\"type\":\"js\",\"url\":\"/assetserver/fdfc8cc31c1ce53af7d64368e908ef5535b56da7-knockout_punches.js\"}],\"type\":\"async_block\"})).then((imports) => handler.apply(this, imports));\n}\n"
            ],
            "observables": {
             "changes": {
              "id": "6754209498517984116",
              "sync": false,
              "value": 0
             },
             "index": {
              "id": "510009092327873970",
              "sync": true,
              "value": 1
             }
            },
            "systemjs_options": null
           },
           "nodeType": "Scope",
           "props": {},
           "type": "node"
          }
         ],
         "instanceArgs": {
          "namespace": "html",
          "tag": "div"
         },
         "nodeType": "DOM",
         "props": {
          "className": "field interact-widget"
         },
         "type": "node"
        },
        {
         "children": [
          {
           "children": [],
           "instanceArgs": {
            "id": "7997352308974421255",
            "name": "obs-node"
           },
           "nodeType": "ObservableNode",
           "props": {},
           "type": "node"
          }
         ],
         "instanceArgs": {
          "handlers": {},
          "id": "11644517744554210046",
          "imports": {
           "data": [],
           "type": "async_block"
          },
          "mount_callbacks": [],
          "observables": {
           "obs-node": {
            "id": "7997352308974421255",
            "sync": false,
            "value": {
             "children": [
              {
               "children": [
                {
                 "children": [
                  "Gaussian elimination for column 1 with pivot 1.0: add -1.0 * (row 1) to (row 2)"
                 ],
                 "instanceArgs": {
                  "namespace": "html",
                  "tag": "pre"
                 },
                 "nodeType": "DOM",
                 "props": {},
                 "type": "node"
                },
                {
                 "children": [
                  {
                   "children": [],
                   "instanceArgs": {
                    "namespace": "html",
                    "tag": "div"
                   },
                   "nodeType": "DOM",
                   "props": {
                    "setInnerHtml": "<pre>3×4 Matrix{Int64}:\n 1   3   1   9\n 1   1  -1   1\n 3  11   6  35</pre>"
                   },
                   "type": "node"
                  },
                  {
                   "children": [],
                   "instanceArgs": {
                    "namespace": "html",
                    "tag": "div"
                   },
                   "nodeType": "DOM",
                   "props": {
                    "style": {
                     "height": "0.0px",
                     "width": "1.0em"
                    }
                   },
                   "type": "node"
                  },
                  "⟶",
                  {
                   "children": [],
                   "instanceArgs": {
                    "namespace": "html",
                    "tag": "div"
                   },
                   "nodeType": "DOM",
                   "props": {
                    "style": {
                     "height": "0.0px",
                     "width": "1.0em"
                    }
                   },
                   "type": "node"
                  },
                  {
                   "children": [],
                   "instanceArgs": {
                    "namespace": "html",
                    "tag": "div"
                   },
                   "nodeType": "DOM",
                   "props": {
                    "setInnerHtml": "<pre>3×4 Matrix{Float64}:\n 1.0   3.0   1.0   9.0\n 0.0  -2.0  -2.0  -8.0\n 3.0  11.0   6.0  35.0</pre>"
                   },
                   "type": "node"
                  }
                 ],
                 "instanceArgs": {
                  "namespace": "html",
                  "tag": "div"
                 },
                 "nodeType": "DOM",
                 "props": {
                  "style": {
                   "align-items": "center",
                   "display": "flex",
                   "flex-direction": "row"
                  }
                 },
                 "type": "node"
                }
               ],
               "instanceArgs": {
                "namespace": "html",
                "tag": "div"
               },
               "nodeType": "DOM",
               "props": {
                "style": {
                 "align-items": "center",
                 "display": "flex",
                 "flex-direction": "column"
                }
               },
               "type": "node"
              }
             ],
             "instanceArgs": {
              "namespace": "html",
              "tag": "div"
             },
             "nodeType": "DOM",
             "props": {
              "className": "interact-flex-row interact-widget"
             },
             "type": "node"
            }
           }
          },
          "systemjs_options": null
         },
         "nodeType": "Scope",
         "props": {},
         "type": "node"
        }
       ],
       "instanceArgs": {
        "namespace": "html",
        "tag": "div"
       },
       "nodeType": "DOM",
       "props": {},
       "type": "node"
      },
      "text/html": [
       "<div\n",
       "    class=\"webio-mountpoint\"\n",
       "    data-webio-mountpoint=\"14905187967962573983\"\n",
       ">\n",
       "    <script>\n",
       "    (function(){\n",
       "    // Some integrations (namely, IJulia/Jupyter) use an alternate render pathway than\n",
       "    // just putting the html on the page. If WebIO isn't defined, then it's pretty likely\n",
       "    // that we're in one of those situations and the integration just isn't installed\n",
       "    // correctly.\n",
       "    if (typeof window.WebIO === \"undefined\") {\n",
       "        document\n",
       "            .querySelector('[data-webio-mountpoint=\"14905187967962573983\"]')\n",
       "            .innerHTML = (\n",
       "                '<div style=\"padding: 1em; background-color: #f8d6da; border: 1px solid #f5c6cb; font-weight: bold;\">' +\n",
       "                '<p><strong>WebIO not detected.</strong></p>' +\n",
       "                '<p>Please read ' +\n",
       "                '<a href=\"https://juliagizmos.github.io/WebIO.jl/latest/troubleshooting/not-detected/\" target=\"_blank\">the troubleshooting guide</a> ' +\n",
       "                'for more information on how to resolve this issue.</p>' +\n",
       "                '<p><a href=\"https://juliagizmos.github.io/WebIO.jl/latest/troubleshooting/not-detected/\" target=\"_blank\">https://juliagizmos.github.io/WebIO.jl/latest/troubleshooting/not-detected/</a></p>' +\n",
       "                '</div>'\n",
       "            );\n",
       "        return;\n",
       "    }\n",
       "    WebIO.mount(\n",
       "        document.querySelector('[data-webio-mountpoint=\"14905187967962573983\"]'),\n",
       "        {\"props\":{},\"nodeType\":\"DOM\",\"type\":\"node\",\"instanceArgs\":{\"namespace\":\"html\",\"tag\":\"div\"},\"children\":[{\"props\":{\"className\":\"field interact-widget\"},\"nodeType\":\"DOM\",\"type\":\"node\",\"instanceArgs\":{\"namespace\":\"html\",\"tag\":\"div\"},\"children\":[{\"props\":{},\"nodeType\":\"Scope\",\"type\":\"node\",\"instanceArgs\":{\"imports\":{\"data\":[{\"name\":\"knockout\",\"type\":\"js\",\"url\":\"\\/assetserver\\/fd07f05e6f0e773c7ed9fa68e01084e25cfd3f7d-knockout.js\"},{\"name\":\"knockout_punches\",\"type\":\"js\",\"url\":\"\\/assetserver\\/fdfc8cc31c1ce53af7d64368e908ef5535b56da7-knockout_punches.js\"},{\"name\":null,\"type\":\"js\",\"url\":\"\\/assetserver\\/61f613675da75f539731913573998184b30434d8-all.js\"},{\"name\":null,\"type\":\"css\",\"url\":\"\\/assetserver\\/58abda19fb319e300ad7b22e44bebba074b4bb4d-style.css\"},{\"name\":null,\"type\":\"css\",\"url\":\"\\/assetserver\\/624890bd43acdf6da9d12dfb47a1c50d9dc9f836-bulma_confined.min.css\"}],\"type\":\"async_block\"},\"id\":\"5887682631730510644\",\"handlers\":{\"changes\":[\"(function (val){return (val!=this.model[\\\"changes\\\"]()) ? (this.valueFromJulia[\\\"changes\\\"]=true, this.model[\\\"changes\\\"](val)) : undefined})\"],\"index\":[\"(function (val){return (val!=this.model[\\\"index\\\"]()) ? (this.valueFromJulia[\\\"index\\\"]=true, this.model[\\\"index\\\"](val)) : undefined})\"]},\"systemjs_options\":null,\"mount_callbacks\":[\"function () {\\n    var handler = (function (ko, koPunches) {\\n    ko.punches.enableAll();\\n    ko.bindingHandlers.numericValue = {\\n        init: function(element, valueAccessor, allBindings, data, context) {\\n            var stringified = ko.observable(ko.unwrap(valueAccessor()));\\n            stringified.subscribe(function(value) {\\n                var val = parseFloat(value);\\n                if (!isNaN(val)) {\\n                    valueAccessor()(val);\\n                }\\n            });\\n            valueAccessor().subscribe(function(value) {\\n                var str = JSON.stringify(value);\\n                if ((str == \\\"0\\\") && ([\\\"-0\\\", \\\"-0.\\\"].indexOf(stringified()) >= 0))\\n                     return;\\n                 if ([\\\"null\\\", \\\"\\\"].indexOf(str) >= 0)\\n                     return;\\n                stringified(str);\\n            });\\n            ko.applyBindingsToNode(\\n                element,\\n                {\\n                    value: stringified,\\n                    valueUpdate: allBindings.get('valueUpdate'),\\n                },\\n                context,\\n            );\\n        }\\n    };\\n    var json_data = {\\\"formatted_vals\\\":[\\\"1\\\",\\\"2\\\",\\\"3\\\"],\\\"changes\\\":WebIO.getval({\\\"name\\\":\\\"changes\\\",\\\"scope\\\":\\\"5887682631730510644\\\",\\\"id\\\":\\\"6754209498517984116\\\",\\\"type\\\":\\\"observable\\\"}),\\\"index\\\":WebIO.getval({\\\"name\\\":\\\"index\\\",\\\"scope\\\":\\\"5887682631730510644\\\",\\\"id\\\":\\\"510009092327873970\\\",\\\"type\\\":\\\"observable\\\"})};\\n    var self = this;\\n    function AppViewModel() {\\n        for (var key in json_data) {\\n            var el = json_data[key];\\n            this[key] = Array.isArray(el) ? ko.observableArray(el) : ko.observable(el);\\n        }\\n        \\n        [this[\\\"formatted_val\\\"]=ko.computed(    function(){\\n        return this.formatted_vals()[parseInt(this.index())-(1)];\\n    }\\n,this)]\\n        [this[\\\"changes\\\"].subscribe((function (val){!(this.valueFromJulia[\\\"changes\\\"]) ? (WebIO.setval({\\\"name\\\":\\\"changes\\\",\\\"scope\\\":\\\"5887682631730510644\\\",\\\"id\\\":\\\"6754209498517984116\\\",\\\"type\\\":\\\"observable\\\"},val)) : undefined; return this.valueFromJulia[\\\"changes\\\"]=false}),self),this[\\\"index\\\"].subscribe((function (val){!(this.valueFromJulia[\\\"index\\\"]) ? (WebIO.setval({\\\"name\\\":\\\"index\\\",\\\"scope\\\":\\\"5887682631730510644\\\",\\\"id\\\":\\\"510009092327873970\\\",\\\"type\\\":\\\"observable\\\"},val)) : undefined; return this.valueFromJulia[\\\"index\\\"]=false}),self)]\\n        \\n    }\\n    self.model = new AppViewModel();\\n    self.valueFromJulia = {};\\n    for (var key in json_data) {\\n        self.valueFromJulia[key] = false;\\n    }\\n    ko.applyBindings(self.model, self.dom);\\n}\\n);\\n    (WebIO.importBlock({\\\"data\\\":[{\\\"name\\\":\\\"knockout\\\",\\\"type\\\":\\\"js\\\",\\\"url\\\":\\\"\\/assetserver\\/fd07f05e6f0e773c7ed9fa68e01084e25cfd3f7d-knockout.js\\\"},{\\\"name\\\":\\\"knockout_punches\\\",\\\"type\\\":\\\"js\\\",\\\"url\\\":\\\"\\/assetserver\\/fdfc8cc31c1ce53af7d64368e908ef5535b56da7-knockout_punches.js\\\"}],\\\"type\\\":\\\"async_block\\\"})).then((imports) => handler.apply(this, imports));\\n}\\n\"],\"observables\":{\"changes\":{\"sync\":false,\"id\":\"6754209498517984116\",\"value\":0},\"index\":{\"sync\":true,\"id\":\"510009092327873970\",\"value\":1}}},\"children\":[{\"props\":{\"className\":\"interact-flex-row interact-widget\"},\"nodeType\":\"DOM\",\"type\":\"node\",\"instanceArgs\":{\"namespace\":\"html\",\"tag\":\"div\"},\"children\":[{\"props\":{\"className\":\"interact-flex-row-left\"},\"nodeType\":\"DOM\",\"type\":\"node\",\"instanceArgs\":{\"namespace\":\"html\",\"tag\":\"div\"},\"children\":[{\"props\":{\"className\":\"interact \",\"style\":{\"padding\":\"5px 10px 0px 10px\"}},\"nodeType\":\"DOM\",\"type\":\"node\",\"instanceArgs\":{\"namespace\":\"html\",\"tag\":\"label\"},\"children\":[\"gauss step\"]}]},{\"props\":{\"className\":\"interact-flex-row-center\"},\"nodeType\":\"DOM\",\"type\":\"node\",\"instanceArgs\":{\"namespace\":\"html\",\"tag\":\"div\"},\"children\":[{\"props\":{\"max\":3,\"min\":1,\"attributes\":{\"type\":\"range\",\"data-bind\":\"numericValue: index, valueUpdate: 'input', event: {change: function (){this.changes(this.changes()+1)}}\",\"orient\":\"horizontal\"},\"step\":1,\"className\":\"slider slider is-fullwidth\",\"style\":{}},\"nodeType\":\"DOM\",\"type\":\"node\",\"instanceArgs\":{\"namespace\":\"html\",\"tag\":\"input\"},\"children\":[]}]},{\"props\":{\"className\":\"interact-flex-row-right\"},\"nodeType\":\"DOM\",\"type\":\"node\",\"instanceArgs\":{\"namespace\":\"html\",\"tag\":\"div\"},\"children\":[{\"props\":{\"attributes\":{\"data-bind\":\"text: formatted_val\"}},\"nodeType\":\"DOM\",\"type\":\"node\",\"instanceArgs\":{\"namespace\":\"html\",\"tag\":\"p\"},\"children\":[]}]}]}]}]},{\"props\":{},\"nodeType\":\"Scope\",\"type\":\"node\",\"instanceArgs\":{\"imports\":{\"data\":[],\"type\":\"async_block\"},\"id\":\"1625160844459793620\",\"handlers\":{},\"systemjs_options\":null,\"mount_callbacks\":[],\"observables\":{\"obs-node\":{\"sync\":false,\"id\":\"2581701982972919956\",\"value\":{\"props\":{\"className\":\"interact-flex-row interact-widget\"},\"nodeType\":\"DOM\",\"type\":\"node\",\"instanceArgs\":{\"namespace\":\"html\",\"tag\":\"div\"},\"children\":[{\"props\":{\"style\":{\"align-items\":\"center\",\"display\":\"flex\",\"flex-direction\":\"column\"}},\"nodeType\":\"DOM\",\"type\":\"node\",\"instanceArgs\":{\"namespace\":\"html\",\"tag\":\"div\"},\"children\":[{\"props\":{},\"nodeType\":\"DOM\",\"type\":\"node\",\"instanceArgs\":{\"namespace\":\"html\",\"tag\":\"pre\"},\"children\":[\"Gaussian elimination for column 1 with pivot 1.0: add -1.0 * (row 1) to (row 2)\"]},{\"props\":{\"style\":{\"align-items\":\"center\",\"display\":\"flex\",\"flex-direction\":\"row\"}},\"nodeType\":\"DOM\",\"type\":\"node\",\"instanceArgs\":{\"namespace\":\"html\",\"tag\":\"div\"},\"children\":[{\"props\":{\"setInnerHtml\":\"<pre>3×4 Matrix{Int64}:\\n 1   3   1   9\\n 1   1  -1   1\\n 3  11   6  35<\\/pre>\"},\"nodeType\":\"DOM\",\"type\":\"node\",\"instanceArgs\":{\"namespace\":\"html\",\"tag\":\"div\"},\"children\":[]},{\"props\":{\"style\":{\"height\":\"0.0px\",\"width\":\"1.0em\"}},\"nodeType\":\"DOM\",\"type\":\"node\",\"instanceArgs\":{\"namespace\":\"html\",\"tag\":\"div\"},\"children\":[]},\"⟶\",{\"props\":{\"style\":{\"height\":\"0.0px\",\"width\":\"1.0em\"}},\"nodeType\":\"DOM\",\"type\":\"node\",\"instanceArgs\":{\"namespace\":\"html\",\"tag\":\"div\"},\"children\":[]},{\"props\":{\"setInnerHtml\":\"<pre>3×4 Matrix{Float64}:\\n 1.0   3.0   1.0   9.0\\n 0.0  -2.0  -2.0  -8.0\\n 3.0  11.0   6.0  35.0<\\/pre>\"},\"nodeType\":\"DOM\",\"type\":\"node\",\"instanceArgs\":{\"namespace\":\"html\",\"tag\":\"div\"},\"children\":[]}]}]}]}}}},\"children\":[{\"props\":{},\"nodeType\":\"ObservableNode\",\"type\":\"node\",\"instanceArgs\":{\"id\":\"2581701982972919956\",\"name\":\"obs-node\"},\"children\":[]}]}]},\n",
       "        window,\n",
       "    );\n",
       "    })()\n",
       "    </script>\n",
       "</div>\n"
      ],
      "text/plain": [
       "Node{WebIO.DOM}(WebIO.DOM(:html, :div), Any[Node{WebIO.DOM}(WebIO.DOM(:html, :div), Any[Scope(Node{WebIO.DOM}(WebIO.DOM(:html, :div), Any[Node{WebIO.DOM}(WebIO.DOM(:html, :div), Any[Node{WebIO.DOM}(WebIO.DOM(:html, :label), Any[\"gauss step\"], Dict{Symbol, Any}(:className => \"interact \", :style => Dict{Any, Any}(:padding => \"5px 10px 0px 10px\")))], Dict{Symbol, Any}(:className => \"interact-flex-row-left\")), Node{WebIO.DOM}(WebIO.DOM(:html, :div), Any[Node{WebIO.DOM}(WebIO.DOM(:html, :input), Any[], Dict{Symbol, Any}(:max => 3, :min => 1, :attributes => Dict{Any, Any}(:type => \"range\", Symbol(\"data-bind\") => \"numericValue: index, valueUpdate: 'input', event: {change: function (){this.changes(this.changes()+1)}}\", \"orient\" => \"horizontal\"), :step => 1, :className => \"slider slider is-fullwidth\", :style => Dict{Any, Any}()))], Dict{Symbol, Any}(:className => \"interact-flex-row-center\")), Node{WebIO.DOM}(WebIO.DOM(:html, :div), Any[Node{WebIO.DOM}(WebIO.DOM(:html, :p), Any[], Dict{Symbol, Any}(:attributes => Dict(\"data-bind\" => \"text: formatted_val\")))], Dict{Symbol, Any}(:className => \"interact-flex-row-right\"))], Dict{Symbol, Any}(:className => \"interact-flex-row interact-widget\")), Dict{String, Tuple{Observables.AbstractObservable, Union{Nothing, Bool}}}(\"changes\" => (Observable{Int64} with 1 listeners. Value:\n",
       "0, nothing), \"index\" => (Observable{Int64} with 2 listeners. Value:\n",
       "1, nothing)), Set{String}(), nothing, Asset[Asset(\"js\", \"knockout\", \"/Users/stevenj/.julia/packages/Knockout/3gjS1/src/../assets/knockout.js\"), Asset(\"js\", \"knockout_punches\", \"/Users/stevenj/.julia/packages/Knockout/3gjS1/src/../assets/knockout_punches.js\"), Asset(\"js\", nothing, \"/Users/stevenj/.julia/packages/InteractBase/o1I6G/src/../assets/all.js\"), Asset(\"css\", nothing, \"/Users/stevenj/.julia/packages/InteractBase/o1I6G/src/../assets/style.css\"), Asset(\"css\", nothing, \"/Users/stevenj/.julia/packages/Interact/pVyN2/src/../assets/bulma_confined.min.css\")], Dict{Any, Any}(\"changes\" => Any[WebIO.JSString(\"(function (val){return (val!=this.model[\\\"changes\\\"]()) ? (this.valueFromJulia[\\\"changes\\\"]=true, this.model[\\\"changes\\\"](val)) : undefined})\")], \"index\" => Any[WebIO.JSString(\"(function (val){return (val!=this.model[\\\"index\\\"]()) ? (this.valueFromJulia[\\\"index\\\"]=true, this.model[\\\"index\\\"](val)) : undefined})\")]), WebIO.ConnectionPool(Channel{Any}(32), Set{AbstractConnection}(), Condition(Base.InvasiveLinkedList{Task}(Task (runnable) @0x0000000114a8c400, Task (runnable) @0x0000000114a8c400), Base.AlwaysLockedST(1))), WebIO.JSString[WebIO.JSString(\"function () {\\n    var handler = (function (ko, koPunches) {\\n    ko.punches.enableAll();\\n    ko.bindingHandlers.numericValue = {\\n        init: function(element, valueAccessor, allBindings, data, context) {\\n            var stringified = ko.observable(ko.unwrap(valueAccessor()));\\n            stringified.subscribe(function(value) {\\n                var val = parseFloat(value);\\n                if (!isNaN(val)) {\\n                    valueAccessor()(val);\\n                }\\n            });\\n            valueAccessor().subscribe(function(value) {\\n                var str = JSON.stringify(value);\\n                if ((str == \\\"0\\\") && ([\\\"-0\\\", \\\"-0.\\\"].indexOf(stringified()) >= 0))\\n                     return;\\n                 if ([\\\"null\\\", \\\"\\\"].indexOf(str) >= 0)\\n                     return;\\n                stringified(str);\\n            });\\n            ko.applyBindingsToNode(\\n                element,\\n                {\\n                    value: stringified,\\n                    valueUpdate: allBindings.get('valueUpdate'),\\n                },\\n                context,\\n            );\\n        }\\n    };\\n    var json_data = {\\\"formatted_vals\\\":[\\\"1\\\",\\\"2\\\",\\\"3\\\"],\\\"changes\\\":WebIO.getval({\\\"name\\\":\\\"changes\\\",\\\"scope\\\":\\\"5887682631730510644\\\",\\\"id\\\":\\\"6754209498517984116\\\",\\\"type\\\":\\\"observable\\\"}),\\\"index\\\":WebIO.getval({\\\"name\\\":\\\"index\\\",\\\"scope\\\":\\\"5887682631730510644\\\",\\\"id\\\":\\\"510009092327873970\\\",\\\"type\\\":\\\"observable\\\"})};\\n    var self = this;\\n    function AppViewModel() {\\n        for (var key in json_data) {\\n            var el = json_data[key];\\n            this[key] = Array.isArray(el) ? ko.observableArray(el) : ko.observable(el);\\n        }\\n        \\n        [this[\\\"formatted_val\\\"]=ko.computed(    function(){\\n        return this.formatted_vals()[parseInt(this.index())-(1)];\\n    }\\n,this)]\\n        [this[\\\"changes\\\"].subscribe((function (val){!(this.valueFromJulia[\\\"changes\\\"]) ? (WebIO.setval({\\\"name\\\":\\\"changes\\\",\\\"scope\\\":\\\"5887682631730510644\\\",\\\"id\\\":\\\"6754209498517984116\\\",\\\"type\\\":\\\"observable\\\"},val)) : undefined; return this.valueFromJulia[\\\"changes\\\"]=false}),self),this[\\\"index\\\"].subscribe((function (val){!(this.valueFromJulia[\\\"index\\\"]) ? (WebIO.setval({\\\"name\\\":\\\"index\\\",\\\"scope\\\":\\\"5887682631730510644\\\",\\\"id\\\":\\\"510009092327873970\\\",\\\"type\\\":\\\"observable\\\"},val)) : undefined; return this.valueFromJulia[\\\"index\\\"]=false}),self)]\\n        \\n    }\\n    self.model = new AppViewModel();\\n    self.valueFromJulia = {};\\n    for (var key in json_data) {\\n        self.valueFromJulia[key] = false;\\n    }\\n    ko.applyBindings(self.model, self.dom);\\n}\\n);\\n    (WebIO.importBlock({\\\"data\\\":[{\\\"name\\\":\\\"knockout\\\",\\\"type\\\":\\\"js\\\",\\\"url\\\":\\\"/assetserver/fd07f05e6f0e773c7ed9fa68e01084e25cfd3f7d-knockout.js\\\"},{\\\"name\\\":\\\"knockout_punches\\\",\\\"type\\\":\\\"js\\\",\\\"url\\\":\\\"/assetserver/fdfc8cc31c1ce53af7d64368e908ef5535b56da7-knockout_punches.js\\\"}],\\\"type\\\":\\\"async_block\\\"})).then((imports) => handler.apply(this, imports));\\n}\\n\")])], Dict{Symbol, Any}(:className => \"field interact-widget\")), Observable{Node{WebIO.DOM}} with 0 listeners. Value:\n",
       "Node{WebIO.DOM}(WebIO.DOM(:html, :div), Any[Node{WebIO.DOM}(WebIO.DOM(:html, :div), Any[Node{WebIO.DOM}(WebIO.DOM(:html, :pre), Any[\"Gaussian elimination for column 1 with pivot 1.0: add -1.0 * (row 1) to (row 2)\"], Dict{Symbol, Any}()), Node{WebIO.DOM}(WebIO.DOM(:html, :div), Any[[1 3 1 9; 1 1 -1 1; 3 11 6 35], Node{WebIO.DOM}(WebIO.DOM(:html, :div), Any[], Dict{Symbol, Any}(:style => Dict{String, Measures.Length{U, Float64} where U}(\"height\" => 0.0px, \"width\" => 1.0em))), \"⟶\", Node{WebIO.DOM}(WebIO.DOM(:html, :div), Any[], Dict{Symbol, Any}(:style => Dict{String, Measures.Length{U, Float64} where U}(\"height\" => 0.0px, \"width\" => 1.0em))), [1.0 3.0 1.0 9.0; 0.0 -2.0 -2.0 -8.0; 3.0 11.0 6.0 35.0]], Dict{Symbol, Any}(:style => Dict{Any, Any}(\"align-items\" => :center, \"display\" => \"flex\", \"flex-direction\" => \"row\")))], Dict{Symbol, Any}(:style => Dict{Any, Any}(\"align-items\" => :center, \"display\" => \"flex\", \"flex-direction\" => \"column\")))], Dict{Symbol, Any}(:className => \"interact-flex-row interact-widget\"))], Dict{Symbol, Any}())"
      ]
     },
     "execution_count": 14,
     "metadata": {
      "application/vnd.webio.node+json": {
       "kernelId": "9b2c9a66-30c0-402b-982a-eb5446d43477"
      }
     },
     "output_type": "execute_result"
    }
   ],
   "source": [
    "visualize_gauss([A b])"
   ]
  },
  {
   "cell_type": "code",
   "execution_count": 15,
   "metadata": {},
   "outputs": [
    {
     "data": {
      "application/vnd.webio.node+json": {
       "children": [
        {
         "children": [
          {
           "children": [
            {
             "children": [
              {
               "children": [
                {
                 "children": [
                  "gauss step"
                 ],
                 "instanceArgs": {
                  "namespace": "html",
                  "tag": "label"
                 },
                 "nodeType": "DOM",
                 "props": {
                  "className": "interact ",
                  "style": {
                   "padding": "5px 10px 0px 10px"
                  }
                 },
                 "type": "node"
                }
               ],
               "instanceArgs": {
                "namespace": "html",
                "tag": "div"
               },
               "nodeType": "DOM",
               "props": {
                "className": "interact-flex-row-left"
               },
               "type": "node"
              },
              {
               "children": [
                {
                 "children": [],
                 "instanceArgs": {
                  "namespace": "html",
                  "tag": "input"
                 },
                 "nodeType": "DOM",
                 "props": {
                  "attributes": {
                   "data-bind": "numericValue: index, valueUpdate: 'input', event: {change: function (){this.changes(this.changes()+1)}}",
                   "orient": "horizontal",
                   "type": "range"
                  },
                  "className": "slider slider is-fullwidth",
                  "max": 10,
                  "min": 1,
                  "step": 1,
                  "style": {}
                 },
                 "type": "node"
                }
               ],
               "instanceArgs": {
                "namespace": "html",
                "tag": "div"
               },
               "nodeType": "DOM",
               "props": {
                "className": "interact-flex-row-center"
               },
               "type": "node"
              },
              {
               "children": [
                {
                 "children": [],
                 "instanceArgs": {
                  "namespace": "html",
                  "tag": "p"
                 },
                 "nodeType": "DOM",
                 "props": {
                  "attributes": {
                   "data-bind": "text: formatted_val"
                  }
                 },
                 "type": "node"
                }
               ],
               "instanceArgs": {
                "namespace": "html",
                "tag": "div"
               },
               "nodeType": "DOM",
               "props": {
                "className": "interact-flex-row-right"
               },
               "type": "node"
              }
             ],
             "instanceArgs": {
              "namespace": "html",
              "tag": "div"
             },
             "nodeType": "DOM",
             "props": {
              "className": "interact-flex-row interact-widget"
             },
             "type": "node"
            }
           ],
           "instanceArgs": {
            "handlers": {
             "changes": [
              "(function (val){return (val!=this.model[\"changes\"]()) ? (this.valueFromJulia[\"changes\"]=true, this.model[\"changes\"](val)) : undefined})"
             ],
             "index": [
              "(function (val){return (val!=this.model[\"index\"]()) ? (this.valueFromJulia[\"index\"]=true, this.model[\"index\"](val)) : undefined})"
             ]
            },
            "id": "17156619437491128073",
            "imports": {
             "data": [
              {
               "name": "knockout",
               "type": "js",
               "url": "/assetserver/fd07f05e6f0e773c7ed9fa68e01084e25cfd3f7d-knockout.js"
              },
              {
               "name": "knockout_punches",
               "type": "js",
               "url": "/assetserver/fdfc8cc31c1ce53af7d64368e908ef5535b56da7-knockout_punches.js"
              },
              {
               "name": null,
               "type": "js",
               "url": "/assetserver/61f613675da75f539731913573998184b30434d8-all.js"
              },
              {
               "name": null,
               "type": "css",
               "url": "/assetserver/58abda19fb319e300ad7b22e44bebba074b4bb4d-style.css"
              },
              {
               "name": null,
               "type": "css",
               "url": "/assetserver/624890bd43acdf6da9d12dfb47a1c50d9dc9f836-bulma_confined.min.css"
              }
             ],
             "type": "async_block"
            },
            "mount_callbacks": [
             "function () {\n    var handler = (function (ko, koPunches) {\n    ko.punches.enableAll();\n    ko.bindingHandlers.numericValue = {\n        init: function(element, valueAccessor, allBindings, data, context) {\n            var stringified = ko.observable(ko.unwrap(valueAccessor()));\n            stringified.subscribe(function(value) {\n                var val = parseFloat(value);\n                if (!isNaN(val)) {\n                    valueAccessor()(val);\n                }\n            });\n            valueAccessor().subscribe(function(value) {\n                var str = JSON.stringify(value);\n                if ((str == \"0\") && ([\"-0\", \"-0.\"].indexOf(stringified()) >= 0))\n                     return;\n                 if ([\"null\", \"\"].indexOf(str) >= 0)\n                     return;\n                stringified(str);\n            });\n            ko.applyBindingsToNode(\n                element,\n                {\n                    value: stringified,\n                    valueUpdate: allBindings.get('valueUpdate'),\n                },\n                context,\n            );\n        }\n    };\n    var json_data = {\"formatted_vals\":[\"1\",\"2\",\"3\",\"4\",\"5\",\"6\",\"7\",\"8\",\"9\",\"10\"],\"changes\":WebIO.getval({\"name\":\"changes\",\"scope\":\"17156619437491128073\",\"id\":\"10260605759707866324\",\"type\":\"observable\"}),\"index\":WebIO.getval({\"name\":\"index\",\"scope\":\"17156619437491128073\",\"id\":\"6862635913674415348\",\"type\":\"observable\"})};\n    var self = this;\n    function AppViewModel() {\n        for (var key in json_data) {\n            var el = json_data[key];\n            this[key] = Array.isArray(el) ? ko.observableArray(el) : ko.observable(el);\n        }\n        \n        [this[\"formatted_val\"]=ko.computed(    function(){\n        return this.formatted_vals()[parseInt(this.index())-(1)];\n    }\n,this)]\n        [this[\"changes\"].subscribe((function (val){!(this.valueFromJulia[\"changes\"]) ? (WebIO.setval({\"name\":\"changes\",\"scope\":\"17156619437491128073\",\"id\":\"10260605759707866324\",\"type\":\"observable\"},val)) : undefined; return this.valueFromJulia[\"changes\"]=false}),self),this[\"index\"].subscribe((function (val){!(this.valueFromJulia[\"index\"]) ? (WebIO.setval({\"name\":\"index\",\"scope\":\"17156619437491128073\",\"id\":\"6862635913674415348\",\"type\":\"observable\"},val)) : undefined; return this.valueFromJulia[\"index\"]=false}),self)]\n        \n    }\n    self.model = new AppViewModel();\n    self.valueFromJulia = {};\n    for (var key in json_data) {\n        self.valueFromJulia[key] = false;\n    }\n    ko.applyBindings(self.model, self.dom);\n}\n);\n    (WebIO.importBlock({\"data\":[{\"name\":\"knockout\",\"type\":\"js\",\"url\":\"/assetserver/fd07f05e6f0e773c7ed9fa68e01084e25cfd3f7d-knockout.js\"},{\"name\":\"knockout_punches\",\"type\":\"js\",\"url\":\"/assetserver/fdfc8cc31c1ce53af7d64368e908ef5535b56da7-knockout_punches.js\"}],\"type\":\"async_block\"})).then((imports) => handler.apply(this, imports));\n}\n"
            ],
            "observables": {
             "changes": {
              "id": "10260605759707866324",
              "sync": false,
              "value": 0
             },
             "index": {
              "id": "6862635913674415348",
              "sync": true,
              "value": 1
             }
            },
            "systemjs_options": null
           },
           "nodeType": "Scope",
           "props": {},
           "type": "node"
          }
         ],
         "instanceArgs": {
          "namespace": "html",
          "tag": "div"
         },
         "nodeType": "DOM",
         "props": {
          "className": "field interact-widget"
         },
         "type": "node"
        },
        {
         "children": [
          {
           "children": [],
           "instanceArgs": {
            "id": "8063539412592824149",
            "name": "obs-node"
           },
           "nodeType": "ObservableNode",
           "props": {},
           "type": "node"
          }
         ],
         "instanceArgs": {
          "handlers": {},
          "id": "13715885010076759359",
          "imports": {
           "data": [],
           "type": "async_block"
          },
          "mount_callbacks": [],
          "observables": {
           "obs-node": {
            "id": "8063539412592824149",
            "sync": false,
            "value": {
             "children": [
              {
               "children": [
                {
                 "children": [
                  "Gaussian elimination for column 1 with pivot 5.0: add -1.0 * (row 1) to (row 2)"
                 ],
                 "instanceArgs": {
                  "namespace": "html",
                  "tag": "pre"
                 },
                 "nodeType": "DOM",
                 "props": {},
                 "type": "node"
                },
                {
                 "children": [
                  {
                   "children": [],
                   "instanceArgs": {
                    "namespace": "html",
                    "tag": "div"
                   },
                   "nodeType": "DOM",
                   "props": {
                    "setInnerHtml": "<pre>5×5 Matrix{Int64}:\n 5   4   3  -7   0\n 5  -6   7  -6  -7\n 5  -6   6  -7   3\n 3   8  -1  -5  -5\n 9   6   0   3  -5</pre>"
                   },
                   "type": "node"
                  },
                  {
                   "children": [],
                   "instanceArgs": {
                    "namespace": "html",
                    "tag": "div"
                   },
                   "nodeType": "DOM",
                   "props": {
                    "style": {
                     "height": "0.0px",
                     "width": "1.0em"
                    }
                   },
                   "type": "node"
                  },
                  "⟶",
                  {
                   "children": [],
                   "instanceArgs": {
                    "namespace": "html",
                    "tag": "div"
                   },
                   "nodeType": "DOM",
                   "props": {
                    "style": {
                     "height": "0.0px",
                     "width": "1.0em"
                    }
                   },
                   "type": "node"
                  },
                  {
                   "children": [],
                   "instanceArgs": {
                    "namespace": "html",
                    "tag": "div"
                   },
                   "nodeType": "DOM",
                   "props": {
                    "setInnerHtml": "<pre>5×5 Matrix{Float64}:\n 5.0    4.0   3.0  -7.0   0.0\n 0.0  -10.0   4.0   1.0  -7.0\n 5.0   -6.0   6.0  -7.0   3.0\n 3.0    8.0  -1.0  -5.0  -5.0\n 9.0    6.0   0.0   3.0  -5.0</pre>"
                   },
                   "type": "node"
                  }
                 ],
                 "instanceArgs": {
                  "namespace": "html",
                  "tag": "div"
                 },
                 "nodeType": "DOM",
                 "props": {
                  "style": {
                   "align-items": "center",
                   "display": "flex",
                   "flex-direction": "row"
                  }
                 },
                 "type": "node"
                }
               ],
               "instanceArgs": {
                "namespace": "html",
                "tag": "div"
               },
               "nodeType": "DOM",
               "props": {
                "style": {
                 "align-items": "center",
                 "display": "flex",
                 "flex-direction": "column"
                }
               },
               "type": "node"
              }
             ],
             "instanceArgs": {
              "namespace": "html",
              "tag": "div"
             },
             "nodeType": "DOM",
             "props": {
              "className": "interact-flex-row interact-widget"
             },
             "type": "node"
            }
           }
          },
          "systemjs_options": null
         },
         "nodeType": "Scope",
         "props": {},
         "type": "node"
        }
       ],
       "instanceArgs": {
        "namespace": "html",
        "tag": "div"
       },
       "nodeType": "DOM",
       "props": {},
       "type": "node"
      },
      "text/html": [
       "<div\n",
       "    class=\"webio-mountpoint\"\n",
       "    data-webio-mountpoint=\"14087876513095321384\"\n",
       ">\n",
       "    <script>\n",
       "    (function(){\n",
       "    // Some integrations (namely, IJulia/Jupyter) use an alternate render pathway than\n",
       "    // just putting the html on the page. If WebIO isn't defined, then it's pretty likely\n",
       "    // that we're in one of those situations and the integration just isn't installed\n",
       "    // correctly.\n",
       "    if (typeof window.WebIO === \"undefined\") {\n",
       "        document\n",
       "            .querySelector('[data-webio-mountpoint=\"14087876513095321384\"]')\n",
       "            .innerHTML = (\n",
       "                '<div style=\"padding: 1em; background-color: #f8d6da; border: 1px solid #f5c6cb; font-weight: bold;\">' +\n",
       "                '<p><strong>WebIO not detected.</strong></p>' +\n",
       "                '<p>Please read ' +\n",
       "                '<a href=\"https://juliagizmos.github.io/WebIO.jl/latest/troubleshooting/not-detected/\" target=\"_blank\">the troubleshooting guide</a> ' +\n",
       "                'for more information on how to resolve this issue.</p>' +\n",
       "                '<p><a href=\"https://juliagizmos.github.io/WebIO.jl/latest/troubleshooting/not-detected/\" target=\"_blank\">https://juliagizmos.github.io/WebIO.jl/latest/troubleshooting/not-detected/</a></p>' +\n",
       "                '</div>'\n",
       "            );\n",
       "        return;\n",
       "    }\n",
       "    WebIO.mount(\n",
       "        document.querySelector('[data-webio-mountpoint=\"14087876513095321384\"]'),\n",
       "        {\"props\":{},\"nodeType\":\"DOM\",\"type\":\"node\",\"instanceArgs\":{\"namespace\":\"html\",\"tag\":\"div\"},\"children\":[{\"props\":{\"className\":\"field interact-widget\"},\"nodeType\":\"DOM\",\"type\":\"node\",\"instanceArgs\":{\"namespace\":\"html\",\"tag\":\"div\"},\"children\":[{\"props\":{},\"nodeType\":\"Scope\",\"type\":\"node\",\"instanceArgs\":{\"imports\":{\"data\":[{\"name\":\"knockout\",\"type\":\"js\",\"url\":\"\\/assetserver\\/fd07f05e6f0e773c7ed9fa68e01084e25cfd3f7d-knockout.js\"},{\"name\":\"knockout_punches\",\"type\":\"js\",\"url\":\"\\/assetserver\\/fdfc8cc31c1ce53af7d64368e908ef5535b56da7-knockout_punches.js\"},{\"name\":null,\"type\":\"js\",\"url\":\"\\/assetserver\\/61f613675da75f539731913573998184b30434d8-all.js\"},{\"name\":null,\"type\":\"css\",\"url\":\"\\/assetserver\\/58abda19fb319e300ad7b22e44bebba074b4bb4d-style.css\"},{\"name\":null,\"type\":\"css\",\"url\":\"\\/assetserver\\/624890bd43acdf6da9d12dfb47a1c50d9dc9f836-bulma_confined.min.css\"}],\"type\":\"async_block\"},\"id\":\"17156619437491128073\",\"handlers\":{\"changes\":[\"(function (val){return (val!=this.model[\\\"changes\\\"]()) ? (this.valueFromJulia[\\\"changes\\\"]=true, this.model[\\\"changes\\\"](val)) : undefined})\"],\"index\":[\"(function (val){return (val!=this.model[\\\"index\\\"]()) ? (this.valueFromJulia[\\\"index\\\"]=true, this.model[\\\"index\\\"](val)) : undefined})\"]},\"systemjs_options\":null,\"mount_callbacks\":[\"function () {\\n    var handler = (function (ko, koPunches) {\\n    ko.punches.enableAll();\\n    ko.bindingHandlers.numericValue = {\\n        init: function(element, valueAccessor, allBindings, data, context) {\\n            var stringified = ko.observable(ko.unwrap(valueAccessor()));\\n            stringified.subscribe(function(value) {\\n                var val = parseFloat(value);\\n                if (!isNaN(val)) {\\n                    valueAccessor()(val);\\n                }\\n            });\\n            valueAccessor().subscribe(function(value) {\\n                var str = JSON.stringify(value);\\n                if ((str == \\\"0\\\") && ([\\\"-0\\\", \\\"-0.\\\"].indexOf(stringified()) >= 0))\\n                     return;\\n                 if ([\\\"null\\\", \\\"\\\"].indexOf(str) >= 0)\\n                     return;\\n                stringified(str);\\n            });\\n            ko.applyBindingsToNode(\\n                element,\\n                {\\n                    value: stringified,\\n                    valueUpdate: allBindings.get('valueUpdate'),\\n                },\\n                context,\\n            );\\n        }\\n    };\\n    var json_data = {\\\"formatted_vals\\\":[\\\"1\\\",\\\"2\\\",\\\"3\\\",\\\"4\\\",\\\"5\\\",\\\"6\\\",\\\"7\\\",\\\"8\\\",\\\"9\\\",\\\"10\\\"],\\\"changes\\\":WebIO.getval({\\\"name\\\":\\\"changes\\\",\\\"scope\\\":\\\"17156619437491128073\\\",\\\"id\\\":\\\"10260605759707866324\\\",\\\"type\\\":\\\"observable\\\"}),\\\"index\\\":WebIO.getval({\\\"name\\\":\\\"index\\\",\\\"scope\\\":\\\"17156619437491128073\\\",\\\"id\\\":\\\"6862635913674415348\\\",\\\"type\\\":\\\"observable\\\"})};\\n    var self = this;\\n    function AppViewModel() {\\n        for (var key in json_data) {\\n            var el = json_data[key];\\n            this[key] = Array.isArray(el) ? ko.observableArray(el) : ko.observable(el);\\n        }\\n        \\n        [this[\\\"formatted_val\\\"]=ko.computed(    function(){\\n        return this.formatted_vals()[parseInt(this.index())-(1)];\\n    }\\n,this)]\\n        [this[\\\"changes\\\"].subscribe((function (val){!(this.valueFromJulia[\\\"changes\\\"]) ? (WebIO.setval({\\\"name\\\":\\\"changes\\\",\\\"scope\\\":\\\"17156619437491128073\\\",\\\"id\\\":\\\"10260605759707866324\\\",\\\"type\\\":\\\"observable\\\"},val)) : undefined; return this.valueFromJulia[\\\"changes\\\"]=false}),self),this[\\\"index\\\"].subscribe((function (val){!(this.valueFromJulia[\\\"index\\\"]) ? (WebIO.setval({\\\"name\\\":\\\"index\\\",\\\"scope\\\":\\\"17156619437491128073\\\",\\\"id\\\":\\\"6862635913674415348\\\",\\\"type\\\":\\\"observable\\\"},val)) : undefined; return this.valueFromJulia[\\\"index\\\"]=false}),self)]\\n        \\n    }\\n    self.model = new AppViewModel();\\n    self.valueFromJulia = {};\\n    for (var key in json_data) {\\n        self.valueFromJulia[key] = false;\\n    }\\n    ko.applyBindings(self.model, self.dom);\\n}\\n);\\n    (WebIO.importBlock({\\\"data\\\":[{\\\"name\\\":\\\"knockout\\\",\\\"type\\\":\\\"js\\\",\\\"url\\\":\\\"\\/assetserver\\/fd07f05e6f0e773c7ed9fa68e01084e25cfd3f7d-knockout.js\\\"},{\\\"name\\\":\\\"knockout_punches\\\",\\\"type\\\":\\\"js\\\",\\\"url\\\":\\\"\\/assetserver\\/fdfc8cc31c1ce53af7d64368e908ef5535b56da7-knockout_punches.js\\\"}],\\\"type\\\":\\\"async_block\\\"})).then((imports) => handler.apply(this, imports));\\n}\\n\"],\"observables\":{\"changes\":{\"sync\":false,\"id\":\"10260605759707866324\",\"value\":0},\"index\":{\"sync\":true,\"id\":\"6862635913674415348\",\"value\":1}}},\"children\":[{\"props\":{\"className\":\"interact-flex-row interact-widget\"},\"nodeType\":\"DOM\",\"type\":\"node\",\"instanceArgs\":{\"namespace\":\"html\",\"tag\":\"div\"},\"children\":[{\"props\":{\"className\":\"interact-flex-row-left\"},\"nodeType\":\"DOM\",\"type\":\"node\",\"instanceArgs\":{\"namespace\":\"html\",\"tag\":\"div\"},\"children\":[{\"props\":{\"className\":\"interact \",\"style\":{\"padding\":\"5px 10px 0px 10px\"}},\"nodeType\":\"DOM\",\"type\":\"node\",\"instanceArgs\":{\"namespace\":\"html\",\"tag\":\"label\"},\"children\":[\"gauss step\"]}]},{\"props\":{\"className\":\"interact-flex-row-center\"},\"nodeType\":\"DOM\",\"type\":\"node\",\"instanceArgs\":{\"namespace\":\"html\",\"tag\":\"div\"},\"children\":[{\"props\":{\"max\":10,\"min\":1,\"attributes\":{\"type\":\"range\",\"data-bind\":\"numericValue: index, valueUpdate: 'input', event: {change: function (){this.changes(this.changes()+1)}}\",\"orient\":\"horizontal\"},\"step\":1,\"className\":\"slider slider is-fullwidth\",\"style\":{}},\"nodeType\":\"DOM\",\"type\":\"node\",\"instanceArgs\":{\"namespace\":\"html\",\"tag\":\"input\"},\"children\":[]}]},{\"props\":{\"className\":\"interact-flex-row-right\"},\"nodeType\":\"DOM\",\"type\":\"node\",\"instanceArgs\":{\"namespace\":\"html\",\"tag\":\"div\"},\"children\":[{\"props\":{\"attributes\":{\"data-bind\":\"text: formatted_val\"}},\"nodeType\":\"DOM\",\"type\":\"node\",\"instanceArgs\":{\"namespace\":\"html\",\"tag\":\"p\"},\"children\":[]}]}]}]}]},{\"props\":{},\"nodeType\":\"Scope\",\"type\":\"node\",\"instanceArgs\":{\"imports\":{\"data\":[],\"type\":\"async_block\"},\"id\":\"162468234927620175\",\"handlers\":{},\"systemjs_options\":null,\"mount_callbacks\":[],\"observables\":{\"obs-node\":{\"sync\":false,\"id\":\"14418955533818971848\",\"value\":{\"props\":{\"className\":\"interact-flex-row interact-widget\"},\"nodeType\":\"DOM\",\"type\":\"node\",\"instanceArgs\":{\"namespace\":\"html\",\"tag\":\"div\"},\"children\":[{\"props\":{\"style\":{\"align-items\":\"center\",\"display\":\"flex\",\"flex-direction\":\"column\"}},\"nodeType\":\"DOM\",\"type\":\"node\",\"instanceArgs\":{\"namespace\":\"html\",\"tag\":\"div\"},\"children\":[{\"props\":{},\"nodeType\":\"DOM\",\"type\":\"node\",\"instanceArgs\":{\"namespace\":\"html\",\"tag\":\"pre\"},\"children\":[\"Gaussian elimination for column 1 with pivot 5.0: add -1.0 * (row 1) to (row 2)\"]},{\"props\":{\"style\":{\"align-items\":\"center\",\"display\":\"flex\",\"flex-direction\":\"row\"}},\"nodeType\":\"DOM\",\"type\":\"node\",\"instanceArgs\":{\"namespace\":\"html\",\"tag\":\"div\"},\"children\":[{\"props\":{\"setInnerHtml\":\"<pre>5×5 Matrix{Int64}:\\n 5   4   3  -7   0\\n 5  -6   7  -6  -7\\n 5  -6   6  -7   3\\n 3   8  -1  -5  -5\\n 9   6   0   3  -5<\\/pre>\"},\"nodeType\":\"DOM\",\"type\":\"node\",\"instanceArgs\":{\"namespace\":\"html\",\"tag\":\"div\"},\"children\":[]},{\"props\":{\"style\":{\"height\":\"0.0px\",\"width\":\"1.0em\"}},\"nodeType\":\"DOM\",\"type\":\"node\",\"instanceArgs\":{\"namespace\":\"html\",\"tag\":\"div\"},\"children\":[]},\"⟶\",{\"props\":{\"style\":{\"height\":\"0.0px\",\"width\":\"1.0em\"}},\"nodeType\":\"DOM\",\"type\":\"node\",\"instanceArgs\":{\"namespace\":\"html\",\"tag\":\"div\"},\"children\":[]},{\"props\":{\"setInnerHtml\":\"<pre>5×5 Matrix{Float64}:\\n 5.0    4.0   3.0  -7.0   0.0\\n 0.0  -10.0   4.0   1.0  -7.0\\n 5.0   -6.0   6.0  -7.0   3.0\\n 3.0    8.0  -1.0  -5.0  -5.0\\n 9.0    6.0   0.0   3.0  -5.0<\\/pre>\"},\"nodeType\":\"DOM\",\"type\":\"node\",\"instanceArgs\":{\"namespace\":\"html\",\"tag\":\"div\"},\"children\":[]}]}]}]}}}},\"children\":[{\"props\":{},\"nodeType\":\"ObservableNode\",\"type\":\"node\",\"instanceArgs\":{\"id\":\"14418955533818971848\",\"name\":\"obs-node\"},\"children\":[]}]}]},\n",
       "        window,\n",
       "    );\n",
       "    })()\n",
       "    </script>\n",
       "</div>\n"
      ],
      "text/plain": [
       "Node{WebIO.DOM}(WebIO.DOM(:html, :div), Any[Node{WebIO.DOM}(WebIO.DOM(:html, :div), Any[Scope(Node{WebIO.DOM}(WebIO.DOM(:html, :div), Any[Node{WebIO.DOM}(WebIO.DOM(:html, :div), Any[Node{WebIO.DOM}(WebIO.DOM(:html, :label), Any[\"gauss step\"], Dict{Symbol, Any}(:className => \"interact \", :style => Dict{Any, Any}(:padding => \"5px 10px 0px 10px\")))], Dict{Symbol, Any}(:className => \"interact-flex-row-left\")), Node{WebIO.DOM}(WebIO.DOM(:html, :div), Any[Node{WebIO.DOM}(WebIO.DOM(:html, :input), Any[], Dict{Symbol, Any}(:max => 10, :min => 1, :attributes => Dict{Any, Any}(:type => \"range\", Symbol(\"data-bind\") => \"numericValue: index, valueUpdate: 'input', event: {change: function (){this.changes(this.changes()+1)}}\", \"orient\" => \"horizontal\"), :step => 1, :className => \"slider slider is-fullwidth\", :style => Dict{Any, Any}()))], Dict{Symbol, Any}(:className => \"interact-flex-row-center\")), Node{WebIO.DOM}(WebIO.DOM(:html, :div), Any[Node{WebIO.DOM}(WebIO.DOM(:html, :p), Any[], Dict{Symbol, Any}(:attributes => Dict(\"data-bind\" => \"text: formatted_val\")))], Dict{Symbol, Any}(:className => \"interact-flex-row-right\"))], Dict{Symbol, Any}(:className => \"interact-flex-row interact-widget\")), Dict{String, Tuple{Observables.AbstractObservable, Union{Nothing, Bool}}}(\"changes\" => (Observable{Int64} with 1 listeners. Value:\n",
       "0, nothing), \"index\" => (Observable{Int64} with 2 listeners. Value:\n",
       "1, nothing)), Set{String}(), nothing, Asset[Asset(\"js\", \"knockout\", \"/Users/stevenj/.julia/packages/Knockout/3gjS1/src/../assets/knockout.js\"), Asset(\"js\", \"knockout_punches\", \"/Users/stevenj/.julia/packages/Knockout/3gjS1/src/../assets/knockout_punches.js\"), Asset(\"js\", nothing, \"/Users/stevenj/.julia/packages/InteractBase/o1I6G/src/../assets/all.js\"), Asset(\"css\", nothing, \"/Users/stevenj/.julia/packages/InteractBase/o1I6G/src/../assets/style.css\"), Asset(\"css\", nothing, \"/Users/stevenj/.julia/packages/Interact/pVyN2/src/../assets/bulma_confined.min.css\")], Dict{Any, Any}(\"changes\" => Any[WebIO.JSString(\"(function (val){return (val!=this.model[\\\"changes\\\"]()) ? (this.valueFromJulia[\\\"changes\\\"]=true, this.model[\\\"changes\\\"](val)) : undefined})\")], \"index\" => Any[WebIO.JSString(\"(function (val){return (val!=this.model[\\\"index\\\"]()) ? (this.valueFromJulia[\\\"index\\\"]=true, this.model[\\\"index\\\"](val)) : undefined})\")]), WebIO.ConnectionPool(Channel{Any}(32), Set{AbstractConnection}(), Condition(Base.InvasiveLinkedList{Task}(Task (runnable) @0x00000001133cab60, Task (runnable) @0x00000001133cab60), Base.AlwaysLockedST(1))), WebIO.JSString[WebIO.JSString(\"function () {\\n    var handler = (function (ko, koPunches) {\\n    ko.punches.enableAll();\\n    ko.bindingHandlers.numericValue = {\\n        init: function(element, valueAccessor, allBindings, data, context) {\\n            var stringified = ko.observable(ko.unwrap(valueAccessor()));\\n            stringified.subscribe(function(value) {\\n                var val = parseFloat(value);\\n                if (!isNaN(val)) {\\n                    valueAccessor()(val);\\n                }\\n            });\\n            valueAccessor().subscribe(function(value) {\\n                var str = JSON.stringify(value);\\n                if ((str == \\\"0\\\") && ([\\\"-0\\\", \\\"-0.\\\"].indexOf(stringified()) >= 0))\\n                     return;\\n                 if ([\\\"null\\\", \\\"\\\"].indexOf(str) >= 0)\\n                     return;\\n                stringified(str);\\n            });\\n            ko.applyBindingsToNode(\\n                element,\\n                {\\n                    value: stringified,\\n                    valueUpdate: allBindings.get('valueUpdate'),\\n                },\\n                context,\\n            );\\n        }\\n    };\\n    var json_data = {\\\"formatted_vals\\\":[\\\"1\\\",\\\"2\\\",\\\"3\\\",\\\"4\\\",\\\"5\\\",\\\"6\\\",\\\"7\\\",\\\"8\\\",\\\"9\\\",\\\"10\\\"],\\\"changes\\\":WebIO.getval({\\\"name\\\":\\\"changes\\\",\\\"scope\\\":\\\"17156619437491128073\\\",\\\"id\\\":\\\"10260605759707866324\\\",\\\"type\\\":\\\"observable\\\"}),\\\"index\\\":WebIO.getval({\\\"name\\\":\\\"index\\\",\\\"scope\\\":\\\"17156619437491128073\\\",\\\"id\\\":\\\"6862635913674415348\\\",\\\"type\\\":\\\"observable\\\"})};\\n    var self = this;\\n    function AppViewModel() {\\n        for (var key in json_data) {\\n            var el = json_data[key];\\n            this[key] = Array.isArray(el) ? ko.observableArray(el) : ko.observable(el);\\n        }\\n        \\n        [this[\\\"formatted_val\\\"]=ko.computed(    function(){\\n        return this.formatted_vals()[parseInt(this.index())-(1)];\\n    }\\n,this)]\\n        [this[\\\"changes\\\"].subscribe((function (val){!(this.valueFromJulia[\\\"changes\\\"]) ? (WebIO.setval({\\\"name\\\":\\\"changes\\\",\\\"scope\\\":\\\"17156619437491128073\\\",\\\"id\\\":\\\"10260605759707866324\\\",\\\"type\\\":\\\"observable\\\"},val)) : undefined; return this.valueFromJulia[\\\"changes\\\"]=false}),self),this[\\\"index\\\"].subscribe((function (val){!(this.valueFromJulia[\\\"index\\\"]) ? (WebIO.setval({\\\"name\\\":\\\"index\\\",\\\"scope\\\":\\\"17156619437491128073\\\",\\\"id\\\":\\\"6862635913674415348\\\",\\\"type\\\":\\\"observable\\\"},val)) : undefined; return this.valueFromJulia[\\\"index\\\"]=false}),self)]\\n        \\n    }\\n    self.model = new AppViewModel();\\n    self.valueFromJulia = {};\\n    for (var key in json_data) {\\n        self.valueFromJulia[key] = false;\\n    }\\n    ko.applyBindings(self.model, self.dom);\\n}\\n);\\n    (WebIO.importBlock({\\\"data\\\":[{\\\"name\\\":\\\"knockout\\\",\\\"type\\\":\\\"js\\\",\\\"url\\\":\\\"/assetserver/fd07f05e6f0e773c7ed9fa68e01084e25cfd3f7d-knockout.js\\\"},{\\\"name\\\":\\\"knockout_punches\\\",\\\"type\\\":\\\"js\\\",\\\"url\\\":\\\"/assetserver/fdfc8cc31c1ce53af7d64368e908ef5535b56da7-knockout_punches.js\\\"}],\\\"type\\\":\\\"async_block\\\"})).then((imports) => handler.apply(this, imports));\\n}\\n\")])], Dict{Symbol, Any}(:className => \"field interact-widget\")), Observable{Node{WebIO.DOM}} with 0 listeners. Value:\n",
       "Node{WebIO.DOM}(WebIO.DOM(:html, :div), Any[Node{WebIO.DOM}(WebIO.DOM(:html, :div), Any[Node{WebIO.DOM}(WebIO.DOM(:html, :pre), Any[\"Gaussian elimination for column 1 with pivot 5.0: add -1.0 * (row 1) to (row 2)\"], Dict{Symbol, Any}()), Node{WebIO.DOM}(WebIO.DOM(:html, :div), Any[[5 4 … -7 0; 5 -6 … -6 -7; … ; 3 8 … -5 -5; 9 6 … 3 -5], Node{WebIO.DOM}(WebIO.DOM(:html, :div), Any[], Dict{Symbol, Any}(:style => Dict{String, Measures.Length{U, Float64} where U}(\"height\" => 0.0px, \"width\" => 1.0em))), \"⟶\", Node{WebIO.DOM}(WebIO.DOM(:html, :div), Any[], Dict{Symbol, Any}(:style => Dict{String, Measures.Length{U, Float64} where U}(\"height\" => 0.0px, \"width\" => 1.0em))), [5.0 4.0 … -7.0 0.0; 0.0 -10.0 … 1.0 -7.0; … ; 3.0 8.0 … -5.0 -5.0; 9.0 6.0 … 3.0 -5.0]], Dict{Symbol, Any}(:style => Dict{Any, Any}(\"align-items\" => :center, \"display\" => \"flex\", \"flex-direction\" => \"row\")))], Dict{Symbol, Any}(:style => Dict{Any, Any}(\"align-items\" => :center, \"display\" => \"flex\", \"flex-direction\" => \"column\")))], Dict{Symbol, Any}(:className => \"interact-flex-row interact-widget\"))], Dict{Symbol, Any}())"
      ]
     },
     "execution_count": 15,
     "metadata": {
      "application/vnd.webio.node+json": {
       "kernelId": "9b2c9a66-30c0-402b-982a-eb5446d43477"
      }
     },
     "output_type": "execute_result"
    }
   ],
   "source": [
    "visualize_gauss(rand(-9:9,5,5))"
   ]
  },
  {
   "cell_type": "markdown",
   "metadata": {},
   "source": [
    "Of course, because we are not re-ordering the rows, this process can go horribly wrong, most obviously if a zero pivot is encountered:"
   ]
  },
  {
   "cell_type": "code",
   "execution_count": 16,
   "metadata": {},
   "outputs": [
    {
     "data": {
      "application/vnd.webio.node+json": {
       "children": [
        {
         "children": [
          {
           "children": [
            {
             "children": [
              {
               "children": [
                {
                 "children": [
                  "gauss step"
                 ],
                 "instanceArgs": {
                  "namespace": "html",
                  "tag": "label"
                 },
                 "nodeType": "DOM",
                 "props": {
                  "className": "interact ",
                  "style": {
                   "padding": "5px 10px 0px 10px"
                  }
                 },
                 "type": "node"
                }
               ],
               "instanceArgs": {
                "namespace": "html",
                "tag": "div"
               },
               "nodeType": "DOM",
               "props": {
                "className": "interact-flex-row-left"
               },
               "type": "node"
              },
              {
               "children": [
                {
                 "children": [],
                 "instanceArgs": {
                  "namespace": "html",
                  "tag": "input"
                 },
                 "nodeType": "DOM",
                 "props": {
                  "attributes": {
                   "data-bind": "numericValue: index, valueUpdate: 'input', event: {change: function (){this.changes(this.changes()+1)}}",
                   "orient": "horizontal",
                   "type": "range"
                  },
                  "className": "slider slider is-fullwidth",
                  "max": 10,
                  "min": 1,
                  "step": 1,
                  "style": {}
                 },
                 "type": "node"
                }
               ],
               "instanceArgs": {
                "namespace": "html",
                "tag": "div"
               },
               "nodeType": "DOM",
               "props": {
                "className": "interact-flex-row-center"
               },
               "type": "node"
              },
              {
               "children": [
                {
                 "children": [],
                 "instanceArgs": {
                  "namespace": "html",
                  "tag": "p"
                 },
                 "nodeType": "DOM",
                 "props": {
                  "attributes": {
                   "data-bind": "text: formatted_val"
                  }
                 },
                 "type": "node"
                }
               ],
               "instanceArgs": {
                "namespace": "html",
                "tag": "div"
               },
               "nodeType": "DOM",
               "props": {
                "className": "interact-flex-row-right"
               },
               "type": "node"
              }
             ],
             "instanceArgs": {
              "namespace": "html",
              "tag": "div"
             },
             "nodeType": "DOM",
             "props": {
              "className": "interact-flex-row interact-widget"
             },
             "type": "node"
            }
           ],
           "instanceArgs": {
            "handlers": {
             "changes": [
              "(function (val){return (val!=this.model[\"changes\"]()) ? (this.valueFromJulia[\"changes\"]=true, this.model[\"changes\"](val)) : undefined})"
             ],
             "index": [
              "(function (val){return (val!=this.model[\"index\"]()) ? (this.valueFromJulia[\"index\"]=true, this.model[\"index\"](val)) : undefined})"
             ]
            },
            "id": "13690523687701041477",
            "imports": {
             "data": [
              {
               "name": "knockout",
               "type": "js",
               "url": "/assetserver/fd07f05e6f0e773c7ed9fa68e01084e25cfd3f7d-knockout.js"
              },
              {
               "name": "knockout_punches",
               "type": "js",
               "url": "/assetserver/fdfc8cc31c1ce53af7d64368e908ef5535b56da7-knockout_punches.js"
              },
              {
               "name": null,
               "type": "js",
               "url": "/assetserver/61f613675da75f539731913573998184b30434d8-all.js"
              },
              {
               "name": null,
               "type": "css",
               "url": "/assetserver/58abda19fb319e300ad7b22e44bebba074b4bb4d-style.css"
              },
              {
               "name": null,
               "type": "css",
               "url": "/assetserver/624890bd43acdf6da9d12dfb47a1c50d9dc9f836-bulma_confined.min.css"
              }
             ],
             "type": "async_block"
            },
            "mount_callbacks": [
             "function () {\n    var handler = (function (ko, koPunches) {\n    ko.punches.enableAll();\n    ko.bindingHandlers.numericValue = {\n        init: function(element, valueAccessor, allBindings, data, context) {\n            var stringified = ko.observable(ko.unwrap(valueAccessor()));\n            stringified.subscribe(function(value) {\n                var val = parseFloat(value);\n                if (!isNaN(val)) {\n                    valueAccessor()(val);\n                }\n            });\n            valueAccessor().subscribe(function(value) {\n                var str = JSON.stringify(value);\n                if ((str == \"0\") && ([\"-0\", \"-0.\"].indexOf(stringified()) >= 0))\n                     return;\n                 if ([\"null\", \"\"].indexOf(str) >= 0)\n                     return;\n                stringified(str);\n            });\n            ko.applyBindingsToNode(\n                element,\n                {\n                    value: stringified,\n                    valueUpdate: allBindings.get('valueUpdate'),\n                },\n                context,\n            );\n        }\n    };\n    var json_data = {\"formatted_vals\":[\"1\",\"2\",\"3\",\"4\",\"5\",\"6\",\"7\",\"8\",\"9\",\"10\"],\"changes\":WebIO.getval({\"name\":\"changes\",\"scope\":\"13690523687701041477\",\"id\":\"15309081493367293208\",\"type\":\"observable\"}),\"index\":WebIO.getval({\"name\":\"index\",\"scope\":\"13690523687701041477\",\"id\":\"12763089305769847317\",\"type\":\"observable\"})};\n    var self = this;\n    function AppViewModel() {\n        for (var key in json_data) {\n            var el = json_data[key];\n            this[key] = Array.isArray(el) ? ko.observableArray(el) : ko.observable(el);\n        }\n        \n        [this[\"formatted_val\"]=ko.computed(    function(){\n        return this.formatted_vals()[parseInt(this.index())-(1)];\n    }\n,this)]\n        [this[\"changes\"].subscribe((function (val){!(this.valueFromJulia[\"changes\"]) ? (WebIO.setval({\"name\":\"changes\",\"scope\":\"13690523687701041477\",\"id\":\"15309081493367293208\",\"type\":\"observable\"},val)) : undefined; return this.valueFromJulia[\"changes\"]=false}),self),this[\"index\"].subscribe((function (val){!(this.valueFromJulia[\"index\"]) ? (WebIO.setval({\"name\":\"index\",\"scope\":\"13690523687701041477\",\"id\":\"12763089305769847317\",\"type\":\"observable\"},val)) : undefined; return this.valueFromJulia[\"index\"]=false}),self)]\n        \n    }\n    self.model = new AppViewModel();\n    self.valueFromJulia = {};\n    for (var key in json_data) {\n        self.valueFromJulia[key] = false;\n    }\n    ko.applyBindings(self.model, self.dom);\n}\n);\n    (WebIO.importBlock({\"data\":[{\"name\":\"knockout\",\"type\":\"js\",\"url\":\"/assetserver/fd07f05e6f0e773c7ed9fa68e01084e25cfd3f7d-knockout.js\"},{\"name\":\"knockout_punches\",\"type\":\"js\",\"url\":\"/assetserver/fdfc8cc31c1ce53af7d64368e908ef5535b56da7-knockout_punches.js\"}],\"type\":\"async_block\"})).then((imports) => handler.apply(this, imports));\n}\n"
            ],
            "observables": {
             "changes": {
              "id": "15309081493367293208",
              "sync": false,
              "value": 0
             },
             "index": {
              "id": "12763089305769847317",
              "sync": true,
              "value": 1
             }
            },
            "systemjs_options": null
           },
           "nodeType": "Scope",
           "props": {},
           "type": "node"
          }
         ],
         "instanceArgs": {
          "namespace": "html",
          "tag": "div"
         },
         "nodeType": "DOM",
         "props": {
          "className": "field interact-widget"
         },
         "type": "node"
        },
        {
         "children": [
          {
           "children": [],
           "instanceArgs": {
            "id": "1131264837640146792",
            "name": "obs-node"
           },
           "nodeType": "ObservableNode",
           "props": {},
           "type": "node"
          }
         ],
         "instanceArgs": {
          "handlers": {},
          "id": "13872133107122608605",
          "imports": {
           "data": [],
           "type": "async_block"
          },
          "mount_callbacks": [],
          "observables": {
           "obs-node": {
            "id": "1131264837640146792",
            "sync": false,
            "value": {
             "children": [
              {
               "children": [
                {
                 "children": [
                  "Gaussian elimination for column 1 with pivot -3.0: add 1.0 * (row 1) to (row 2)"
                 ],
                 "instanceArgs": {
                  "namespace": "html",
                  "tag": "pre"
                 },
                 "nodeType": "DOM",
                 "props": {},
                 "type": "node"
                },
                {
                 "children": [
                  {
                   "children": [],
                   "instanceArgs": {
                    "namespace": "html",
                    "tag": "div"
                   },
                   "nodeType": "DOM",
                   "props": {
                    "setInnerHtml": "<pre>5×5 Matrix{Int64}:\n -3   5   5   3  -7\n  3  -5   8  -8  -6\n  8   2   8   2  -8\n -6  -2   6   4  -8\n -8   4  -6  -1   8</pre>"
                   },
                   "type": "node"
                  },
                  {
                   "children": [],
                   "instanceArgs": {
                    "namespace": "html",
                    "tag": "div"
                   },
                   "nodeType": "DOM",
                   "props": {
                    "style": {
                     "height": "0.0px",
                     "width": "1.0em"
                    }
                   },
                   "type": "node"
                  },
                  "⟶",
                  {
                   "children": [],
                   "instanceArgs": {
                    "namespace": "html",
                    "tag": "div"
                   },
                   "nodeType": "DOM",
                   "props": {
                    "style": {
                     "height": "0.0px",
                     "width": "1.0em"
                    }
                   },
                   "type": "node"
                  },
                  {
                   "children": [],
                   "instanceArgs": {
                    "namespace": "html",
                    "tag": "div"
                   },
                   "nodeType": "DOM",
                   "props": {
                    "setInnerHtml": "<pre>5×5 Matrix{Float64}:\n -3.0   5.0   5.0   3.0   -7.0\n  0.0   0.0  13.0  -5.0  -13.0\n  8.0   2.0   8.0   2.0   -8.0\n -6.0  -2.0   6.0   4.0   -8.0\n -8.0   4.0  -6.0  -1.0    8.0</pre>"
                   },
                   "type": "node"
                  }
                 ],
                 "instanceArgs": {
                  "namespace": "html",
                  "tag": "div"
                 },
                 "nodeType": "DOM",
                 "props": {
                  "style": {
                   "align-items": "center",
                   "display": "flex",
                   "flex-direction": "row"
                  }
                 },
                 "type": "node"
                }
               ],
               "instanceArgs": {
                "namespace": "html",
                "tag": "div"
               },
               "nodeType": "DOM",
               "props": {
                "style": {
                 "align-items": "center",
                 "display": "flex",
                 "flex-direction": "column"
                }
               },
               "type": "node"
              }
             ],
             "instanceArgs": {
              "namespace": "html",
              "tag": "div"
             },
             "nodeType": "DOM",
             "props": {
              "className": "interact-flex-row interact-widget"
             },
             "type": "node"
            }
           }
          },
          "systemjs_options": null
         },
         "nodeType": "Scope",
         "props": {},
         "type": "node"
        }
       ],
       "instanceArgs": {
        "namespace": "html",
        "tag": "div"
       },
       "nodeType": "DOM",
       "props": {},
       "type": "node"
      },
      "text/html": [
       "<div\n",
       "    class=\"webio-mountpoint\"\n",
       "    data-webio-mountpoint=\"2306382757521748923\"\n",
       ">\n",
       "    <script>\n",
       "    (function(){\n",
       "    // Some integrations (namely, IJulia/Jupyter) use an alternate render pathway than\n",
       "    // just putting the html on the page. If WebIO isn't defined, then it's pretty likely\n",
       "    // that we're in one of those situations and the integration just isn't installed\n",
       "    // correctly.\n",
       "    if (typeof window.WebIO === \"undefined\") {\n",
       "        document\n",
       "            .querySelector('[data-webio-mountpoint=\"2306382757521748923\"]')\n",
       "            .innerHTML = (\n",
       "                '<div style=\"padding: 1em; background-color: #f8d6da; border: 1px solid #f5c6cb; font-weight: bold;\">' +\n",
       "                '<p><strong>WebIO not detected.</strong></p>' +\n",
       "                '<p>Please read ' +\n",
       "                '<a href=\"https://juliagizmos.github.io/WebIO.jl/latest/troubleshooting/not-detected/\" target=\"_blank\">the troubleshooting guide</a> ' +\n",
       "                'for more information on how to resolve this issue.</p>' +\n",
       "                '<p><a href=\"https://juliagizmos.github.io/WebIO.jl/latest/troubleshooting/not-detected/\" target=\"_blank\">https://juliagizmos.github.io/WebIO.jl/latest/troubleshooting/not-detected/</a></p>' +\n",
       "                '</div>'\n",
       "            );\n",
       "        return;\n",
       "    }\n",
       "    WebIO.mount(\n",
       "        document.querySelector('[data-webio-mountpoint=\"2306382757521748923\"]'),\n",
       "        {\"props\":{},\"nodeType\":\"DOM\",\"type\":\"node\",\"instanceArgs\":{\"namespace\":\"html\",\"tag\":\"div\"},\"children\":[{\"props\":{\"className\":\"field interact-widget\"},\"nodeType\":\"DOM\",\"type\":\"node\",\"instanceArgs\":{\"namespace\":\"html\",\"tag\":\"div\"},\"children\":[{\"props\":{},\"nodeType\":\"Scope\",\"type\":\"node\",\"instanceArgs\":{\"imports\":{\"data\":[{\"name\":\"knockout\",\"type\":\"js\",\"url\":\"\\/assetserver\\/fd07f05e6f0e773c7ed9fa68e01084e25cfd3f7d-knockout.js\"},{\"name\":\"knockout_punches\",\"type\":\"js\",\"url\":\"\\/assetserver\\/fdfc8cc31c1ce53af7d64368e908ef5535b56da7-knockout_punches.js\"},{\"name\":null,\"type\":\"js\",\"url\":\"\\/assetserver\\/61f613675da75f539731913573998184b30434d8-all.js\"},{\"name\":null,\"type\":\"css\",\"url\":\"\\/assetserver\\/58abda19fb319e300ad7b22e44bebba074b4bb4d-style.css\"},{\"name\":null,\"type\":\"css\",\"url\":\"\\/assetserver\\/624890bd43acdf6da9d12dfb47a1c50d9dc9f836-bulma_confined.min.css\"}],\"type\":\"async_block\"},\"id\":\"13690523687701041477\",\"handlers\":{\"changes\":[\"(function (val){return (val!=this.model[\\\"changes\\\"]()) ? (this.valueFromJulia[\\\"changes\\\"]=true, this.model[\\\"changes\\\"](val)) : undefined})\"],\"index\":[\"(function (val){return (val!=this.model[\\\"index\\\"]()) ? (this.valueFromJulia[\\\"index\\\"]=true, this.model[\\\"index\\\"](val)) : undefined})\"]},\"systemjs_options\":null,\"mount_callbacks\":[\"function () {\\n    var handler = (function (ko, koPunches) {\\n    ko.punches.enableAll();\\n    ko.bindingHandlers.numericValue = {\\n        init: function(element, valueAccessor, allBindings, data, context) {\\n            var stringified = ko.observable(ko.unwrap(valueAccessor()));\\n            stringified.subscribe(function(value) {\\n                var val = parseFloat(value);\\n                if (!isNaN(val)) {\\n                    valueAccessor()(val);\\n                }\\n            });\\n            valueAccessor().subscribe(function(value) {\\n                var str = JSON.stringify(value);\\n                if ((str == \\\"0\\\") && ([\\\"-0\\\", \\\"-0.\\\"].indexOf(stringified()) >= 0))\\n                     return;\\n                 if ([\\\"null\\\", \\\"\\\"].indexOf(str) >= 0)\\n                     return;\\n                stringified(str);\\n            });\\n            ko.applyBindingsToNode(\\n                element,\\n                {\\n                    value: stringified,\\n                    valueUpdate: allBindings.get('valueUpdate'),\\n                },\\n                context,\\n            );\\n        }\\n    };\\n    var json_data = {\\\"formatted_vals\\\":[\\\"1\\\",\\\"2\\\",\\\"3\\\",\\\"4\\\",\\\"5\\\",\\\"6\\\",\\\"7\\\",\\\"8\\\",\\\"9\\\",\\\"10\\\"],\\\"changes\\\":WebIO.getval({\\\"name\\\":\\\"changes\\\",\\\"scope\\\":\\\"13690523687701041477\\\",\\\"id\\\":\\\"15309081493367293208\\\",\\\"type\\\":\\\"observable\\\"}),\\\"index\\\":WebIO.getval({\\\"name\\\":\\\"index\\\",\\\"scope\\\":\\\"13690523687701041477\\\",\\\"id\\\":\\\"12763089305769847317\\\",\\\"type\\\":\\\"observable\\\"})};\\n    var self = this;\\n    function AppViewModel() {\\n        for (var key in json_data) {\\n            var el = json_data[key];\\n            this[key] = Array.isArray(el) ? ko.observableArray(el) : ko.observable(el);\\n        }\\n        \\n        [this[\\\"formatted_val\\\"]=ko.computed(    function(){\\n        return this.formatted_vals()[parseInt(this.index())-(1)];\\n    }\\n,this)]\\n        [this[\\\"changes\\\"].subscribe((function (val){!(this.valueFromJulia[\\\"changes\\\"]) ? (WebIO.setval({\\\"name\\\":\\\"changes\\\",\\\"scope\\\":\\\"13690523687701041477\\\",\\\"id\\\":\\\"15309081493367293208\\\",\\\"type\\\":\\\"observable\\\"},val)) : undefined; return this.valueFromJulia[\\\"changes\\\"]=false}),self),this[\\\"index\\\"].subscribe((function (val){!(this.valueFromJulia[\\\"index\\\"]) ? (WebIO.setval({\\\"name\\\":\\\"index\\\",\\\"scope\\\":\\\"13690523687701041477\\\",\\\"id\\\":\\\"12763089305769847317\\\",\\\"type\\\":\\\"observable\\\"},val)) : undefined; return this.valueFromJulia[\\\"index\\\"]=false}),self)]\\n        \\n    }\\n    self.model = new AppViewModel();\\n    self.valueFromJulia = {};\\n    for (var key in json_data) {\\n        self.valueFromJulia[key] = false;\\n    }\\n    ko.applyBindings(self.model, self.dom);\\n}\\n);\\n    (WebIO.importBlock({\\\"data\\\":[{\\\"name\\\":\\\"knockout\\\",\\\"type\\\":\\\"js\\\",\\\"url\\\":\\\"\\/assetserver\\/fd07f05e6f0e773c7ed9fa68e01084e25cfd3f7d-knockout.js\\\"},{\\\"name\\\":\\\"knockout_punches\\\",\\\"type\\\":\\\"js\\\",\\\"url\\\":\\\"\\/assetserver\\/fdfc8cc31c1ce53af7d64368e908ef5535b56da7-knockout_punches.js\\\"}],\\\"type\\\":\\\"async_block\\\"})).then((imports) => handler.apply(this, imports));\\n}\\n\"],\"observables\":{\"changes\":{\"sync\":false,\"id\":\"15309081493367293208\",\"value\":0},\"index\":{\"sync\":true,\"id\":\"12763089305769847317\",\"value\":1}}},\"children\":[{\"props\":{\"className\":\"interact-flex-row interact-widget\"},\"nodeType\":\"DOM\",\"type\":\"node\",\"instanceArgs\":{\"namespace\":\"html\",\"tag\":\"div\"},\"children\":[{\"props\":{\"className\":\"interact-flex-row-left\"},\"nodeType\":\"DOM\",\"type\":\"node\",\"instanceArgs\":{\"namespace\":\"html\",\"tag\":\"div\"},\"children\":[{\"props\":{\"className\":\"interact \",\"style\":{\"padding\":\"5px 10px 0px 10px\"}},\"nodeType\":\"DOM\",\"type\":\"node\",\"instanceArgs\":{\"namespace\":\"html\",\"tag\":\"label\"},\"children\":[\"gauss step\"]}]},{\"props\":{\"className\":\"interact-flex-row-center\"},\"nodeType\":\"DOM\",\"type\":\"node\",\"instanceArgs\":{\"namespace\":\"html\",\"tag\":\"div\"},\"children\":[{\"props\":{\"max\":10,\"min\":1,\"attributes\":{\"type\":\"range\",\"data-bind\":\"numericValue: index, valueUpdate: 'input', event: {change: function (){this.changes(this.changes()+1)}}\",\"orient\":\"horizontal\"},\"step\":1,\"className\":\"slider slider is-fullwidth\",\"style\":{}},\"nodeType\":\"DOM\",\"type\":\"node\",\"instanceArgs\":{\"namespace\":\"html\",\"tag\":\"input\"},\"children\":[]}]},{\"props\":{\"className\":\"interact-flex-row-right\"},\"nodeType\":\"DOM\",\"type\":\"node\",\"instanceArgs\":{\"namespace\":\"html\",\"tag\":\"div\"},\"children\":[{\"props\":{\"attributes\":{\"data-bind\":\"text: formatted_val\"}},\"nodeType\":\"DOM\",\"type\":\"node\",\"instanceArgs\":{\"namespace\":\"html\",\"tag\":\"p\"},\"children\":[]}]}]}]}]},{\"props\":{},\"nodeType\":\"Scope\",\"type\":\"node\",\"instanceArgs\":{\"imports\":{\"data\":[],\"type\":\"async_block\"},\"id\":\"777752717267186243\",\"handlers\":{},\"systemjs_options\":null,\"mount_callbacks\":[],\"observables\":{\"obs-node\":{\"sync\":false,\"id\":\"10711932225467415295\",\"value\":{\"props\":{\"className\":\"interact-flex-row interact-widget\"},\"nodeType\":\"DOM\",\"type\":\"node\",\"instanceArgs\":{\"namespace\":\"html\",\"tag\":\"div\"},\"children\":[{\"props\":{\"style\":{\"align-items\":\"center\",\"display\":\"flex\",\"flex-direction\":\"column\"}},\"nodeType\":\"DOM\",\"type\":\"node\",\"instanceArgs\":{\"namespace\":\"html\",\"tag\":\"div\"},\"children\":[{\"props\":{},\"nodeType\":\"DOM\",\"type\":\"node\",\"instanceArgs\":{\"namespace\":\"html\",\"tag\":\"pre\"},\"children\":[\"Gaussian elimination for column 1 with pivot -3.0: add 1.0 * (row 1) to (row 2)\"]},{\"props\":{\"style\":{\"align-items\":\"center\",\"display\":\"flex\",\"flex-direction\":\"row\"}},\"nodeType\":\"DOM\",\"type\":\"node\",\"instanceArgs\":{\"namespace\":\"html\",\"tag\":\"div\"},\"children\":[{\"props\":{\"setInnerHtml\":\"<pre>5×5 Matrix{Int64}:\\n -3   5   5   3  -7\\n  3  -5   8  -8  -6\\n  8   2   8   2  -8\\n -6  -2   6   4  -8\\n -8   4  -6  -1   8<\\/pre>\"},\"nodeType\":\"DOM\",\"type\":\"node\",\"instanceArgs\":{\"namespace\":\"html\",\"tag\":\"div\"},\"children\":[]},{\"props\":{\"style\":{\"height\":\"0.0px\",\"width\":\"1.0em\"}},\"nodeType\":\"DOM\",\"type\":\"node\",\"instanceArgs\":{\"namespace\":\"html\",\"tag\":\"div\"},\"children\":[]},\"⟶\",{\"props\":{\"style\":{\"height\":\"0.0px\",\"width\":\"1.0em\"}},\"nodeType\":\"DOM\",\"type\":\"node\",\"instanceArgs\":{\"namespace\":\"html\",\"tag\":\"div\"},\"children\":[]},{\"props\":{\"setInnerHtml\":\"<pre>5×5 Matrix{Float64}:\\n -3.0   5.0   5.0   3.0   -7.0\\n  0.0   0.0  13.0  -5.0  -13.0\\n  8.0   2.0   8.0   2.0   -8.0\\n -6.0  -2.0   6.0   4.0   -8.0\\n -8.0   4.0  -6.0  -1.0    8.0<\\/pre>\"},\"nodeType\":\"DOM\",\"type\":\"node\",\"instanceArgs\":{\"namespace\":\"html\",\"tag\":\"div\"},\"children\":[]}]}]}]}}}},\"children\":[{\"props\":{},\"nodeType\":\"ObservableNode\",\"type\":\"node\",\"instanceArgs\":{\"id\":\"10711932225467415295\",\"name\":\"obs-node\"},\"children\":[]}]}]},\n",
       "        window,\n",
       "    );\n",
       "    })()\n",
       "    </script>\n",
       "</div>\n"
      ],
      "text/plain": [
       "Node{WebIO.DOM}(WebIO.DOM(:html, :div), Any[Node{WebIO.DOM}(WebIO.DOM(:html, :div), Any[Scope(Node{WebIO.DOM}(WebIO.DOM(:html, :div), Any[Node{WebIO.DOM}(WebIO.DOM(:html, :div), Any[Node{WebIO.DOM}(WebIO.DOM(:html, :label), Any[\"gauss step\"], Dict{Symbol, Any}(:className => \"interact \", :style => Dict{Any, Any}(:padding => \"5px 10px 0px 10px\")))], Dict{Symbol, Any}(:className => \"interact-flex-row-left\")), Node{WebIO.DOM}(WebIO.DOM(:html, :div), Any[Node{WebIO.DOM}(WebIO.DOM(:html, :input), Any[], Dict{Symbol, Any}(:max => 10, :min => 1, :attributes => Dict{Any, Any}(:type => \"range\", Symbol(\"data-bind\") => \"numericValue: index, valueUpdate: 'input', event: {change: function (){this.changes(this.changes()+1)}}\", \"orient\" => \"horizontal\"), :step => 1, :className => \"slider slider is-fullwidth\", :style => Dict{Any, Any}()))], Dict{Symbol, Any}(:className => \"interact-flex-row-center\")), Node{WebIO.DOM}(WebIO.DOM(:html, :div), Any[Node{WebIO.DOM}(WebIO.DOM(:html, :p), Any[], Dict{Symbol, Any}(:attributes => Dict(\"data-bind\" => \"text: formatted_val\")))], Dict{Symbol, Any}(:className => \"interact-flex-row-right\"))], Dict{Symbol, Any}(:className => \"interact-flex-row interact-widget\")), Dict{String, Tuple{Observables.AbstractObservable, Union{Nothing, Bool}}}(\"changes\" => (Observable{Int64} with 1 listeners. Value:\n",
       "0, nothing), \"index\" => (Observable{Int64} with 2 listeners. Value:\n",
       "1, nothing)), Set{String}(), nothing, Asset[Asset(\"js\", \"knockout\", \"/Users/stevenj/.julia/packages/Knockout/3gjS1/src/../assets/knockout.js\"), Asset(\"js\", \"knockout_punches\", \"/Users/stevenj/.julia/packages/Knockout/3gjS1/src/../assets/knockout_punches.js\"), Asset(\"js\", nothing, \"/Users/stevenj/.julia/packages/InteractBase/o1I6G/src/../assets/all.js\"), Asset(\"css\", nothing, \"/Users/stevenj/.julia/packages/InteractBase/o1I6G/src/../assets/style.css\"), Asset(\"css\", nothing, \"/Users/stevenj/.julia/packages/Interact/pVyN2/src/../assets/bulma_confined.min.css\")], Dict{Any, Any}(\"changes\" => Any[WebIO.JSString(\"(function (val){return (val!=this.model[\\\"changes\\\"]()) ? (this.valueFromJulia[\\\"changes\\\"]=true, this.model[\\\"changes\\\"](val)) : undefined})\")], \"index\" => Any[WebIO.JSString(\"(function (val){return (val!=this.model[\\\"index\\\"]()) ? (this.valueFromJulia[\\\"index\\\"]=true, this.model[\\\"index\\\"](val)) : undefined})\")]), WebIO.ConnectionPool(Channel{Any}(32), Set{AbstractConnection}(), Condition(Base.InvasiveLinkedList{Task}(Task (runnable) @0x00000001135e57b0, Task (runnable) @0x00000001135e57b0), Base.AlwaysLockedST(1))), WebIO.JSString[WebIO.JSString(\"function () {\\n    var handler = (function (ko, koPunches) {\\n    ko.punches.enableAll();\\n    ko.bindingHandlers.numericValue = {\\n        init: function(element, valueAccessor, allBindings, data, context) {\\n            var stringified = ko.observable(ko.unwrap(valueAccessor()));\\n            stringified.subscribe(function(value) {\\n                var val = parseFloat(value);\\n                if (!isNaN(val)) {\\n                    valueAccessor()(val);\\n                }\\n            });\\n            valueAccessor().subscribe(function(value) {\\n                var str = JSON.stringify(value);\\n                if ((str == \\\"0\\\") && ([\\\"-0\\\", \\\"-0.\\\"].indexOf(stringified()) >= 0))\\n                     return;\\n                 if ([\\\"null\\\", \\\"\\\"].indexOf(str) >= 0)\\n                     return;\\n                stringified(str);\\n            });\\n            ko.applyBindingsToNode(\\n                element,\\n                {\\n                    value: stringified,\\n                    valueUpdate: allBindings.get('valueUpdate'),\\n                },\\n                context,\\n            );\\n        }\\n    };\\n    var json_data = {\\\"formatted_vals\\\":[\\\"1\\\",\\\"2\\\",\\\"3\\\",\\\"4\\\",\\\"5\\\",\\\"6\\\",\\\"7\\\",\\\"8\\\",\\\"9\\\",\\\"10\\\"],\\\"changes\\\":WebIO.getval({\\\"name\\\":\\\"changes\\\",\\\"scope\\\":\\\"13690523687701041477\\\",\\\"id\\\":\\\"15309081493367293208\\\",\\\"type\\\":\\\"observable\\\"}),\\\"index\\\":WebIO.getval({\\\"name\\\":\\\"index\\\",\\\"scope\\\":\\\"13690523687701041477\\\",\\\"id\\\":\\\"12763089305769847317\\\",\\\"type\\\":\\\"observable\\\"})};\\n    var self = this;\\n    function AppViewModel() {\\n        for (var key in json_data) {\\n            var el = json_data[key];\\n            this[key] = Array.isArray(el) ? ko.observableArray(el) : ko.observable(el);\\n        }\\n        \\n        [this[\\\"formatted_val\\\"]=ko.computed(    function(){\\n        return this.formatted_vals()[parseInt(this.index())-(1)];\\n    }\\n,this)]\\n        [this[\\\"changes\\\"].subscribe((function (val){!(this.valueFromJulia[\\\"changes\\\"]) ? (WebIO.setval({\\\"name\\\":\\\"changes\\\",\\\"scope\\\":\\\"13690523687701041477\\\",\\\"id\\\":\\\"15309081493367293208\\\",\\\"type\\\":\\\"observable\\\"},val)) : undefined; return this.valueFromJulia[\\\"changes\\\"]=false}),self),this[\\\"index\\\"].subscribe((function (val){!(this.valueFromJulia[\\\"index\\\"]) ? (WebIO.setval({\\\"name\\\":\\\"index\\\",\\\"scope\\\":\\\"13690523687701041477\\\",\\\"id\\\":\\\"12763089305769847317\\\",\\\"type\\\":\\\"observable\\\"},val)) : undefined; return this.valueFromJulia[\\\"index\\\"]=false}),self)]\\n        \\n    }\\n    self.model = new AppViewModel();\\n    self.valueFromJulia = {};\\n    for (var key in json_data) {\\n        self.valueFromJulia[key] = false;\\n    }\\n    ko.applyBindings(self.model, self.dom);\\n}\\n);\\n    (WebIO.importBlock({\\\"data\\\":[{\\\"name\\\":\\\"knockout\\\",\\\"type\\\":\\\"js\\\",\\\"url\\\":\\\"/assetserver/fd07f05e6f0e773c7ed9fa68e01084e25cfd3f7d-knockout.js\\\"},{\\\"name\\\":\\\"knockout_punches\\\",\\\"type\\\":\\\"js\\\",\\\"url\\\":\\\"/assetserver/fdfc8cc31c1ce53af7d64368e908ef5535b56da7-knockout_punches.js\\\"}],\\\"type\\\":\\\"async_block\\\"})).then((imports) => handler.apply(this, imports));\\n}\\n\")])], Dict{Symbol, Any}(:className => \"field interact-widget\")), Observable{Node{WebIO.DOM}} with 0 listeners. Value:\n",
       "Node{WebIO.DOM}(WebIO.DOM(:html, :div), Any[Node{WebIO.DOM}(WebIO.DOM(:html, :div), Any[Node{WebIO.DOM}(WebIO.DOM(:html, :pre), Any[\"Gaussian elimination for column 1 with pivot -3.0: add 1.0 * (row 1) to (row 2)\"], Dict{Symbol, Any}()), Node{WebIO.DOM}(WebIO.DOM(:html, :div), Any[[-3 5 … 3 -7; 3 -5 … -8 -6; … ; -6 -2 … 4 -8; -8 4 … -1 8], Node{WebIO.DOM}(WebIO.DOM(:html, :div), Any[], Dict{Symbol, Any}(:style => Dict{String, Measures.Length{U, Float64} where U}(\"height\" => 0.0px, \"width\" => 1.0em))), \"⟶\", Node{WebIO.DOM}(WebIO.DOM(:html, :div), Any[], Dict{Symbol, Any}(:style => Dict{String, Measures.Length{U, Float64} where U}(\"height\" => 0.0px, \"width\" => 1.0em))), [-3.0 5.0 … 3.0 -7.0; 0.0 0.0 … -5.0 -13.0; … ; -6.0 -2.0 … 4.0 -8.0; -8.0 4.0 … -1.0 8.0]], Dict{Symbol, Any}(:style => Dict{Any, Any}(\"align-items\" => :center, \"display\" => \"flex\", \"flex-direction\" => \"row\")))], Dict{Symbol, Any}(:style => Dict{Any, Any}(\"align-items\" => :center, \"display\" => \"flex\", \"flex-direction\" => \"column\")))], Dict{Symbol, Any}(:className => \"interact-flex-row interact-widget\"))], Dict{Symbol, Any}())"
      ]
     },
     "execution_count": 16,
     "metadata": {
      "application/vnd.webio.node+json": {
       "kernelId": "9b2c9a66-30c0-402b-982a-eb5446d43477"
      }
     },
     "output_type": "execute_result"
    }
   ],
   "source": [
    "Abad = [-3   5   5   3  -7\n",
    "         3  -5   8  -8  -6\n",
    "         8   2   8   2  -8\n",
    "        -6  -2   6   4  -8\n",
    "        -8   4  -6  -1   8]\n",
    "visualize_gauss(Abad)"
   ]
  },
  {
   "cell_type": "markdown",
   "metadata": {},
   "source": [
    "But this matrix is not actually singular:"
   ]
  },
  {
   "cell_type": "code",
   "execution_count": 17,
   "metadata": {},
   "outputs": [
    {
     "data": {
      "text/plain": [
       "19211.999999999996"
      ]
     },
     "execution_count": 17,
     "metadata": {},
     "output_type": "execute_result"
    }
   ],
   "source": [
    "det(Abad)"
   ]
  },
  {
   "cell_type": "markdown",
   "metadata": {},
   "source": [
    "So we can fix the problem just by re-ordering the rows, e.g. swapping the first and last rows:"
   ]
  },
  {
   "cell_type": "code",
   "execution_count": 18,
   "metadata": {},
   "outputs": [
    {
     "data": {
      "application/vnd.webio.node+json": {
       "children": [
        {
         "children": [
          {
           "children": [
            {
             "children": [
              {
               "children": [
                {
                 "children": [
                  "gauss step"
                 ],
                 "instanceArgs": {
                  "namespace": "html",
                  "tag": "label"
                 },
                 "nodeType": "DOM",
                 "props": {
                  "className": "interact ",
                  "style": {
                   "padding": "5px 10px 0px 10px"
                  }
                 },
                 "type": "node"
                }
               ],
               "instanceArgs": {
                "namespace": "html",
                "tag": "div"
               },
               "nodeType": "DOM",
               "props": {
                "className": "interact-flex-row-left"
               },
               "type": "node"
              },
              {
               "children": [
                {
                 "children": [],
                 "instanceArgs": {
                  "namespace": "html",
                  "tag": "input"
                 },
                 "nodeType": "DOM",
                 "props": {
                  "attributes": {
                   "data-bind": "numericValue: index, valueUpdate: 'input', event: {change: function (){this.changes(this.changes()+1)}}",
                   "orient": "horizontal",
                   "type": "range"
                  },
                  "className": "slider slider is-fullwidth",
                  "max": 10,
                  "min": 1,
                  "step": 1,
                  "style": {}
                 },
                 "type": "node"
                }
               ],
               "instanceArgs": {
                "namespace": "html",
                "tag": "div"
               },
               "nodeType": "DOM",
               "props": {
                "className": "interact-flex-row-center"
               },
               "type": "node"
              },
              {
               "children": [
                {
                 "children": [],
                 "instanceArgs": {
                  "namespace": "html",
                  "tag": "p"
                 },
                 "nodeType": "DOM",
                 "props": {
                  "attributes": {
                   "data-bind": "text: formatted_val"
                  }
                 },
                 "type": "node"
                }
               ],
               "instanceArgs": {
                "namespace": "html",
                "tag": "div"
               },
               "nodeType": "DOM",
               "props": {
                "className": "interact-flex-row-right"
               },
               "type": "node"
              }
             ],
             "instanceArgs": {
              "namespace": "html",
              "tag": "div"
             },
             "nodeType": "DOM",
             "props": {
              "className": "interact-flex-row interact-widget"
             },
             "type": "node"
            }
           ],
           "instanceArgs": {
            "handlers": {
             "changes": [
              "(function (val){return (val!=this.model[\"changes\"]()) ? (this.valueFromJulia[\"changes\"]=true, this.model[\"changes\"](val)) : undefined})"
             ],
             "index": [
              "(function (val){return (val!=this.model[\"index\"]()) ? (this.valueFromJulia[\"index\"]=true, this.model[\"index\"](val)) : undefined})"
             ]
            },
            "id": "7983509012605032630",
            "imports": {
             "data": [
              {
               "name": "knockout",
               "type": "js",
               "url": "/assetserver/fd07f05e6f0e773c7ed9fa68e01084e25cfd3f7d-knockout.js"
              },
              {
               "name": "knockout_punches",
               "type": "js",
               "url": "/assetserver/fdfc8cc31c1ce53af7d64368e908ef5535b56da7-knockout_punches.js"
              },
              {
               "name": null,
               "type": "js",
               "url": "/assetserver/61f613675da75f539731913573998184b30434d8-all.js"
              },
              {
               "name": null,
               "type": "css",
               "url": "/assetserver/58abda19fb319e300ad7b22e44bebba074b4bb4d-style.css"
              },
              {
               "name": null,
               "type": "css",
               "url": "/assetserver/624890bd43acdf6da9d12dfb47a1c50d9dc9f836-bulma_confined.min.css"
              }
             ],
             "type": "async_block"
            },
            "mount_callbacks": [
             "function () {\n    var handler = (function (ko, koPunches) {\n    ko.punches.enableAll();\n    ko.bindingHandlers.numericValue = {\n        init: function(element, valueAccessor, allBindings, data, context) {\n            var stringified = ko.observable(ko.unwrap(valueAccessor()));\n            stringified.subscribe(function(value) {\n                var val = parseFloat(value);\n                if (!isNaN(val)) {\n                    valueAccessor()(val);\n                }\n            });\n            valueAccessor().subscribe(function(value) {\n                var str = JSON.stringify(value);\n                if ((str == \"0\") && ([\"-0\", \"-0.\"].indexOf(stringified()) >= 0))\n                     return;\n                 if ([\"null\", \"\"].indexOf(str) >= 0)\n                     return;\n                stringified(str);\n            });\n            ko.applyBindingsToNode(\n                element,\n                {\n                    value: stringified,\n                    valueUpdate: allBindings.get('valueUpdate'),\n                },\n                context,\n            );\n        }\n    };\n    var json_data = {\"formatted_vals\":[\"1\",\"2\",\"3\",\"4\",\"5\",\"6\",\"7\",\"8\",\"9\",\"10\"],\"changes\":WebIO.getval({\"name\":\"changes\",\"scope\":\"7983509012605032630\",\"id\":\"9926240661447187854\",\"type\":\"observable\"}),\"index\":WebIO.getval({\"name\":\"index\",\"scope\":\"7983509012605032630\",\"id\":\"2254795321172047483\",\"type\":\"observable\"})};\n    var self = this;\n    function AppViewModel() {\n        for (var key in json_data) {\n            var el = json_data[key];\n            this[key] = Array.isArray(el) ? ko.observableArray(el) : ko.observable(el);\n        }\n        \n        [this[\"formatted_val\"]=ko.computed(    function(){\n        return this.formatted_vals()[parseInt(this.index())-(1)];\n    }\n,this)]\n        [this[\"changes\"].subscribe((function (val){!(this.valueFromJulia[\"changes\"]) ? (WebIO.setval({\"name\":\"changes\",\"scope\":\"7983509012605032630\",\"id\":\"9926240661447187854\",\"type\":\"observable\"},val)) : undefined; return this.valueFromJulia[\"changes\"]=false}),self),this[\"index\"].subscribe((function (val){!(this.valueFromJulia[\"index\"]) ? (WebIO.setval({\"name\":\"index\",\"scope\":\"7983509012605032630\",\"id\":\"2254795321172047483\",\"type\":\"observable\"},val)) : undefined; return this.valueFromJulia[\"index\"]=false}),self)]\n        \n    }\n    self.model = new AppViewModel();\n    self.valueFromJulia = {};\n    for (var key in json_data) {\n        self.valueFromJulia[key] = false;\n    }\n    ko.applyBindings(self.model, self.dom);\n}\n);\n    (WebIO.importBlock({\"data\":[{\"name\":\"knockout\",\"type\":\"js\",\"url\":\"/assetserver/fd07f05e6f0e773c7ed9fa68e01084e25cfd3f7d-knockout.js\"},{\"name\":\"knockout_punches\",\"type\":\"js\",\"url\":\"/assetserver/fdfc8cc31c1ce53af7d64368e908ef5535b56da7-knockout_punches.js\"}],\"type\":\"async_block\"})).then((imports) => handler.apply(this, imports));\n}\n"
            ],
            "observables": {
             "changes": {
              "id": "9926240661447187854",
              "sync": false,
              "value": 0
             },
             "index": {
              "id": "2254795321172047483",
              "sync": true,
              "value": 1
             }
            },
            "systemjs_options": null
           },
           "nodeType": "Scope",
           "props": {},
           "type": "node"
          }
         ],
         "instanceArgs": {
          "namespace": "html",
          "tag": "div"
         },
         "nodeType": "DOM",
         "props": {
          "className": "field interact-widget"
         },
         "type": "node"
        },
        {
         "children": [
          {
           "children": [],
           "instanceArgs": {
            "id": "12799766352861223606",
            "name": "obs-node"
           },
           "nodeType": "ObservableNode",
           "props": {},
           "type": "node"
          }
         ],
         "instanceArgs": {
          "handlers": {},
          "id": "5266245514210726760",
          "imports": {
           "data": [],
           "type": "async_block"
          },
          "mount_callbacks": [],
          "observables": {
           "obs-node": {
            "id": "12799766352861223606",
            "sync": false,
            "value": {
             "children": [
              {
               "children": [
                {
                 "children": [
                  "Gaussian elimination for column 1 with pivot -8.0: add 0.375 * (row 1) to (row 2)"
                 ],
                 "instanceArgs": {
                  "namespace": "html",
                  "tag": "pre"
                 },
                 "nodeType": "DOM",
                 "props": {},
                 "type": "node"
                },
                {
                 "children": [
                  {
                   "children": [],
                   "instanceArgs": {
                    "namespace": "html",
                    "tag": "div"
                   },
                   "nodeType": "DOM",
                   "props": {
                    "setInnerHtml": "<pre>5×5 Matrix{Int64}:\n -8   4  -6  -1   8\n  3  -5   8  -8  -6\n  8   2   8   2  -8\n -6  -2   6   4  -8\n -3   5   5   3  -7</pre>"
                   },
                   "type": "node"
                  },
                  {
                   "children": [],
                   "instanceArgs": {
                    "namespace": "html",
                    "tag": "div"
                   },
                   "nodeType": "DOM",
                   "props": {
                    "style": {
                     "height": "0.0px",
                     "width": "1.0em"
                    }
                   },
                   "type": "node"
                  },
                  "⟶",
                  {
                   "children": [],
                   "instanceArgs": {
                    "namespace": "html",
                    "tag": "div"
                   },
                   "nodeType": "DOM",
                   "props": {
                    "style": {
                     "height": "0.0px",
                     "width": "1.0em"
                    }
                   },
                   "type": "node"
                  },
                  {
                   "children": [],
                   "instanceArgs": {
                    "namespace": "html",
                    "tag": "div"
                   },
                   "nodeType": "DOM",
                   "props": {
                    "setInnerHtml": "<pre>5×5 Matrix{Float64}:\n -8.0   4.0  -6.0   -1.0     8.0\n  0.0  -3.5   5.75  -8.375  -3.0\n  8.0   2.0   8.0    2.0    -8.0\n -6.0  -2.0   6.0    4.0    -8.0\n -3.0   5.0   5.0    3.0    -7.0</pre>"
                   },
                   "type": "node"
                  }
                 ],
                 "instanceArgs": {
                  "namespace": "html",
                  "tag": "div"
                 },
                 "nodeType": "DOM",
                 "props": {
                  "style": {
                   "align-items": "center",
                   "display": "flex",
                   "flex-direction": "row"
                  }
                 },
                 "type": "node"
                }
               ],
               "instanceArgs": {
                "namespace": "html",
                "tag": "div"
               },
               "nodeType": "DOM",
               "props": {
                "style": {
                 "align-items": "center",
                 "display": "flex",
                 "flex-direction": "column"
                }
               },
               "type": "node"
              }
             ],
             "instanceArgs": {
              "namespace": "html",
              "tag": "div"
             },
             "nodeType": "DOM",
             "props": {
              "className": "interact-flex-row interact-widget"
             },
             "type": "node"
            }
           }
          },
          "systemjs_options": null
         },
         "nodeType": "Scope",
         "props": {},
         "type": "node"
        }
       ],
       "instanceArgs": {
        "namespace": "html",
        "tag": "div"
       },
       "nodeType": "DOM",
       "props": {},
       "type": "node"
      },
      "text/html": [
       "<div\n",
       "    class=\"webio-mountpoint\"\n",
       "    data-webio-mountpoint=\"6364659909785419103\"\n",
       ">\n",
       "    <script>\n",
       "    (function(){\n",
       "    // Some integrations (namely, IJulia/Jupyter) use an alternate render pathway than\n",
       "    // just putting the html on the page. If WebIO isn't defined, then it's pretty likely\n",
       "    // that we're in one of those situations and the integration just isn't installed\n",
       "    // correctly.\n",
       "    if (typeof window.WebIO === \"undefined\") {\n",
       "        document\n",
       "            .querySelector('[data-webio-mountpoint=\"6364659909785419103\"]')\n",
       "            .innerHTML = (\n",
       "                '<div style=\"padding: 1em; background-color: #f8d6da; border: 1px solid #f5c6cb; font-weight: bold;\">' +\n",
       "                '<p><strong>WebIO not detected.</strong></p>' +\n",
       "                '<p>Please read ' +\n",
       "                '<a href=\"https://juliagizmos.github.io/WebIO.jl/latest/troubleshooting/not-detected/\" target=\"_blank\">the troubleshooting guide</a> ' +\n",
       "                'for more information on how to resolve this issue.</p>' +\n",
       "                '<p><a href=\"https://juliagizmos.github.io/WebIO.jl/latest/troubleshooting/not-detected/\" target=\"_blank\">https://juliagizmos.github.io/WebIO.jl/latest/troubleshooting/not-detected/</a></p>' +\n",
       "                '</div>'\n",
       "            );\n",
       "        return;\n",
       "    }\n",
       "    WebIO.mount(\n",
       "        document.querySelector('[data-webio-mountpoint=\"6364659909785419103\"]'),\n",
       "        {\"props\":{},\"nodeType\":\"DOM\",\"type\":\"node\",\"instanceArgs\":{\"namespace\":\"html\",\"tag\":\"div\"},\"children\":[{\"props\":{\"className\":\"field interact-widget\"},\"nodeType\":\"DOM\",\"type\":\"node\",\"instanceArgs\":{\"namespace\":\"html\",\"tag\":\"div\"},\"children\":[{\"props\":{},\"nodeType\":\"Scope\",\"type\":\"node\",\"instanceArgs\":{\"imports\":{\"data\":[{\"name\":\"knockout\",\"type\":\"js\",\"url\":\"\\/assetserver\\/fd07f05e6f0e773c7ed9fa68e01084e25cfd3f7d-knockout.js\"},{\"name\":\"knockout_punches\",\"type\":\"js\",\"url\":\"\\/assetserver\\/fdfc8cc31c1ce53af7d64368e908ef5535b56da7-knockout_punches.js\"},{\"name\":null,\"type\":\"js\",\"url\":\"\\/assetserver\\/61f613675da75f539731913573998184b30434d8-all.js\"},{\"name\":null,\"type\":\"css\",\"url\":\"\\/assetserver\\/58abda19fb319e300ad7b22e44bebba074b4bb4d-style.css\"},{\"name\":null,\"type\":\"css\",\"url\":\"\\/assetserver\\/624890bd43acdf6da9d12dfb47a1c50d9dc9f836-bulma_confined.min.css\"}],\"type\":\"async_block\"},\"id\":\"7983509012605032630\",\"handlers\":{\"changes\":[\"(function (val){return (val!=this.model[\\\"changes\\\"]()) ? (this.valueFromJulia[\\\"changes\\\"]=true, this.model[\\\"changes\\\"](val)) : undefined})\"],\"index\":[\"(function (val){return (val!=this.model[\\\"index\\\"]()) ? (this.valueFromJulia[\\\"index\\\"]=true, this.model[\\\"index\\\"](val)) : undefined})\"]},\"systemjs_options\":null,\"mount_callbacks\":[\"function () {\\n    var handler = (function (ko, koPunches) {\\n    ko.punches.enableAll();\\n    ko.bindingHandlers.numericValue = {\\n        init: function(element, valueAccessor, allBindings, data, context) {\\n            var stringified = ko.observable(ko.unwrap(valueAccessor()));\\n            stringified.subscribe(function(value) {\\n                var val = parseFloat(value);\\n                if (!isNaN(val)) {\\n                    valueAccessor()(val);\\n                }\\n            });\\n            valueAccessor().subscribe(function(value) {\\n                var str = JSON.stringify(value);\\n                if ((str == \\\"0\\\") && ([\\\"-0\\\", \\\"-0.\\\"].indexOf(stringified()) >= 0))\\n                     return;\\n                 if ([\\\"null\\\", \\\"\\\"].indexOf(str) >= 0)\\n                     return;\\n                stringified(str);\\n            });\\n            ko.applyBindingsToNode(\\n                element,\\n                {\\n                    value: stringified,\\n                    valueUpdate: allBindings.get('valueUpdate'),\\n                },\\n                context,\\n            );\\n        }\\n    };\\n    var json_data = {\\\"formatted_vals\\\":[\\\"1\\\",\\\"2\\\",\\\"3\\\",\\\"4\\\",\\\"5\\\",\\\"6\\\",\\\"7\\\",\\\"8\\\",\\\"9\\\",\\\"10\\\"],\\\"changes\\\":WebIO.getval({\\\"name\\\":\\\"changes\\\",\\\"scope\\\":\\\"7983509012605032630\\\",\\\"id\\\":\\\"9926240661447187854\\\",\\\"type\\\":\\\"observable\\\"}),\\\"index\\\":WebIO.getval({\\\"name\\\":\\\"index\\\",\\\"scope\\\":\\\"7983509012605032630\\\",\\\"id\\\":\\\"2254795321172047483\\\",\\\"type\\\":\\\"observable\\\"})};\\n    var self = this;\\n    function AppViewModel() {\\n        for (var key in json_data) {\\n            var el = json_data[key];\\n            this[key] = Array.isArray(el) ? ko.observableArray(el) : ko.observable(el);\\n        }\\n        \\n        [this[\\\"formatted_val\\\"]=ko.computed(    function(){\\n        return this.formatted_vals()[parseInt(this.index())-(1)];\\n    }\\n,this)]\\n        [this[\\\"changes\\\"].subscribe((function (val){!(this.valueFromJulia[\\\"changes\\\"]) ? (WebIO.setval({\\\"name\\\":\\\"changes\\\",\\\"scope\\\":\\\"7983509012605032630\\\",\\\"id\\\":\\\"9926240661447187854\\\",\\\"type\\\":\\\"observable\\\"},val)) : undefined; return this.valueFromJulia[\\\"changes\\\"]=false}),self),this[\\\"index\\\"].subscribe((function (val){!(this.valueFromJulia[\\\"index\\\"]) ? (WebIO.setval({\\\"name\\\":\\\"index\\\",\\\"scope\\\":\\\"7983509012605032630\\\",\\\"id\\\":\\\"2254795321172047483\\\",\\\"type\\\":\\\"observable\\\"},val)) : undefined; return this.valueFromJulia[\\\"index\\\"]=false}),self)]\\n        \\n    }\\n    self.model = new AppViewModel();\\n    self.valueFromJulia = {};\\n    for (var key in json_data) {\\n        self.valueFromJulia[key] = false;\\n    }\\n    ko.applyBindings(self.model, self.dom);\\n}\\n);\\n    (WebIO.importBlock({\\\"data\\\":[{\\\"name\\\":\\\"knockout\\\",\\\"type\\\":\\\"js\\\",\\\"url\\\":\\\"\\/assetserver\\/fd07f05e6f0e773c7ed9fa68e01084e25cfd3f7d-knockout.js\\\"},{\\\"name\\\":\\\"knockout_punches\\\",\\\"type\\\":\\\"js\\\",\\\"url\\\":\\\"\\/assetserver\\/fdfc8cc31c1ce53af7d64368e908ef5535b56da7-knockout_punches.js\\\"}],\\\"type\\\":\\\"async_block\\\"})).then((imports) => handler.apply(this, imports));\\n}\\n\"],\"observables\":{\"changes\":{\"sync\":false,\"id\":\"9926240661447187854\",\"value\":0},\"index\":{\"sync\":true,\"id\":\"2254795321172047483\",\"value\":1}}},\"children\":[{\"props\":{\"className\":\"interact-flex-row interact-widget\"},\"nodeType\":\"DOM\",\"type\":\"node\",\"instanceArgs\":{\"namespace\":\"html\",\"tag\":\"div\"},\"children\":[{\"props\":{\"className\":\"interact-flex-row-left\"},\"nodeType\":\"DOM\",\"type\":\"node\",\"instanceArgs\":{\"namespace\":\"html\",\"tag\":\"div\"},\"children\":[{\"props\":{\"className\":\"interact \",\"style\":{\"padding\":\"5px 10px 0px 10px\"}},\"nodeType\":\"DOM\",\"type\":\"node\",\"instanceArgs\":{\"namespace\":\"html\",\"tag\":\"label\"},\"children\":[\"gauss step\"]}]},{\"props\":{\"className\":\"interact-flex-row-center\"},\"nodeType\":\"DOM\",\"type\":\"node\",\"instanceArgs\":{\"namespace\":\"html\",\"tag\":\"div\"},\"children\":[{\"props\":{\"max\":10,\"min\":1,\"attributes\":{\"type\":\"range\",\"data-bind\":\"numericValue: index, valueUpdate: 'input', event: {change: function (){this.changes(this.changes()+1)}}\",\"orient\":\"horizontal\"},\"step\":1,\"className\":\"slider slider is-fullwidth\",\"style\":{}},\"nodeType\":\"DOM\",\"type\":\"node\",\"instanceArgs\":{\"namespace\":\"html\",\"tag\":\"input\"},\"children\":[]}]},{\"props\":{\"className\":\"interact-flex-row-right\"},\"nodeType\":\"DOM\",\"type\":\"node\",\"instanceArgs\":{\"namespace\":\"html\",\"tag\":\"div\"},\"children\":[{\"props\":{\"attributes\":{\"data-bind\":\"text: formatted_val\"}},\"nodeType\":\"DOM\",\"type\":\"node\",\"instanceArgs\":{\"namespace\":\"html\",\"tag\":\"p\"},\"children\":[]}]}]}]}]},{\"props\":{},\"nodeType\":\"Scope\",\"type\":\"node\",\"instanceArgs\":{\"imports\":{\"data\":[],\"type\":\"async_block\"},\"id\":\"862902241277469224\",\"handlers\":{},\"systemjs_options\":null,\"mount_callbacks\":[],\"observables\":{\"obs-node\":{\"sync\":false,\"id\":\"16604358688783850542\",\"value\":{\"props\":{\"className\":\"interact-flex-row interact-widget\"},\"nodeType\":\"DOM\",\"type\":\"node\",\"instanceArgs\":{\"namespace\":\"html\",\"tag\":\"div\"},\"children\":[{\"props\":{\"style\":{\"align-items\":\"center\",\"display\":\"flex\",\"flex-direction\":\"column\"}},\"nodeType\":\"DOM\",\"type\":\"node\",\"instanceArgs\":{\"namespace\":\"html\",\"tag\":\"div\"},\"children\":[{\"props\":{},\"nodeType\":\"DOM\",\"type\":\"node\",\"instanceArgs\":{\"namespace\":\"html\",\"tag\":\"pre\"},\"children\":[\"Gaussian elimination for column 1 with pivot -8.0: add 0.375 * (row 1) to (row 2)\"]},{\"props\":{\"style\":{\"align-items\":\"center\",\"display\":\"flex\",\"flex-direction\":\"row\"}},\"nodeType\":\"DOM\",\"type\":\"node\",\"instanceArgs\":{\"namespace\":\"html\",\"tag\":\"div\"},\"children\":[{\"props\":{\"setInnerHtml\":\"<pre>5×5 Matrix{Int64}:\\n -8   4  -6  -1   8\\n  3  -5   8  -8  -6\\n  8   2   8   2  -8\\n -6  -2   6   4  -8\\n -3   5   5   3  -7<\\/pre>\"},\"nodeType\":\"DOM\",\"type\":\"node\",\"instanceArgs\":{\"namespace\":\"html\",\"tag\":\"div\"},\"children\":[]},{\"props\":{\"style\":{\"height\":\"0.0px\",\"width\":\"1.0em\"}},\"nodeType\":\"DOM\",\"type\":\"node\",\"instanceArgs\":{\"namespace\":\"html\",\"tag\":\"div\"},\"children\":[]},\"⟶\",{\"props\":{\"style\":{\"height\":\"0.0px\",\"width\":\"1.0em\"}},\"nodeType\":\"DOM\",\"type\":\"node\",\"instanceArgs\":{\"namespace\":\"html\",\"tag\":\"div\"},\"children\":[]},{\"props\":{\"setInnerHtml\":\"<pre>5×5 Matrix{Float64}:\\n -8.0   4.0  -6.0   -1.0     8.0\\n  0.0  -3.5   5.75  -8.375  -3.0\\n  8.0   2.0   8.0    2.0    -8.0\\n -6.0  -2.0   6.0    4.0    -8.0\\n -3.0   5.0   5.0    3.0    -7.0<\\/pre>\"},\"nodeType\":\"DOM\",\"type\":\"node\",\"instanceArgs\":{\"namespace\":\"html\",\"tag\":\"div\"},\"children\":[]}]}]}]}}}},\"children\":[{\"props\":{},\"nodeType\":\"ObservableNode\",\"type\":\"node\",\"instanceArgs\":{\"id\":\"16604358688783850542\",\"name\":\"obs-node\"},\"children\":[]}]}]},\n",
       "        window,\n",
       "    );\n",
       "    })()\n",
       "    </script>\n",
       "</div>\n"
      ],
      "text/plain": [
       "Node{WebIO.DOM}(WebIO.DOM(:html, :div), Any[Node{WebIO.DOM}(WebIO.DOM(:html, :div), Any[Scope(Node{WebIO.DOM}(WebIO.DOM(:html, :div), Any[Node{WebIO.DOM}(WebIO.DOM(:html, :div), Any[Node{WebIO.DOM}(WebIO.DOM(:html, :label), Any[\"gauss step\"], Dict{Symbol, Any}(:className => \"interact \", :style => Dict{Any, Any}(:padding => \"5px 10px 0px 10px\")))], Dict{Symbol, Any}(:className => \"interact-flex-row-left\")), Node{WebIO.DOM}(WebIO.DOM(:html, :div), Any[Node{WebIO.DOM}(WebIO.DOM(:html, :input), Any[], Dict{Symbol, Any}(:max => 10, :min => 1, :attributes => Dict{Any, Any}(:type => \"range\", Symbol(\"data-bind\") => \"numericValue: index, valueUpdate: 'input', event: {change: function (){this.changes(this.changes()+1)}}\", \"orient\" => \"horizontal\"), :step => 1, :className => \"slider slider is-fullwidth\", :style => Dict{Any, Any}()))], Dict{Symbol, Any}(:className => \"interact-flex-row-center\")), Node{WebIO.DOM}(WebIO.DOM(:html, :div), Any[Node{WebIO.DOM}(WebIO.DOM(:html, :p), Any[], Dict{Symbol, Any}(:attributes => Dict(\"data-bind\" => \"text: formatted_val\")))], Dict{Symbol, Any}(:className => \"interact-flex-row-right\"))], Dict{Symbol, Any}(:className => \"interact-flex-row interact-widget\")), Dict{String, Tuple{Observables.AbstractObservable, Union{Nothing, Bool}}}(\"changes\" => (Observable{Int64} with 1 listeners. Value:\n",
       "0, nothing), \"index\" => (Observable{Int64} with 2 listeners. Value:\n",
       "1, nothing)), Set{String}(), nothing, Asset[Asset(\"js\", \"knockout\", \"/Users/stevenj/.julia/packages/Knockout/3gjS1/src/../assets/knockout.js\"), Asset(\"js\", \"knockout_punches\", \"/Users/stevenj/.julia/packages/Knockout/3gjS1/src/../assets/knockout_punches.js\"), Asset(\"js\", nothing, \"/Users/stevenj/.julia/packages/InteractBase/o1I6G/src/../assets/all.js\"), Asset(\"css\", nothing, \"/Users/stevenj/.julia/packages/InteractBase/o1I6G/src/../assets/style.css\"), Asset(\"css\", nothing, \"/Users/stevenj/.julia/packages/Interact/pVyN2/src/../assets/bulma_confined.min.css\")], Dict{Any, Any}(\"changes\" => Any[WebIO.JSString(\"(function (val){return (val!=this.model[\\\"changes\\\"]()) ? (this.valueFromJulia[\\\"changes\\\"]=true, this.model[\\\"changes\\\"](val)) : undefined})\")], \"index\" => Any[WebIO.JSString(\"(function (val){return (val!=this.model[\\\"index\\\"]()) ? (this.valueFromJulia[\\\"index\\\"]=true, this.model[\\\"index\\\"](val)) : undefined})\")]), WebIO.ConnectionPool(Channel{Any}(32), Set{AbstractConnection}(), Condition(Base.InvasiveLinkedList{Task}(Task (runnable) @0x00000001135fde40, Task (runnable) @0x00000001135fde40), Base.AlwaysLockedST(1))), WebIO.JSString[WebIO.JSString(\"function () {\\n    var handler = (function (ko, koPunches) {\\n    ko.punches.enableAll();\\n    ko.bindingHandlers.numericValue = {\\n        init: function(element, valueAccessor, allBindings, data, context) {\\n            var stringified = ko.observable(ko.unwrap(valueAccessor()));\\n            stringified.subscribe(function(value) {\\n                var val = parseFloat(value);\\n                if (!isNaN(val)) {\\n                    valueAccessor()(val);\\n                }\\n            });\\n            valueAccessor().subscribe(function(value) {\\n                var str = JSON.stringify(value);\\n                if ((str == \\\"0\\\") && ([\\\"-0\\\", \\\"-0.\\\"].indexOf(stringified()) >= 0))\\n                     return;\\n                 if ([\\\"null\\\", \\\"\\\"].indexOf(str) >= 0)\\n                     return;\\n                stringified(str);\\n            });\\n            ko.applyBindingsToNode(\\n                element,\\n                {\\n                    value: stringified,\\n                    valueUpdate: allBindings.get('valueUpdate'),\\n                },\\n                context,\\n            );\\n        }\\n    };\\n    var json_data = {\\\"formatted_vals\\\":[\\\"1\\\",\\\"2\\\",\\\"3\\\",\\\"4\\\",\\\"5\\\",\\\"6\\\",\\\"7\\\",\\\"8\\\",\\\"9\\\",\\\"10\\\"],\\\"changes\\\":WebIO.getval({\\\"name\\\":\\\"changes\\\",\\\"scope\\\":\\\"7983509012605032630\\\",\\\"id\\\":\\\"9926240661447187854\\\",\\\"type\\\":\\\"observable\\\"}),\\\"index\\\":WebIO.getval({\\\"name\\\":\\\"index\\\",\\\"scope\\\":\\\"7983509012605032630\\\",\\\"id\\\":\\\"2254795321172047483\\\",\\\"type\\\":\\\"observable\\\"})};\\n    var self = this;\\n    function AppViewModel() {\\n        for (var key in json_data) {\\n            var el = json_data[key];\\n            this[key] = Array.isArray(el) ? ko.observableArray(el) : ko.observable(el);\\n        }\\n        \\n        [this[\\\"formatted_val\\\"]=ko.computed(    function(){\\n        return this.formatted_vals()[parseInt(this.index())-(1)];\\n    }\\n,this)]\\n        [this[\\\"changes\\\"].subscribe((function (val){!(this.valueFromJulia[\\\"changes\\\"]) ? (WebIO.setval({\\\"name\\\":\\\"changes\\\",\\\"scope\\\":\\\"7983509012605032630\\\",\\\"id\\\":\\\"9926240661447187854\\\",\\\"type\\\":\\\"observable\\\"},val)) : undefined; return this.valueFromJulia[\\\"changes\\\"]=false}),self),this[\\\"index\\\"].subscribe((function (val){!(this.valueFromJulia[\\\"index\\\"]) ? (WebIO.setval({\\\"name\\\":\\\"index\\\",\\\"scope\\\":\\\"7983509012605032630\\\",\\\"id\\\":\\\"2254795321172047483\\\",\\\"type\\\":\\\"observable\\\"},val)) : undefined; return this.valueFromJulia[\\\"index\\\"]=false}),self)]\\n        \\n    }\\n    self.model = new AppViewModel();\\n    self.valueFromJulia = {};\\n    for (var key in json_data) {\\n        self.valueFromJulia[key] = false;\\n    }\\n    ko.applyBindings(self.model, self.dom);\\n}\\n);\\n    (WebIO.importBlock({\\\"data\\\":[{\\\"name\\\":\\\"knockout\\\",\\\"type\\\":\\\"js\\\",\\\"url\\\":\\\"/assetserver/fd07f05e6f0e773c7ed9fa68e01084e25cfd3f7d-knockout.js\\\"},{\\\"name\\\":\\\"knockout_punches\\\",\\\"type\\\":\\\"js\\\",\\\"url\\\":\\\"/assetserver/fdfc8cc31c1ce53af7d64368e908ef5535b56da7-knockout_punches.js\\\"}],\\\"type\\\":\\\"async_block\\\"})).then((imports) => handler.apply(this, imports));\\n}\\n\")])], Dict{Symbol, Any}(:className => \"field interact-widget\")), Observable{Node{WebIO.DOM}} with 0 listeners. Value:\n",
       "Node{WebIO.DOM}(WebIO.DOM(:html, :div), Any[Node{WebIO.DOM}(WebIO.DOM(:html, :div), Any[Node{WebIO.DOM}(WebIO.DOM(:html, :pre), Any[\"Gaussian elimination for column 1 with pivot -8.0: add 0.375 * (row 1) to (row 2)\"], Dict{Symbol, Any}()), Node{WebIO.DOM}(WebIO.DOM(:html, :div), Any[[-8 4 … -1 8; 3 -5 … -8 -6; … ; -6 -2 … 4 -8; -3 5 … 3 -7], Node{WebIO.DOM}(WebIO.DOM(:html, :div), Any[], Dict{Symbol, Any}(:style => Dict{String, Measures.Length{U, Float64} where U}(\"height\" => 0.0px, \"width\" => 1.0em))), \"⟶\", Node{WebIO.DOM}(WebIO.DOM(:html, :div), Any[], Dict{Symbol, Any}(:style => Dict{String, Measures.Length{U, Float64} where U}(\"height\" => 0.0px, \"width\" => 1.0em))), [-8.0 4.0 … -1.0 8.0; 0.0 -3.5 … -8.375 -3.0; … ; -6.0 -2.0 … 4.0 -8.0; -3.0 5.0 … 3.0 -7.0]], Dict{Symbol, Any}(:style => Dict{Any, Any}(\"align-items\" => :center, \"display\" => \"flex\", \"flex-direction\" => \"row\")))], Dict{Symbol, Any}(:style => Dict{Any, Any}(\"align-items\" => :center, \"display\" => \"flex\", \"flex-direction\" => \"column\")))], Dict{Symbol, Any}(:className => \"interact-flex-row interact-widget\"))], Dict{Symbol, Any}())"
      ]
     },
     "execution_count": 18,
     "metadata": {
      "application/vnd.webio.node+json": {
       "kernelId": "9b2c9a66-30c0-402b-982a-eb5446d43477"
      }
     },
     "output_type": "execute_result"
    }
   ],
   "source": [
    "Aok = [-8   4  -6  -1   8\n",
    "        3  -5   8  -8  -6\n",
    "        8   2   8   2  -8\n",
    "       -6  -2   6   4  -8\n",
    "       -3   5   5   3  -7]\n",
    "visualize_gauss(Aok)"
   ]
  },
  {
   "cell_type": "markdown",
   "metadata": {},
   "source": [
    "## A bigger example\n",
    "\n",
    "We quickly run out of space for displaying matrices as text, but we can visualize the process for larger matrices by using images, with the PyPlot package (a wrapper around the Python Matplotlib library):"
   ]
  },
  {
   "cell_type": "code",
   "execution_count": 19,
   "metadata": {},
   "outputs": [],
   "source": [
    "using PyPlot"
   ]
  },
  {
   "cell_type": "code",
   "execution_count": 20,
   "metadata": {},
   "outputs": [
    {
     "name": "stderr",
     "output_type": "stream",
     "text": [
      "┌ Warning: `vendor()` is deprecated, use `BLAS.get_config()` and inspect the output instead\n",
      "│   caller = npyinitialize() at numpy.jl:67\n",
      "└ @ PyCall /Users/stevenj/.julia/packages/PyCall/L0fLP/src/numpy.jl:67\n"
     ]
    },
    {
     "data": {
      "application/vnd.webio.node+json": {
       "children": [
        {
         "children": [
          {
           "children": [
            {
             "children": [
              {
               "children": [
                {
                 "children": [
                  "gauss step"
                 ],
                 "instanceArgs": {
                  "namespace": "html",
                  "tag": "label"
                 },
                 "nodeType": "DOM",
                 "props": {
                  "className": "interact ",
                  "style": {
                   "padding": "5px 10px 0px 10px"
                  }
                 },
                 "type": "node"
                }
               ],
               "instanceArgs": {
                "namespace": "html",
                "tag": "div"
               },
               "nodeType": "DOM",
               "props": {
                "className": "interact-flex-row-left"
               },
               "type": "node"
              },
              {
               "children": [
                {
                 "children": [],
                 "instanceArgs": {
                  "namespace": "html",
                  "tag": "input"
                 },
                 "nodeType": "DOM",
                 "props": {
                  "attributes": {
                   "data-bind": "numericValue: index, valueUpdate: 'input', event: {change: function (){this.changes(this.changes()+1)}}",
                   "orient": "horizontal",
                   "type": "range"
                  },
                  "className": "slider slider is-fullwidth",
                  "max": 100,
                  "min": 1,
                  "step": 1,
                  "style": {}
                 },
                 "type": "node"
                }
               ],
               "instanceArgs": {
                "namespace": "html",
                "tag": "div"
               },
               "nodeType": "DOM",
               "props": {
                "className": "interact-flex-row-center"
               },
               "type": "node"
              },
              {
               "children": [
                {
                 "children": [],
                 "instanceArgs": {
                  "namespace": "html",
                  "tag": "p"
                 },
                 "nodeType": "DOM",
                 "props": {
                  "attributes": {
                   "data-bind": "text: formatted_val"
                  }
                 },
                 "type": "node"
                }
               ],
               "instanceArgs": {
                "namespace": "html",
                "tag": "div"
               },
               "nodeType": "DOM",
               "props": {
                "className": "interact-flex-row-right"
               },
               "type": "node"
              }
             ],
             "instanceArgs": {
              "namespace": "html",
              "tag": "div"
             },
             "nodeType": "DOM",
             "props": {
              "className": "interact-flex-row interact-widget"
             },
             "type": "node"
            }
           ],
           "instanceArgs": {
            "handlers": {
             "changes": [
              "(function (val){return (val!=this.model[\"changes\"]()) ? (this.valueFromJulia[\"changes\"]=true, this.model[\"changes\"](val)) : undefined})"
             ],
             "index": [
              "(function (val){return (val!=this.model[\"index\"]()) ? (this.valueFromJulia[\"index\"]=true, this.model[\"index\"](val)) : undefined})"
             ]
            },
            "id": "2832485205718929356",
            "imports": {
             "data": [
              {
               "name": "knockout",
               "type": "js",
               "url": "/assetserver/fd07f05e6f0e773c7ed9fa68e01084e25cfd3f7d-knockout.js"
              },
              {
               "name": "knockout_punches",
               "type": "js",
               "url": "/assetserver/fdfc8cc31c1ce53af7d64368e908ef5535b56da7-knockout_punches.js"
              },
              {
               "name": null,
               "type": "js",
               "url": "/assetserver/61f613675da75f539731913573998184b30434d8-all.js"
              },
              {
               "name": null,
               "type": "css",
               "url": "/assetserver/58abda19fb319e300ad7b22e44bebba074b4bb4d-style.css"
              },
              {
               "name": null,
               "type": "css",
               "url": "/assetserver/624890bd43acdf6da9d12dfb47a1c50d9dc9f836-bulma_confined.min.css"
              }
             ],
             "type": "async_block"
            },
            "mount_callbacks": [
             "function () {\n    var handler = (function (ko, koPunches) {\n    ko.punches.enableAll();\n    ko.bindingHandlers.numericValue = {\n        init: function(element, valueAccessor, allBindings, data, context) {\n            var stringified = ko.observable(ko.unwrap(valueAccessor()));\n            stringified.subscribe(function(value) {\n                var val = parseFloat(value);\n                if (!isNaN(val)) {\n                    valueAccessor()(val);\n                }\n            });\n            valueAccessor().subscribe(function(value) {\n                var str = JSON.stringify(value);\n                if ((str == \"0\") && ([\"-0\", \"-0.\"].indexOf(stringified()) >= 0))\n                     return;\n                 if ([\"null\", \"\"].indexOf(str) >= 0)\n                     return;\n                stringified(str);\n            });\n            ko.applyBindingsToNode(\n                element,\n                {\n                    value: stringified,\n                    valueUpdate: allBindings.get('valueUpdate'),\n                },\n                context,\n            );\n        }\n    };\n    var json_data = {\"formatted_vals\":[\"0\",\"50\",\"100\",\"150\",\"200\",\"250\",\"300\",\"350\",\"400\",\"450\",\"500\",\"550\",\"600\",\"650\",\"700\",\"750\",\"800\",\"850\",\"900\",\"950\",\"1000\",\"1050\",\"1100\",\"1150\",\"1200\",\"1250\",\"1300\",\"1350\",\"1400\",\"1450\",\"1500\",\"1550\",\"1600\",\"1650\",\"1700\",\"1750\",\"1800\",\"1850\",\"1900\",\"1950\",\"2000\",\"2050\",\"2100\",\"2150\",\"2200\",\"2250\",\"2300\",\"2350\",\"2400\",\"2450\",\"2500\",\"2550\",\"2600\",\"2650\",\"2700\",\"2750\",\"2800\",\"2850\",\"2900\",\"2950\",\"3000\",\"3050\",\"3100\",\"3150\",\"3200\",\"3250\",\"3300\",\"3350\",\"3400\",\"3450\",\"3500\",\"3550\",\"3600\",\"3650\",\"3700\",\"3750\",\"3800\",\"3850\",\"3900\",\"3950\",\"4000\",\"4050\",\"4100\",\"4150\",\"4200\",\"4250\",\"4300\",\"4350\",\"4400\",\"4450\",\"4500\",\"4550\",\"4600\",\"4650\",\"4700\",\"4750\",\"4800\",\"4850\",\"4900\",\"4950\"],\"changes\":WebIO.getval({\"name\":\"changes\",\"scope\":\"2832485205718929356\",\"id\":\"10170339525023970505\",\"type\":\"observable\"}),\"index\":WebIO.getval({\"name\":\"index\",\"scope\":\"2832485205718929356\",\"id\":\"13092098495876295200\",\"type\":\"observable\"})};\n    var self = this;\n    function AppViewModel() {\n        for (var key in json_data) {\n            var el = json_data[key];\n            this[key] = Array.isArray(el) ? ko.observableArray(el) : ko.observable(el);\n        }\n        \n        [this[\"formatted_val\"]=ko.computed(    function(){\n        return this.formatted_vals()[parseInt(this.index())-(1)];\n    }\n,this)]\n        [this[\"changes\"].subscribe((function (val){!(this.valueFromJulia[\"changes\"]) ? (WebIO.setval({\"name\":\"changes\",\"scope\":\"2832485205718929356\",\"id\":\"10170339525023970505\",\"type\":\"observable\"},val)) : undefined; return this.valueFromJulia[\"changes\"]=false}),self),this[\"index\"].subscribe((function (val){!(this.valueFromJulia[\"index\"]) ? (WebIO.setval({\"name\":\"index\",\"scope\":\"2832485205718929356\",\"id\":\"13092098495876295200\",\"type\":\"observable\"},val)) : undefined; return this.valueFromJulia[\"index\"]=false}),self)]\n        \n    }\n    self.model = new AppViewModel();\n    self.valueFromJulia = {};\n    for (var key in json_data) {\n        self.valueFromJulia[key] = false;\n    }\n    ko.applyBindings(self.model, self.dom);\n}\n);\n    (WebIO.importBlock({\"data\":[{\"name\":\"knockout\",\"type\":\"js\",\"url\":\"/assetserver/fd07f05e6f0e773c7ed9fa68e01084e25cfd3f7d-knockout.js\"},{\"name\":\"knockout_punches\",\"type\":\"js\",\"url\":\"/assetserver/fdfc8cc31c1ce53af7d64368e908ef5535b56da7-knockout_punches.js\"}],\"type\":\"async_block\"})).then((imports) => handler.apply(this, imports));\n}\n"
            ],
            "observables": {
             "changes": {
              "id": "10170339525023970505",
              "sync": false,
              "value": 0
             },
             "index": {
              "id": "13092098495876295200",
              "sync": true,
              "value": 2
             }
            },
            "systemjs_options": null
           },
           "nodeType": "Scope",
           "props": {},
           "type": "node"
          }
         ],
         "instanceArgs": {
          "namespace": "html",
          "tag": "div"
         },
         "nodeType": "DOM",
         "props": {
          "className": "field interact-widget"
         },
         "type": "node"
        },
        {
         "children": [
          {
           "children": [],
           "instanceArgs": {
            "id": "17706657916281865043",
            "name": "obs-node"
           },
           "nodeType": "ObservableNode",
           "props": {},
           "type": "node"
          }
         ],
         "instanceArgs": {
          "handlers": {},
          "id": "6061754119593120377",
          "imports": {
           "data": [],
           "type": "async_block"
          },
          "mount_callbacks": [],
          "observables": {
           "obs-node": {
            "id": "17706657916281865043",
            "sync": false,
            "value": {
             "children": [
              {
               "children": [],
               "instanceArgs": {
                "namespace": "html",
                "tag": "div"
               },
               "nodeType": "DOM",
               "props": {
                "setInnerHtml": "<img src='data:image/png;base64,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'></img>"
               },
               "type": "node"
              }
             ],
             "instanceArgs": {
              "namespace": "html",
              "tag": "div"
             },
             "nodeType": "DOM",
             "props": {
              "className": "interact-flex-row interact-widget"
             },
             "type": "node"
            }
           }
          },
          "systemjs_options": null
         },
         "nodeType": "Scope",
         "props": {},
         "type": "node"
        }
       ],
       "instanceArgs": {
        "namespace": "html",
        "tag": "div"
       },
       "nodeType": "DOM",
       "props": {},
       "type": "node"
      },
      "text/html": [
       "<div\n",
       "    class=\"webio-mountpoint\"\n",
       "    data-webio-mountpoint=\"2636270698834549684\"\n",
       ">\n",
       "    <script>\n",
       "    (function(){\n",
       "    // Some integrations (namely, IJulia/Jupyter) use an alternate render pathway than\n",
       "    // just putting the html on the page. If WebIO isn't defined, then it's pretty likely\n",
       "    // that we're in one of those situations and the integration just isn't installed\n",
       "    // correctly.\n",
       "    if (typeof window.WebIO === \"undefined\") {\n",
       "        document\n",
       "            .querySelector('[data-webio-mountpoint=\"2636270698834549684\"]')\n",
       "            .innerHTML = (\n",
       "                '<div style=\"padding: 1em; background-color: #f8d6da; border: 1px solid #f5c6cb; font-weight: bold;\">' +\n",
       "                '<p><strong>WebIO not detected.</strong></p>' +\n",
       "                '<p>Please read ' +\n",
       "                '<a href=\"https://juliagizmos.github.io/WebIO.jl/latest/troubleshooting/not-detected/\" target=\"_blank\">the troubleshooting guide</a> ' +\n",
       "                'for more information on how to resolve this issue.</p>' +\n",
       "                '<p><a href=\"https://juliagizmos.github.io/WebIO.jl/latest/troubleshooting/not-detected/\" target=\"_blank\">https://juliagizmos.github.io/WebIO.jl/latest/troubleshooting/not-detected/</a></p>' +\n",
       "                '</div>'\n",
       "            );\n",
       "        return;\n",
       "    }\n",
       "    WebIO.mount(\n",
       "        document.querySelector('[data-webio-mountpoint=\"2636270698834549684\"]'),\n",
       "        {\"props\":{},\"nodeType\":\"DOM\",\"type\":\"node\",\"instanceArgs\":{\"namespace\":\"html\",\"tag\":\"div\"},\"children\":[{\"props\":{\"className\":\"field interact-widget\"},\"nodeType\":\"DOM\",\"type\":\"node\",\"instanceArgs\":{\"namespace\":\"html\",\"tag\":\"div\"},\"children\":[{\"props\":{},\"nodeType\":\"Scope\",\"type\":\"node\",\"instanceArgs\":{\"imports\":{\"data\":[{\"name\":\"knockout\",\"type\":\"js\",\"url\":\"\\/assetserver\\/fd07f05e6f0e773c7ed9fa68e01084e25cfd3f7d-knockout.js\"},{\"name\":\"knockout_punches\",\"type\":\"js\",\"url\":\"\\/assetserver\\/fdfc8cc31c1ce53af7d64368e908ef5535b56da7-knockout_punches.js\"},{\"name\":null,\"type\":\"js\",\"url\":\"\\/assetserver\\/61f613675da75f539731913573998184b30434d8-all.js\"},{\"name\":null,\"type\":\"css\",\"url\":\"\\/assetserver\\/58abda19fb319e300ad7b22e44bebba074b4bb4d-style.css\"},{\"name\":null,\"type\":\"css\",\"url\":\"\\/assetserver\\/624890bd43acdf6da9d12dfb47a1c50d9dc9f836-bulma_confined.min.css\"}],\"type\":\"async_block\"},\"id\":\"2832485205718929356\",\"handlers\":{\"changes\":[\"(function (val){return (val!=this.model[\\\"changes\\\"]()) ? (this.valueFromJulia[\\\"changes\\\"]=true, this.model[\\\"changes\\\"](val)) : undefined})\"],\"index\":[\"(function (val){return (val!=this.model[\\\"index\\\"]()) ? (this.valueFromJulia[\\\"index\\\"]=true, this.model[\\\"index\\\"](val)) : undefined})\"]},\"systemjs_options\":null,\"mount_callbacks\":[\"function () {\\n    var handler = (function (ko, koPunches) {\\n    ko.punches.enableAll();\\n    ko.bindingHandlers.numericValue = {\\n        init: function(element, valueAccessor, allBindings, data, context) {\\n            var stringified = ko.observable(ko.unwrap(valueAccessor()));\\n            stringified.subscribe(function(value) {\\n                var val = parseFloat(value);\\n                if (!isNaN(val)) {\\n                    valueAccessor()(val);\\n                }\\n            });\\n            valueAccessor().subscribe(function(value) {\\n                var str = JSON.stringify(value);\\n                if ((str == \\\"0\\\") && ([\\\"-0\\\", \\\"-0.\\\"].indexOf(stringified()) >= 0))\\n                     return;\\n                 if ([\\\"null\\\", \\\"\\\"].indexOf(str) >= 0)\\n                     return;\\n                stringified(str);\\n            });\\n            ko.applyBindingsToNode(\\n                element,\\n                {\\n                    value: stringified,\\n                    valueUpdate: allBindings.get('valueUpdate'),\\n                },\\n                context,\\n            );\\n        }\\n    };\\n    var json_data = {\\\"formatted_vals\\\":[\\\"0\\\",\\\"50\\\",\\\"100\\\",\\\"150\\\",\\\"200\\\",\\\"250\\\",\\\"300\\\",\\\"350\\\",\\\"400\\\",\\\"450\\\",\\\"500\\\",\\\"550\\\",\\\"600\\\",\\\"650\\\",\\\"700\\\",\\\"750\\\",\\\"800\\\",\\\"850\\\",\\\"900\\\",\\\"950\\\",\\\"1000\\\",\\\"1050\\\",\\\"1100\\\",\\\"1150\\\",\\\"1200\\\",\\\"1250\\\",\\\"1300\\\",\\\"1350\\\",\\\"1400\\\",\\\"1450\\\",\\\"1500\\\",\\\"1550\\\",\\\"1600\\\",\\\"1650\\\",\\\"1700\\\",\\\"1750\\\",\\\"1800\\\",\\\"1850\\\",\\\"1900\\\",\\\"1950\\\",\\\"2000\\\",\\\"2050\\\",\\\"2100\\\",\\\"2150\\\",\\\"2200\\\",\\\"2250\\\",\\\"2300\\\",\\\"2350\\\",\\\"2400\\\",\\\"2450\\\",\\\"2500\\\",\\\"2550\\\",\\\"2600\\\",\\\"2650\\\",\\\"2700\\\",\\\"2750\\\",\\\"2800\\\",\\\"2850\\\",\\\"2900\\\",\\\"2950\\\",\\\"3000\\\",\\\"3050\\\",\\\"3100\\\",\\\"3150\\\",\\\"3200\\\",\\\"3250\\\",\\\"3300\\\",\\\"3350\\\",\\\"3400\\\",\\\"3450\\\",\\\"3500\\\",\\\"3550\\\",\\\"3600\\\",\\\"3650\\\",\\\"3700\\\",\\\"3750\\\",\\\"3800\\\",\\\"3850\\\",\\\"3900\\\",\\\"3950\\\",\\\"4000\\\",\\\"4050\\\",\\\"4100\\\",\\\"4150\\\",\\\"4200\\\",\\\"4250\\\",\\\"4300\\\",\\\"4350\\\",\\\"4400\\\",\\\"4450\\\",\\\"4500\\\",\\\"4550\\\",\\\"4600\\\",\\\"4650\\\",\\\"4700\\\",\\\"4750\\\",\\\"4800\\\",\\\"4850\\\",\\\"4900\\\",\\\"4950\\\"],\\\"changes\\\":WebIO.getval({\\\"name\\\":\\\"changes\\\",\\\"scope\\\":\\\"2832485205718929356\\\",\\\"id\\\":\\\"10170339525023970505\\\",\\\"type\\\":\\\"observable\\\"}),\\\"index\\\":WebIO.getval({\\\"name\\\":\\\"index\\\",\\\"scope\\\":\\\"2832485205718929356\\\",\\\"id\\\":\\\"13092098495876295200\\\",\\\"type\\\":\\\"observable\\\"})};\\n    var self = this;\\n    function AppViewModel() {\\n        for (var key in json_data) {\\n            var el = json_data[key];\\n            this[key] = Array.isArray(el) ? ko.observableArray(el) : ko.observable(el);\\n        }\\n        \\n        [this[\\\"formatted_val\\\"]=ko.computed(    function(){\\n        return this.formatted_vals()[parseInt(this.index())-(1)];\\n    }\\n,this)]\\n        [this[\\\"changes\\\"].subscribe((function (val){!(this.valueFromJulia[\\\"changes\\\"]) ? (WebIO.setval({\\\"name\\\":\\\"changes\\\",\\\"scope\\\":\\\"2832485205718929356\\\",\\\"id\\\":\\\"10170339525023970505\\\",\\\"type\\\":\\\"observable\\\"},val)) : undefined; return this.valueFromJulia[\\\"changes\\\"]=false}),self),this[\\\"index\\\"].subscribe((function (val){!(this.valueFromJulia[\\\"index\\\"]) ? (WebIO.setval({\\\"name\\\":\\\"index\\\",\\\"scope\\\":\\\"2832485205718929356\\\",\\\"id\\\":\\\"13092098495876295200\\\",\\\"type\\\":\\\"observable\\\"},val)) : undefined; return this.valueFromJulia[\\\"index\\\"]=false}),self)]\\n        \\n    }\\n    self.model = new AppViewModel();\\n    self.valueFromJulia = {};\\n    for (var key in json_data) {\\n        self.valueFromJulia[key] = false;\\n    }\\n    ko.applyBindings(self.model, self.dom);\\n}\\n);\\n    (WebIO.importBlock({\\\"data\\\":[{\\\"name\\\":\\\"knockout\\\",\\\"type\\\":\\\"js\\\",\\\"url\\\":\\\"\\/assetserver\\/fd07f05e6f0e773c7ed9fa68e01084e25cfd3f7d-knockout.js\\\"},{\\\"name\\\":\\\"knockout_punches\\\",\\\"type\\\":\\\"js\\\",\\\"url\\\":\\\"\\/assetserver\\/fdfc8cc31c1ce53af7d64368e908ef5535b56da7-knockout_punches.js\\\"}],\\\"type\\\":\\\"async_block\\\"})).then((imports) => handler.apply(this, imports));\\n}\\n\"],\"observables\":{\"changes\":{\"sync\":false,\"id\":\"10170339525023970505\",\"value\":0},\"index\":{\"sync\":true,\"id\":\"13092098495876295200\",\"value\":2}}},\"children\":[{\"props\":{\"className\":\"interact-flex-row interact-widget\"},\"nodeType\":\"DOM\",\"type\":\"node\",\"instanceArgs\":{\"namespace\":\"html\",\"tag\":\"div\"},\"children\":[{\"props\":{\"className\":\"interact-flex-row-left\"},\"nodeType\":\"DOM\",\"type\":\"node\",\"instanceArgs\":{\"namespace\":\"html\",\"tag\":\"div\"},\"children\":[{\"props\":{\"className\":\"interact \",\"style\":{\"padding\":\"5px 10px 0px 10px\"}},\"nodeType\":\"DOM\",\"type\":\"node\",\"instanceArgs\":{\"namespace\":\"html\",\"tag\":\"label\"},\"children\":[\"gauss step\"]}]},{\"props\":{\"className\":\"interact-flex-row-center\"},\"nodeType\":\"DOM\",\"type\":\"node\",\"instanceArgs\":{\"namespace\":\"html\",\"tag\":\"div\"},\"children\":[{\"props\":{\"max\":100,\"min\":1,\"attributes\":{\"type\":\"range\",\"data-bind\":\"numericValue: index, valueUpdate: 'input', event: {change: function (){this.changes(this.changes()+1)}}\",\"orient\":\"horizontal\"},\"step\":1,\"className\":\"slider slider is-fullwidth\",\"style\":{}},\"nodeType\":\"DOM\",\"type\":\"node\",\"instanceArgs\":{\"namespace\":\"html\",\"tag\":\"input\"},\"children\":[]}]},{\"props\":{\"className\":\"interact-flex-row-right\"},\"nodeType\":\"DOM\",\"type\":\"node\",\"instanceArgs\":{\"namespace\":\"html\",\"tag\":\"div\"},\"children\":[{\"props\":{\"attributes\":{\"data-bind\":\"text: formatted_val\"}},\"nodeType\":\"DOM\",\"type\":\"node\",\"instanceArgs\":{\"namespace\":\"html\",\"tag\":\"p\"},\"children\":[]}]}]}]}]},{\"props\":{},\"nodeType\":\"Scope\",\"type\":\"node\",\"instanceArgs\":{\"imports\":{\"data\":[],\"type\":\"async_block\"},\"id\":\"1845726493301250020\",\"handlers\":{},\"systemjs_options\":null,\"mount_callbacks\":[],\"observables\":{\"obs-node\":{\"sync\":false,\"id\":\"976394550807849523\",\"value\":{\"props\":{\"className\":\"interact-flex-row interact-widget\"},\"nodeType\":\"DOM\",\"type\":\"node\",\"instanceArgs\":{\"namespace\":\"html\",\"tag\":\"div\"},\"children\":[{\"props\":{\"setInnerHtml\":\"<img src='data:image\\/png;base64,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'><\\/img>\"},\"nodeType\":\"DOM\",\"type\":\"node\",\"instanceArgs\":{\"namespace\":\"html\",\"tag\":\"div\"},\"children\":[]}]}}}},\"children\":[{\"props\":{},\"nodeType\":\"ObservableNode\",\"type\":\"node\",\"instanceArgs\":{\"id\":\"976394550807849523\",\"name\":\"obs-node\"},\"children\":[]}]}]},\n",
       "        window,\n",
       "    );\n",
       "    })()\n",
       "    </script>\n",
       "</div>\n"
      ],
      "text/plain": [
       "Node{WebIO.DOM}(WebIO.DOM(:html, :div), Any[Node{WebIO.DOM}(WebIO.DOM(:html, :div), Any[Scope(Node{WebIO.DOM}(WebIO.DOM(:html, :div), Any[Node{WebIO.DOM}(WebIO.DOM(:html, :div), Any[Node{WebIO.DOM}(WebIO.DOM(:html, :label), Any[\"gauss step\"], Dict{Symbol, Any}(:className => \"interact \", :style => Dict{Any, Any}(:padding => \"5px 10px 0px 10px\")))], Dict{Symbol, Any}(:className => \"interact-flex-row-left\")), Node{WebIO.DOM}(WebIO.DOM(:html, :div), Any[Node{WebIO.DOM}(WebIO.DOM(:html, :input), Any[], Dict{Symbol, Any}(:max => 100, :min => 1, :attributes => Dict{Any, Any}(:type => \"range\", Symbol(\"data-bind\") => \"numericValue: index, valueUpdate: 'input', event: {change: function (){this.changes(this.changes()+1)}}\", \"orient\" => \"horizontal\"), :step => 1, :className => \"slider slider is-fullwidth\", :style => Dict{Any, Any}()))], Dict{Symbol, Any}(:className => \"interact-flex-row-center\")), Node{WebIO.DOM}(WebIO.DOM(:html, :div), Any[Node{WebIO.DOM}(WebIO.DOM(:html, :p), Any[], Dict{Symbol, Any}(:attributes => Dict(\"data-bind\" => \"text: formatted_val\")))], Dict{Symbol, Any}(:className => \"interact-flex-row-right\"))], Dict{Symbol, Any}(:className => \"interact-flex-row interact-widget\")), Dict{String, Tuple{Observables.AbstractObservable, Union{Nothing, Bool}}}(\"changes\" => (Observable{Int64} with 1 listeners. Value:\n",
       "0, nothing), \"index\" => (Observable{Any} with 2 listeners. Value:\n",
       "2, nothing)), Set{String}(), nothing, Asset[Asset(\"js\", \"knockout\", \"/Users/stevenj/.julia/packages/Knockout/3gjS1/src/../assets/knockout.js\"), Asset(\"js\", \"knockout_punches\", \"/Users/stevenj/.julia/packages/Knockout/3gjS1/src/../assets/knockout_punches.js\"), Asset(\"js\", nothing, \"/Users/stevenj/.julia/packages/InteractBase/o1I6G/src/../assets/all.js\"), Asset(\"css\", nothing, \"/Users/stevenj/.julia/packages/InteractBase/o1I6G/src/../assets/style.css\"), Asset(\"css\", nothing, \"/Users/stevenj/.julia/packages/Interact/pVyN2/src/../assets/bulma_confined.min.css\")], Dict{Any, Any}(\"changes\" => Any[WebIO.JSString(\"(function (val){return (val!=this.model[\\\"changes\\\"]()) ? (this.valueFromJulia[\\\"changes\\\"]=true, this.model[\\\"changes\\\"](val)) : undefined})\")], \"index\" => Any[WebIO.JSString(\"(function (val){return (val!=this.model[\\\"index\\\"]()) ? (this.valueFromJulia[\\\"index\\\"]=true, this.model[\\\"index\\\"](val)) : undefined})\")]), WebIO.ConnectionPool(Channel{Any}(32), Set{AbstractConnection}(), Condition(Base.InvasiveLinkedList{Task}(Task (runnable) @0x0000000114a80a90, Task (runnable) @0x0000000114a80a90), Base.AlwaysLockedST(1))), WebIO.JSString[WebIO.JSString(\"function () {\\n    var handler = (function (ko, koPunches) {\\n    ko.punches.enableAll();\\n    ko.bindingHandlers.numericValue = {\\n        init: function(element, valueAccessor, allBindings, data, context) {\\n            var stringified = ko.observable(ko.unwrap(valueAccessor()));\\n            stringified.subscribe(function(value) {\\n                var val = parseFloat(value);\\n                if (!isNaN(val)) {\\n                    valueAccessor()(val);\\n                }\\n            });\\n            valueAccessor().subscribe(function(value) {\\n                var str = JSON.stringify(value);\\n                if ((str == \\\"0\\\") && ([\\\"-0\\\", \\\"-0.\\\"].indexOf(stringified()) >= 0))\\n                     return;\\n                 if ([\\\"null\\\", \\\"\\\"].indexOf(str) >= 0)\\n                     return;\\n                stringified(str);\\n            });\\n            ko.applyBindingsToNode(\\n                element,\\n                {\\n                    value: stringified,\\n                    valueUpdate: allBindings.get('valueUpdate'),\\n                },\\n                context,\\n            );\\n        }\\n    };\\n    var json_data = {\\\"formatted_vals\\\":[\\\"0\\\",\\\"50\\\",\\\"100\\\",\\\"150\\\",\\\"200\\\",\\\"250\\\",\\\"300\\\",\\\"350\\\",\\\"400\\\",\\\"450\\\",\\\"500\\\",\\\"550\\\",\\\"600\\\",\\\"650\\\",\\\"700\\\",\\\"750\\\",\\\"800\\\",\\\"850\\\",\\\"900\\\",\\\"950\\\",\\\"1000\\\",\\\"1050\\\",\\\"1100\\\",\\\"1150\\\",\\\"1200\\\",\\\"1250\\\",\\\"1300\\\",\\\"1350\\\",\\\"1400\\\",\\\"1450\\\",\\\"1500\\\",\\\"1550\\\",\\\"1600\\\",\\\"1650\\\",\\\"1700\\\",\\\"1750\\\",\\\"1800\\\",\\\"1850\\\",\\\"1900\\\",\\\"1950\\\",\\\"2000\\\",\\\"2050\\\",\\\"2100\\\",\\\"2150\\\",\\\"2200\\\",\\\"2250\\\",\\\"2300\\\",\\\"2350\\\",\\\"2400\\\",\\\"2450\\\",\\\"2500\\\",\\\"2550\\\",\\\"2600\\\",\\\"2650\\\",\\\"2700\\\",\\\"2750\\\",\\\"2800\\\",\\\"2850\\\",\\\"2900\\\",\\\"2950\\\",\\\"3000\\\",\\\"3050\\\",\\\"3100\\\",\\\"3150\\\",\\\"3200\\\",\\\"3250\\\",\\\"3300\\\",\\\"3350\\\",\\\"3400\\\",\\\"3450\\\",\\\"3500\\\",\\\"3550\\\",\\\"3600\\\",\\\"3650\\\",\\\"3700\\\",\\\"3750\\\",\\\"3800\\\",\\\"3850\\\",\\\"3900\\\",\\\"3950\\\",\\\"4000\\\",\\\"4050\\\",\\\"4100\\\",\\\"4150\\\",\\\"4200\\\",\\\"4250\\\",\\\"4300\\\",\\\"4350\\\",\\\"4400\\\",\\\"4450\\\",\\\"4500\\\",\\\"4550\\\",\\\"4600\\\",\\\"4650\\\",\\\"4700\\\",\\\"4750\\\",\\\"4800\\\",\\\"4850\\\",\\\"4900\\\",\\\"4950\\\"],\\\"changes\\\":WebIO.getval({\\\"name\\\":\\\"changes\\\",\\\"scope\\\":\\\"2832485205718929356\\\",\\\"id\\\":\\\"10170339525023970505\\\",\\\"type\\\":\\\"observable\\\"}),\\\"index\\\":WebIO.getval({\\\"name\\\":\\\"index\\\",\\\"scope\\\":\\\"2832485205718929356\\\",\\\"id\\\":\\\"13092098495876295200\\\",\\\"type\\\":\\\"observable\\\"})};\\n    var self = this;\\n    function AppViewModel() {\\n        for (var key in json_data) {\\n            var el = json_data[key];\\n            this[key] = Array.isArray(el) ? ko.observableArray(el) : ko.observable(el);\\n        }\\n        \\n        [this[\\\"formatted_val\\\"]=ko.computed(    function(){\\n        return this.formatted_vals()[parseInt(this.index())-(1)];\\n    }\\n,this)]\\n        [this[\\\"changes\\\"].subscribe((function (val){!(this.valueFromJulia[\\\"changes\\\"]) ? (WebIO.setval({\\\"name\\\":\\\"changes\\\",\\\"scope\\\":\\\"2832485205718929356\\\",\\\"id\\\":\\\"10170339525023970505\\\",\\\"type\\\":\\\"observable\\\"},val)) : undefined; return this.valueFromJulia[\\\"changes\\\"]=false}),self),this[\\\"index\\\"].subscribe((function (val){!(this.valueFromJulia[\\\"index\\\"]) ? (WebIO.setval({\\\"name\\\":\\\"index\\\",\\\"scope\\\":\\\"2832485205718929356\\\",\\\"id\\\":\\\"13092098495876295200\\\",\\\"type\\\":\\\"observable\\\"},val)) : undefined; return this.valueFromJulia[\\\"index\\\"]=false}),self)]\\n        \\n    }\\n    self.model = new AppViewModel();\\n    self.valueFromJulia = {};\\n    for (var key in json_data) {\\n        self.valueFromJulia[key] = false;\\n    }\\n    ko.applyBindings(self.model, self.dom);\\n}\\n);\\n    (WebIO.importBlock({\\\"data\\\":[{\\\"name\\\":\\\"knockout\\\",\\\"type\\\":\\\"js\\\",\\\"url\\\":\\\"/assetserver/fd07f05e6f0e773c7ed9fa68e01084e25cfd3f7d-knockout.js\\\"},{\\\"name\\\":\\\"knockout_punches\\\",\\\"type\\\":\\\"js\\\",\\\"url\\\":\\\"/assetserver/fdfc8cc31c1ce53af7d64368e908ef5535b56da7-knockout_punches.js\\\"}],\\\"type\\\":\\\"async_block\\\"})).then((imports) => handler.apply(this, imports));\\n}\\n\")])], Dict{Symbol, Any}(:className => \"field interact-widget\")), Observable{Node{WebIO.DOM}} with 0 listeners. Value:\n",
       "Node{WebIO.DOM}(WebIO.DOM(:html, :div), Any[Figure(PyObject <Figure size 640x480 with 2 Axes>)], Dict{Symbol, Any}(:className => \"interact-flex-row interact-widget\"))], Dict{Symbol, Any}())"
      ]
     },
     "execution_count": 20,
     "metadata": {
      "application/vnd.webio.node+json": {
       "kernelId": "9b2c9a66-30c0-402b-982a-eb5446d43477"
      }
     },
     "output_type": "execute_result"
    }
   ],
   "source": [
    "m = 100\n",
    "Abig = randn(m,m)\n",
    "fig = figure()\n",
    "nsteps = (m*(m-1))÷2\n",
    "@manipulate for step in slider(0:50:nsteps, value=2, label=\"gauss step\")\n",
    "    withfig(fig) do\n",
    "        U, row, col = naive_gauss(Abig, step)\n",
    "        # I had to experiment a little to find a nice way to plot this\n",
    "        V = log10.(abs.(U) .+ 500)\n",
    "        V[abs.(U) .< 0.001] .= 0 # color small entries black\n",
    "        imshow(V, cmap=\"hot\", vmin=0, vmax=3)\n",
    "        title(\"step $step: column $col, row $row\")\n",
    "        colorbar(label=L\"\\log_{10}(|U_{i,j}| + 500)\")\n",
    "    end\n",
    "end"
   ]
  },
  {
   "cell_type": "markdown",
   "metadata": {},
   "source": [
    "Note that it takes a *lot* more steps of Gaussian elimination for a $100 \\times 100$ matrix (4950 steps) than for a $5 \\times 5$ matrix (10 steps).  Later on in 18.06, we will analyze the computational cost of Gaussian elimination and how it scales with the size of the matrix (in computer science, this is known as the [complexity](https://en.wikipedia.org/wiki/Computational_complexity_theory) of the algorithm)."
   ]
  },
  {
   "cell_type": "markdown",
   "metadata": {},
   "source": [
    "Another interesting example can be found in the [Machine Learning with Gaussian Elimination notebook](https://github.com/mitmath/1806/blob/master/notes/Machine-Learning-with-Gaussian-elimination.ipynb)."
   ]
  }
 ],
 "metadata": {
  "@webio": {
   "lastCommId": "2fd601eca7a144588a16fcb2f3b2ff62",
   "lastKernelId": "9b2c9a66-30c0-402b-982a-eb5446d43477"
  },
  "anaconda-cloud": {},
  "kernelspec": {
   "display_name": "Julia 1.7.1",
   "language": "julia",
   "name": "julia-1.7"
  },
  "language_info": {
   "file_extension": ".jl",
   "mimetype": "application/julia",
   "name": "julia",
   "version": "1.7.1"
  },
  "widgets": {
   "state": {
    "294167a6-1234-43dc-aef6-951949f1fac6": {
     "views": [
      {
       "cell_index": 26
      }
     ]
    },
    "41f7367b-0ad3-43e3-bd43-c6e4a1618e8d": {
     "views": [
      {
       "cell_index": 19
      }
     ]
    },
    "6e3620ec-4915-4734-8d3a-3332fdc63970": {
     "views": [
      {
       "cell_index": 16
      }
     ]
    },
    "ce72699c-d8cc-4a03-902b-a490178223e5": {
     "views": [
      {
       "cell_index": 17
      }
     ]
    },
    "db2d9825-08d3-4028-8072-1e865d1a0c4f": {
     "views": [
      {
       "cell_index": 23
      }
     ]
    }
   },
   "version": "1.2.0"
  }
 },
 "nbformat": 4,
 "nbformat_minor": 4
}
