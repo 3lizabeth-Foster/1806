{
 "cells": [
  {
   "cell_type": "markdown",
   "id": "19c52d5d",
   "metadata": {},
   "source": [
    "# 18.06 Pset 2\n",
    "\n",
    "Due Friday Feb 18 at 11am on Canvas.  Submit PDF(s) of your handwritten solutions along with your (clearly labeled) Julia code."
   ]
  },
  {
   "cell_type": "code",
   "execution_count": null,
   "id": "02de6e13",
   "metadata": {},
   "outputs": [],
   "source": [
    "using LinearAlgebra"
   ]
  },
  {
   "cell_type": "markdown",
   "id": "81863afa",
   "metadata": {},
   "source": [
    "## Problem 1 (10 points)\n",
    "\n",
    "Suppose that $A$ is a $4\\times 4$ matrix:\n",
    "$$\n",
    "A = \\begin{pmatrix} 1 & 3 & 2 & 5 \\\\\n",
    "                    -2  & 1 & 1 &  \\\\\n",
    "                    4 & 2 &  & \\\\\n",
    "                    -1 & & & \n",
    "                    \\end{pmatrix}             \n",
    "$$\n",
    "In Julia:"
   ]
  },
  {
   "cell_type": "code",
   "execution_count": null,
   "id": "de3ebfef",
   "metadata": {},
   "outputs": [],
   "source": [
    "A = [ 1 3 2 5\n",
    "     -2 1 1 0\n",
    "      4 2 0 0\n",
    "     -1 0 0 0 ]"
   ]
  },
  {
   "cell_type": "markdown",
   "id": "718459c0",
   "metadata": {},
   "source": [
    "This is similar to an upper-triangular matrix, except that it is \"flipped\" horizontally.   It doesn't matter in principle — we can still solve $Ax=b$ \"bottom to top\" similar to backsubstitution — but in practice it is often better to rewrite things in \"standard\" upper- or lower-triangular form because that's what all of the computer software is written to handle.\n",
    "\n",
    "**(a)** Convert $A$ into a standard *lower triangular* matrix, of the form\n",
    "$$\n",
    "L = \\begin{pmatrix} a & & & \\\\ b & c & & \\\\ d & e & f & \\\\ g & h & i & j \\end{pmatrix}\n",
    " = \\mbox{products of permutation matrix/matrices with }A\n",
    "$$\n",
    "as a product of $A$ with **one or more** permutation matrices on the **left and/or right**.\n",
    "\n",
    "… and enter your answer in Julia as a check:"
   ]
  },
  {
   "cell_type": "code",
   "execution_count": null,
   "id": "f44206e4",
   "metadata": {},
   "outputs": [],
   "source": [
    "L = # your answer here as a product of A with some other matrix/matrices"
   ]
  },
  {
   "cell_type": "markdown",
   "id": "bcfd6178",
   "metadata": {},
   "source": [
    "**(b)** Suppose that we want to solve $Ax = b$ for $b = [26,-1,10,-1]$.  Using your answer from (a), write $x = A^{-1} b$ in the following form:\n",
    "\n",
    "1. $y = $ something easy with $b$?\n",
    "2. forward-substitution solve of $Lz = y$ \n",
    "3. $x = $ something easy with $z$?"
   ]
  },
  {
   "cell_type": "markdown",
   "id": "84580e96",
   "metadata": {},
   "source": [
    "**(c)** Implement your answer from (b) in Julia and check it by filling in the outline below:"
   ]
  },
  {
   "cell_type": "code",
   "execution_count": null,
   "id": "e21ddc28",
   "metadata": {},
   "outputs": [],
   "source": [
    "using LinearAlgebra\n",
    "\n",
    "b = [26, -1, 10, -1]\n",
    "\n",
    "y = # something easy with b\n",
    "z = LowerTriangular(L) \\ y    # tells Julia to use forward-substitution\n",
    "x = # something easy with z"
   ]
  },
  {
   "cell_type": "code",
   "execution_count": null,
   "id": "d4eea575",
   "metadata": {},
   "outputs": [],
   "source": [
    "# compare it to naive solution:\n",
    "A \\ b"
   ]
  },
  {
   "cell_type": "markdown",
   "id": "5fccdd16",
   "metadata": {},
   "source": [
    "## Problem 2 (15 points)\n",
    "\n",
    "Suppose that we have the equation\n",
    "$$\n",
    "YX+XZ = \\underbrace{\\begin{pmatrix} 1 & 2 \\\\ -3 & 4 \\end{pmatrix}}_{Y} \\underbrace{\\begin{pmatrix} a & b \\\\ c & d \\end{pmatrix}}_X + X \\underbrace{\\begin{pmatrix} 5 & -6 \\\\ 7 & 8 \\end{pmatrix}}_Z = \\underbrace{\\begin{pmatrix} -7 & 21 \\\\ -3 & 3 \\end{pmatrix}}_{B}\n",
    "$$\n",
    "for the unknown $2\\times 2$ *matrix* $X$.\n",
    "\n",
    "**(a)** Explain why the left-hand side $YX+XZ$ is a *linear* operation (according to the definition in lecture 1) on $X$, where $X$ is viewed as a \"vector\" in the **vector space** of $2 \\times 2$ matrices.\n",
    "\n",
    "**(b)** If we re-arrange the 4 unknowns into a column vector $x = [a,b,c,d]$, write down a $4\\times 4$ matrix equation $Ax = b$ for $x$, i.e. write down the matrix $A$ and the vector $b$.\n",
    "\n",
    "**(c)** Enter your $A$ and $b$ in Julia and solve for $x$.   Using your `x`, form the matrix $X$ and check that $YX + XZ = B$ (up to roundoff errors)."
   ]
  },
  {
   "cell_type": "code",
   "execution_count": null,
   "id": "889951ea",
   "metadata": {},
   "outputs": [],
   "source": [
    "A = # your matrix here\n",
    "b = # your vector here\n",
    "x = A \\ b"
   ]
  },
  {
   "cell_type": "code",
   "execution_count": null,
   "id": "d90d286f",
   "metadata": {},
   "outputs": [],
   "source": [
    "X = # your solution here, in terms of x above.  e.g [ x[1] x[3]; x[4] x[2] ] or whatever\n",
    "\n",
    "Y = [1 2; -3 4]\n",
    "Z = [5 -6; 7 8]\n",
    "B = [-7 21; -3 3]\n",
    "\n",
    "Y*X + X*Z ≈ B # should return \"true\""
   ]
  },
  {
   "cell_type": "markdown",
   "id": "da9da92d",
   "metadata": {},
   "source": [
    "**(d)** If $X,Y,Z,B$ were all $n \\times n$ matrices and you followed the above strategy, solving $Ax=b$ with ordinary Gaussian elimination and not taking advantage of any special structure of $A$, how would the computational cost scale with $n$?   i.e. proportional to $n^2,n^3,n^4,\\ldots$?\n",
    "\n",
    "In fact, this is called a [Sylvester equation](https://en.wikipedia.org/wiki/Sylvester_equation) and there are fancier ways to solve it (not covered in 18.06) that require $\\sim n^3$ operations.   The following Julia code should give the same answer $X$ up to roundoff errors:"
   ]
  },
  {
   "cell_type": "code",
   "execution_count": null,
   "id": "dec3da73",
   "metadata": {},
   "outputs": [],
   "source": [
    "using LinearAlgebra # in case you didn't load this yet\n",
    "\n",
    "X_fast = sylvester(Y, Z, -B) # solves YX+XZ = B for X much more efficiently than above"
   ]
  },
  {
   "cell_type": "markdown",
   "id": "431096d8",
   "metadata": {},
   "source": [
    "## Problem 3 (12 points)\n",
    "\n",
    "Which of the following sets are vectors spaces (with the usual definition of $\\pm$ and multiplication by real scalars), and why?\n",
    "\n",
    "1. The set of 4-component vectors whose components sum to 1.\n",
    "2. The set of 2-component vectors whose components have product 0.\n",
    "3. The union of two subspaces $S$ and $T$: all vectors that are in *either* $S$ or $T$.\n",
    "4. The intersection of two subspaces $S$ and $T$: all vectors that are in *both* $S$ and $T$.\n",
    "5. Given a subspace $V$ of $\\mathbb{R}^n$ and an $m\\times n$ matrix $A$, the set of all vectors $Ax$ for all $x\\in V$.\n",
    "6. The set of all functions $f(x)$ such that the integral $\\int_{-\\infty}^\\infty e^{-x^2} f(x) dx$ is zero."
   ]
  },
  {
   "cell_type": "markdown",
   "id": "0dcda1fb",
   "metadata": {},
   "source": [
    "## Problem 4 (10 points)\n",
    "\n",
    "(From Strang, section 3.2, problem 30.)\n",
    "\n",
    "How is the nullspace $N(C)$ related to $N(A)$ and $N(B)$ if $C = \\begin{pmatrix} A \\\\ B \\end{pmatrix}$?  ($A$ is $m \\times n$ and $B$ is $p \\times n$.)"
   ]
  },
  {
   "cell_type": "markdown",
   "id": "adfa008b",
   "metadata": {},
   "source": [
    "## Problem 5 (10 points)\n",
    "\n",
    "Explain why $N(B)$ must be a subspace of $N(AB)$ for any $m \\times n$ matrix $A$ and any $n \\times p$ matrix $B$."
   ]
  },
  {
   "cell_type": "markdown",
   "id": "30dba232",
   "metadata": {},
   "source": [
    "## Problem 6 (10 points)\n",
    "\n",
    "In lecture 6, I said that in writing\n",
    "$$\n",
    "b = A\\begin{pmatrix} x_1 \\\\ x_2 \\\\ x_3 \\end{pmatrix} = \\begin{pmatrix} 2 \\\\ 0 \\\\ 0 \\end{pmatrix} x_1 + \\begin{pmatrix} 1 \\\\ 3 \\\\ 0 \\end{pmatrix} x_2 + \\begin{pmatrix} 0 \\\\ 2 \\\\ 0 \\end{pmatrix} x_3\n",
    "$$\n",
    "the third vector $[0,2,0]$ is redundant.\n",
    "\n",
    "Explain how, for any $[x_1,x_2,x_3]$ above, we can write the *same* vector $b$ as:\n",
    "$$\n",
    "b = A\\begin{pmatrix} x_1 \\\\ x_2 \\\\ x_3 \\end{pmatrix} = \\begin{pmatrix} 2 \\\\ 0 \\\\ 0 \\end{pmatrix} x_1' + \\begin{pmatrix} 1 \\\\ 3 \\\\ 0 \\end{pmatrix} x_2'\n",
    "$$\n",
    "for some $[x_1', x_2']$.  That is, give a formula for $[x_1', x_2']$ in terms of $[x_1,x_2,x_3]$."
   ]
  },
  {
   "cell_type": "markdown",
   "id": "bdd2e20d",
   "metadata": {},
   "source": [
    "## Problem 7 (12 points)\n",
    "\n",
    "**(a)** Find the special solutions (a basis for the null space) for the matrix\n",
    "$$\n",
    "A = \\begin{pmatrix} 1 & 2 & 3 & 4 \\\\ 1 & 2 & 4 & 6 \\\\ 0 & 0 & 1 & 2 \\end{pmatrix} .\n",
    "$$\n",
    "\n",
    "**(b)** How does your answer change if you insert a column of 0's between the 1st and 2nd columns of $A$ (so that $A$ now has 5 columns, one of which is all 0's)?\n",
    "\n",
    "**(c)** How does your answer change if you insert a *row* of zeros between the 1st and 2nd rows (so that $A$ now has 4 rows, one of which is all zeros)?"
   ]
  }
 ],
 "metadata": {
  "kernelspec": {
   "display_name": "Julia 1.7.1",
   "language": "julia",
   "name": "julia-1.7"
  },
  "language_info": {
   "file_extension": ".jl",
   "mimetype": "application/julia",
   "name": "julia",
   "version": "1.7.1"
  }
 },
 "nbformat": 4,
 "nbformat_minor": 5
}
