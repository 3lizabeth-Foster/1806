{
 "cells": [
  {
   "cell_type": "markdown",
   "id": "643c923e",
   "metadata": {},
   "source": [
    "# Problem Set 3\n",
    "\n",
    "This abbreviated pset is due at 11am on **Wednesday Feb 23**.   The material on this pset *may be* on exam 1 (Feb. 25)."
   ]
  },
  {
   "cell_type": "markdown",
   "id": "8211c8f6",
   "metadata": {},
   "source": [
    "## Problem 1\n",
    "\n",
    "**(a)** Does $C(A)$ necessarily *contain* the $C(AB)$ or vice versa?  (That is, is $C(A) \\subseteq C(AB)$ or $C(AB) \\subseteq C(A)$?)\n",
    "\n",
    "**(b)** Give an example of a square matrix $A$ where $C(A^2)$ is lower-dimensional than $C(A)$.\n",
    "\n",
    "**(c)** If $V$ is the set of polynomials $f(x)$ of degree $< 4$, consider the *derivative* linear operator $d/dx$ acting on $V$.   Give a basis for $N(d/dx)$ and $C(d/dx)$, the null and column spaces of this operator for inputs in $V$."
   ]
  },
  {
   "cell_type": "markdown",
   "id": "0e426ac9",
   "metadata": {},
   "source": [
    "## Problem 2\n",
    "\n",
    "Come up with a matrix $A$ and a vector $b\\ne 0$  such that the solutions $x$ of $Ax=b$ form a line in $\\mathbb{R}^3$, where all of the entries of $A$ are nonzero. Find the complete solution (i.e., all solutions).\n",
    "\n",
    "(i.e. come up with your own homework problem — how do you think Gil Strang does it?)"
   ]
  },
  {
   "cell_type": "markdown",
   "id": "c2dc4d3e",
   "metadata": {},
   "source": [
    "## Problem 3\n",
    "\n",
    "The following matrix is from **problem 7(a)** of pset 2.  Feel free to re-use the pset–2 solutions as needed.\n",
    "$$\n",
    "A = \\begin{pmatrix} 1 & 2 & 3 & 4 \\\\ 1 & 2 & 4 & 6 \\\\ 0 & 0 & 1 & 2 \\end{pmatrix} \n",
    "$$\n",
    "\n",
    "**(a)** Give the dimensionality and a basis for $C(A)$.\n",
    "\n",
    "**(b)** If $b = \\begin{pmatrix} \\alpha \\\\ 6 \\\\ 1 \\end{pmatrix}$, for what values of $\\alpha$ will $Ax=b$ have a solution?\n",
    "\n",
    "**(c)** For the $\\alpha$ from (b), give the *complete* solution to $Ax=b$."
   ]
  }
 ],
 "metadata": {
  "kernelspec": {
   "display_name": "Julia 1.7.2",
   "language": "julia",
   "name": "julia-1.7"
  },
  "language_info": {
   "file_extension": ".jl",
   "mimetype": "application/julia",
   "name": "julia",
   "version": "1.7.2"
  }
 },
 "nbformat": 4,
 "nbformat_minor": 5
}
