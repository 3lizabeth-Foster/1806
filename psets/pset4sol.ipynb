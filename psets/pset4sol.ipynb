{
 "cells": [
  {
   "cell_type": "markdown",
   "id": "b5d9071c",
   "metadata": {},
   "source": [
    "# 18.06 Problem Set 4\n",
    "\n",
    "Due Friday, March 4 at 11am."
   ]
  },
  {
   "cell_type": "markdown",
   "id": "ae11de17",
   "metadata": {},
   "source": [
    "## Problem 1 (10+5)\n",
    "\n",
    "Suppose, $x,y,a,b$ are $n$-component column vectors.  Then we can compute the following scalar $\\alpha$:\n",
    "\n",
    "$$\n",
    "    \\alpha = a^T (y x^T + x y^T) b\n",
    "$$\n",
    "\n",
    "**(a)** Find a vector $c$ (made from $y,a,b$) such that we get the *same* $\\alpha$ from:\n",
    "$$\n",
    "\\alpha = c^T x\n",
    "$$\n",
    "\n",
    "(Fun fact: *Any* scalar that is a *linear* function of $x$ can be written as a dot product like this.  The fancy name for this idea is the [Riesz representation theorem](https://en.wikipedia.org/wiki/Riesz_representation_theorem).)\n"
   ]
  },
  {
   "cell_type": "markdown",
   "id": "ae6fcca6",
   "metadata": {},
   "source": [
    "**(b)** Check your answer in Julia for some random vectors.  Note that $x^T$ in Julia is written as `x'` for real column vectors and matrices."
   ]
  },
  {
   "cell_type": "markdown",
   "id": "fdbb55c3",
   "metadata": {},
   "source": [
    "## 1(a) solution\n",
    "First, we expand the expresion of $\\alpha$, getting $\\alpha=(a^Ty)(x^Tb)+(a^Tx)(y^Tb)$, where we've used parentheses to help identify the scalar dot-product terms.   Now, our goal is to move the $x$ terms to the right.\n",
    "\n",
    "Since  $x^Tb$ is a scalar, we have $x^Tb=b^Tx$. Since  $y^Tb$ is a scalar, we have $(a^Tx)(y^Tb)=(y^Tb)(a^Tx)$. \n",
    "\n",
    "In conclusion, we find $\\alpha=(a^Ty)(b^Tx)+(y^Tb)(a^Tx)=(a^Tyb^T+y^Tba^T)x$. Thus $c=(a^Tyb^T+y^Tba^T)^T=\\boxed{b(y^Ta)+a(b^Ty)}$. \n",
    "\n",
    "## 1(b) solution"
   ]
  },
  {
   "cell_type": "code",
   "execution_count": 1,
   "id": "82f2e06d",
   "metadata": {},
   "outputs": [
    {
     "data": {
      "text/plain": [
       "-938"
      ]
     },
     "execution_count": 1,
     "metadata": {},
     "output_type": "execute_result"
    }
   ],
   "source": [
    "a = [1,2,7,3]\n",
    "b = [9,-2,4,5]\n",
    "y = [0,2,3,1]\n",
    "x = [-3,2,4,-5]\n",
    "\n",
    "α = a' * (y * x' + x * y') * b # write aᵀ(yxᵀ+xyᵀ)b in Julia"
   ]
  },
  {
   "cell_type": "code",
   "execution_count": 2,
   "id": "1aabc155",
   "metadata": {},
   "outputs": [
    {
     "data": {
      "text/plain": [
       "true"
      ]
     },
     "execution_count": 2,
     "metadata": {},
     "output_type": "execute_result"
    }
   ],
   "source": [
    "c = b * (y' * a) + a * (b' * y) # our formula in terms of a, b, y\n",
    "\n",
    "# this should output \"true\":\n",
    "c' * x ≈ α"
   ]
  },
  {
   "cell_type": "markdown",
   "id": "e035e207",
   "metadata": {},
   "source": [
    "Hooray, it matches as desired.\n",
    "\n",
    "(Since the result is an exact integer with no roundoff errors, we could have equivalently checked for exact equality with `c' * x == α` rather than using `≈`.)"
   ]
  },
  {
   "cell_type": "markdown",
   "id": "65ba3c74",
   "metadata": {},
   "source": [
    "## Problem 2 (10+10+5)\n",
    "\n",
    "Let $f(x)$ be the function:\n",
    "\n",
    "$$\n",
    "f(x) = \\Vert (B + xx^T)^{-1} b \\Vert\n",
    "$$\n",
    "\n",
    "where $B$ is an $n \\times n$ matrix, and $b$ is an $n$-component column vector, and the input $x$ is an $n$-component column vector.\n",
    "\n",
    "**(a)** Give a formula for $df = f(x+dx) - f(x)$, i.e. to first order in $dx$, as a linear operation on $dx$. (Your answer will have matrix inverses in it; that's okay.)\n",
    "\n",
    "It might be helpful to break this into steps (a.k.a. a chain rule):\n",
    "\n",
    "1. What is $d(\\sqrt{\\alpha})$ for a small $d\\alpha$, i.e. to first order in the change in the scalar $\\alpha$?  (Just 18.01!)\n",
    "2. In class, we saw $d(y^T y) = 2y^T dy$.  So what is $d\\Vert y\\Vert = d\\sqrt{y^T y}$ to first order in $dy$, the change for a small change $dy$ in $y$?\n",
    "4. What is $d(xx^T)$ to first order in $dx$?  (Product rule!)\n",
    "5. In class, we saw that $d(A^{-1}) = -A^{-1} dA A^{-1}$.  So what is $d\\left[(B + xx^T)^{-1} b \\right]$ to first order in $dx$?\n",
    "6. Put it all together to write $df$ to first order in $dx$.\n",
    "\n",
    "**(b)** Using your answer from problem 1, write $df = (\\mbox{some vector})^T dx$, and hence give a formula for $\\nabla f$.\n",
    "\n",
    "**(c)** Check your $\\nabla f$ formula by comparing it the numerically computed $f(x+dx) - f(x)$ for a small arbitrary $dx \\in \\mathbb{R}^4$."
   ]
  },
  {
   "cell_type": "markdown",
   "id": "15d821fb",
   "metadata": {},
   "source": [
    "### Solution of 2(a)\n",
    "1. $d\\sqrt{\\alpha}= (\\sqrt{\\alpha})' d\\alpha = \\boxed{\\frac{d\\alpha}{2\\sqrt{\\alpha}}}$.   (That is, we just used 18.01 to linearize $d\\sqrt{\\alpha} = \\sqrt{\\alpha + d\\alpha} - \\sqrt{\\alpha}$ via the derivative $(\\sqrt{\\alpha})' = 1/2\\sqrt{\\alpha}$.)\n",
    "2. Put $\\alpha=y^Ty$ in the above formula, we get $$d\\lVert y\\rVert=\\frac{d(y^Ty)}{2\\lVert y\\rVert}=\\boxed{\\frac{y^T dy}{\\lVert y\\rVert}}. $$\n",
    "3. From the product rule, we have $d(xx^T)=dx\\, x^T+x d(x^T)=\\boxed{dx\\, x^T+x(dx)^T}$.    (Note that $d(x^T) = (x+dx)^T - x^T = (dx)^T$ by linearity of the transpose.)\n",
    "4. From the product rule, since $db=0$, we have $d\\bigl((B + xx^T)^{-1} b \\bigr)=d\\bigl((B + xx^T)^{-1}\\bigr)b$. Hence $dy$ equals to \n",
    "$$-(B + xx^T)^{-1}d(B + xx^T)(B + xx^T)^{-1}b, $$\n",
    "where we let $y=(B + xx^T)^{-1} b$. \n",
    "Since $dB=0$, the above result is further simplified to be $$\\boxed{-(B + xx^T)^{-1}\\bigl(dx\\, x^T+x(dx)^T\\bigr)y}. $$\n",
    "5. We put $y=(B + xx^T)^{-1} b$ in the second formula, and get $$df=\\frac{y^Tdy}{f(x)}=\\boxed{-\\frac{y^T(B + xx^T)^{-1}\\bigl(dx\\, x^T+x(dx)^T\\bigr)y}{f(x)}}. $$"
   ]
  },
  {
   "cell_type": "markdown",
   "id": "6ac6abc2",
   "metadata": {},
   "source": [
    "### Solution of 2(b)\n",
    "\n",
    "The key thing is to realize that $dx\\,x^T + x(dx)^T$ is multiplied by a column vector $y$ on the right and by a row vector on the left, so we can apply our formula from problem 1.\n",
    "\n",
    "The row vector on the left is $z^T = -y^T (B+xx^T)^{-1} / f(x)$, i.e. $z = -(B^T+xx^T)^{-1} y / f(x)$.  Hence, we have $df = z^T \\left( dx\\,x^T + x(dx)^T \\right) y$, which by problem 1 simplifies to:\n",
    "$$\n",
    "{\\underbrace{\\left[ y(x^Tz)+z(y^Tx) \\right]}_{\\nabla f}}^T dx\n",
    "$$\n",
    "and hence $\\nabla f$ is $y(x^Tz)+z(y^Tx) = [yx^T + (y^T x)I] z$ (which could be written in several ways):\n",
    "$$\n",
    "\\nabla f = \\boxed{- \\frac{\\left[yx^T + (y^T x)I \\right] (B^T+xx^T)^{-1} y }{f(x)}} .\n",
    "$$"
   ]
  },
  {
   "cell_type": "markdown",
   "id": "346ed549",
   "metadata": {},
   "source": [
    "### Solution of 2(c)"
   ]
  },
  {
   "cell_type": "code",
   "execution_count": 3,
   "id": "8d3855ce",
   "metadata": {},
   "outputs": [
    {
     "data": {
      "text/plain": [
       "8.416810981515255e-6"
      ]
     },
     "execution_count": 3,
     "metadata": {},
     "output_type": "execute_result"
    }
   ],
   "source": [
    "using LinearAlgebra\n",
    "\n",
    "# some B matrix and b vector\n",
    "B = [3   5   6  6\n",
    "     2  -2  -5  8\n",
    "     4   3   2  2\n",
    "     5  -8  -1  3]\n",
    "b = [1,-1,2,-2]\n",
    "\n",
    "f(x) = norm((B + x*x') \\ b) # = ‖(B+xxᵀ)⁻¹b‖\n",
    "\n",
    "# random test inputs:\n",
    "x = [1,-2,4,6]\n",
    "dx = [-3,5,0,2] * 1e-8 # a small change in x\n",
    "\n",
    "f(x + dx) - f(x)"
   ]
  },
  {
   "cell_type": "code",
   "execution_count": 4,
   "id": "564bee0c",
   "metadata": {},
   "outputs": [
    {
     "data": {
      "text/plain": [
       "4-element Vector{Float64}:\n",
       " 17.396551724138078\n",
       " -1.6206896551724292\n",
       "  1.9655172413793267\n",
       " -6.948275862069026"
      ]
     },
     "execution_count": 4,
     "metadata": {},
     "output_type": "execute_result"
    }
   ],
   "source": [
    "y = (B + x*x') \\ b"
   ]
  },
  {
   "cell_type": "code",
   "execution_count": 5,
   "id": "e06e111f",
   "metadata": {},
   "outputs": [
    {
     "data": {
      "text/plain": [
       "8.416807484728842e-6"
      ]
     },
     "execution_count": 5,
     "metadata": {},
     "output_type": "execute_result"
    }
   ],
   "source": [
    "∇f = -(1/f(x)) * (y*x' + (x'*y) * I) * ((B' + x*x')\\y)# your formula from (a)\n",
    "\n",
    "# this should match f(x+dx)-f(x) above,\n",
    "# at least to a few digits:\n",
    "df = ∇f'*dx "
   ]
  },
  {
   "cell_type": "markdown",
   "id": "3f22e740",
   "metadata": {},
   "source": [
    "It matches, pretty well, but not exactly to about 6 significant digits:"
   ]
  },
  {
   "cell_type": "code",
   "execution_count": 6,
   "id": "eb4fb4e4",
   "metadata": {},
   "outputs": [
    {
     "data": {
      "text/plain": [
       "4.15452820896041e-7"
      ]
     },
     "execution_count": 6,
     "metadata": {},
     "output_type": "execute_result"
    }
   ],
   "source": [
    "approx_df = f(x + dx) - f(x)\n",
    "exact_df = ∇f'*dx\n",
    "abs(approx_df - exact_df) / abs(exact_df) # fractional or \"relative\" error"
   ]
  },
  {
   "cell_type": "markdown",
   "id": "492ed543",
   "metadata": {},
   "source": [
    "We shouldn't expect a better match than this because `dx` here is *small* but *not infinitesimal*.    So `f(x + dx) - f(x)` is **not exactly** equal to the derivative times `dx`.   It is a [finite-difference approximation](https://en.wikipedia.org/wiki/Finite_difference) to the derivative.\n",
    "\n",
    "See also [lecture 3, part 2](https://github.com/mitmath/matrixcalc#lecture-3-jan-14) of our matrix-calculus course from IAP 2022."
   ]
  },
  {
   "cell_type": "markdown",
   "id": "6c037759",
   "metadata": {},
   "source": [
    "## Problem 3 (10+5+5+5)\n",
    "\n",
    "Let $A_0= \\begin{pmatrix}\n",
    "3 & 1 & 2\\\\\n",
    "7 & 3 & -2\\\\\n",
    "-2 & -5 & 4\\\\\n",
    "\\end{pmatrix}$, and consider the *nonlinear* function\n",
    "$$\n",
    "g(x) = \\underbrace{\\begin{pmatrix} x_1 & & \\\\ & x_2 & \\\\ & & x_3 \\end{pmatrix}}_{\\mathrm{Diagonal}(x)\\mbox{ in Julia}} A_0 x + x - \\begin{pmatrix} 1 \\\\ 1 \\\\ 1 \\end{pmatrix}\n",
    "$$\n",
    "\n",
    "Here, you will solve the nonlinear equations $g(x) = \\vec{0}$ using Newton's method.\n",
    "\n",
    "**(a)** Write down the $3\\times 3$ Jacobian matrix $g'(x)$ as a function of $x$.\n",
    "\n",
    "**(b)** Write a Julia function `J(x)` below that computes your Jacobian formula from (a).\n",
    "\n",
    "**(c)** Check that `g(x+dx) ≈ J(x)*dx` for a small `dx` at some `x`.\n",
    "\n",
    "**(d)** Plug your Jacobian, along with the provided `g(x)` function, into the Newton iteration below, and use the starting guess $x = (1,1,1)$.   Give the resulting solution to at least 5 significant digits (in every component)."
   ]
  },
  {
   "cell_type": "markdown",
   "id": "207379d8",
   "metadata": {},
   "source": [
    "### Solution of 3(a)\n",
    "\n",
    "Let's denote $\\mathrm{Diagonal}(x)$ by $\\mathrm{diag}(x)$, for brevity.   Note that $d(\\text{diag}(x)) = \\text{diag](x + dx) - \\text{diag](x) = \\text{diag](dx)$.\n",
    "\n",
    "Since $g(x)=\\text{diag}(x)A_0x+x-1$, we have\n",
    "\n",
    "$$dg(x)=d(\\text{diag}(x))A_0x+\\text{diag}(x)A_0dx+dx=\\text{diag}(dx)A_0x+\\text{diag}(x)A_0dx+dx \\, .$$ \n",
    "\n",
    "Notice that $\\text{diag}(a)b$ is just the component-wise product of $a$ and $b$, so we have $\\text{diag}(a)b=\\text{diag}(b)a$. \n",
    "Thus:\n",
    "\n",
    "$$dg(x)=\\text{diag}(A_0x)dx+\\text{diag}(x)A_0dx+dx=\\bigl(\\text{diag}(A_0x)+\\text{diag}(x)A_0+I\\bigr)dx$$\n",
    "\n",
    "and hence:\n",
    "\n",
    "$$g'(x)=\\boxed{\\text{diag}(A_0x)+\\text{diag}(x)A_0+I} . $$"
   ]
  },
  {
   "cell_type": "markdown",
   "id": "69d617e3",
   "metadata": {},
   "source": [
    "### Solution of 3(b)"
   ]
  },
  {
   "cell_type": "code",
   "execution_count": 7,
   "id": "d2d51ea4",
   "metadata": {},
   "outputs": [
    {
     "data": {
      "text/plain": [
       "g (generic function with 1 method)"
      ]
     },
     "execution_count": 7,
     "metadata": {},
     "output_type": "execute_result"
    }
   ],
   "source": [
    "using LinearAlgebra\n",
    "\n",
    "A₀ = [3 1 2; 7 3 -2; -2 -5 4]\n",
    "\n",
    "g(x) = Diagonal(x) * (A₀*x) + x .- 1"
   ]
  },
  {
   "cell_type": "code",
   "execution_count": 8,
   "id": "fd45925e",
   "metadata": {},
   "outputs": [
    {
     "data": {
      "text/plain": [
       "3×3 Matrix{Int64}:\n",
       " 15    1   2\n",
       " 14   14  -4\n",
       " -6  -15  13"
      ]
     },
     "execution_count": 8,
     "metadata": {},
     "output_type": "execute_result"
    }
   ],
   "source": [
    "J(x) = Diagonal(A₀ * x) + Diagonal(x) * A₀ + I # your answer from (b)\n",
    "\n",
    "J([1,2,3]) # try it — this should give a 3x3 matrix"
   ]
  },
  {
   "cell_type": "markdown",
   "id": "42102a6a",
   "metadata": {},
   "source": [
    "### Solution of 3(c)"
   ]
  },
  {
   "cell_type": "code",
   "execution_count": 9,
   "id": "99c78c29",
   "metadata": {},
   "outputs": [
    {
     "data": {
      "text/plain": [
       "3-element Vector{Float64}:\n",
       "  2.633208602276227e-7\n",
       " -1.0793489657601185e-7\n",
       "  3.9174144816911394e-8"
      ]
     },
     "execution_count": 9,
     "metadata": {},
     "output_type": "execute_result"
    }
   ],
   "source": [
    "x = randn(3)\n",
    "dx = randn(3) * 1e-8\n",
    "\n",
    "g(x+dx) - g(x)"
   ]
  },
  {
   "cell_type": "code",
   "execution_count": 10,
   "id": "bf94e2af",
   "metadata": {},
   "outputs": [
    {
     "data": {
      "text/plain": [
       "3-element Vector{Float64}:\n",
       "  2.6332085894549496e-7\n",
       " -1.0793489378176674e-7\n",
       "  3.9174142869503106e-8"
      ]
     },
     "execution_count": 10,
     "metadata": {},
     "output_type": "execute_result"
    }
   ],
   "source": [
    "J(x) * dx # this should match g(x+dx) - g(x) to a few digits"
   ]
  },
  {
   "cell_type": "markdown",
   "id": "23a2e367",
   "metadata": {},
   "source": [
    "As in problem 2c, this does **not** match exactly because `dx` is **small but not infinitesimal**, but matches to quite a few significant digits:"
   ]
  },
  {
   "cell_type": "code",
   "execution_count": 11,
   "id": "88ebc647",
   "metadata": {},
   "outputs": [
    {
     "data": {
      "text/plain": [
       "1.2668479872663542e-8"
      ]
     },
     "execution_count": 11,
     "metadata": {},
     "output_type": "execute_result"
    }
   ],
   "source": [
    "approx_dg = g(x+dx) - g(x)\n",
    "exact_dg = J(x) * dx \n",
    "norm(approx_dg - exact_dg) / norm(exact_dg) # fractional or \"relative\" error"
   ]
  },
  {
   "cell_type": "markdown",
   "id": "059d6803",
   "metadata": {},
   "source": [
    "Checking against finite-difference approximations like this is *always* a good idea when computing complicated derivatives by hand, because it is quite easy to make mistakes.  A bug in your derivative code will almost always give a huge mismatch in the derivative, so a crude check like this is fine."
   ]
  },
  {
   "cell_type": "markdown",
   "id": "3ba46b36",
   "metadata": {},
   "source": [
    "### Solution of 3(d): Newton iteration"
   ]
  },
  {
   "cell_type": "code",
   "execution_count": 12,
   "id": "129a5949",
   "metadata": {},
   "outputs": [
    {
     "name": "stdout",
     "output_type": "stream",
     "text": [
      "x = [1, 1, 1]\n",
      "g(x) = [6, 8, -3]\n",
      "\n",
      "x = [0.38888888888888895, 0.7222222222222222, 1.1944444444444444]\n",
      "g(x) = [1.0524691358024696, 1.5277777777777781, 0.6589506172839501]\n",
      "\n",
      "x = [0.29521557410237326, 0.42675822525240636, 0.7651521622715932]\n",
      "g(x) = [0.13442762387231522, 0.20195573737161787, 0.022538924170478092]\n",
      "\n",
      "x = [0.27616346456373086, 0.3805238232380848, 0.713167520051225]\n",
      "g(x) = [0.003950645721066737, 0.007771942336304738, -0.0031886163236364284]\n",
      "\n",
      "x = [0.2755084320562215, 0.3787394184213428, 0.7122008856233119]\n",
      "g(x) = [3.722399865679904e-6, 1.428446952234097e-5, -6.153161123179096e-6]\n",
      "\n",
      "x = [0.27550808219966877, 0.3787354883129502, 0.7121989245327538]\n",
      "g(x) = [3.114397628678489e-12, 4.054756530535997e-11, -2.4525048658574633e-11]\n",
      "\n",
      "x = [0.2755080822002063, 0.37873548830102655, 0.7121989245287167]\n",
      "g(x) = [0.0, 0.0, -2.220446049250313e-16]\n",
      "\n",
      "x = [0.2755080822002063, 0.37873548830102655, 0.7121989245287168]\n",
      "g(x) = [0.0, -1.1102230246251565e-16, 2.220446049250313e-16]\n",
      "\n",
      "x = [0.2755080822002063, 0.37873548830102655, 0.7121989245287168]\n",
      "g(x) = [0.0, -1.1102230246251565e-16, 2.220446049250313e-16]\n",
      "\n",
      "x = [0.2755080822002063, 0.37873548830102655, 0.7121989245287168]\n",
      "g(x) = [0.0, -1.1102230246251565e-16, 2.220446049250313e-16]\n",
      "\n"
     ]
    }
   ],
   "source": [
    "x = [1,1,1] # initial guess\n",
    "\n",
    "# run 10 iterations of Newton's method\n",
    "for i = 1:10\n",
    "    # show some output:\n",
    "    @show x\n",
    "    @show g(x)\n",
    "    println()\n",
    "\n",
    "    x = x - J(x) \\ g(x)\n",
    "end"
   ]
  },
  {
   "cell_type": "markdown",
   "id": "328f4e64",
   "metadata": {},
   "source": [
    "Note, as in class, that it converges extremely quickly, as can be seen by how rapidly $g(x)$ is going to zero.\n",
    "\n",
    "It requires only 5 iterations to get the requested 5 significant digits, and the resulting solution is $\\boxed{x = [0.27551, 0.37874, 0.71220]}$. \n",
    "\n",
    "In 10 iterations, we have the solution to almost 15 digits, or [machine precision](https://en.wikipedia.org/wiki/Machine_epsilon): it is limited by the roundoff errors stemming from the finite number of digits that are used in computer arithmetic."
   ]
  },
  {
   "cell_type": "markdown",
   "id": "81f98c96",
   "metadata": {},
   "source": [
    "## Problem 4 (10+5)\n",
    "\n",
    "In problem 3 of pset 3, you considered $Ax = b$ for\n",
    "$$\n",
    "A = \\begin{pmatrix} 1 & 2 & 3 & 4 \\\\ 1 & 2 & 4 & 6 \\\\ 0 & 0 & 1 & 2 \\end{pmatrix}, \\qquad b = \\begin{pmatrix} \\alpha \\\\ 6 \\\\ 1 \\end{pmatrix}\n",
    "$$\n",
    "and found that it only has solutions for $\\alpha = 5$.\n",
    "\n",
    "**(a)** Find a basis for $N(A^T)$, the left nullspace.\n",
    "\n",
    "**(b)** Because $N(A^T)^\\perp = C(A)$, the equation $Ax = b$ only has solutions when $b$ is perpendicular to a basis for $N(A^T)$.   Plug in your answer from (a) to check that it is orthogonal to $b$ only when $\\alpha = 5$, consistent with your solution in pset 3."
   ]
  },
  {
   "cell_type": "markdown",
   "id": "99382dd6",
   "metadata": {},
   "source": [
    "### Solution of 4(a)\n",
    "Note that $A^T=\\begin{pmatrix}1&1&0\\\\2&2&0\\\\3&4&1\\\\4&6&2\\end{pmatrix}$. After a row operation, it is simplified to $U = \\begin{pmatrix}1&1&0\\\\0&0&0\\\\0&1&1\\\\0&0&0\\end{pmatrix}.$  This has rank 2, and 1 special solution\n",
    "$$\n",
    "x = \\begin{pmatrix} p_1 \\\\ p_2 \\\\ 1 \\end{pmatrix}\n",
    "$$\n",
    "Plugging this into $Ux = 0$, we obtain the equations for the pivot variables\n",
    "$$\n",
    "\\begin{pmatrix} 1 & 1 \\\\ 0 & 1 \\end{pmatrix} \\begin{pmatrix} p_1 \\\\ p_2  \\end{pmatrix} = \\begin{pmatrix} 0 \\\\ -1  \\end{pmatrix} \n",
    "$$\n",
    "and hence, by backsubstitution, $p_2 = -1$ and $p_1 = 1$.\n",
    "\n",
    "Hence the special solution basis for $N(A^T)$ is $\\boxed{\\begin{pmatrix}1\\\\-1\\\\1\\end{pmatrix}}$. "
   ]
  },
  {
   "cell_type": "markdown",
   "id": "a4694dde",
   "metadata": {},
   "source": [
    "### Solution of 4(b)\n",
    "$\\begin{pmatrix}1\\\\-1\\\\1\\end{pmatrix}$ being orthogonal to $b$ is equivalent to $1\\times\\alpha + (-1) \\times 6 + 1\\times 1=0$, which gives $\\boxed{\\alpha=5}$ exactly as in pset 3."
   ]
  },
  {
   "cell_type": "markdown",
   "id": "ff5c6a4a",
   "metadata": {},
   "source": [
    "## Problem 5 (10)\n",
    "\n",
    "Suppose $S$ is spanned by (1,2,3) and (4,5,6). Then $S^\\perp$  is the nullspace of what matrix?"
   ]
  },
  {
   "cell_type": "markdown",
   "id": "cd7d89a4",
   "metadata": {},
   "source": [
    "### Solution of 5\n",
    "From the definition of column spaces, we have $S$ is the column space of $A=\\begin{pmatrix}1&4\\\\2&5\\\\3&6\\end{pmatrix}$. From what we know in the class, we have $C(A)^\\perp = N(A^T)$. Thus $S^\\perp$ is the nullspace of $A^T=\\boxed{\\begin{pmatrix}1&2&3\\\\4&5&6\\end{pmatrix}}$. "
   ]
  }
 ],
 "metadata": {
  "@webio": {
   "lastCommId": null,
   "lastKernelId": null
  },
  "kernelspec": {
   "display_name": "Julia 1.7.1",
   "language": "julia",
   "name": "julia-1.7"
  },
  "language_info": {
   "file_extension": ".jl",
   "mimetype": "application/julia",
   "name": "julia",
   "version": "1.7.1"
  }
 },
 "nbformat": 4,
 "nbformat_minor": 5
}
