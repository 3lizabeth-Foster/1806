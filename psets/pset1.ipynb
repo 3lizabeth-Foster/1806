{
 "cells": [
  {
   "cell_type": "markdown",
   "id": "19c52d5d",
   "metadata": {},
   "source": [
    "# 18.06 Pset 1\n",
    "\n",
    "Due Friday Sep 16 at 11am on Gradescope.  Submit a decent-quality **scan** of any handwritten solutions (e.g. get a scanner app on your phone), and a PDF printout of your Jupyter notebook showing any code and (clearly labeled) results."
   ]
  },
  {
   "cell_type": "markdown",
   "id": "81863afa",
   "metadata": {},
   "source": [
    "## Problem 1\n",
    "\n",
    "TBD"
   ]
  }
 ],
 "metadata": {
  "kernelspec": {
   "display_name": "Julia 1.7.1",
   "language": "julia",
   "name": "julia-1.7"
  },
  "language_info": {
   "file_extension": ".jl",
   "mimetype": "application/julia",
   "name": "julia",
   "version": "1.7.1"
  }
 },
 "nbformat": 4,
 "nbformat_minor": 5
}
