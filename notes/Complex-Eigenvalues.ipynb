{
 "cells": [
  {
   "cell_type": "code",
   "execution_count": 1,
   "id": "daf301ca",
   "metadata": {},
   "outputs": [],
   "source": [
    "using LinearAlgebra, PyPlot"
   ]
  },
  {
   "cell_type": "markdown",
   "id": "9ef14131",
   "metadata": {},
   "source": [
    "# Real matrices and complex λ\n",
    "\n",
    "A *real* matrix can easily have *complex* eigenvalues, because (as you know from the quadratic formula), real polynomials such as $\\det(A - \\lambda I)$ can have complex roots.\n",
    "\n",
    "Here is a randomly chosen $5 \\times 5$ real matrix, for example:"
   ]
  },
  {
   "cell_type": "code",
   "execution_count": 2,
   "id": "c200018a",
   "metadata": {},
   "outputs": [
    {
     "data": {
      "text/plain": [
       "5×5 Matrix{Int64}:\n",
       "  0  -9   5  -4   7\n",
       " -2   2   0  -5  -9\n",
       "  4   9   7   5   2\n",
       "  5   0  -7   5  -4\n",
       "  2   1  -3  -8   0"
      ]
     },
     "execution_count": 2,
     "metadata": {},
     "output_type": "execute_result"
    }
   ],
   "source": [
    "A = [   0  -9   5  -4   7\n",
    "       -2   2   0  -5  -9\n",
    "        4   9   7   5   2\n",
    "        5   0  -7   5  -4\n",
    "        2   1  -3  -8   0   ]"
   ]
  },
  {
   "cell_type": "code",
   "execution_count": 3,
   "id": "d1e5bb05",
   "metadata": {},
   "outputs": [
    {
     "data": {
      "text/plain": [
       "5-element Vector{ComplexF64}:\n",
       " -5.616265073910875 - 8.089914555646233im\n",
       " -5.616265073910875 + 8.089914555646233im\n",
       "  7.593939120984211 + 0.0im\n",
       "  8.819295513418766 - 4.439554583783142im\n",
       "  8.819295513418766 + 4.439554583783142im"
      ]
     },
     "execution_count": 3,
     "metadata": {},
     "output_type": "execute_result"
    }
   ],
   "source": [
    "λ = eigvals(A)"
   ]
  },
  {
   "cell_type": "code",
   "execution_count": 4,
   "id": "7616535b",
   "metadata": {},
   "outputs": [
    {
     "data": {
      "text/plain": [
       "reim_axes (generic function with 1 method)"
      ]
     },
     "execution_count": 4,
     "metadata": {},
     "output_type": "execute_result"
    }
   ],
   "source": [
    "# a little function to plot the complex axes nicely\n",
    "function reim_axes(ax)\n",
    "    ax.axis(\"equal\")\n",
    "\n",
    "    # Move left y-axis and bottim x-axis to centre, passing through (0,0)\n",
    "    ax.spines[\"left\"].set_position(\"center\")\n",
    "    ax.spines[\"bottom\"].set_position(\"center\")\n",
    "\n",
    "    # Eliminate upper and right axes\n",
    "    ax.spines[\"right\"].set_color(\"none\")\n",
    "    ax.spines[\"top\"].set_color(\"none\")\n",
    "\n",
    "    # Show ticks in the left and lower axes only\n",
    "    ax.xaxis.set_ticks_position(\"bottom\")\n",
    "    ax.yaxis.set_ticks_position(\"left\")\n",
    "\n",
    "    xlabel(L\"\\operatorname{Re} \\lambda\")\n",
    "    ax.xaxis.set_label_coords(1.04, 0.52)\n",
    "\n",
    "    ylabel(L\"\\operatorname{Im} \\lambda\", rotation=0)\n",
    "    ax.yaxis.set_label_coords(0.5, 1.02)\n",
    "end"
   ]
  },
  {
   "cell_type": "code",
   "execution_count": 5,
   "id": "8005a935",
   "metadata": {},
   "outputs": [
    {
     "data": {
      "image/png": "[encoded data removed]",
      "text/plain": [
       "Figure(PyObject <Figure size 640x480 with 1 Axes>)"
      ]
     },
     "metadata": {},
     "output_type": "display_data"
    },
    {
     "name": "stderr",
     "output_type": "stream",
     "text": [
      "┌ Warning: `vendor()` is deprecated, use `BLAS.get_config()` and inspect the output instead\n",
      "│   caller = npyinitialize() at numpy.jl:67\n",
      "└ @ PyCall /Users/stevenj/.julia/packages/PyCall/L0fLP/src/numpy.jl:67\n"
     ]
    },
    {
     "data": {
      "text/plain": [
       "PyObject <matplotlib.legend.Legend object at 0x13ffd1f70>"
      ]
     },
     "execution_count": 5,
     "metadata": {},
     "output_type": "execute_result"
    }
   ],
   "source": [
    "plot(real.(λ), imag.(λ), \"bo\", label=L\"$\\lambda$ of real $A$\")\n",
    "\n",
    "reim_axes(gca())\n",
    "legend()"
   ]
  },
  {
   "cell_type": "markdown",
   "id": "7634b76f",
   "metadata": {},
   "source": [
    "The **complex eigenvalues** of a real matrix come in **complex-conjugate pairs**:\n",
    "\n",
    "The **eigenvectors** also come in conjugate pairs:"
   ]
  },
  {
   "cell_type": "code",
   "execution_count": 6,
   "id": "b4bf1e5c",
   "metadata": {},
   "outputs": [
    {
     "data": {
      "text/plain": [
       "5×2 Matrix{ComplexF64}:\n",
       "  0.111042-0.466655im   0.111042+0.466655im\n",
       "  0.486281-0.0im        0.486281+0.0im\n",
       " -0.363772+0.179752im  -0.363772-0.179752im\n",
       "  0.115521+0.375451im   0.115521-0.375451im\n",
       "  0.322662+0.332225im   0.322662-0.332225im"
      ]
     },
     "execution_count": 6,
     "metadata": {},
     "output_type": "execute_result"
    }
   ],
   "source": [
    "X = eigvecs(A)\n",
    "X[:,1:2] # the first two eigenvectors, corresponding to λ ≈ -5.6 ± 8.1i"
   ]
  },
  {
   "cell_type": "markdown",
   "id": "8ca8465b",
   "metadata": {},
   "source": [
    "This fact is easy to derive.   If $A$ is a real matrix (so $\\bar{A}=A$) and we have an eigensolution, we can just take the complex-conjugate of both sides:\n",
    "\n",
    "$$\n",
    "Ax = \\lambda x \\implies \\overline{Ax} = \\boxed{A \\bar{x}} = \\overline{\\lambda x} = \\boxed{\\bar{\\lambda} \\bar{x}}\n",
    "$$\n",
    "\n",
    "so the **complex-conjugate of any eigensolution is also an eigensolution** for any **real matrix**."
   ]
  },
  {
   "cell_type": "markdown",
   "id": "65aa3367",
   "metadata": {},
   "source": [
    "# Complex matrices and complex λ\n",
    "\n",
    "Of course, complex matrices will have complex λ as well, but they have **no particular symmetry** in general.\n",
    "\n",
    "For example, here is a randomly chosen $5\\times 5$ complex matrix $B$:"
   ]
  },
  {
   "cell_type": "code",
   "execution_count": 7,
   "id": "e5ee70c2",
   "metadata": {},
   "outputs": [
    {
     "data": {
      "text/plain": [
       "5×5 Matrix{Complex{Int64}}:\n",
       " -4+6im   4+3im   2+5im   6+9im   0+0im\n",
       " -3+4im   4+3im  -6-3im   5+0im   9+5im\n",
       "  8+3im  -3-6im   6-3im  -9-5im   4+8im\n",
       "  9+9im   9+0im   2-1im   5+2im   7+9im\n",
       " -4-9im   0+0im   6+4im  -2-6im  -4-5im"
      ]
     },
     "execution_count": 7,
     "metadata": {},
     "output_type": "execute_result"
    }
   ],
   "source": [
    "B = [ -4+6im   4+3im   2+5im   6+9im   0+0im\n",
    "      -3+4im   4+3im  -6-3im   5+0im   9+5im\n",
    "       8+3im  -3-6im   6-3im  -9-5im   4+8im\n",
    "       9+9im   9+0im   2-1im   5+2im   7+9im\n",
    "      -4-9im   0+0im   6+4im  -2-6im  -4-5im ]"
   ]
  },
  {
   "cell_type": "code",
   "execution_count": 8,
   "id": "64fe3bb1",
   "metadata": {},
   "outputs": [
    {
     "data": {
      "image/png": "[encoded data removed]",
      "text/plain": [
       "Figure(PyObject <Figure size 640x480 with 1 Axes>)"
      ]
     },
     "metadata": {},
     "output_type": "display_data"
    },
    {
     "data": {
      "text/plain": [
       "PyObject <matplotlib.legend.Legend object at 0x166554520>"
      ]
     },
     "execution_count": 8,
     "metadata": {},
     "output_type": "execute_result"
    }
   ],
   "source": [
    "λ_B = eigvals(B)\n",
    "\n",
    "plot(real.(λ_B), imag.(λ_B), \"ro\", label=L\"$\\lambda$ of complex $B$\")\n",
    "\n",
    "reim_axes(gca())\n",
    "legend()"
   ]
  }
 ],
 "metadata": {
  "@webio": {
   "lastCommId": null,
   "lastKernelId": null
  },
  "kernelspec": {
   "display_name": "Julia 1.7.1",
   "language": "julia",
   "name": "julia-1.7"
  },
  "language_info": {
   "file_extension": ".jl",
   "mimetype": "application/julia",
   "name": "julia",
   "version": "1.7.1"
  }
 },
 "nbformat": 4,
 "nbformat_minor": 5
}
