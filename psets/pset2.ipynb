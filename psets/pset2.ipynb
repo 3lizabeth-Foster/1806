{
 "cells": [
  {
   "cell_type": "markdown",
   "metadata": {},
   "source": [
    "# 18.06 Spring2019 pset 2 (under construction)\n",
    "\n",
    "## due Wednesday  2/20 at 4:55pm"
   ]
  },
  {
   "cell_type": "markdown",
   "metadata": {},
   "source": [
    "## 1. (Real) Vector Spaces\n",
    "\n",
    "a) If $v$ is a vector in any vector space, what is the complete list of vectors that must also be in this vector space?\n",
    "\n",
    "b) Must a vector space contain a zero vector?  Why?\n",
    "\n",
    "c) What is the zero vector in $R^4$? in $R^{2,3}$? What is the zero function?  What is the zero  (differntial) operator from functions to functions? (Hint: The zero  operator takes in an arbitrary function and returns....)\n",
    "\n",
    "d) State in words the difference between the zero function and the zero operator, as they seem so similar."
   ]
  },
  {
   "cell_type": "markdown",
   "metadata": {},
   "source": [
    "## 2. Am I a vector space?  (The basic question here is whether every linear combination is in the space.  If there is no zero, then I'm for sure not a vector space.)"
   ]
  },
  {
   "cell_type": "markdown",
   "metadata": {},
   "source": [
    "## 3. Subspace"
   ]
  },
  {
   "cell_type": "markdown",
   "metadata": {},
   "source": [
    "## 4. Nullspace"
   ]
  },
  {
   "cell_type": "markdown",
   "metadata": {},
   "source": [
    "## 5. Column Space"
   ]
  },
  {
   "cell_type": "markdown",
   "metadata": {},
   "source": [
    "## 6. Using the SVD\n",
    "\n",
    "In this class we may not prove the SVD exists, or even teach you how to calculate it.  It is your professor's pedagogical belief that every student someday should learn to prove it exists, or even how it is calculated numerically, but not necessarily in an introductory class.  I would rather you learned how to interpret it and over the course of the semester see all the things it is good for, and there is only so much time in a semester. Feel free to tell me a) good plan I believe you or b) good plan, I might look up the computation some day or c) bad plan, I just got to calculate a small case, or I just can't believe it.  (No wrong answer here, I expect all answers.)"
   ]
  },
  {
   "cell_type": "markdown",
   "metadata": {},
   "source": [
    "## 7. Something applied with the SVD"
   ]
  },
  {
   "cell_type": "markdown",
   "metadata": {},
   "source": [
    "## 8. Rank "
   ]
  },
  {
   "cell_type": "markdown",
   "metadata": {},
   "source": [
    "## 9. Solving Ax=b"
   ]
  },
  {
   "cell_type": "markdown",
   "metadata": {},
   "source": [
    "## 10. The Complete Solution to Ax=b"
   ]
  },
  {
   "cell_type": "code",
   "execution_count": null,
   "metadata": {},
   "outputs": [],
   "source": []
  }
 ],
 "metadata": {
  "kernelspec": {
   "display_name": "Julia 1.0.0",
   "language": "julia",
   "name": "julia-1.0"
  },
  "language_info": {
   "file_extension": ".jl",
   "mimetype": "application/julia",
   "name": "julia",
   "version": "1.0.0"
  }
 },
 "nbformat": 4,
 "nbformat_minor": 2
}
