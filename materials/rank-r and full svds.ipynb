{
 "cells": [
  {
   "cell_type": "code",
   "execution_count": 1,
   "metadata": {},
   "outputs": [],
   "source": [
    "using LinearAlgebra"
   ]
  },
  {
   "cell_type": "code",
   "execution_count": 51,
   "metadata": {},
   "outputs": [
    {
     "data": {
      "text/plain": [
       "rankrsvd (generic function with 1 method)"
      ]
     },
     "execution_count": 51,
     "metadata": {},
     "output_type": "execute_result"
    }
   ],
   "source": [
    "function fullsvd(A) \n",
    "    U,s,V = svd(A, full = true)  # compute svd\n",
    "    Σ = Diagonal(s)              # create diagonal matrix\n",
    "    display(U);display(Σ);display(V) # display the answer\n",
    "    return(U,Σ,V)                # return the answer\n",
    "end\n",
    "\n",
    "\n",
    "function rankrsvd(A) \n",
    "    U,s,V = svd(A, full = true)  # compute svd\n",
    "    r = sum(s.>1e-8)                # how many positive?\n",
    "    U₁ = U[:,1:r]\n",
    "    Σᵣ = zeros(size(A))\n",
    "    for i=1:r,  Σᵣ[i,i]=s[i];end\n",
    "    V₁ = V[:,1:r]\n",
    "    display(U₁);display(Σᵣ);display(V₁) # display the answer\n",
    "    return(U₁,Σᵣ,V₁)                # return the answer\n",
    "end"
   ]
  },
  {
   "cell_type": "markdown",
   "metadata": {},
   "source": [
    "## 1. random 2x2 matrix"
   ]
  },
  {
   "cell_type": "code",
   "execution_count": 52,
   "metadata": {},
   "outputs": [
    {
     "data": {
      "text/plain": [
       "2×2 Array{Float64,2}:\n",
       " 0.430456  0.0791978\n",
       " 0.378891  0.108732 "
      ]
     },
     "execution_count": 52,
     "metadata": {},
     "output_type": "execute_result"
    }
   ],
   "source": [
    "A = rand(2,2)"
   ]
  },
  {
   "cell_type": "code",
   "execution_count": 53,
   "metadata": {},
   "outputs": [
    {
     "data": {
      "text/plain": [
       "2×2 Array{Float64,2}:\n",
       " -0.743231  -0.669035\n",
       " -0.669035   0.743231"
      ]
     },
     "metadata": {},
     "output_type": "display_data"
    },
    {
     "data": {
      "text/plain": [
       "2×2 Diagonal{Float64,Array{Float64,1}}:\n",
       " 0.588329   ⋅       \n",
       "  ⋅        0.0285503"
      ]
     },
     "metadata": {},
     "output_type": "display_data"
    },
    {
     "data": {
      "text/plain": [
       "2×2 Adjoint{Float64,Array{Float64,2}}:\n",
       " -0.974659  -0.223698\n",
       " -0.223698   0.974659"
      ]
     },
     "metadata": {},
     "output_type": "display_data"
    }
   ],
   "source": [
    "fullsvd(A);"
   ]
  },
  {
   "cell_type": "code",
   "execution_count": 54,
   "metadata": {},
   "outputs": [
    {
     "data": {
      "text/plain": [
       "2×2 Array{Float64,2}:\n",
       " -0.743231  -0.669035\n",
       " -0.669035   0.743231"
      ]
     },
     "metadata": {},
     "output_type": "display_data"
    },
    {
     "data": {
      "text/plain": [
       "2×2 Array{Float64,2}:\n",
       " 0.588329  0.0      \n",
       " 0.0       0.0285503"
      ]
     },
     "metadata": {},
     "output_type": "display_data"
    },
    {
     "data": {
      "text/plain": [
       "2×2 Array{Float64,2}:\n",
       " -0.974659  -0.223698\n",
       " -0.223698   0.974659"
      ]
     },
     "metadata": {},
     "output_type": "display_data"
    }
   ],
   "source": [
    "rankrsvd(A);"
   ]
  },
  {
   "cell_type": "markdown",
   "metadata": {},
   "source": [
    "## 2. random 3x2 matrix"
   ]
  },
  {
   "cell_type": "code",
   "execution_count": 55,
   "metadata": {},
   "outputs": [
    {
     "data": {
      "text/plain": [
       "3×2 Array{Float64,2}:\n",
       " 0.656842  0.689149\n",
       " 0.709886  0.038647\n",
       " 0.976548  0.197604"
      ]
     },
     "execution_count": 55,
     "metadata": {},
     "output_type": "execute_result"
    }
   ],
   "source": [
    "A = rand(3,2)"
   ]
  },
  {
   "cell_type": "code",
   "execution_count": 56,
   "metadata": {},
   "outputs": [
    {
     "data": {
      "text/plain": [
       "3×3 Array{Float64,2}:\n",
       " -0.590491   0.794436  -0.142094\n",
       " -0.456709  -0.474104  -0.752757\n",
       " -0.665385  -0.379601   0.64278 "
      ]
     },
     "metadata": {},
     "output_type": "display_data"
    },
    {
     "data": {
      "text/plain": [
       "2×2 Diagonal{Float64,Array{Float64,1}}:\n",
       " 1.471   ⋅      \n",
       "  ⋅     0.490552"
      ]
     },
     "metadata": {},
     "output_type": "display_data"
    },
    {
     "data": {
      "text/plain": [
       "2×2 Adjoint{Float64,Array{Float64,2}}:\n",
       " -0.925797  -0.378021\n",
       " -0.378021   0.925797"
      ]
     },
     "metadata": {},
     "output_type": "display_data"
    }
   ],
   "source": [
    "fullsvd(A);"
   ]
  },
  {
   "cell_type": "code",
   "execution_count": 57,
   "metadata": {},
   "outputs": [
    {
     "data": {
      "text/plain": [
       "3×2 Array{Float64,2}:\n",
       " -0.590491   0.794436\n",
       " -0.456709  -0.474104\n",
       " -0.665385  -0.379601"
      ]
     },
     "metadata": {},
     "output_type": "display_data"
    },
    {
     "data": {
      "text/plain": [
       "3×2 Array{Float64,2}:\n",
       " 1.471  0.0     \n",
       " 0.0    0.490552\n",
       " 0.0    0.0     "
      ]
     },
     "metadata": {},
     "output_type": "display_data"
    },
    {
     "data": {
      "text/plain": [
       "2×2 Array{Float64,2}:\n",
       " -0.925797  -0.378021\n",
       " -0.378021   0.925797"
      ]
     },
     "metadata": {},
     "output_type": "display_data"
    }
   ],
   "source": [
    "rankrsvd(A);"
   ]
  },
  {
   "cell_type": "markdown",
   "metadata": {},
   "source": [
    "## 3. random 2x3 matrix"
   ]
  },
  {
   "cell_type": "code",
   "execution_count": 58,
   "metadata": {},
   "outputs": [
    {
     "data": {
      "text/plain": [
       "2×3 Array{Float64,2}:\n",
       " 0.880263  0.581473  0.63899 \n",
       " 0.980413  0.140558  0.283384"
      ]
     },
     "execution_count": 58,
     "metadata": {},
     "output_type": "execute_result"
    }
   ],
   "source": [
    "A = rand(2,3)"
   ]
  },
  {
   "cell_type": "code",
   "execution_count": 59,
   "metadata": {},
   "outputs": [
    {
     "data": {
      "text/plain": [
       "2×2 Array{Float64,2}:\n",
       " -0.774649  -0.632391\n",
       " -0.632391   0.774649"
      ]
     },
     "metadata": {},
     "output_type": "display_data"
    },
    {
     "data": {
      "text/plain": [
       "2×2 Diagonal{Float64,Array{Float64,1}}:\n",
       " 1.56217   ⋅      \n",
       "  ⋅       0.377082"
      ]
     },
     "metadata": {},
     "output_type": "display_data"
    },
    {
     "data": {
      "text/plain": [
       "3×3 Adjoint{Float64,Array{Float64,2}}:\n",
       " -0.833394   0.537829  -0.12726 \n",
       " -0.345242  -0.686414  -0.640034\n",
       " -0.431582  -0.489465   0.757735"
      ]
     },
     "metadata": {},
     "output_type": "display_data"
    }
   ],
   "source": [
    "fullsvd(A);"
   ]
  },
  {
   "cell_type": "code",
   "execution_count": 60,
   "metadata": {},
   "outputs": [
    {
     "data": {
      "text/plain": [
       "2×2 Array{Float64,2}:\n",
       " -0.774649  -0.632391\n",
       " -0.632391   0.774649"
      ]
     },
     "metadata": {},
     "output_type": "display_data"
    },
    {
     "data": {
      "text/plain": [
       "2×3 Array{Float64,2}:\n",
       " 1.56217  0.0       0.0\n",
       " 0.0      0.377082  0.0"
      ]
     },
     "metadata": {},
     "output_type": "display_data"
    },
    {
     "data": {
      "text/plain": [
       "3×2 Array{Float64,2}:\n",
       " -0.833394   0.537829\n",
       " -0.345242  -0.686414\n",
       " -0.431582  -0.489465"
      ]
     },
     "metadata": {},
     "output_type": "display_data"
    }
   ],
   "source": [
    "rankrsvd(A);"
   ]
  },
  {
   "cell_type": "markdown",
   "metadata": {},
   "source": [
    "## 4. rank 3, 7x10 matrix"
   ]
  },
  {
   "cell_type": "code",
   "execution_count": 61,
   "metadata": {},
   "outputs": [
    {
     "data": {
      "text/plain": [
       "7×10 Array{Float64,2}:\n",
       " 0.930672  2.35675   0.965621  0.823958  …  1.4458    1.62409   1.29048 \n",
       " 0.315908  0.827526  0.366524  0.315184     0.493389  0.596159  0.450122\n",
       " 0.769409  1.79242   0.532503  0.446302     1.18626   1.0532    0.978546\n",
       " 0.365596  1.05974   0.52129   0.462317     0.586578  0.820747  0.545711\n",
       " 0.580624  1.29765   0.623938  0.484805     0.852198  0.933669  0.842997\n",
       " 0.648379  1.69982   0.826753  0.701694  …  1.00363   1.28117   0.955619\n",
       " 0.268488  0.652024  0.177796  0.156791     0.422202  0.376156  0.333613"
      ]
     },
     "execution_count": 61,
     "metadata": {},
     "output_type": "execute_result"
    }
   ],
   "source": [
    "A = rand(7,3)*rand(3,10) # this should be rank 3"
   ]
  },
  {
   "cell_type": "code",
   "execution_count": 62,
   "metadata": {},
   "outputs": [
    {
     "data": {
      "text/plain": [
       "7×7 Array{Float64,2}:\n",
       " -0.594999  -0.0320969   0.183814   …   0.517075  -0.109497   0.280394\n",
       " -0.210266  -0.122385    0.0919266      0.062611  -0.699138  -0.646761\n",
       " -0.440776   0.725916    0.126282      -0.405822  -0.12681    0.17321 \n",
       " -0.269941  -0.433273    0.357454      -0.670699   0.195663  -0.129672\n",
       " -0.342771  -0.0122256  -0.876694      -0.153057   0.111462  -0.191944\n",
       " -0.438442  -0.446363   -0.0310657  …   0.107589   0.175752   0.206312\n",
       " -0.157763   0.26443     0.21091        0.281394   0.633671  -0.613886"
      ]
     },
     "metadata": {},
     "output_type": "display_data"
    },
    {
     "data": {
      "text/plain": [
       "7×7 Diagonal{Float64,Array{Float64,1}}:\n",
       " 8.16895   ⋅         ⋅         ⋅           …   ⋅            ⋅         \n",
       "  ⋅       0.454117   ⋅         ⋅               ⋅            ⋅         \n",
       "  ⋅        ⋅        0.267467   ⋅               ⋅            ⋅         \n",
       "  ⋅        ⋅         ⋅        4.92228e-16      ⋅            ⋅         \n",
       "  ⋅        ⋅         ⋅         ⋅               ⋅            ⋅         \n",
       "  ⋅        ⋅         ⋅         ⋅           …  1.20117e-16   ⋅         \n",
       "  ⋅        ⋅         ⋅         ⋅               ⋅           9.57633e-17"
      ]
     },
     "metadata": {},
     "output_type": "display_data"
    },
    {
     "data": {
      "text/plain": [
       "10×10 Adjoint{Float64,Array{Float64,2}}:\n",
       " -0.193863   0.233586   -0.166706    …  -0.0740145   0.152865   -0.00736664\n",
       " -0.482966   0.138467    0.229937        0.0941578  -0.483474    0.207729  \n",
       " -0.199713  -0.539075   -0.263273        0.552687   -0.252394   -0.0515281 \n",
       " -0.168517  -0.482316   -0.0437798      -0.339925   -0.352867   -0.0622758 \n",
       " -0.454474   0.0161877   0.0240535      -0.287339    0.254391    0.138186  \n",
       " -0.382142   0.120008    0.551107    …  -0.105996   -0.104377   -0.323911  \n",
       " -0.188155   0.276204   -0.629222       -0.233368   -0.20856    -0.571354  \n",
       " -0.299176   0.337864   -0.0697575       0.624794    0.195323   -0.07223   \n",
       " -0.332792  -0.440364    0.00263416     -0.0427379   0.629451   -0.207675  \n",
       " -0.269518   0.063311   -0.378177       -0.155535    0.0346519   0.671905  "
      ]
     },
     "metadata": {},
     "output_type": "display_data"
    }
   ],
   "source": [
    "fullsvd(A);"
   ]
  },
  {
   "cell_type": "code",
   "execution_count": 63,
   "metadata": {},
   "outputs": [
    {
     "data": {
      "text/plain": [
       "7×3 Array{Float64,2}:\n",
       " -0.594999  -0.0320969   0.183814 \n",
       " -0.210266  -0.122385    0.0919266\n",
       " -0.440776   0.725916    0.126282 \n",
       " -0.269941  -0.433273    0.357454 \n",
       " -0.342771  -0.0122256  -0.876694 \n",
       " -0.438442  -0.446363   -0.0310657\n",
       " -0.157763   0.26443     0.21091  "
      ]
     },
     "metadata": {},
     "output_type": "display_data"
    },
    {
     "data": {
      "text/plain": [
       "7×10 Array{Float64,2}:\n",
       " 8.16895  0.0       0.0       0.0  0.0  0.0  0.0  0.0  0.0  0.0\n",
       " 0.0      0.454117  0.0       0.0  0.0  0.0  0.0  0.0  0.0  0.0\n",
       " 0.0      0.0       0.267467  0.0  0.0  0.0  0.0  0.0  0.0  0.0\n",
       " 0.0      0.0       0.0       0.0  0.0  0.0  0.0  0.0  0.0  0.0\n",
       " 0.0      0.0       0.0       0.0  0.0  0.0  0.0  0.0  0.0  0.0\n",
       " 0.0      0.0       0.0       0.0  0.0  0.0  0.0  0.0  0.0  0.0\n",
       " 0.0      0.0       0.0       0.0  0.0  0.0  0.0  0.0  0.0  0.0"
      ]
     },
     "metadata": {},
     "output_type": "display_data"
    },
    {
     "data": {
      "text/plain": [
       "10×3 Array{Float64,2}:\n",
       " -0.193863   0.233586   -0.166706  \n",
       " -0.482966   0.138467    0.229937  \n",
       " -0.199713  -0.539075   -0.263273  \n",
       " -0.168517  -0.482316   -0.0437798 \n",
       " -0.454474   0.0161877   0.0240535 \n",
       " -0.382142   0.120008    0.551107  \n",
       " -0.188155   0.276204   -0.629222  \n",
       " -0.299176   0.337864   -0.0697575 \n",
       " -0.332792  -0.440364    0.00263416\n",
       " -0.269518   0.063311   -0.378177  "
      ]
     },
     "metadata": {},
     "output_type": "display_data"
    }
   ],
   "source": [
    "rankrsvd(A);"
   ]
  }
 ],
 "metadata": {
  "kernelspec": {
   "display_name": "Julia 1.3.0",
   "language": "julia",
   "name": "julia-1.3"
  },
  "language_info": {
   "file_extension": ".jl",
   "mimetype": "application/julia",
   "name": "julia",
   "version": "1.3.0"
  }
 },
 "nbformat": 4,
 "nbformat_minor": 2
}
