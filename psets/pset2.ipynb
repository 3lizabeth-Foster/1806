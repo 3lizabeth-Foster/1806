{
 "cells": [
  {
   "cell_type": "markdown",
   "metadata": {},
   "source": [
    "# 18.06 Spring2019 pset 2 (under construction)\n",
    "\n",
    "## due Wednesday  2/20 at 4:55pm"
   ]
  },
  {
   "cell_type": "markdown",
   "metadata": {},
   "source": [
    "Note about pedagogical style: Your professor tends to use the technique of \"foreshadowing.\"  This means that you may see a notion in the homework that we believe you are ready to attack at this point in the cass,  but the bigger picture emerges later. It is well known that most students learn best this way.  Of course if you start googling around, you can see the bigger picture earlier, at least with some other author's notation or point of view.  I can't and wouldn't stop you, but rest assured you will see concepts over and over again in expanding waves in this class. <br> <br>\n",
    "If you need to know where we are heading, I am planning to cover all of the results (but not the methods in) Strang's chapters 2 and 3 by leading up to the SVD (singular value decomposition) without any mention of pivot variables, free variables, or eigenvalues.  This means you are less likely to understand how to hand compute the various concepts, and more likely to understand them conceptually.  This gives us time to also show you some applications.  It is indeed an experiment, which is why I welcome feedback, positive and negative, during my many, office hours, but I honestly feel in my heart that I am providing a valuable approach.\n"
   ]
  },
  {
   "cell_type": "markdown",
   "metadata": {},
   "source": [
    "### 1. Warmup questions \n",
    "   Reminder: in mathematical contexts the distinction between an n-vector and an nx1 single column matrix tends to be blurred.  On computers this can and does cause problems.  In the following, we will blur the distinction. For these problems, some of you will know how to do it from the prerequisites, some will ask your friends or your recitation instructor, but in the event you will strengthen your general feel for linear algebra.\n",
    "   \n",
    "   \n",
    "       1a. If vᵀw=0 we say that v and w are a) perpendicular b) orthogonal c) at right angles d) all the above.\n",
    "       1b. The equation 2x+3y+4z = 0 describes a a) line  b)  plane through 0  c)  plane not through 0 d) sphere\n",
    "       1c. A normal to your answer in 1b is __________?\n",
    "       1d. The equation 2x+3y+4z = 2019 describes a a) line  b)  plane through 0  c)  plane not through 0 d) sphere\n",
    "       1e. A normal to your answer in 1d is __________?\n",
    "       1f. The equation x²+y²+z²=1 describes a a) line  b)  plane through 0  c)  plane not through 0 d) sphere\n",
    "       1g. A normal to your answer in 1f is __________?  (Hint: ok to use intuition from 2d or 3d)\n",
    "       1h. Calculate the gradient of f(x,y,z) = 2x+3y+4z\n",
    "       1i. Calculate the gradient of f(x,y,z) = x²+y²+z² \n",
    "       1j. The inequality 2x+3y+4 > 0 describes a region of 3 dimensional space.  Describe that region:_____\n",
    "       1k. The inequality 2x+3y+4 < 2019 describes a region of 3 dimensional space.  Describe that region:_____\n",
    "       1l.  Using vector language in Rⁿ, (no elements or indices)  write an equation that describes every v on the hyperplane through 0 with given normal vector w (not 0).  \n",
    "       1m. Given an example of a hyperplane parallel to the hyperplane in 1l above that does  not go through 0.\n",
    "       1n. Suppose given a nonzero w that we consider the hyperplane of all v for which  wᵀv=1.  Find the unique vector v (in terms of w) that is on this hyperplane in the direction w.   \n",
    "\n",
    "       "
   ]
  },
  {
   "cell_type": "code",
   "execution_count": null,
   "metadata": {},
   "outputs": [],
   "source": [
    "ⁿ"
   ]
  },
  {
   "cell_type": "markdown",
   "metadata": {},
   "source": [
    "## 1. (Real) Vector Spaces\n",
    "\n",
    "a) If $v$ is a vector in any vector space, what is the complete list of vectors that must also be in this vector space?\n",
    "\n",
    "b) Must a vector space contain a zero vector?  Why?\n",
    "\n",
    "c) What is the zero vector in $R^4$? in $R^{2,3}$? What is the zero function?  What is the zero  (differntial) operator from functions to functions? (Hint: The zero  operator takes in an arbitrary function and returns....)\n",
    "\n",
    "d) State in words the difference between the zero function and the zero operator, as they seem so similar."
   ]
  },
  {
   "cell_type": "markdown",
   "metadata": {},
   "source": [
    "## 2. Am I a vector space?  (The basic question here is whether every linear combination is in the space.  If there is no zero, then I'm for sure not a vector space.)"
   ]
  },
  {
   "cell_type": "markdown",
   "metadata": {},
   "source": [
    "## 3. Subspace"
   ]
  },
  {
   "cell_type": "markdown",
   "metadata": {},
   "source": [
    "## 4. Nullspace"
   ]
  },
  {
   "cell_type": "markdown",
   "metadata": {},
   "source": [
    "## 5. Column Space"
   ]
  },
  {
   "cell_type": "markdown",
   "metadata": {},
   "source": [
    "## 6. Using the SVD\n",
    "\n",
    "In this class we may not prove the SVD exists, or even teach you how to calculate it.  It is your professor's pedagogical belief that every student someday should learn to prove it exists, or even how it is calculated numerically, but not necessarily in an introductory class.  I would rather you learned how to interpret it and over the course of the semester see all the things it is good for, and there is only so much time in a semester. Feel free to tell me a) good plan I believe you or b) good plan, I might look up the computation some day or c) bad plan, I just got to calculate a small case, or I just can't believe it.  (No wrong answer here, I expect all answers.)"
   ]
  },
  {
   "cell_type": "markdown",
   "metadata": {},
   "source": [
    "## 7. Something applied with the SVD"
   ]
  },
  {
   "cell_type": "markdown",
   "metadata": {},
   "source": [
    "## 8. Rank "
   ]
  },
  {
   "cell_type": "markdown",
   "metadata": {},
   "source": [
    "## 9. Solving Ax=b"
   ]
  },
  {
   "cell_type": "markdown",
   "metadata": {},
   "source": [
    "## 10. The Complete Solution to Ax=b"
   ]
  },
  {
   "cell_type": "code",
   "execution_count": null,
   "metadata": {},
   "outputs": [],
   "source": []
  }
 ],
 "metadata": {
  "kernelspec": {
   "display_name": "Julia 1.0.0",
   "language": "julia",
   "name": "julia-1.0"
  },
  "language_info": {
   "file_extension": ".jl",
   "mimetype": "application/julia",
   "name": "julia",
   "version": "1.0.0"
  }
 },
 "nbformat": 4,
 "nbformat_minor": 2
}
