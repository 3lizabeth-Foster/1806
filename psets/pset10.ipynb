{
 "cells": [
  {
   "cell_type": "markdown",
   "metadata": {},
   "source": [
    "18.06 Spring2019 pset 10 <br>\n",
    "due Friday 5/10 at 11:59pm "
   ]
  },
  {
   "cell_type": "markdown",
   "metadata": {},
   "source": [
    "Comment about Markov Matrix definition: Strang's book glosses over this issue, but on page 474 he says that a Markov matrix has positive elements and columns add to 1.  Many authors including this [wikipedia page](https://en.wikipedia.org/wiki/Stochastic_matrix) say that a Markov matrix is allowed 0's.  Also Strang focuses on left stochastic matrices, some authors use right stochastic matrices where rows add to 1.\n",
    "\n",
    "While this inconsistency is enough to drive anyone crazy, I will say positive Markov matrix when I wish to imply all entries are positive from now on.  Positive Markov matrices have one eigenvalue 1 and the rest have absolute value less than 1.  General Markov matrices can have more than one eigenvalue with absolute value 1."
   ]
  },
  {
   "cell_type": "markdown",
   "metadata": {},
   "source": [
    "(1) (GS prob 1, page 480) What is the steady state eigenvector of"
   ]
  },
  {
   "cell_type": "code",
   "execution_count": 2,
   "metadata": {},
   "outputs": [
    {
     "data": {
      "text/plain": [
       "2×2 Array{Float64,2}:\n",
       " 0.9  0.15\n",
       " 0.1  0.85"
      ]
     },
     "execution_count": 2,
     "metadata": {},
     "output_type": "execute_result"
    }
   ],
   "source": [
    "A = [.9 .15\n",
    "     .1 .85]"
   ]
  },
  {
   "cell_type": "markdown",
   "metadata": {},
   "source": [
    "This you should do by hand and can check if you like with Julia."
   ]
  },
  {
   "cell_type": "code",
   "execution_count": null,
   "metadata": {},
   "outputs": [],
   "source": [
    "using LinearAlgebra\n",
    "λ,X = eigen(A)\n",
    "X[:,1]/sum(X[:,1])"
   ]
  },
  {
   "cell_type": "markdown",
   "metadata": {},
   "source": [
    "(2) Show that the square of a positive Markov matrix is a positive Markov matrix.  Also show that the square of a general Markov matrix is also Markov.  (Hint: there is an easy way and a more difficult way.)"
   ]
  },
  {
   "cell_type": "markdown",
   "metadata": {},
   "source": [
    "(3) What can you say about the steady state of a symmetric positive Markov matrix?"
   ]
  },
  {
   "cell_type": "code",
   "execution_count": null,
   "metadata": {},
   "outputs": [],
   "source": []
  }
 ],
 "metadata": {
  "kernelspec": {
   "display_name": "Julia 1.0.0",
   "language": "julia",
   "name": "julia-1.0"
  },
  "language_info": {
   "file_extension": ".jl",
   "mimetype": "application/julia",
   "name": "julia",
   "version": "1.0.0"
  }
 },
 "nbformat": 4,
 "nbformat_minor": 2
}
