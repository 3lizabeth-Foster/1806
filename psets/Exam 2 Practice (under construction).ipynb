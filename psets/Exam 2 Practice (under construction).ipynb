{
 "cells": [
  {
   "cell_type": "markdown",
   "metadata": {},
   "source": [
    "1a) Under what size conditions does Trace(AB) = Trace(BA)? <br>\n",
    "1b) Under what size conditions does Trace(ABC) = Trace(BCA)?"
   ]
  },
  {
   "cell_type": "markdown",
   "metadata": {},
   "source": [
    "2a. Find a basis for all polynomials of the form $a+bx+cx^2+dx^3$ whose integral on $[0,1]$ is 0. <br>\n",
    "2b. Find a basis for all polynomials that are a derivative of polynomials of the form $a+bx+cx^2+dx^3$ <br>\n",
    "2c. Find a basis for all polynomials that are of the form  $a+b(x+1)+c(x+1)^2+d(x+1)^3$ <br>\n",
    "2d. Find a basis for all polynomials of the form $a+bx+cx^2+dx^3$ whose value at 1 is 0."
   ]
  },
  {
   "cell_type": "markdown",
   "metadata": {},
   "source": [
    "3. How many parameters are needed to specify a linear transformation from 10x10x10 arrays to $R^2$? "
   ]
  },
  {
   "cell_type": "markdown",
   "metadata": {},
   "source": [
    "4. Compute the gradient of $f(x)=x^Tx  + sum(x) $ without the use of indices."
   ]
  },
  {
   "cell_type": "markdown",
   "metadata": {},
   "source": [
    " 5. Remembering that df(x) = f'(x) dx for scalar functions, what is dh.(A) in terms of f'.(A) and dA?\n",
    "(Here the dot denotes elementwise function application and A is a matrix.)"
   ]
  },
  {
   "cell_type": "markdown",
   "metadata": {},
   "source": [
    "6. True or false: <br>\n",
    "a) det(2A) = 2 det(A) for all n <br>\n",
    "b) det(-A) = -det(A) if the size n is odd <br>\n",
    "c) det(A+B) = det(A) + det(B) since determinants are multilinear <br>\n",
    "d) det(inv(A)) = 1/det(A)"
   ]
  },
  {
   "cell_type": "markdown",
   "metadata": {},
   "source": [
    "7. Give an example of a matrix A where the rows of A are not a basis for the rowspace.\n",
    "    "
   ]
  },
  {
   "cell_type": "markdown",
   "metadata": {},
   "source": [
    "8. Suppose we have  𝐴=[𝑢 v 𝑤][ 𝑥 y z]𝑇  without any assumptions whatsoever on the vectors u,v,w,x,y,z other than is required by block notation. \n",
    "(A) What are the possible ranks of  𝐴  assuming  𝐴  is  𝑚×𝑛 ?  <br>\n",
    "(B) Under what conditions is the rank of  𝐴  3? <br>\n",
    "(C) Under what conditions is the rank of  𝐴  1?"
   ]
  },
  {
   "cell_type": "markdown",
   "metadata": {},
   "source": [
    "The question below appeared on last year's quiz 2 as problem 4. Parts c and d were considered challenging.\n",
    "The solutions are posted [here](https://web.mit.edu/18.06/www/Spring18/quiz2solutions.pdf)."
   ]
  },
  {
   "cell_type": "markdown",
   "metadata": {},
   "source": [
    "1) Let d(A) be a scalar function of 3 × 2 matrices A with the following properties: <br>\n",
    "α) If you interchange the two columns of A, d(A) flips sign. <br>\n",
    "β) d(A) is linear in each of the columns of A. <br>\n",
    "γ) d(A) is non-zero for at least one 3 × 2 A."
   ]
  },
  {
   "cell_type": "markdown",
   "metadata": {},
   "source": [
    "(1a.)  What is d(2A) in terms of d(A)?"
   ]
  },
  {
   "cell_type": "markdown",
   "metadata": {},
   "source": [
    "(1b.) Give an example d(A) that satisfies the three requirements of this question <br>"
   ]
  },
  {
   "cell_type": "markdown",
   "metadata": {},
   "source": [
    "(1c.) We recall that the determinant of square matrices is linear in each column and\n",
    "each row of the square matrix. Can property β be extended to rows and columns of 3 × 2\n",
    "matrices A to create a d(A) with the three requirements of this question? If yes, give an\n",
    "example, if not, why not?"
   ]
  },
  {
   "cell_type": "markdown",
   "metadata": {},
   "source": [
    "(1d.) If we discard property γ to allow the “zero” function, the set of all functions\n",
    "d(A) satisfying α and β form a three dimensional vector space. Describe explicitly this vector\n",
    "space of functions in terms of the elements of A."
   ]
  },
  {
   "cell_type": "markdown",
   "metadata": {},
   "source": [
    "1a) Under what size conditions does Trace(AB) = Trace(BA)? <br>\n",
    "1b) Under what size conditions does Trace(ABC) = Trace(BCA)?"
   ]
  },
  {
   "cell_type": "code",
   "execution_count": null,
   "metadata": {},
   "outputs": [],
   "source": []
  }
 ],
 "metadata": {
  "kernelspec": {
   "display_name": "Julia 1.0.0",
   "language": "julia",
   "name": "julia-1.0"
  },
  "language_info": {
   "file_extension": ".jl",
   "mimetype": "application/julia",
   "name": "julia",
   "version": "1.0.0"
  }
 },
 "nbformat": 4,
 "nbformat_minor": 2
}
