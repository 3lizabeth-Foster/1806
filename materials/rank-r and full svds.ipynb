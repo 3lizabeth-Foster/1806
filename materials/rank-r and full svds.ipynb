{
 "cells": [
  {
   "cell_type": "code",
   "execution_count": 1,
   "metadata": {},
   "outputs": [],
   "source": [
    "using LinearAlgebra"
   ]
  },
  {
   "cell_type": "code",
   "execution_count": 84,
   "metadata": {},
   "outputs": [
    {
     "data": {
      "text/plain": [
       "rankrsvd (generic function with 1 method)"
      ]
     },
     "execution_count": 84,
     "metadata": {},
     "output_type": "execute_result"
    }
   ],
   "source": [
    "function fullsvd(A) \n",
    "    U,s,V = svd(A, full = true)  # compute svd\n",
    "    Σ = zeros(size(A))           # container for Σ  \n",
    "    for i=1:length(s)\n",
    "       Σ[i,i] = s[i]            # place singular values in Σ\n",
    "    end\n",
    "    display(U);display(Σ);display(V) # display the answer\n",
    "    return(U,Σ,V)                # return the answer\n",
    "end\n",
    "\n",
    "\n",
    "function rankrsvd(A) \n",
    "    U,s,V = svd(A, full = true)  # compute svd\n",
    "    r = sum(s.>1e-8)             # rank = how many positive?\n",
    "    U₁ = U[:,1:r]\n",
    "    Σᵣ = zeros(r,r)\n",
    "    for i=1:r,  Σᵣ[i,i]=s[i];end\n",
    "    V₁ = V[:,1:r]\n",
    "    display(U₁);display(Σᵣ);display(V₁) # display the answer\n",
    "    return(U₁,Σᵣ,V₁)                # return the answer\n",
    "end"
   ]
  },
  {
   "cell_type": "markdown",
   "metadata": {},
   "source": [
    "## 1. random 2x2 matrix"
   ]
  },
  {
   "cell_type": "code",
   "execution_count": 85,
   "metadata": {},
   "outputs": [
    {
     "data": {
      "text/plain": [
       "2×2 Array{Float64,2}:\n",
       " 0.62747   0.6356   \n",
       " 0.697816  0.0925931"
      ]
     },
     "execution_count": 85,
     "metadata": {},
     "output_type": "execute_result"
    }
   ],
   "source": [
    "A = rand(2,2)"
   ]
  },
  {
   "cell_type": "code",
   "execution_count": 86,
   "metadata": {},
   "outputs": [
    {
     "data": {
      "text/plain": [
       "2×2 Array{Float64,2}:\n",
       " -0.803436  -0.595391\n",
       " -0.595391   0.803436"
      ]
     },
     "metadata": {},
     "output_type": "display_data"
    },
    {
     "data": {
      "text/plain": [
       "2×2 Array{Float64,2}:\n",
       " 1.07972  0.0     \n",
       " 0.0      0.356974"
      ]
     },
     "metadata": {},
     "output_type": "display_data"
    },
    {
     "data": {
      "text/plain": [
       "2×2 Adjoint{Float64,Array{Float64,2}}:\n",
       " -0.851707   0.524018\n",
       " -0.524018  -0.851707"
      ]
     },
     "metadata": {},
     "output_type": "display_data"
    }
   ],
   "source": [
    "fullsvd(A);"
   ]
  },
  {
   "cell_type": "code",
   "execution_count": 87,
   "metadata": {},
   "outputs": [
    {
     "data": {
      "text/plain": [
       "2×2 Array{Float64,2}:\n",
       " -0.803436  -0.595391\n",
       " -0.595391   0.803436"
      ]
     },
     "metadata": {},
     "output_type": "display_data"
    },
    {
     "data": {
      "text/plain": [
       "2×2 Array{Float64,2}:\n",
       " 1.07972  0.0     \n",
       " 0.0      0.356974"
      ]
     },
     "metadata": {},
     "output_type": "display_data"
    },
    {
     "data": {
      "text/plain": [
       "2×2 Array{Float64,2}:\n",
       " -0.851707   0.524018\n",
       " -0.524018  -0.851707"
      ]
     },
     "metadata": {},
     "output_type": "display_data"
    }
   ],
   "source": [
    "rankrsvd(A);"
   ]
  },
  {
   "cell_type": "markdown",
   "metadata": {},
   "source": [
    "## 2. random 3x2 matrix"
   ]
  },
  {
   "cell_type": "code",
   "execution_count": 88,
   "metadata": {},
   "outputs": [
    {
     "data": {
      "text/plain": [
       "3×2 Array{Float64,2}:\n",
       " 0.481367  0.273997\n",
       " 0.609206  0.683061\n",
       " 0.433901  0.25777 "
      ]
     },
     "execution_count": 88,
     "metadata": {},
     "output_type": "execute_result"
    }
   ],
   "source": [
    "A = rand(3,2)"
   ]
  },
  {
   "cell_type": "code",
   "execution_count": 89,
   "metadata": {},
   "outputs": [
    {
     "data": {
      "text/plain": [
       "3×3 Array{Float64,2}:\n",
       " -0.46459    0.599005  -0.652188 \n",
       " -0.776959  -0.629081  -0.0243114\n",
       " -0.424842   0.495428   0.757668 "
      ]
     },
     "metadata": {},
     "output_type": "display_data"
    },
    {
     "data": {
      "text/plain": [
       "3×2 Array{Float64,2}:\n",
       " 1.16867  0.0     \n",
       " 0.0      0.182823\n",
       " 0.0      0.0     "
      ]
     },
     "metadata": {},
     "output_type": "display_data"
    },
    {
     "data": {
      "text/plain": [
       "2×2 Adjoint{Float64,Array{Float64,2}}:\n",
       " -0.754112   0.656746\n",
       " -0.656746  -0.754112"
      ]
     },
     "metadata": {},
     "output_type": "display_data"
    }
   ],
   "source": [
    "fullsvd(A);"
   ]
  },
  {
   "cell_type": "code",
   "execution_count": 90,
   "metadata": {},
   "outputs": [
    {
     "data": {
      "text/plain": [
       "3×2 Array{Float64,2}:\n",
       " -0.46459    0.599005\n",
       " -0.776959  -0.629081\n",
       " -0.424842   0.495428"
      ]
     },
     "metadata": {},
     "output_type": "display_data"
    },
    {
     "data": {
      "text/plain": [
       "2×2 Array{Float64,2}:\n",
       " 1.16867  0.0     \n",
       " 0.0      0.182823"
      ]
     },
     "metadata": {},
     "output_type": "display_data"
    },
    {
     "data": {
      "text/plain": [
       "2×2 Array{Float64,2}:\n",
       " -0.754112   0.656746\n",
       " -0.656746  -0.754112"
      ]
     },
     "metadata": {},
     "output_type": "display_data"
    }
   ],
   "source": [
    "rankrsvd(A);"
   ]
  },
  {
   "cell_type": "markdown",
   "metadata": {},
   "source": [
    "## 3. random 2x3 matrix"
   ]
  },
  {
   "cell_type": "code",
   "execution_count": 91,
   "metadata": {},
   "outputs": [
    {
     "data": {
      "text/plain": [
       "2×3 Array{Float64,2}:\n",
       " 0.450421  0.261512  0.442317\n",
       " 0.291175  0.788014  0.895581"
      ]
     },
     "execution_count": 91,
     "metadata": {},
     "output_type": "execute_result"
    }
   ],
   "source": [
    "A = rand(2,3)"
   ]
  },
  {
   "cell_type": "code",
   "execution_count": 92,
   "metadata": {},
   "outputs": [
    {
     "data": {
      "text/plain": [
       "2×2 Array{Float64,2}:\n",
       " -0.458938  -0.888468\n",
       " -0.888468   0.458938"
      ]
     },
     "metadata": {},
     "output_type": "display_data"
    },
    {
     "data": {
      "text/plain": [
       "2×3 Array{Float64,2}:\n",
       " 1.37355  0.0       0.0\n",
       " 0.0      0.296809  0.0"
      ]
     },
     "metadata": {},
     "output_type": "display_data"
    },
    {
     "data": {
      "text/plain": [
       "3×3 Adjoint{Float64,Array{Float64,2}}:\n",
       " -0.338842  -0.898062   -0.280481\n",
       " -0.597099   0.435652   -0.673558\n",
       " -0.727089   0.0607546   0.683849"
      ]
     },
     "metadata": {},
     "output_type": "display_data"
    }
   ],
   "source": [
    "fullsvd(A);"
   ]
  },
  {
   "cell_type": "code",
   "execution_count": 93,
   "metadata": {},
   "outputs": [
    {
     "data": {
      "text/plain": [
       "2×2 Array{Float64,2}:\n",
       " -0.458938  -0.888468\n",
       " -0.888468   0.458938"
      ]
     },
     "metadata": {},
     "output_type": "display_data"
    },
    {
     "data": {
      "text/plain": [
       "2×2 Array{Float64,2}:\n",
       " 1.37355  0.0     \n",
       " 0.0      0.296809"
      ]
     },
     "metadata": {},
     "output_type": "display_data"
    },
    {
     "data": {
      "text/plain": [
       "3×2 Array{Float64,2}:\n",
       " -0.338842  -0.898062 \n",
       " -0.597099   0.435652 \n",
       " -0.727089   0.0607546"
      ]
     },
     "metadata": {},
     "output_type": "display_data"
    }
   ],
   "source": [
    "rankrsvd(A);"
   ]
  },
  {
   "cell_type": "markdown",
   "metadata": {},
   "source": [
    "## 4. rank 3, 7x10 matrix"
   ]
  },
  {
   "cell_type": "code",
   "execution_count": 94,
   "metadata": {},
   "outputs": [
    {
     "data": {
      "text/plain": [
       "7×10 Array{Float64,2}:\n",
       " 0.675099  1.21178   0.540798  0.851897  …  0.980326  1.12255   0.413004\n",
       " 0.789079  0.992535  0.274757  0.82396      0.810722  0.774411  0.379436\n",
       " 0.344989  0.433055  0.123167  0.362714     0.350748  0.330489  0.163391\n",
       " 0.5881    0.597549  0.179253  0.627045     0.416998  0.223349  0.191244\n",
       " 0.505428  0.785696  0.342115  0.618232     0.606376  0.613279  0.255647\n",
       " 0.368739  0.518505  0.159858  0.396248  …  0.433708  0.458187  0.199473\n",
       " 0.33104   0.758602  0.461593  0.52759      0.564867  0.652752  0.207733"
      ]
     },
     "execution_count": 94,
     "metadata": {},
     "output_type": "execute_result"
    }
   ],
   "source": [
    "A = rand(7,3)*rand(3,10) # this should be rank 3"
   ]
  },
  {
   "cell_type": "code",
   "execution_count": 95,
   "metadata": {},
   "outputs": [
    {
     "data": {
      "text/plain": [
       "7×7 Array{Float64,2}:\n",
       " -0.592724  -0.418143     0.112732  …   0.381819    0.444132    -0.0645691\n",
       " -0.474174   0.309821     0.468304     -0.190313    0.172813    -0.0445874\n",
       " -0.205343   0.147727     0.168969     -0.489593   -0.00367499   0.679052 \n",
       " -0.242406   0.762887    -0.446661      0.359006    0.0967758    0.0361449\n",
       " -0.365226   0.0270369   -0.201379     -0.530609   -0.256068    -0.634402 \n",
       " -0.255638   0.00074241   0.316456  …   0.40012    -0.813966     0.0749404\n",
       " -0.352378  -0.35301     -0.631846     -0.0881339  -0.188128     0.351202 "
      ]
     },
     "metadata": {},
     "output_type": "display_data"
    },
    {
     "data": {
      "text/plain": [
       "7×10 Array{Float64,2}:\n",
       " 5.17927  0.0       0.0       0.0         …  0.0          0.0  0.0  0.0\n",
       " 0.0      0.576595  0.0       0.0            0.0          0.0  0.0  0.0\n",
       " 0.0      0.0       0.237427  0.0            0.0          0.0  0.0  0.0\n",
       " 0.0      0.0       0.0       2.4823e-16     0.0          0.0  0.0  0.0\n",
       " 0.0      0.0       0.0       0.0            0.0          0.0  0.0  0.0\n",
       " 0.0      0.0       0.0       0.0         …  0.0          0.0  0.0  0.0\n",
       " 0.0      0.0       0.0       0.0            7.59678e-17  0.0  0.0  0.0"
      ]
     },
     "metadata": {},
     "output_type": "display_data"
    },
    {
     "data": {
      "text/plain": [
       "10×10 Adjoint{Float64,Array{Float64,2}}:\n",
       " -0.267068   0.622417    0.197895    …   0.158315   -0.0600846    0.0117973\n",
       " -0.407293   0.129173   -0.277027        0.0456813  -0.274878    -0.1277   \n",
       " -0.163738  -0.242179   -0.756366        0.0635529   0.360454     0.145308 \n",
       " -0.315705   0.454005   -0.292089       -0.508997   -0.00368076   0.0641535\n",
       " -0.286501  -0.196281    0.334703       -0.573086    0.218148    -0.206878 \n",
       " -0.437112  -0.363607    0.00702444  …   0.0311102  -0.635766     0.0953444\n",
       " -0.358791  -0.0160251   0.123278        0.142756    0.523928    -0.314986 \n",
       " -0.322435   0.0494501   0.0901991       0.598296    0.105018    -0.126582 \n",
       " -0.333195  -0.38806     0.228883       -0.0272591   0.104831     0.162994 \n",
       " -0.139438   0.0843314   0.197212        0.0354542   0.206362     0.87443  "
      ]
     },
     "metadata": {},
     "output_type": "display_data"
    }
   ],
   "source": [
    "fullsvd(A);"
   ]
  },
  {
   "cell_type": "code",
   "execution_count": 96,
   "metadata": {},
   "outputs": [
    {
     "data": {
      "text/plain": [
       "7×3 Array{Float64,2}:\n",
       " -0.592724  -0.418143     0.112732\n",
       " -0.474174   0.309821     0.468304\n",
       " -0.205343   0.147727     0.168969\n",
       " -0.242406   0.762887    -0.446661\n",
       " -0.365226   0.0270369   -0.201379\n",
       " -0.255638   0.00074241   0.316456\n",
       " -0.352378  -0.35301     -0.631846"
      ]
     },
     "metadata": {},
     "output_type": "display_data"
    },
    {
     "data": {
      "text/plain": [
       "3×3 Array{Float64,2}:\n",
       " 5.17927  0.0       0.0     \n",
       " 0.0      0.576595  0.0     \n",
       " 0.0      0.0       0.237427"
      ]
     },
     "metadata": {},
     "output_type": "display_data"
    },
    {
     "data": {
      "text/plain": [
       "10×3 Array{Float64,2}:\n",
       " -0.267068   0.622417    0.197895  \n",
       " -0.407293   0.129173   -0.277027  \n",
       " -0.163738  -0.242179   -0.756366  \n",
       " -0.315705   0.454005   -0.292089  \n",
       " -0.286501  -0.196281    0.334703  \n",
       " -0.437112  -0.363607    0.00702444\n",
       " -0.358791  -0.0160251   0.123278  \n",
       " -0.322435   0.0494501   0.0901991 \n",
       " -0.333195  -0.38806     0.228883  \n",
       " -0.139438   0.0843314   0.197212  "
      ]
     },
     "metadata": {},
     "output_type": "display_data"
    }
   ],
   "source": [
    "rankrsvd(A);"
   ]
  },
  {
   "cell_type": "code",
   "execution_count": null,
   "metadata": {},
   "outputs": [],
   "source": []
  },
  {
   "cell_type": "code",
   "execution_count": null,
   "metadata": {},
   "outputs": [],
   "source": []
  },
  {
   "cell_type": "code",
   "execution_count": null,
   "metadata": {},
   "outputs": [],
   "source": []
  }
 ],
 "metadata": {
  "kernelspec": {
   "display_name": "Julia 1.3.0",
   "language": "julia",
   "name": "julia-1.3"
  },
  "language_info": {
   "file_extension": ".jl",
   "mimetype": "application/julia",
   "name": "julia",
   "version": "1.3.0"
  }
 },
 "nbformat": 4,
 "nbformat_minor": 2
}
