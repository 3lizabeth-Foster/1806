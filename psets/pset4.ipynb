{
 "cells": [
  {
   "cell_type": "markdown",
   "id": "b5d9071c",
   "metadata": {},
   "source": [
    "# 18.06 Problem Set 4\n",
    "\n",
    "Due Friday, March 4 at 11am."
   ]
  },
  {
   "cell_type": "markdown",
   "id": "ae11de17",
   "metadata": {},
   "source": [
    "## Problem 1 (10+5)\n",
    "\n",
    "Suppose, $x,y,a,b$ are $n$-component column vectors.  Then we can compute the following scalar $\\alpha$:\n",
    "\n",
    "$$\n",
    "    \\alpha = a^T (y x^T + x y^T) b\n",
    "$$\n",
    "\n",
    "**(a)** Find a vector $c$ (made from $y,a,b$) such that we get the *same* $\\alpha$ from:\n",
    "$$\n",
    "\\alpha = c^T x\n",
    "$$\n",
    "\n",
    "(Fun fact: *Any* scalar that is a *linear* function of $x$ can be written as a dot product like this.  The fancy name for this idea is the [Riesz representation theorem](https://en.wikipedia.org/wiki/Riesz_representation_theorem).)\n",
    "\n",
    "**(b)** Check your answer in Julia for some random vectors.  Note that $x^T$ in Julia is written as `x'` for real column vectors and matrices."
   ]
  },
  {
   "cell_type": "code",
   "execution_count": null,
   "id": "82f2e06d",
   "metadata": {},
   "outputs": [],
   "source": [
    "a = [1,2,7,3]\n",
    "b = [9,-2,4,5]\n",
    "y = [0,2,3,1]\n",
    "x = [-3,2,4,-5]\n",
    "\n",
    "α = ???? # write aᵀ(yxᵀ+xyᵀ)b in Julia"
   ]
  },
  {
   "cell_type": "code",
   "execution_count": null,
   "id": "1e97774f",
   "metadata": {},
   "outputs": [],
   "source": [
    "c = ???? # some formula in terms of a, b, y\n",
    "\n",
    "# this should output \"true\":\n",
    "c' * x ≈ α"
   ]
  },
  {
   "cell_type": "markdown",
   "id": "65ba3c74",
   "metadata": {},
   "source": [
    "## Problem 2 (10+10+5)\n",
    "\n",
    "Let $f(x)$ be the function:\n",
    "\n",
    "$$\n",
    "f(x) = \\Vert (B + xx^T)^{-1} b \\Vert\n",
    "$$\n",
    "\n",
    "where $B$ is an $n \\times n$ matrix, and $b$ is an $n$-component column vector, and the input $x$ is an $n$-component column vector.\n",
    "\n",
    "**(a)** Give a formula for $df = f(x+dx) - f(x)$, i.e. to first order in $dx$, as a linear operation on $dx$. (Your answer will have matrix inverses in it; that's okay.)\n",
    "\n",
    "It might be helpful to break this into steps (a.k.a. a chain rule):\n",
    "\n",
    "1. What is $d(\\sqrt{\\alpha})$ for a small $d\\alpha$, i.e. to first order in the change in the scalar $\\alpha$?  (Just 18.01!)\n",
    "2. In class, we saw $d(y^T y) = 2y^T dy$.  So what is $d\\Vert y\\Vert = d\\sqrt{y^T y}$ to first order in $dy$, the change for a small change $dy$ in $y$?\n",
    "4. What is $d(xx^T)$ to first order in $dx$?  (Product rule!)\n",
    "5. In class, we saw that $d(A^{-1}) = -A^{-1} dA A^{-1}$.  So what is $d\\left[(B + xx^T)^{-1} b \\right]$ to first order in $dx$?\n",
    "6. Put it all together to write $df$ to first order in $dx$.\n",
    "\n",
    "**(b)** Using your answer from problem 1, write $df = (\\mbox{some vector})^T dx$, and hence give a formula for $\\nabla f$.\n",
    "\n",
    "**(c)** Check your $\\nabla f$ formula by comparing it the numerically computed $f(x+dx) - f(x)$ for a small arbitrary $dx \\in \\mathbb{R}^4$.\n",
    "\n",
    "You just need to fill in the \"????\" in the following code: "
   ]
  },
  {
   "cell_type": "code",
   "execution_count": null,
   "id": "fd394b70",
   "metadata": {},
   "outputs": [],
   "source": [
    "using LinearAlgebra\n",
    "\n",
    "# some B matrix and b vector\n",
    "B = [3   5   6  6\n",
    "     2  -2  -5  8\n",
    "     4   3   2  2\n",
    "     5  -8  -1  3]\n",
    "b = [1,-1,2,-2]\n",
    "\n",
    "f(x) = norm((B + x*x') \\ b) # = ‖(B+xxᵀ)⁻¹b‖\n",
    "\n",
    "# random test inputs:\n",
    "x = [1,-2,4,6]\n",
    "dx = [-3,5,0,2] * 1e-8 # a small change in x\n",
    "\n",
    "f(x + dx) - f(x)"
   ]
  },
  {
   "cell_type": "code",
   "execution_count": null,
   "id": "d18cbc11",
   "metadata": {},
   "outputs": [],
   "source": [
    "∇f = ???? # your formula from (a)\n",
    "\n",
    "# this should match f(x+dx)-f(x) above,\n",
    "# at least to a few digits:\n",
    "df = ∇f'*dx "
   ]
  },
  {
   "cell_type": "markdown",
   "id": "6c037759",
   "metadata": {},
   "source": [
    "## Problem 3 (10+5+5+5)\n",
    "\n",
    "Let $A_0= \\begin{pmatrix}\n",
    "3 & 1 & 2\\\\\n",
    "7 & 3 & -2\\\\\n",
    "-2 & -5 & 4\\\\\n",
    "\\end{pmatrix}$, and consider the *nonlinear* function\n",
    "$$\n",
    "g(x) = \\underbrace{\\begin{pmatrix} x_1 & & \\\\ & x_2 & \\\\ & & x_3 \\end{pmatrix}}_{\\mathrm{Diagonal}(x)\\mbox{ in Julia}} A_0 x + x - \\begin{pmatrix} 1 \\\\ 1 \\\\ 1 \\end{pmatrix}\n",
    "$$\n",
    "\n",
    "Here, you will solve the nonlinear equations $g(x) = \\vec{0}$ using Newton's method.\n",
    "\n",
    "**(a)** Write down the $3\\times 3$ Jacobian matrix $g'(x)$ as a function of $x$.\n",
    "\n",
    "**(b)** Write a Julia function `J(x)` below that computes your Jacobian formula from (a).\n",
    "\n",
    "**(c)** Check that `g(x+dx) ≈ J(x)*dx` for a small `dx` at some `x`.\n",
    "\n",
    "**(d)** Plug your Jacobian, along with the provided `g(x)` function, into the Newton iteration below, and use the starting guess $x = (1,1,1)$.   Give the resulting solution to at least 5 significant digits (in every component)."
   ]
  },
  {
   "cell_type": "code",
   "execution_count": null,
   "id": "dacb6357",
   "metadata": {},
   "outputs": [],
   "source": [
    "using LinearAlgebra\n",
    "\n",
    "A₀ = [3 1 2; 7 3 -2; -2 -5 4]\n",
    "\n",
    "g(x) = Diagonal(x) * (A₀*x) + x .- 1"
   ]
  },
  {
   "cell_type": "markdown",
   "id": "3f92fe51",
   "metadata": {},
   "source": [
    "### (b) Jacobian:"
   ]
  },
  {
   "cell_type": "code",
   "execution_count": null,
   "id": "25cb93bc",
   "metadata": {},
   "outputs": [],
   "source": [
    "J(x) = ???? # your answer from (b)\n",
    "\n",
    "J([1,2,3]) # try it — this should give a 3x3 matrix"
   ]
  },
  {
   "cell_type": "markdown",
   "id": "809039f2",
   "metadata": {},
   "source": [
    "### (c) random test:"
   ]
  },
  {
   "cell_type": "code",
   "execution_count": null,
   "id": "ba6f9226",
   "metadata": {},
   "outputs": [],
   "source": [
    "x = randn(3)\n",
    "dx = randn(3) * 1e-8\n",
    "\n",
    "g(x+dx) - g(x)"
   ]
  },
  {
   "cell_type": "code",
   "execution_count": null,
   "id": "5c343bf2",
   "metadata": {},
   "outputs": [],
   "source": [
    "J(x) * dx # this should match g(x+dx) - g(x) to a few digits"
   ]
  },
  {
   "cell_type": "markdown",
   "id": "3ba46b36",
   "metadata": {},
   "source": [
    "### (d) Newton iteration"
   ]
  },
  {
   "cell_type": "code",
   "execution_count": null,
   "id": "129a5949",
   "metadata": {},
   "outputs": [],
   "source": [
    "x = [1,1,1] # initial guess\n",
    "\n",
    "# run 10 iterations of Newton's method\n",
    "for i = 1:10\n",
    "    # show some output:\n",
    "    @show x\n",
    "    @show g(x)\n",
    "    println()\n",
    "\n",
    "    x = x - J(x) \\ g(x)\n",
    "end"
   ]
  },
  {
   "cell_type": "markdown",
   "id": "81f98c96",
   "metadata": {},
   "source": [
    "## Problem 4 (10+5)\n",
    "\n",
    "In problem 3 of pset 3, you considered $Ax = b$ for\n",
    "$$\n",
    "A = \\begin{pmatrix} 1 & 2 & 3 & 4 \\\\ 1 & 2 & 4 & 6 \\\\ 0 & 0 & 1 & 2 \\end{pmatrix}, \\qquad b = \\begin{pmatrix} \\alpha \\\\ 6 \\\\ 1 \\end{pmatrix}\n",
    "$$\n",
    "and found that it only has solutions for $\\alpha = 5$.\n",
    "\n",
    "**(a)** Find a basis for $N(A^T)$, the left nullspace.\n",
    "\n",
    "**(b)** Because $N(A^T)^\\perp = C(A)$, the equation $Ax = b$ only has solutions when $b$ is perpendicular to a basis for $N(A^T)$.   Plug in your answer from (a) to check that it is orthogonal to $b$ only when $\\alpha = 5$, consistent with your solution in pset 3."
   ]
  },
  {
   "cell_type": "markdown",
   "id": "ff5c6a4a",
   "metadata": {},
   "source": [
    "## Problem 5 (10)\n",
    "\n",
    "Suppose $S$ is spanned by (1,2,3) and (4,5,6). Then $S^\\perp$  is the nullspace of what matrix?"
   ]
  }
 ],
 "metadata": {
  "kernelspec": {
   "display_name": "Julia 1.7.1",
   "language": "julia",
   "name": "julia-1.7"
  },
  "language_info": {
   "file_extension": ".jl",
   "mimetype": "application/julia",
   "name": "julia",
   "version": "1.7.1"
  }
 },
 "nbformat": 4,
 "nbformat_minor": 5
}
