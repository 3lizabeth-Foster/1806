{
 "cells": [
  {
   "cell_type": "markdown",
   "metadata": {},
   "source": [
    "# 18.06 Spring2019 pset 0\n",
    "\n",
    "## due Sunday  2/10 at 4:55pm\n",
    "\n",
    "This required but non-graded homework will take you through the entire workflow stress-free :\n",
    "\n",
    "\n",
    "1. log into juliabox and add 1+1 in julia\n",
    "2. download this pset as ipynb\n",
    "3. upload the pset into juliabox\n",
    "4. save as a pdf\n",
    "5. submit to gradescope\n"
   ]
  },
  {
   "cell_type": "markdown",
   "metadata": {},
   "source": [
    "## 1. log into juliabox"
   ]
  },
  {
   "cell_type": "markdown",
   "metadata": {},
   "source": [
    "a. Click on [http://www.juliabox.com](http://www.juliabox.com) ==> log in ==> launch <br>\n",
    "b. New ==> Julia 1.0.3 <br>\n",
    "c. Type 1+1 and ShiftEnter"
   ]
  },
  {
   "cell_type": "markdown",
   "metadata": {},
   "source": [
    "# 2. download this ipynb file"
   ]
  },
  {
   "cell_type": "markdown",
   "metadata": {},
   "source": [
    "# 3.  upload this pset into juliabox"
   ]
  },
  {
   "cell_type": "code",
   "execution_count": 2,
   "metadata": {},
   "outputs": [
    {
     "ename": "LoadError",
     "evalue": "syntax: extra token \"save\" after end of expression",
     "output_type": "error",
     "traceback": [
      "syntax: extra token \"save\" after end of expression",
      ""
     ]
    }
   ],
   "source": [
    "4. save as a pdf"
   ]
  },
  {
   "cell_type": "code",
   "execution_count": null,
   "metadata": {},
   "outputs": [],
   "source": []
  },
  {
   "cell_type": "markdown",
   "metadata": {},
   "source": [
    "# 5. submit to gradescope"
   ]
  }
 ],
 "metadata": {
  "kernelspec": {
   "display_name": "Julia 1.0.0",
   "language": "julia",
   "name": "julia-1.0"
  },
  "language_info": {
   "file_extension": ".jl",
   "mimetype": "application/julia",
   "name": "julia",
   "version": "1.0.0"
  }
 },
 "nbformat": 4,
 "nbformat_minor": 2
}
