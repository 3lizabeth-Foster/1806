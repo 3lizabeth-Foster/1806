{
 "cells": [
  {
   "cell_type": "markdown",
   "metadata": {},
   "source": [
    "##### 18.06 Spring2019  pset 8 (under construction)\n",
    "## due  Wednesday 4/17 at 10:55am"
   ]
  },
  {
   "cell_type": "markdown",
   "metadata": {},
   "source": [
    "(1a) Suppose we are given three points on the $z=1$ plane: $(x_1,y_1,1)$,\n",
    "$(x_2,y_2,1)$,$(x_3,y_3,1)$ give a formula for the signed volume of the tetrahedron that connects the origin to these three points."
   ]
  },
  {
   "cell_type": "markdown",
   "metadata": {},
   "source": [
    "(1b)  A general formula that you may have seen for generalized cones, pyramids and cones is that the volume in 3d is always one third the base times the height. I found a [writeup](https://math.vanderbilt.edu/schectex/courses/Sp09_Math150B/miscdocs/cones.pdf) you can quickly look at.  Use this formula to get the area of a triangle given three vertices in the plane.\n"
   ]
  },
  {
   "cell_type": "markdown",
   "metadata": {},
   "source": [
    "(1c) Generalize.  Suppose you are given $n+1$ points in $R^n$.  By going up one dimension, you can add the origin and get a simplex in $R^{n+1}$\n",
    "along in the hyperplane with last element $1$. The generalization of half base length times height from precollege, and one third base area times height from (1b) is $1/n$ the volume of the base times the height.\n",
    "Find a determinantal formula for the signed volume of the tetrahedron in $R^n$ with $n+1$ given vertices (not the origin),"
   ]
  },
  {
   "cell_type": "markdown",
   "metadata": {},
   "source": [
    "(2a) How many row exchanges would turn this \"4-cycle\" permutation matrix into I:"
   ]
  },
  {
   "cell_type": "markdown",
   "metadata": {},
   "source": [
    "$$\\begin{pmatrix} 0 & 1 & 0 & 0 \\\\\n",
    "     0 & 0 & 1 & 0 \\\\\n",
    "    0 & 0 & 0 & 1 \\\\\n",
    "    1 & 0 & 0 & 0\n",
    "    \\end{pmatrix}.$$"
   ]
  },
  {
   "cell_type": "markdown",
   "metadata": {},
   "source": [
    "(2b)There are 12 edge pieces on a Rubik's cube: ![cubie](edges.png)  An edge piece always has two colored stickers on the two visible faces."
   ]
  },
  {
   "cell_type": "markdown",
   "metadata": {},
   "source": [
    "Imagine numbering the edge pieces on a solved cube from 1 to 12.  Propose a method to encode the position with a 12x12 permutation matrix when the puzzle has evolved."
   ]
  },
  {
   "cell_type": "markdown",
   "metadata": {},
   "source": [
    "(2c) A move is defined as a quarter turn of a face. (A half turn is thus two moves.) Use the result in (2a) and what you know about determinants to prove that if you start with a solved cube and apply $k$ moves to return to the solved state, then $k$ must be even."
   ]
  },
  {
   "cell_type": "markdown",
   "metadata": {},
   "source": [
    "(2d) Argue that if you plucked out two edge pieces, interchanged them, and put them back in, the cube would be unsolvable."
   ]
  },
  {
   "cell_type": "markdown",
   "metadata": {},
   "source": [
    "(2e) Does the same argument work for the eight corner pieces (you'll need an 8x8 permutation matrix)?  (A corner piece has three exposed color faces.) Explain briefly?"
   ]
  },
  {
   "cell_type": "markdown",
   "metadata": {},
   "source": [
    "(2f) Does the same argument work if you would interchange the two colored stickers on any one edge?"
   ]
  },
  {
   "cell_type": "markdown",
   "metadata": {},
   "source": [
    "(2g) Does the same argument work if you would permute the three colored stickers on any one corner?"
   ]
  },
  {
   "cell_type": "markdown",
   "metadata": {},
   "source": [
    "(3)  The following code generates 7 random 5×5 \"anti-symmetric\" (or \"skew-symmetric\") matrices, and prints their determinants. This is a square matrix $A$ with $A^T=−A$. Explain what you observe using the properties of determinants.\n",
    "\n"
   ]
  },
  {
   "cell_type": "code",
   "execution_count": null,
   "metadata": {},
   "outputs": [],
   "source": [
    "using LinearAlgebra\n",
    "n = 5  # you can try changing this too if you want\n",
    "\n",
    "for i = 1:7\n",
    "    A = randn(m,m) # a random m×m matrix\n",
    "    A -= A' # make it skew-symmetric by subtracting its transpose\n",
    "\n",
    "    println(round(det(A),digits=13)) # print determinant, rounded to 13 digits\n",
    "end"
   ]
  },
  {
   "cell_type": "code",
   "execution_count": null,
   "metadata": {},
   "outputs": [],
   "source": []
  }
 ],
 "metadata": {
  "kernelspec": {
   "display_name": "Julia 1.0.0",
   "language": "julia",
   "name": "julia-1.0"
  },
  "language_info": {
   "file_extension": ".jl",
   "mimetype": "application/julia",
   "name": "julia",
   "version": "1.0.0"
  }
 },
 "nbformat": 4,
 "nbformat_minor": 2
}
