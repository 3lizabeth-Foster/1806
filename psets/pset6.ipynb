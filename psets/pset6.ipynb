{
 "cells": [
  {
   "cell_type": "markdown",
   "metadata": {},
   "source": [
    "##### 18.06 Spring2019  pset 6 (under construction, problems 1 through 8 are fixed, 9 and 10 coming soon)\n",
    "## due  Wednesday  3/20 at 10:55am"
   ]
  },
  {
   "cell_type": "markdown",
   "metadata": {},
   "source": [
    "(1) Suppose an mxn matrix A has rank r.  What are the ranks of\n",
    "\n",
    "(A) $A^T$?\n",
    "(B) $AA^T$ ?\n",
    "    (C) $AA^T + \\lambda I$? ($\\lambda>0$)\n",
    "(D) $A^TAA^TA$?"
   ]
  },
  {
   "cell_type": "markdown",
   "metadata": {},
   "source": [
    "(2) (Easy) Without indices show that trace(ABC) = trace(BCA) using trace(XY)=trace(YX) whenever the matrix products make sense."
   ]
  },
  {
   "cell_type": "markdown",
   "metadata": {},
   "source": [
    "(3) A reflector is defined as a matrix of the form  $Q = I -2 uu^T$ where $\\|u\\|=1$. (A) Show that a reflector is orthogonal by showing that Q is symmetric and $Q^2=I$. (B) Explain briefly why this makes $Q$ orthogonal."
   ]
  },
  {
   "cell_type": "markdown",
   "metadata": {},
   "source": [
    "(4) GS p203 13.  Put bases for the subspaces V and W in the columns of matrices A and B.  Show that V and\n",
    "    W are orthogonal subspaces if and only $A^TB$ is the zero matrix.  To be clear <br> (A) Show that if V and W\n",
    "            are orthogonal then $A^TB$ iz zero,  <br> (B)and if  $A^TB$ is the zero matrixm then V and W are orthogonal."
   ]
  },
  {
   "cell_type": "markdown",
   "metadata": {},
   "source": [
    "(5) GS p204 23 : If a subspace $S$ is contained in a subspace $V$, then $S^\\perp$ contains $V^\\perp$."
   ]
  },
  {
   "cell_type": "markdown",
   "metadata": {},
   "source": [
    "(6) GS p.407 Which of these transformations are not linear? The input is $v=(v_1,v_2)$: <br>\n",
    "(a) $T(v)=(v_2,v_1)$ <br>\n",
    "(b) $T(v)=(v_1,v_1)$ <br>\n",
    "(c) $T(v)=(0,v_1)$ <br>\n",
    "(d) $T(v)=(0,1)$ <br>\n",
    "(e) $T(v) = v_2 - v_1 $ <br>\n",
    "(f) $T(v)=v_1v_2$"
   ]
  },
  {
   "cell_type": "markdown",
   "metadata": {},
   "source": [
    "(7) Which of the these transformations is a linear transformation of $ n \\times n$ matrices $X$: \n",
    "(Any matrices A and B are fixed n by n matrices.) <br> \n",
    "(a) $T(X) = X^T$ <br>\n",
    "(b) $T(X) = X^TX$ <br>\n",
    "(c) $T(X) = A.*X$ <br>\n",
    "(d) $T(X) = BXA^T$ <br>\n",
    "(e) $T(X) = AXA$"
   ]
  },
  {
   "cell_type": "markdown",
   "metadata": {},
   "source": [
    "(8) Suppose for polynomials of the form $P(x) = a+bx+cx^2 +dx^3$, we say that $P_1 \\perp P_2$ when\n",
    "    $\\int_0^1 P_1(t) P_2(t) dt$ =0. (a) Explain why this is a natural genaralization of dot product.\n",
    "    (b) Describe the polynomials that are orthogonal to the constants $P(x)=a$. (c) What is the dimensionality\n",
    "    of the set of functions of the form a+bx+cx^2 that are orthogonal constants."
   ]
  },
  {
   "cell_type": "code",
   "execution_count": null,
   "metadata": {},
   "outputs": [],
   "source": []
  }
 ],
 "metadata": {
  "kernelspec": {
   "display_name": "Julia 1.0.0",
   "language": "julia",
   "name": "julia-1.0"
  },
  "language_info": {
   "file_extension": ".jl",
   "mimetype": "application/julia",
   "name": "julia",
   "version": "1.0.0"
  }
 },
 "nbformat": 4,
 "nbformat_minor": 2
}
